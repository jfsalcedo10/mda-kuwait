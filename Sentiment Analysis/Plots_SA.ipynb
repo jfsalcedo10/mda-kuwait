{
 "cells": [
  {
   "cell_type": "code",
   "execution_count": 2,
   "id": "acd8438a",
   "metadata": {
    "ExecuteTime": {
     "end_time": "2022-05-12T14:08:34.197293Z",
     "start_time": "2022-05-12T14:08:29.347745Z"
    }
   },
   "outputs": [],
   "source": [
    "from pathlib import Path\n",
    "from vaderSentiment.vaderSentiment import SentimentIntensityAnalyzer\n",
    "from textblob import TextBlob\n",
    "from datetime import datetime\n",
    "import os\n",
    "import sys\n",
    "import csv\n",
    "import re\n",
    "import stanza\n",
    "import pandas as pd\n",
    "import plotly\n",
    "\n",
    "# Basic paths\n",
    "src_path = str(Path.cwd().parent / \"pdfs\")\n",
    "sys.path.append(src_path)\n",
    "src_path = str(Path.cwd().parent / \"src\")\n",
    "sys.path.append(src_path)\n",
    "\n",
    "project_path = Path().resolve().parent\n",
    "csv_path = project_path / \"speeches_csv\"\n",
    "sa_path = project_path / \"Sentiment Analysis\""
   ]
  },
  {
   "cell_type": "code",
   "execution_count": null,
   "id": "72e127eb",
   "metadata": {
    "ExecuteTime": {
     "end_time": "2022-05-12T10:19:54.980875Z",
     "start_time": "2022-05-12T10:19:54.796384Z"
    }
   },
   "outputs": [],
   "source": [
    "# Adquire the speeches and clean for speeches (not interviews, to deal in the future)\n",
    "df = pd.read_csv(csv_path / \"all_speeches.txt\")\n",
    "OneSpeaker = df[ df[\"highest_speaker_count\"] == 0 ]\n",
    "OneSpeaker.reset_index(drop=True, inplace=True)\n",
    "OneSpeaker"
   ]
  },
  {
   "cell_type": "markdown",
   "id": "372e7215",
   "metadata": {},
   "source": [
    "\n",
    "# Plot the sentiments across time\n",
    "<a> https://plotly.com/python/line-charts/ </a>"
   ]
  },
  {
   "cell_type": "code",
   "execution_count": 3,
   "id": "bc472a35",
   "metadata": {
    "ExecuteTime": {
     "end_time": "2022-05-12T14:08:36.754390Z",
     "start_time": "2022-05-12T14:08:36.691931Z"
    },
    "scrolled": true
   },
   "outputs": [
    {
     "data": {
      "text/html": [
       "<div>\n",
       "<style scoped>\n",
       "    .dataframe tbody tr th:only-of-type {\n",
       "        vertical-align: middle;\n",
       "    }\n",
       "\n",
       "    .dataframe tbody tr th {\n",
       "        vertical-align: top;\n",
       "    }\n",
       "\n",
       "    .dataframe thead th {\n",
       "        text-align: right;\n",
       "    }\n",
       "</style>\n",
       "<table border=\"1\" class=\"dataframe\">\n",
       "  <thead>\n",
       "    <tr style=\"text-align: right;\">\n",
       "      <th></th>\n",
       "      <th>title</th>\n",
       "      <th>date</th>\n",
       "      <th>stanza</th>\n",
       "      <th>textblob</th>\n",
       "      <th>vader</th>\n",
       "    </tr>\n",
       "  </thead>\n",
       "  <tbody>\n",
       "    <tr>\n",
       "      <th>0</th>\n",
       "      <td>Prayer_Breakfast_2016</td>\n",
       "      <td>4 February 2016</td>\n",
       "      <td>0.099</td>\n",
       "      <td>0.178</td>\n",
       "      <td>1.000</td>\n",
       "    </tr>\n",
       "    <tr>\n",
       "      <th>1</th>\n",
       "      <td>Security_Team_Announcement</td>\n",
       "      <td>1 December 2008</td>\n",
       "      <td>0.140</td>\n",
       "      <td>0.162</td>\n",
       "      <td>0.998</td>\n",
       "    </tr>\n",
       "    <tr>\n",
       "      <th>2</th>\n",
       "      <td>Cairo_University</td>\n",
       "      <td>4 June 2009</td>\n",
       "      <td>-0.150</td>\n",
       "      <td>0.110</td>\n",
       "      <td>1.000</td>\n",
       "    </tr>\n",
       "    <tr>\n",
       "      <th>3</th>\n",
       "      <td>Umpqua_Community_College_Shootings</td>\n",
       "      <td>1 October 2015</td>\n",
       "      <td>-0.250</td>\n",
       "      <td>0.061</td>\n",
       "      <td>-0.998</td>\n",
       "    </tr>\n",
       "    <tr>\n",
       "      <th>4</th>\n",
       "      <td>White_House_Correspondent_Dinner_2013</td>\n",
       "      <td>27 April 2013</td>\n",
       "      <td>-0.012</td>\n",
       "      <td>0.145</td>\n",
       "      <td>1.000</td>\n",
       "    </tr>\n",
       "    <tr>\n",
       "      <th>...</th>\n",
       "      <td>...</td>\n",
       "      <td>...</td>\n",
       "      <td>...</td>\n",
       "      <td>...</td>\n",
       "      <td>...</td>\n",
       "    </tr>\n",
       "    <tr>\n",
       "      <th>283</th>\n",
       "      <td>Shimon_Peres_Memorial</td>\n",
       "      <td>30 September 2016</td>\n",
       "      <td>-0.083</td>\n",
       "      <td>0.164</td>\n",
       "      <td>1.000</td>\n",
       "    </tr>\n",
       "    <tr>\n",
       "      <th>284</th>\n",
       "      <td>ASEAN_Business_2015</td>\n",
       "      <td>21 November 2015</td>\n",
       "      <td>-0.050</td>\n",
       "      <td>0.164</td>\n",
       "      <td>1.000</td>\n",
       "    </tr>\n",
       "    <tr>\n",
       "      <th>285</th>\n",
       "      <td>Finance_Crisis_Fee</td>\n",
       "      <td>14 January 2010</td>\n",
       "      <td>-0.412</td>\n",
       "      <td>0.080</td>\n",
       "      <td>0.987</td>\n",
       "    </tr>\n",
       "    <tr>\n",
       "      <th>286</th>\n",
       "      <td>Oval_Office_Counter_Terrorism_Agenda</td>\n",
       "      <td>6 December 2015</td>\n",
       "      <td>-0.134</td>\n",
       "      <td>0.076</td>\n",
       "      <td>-1.000</td>\n",
       "    </tr>\n",
       "    <tr>\n",
       "      <th>287</th>\n",
       "      <td>Michigan_University_Commencement</td>\n",
       "      <td>01 May 2010</td>\n",
       "      <td>-0.152</td>\n",
       "      <td>0.121</td>\n",
       "      <td>1.000</td>\n",
       "    </tr>\n",
       "  </tbody>\n",
       "</table>\n",
       "<p>288 rows × 5 columns</p>\n",
       "</div>"
      ],
      "text/plain": [
       "                                     title               date  stanza  \\\n",
       "0                    Prayer_Breakfast_2016    4 February 2016   0.099   \n",
       "1               Security_Team_Announcement    1 December 2008   0.140   \n",
       "2                         Cairo_University        4 June 2009  -0.150   \n",
       "3       Umpqua_Community_College_Shootings     1 October 2015  -0.250   \n",
       "4    White_House_Correspondent_Dinner_2013      27 April 2013  -0.012   \n",
       "..                                     ...                ...     ...   \n",
       "283                  Shimon_Peres_Memorial  30 September 2016  -0.083   \n",
       "284                    ASEAN_Business_2015   21 November 2015  -0.050   \n",
       "285                     Finance_Crisis_Fee    14 January 2010  -0.412   \n",
       "286   Oval_Office_Counter_Terrorism_Agenda    6 December 2015  -0.134   \n",
       "287       Michigan_University_Commencement        01 May 2010  -0.152   \n",
       "\n",
       "     textblob  vader  \n",
       "0       0.178  1.000  \n",
       "1       0.162  0.998  \n",
       "2       0.110  1.000  \n",
       "3       0.061 -0.998  \n",
       "4       0.145  1.000  \n",
       "..        ...    ...  \n",
       "283     0.164  1.000  \n",
       "284     0.164  1.000  \n",
       "285     0.080  0.987  \n",
       "286     0.076 -1.000  \n",
       "287     0.121  1.000  \n",
       "\n",
       "[288 rows x 5 columns]"
      ]
     },
     "execution_count": 3,
     "metadata": {},
     "output_type": "execute_result"
    }
   ],
   "source": [
    "df = pd.read_csv(sa_path / \"results_sa_date.txt\", infer_datetime_format = True, parse_dates = [\"date\"])\n",
    "df"
   ]
  },
  {
   "cell_type": "code",
   "execution_count": 8,
   "id": "3e9157fc",
   "metadata": {
    "ExecuteTime": {
     "end_time": "2022-05-12T14:10:08.959979Z",
     "start_time": "2022-05-12T14:10:08.946064Z"
    }
   },
   "outputs": [
    {
     "data": {
      "text/plain": [
       "array(['4 February 2016', '1 December 2008', '4 June 2009',\n",
       "       '1 October 2015', '27 April 2013', '30 June 2014', '23 May 2007',\n",
       "       '23 April 2009', '18 December 2009', '16 November 2016',\n",
       "       '27 January 2015', '20 November 2014', '8 January 2009',\n",
       "       '20 July 2012', '27 July 2004', '29 December 2009',\n",
       "       '15 April 2013', '28 December 2009', '8 September 2011',\n",
       "       '10 February 2007', '16 January 2013', '10 November 2007',\n",
       "       '29 April 2014', '20 January 2015', '28 June 2012',\n",
       "       '17 April 2013', '1 July 2010', '21 October 2011',\n",
       "       '25 September 2012', '17 January 2010', '26 February 2013',\n",
       "       '22 June 2011', '14 December 2012', '30 April 2011',\n",
       "       '5 August 2015', '24 September 2013', '20 February 2016',\n",
       "       '10 May 2010', '12 January 2017', '21 March 2011',\n",
       "       '24 February 2009', '2 April 2013', '21 March 2007', '2 June 2010',\n",
       "       '24 January 2009', '18 November 2008', '30 August 2011',\n",
       "       '9 January 20105', '10 April 2014', '25 January 2011',\n",
       "       '27 February 2013', '13 November 2015', '18 June 2015',\n",
       "       '12 February 2013', '22 September 2013', '19 November 2012',\n",
       "       '12 September 2012', '5 December 2013', '31 August 2010',\n",
       "       '30 November 2015', '6 January 2005', '24 May 2013',\n",
       "       '4 January 2017', '2 October 2013', '31 March 2010',\n",
       "       '16 January 2007', '14 May 2009', '10 December 2009',\n",
       "       '10 February 2016', '19 September 2015', '29 October 2012',\n",
       "       '27 January 2010', '2 August 2010', '13 April 2011',\n",
       "       '15 June 2010', '30 March 2011', '20 July 2006', '27 January 2016',\n",
       "       '15 May 2013', '16 March 2016', '14 July 2015', '29 May 2009',\n",
       "       '21 May 2009', '16 June 2010', '11 November 2013',\n",
       "       '11 September 2010', '17 January 2016', '23 September 2015',\n",
       "       '24 June 2015', '14 July 2009', '3 August 2015', '15 June 2009',\n",
       "       '30 October 2012', '23 April 2015', '24 September 2014',\n",
       "       '16 April 2013', '25 September 2015', '25 September 2014',\n",
       "       '11 February 2011', '25 April 2013', '29 April 2010',\n",
       "       '23 June 2009', '3 December 2010', '27 July 2013', '24 July 2008',\n",
       "       '3 June 2008', '22 May 2011', '1 May 2011', '4 June 2005',\n",
       "       '9 May 2009', '9 November 2012', '20 January 2008', '28 May 2010',\n",
       "       '7 February 2011', '20 September 2016', '13 July 2015',\n",
       "       '28 July 2015', '11 September 2009', '18 March 2011',\n",
       "       '3 April 2013', '15 November 2014', '17 January 2014',\n",
       "       '16 October 2011', '5 January 2012', '7 January 2010',\n",
       "       '23 June 2010', '31 January 2006', '17 December 2015',\n",
       "       '14 April 2009', '2 August 2011', '25 May 2011', '21 July 2014',\n",
       "       '28 January 2014', '29 March 2012', '28 May 2014',\n",
       "       '3 February 2011', '21 October 2013', '22 May 2010', '2 June 2016',\n",
       "       '12 December 2015', '2 December 2011', '13 February 2016',\n",
       "       '24 June 2011', '13 January 2015', '14 June 2016', '28 March 2011',\n",
       "       '15 December 2015', '26 March 2014', '7 November 2012',\n",
       "       '20 May 2011', '12 June 2016', '15 April 2010', '16 July 2016',\n",
       "       '3 January 2008', '25 February 2016', '29 August 2009',\n",
       "       '23 February 2016', '14 August 2014', '23 February 2011',\n",
       "       '3 December 2008', '26 February ', '5 January 2010',\n",
       "       '24 January 2012', '6 December 2016', '10 November 2010',\n",
       "       '21 December 2012', '23 November 2013', '18 April 2013',\n",
       "       '4 February 2009', '29 February 2012', '9 June 2016',\n",
       "       '21 September 2011', '5 April 2009', '21 July 2010',\n",
       "       '5 February 2015', '24 November 2008', '11 June 2013',\n",
       "       '15 December 2005', '9 December 2015', '20 March 2010',\n",
       "       '4 March 2012', '24 May 2016', '4 November 2008',\n",
       "       '8 December 2009', '19 September 2016', '10 April 2015',\n",
       "       '12 July 2016', '1 February 2010', '17 December 2014',\n",
       "       '25 June 2015', '7 May 2016', '25 April 2016', '11 February 2015',\n",
       "       '8 November 2010', '16 November 2011', '7 August 2014',\n",
       "       '22 March 2016', '30 May 2011', '16 September 2014',\n",
       "       '28 September 2015', '14 December 2015', '23 April 2012',\n",
       "       '17 December 2011', '3 February 2016', '31 July 2011',\n",
       "       '29 May 2011', '25 July 2011', '13 August 2010', '21 January 2013',\n",
       "       '10 December 2013', '1 December 2009', '10 March 2015',\n",
       "       '18 February 2015', '11 April 2015', '1 January 2015',\n",
       "       '19 September 2011', '24 September 2016', '11 July 2009',\n",
       "       '6 June 2014', '13 March 2007', '19 March 2011', '4 May 2016',\n",
       "       '2 December 2014', '4 February 2010', '18 March 2008',\n",
       "       '10 March 2010', '27 February 2009', '31 August 2013',\n",
       "       '21 March 2013', '16 November 2010', '4 December 2016',\n",
       "       '12 February 2009', '30 March 2015', '7 March 2015',\n",
       "       '22 April 2010', '7 November 2008', '12 January 2016',\n",
       "       '18 January 2008', '19 July 2013', '12 January 2011',\n",
       "       '6 April 2009', '6 December 2011', '13 February 2015',\n",
       "       '2 July 2010', '6 May 2011', '2 May 2013', '4 June 2014',\n",
       "       '3 September 2014', '20 September 2011', '13 March 2010',\n",
       "       '23 September 2009', '25 April 2010', '23 September 2010',\n",
       "       '6 June 2015', '25 October 2005', '12 January 2015', '5 June 2009',\n",
       "       '9 April 2010', '10 September 2014', '28 August 2013',\n",
       "       '10 February 2011', '3 March 2010', '19 May 2011',\n",
       "       '10 December 2015', '27 April 2011', '20 January 2009',\n",
       "       '10 November 2009', '11 September 2016', '23 July 2012',\n",
       "       '9 June 2010', '8 September 2009', '21 March 2010', '27 May 2016',\n",
       "       '19 April 2013', '6 September 2012', '30 September 2016',\n",
       "       '21 November 2015', '14 January 2010', '6 December 2015',\n",
       "       '01 May 2010'], dtype=object)"
      ]
     },
     "execution_count": 8,
     "metadata": {},
     "output_type": "execute_result"
    }
   ],
   "source": [
    "type(df['date'])\n",
    "df['date'].unique()"
   ]
  },
  {
   "cell_type": "code",
   "execution_count": null,
   "id": "939345ff",
   "metadata": {
    "ExecuteTime": {
     "end_time": "2022-05-12T13:42:18.571443Z",
     "start_time": "2022-05-12T13:42:18.559567Z"
    },
    "scrolled": true
   },
   "outputs": [],
   "source": [
    "date_list = df.date.to_list()\n",
    "print(type(date_list))\n",
    "print(type(date_list[0]))"
   ]
  },
  {
   "cell_type": "code",
   "execution_count": 5,
   "id": "f5c237ff",
   "metadata": {
    "ExecuteTime": {
     "end_time": "2022-05-12T14:09:01.918625Z",
     "start_time": "2022-05-12T14:09:01.514378Z"
    }
   },
   "outputs": [
    {
     "ename": "ParserError",
     "evalue": "year 20105 is out of range: 9 January 20105",
     "output_type": "error",
     "traceback": [
      "\u001b[0;31m---------------------------------------------------------------------------\u001b[0m",
      "\u001b[0;31mValueError\u001b[0m                                Traceback (most recent call last)",
      "\u001b[0;32m~/opt/anaconda3/lib/python3.9/site-packages/dateutil/parser/_parser.py\u001b[0m in \u001b[0;36mparse\u001b[0;34m(self, timestr, default, ignoretz, tzinfos, **kwargs)\u001b[0m\n\u001b[1;32m    648\u001b[0m         \u001b[0;32mtry\u001b[0m\u001b[0;34m:\u001b[0m\u001b[0;34m\u001b[0m\u001b[0;34m\u001b[0m\u001b[0m\n\u001b[0;32m--> 649\u001b[0;31m             \u001b[0mret\u001b[0m \u001b[0;34m=\u001b[0m \u001b[0mself\u001b[0m\u001b[0;34m.\u001b[0m\u001b[0m_build_naive\u001b[0m\u001b[0;34m(\u001b[0m\u001b[0mres\u001b[0m\u001b[0;34m,\u001b[0m \u001b[0mdefault\u001b[0m\u001b[0;34m)\u001b[0m\u001b[0;34m\u001b[0m\u001b[0;34m\u001b[0m\u001b[0m\n\u001b[0m\u001b[1;32m    650\u001b[0m         \u001b[0;32mexcept\u001b[0m \u001b[0mValueError\u001b[0m \u001b[0;32mas\u001b[0m \u001b[0me\u001b[0m\u001b[0;34m:\u001b[0m\u001b[0;34m\u001b[0m\u001b[0;34m\u001b[0m\u001b[0m\n",
      "\u001b[0;32m~/opt/anaconda3/lib/python3.9/site-packages/dateutil/parser/_parser.py\u001b[0m in \u001b[0;36m_build_naive\u001b[0;34m(self, res, default)\u001b[0m\n\u001b[1;32m   1234\u001b[0m \u001b[0;34m\u001b[0m\u001b[0m\n\u001b[0;32m-> 1235\u001b[0;31m         \u001b[0mnaive\u001b[0m \u001b[0;34m=\u001b[0m \u001b[0mdefault\u001b[0m\u001b[0;34m.\u001b[0m\u001b[0mreplace\u001b[0m\u001b[0;34m(\u001b[0m\u001b[0;34m**\u001b[0m\u001b[0mrepl\u001b[0m\u001b[0;34m)\u001b[0m\u001b[0;34m\u001b[0m\u001b[0;34m\u001b[0m\u001b[0m\n\u001b[0m\u001b[1;32m   1236\u001b[0m \u001b[0;34m\u001b[0m\u001b[0m\n",
      "\u001b[0;31mValueError\u001b[0m: year 20105 is out of range",
      "\nThe above exception was the direct cause of the following exception:\n",
      "\u001b[0;31mParserError\u001b[0m                               Traceback (most recent call last)",
      "\u001b[0;32m~/opt/anaconda3/lib/python3.9/site-packages/pandas/_libs/tslib.pyx\u001b[0m in \u001b[0;36mpandas._libs.tslib.array_to_datetime\u001b[0;34m()\u001b[0m\n",
      "\u001b[0;32m~/opt/anaconda3/lib/python3.9/site-packages/pandas/_libs/tslibs/parsing.pyx\u001b[0m in \u001b[0;36mpandas._libs.tslibs.parsing.parse_datetime_string\u001b[0;34m()\u001b[0m\n",
      "\u001b[0;32m~/opt/anaconda3/lib/python3.9/site-packages/dateutil/parser/_parser.py\u001b[0m in \u001b[0;36mparse\u001b[0;34m(timestr, parserinfo, **kwargs)\u001b[0m\n\u001b[1;32m   1367\u001b[0m     \u001b[0;32melse\u001b[0m\u001b[0;34m:\u001b[0m\u001b[0;34m\u001b[0m\u001b[0;34m\u001b[0m\u001b[0m\n\u001b[0;32m-> 1368\u001b[0;31m         \u001b[0;32mreturn\u001b[0m \u001b[0mDEFAULTPARSER\u001b[0m\u001b[0;34m.\u001b[0m\u001b[0mparse\u001b[0m\u001b[0;34m(\u001b[0m\u001b[0mtimestr\u001b[0m\u001b[0;34m,\u001b[0m \u001b[0;34m**\u001b[0m\u001b[0mkwargs\u001b[0m\u001b[0;34m)\u001b[0m\u001b[0;34m\u001b[0m\u001b[0;34m\u001b[0m\u001b[0m\n\u001b[0m\u001b[1;32m   1369\u001b[0m \u001b[0;34m\u001b[0m\u001b[0m\n",
      "\u001b[0;32m~/opt/anaconda3/lib/python3.9/site-packages/dateutil/parser/_parser.py\u001b[0m in \u001b[0;36mparse\u001b[0;34m(self, timestr, default, ignoretz, tzinfos, **kwargs)\u001b[0m\n\u001b[1;32m    650\u001b[0m         \u001b[0;32mexcept\u001b[0m \u001b[0mValueError\u001b[0m \u001b[0;32mas\u001b[0m \u001b[0me\u001b[0m\u001b[0;34m:\u001b[0m\u001b[0;34m\u001b[0m\u001b[0;34m\u001b[0m\u001b[0m\n\u001b[0;32m--> 651\u001b[0;31m             \u001b[0msix\u001b[0m\u001b[0;34m.\u001b[0m\u001b[0mraise_from\u001b[0m\u001b[0;34m(\u001b[0m\u001b[0mParserError\u001b[0m\u001b[0;34m(\u001b[0m\u001b[0mstr\u001b[0m\u001b[0;34m(\u001b[0m\u001b[0me\u001b[0m\u001b[0;34m)\u001b[0m \u001b[0;34m+\u001b[0m \u001b[0;34m\": %s\"\u001b[0m\u001b[0;34m,\u001b[0m \u001b[0mtimestr\u001b[0m\u001b[0;34m)\u001b[0m\u001b[0;34m,\u001b[0m \u001b[0me\u001b[0m\u001b[0;34m)\u001b[0m\u001b[0;34m\u001b[0m\u001b[0;34m\u001b[0m\u001b[0m\n\u001b[0m\u001b[1;32m    652\u001b[0m \u001b[0;34m\u001b[0m\u001b[0m\n",
      "\u001b[0;32m~/opt/anaconda3/lib/python3.9/site-packages/six.py\u001b[0m in \u001b[0;36mraise_from\u001b[0;34m(value, from_value)\u001b[0m\n",
      "\u001b[0;31mParserError\u001b[0m: year 20105 is out of range: 9 January 20105",
      "\nDuring handling of the above exception, another exception occurred:\n",
      "\u001b[0;31mTypeError\u001b[0m                                 Traceback (most recent call last)",
      "\u001b[0;32m~/opt/anaconda3/lib/python3.9/site-packages/pandas/_libs/tslib.pyx\u001b[0m in \u001b[0;36mpandas._libs.tslib.array_to_datetime\u001b[0;34m()\u001b[0m\n",
      "\u001b[0;31mTypeError\u001b[0m: invalid string coercion to datetime",
      "\nDuring handling of the above exception, another exception occurred:\n",
      "\u001b[0;31mValueError\u001b[0m                                Traceback (most recent call last)",
      "\u001b[0;32m~/opt/anaconda3/lib/python3.9/site-packages/dateutil/parser/_parser.py\u001b[0m in \u001b[0;36mparse\u001b[0;34m(self, timestr, default, ignoretz, tzinfos, **kwargs)\u001b[0m\n\u001b[1;32m    648\u001b[0m         \u001b[0;32mtry\u001b[0m\u001b[0;34m:\u001b[0m\u001b[0;34m\u001b[0m\u001b[0;34m\u001b[0m\u001b[0m\n\u001b[0;32m--> 649\u001b[0;31m             \u001b[0mret\u001b[0m \u001b[0;34m=\u001b[0m \u001b[0mself\u001b[0m\u001b[0;34m.\u001b[0m\u001b[0m_build_naive\u001b[0m\u001b[0;34m(\u001b[0m\u001b[0mres\u001b[0m\u001b[0;34m,\u001b[0m \u001b[0mdefault\u001b[0m\u001b[0;34m)\u001b[0m\u001b[0;34m\u001b[0m\u001b[0;34m\u001b[0m\u001b[0m\n\u001b[0m\u001b[1;32m    650\u001b[0m         \u001b[0;32mexcept\u001b[0m \u001b[0mValueError\u001b[0m \u001b[0;32mas\u001b[0m \u001b[0me\u001b[0m\u001b[0;34m:\u001b[0m\u001b[0;34m\u001b[0m\u001b[0;34m\u001b[0m\u001b[0m\n",
      "\u001b[0;32m~/opt/anaconda3/lib/python3.9/site-packages/dateutil/parser/_parser.py\u001b[0m in \u001b[0;36m_build_naive\u001b[0;34m(self, res, default)\u001b[0m\n\u001b[1;32m   1234\u001b[0m \u001b[0;34m\u001b[0m\u001b[0m\n\u001b[0;32m-> 1235\u001b[0;31m         \u001b[0mnaive\u001b[0m \u001b[0;34m=\u001b[0m \u001b[0mdefault\u001b[0m\u001b[0;34m.\u001b[0m\u001b[0mreplace\u001b[0m\u001b[0;34m(\u001b[0m\u001b[0;34m**\u001b[0m\u001b[0mrepl\u001b[0m\u001b[0;34m)\u001b[0m\u001b[0;34m\u001b[0m\u001b[0;34m\u001b[0m\u001b[0m\n\u001b[0m\u001b[1;32m   1236\u001b[0m \u001b[0;34m\u001b[0m\u001b[0m\n",
      "\u001b[0;31mValueError\u001b[0m: year 20105 is out of range",
      "\nThe above exception was the direct cause of the following exception:\n",
      "\u001b[0;31mParserError\u001b[0m                               Traceback (most recent call last)",
      "\u001b[0;32m/var/folders/4r/2h8sz4kj77z_nbmkjz44tc380000gn/T/ipykernel_64316/3384679009.py\u001b[0m in \u001b[0;36m<module>\u001b[0;34m\u001b[0m\n\u001b[0;32m----> 1\u001b[0;31m \u001b[0mdf\u001b[0m\u001b[0;34m[\u001b[0m\u001b[0;34m\"date\"\u001b[0m\u001b[0;34m]\u001b[0m \u001b[0;34m=\u001b[0m\u001b[0mpd\u001b[0m\u001b[0;34m.\u001b[0m\u001b[0mto_datetime\u001b[0m\u001b[0;34m(\u001b[0m\u001b[0mdf\u001b[0m\u001b[0;34m[\u001b[0m\u001b[0;34m\"date\"\u001b[0m\u001b[0;34m]\u001b[0m\u001b[0;34m)\u001b[0m\u001b[0;34m\u001b[0m\u001b[0;34m\u001b[0m\u001b[0m\n\u001b[0m",
      "\u001b[0;32m~/opt/anaconda3/lib/python3.9/site-packages/pandas/core/tools/datetimes.py\u001b[0m in \u001b[0;36mto_datetime\u001b[0;34m(arg, errors, dayfirst, yearfirst, utc, format, exact, unit, infer_datetime_format, origin, cache)\u001b[0m\n\u001b[1;32m    885\u001b[0m             \u001b[0mresult\u001b[0m \u001b[0;34m=\u001b[0m \u001b[0marg\u001b[0m\u001b[0;34m.\u001b[0m\u001b[0mmap\u001b[0m\u001b[0;34m(\u001b[0m\u001b[0mcache_array\u001b[0m\u001b[0;34m)\u001b[0m\u001b[0;34m\u001b[0m\u001b[0;34m\u001b[0m\u001b[0m\n\u001b[1;32m    886\u001b[0m         \u001b[0;32melse\u001b[0m\u001b[0;34m:\u001b[0m\u001b[0;34m\u001b[0m\u001b[0;34m\u001b[0m\u001b[0m\n\u001b[0;32m--> 887\u001b[0;31m             \u001b[0mvalues\u001b[0m \u001b[0;34m=\u001b[0m \u001b[0mconvert_listlike\u001b[0m\u001b[0;34m(\u001b[0m\u001b[0marg\u001b[0m\u001b[0;34m.\u001b[0m\u001b[0m_values\u001b[0m\u001b[0;34m,\u001b[0m \u001b[0mformat\u001b[0m\u001b[0;34m)\u001b[0m\u001b[0;34m\u001b[0m\u001b[0;34m\u001b[0m\u001b[0m\n\u001b[0m\u001b[1;32m    888\u001b[0m             \u001b[0mresult\u001b[0m \u001b[0;34m=\u001b[0m \u001b[0marg\u001b[0m\u001b[0;34m.\u001b[0m\u001b[0m_constructor\u001b[0m\u001b[0;34m(\u001b[0m\u001b[0mvalues\u001b[0m\u001b[0;34m,\u001b[0m \u001b[0mindex\u001b[0m\u001b[0;34m=\u001b[0m\u001b[0marg\u001b[0m\u001b[0;34m.\u001b[0m\u001b[0mindex\u001b[0m\u001b[0;34m,\u001b[0m \u001b[0mname\u001b[0m\u001b[0;34m=\u001b[0m\u001b[0marg\u001b[0m\u001b[0;34m.\u001b[0m\u001b[0mname\u001b[0m\u001b[0;34m)\u001b[0m\u001b[0;34m\u001b[0m\u001b[0;34m\u001b[0m\u001b[0m\n\u001b[1;32m    889\u001b[0m     \u001b[0;32melif\u001b[0m \u001b[0misinstance\u001b[0m\u001b[0;34m(\u001b[0m\u001b[0marg\u001b[0m\u001b[0;34m,\u001b[0m \u001b[0;34m(\u001b[0m\u001b[0mABCDataFrame\u001b[0m\u001b[0;34m,\u001b[0m \u001b[0mabc\u001b[0m\u001b[0;34m.\u001b[0m\u001b[0mMutableMapping\u001b[0m\u001b[0;34m)\u001b[0m\u001b[0;34m)\u001b[0m\u001b[0;34m:\u001b[0m\u001b[0;34m\u001b[0m\u001b[0;34m\u001b[0m\u001b[0m\n",
      "\u001b[0;32m~/opt/anaconda3/lib/python3.9/site-packages/pandas/core/tools/datetimes.py\u001b[0m in \u001b[0;36m_convert_listlike_datetimes\u001b[0;34m(arg, format, name, tz, unit, errors, infer_datetime_format, dayfirst, yearfirst, exact)\u001b[0m\n\u001b[1;32m    399\u001b[0m     \u001b[0;32massert\u001b[0m \u001b[0mformat\u001b[0m \u001b[0;32mis\u001b[0m \u001b[0;32mNone\u001b[0m \u001b[0;32mor\u001b[0m \u001b[0minfer_datetime_format\u001b[0m\u001b[0;34m\u001b[0m\u001b[0;34m\u001b[0m\u001b[0m\n\u001b[1;32m    400\u001b[0m     \u001b[0mutc\u001b[0m \u001b[0;34m=\u001b[0m \u001b[0mtz\u001b[0m \u001b[0;34m==\u001b[0m \u001b[0;34m\"utc\"\u001b[0m\u001b[0;34m\u001b[0m\u001b[0;34m\u001b[0m\u001b[0m\n\u001b[0;32m--> 401\u001b[0;31m     result, tz_parsed = objects_to_datetime64ns(\n\u001b[0m\u001b[1;32m    402\u001b[0m         \u001b[0marg\u001b[0m\u001b[0;34m,\u001b[0m\u001b[0;34m\u001b[0m\u001b[0;34m\u001b[0m\u001b[0m\n\u001b[1;32m    403\u001b[0m         \u001b[0mdayfirst\u001b[0m\u001b[0;34m=\u001b[0m\u001b[0mdayfirst\u001b[0m\u001b[0;34m,\u001b[0m\u001b[0;34m\u001b[0m\u001b[0;34m\u001b[0m\u001b[0m\n",
      "\u001b[0;32m~/opt/anaconda3/lib/python3.9/site-packages/pandas/core/arrays/datetimes.py\u001b[0m in \u001b[0;36mobjects_to_datetime64ns\u001b[0;34m(data, dayfirst, yearfirst, utc, errors, require_iso8601, allow_object, allow_mixed)\u001b[0m\n\u001b[1;32m   2191\u001b[0m             \u001b[0;32mreturn\u001b[0m \u001b[0mvalues\u001b[0m\u001b[0;34m.\u001b[0m\u001b[0mview\u001b[0m\u001b[0;34m(\u001b[0m\u001b[0;34m\"i8\"\u001b[0m\u001b[0;34m)\u001b[0m\u001b[0;34m,\u001b[0m \u001b[0mtz_parsed\u001b[0m\u001b[0;34m\u001b[0m\u001b[0;34m\u001b[0m\u001b[0m\n\u001b[1;32m   2192\u001b[0m         \u001b[0;32mexcept\u001b[0m \u001b[0;34m(\u001b[0m\u001b[0mValueError\u001b[0m\u001b[0;34m,\u001b[0m \u001b[0mTypeError\u001b[0m\u001b[0;34m)\u001b[0m\u001b[0;34m:\u001b[0m\u001b[0;34m\u001b[0m\u001b[0;34m\u001b[0m\u001b[0m\n\u001b[0;32m-> 2193\u001b[0;31m             \u001b[0;32mraise\u001b[0m \u001b[0merr\u001b[0m\u001b[0;34m\u001b[0m\u001b[0;34m\u001b[0m\u001b[0m\n\u001b[0m\u001b[1;32m   2194\u001b[0m \u001b[0;34m\u001b[0m\u001b[0m\n\u001b[1;32m   2195\u001b[0m     \u001b[0;32mif\u001b[0m \u001b[0mtz_parsed\u001b[0m \u001b[0;32mis\u001b[0m \u001b[0;32mnot\u001b[0m \u001b[0;32mNone\u001b[0m\u001b[0;34m:\u001b[0m\u001b[0;34m\u001b[0m\u001b[0;34m\u001b[0m\u001b[0m\n",
      "\u001b[0;32m~/opt/anaconda3/lib/python3.9/site-packages/pandas/core/arrays/datetimes.py\u001b[0m in \u001b[0;36mobjects_to_datetime64ns\u001b[0;34m(data, dayfirst, yearfirst, utc, errors, require_iso8601, allow_object, allow_mixed)\u001b[0m\n\u001b[1;32m   2173\u001b[0m     \u001b[0morder\u001b[0m\u001b[0;34m:\u001b[0m \u001b[0mLiteral\u001b[0m\u001b[0;34m[\u001b[0m\u001b[0;34m\"F\"\u001b[0m\u001b[0;34m,\u001b[0m \u001b[0;34m\"C\"\u001b[0m\u001b[0;34m]\u001b[0m \u001b[0;34m=\u001b[0m \u001b[0;34m\"F\"\u001b[0m \u001b[0;32mif\u001b[0m \u001b[0mflags\u001b[0m\u001b[0;34m.\u001b[0m\u001b[0mf_contiguous\u001b[0m \u001b[0;32melse\u001b[0m \u001b[0;34m\"C\"\u001b[0m\u001b[0;34m\u001b[0m\u001b[0;34m\u001b[0m\u001b[0m\n\u001b[1;32m   2174\u001b[0m     \u001b[0;32mtry\u001b[0m\u001b[0;34m:\u001b[0m\u001b[0;34m\u001b[0m\u001b[0;34m\u001b[0m\u001b[0m\n\u001b[0;32m-> 2175\u001b[0;31m         result, tz_parsed = tslib.array_to_datetime(\n\u001b[0m\u001b[1;32m   2176\u001b[0m             \u001b[0mdata\u001b[0m\u001b[0;34m.\u001b[0m\u001b[0mravel\u001b[0m\u001b[0;34m(\u001b[0m\u001b[0;34m\"K\"\u001b[0m\u001b[0;34m)\u001b[0m\u001b[0;34m,\u001b[0m\u001b[0;34m\u001b[0m\u001b[0;34m\u001b[0m\u001b[0m\n\u001b[1;32m   2177\u001b[0m             \u001b[0merrors\u001b[0m\u001b[0;34m=\u001b[0m\u001b[0merrors\u001b[0m\u001b[0;34m,\u001b[0m\u001b[0;34m\u001b[0m\u001b[0;34m\u001b[0m\u001b[0m\n",
      "\u001b[0;32m~/opt/anaconda3/lib/python3.9/site-packages/pandas/_libs/tslib.pyx\u001b[0m in \u001b[0;36mpandas._libs.tslib.array_to_datetime\u001b[0;34m()\u001b[0m\n",
      "\u001b[0;32m~/opt/anaconda3/lib/python3.9/site-packages/pandas/_libs/tslib.pyx\u001b[0m in \u001b[0;36mpandas._libs.tslib.array_to_datetime\u001b[0;34m()\u001b[0m\n",
      "\u001b[0;32m~/opt/anaconda3/lib/python3.9/site-packages/pandas/_libs/tslib.pyx\u001b[0m in \u001b[0;36mpandas._libs.tslib._array_to_datetime_object\u001b[0;34m()\u001b[0m\n",
      "\u001b[0;32m~/opt/anaconda3/lib/python3.9/site-packages/pandas/_libs/tslib.pyx\u001b[0m in \u001b[0;36mpandas._libs.tslib._array_to_datetime_object\u001b[0;34m()\u001b[0m\n",
      "\u001b[0;32m~/opt/anaconda3/lib/python3.9/site-packages/pandas/_libs/tslibs/parsing.pyx\u001b[0m in \u001b[0;36mpandas._libs.tslibs.parsing.parse_datetime_string\u001b[0;34m()\u001b[0m\n",
      "\u001b[0;32m~/opt/anaconda3/lib/python3.9/site-packages/dateutil/parser/_parser.py\u001b[0m in \u001b[0;36mparse\u001b[0;34m(timestr, parserinfo, **kwargs)\u001b[0m\n\u001b[1;32m   1366\u001b[0m         \u001b[0;32mreturn\u001b[0m \u001b[0mparser\u001b[0m\u001b[0;34m(\u001b[0m\u001b[0mparserinfo\u001b[0m\u001b[0;34m)\u001b[0m\u001b[0;34m.\u001b[0m\u001b[0mparse\u001b[0m\u001b[0;34m(\u001b[0m\u001b[0mtimestr\u001b[0m\u001b[0;34m,\u001b[0m \u001b[0;34m**\u001b[0m\u001b[0mkwargs\u001b[0m\u001b[0;34m)\u001b[0m\u001b[0;34m\u001b[0m\u001b[0;34m\u001b[0m\u001b[0m\n\u001b[1;32m   1367\u001b[0m     \u001b[0;32melse\u001b[0m\u001b[0;34m:\u001b[0m\u001b[0;34m\u001b[0m\u001b[0;34m\u001b[0m\u001b[0m\n\u001b[0;32m-> 1368\u001b[0;31m         \u001b[0;32mreturn\u001b[0m \u001b[0mDEFAULTPARSER\u001b[0m\u001b[0;34m.\u001b[0m\u001b[0mparse\u001b[0m\u001b[0;34m(\u001b[0m\u001b[0mtimestr\u001b[0m\u001b[0;34m,\u001b[0m \u001b[0;34m**\u001b[0m\u001b[0mkwargs\u001b[0m\u001b[0;34m)\u001b[0m\u001b[0;34m\u001b[0m\u001b[0;34m\u001b[0m\u001b[0m\n\u001b[0m\u001b[1;32m   1369\u001b[0m \u001b[0;34m\u001b[0m\u001b[0m\n\u001b[1;32m   1370\u001b[0m \u001b[0;34m\u001b[0m\u001b[0m\n",
      "\u001b[0;32m~/opt/anaconda3/lib/python3.9/site-packages/dateutil/parser/_parser.py\u001b[0m in \u001b[0;36mparse\u001b[0;34m(self, timestr, default, ignoretz, tzinfos, **kwargs)\u001b[0m\n\u001b[1;32m    649\u001b[0m             \u001b[0mret\u001b[0m \u001b[0;34m=\u001b[0m \u001b[0mself\u001b[0m\u001b[0;34m.\u001b[0m\u001b[0m_build_naive\u001b[0m\u001b[0;34m(\u001b[0m\u001b[0mres\u001b[0m\u001b[0;34m,\u001b[0m \u001b[0mdefault\u001b[0m\u001b[0;34m)\u001b[0m\u001b[0;34m\u001b[0m\u001b[0;34m\u001b[0m\u001b[0m\n\u001b[1;32m    650\u001b[0m         \u001b[0;32mexcept\u001b[0m \u001b[0mValueError\u001b[0m \u001b[0;32mas\u001b[0m \u001b[0me\u001b[0m\u001b[0;34m:\u001b[0m\u001b[0;34m\u001b[0m\u001b[0;34m\u001b[0m\u001b[0m\n\u001b[0;32m--> 651\u001b[0;31m             \u001b[0msix\u001b[0m\u001b[0;34m.\u001b[0m\u001b[0mraise_from\u001b[0m\u001b[0;34m(\u001b[0m\u001b[0mParserError\u001b[0m\u001b[0;34m(\u001b[0m\u001b[0mstr\u001b[0m\u001b[0;34m(\u001b[0m\u001b[0me\u001b[0m\u001b[0;34m)\u001b[0m \u001b[0;34m+\u001b[0m \u001b[0;34m\": %s\"\u001b[0m\u001b[0;34m,\u001b[0m \u001b[0mtimestr\u001b[0m\u001b[0;34m)\u001b[0m\u001b[0;34m,\u001b[0m \u001b[0me\u001b[0m\u001b[0;34m)\u001b[0m\u001b[0;34m\u001b[0m\u001b[0;34m\u001b[0m\u001b[0m\n\u001b[0m\u001b[1;32m    652\u001b[0m \u001b[0;34m\u001b[0m\u001b[0m\n\u001b[1;32m    653\u001b[0m         \u001b[0;32mif\u001b[0m \u001b[0;32mnot\u001b[0m \u001b[0mignoretz\u001b[0m\u001b[0;34m:\u001b[0m\u001b[0;34m\u001b[0m\u001b[0;34m\u001b[0m\u001b[0m\n",
      "\u001b[0;32m~/opt/anaconda3/lib/python3.9/site-packages/six.py\u001b[0m in \u001b[0;36mraise_from\u001b[0;34m(value, from_value)\u001b[0m\n",
      "\u001b[0;31mParserError\u001b[0m: year 20105 is out of range: 9 January 20105"
     ]
    }
   ],
   "source": [
    "df[\"date\"] =pd.to_datetime(df[\"date\"])"
   ]
  },
  {
   "cell_type": "code",
   "execution_count": null,
   "id": "e997d024",
   "metadata": {},
   "outputs": [],
   "source": [
    "# Import the datetime module\n",
    "from datetime import datetime\n",
    "    \n",
    "# Function to print the data stored in the list \n",
    "def printDates(dates): \n",
    "   \n",
    "    for i in range(len(dates)):  \n",
    "        print(dates[i]) \n",
    "       \n",
    "       \n",
    "if __name__ == \"__main__\":  \n",
    "  \n",
    "    dates =  [\"23 Jun 2018\", \"2 Dec 2017\", \"11 Jun 2018\", \n",
    "              \"01 Jan 2019\", \"10 Jul 2016\", \"01 Jan 2007\"]  \n",
    "      \n",
    "    # Sort the list in ascending order of dates \n",
    "    dates.sort(key = lambda date: datetime.strptime(date, '%d %b %Y'))\n",
    "    \n",
    "    # Print the dates in a sorted order \n",
    "    printDates(dates) "
   ]
  },
  {
   "cell_type": "code",
   "execution_count": null,
   "id": "450c8ceb",
   "metadata": {},
   "outputs": [],
   "source": []
  },
  {
   "cell_type": "code",
   "execution_count": null,
   "id": "a473ef81",
   "metadata": {
    "ExecuteTime": {
     "end_time": "2022-05-12T13:01:37.148401Z",
     "start_time": "2022-05-12T13:01:36.581118Z"
    }
   },
   "outputs": [],
   "source": [
    "import plotly.graph_objects as go\n",
    "import plotly.express as px\n",
    "\n",
    "fig = go.Figure()\n",
    "\n",
    "fig.add_traces(go.Scatter(x=df[\"date\"], y=df[\"stanza\"], name = 'stanza', \n",
    "                         line=dict(color='#636EFA', width=2)))\n",
    "fig.add_traces(go.Scatter(x=df[\"date\"], y=df[\"textblob\"], name = 'textblob', \n",
    "                         line=dict(color= '#EF553B', width=2)))\n",
    "fig.add_traces(go.Scatter(x=df[\"date\"], y=df[\"vader\"], name = 'vader', \n",
    "                         line=dict(color='#00CC96', width=2)))\n",
    "\n",
    "fig.update_layout(title='Sentiment scores over time per method',\n",
    "                   xaxis_title='Date',\n",
    "                   yaxis_title='Sentiment')\n",
    "\n",
    "\n",
    "fig.show()"
   ]
  },
  {
   "cell_type": "code",
   "execution_count": null,
   "id": "aa203a9d",
   "metadata": {},
   "outputs": [],
   "source": []
  }
 ],
 "metadata": {
  "kernelspec": {
   "display_name": "Python 3 (ipykernel)",
   "language": "python",
   "name": "python3"
  },
  "language_info": {
   "codemirror_mode": {
    "name": "ipython",
    "version": 3
   },
   "file_extension": ".py",
   "mimetype": "text/x-python",
   "name": "python",
   "nbconvert_exporter": "python",
   "pygments_lexer": "ipython3",
   "version": "3.9.7"
  },
  "toc": {
   "base_numbering": 1,
   "nav_menu": {},
   "number_sections": true,
   "sideBar": true,
   "skip_h1_title": false,
   "title_cell": "Table of Contents",
   "title_sidebar": "Contents",
   "toc_cell": false,
   "toc_position": {},
   "toc_section_display": true,
   "toc_window_display": true
  },
  "varInspector": {
   "cols": {
    "lenName": 16,
    "lenType": 16,
    "lenVar": 40
   },
   "kernels_config": {
    "python": {
     "delete_cmd_postfix": "",
     "delete_cmd_prefix": "del ",
     "library": "var_list.py",
     "varRefreshCmd": "print(var_dic_list())"
    },
    "r": {
     "delete_cmd_postfix": ") ",
     "delete_cmd_prefix": "rm(",
     "library": "var_list.r",
     "varRefreshCmd": "cat(var_dic_list()) "
    }
   },
   "types_to_exclude": [
    "module",
    "function",
    "builtin_function_or_method",
    "instance",
    "_Feature"
   ],
   "window_display": false
  }
 },
 "nbformat": 4,
 "nbformat_minor": 5
}
