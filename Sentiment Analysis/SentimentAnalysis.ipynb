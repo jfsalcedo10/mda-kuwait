{
 "cells": [
  {
   "cell_type": "markdown",
   "id": "bbb40e16-c3be-4885-8f03-5f33e7778b82",
   "metadata": {},
   "source": [
    "### Sentiment analysis\n",
    "\n",
    "**⛳️ Goal**: Analyzing the sentiments of the speeches using an unsupervised machine learning technique."
   ]
  },
  {
   "cell_type": "code",
   "execution_count": 10,
   "id": "6ed78260-0f96-48c3-8772-dc246be3f0e3",
   "metadata": {
    "ExecuteTime": {
     "end_time": "2022-05-12T10:36:41.838775Z",
     "start_time": "2022-05-12T10:36:31.458884Z"
    }
   },
   "outputs": [],
   "source": [
    "from pathlib import Path\n",
    "from vaderSentiment.vaderSentiment import SentimentIntensityAnalyzer\n",
    "from textblob import TextBlob\n",
    "from datetime import datetime\n",
    "import os\n",
    "import sys\n",
    "import csv\n",
    "import re\n",
    "import stanza\n",
    "import pandas as pd\n",
    "\n",
    "# Basic paths\n",
    "src_path = str(Path.cwd().parent / \"pdfs\")\n",
    "sys.path.append(src_path)\n",
    "src_path = str(Path.cwd().parent / \"src\")\n",
    "sys.path.append(src_path)\n",
    "\n",
    "project_path = Path().resolve().parent\n",
    "csv_path = project_path / \"speeches_csv\"\n",
    "\n",
    "# Other basics\n",
    "stanza.download('en',verbose=False)"
   ]
  },
  {
   "cell_type": "code",
   "execution_count": 11,
   "id": "170cb373-ea8a-46ec-bfe0-f63c671b416f",
   "metadata": {
    "ExecuteTime": {
     "end_time": "2022-05-12T10:36:42.703113Z",
     "start_time": "2022-05-12T10:36:42.625089Z"
    }
   },
   "outputs": [],
   "source": [
    "# Functions to call the models\n",
    "\n",
    "# Stanza\n",
    "def stanza_fn (string, j, max_j):\n",
    "    now = datetime.now()\n",
    "    time = now.strftime(\"%H:%M:%S\")\n",
    "    if j == 0:\n",
    "        print(f\"Stanza starts working at {time}\")\n",
    "    print(f\"\\rStanza working in speech {j} at {time}\", end=\"\")         # This reprint the line in the same space\n",
    "        \n",
    "    nlp = stanza.Pipeline('en', processors='tokenize, mwt, pos, lemma, depparse,sentiment',\n",
    "                           use_gpu=False, verbose=False, pos_batch_size=3000) \n",
    "    doc = nlp(string)\n",
    "    doc_sent = []\n",
    "    for i, sentence in enumerate(doc.sentences):        \n",
    "        doc_sent.append(sentence.sentiment)\n",
    "    result = (sum(doc_sent)/len(doc_sent)) - 1        # Change the reference\n",
    "    \n",
    "    time = now.strftime(\"%H:%M:%S\")\n",
    "    if j == max_j:\n",
    "        print(f\"\\nStanza finished working at {time}\")\n",
    "            \n",
    "    return result          # 0 negative, 1 neutral, 2 positive. Now -1 negative, 0 neutral, 1 positive\n",
    "\n",
    "\n",
    "# TextBlob\n",
    "def textblob_fn (string, j, max_j):\n",
    "    now = datetime.now()\n",
    "    time = now.strftime(\"%H:%M:%S\")\n",
    "    if j == 0:\n",
    "        print(f\"TextBlob starts working at {time}\")\n",
    "    print(f\"\\rTextBlob working in speech {j} at {time}\", end=\"\")      # This reprint the line in the same space\n",
    "        \n",
    "    tb_speech = TextBlob(string)\n",
    "    result = round(tb_speech.polarity, 3)\n",
    "    \n",
    "    time = now.strftime(\"%H:%M:%S\")\n",
    "    if j == max_j:\n",
    "        print(f\"\\nTextBlob finished working at {time}\")\n",
    "    \n",
    "    return result          # -1 negative, 1 positive\n",
    "\n",
    "\n",
    "# Vader\n",
    "def vader_fn (string, j, max_j):\n",
    "    now = datetime.now()\n",
    "    time = now.strftime(\"%H:%M:%S\")\n",
    "    if j == 0:\n",
    "        print(f\"Vader starts working at {time}\")\n",
    "    print(f\"\\rVader working in speech {j} at {time}\", end=\"\")        # This reprint the line in the same space\n",
    "        \n",
    "    analyser = SentimentIntensityAnalyzer()\n",
    "    score = analyser.polarity_scores(string)\n",
    "    result = score[\"compound\"]                                       # Author says that is the main statistic you need to see (-1 negative, 1 positive, between -0.05 and 0.05 neutral)\n",
    "    \n",
    "    time = now.strftime(\"%H:%M:%S\")\n",
    "    if j == max_j:\n",
    "        print(f\"\\nVader finished working at {time}\")\n",
    "        \n",
    "    return result\n"
   ]
  },
  {
   "cell_type": "code",
   "execution_count": 12,
   "id": "8a4af8d6-b230-4a52-bbe0-2161645a4866",
   "metadata": {
    "ExecuteTime": {
     "end_time": "2022-05-12T10:36:43.872846Z",
     "start_time": "2022-05-12T10:36:43.216799Z"
    }
   },
   "outputs": [
    {
     "data": {
      "text/html": [
       "<div>\n",
       "<style scoped>\n",
       "    .dataframe tbody tr th:only-of-type {\n",
       "        vertical-align: middle;\n",
       "    }\n",
       "\n",
       "    .dataframe tbody tr th {\n",
       "        vertical-align: top;\n",
       "    }\n",
       "\n",
       "    .dataframe thead th {\n",
       "        text-align: right;\n",
       "    }\n",
       "</style>\n",
       "<table border=\"1\" class=\"dataframe\">\n",
       "  <thead>\n",
       "    <tr style=\"text-align: right;\">\n",
       "      <th></th>\n",
       "      <th>title</th>\n",
       "      <th>pages</th>\n",
       "      <th>date</th>\n",
       "      <th>location</th>\n",
       "      <th>highest_speaker_count</th>\n",
       "      <th>content</th>\n",
       "    </tr>\n",
       "  </thead>\n",
       "  <tbody>\n",
       "    <tr>\n",
       "      <th>0</th>\n",
       "      <td>Prayer_Breakfast_2016</td>\n",
       "      <td>7</td>\n",
       "      <td>4 February 2016</td>\n",
       "      <td>Washington Hilton, Washington, D.C.</td>\n",
       "      <td>0</td>\n",
       "      <td>Well, good morning. Giving all praise and hono...</td>\n",
       "    </tr>\n",
       "    <tr>\n",
       "      <th>1</th>\n",
       "      <td>Security_Team_Announcement</td>\n",
       "      <td>5</td>\n",
       "      <td>1 December 2008</td>\n",
       "      <td>Chicago, Illinois</td>\n",
       "      <td>0</td>\n",
       "      <td>Good morning, everybody. I hope you all had a ...</td>\n",
       "    </tr>\n",
       "    <tr>\n",
       "      <th>2</th>\n",
       "      <td>Cairo_University</td>\n",
       "      <td>14</td>\n",
       "      <td>4 June 2009</td>\n",
       "      <td>Cairo, Egypt</td>\n",
       "      <td>0</td>\n",
       "      <td>Thank you so much. Good afternoon. I am honore...</td>\n",
       "    </tr>\n",
       "    <tr>\n",
       "      <th>3</th>\n",
       "      <td>Umpqua_Community_College_Shootings</td>\n",
       "      <td>4</td>\n",
       "      <td>1 October 2015</td>\n",
       "      <td>Washington, D.C.</td>\n",
       "      <td>0</td>\n",
       "      <td>There's been another mass shooting in America ...</td>\n",
       "    </tr>\n",
       "    <tr>\n",
       "      <th>4</th>\n",
       "      <td>White_House_Correspondent_Dinner_2013</td>\n",
       "      <td>6</td>\n",
       "      <td>27 April 2013</td>\n",
       "      <td>Washington Hilton Hotel, Washington, D.C.</td>\n",
       "      <td>0</td>\n",
       "      <td>Thank you. Thank you, everybody. How do you li...</td>\n",
       "    </tr>\n",
       "    <tr>\n",
       "      <th>...</th>\n",
       "      <td>...</td>\n",
       "      <td>...</td>\n",
       "      <td>...</td>\n",
       "      <td>...</td>\n",
       "      <td>...</td>\n",
       "      <td>...</td>\n",
       "    </tr>\n",
       "    <tr>\n",
       "      <th>283</th>\n",
       "      <td>Shimon_Peres_Memorial</td>\n",
       "      <td>6</td>\n",
       "      <td>30 September 2016</td>\n",
       "      <td>Mount Herzl, Jerusalem, Israel</td>\n",
       "      <td>0</td>\n",
       "      <td>Zvia, Yoni, Chemi and generations of the Peres...</td>\n",
       "    </tr>\n",
       "    <tr>\n",
       "      <th>284</th>\n",
       "      <td>ASEAN_Business_2015</td>\n",
       "      <td>9</td>\n",
       "      <td>21 November 2015</td>\n",
       "      <td>Shangri-La Hotel, Kuala Lumpur, Malaysia</td>\n",
       "      <td>0</td>\n",
       "      <td>Thank you so much. Please be seated. Well, goo...</td>\n",
       "    </tr>\n",
       "    <tr>\n",
       "      <th>285</th>\n",
       "      <td>Finance_Crisis_Fee</td>\n",
       "      <td>3</td>\n",
       "      <td>14 January 2010</td>\n",
       "      <td>unknown_location</td>\n",
       "      <td>0</td>\n",
       "      <td>Thank you, everybody, for being here. As we al...</td>\n",
       "    </tr>\n",
       "    <tr>\n",
       "      <th>286</th>\n",
       "      <td>Oval_Office_Counter_Terrorism_Agenda</td>\n",
       "      <td>5</td>\n",
       "      <td>6 December 2015</td>\n",
       "      <td>Oval Office, The White House</td>\n",
       "      <td>0</td>\n",
       "      <td>Good evening. On Wednesday, 14 Americans were ...</td>\n",
       "    </tr>\n",
       "    <tr>\n",
       "      <th>287</th>\n",
       "      <td>Michigan_University_Commencement</td>\n",
       "      <td>8</td>\n",
       "      <td>01 May 2010</td>\n",
       "      <td>unknown_location</td>\n",
       "      <td>0</td>\n",
       "      <td>It is great to be here in The Big House -- and...</td>\n",
       "    </tr>\n",
       "  </tbody>\n",
       "</table>\n",
       "<p>288 rows × 6 columns</p>\n",
       "</div>"
      ],
      "text/plain": [
       "                                     title  pages               date  \\\n",
       "0                    Prayer_Breakfast_2016      7    4 February 2016   \n",
       "1               Security_Team_Announcement      5    1 December 2008   \n",
       "2                         Cairo_University     14        4 June 2009   \n",
       "3       Umpqua_Community_College_Shootings      4     1 October 2015   \n",
       "4    White_House_Correspondent_Dinner_2013      6      27 April 2013   \n",
       "..                                     ...    ...                ...   \n",
       "283                  Shimon_Peres_Memorial      6  30 September 2016   \n",
       "284                    ASEAN_Business_2015      9   21 November 2015   \n",
       "285                     Finance_Crisis_Fee      3    14 January 2010   \n",
       "286   Oval_Office_Counter_Terrorism_Agenda      5    6 December 2015   \n",
       "287       Michigan_University_Commencement      8        01 May 2010   \n",
       "\n",
       "                                      location  highest_speaker_count  \\\n",
       "0          Washington Hilton, Washington, D.C.                      0   \n",
       "1                            Chicago, Illinois                      0   \n",
       "2                                 Cairo, Egypt                      0   \n",
       "3                             Washington, D.C.                      0   \n",
       "4    Washington Hilton Hotel, Washington, D.C.                      0   \n",
       "..                                         ...                    ...   \n",
       "283             Mount Herzl, Jerusalem, Israel                      0   \n",
       "284   Shangri-La Hotel, Kuala Lumpur, Malaysia                      0   \n",
       "285                           unknown_location                      0   \n",
       "286               Oval Office, The White House                      0   \n",
       "287                           unknown_location                      0   \n",
       "\n",
       "                                               content  \n",
       "0    Well, good morning. Giving all praise and hono...  \n",
       "1    Good morning, everybody. I hope you all had a ...  \n",
       "2    Thank you so much. Good afternoon. I am honore...  \n",
       "3    There's been another mass shooting in America ...  \n",
       "4    Thank you. Thank you, everybody. How do you li...  \n",
       "..                                                 ...  \n",
       "283  Zvia, Yoni, Chemi and generations of the Peres...  \n",
       "284  Thank you so much. Please be seated. Well, goo...  \n",
       "285  Thank you, everybody, for being here. As we al...  \n",
       "286  Good evening. On Wednesday, 14 Americans were ...  \n",
       "287  It is great to be here in The Big House -- and...  \n",
       "\n",
       "[288 rows x 6 columns]"
      ]
     },
     "execution_count": 12,
     "metadata": {},
     "output_type": "execute_result"
    }
   ],
   "source": [
    "# Adquire the speeches and clean for speeches (not interviews, to deal in the future)\n",
    "df = pd.read_csv(csv_path / \"all_speeches.txt\")\n",
    "OneSpeaker = df[ df[\"highest_speaker_count\"] == 0 ]\n",
    "OneSpeaker.reset_index(drop=True, inplace=True)\n",
    "OneSpeaker"
   ]
  },
  {
   "cell_type": "code",
   "execution_count": 13,
   "id": "aebaed46-7c7b-4a52-a848-62f061a0f6d0",
   "metadata": {
    "ExecuteTime": {
     "end_time": "2022-05-12T10:36:44.420010Z",
     "start_time": "2022-05-12T10:36:44.377982Z"
    }
   },
   "outputs": [],
   "source": [
    "# Test how to apply a function in a pandas dataframe and not break stuff (check cell 2 for context)\n",
    "def clean_txt(string):\n",
    "    string = string.replace(\" -- \", \", \")\n",
    "    return string\n",
    "\n",
    "## This is to replace the content column in pandas\n",
    "## Pandas is stupid and has issues with naming things with the same variable name\n",
    "a = OneSpeaker[\"content\"].map(lambda x: clean_txt(x))\n",
    "a = a.to_list()\n",
    "OneSpeaker = OneSpeaker.assign(content = a)"
   ]
  },
  {
   "cell_type": "code",
   "execution_count": 14,
   "id": "0cc86e3b-5819-4f82-85fb-15ca0f9543c2",
   "metadata": {
    "ExecuteTime": {
     "end_time": "2022-05-12T10:36:44.821144Z",
     "start_time": "2022-05-12T10:36:44.815813Z"
    }
   },
   "outputs": [],
   "source": [
    "# Apply the sentiment model function to all content and get a score dataframe\n",
    "\n",
    "cont_save = OneSpeaker[\"content\"].to_list()\n",
    "stop = len(cont_save)       # Change this to use all dataset"
   ]
  },
  {
   "cell_type": "code",
   "execution_count": 16,
   "id": "b460425e-ef6f-4866-af9f-307778ec652f",
   "metadata": {
    "ExecuteTime": {
     "end_time": "2022-05-12T12:36:33.464216Z",
     "start_time": "2022-05-12T10:43:50.058289Z"
    }
   },
   "outputs": [
    {
     "name": "stdout",
     "output_type": "stream",
     "text": [
      "Stanza starts working at 12:43:50\n",
      "Stanza working in speech 287 at 14:35:22\n",
      "Stanza finished working at 14:35:22\n"
     ]
    }
   ],
   "source": [
    "# Run the Stanza sentiment analysis processor\n",
    "# Warning: It takes a lot of time!! \n",
    "st = [ stanza_fn(cont_save[i], i, stop-1) for i in range(stop) ]   # The minus one if because python starts at 0"
   ]
  },
  {
   "cell_type": "code",
   "execution_count": 17,
   "id": "a6d55fc0-32f6-483d-9963-42bb795fc3de",
   "metadata": {
    "ExecuteTime": {
     "end_time": "2022-05-12T12:51:08.780679Z",
     "start_time": "2022-05-12T12:51:03.129299Z"
    }
   },
   "outputs": [
    {
     "name": "stdout",
     "output_type": "stream",
     "text": [
      "TextBlob starts working at 14:51:03\n",
      "TextBlob working in speech 287 at 14:51:08\n",
      "TextBlob finished working at 14:51:08\n"
     ]
    }
   ],
   "source": [
    "# Run the TextBlob sentiment analysis processor\n",
    "# Quick to run\n",
    "tb = [ textblob_fn(cont_save[i], i, stop-1) for i in range(stop) ] # The minus one if because python starts at 0"
   ]
  },
  {
   "cell_type": "code",
   "execution_count": 18,
   "id": "9ea6c464-f402-469a-93d7-d5a1122afeeb",
   "metadata": {
    "ExecuteTime": {
     "end_time": "2022-05-12T12:54:41.170515Z",
     "start_time": "2022-05-12T12:51:11.364042Z"
    }
   },
   "outputs": [
    {
     "name": "stdout",
     "output_type": "stream",
     "text": [
      "Vader starts working at 14:51:11\n",
      "Vader working in speech 287 at 14:54:40\n",
      "Vader finished working at 14:54:40\n"
     ]
    }
   ],
   "source": [
    "# Run the Vader sentiment analysis processor\n",
    "# Warning: Faster than Stanza, slower than Textblob\n",
    "vd = [ vader_fn(cont_save[i], i, stop-1) for i in range(stop) ]    # The minus one if because python starts at 0"
   ]
  },
  {
   "cell_type": "code",
   "execution_count": 19,
   "id": "5e1c4b05-55a1-4db8-a6a2-1c63d6c5004b",
   "metadata": {
    "ExecuteTime": {
     "end_time": "2022-05-12T12:55:16.957135Z",
     "start_time": "2022-05-12T12:55:16.902797Z"
    }
   },
   "outputs": [
    {
     "data": {
      "text/html": [
       "<div>\n",
       "<style scoped>\n",
       "    .dataframe tbody tr th:only-of-type {\n",
       "        vertical-align: middle;\n",
       "    }\n",
       "\n",
       "    .dataframe tbody tr th {\n",
       "        vertical-align: top;\n",
       "    }\n",
       "\n",
       "    .dataframe thead th {\n",
       "        text-align: right;\n",
       "    }\n",
       "</style>\n",
       "<table border=\"1\" class=\"dataframe\">\n",
       "  <thead>\n",
       "    <tr style=\"text-align: right;\">\n",
       "      <th></th>\n",
       "      <th>title</th>\n",
       "      <th>date</th>\n",
       "      <th>stanza</th>\n",
       "      <th>textblob</th>\n",
       "      <th>vader</th>\n",
       "    </tr>\n",
       "  </thead>\n",
       "  <tbody>\n",
       "    <tr>\n",
       "      <th>0</th>\n",
       "      <td>Prayer_Breakfast_2016</td>\n",
       "      <td>4 February 2016</td>\n",
       "      <td>0.099</td>\n",
       "      <td>0.178</td>\n",
       "      <td>1.000</td>\n",
       "    </tr>\n",
       "    <tr>\n",
       "      <th>1</th>\n",
       "      <td>Security_Team_Announcement</td>\n",
       "      <td>1 December 2008</td>\n",
       "      <td>0.140</td>\n",
       "      <td>0.162</td>\n",
       "      <td>0.998</td>\n",
       "    </tr>\n",
       "    <tr>\n",
       "      <th>2</th>\n",
       "      <td>Cairo_University</td>\n",
       "      <td>4 June 2009</td>\n",
       "      <td>-0.150</td>\n",
       "      <td>0.110</td>\n",
       "      <td>1.000</td>\n",
       "    </tr>\n",
       "    <tr>\n",
       "      <th>3</th>\n",
       "      <td>Umpqua_Community_College_Shootings</td>\n",
       "      <td>1 October 2015</td>\n",
       "      <td>-0.250</td>\n",
       "      <td>0.061</td>\n",
       "      <td>-0.998</td>\n",
       "    </tr>\n",
       "    <tr>\n",
       "      <th>4</th>\n",
       "      <td>White_House_Correspondent_Dinner_2013</td>\n",
       "      <td>27 April 2013</td>\n",
       "      <td>-0.012</td>\n",
       "      <td>0.145</td>\n",
       "      <td>1.000</td>\n",
       "    </tr>\n",
       "    <tr>\n",
       "      <th>...</th>\n",
       "      <td>...</td>\n",
       "      <td>...</td>\n",
       "      <td>...</td>\n",
       "      <td>...</td>\n",
       "      <td>...</td>\n",
       "    </tr>\n",
       "    <tr>\n",
       "      <th>283</th>\n",
       "      <td>Shimon_Peres_Memorial</td>\n",
       "      <td>30 September 2016</td>\n",
       "      <td>-0.083</td>\n",
       "      <td>0.164</td>\n",
       "      <td>1.000</td>\n",
       "    </tr>\n",
       "    <tr>\n",
       "      <th>284</th>\n",
       "      <td>ASEAN_Business_2015</td>\n",
       "      <td>21 November 2015</td>\n",
       "      <td>-0.050</td>\n",
       "      <td>0.164</td>\n",
       "      <td>1.000</td>\n",
       "    </tr>\n",
       "    <tr>\n",
       "      <th>285</th>\n",
       "      <td>Finance_Crisis_Fee</td>\n",
       "      <td>14 January 2010</td>\n",
       "      <td>-0.412</td>\n",
       "      <td>0.080</td>\n",
       "      <td>0.987</td>\n",
       "    </tr>\n",
       "    <tr>\n",
       "      <th>286</th>\n",
       "      <td>Oval_Office_Counter_Terrorism_Agenda</td>\n",
       "      <td>6 December 2015</td>\n",
       "      <td>-0.134</td>\n",
       "      <td>0.076</td>\n",
       "      <td>-1.000</td>\n",
       "    </tr>\n",
       "    <tr>\n",
       "      <th>287</th>\n",
       "      <td>Michigan_University_Commencement</td>\n",
       "      <td>01 May 2010</td>\n",
       "      <td>-0.152</td>\n",
       "      <td>0.121</td>\n",
       "      <td>1.000</td>\n",
       "    </tr>\n",
       "  </tbody>\n",
       "</table>\n",
       "<p>288 rows × 5 columns</p>\n",
       "</div>"
      ],
      "text/plain": [
       "                                     title               date  stanza  \\\n",
       "0                    Prayer_Breakfast_2016    4 February 2016   0.099   \n",
       "1               Security_Team_Announcement    1 December 2008   0.140   \n",
       "2                         Cairo_University        4 June 2009  -0.150   \n",
       "3       Umpqua_Community_College_Shootings     1 October 2015  -0.250   \n",
       "4    White_House_Correspondent_Dinner_2013      27 April 2013  -0.012   \n",
       "..                                     ...                ...     ...   \n",
       "283                  Shimon_Peres_Memorial  30 September 2016  -0.083   \n",
       "284                    ASEAN_Business_2015   21 November 2015  -0.050   \n",
       "285                     Finance_Crisis_Fee    14 January 2010  -0.412   \n",
       "286   Oval_Office_Counter_Terrorism_Agenda    6 December 2015  -0.134   \n",
       "287       Michigan_University_Commencement        01 May 2010  -0.152   \n",
       "\n",
       "     textblob  vader  \n",
       "0       0.178  1.000  \n",
       "1       0.162  0.998  \n",
       "2       0.110  1.000  \n",
       "3       0.061 -0.998  \n",
       "4       0.145  1.000  \n",
       "..        ...    ...  \n",
       "283     0.164  1.000  \n",
       "284     0.164  1.000  \n",
       "285     0.080  0.987  \n",
       "286     0.076 -1.000  \n",
       "287     0.121  1.000  \n",
       "\n",
       "[288 rows x 5 columns]"
      ]
     },
     "execution_count": 19,
     "metadata": {},
     "output_type": "execute_result"
    }
   ],
   "source": [
    "# Organize the result and display them as dataframe\n",
    "st = [ round(num, 3) for num in st]\n",
    "vd = [ round(num, 3) for num in vd]\n",
    "\n",
    "summary_data = {\"title\": OneSpeaker[\"title\"].to_list(),\n",
    "                \"date\": OneSpeaker[\"date\"].to_list(),\n",
    "                \"stanza\": st,\n",
    "                \"textblob\": tb,\n",
    "                \"vader\": vd} \n",
    "\n",
    "summary_df = pd.DataFrame(summary_data)\n",
    "summary_df"
   ]
  },
  {
   "cell_type": "code",
   "execution_count": 20,
   "id": "caaef070-30a0-4b03-ae74-fc6439f36cab",
   "metadata": {
    "ExecuteTime": {
     "end_time": "2022-05-12T12:55:32.443046Z",
     "start_time": "2022-05-12T12:55:32.337032Z"
    }
   },
   "outputs": [],
   "source": [
    "# Save the results as csv \n",
    "save_path = project_path / \"Sentiment Analysis\"\n",
    "\n",
    "summary_df.to_csv(save_path / \"results_sa_date.txt\", index=False)"
   ]
  },
  {
   "cell_type": "markdown",
   "id": "c607d330-66ec-490a-96b6-a9445fa141f2",
   "metadata": {},
   "source": [
    "### Ideas to do before next reunion\n",
    "- Check why VADER gave different results\n",
    "- Maybe plot something with this\n",
    "- Maybe do an exploration on the most common words (and their synonyms) to explain the sentiment or correlate speeches\n",
    "- Explore external parameters to explain the mood"
   ]
  },
  {
   "cell_type": "code",
   "execution_count": null,
   "id": "0d6cfe17",
   "metadata": {},
   "outputs": [],
   "source": []
  }
 ],
 "metadata": {
  "kernelspec": {
   "display_name": "Python 3 (ipykernel)",
   "language": "python",
   "name": "python3"
  },
  "language_info": {
   "codemirror_mode": {
    "name": "ipython",
    "version": 3
   },
   "file_extension": ".py",
   "mimetype": "text/x-python",
   "name": "python",
   "nbconvert_exporter": "python",
   "pygments_lexer": "ipython3",
   "version": "3.9.7"
  },
  "toc": {
   "base_numbering": 1,
   "nav_menu": {},
   "number_sections": true,
   "sideBar": true,
   "skip_h1_title": false,
   "title_cell": "Table of Contents",
   "title_sidebar": "Contents",
   "toc_cell": false,
   "toc_position": {},
   "toc_section_display": true,
   "toc_window_display": false
  },
  "varInspector": {
   "cols": {
    "lenName": 16,
    "lenType": 16,
    "lenVar": 40
   },
   "kernels_config": {
    "python": {
     "delete_cmd_postfix": "",
     "delete_cmd_prefix": "del ",
     "library": "var_list.py",
     "varRefreshCmd": "print(var_dic_list())"
    },
    "r": {
     "delete_cmd_postfix": ") ",
     "delete_cmd_prefix": "rm(",
     "library": "var_list.r",
     "varRefreshCmd": "cat(var_dic_list()) "
    }
   },
   "types_to_exclude": [
    "module",
    "function",
    "builtin_function_or_method",
    "instance",
    "_Feature"
   ],
   "window_display": false
  }
 },
 "nbformat": 4,
 "nbformat_minor": 5
}
