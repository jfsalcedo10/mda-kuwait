{
 "cells": [
  {
   "cell_type": "markdown",
   "id": "81ac4bed",
   "metadata": {},
   "source": [
    "Download all PDFs."
   ]
  },
  {
   "cell_type": "code",
   "execution_count": 1,
   "id": "6b382371",
   "metadata": {},
   "outputs": [],
   "source": [
    "from pathlib import Path\n",
    "import requests\n",
    "from bs4 import BeautifulSoup as bs\n",
    "from urllib.request import urlopen\n",
    "import urllib.request \n",
    "from pprint import pprint"
   ]
  },
  {
   "cell_type": "markdown",
   "id": "4d1a0474",
   "metadata": {},
   "source": [
    "The following functions are modified code from these sources: https://www.geeksforgeeks.org/downloading-pdfs-with-python-using-requests-and-beautifulsoup/, https://github.com/nhammad/PDFDownloader"
   ]
  },
  {
   "cell_type": "code",
   "execution_count": 2,
   "id": "0f02a736",
   "metadata": {},
   "outputs": [],
   "source": [
    "def get_pdfs(my_url):\n",
    "    html = urlopen(my_url).read()\n",
    "    html_page = bs(html, 'html.parser') \n",
    "    \n",
    "    links = []\n",
    "    for link in html_page.find_all('a'):\n",
    "        current_link = link.get('href')\n",
    "        if current_link.endswith('pdf'):\n",
    "            links.append(r\"https://www.americanrhetoric.com/\" + current_link)\n",
    "\n",
    "    return links\n",
    "\n",
    "\n",
    "def download_pdfs(links, path):\n",
    "    i=1\n",
    "    for link in links:\n",
    "        # User-Agent needs to be inlcuded to avoid a 403 error\n",
    "        headers = {\"User-Agent\" : \"Mozilla/5.0 (Windows NT 10.0; Win64; x64; rv:99.0) Gecko/20100101 Firefox/99.0\"}\n",
    "        response = requests.get(link, headers=headers)\n",
    "        \n",
    "        # Write content in pdf file\n",
    "        filename = Path(link).parts[-1]\n",
    "        pat = re.compile(r\"%20\")\n",
    "        filename = pat.sub(r\"_\", filename)\n",
    "        if filename.count('-') == 1:\n",
    "            filename = filename.split(\"-\")[1].strip()[1:]\n",
    "        pdf = open(path / filename, 'wb')\n",
    "        pdf.write(response.content)\n",
    "        pdf.close()\n",
    "        print(\"File \", i, \" downloaded\")\n",
    "        i += 1\n",
    "      \n",
    "    print(\"All PDF files downloaded\")\n"
   ]
  },
  {
   "cell_type": "markdown",
   "id": "8304a8f0",
   "metadata": {},
   "source": [
    "Get the urls of the PDFs and store them in a list."
   ]
  },
  {
   "cell_type": "code",
   "execution_count": 4,
   "id": "20494c2d",
   "metadata": {},
   "outputs": [
    {
     "name": "stdout",
     "output_type": "stream",
     "text": [
      "First 10 urls:\n",
      "\n",
      "['https://www.americanrhetoric.com/speeches/PDFFiles/Barack%20Obama%20-%202004%20DNC%20Address.pdf',\n",
      " 'https://www.americanrhetoric.com/speeches/PDFFiles/Barack%20Obama%20-%20Senate%20Speech%20on%20Ohio%20Electoral%20Vote.pdf',\n",
      " 'https://www.americanrhetoric.com/speeches/PDFFiles/Barack%20Obama%20-%20Knox%20College%20Commencement.pdf',\n",
      " 'https://www.americanrhetoric.com/speeches/PDFFiles/Barack%20Obama%20-%20Rosa%20Parks.pdf',\n",
      " 'https://www.americanrhetoric.com/speeches/PDFFiles/Barack%20Obama%20-%20Senate%20Floor%20Speech%20on%20the%20Patriot%20Act.pdf',\n",
      " 'https://www.americanrhetoric.com/speeches/PDFFiles/Barack%20Obama%20-%20Senate%20Floor%20Coretta%20King.pdf',\n",
      " 'https://www.americanrhetoric.com/speeches/PDFFiles/Barack%20Obama%20-%20Senate%20Floor%20Speech%20on%20Voting%20Rights%20Act%20Renewal.pdf',\n",
      " 'https://www.americanrhetoric.com/speeches/PDFFiles/Barack%20Obama%20-%20Candidate%20Exploratory%20Announcement.pdf',\n",
      " 'https://www.americanrhetoric.com/speeches/PDFFiles/Barack%20Obama%20-%20Announces%20Candidacy.pdf',\n",
      " 'https://www.americanrhetoric.com/speeches/PDFFiles/Barack%20Obama%20-%20Senate%20Speech%20Iraq%20Federalism%20Amendment.pdf']\n"
     ]
    }
   ],
   "source": [
    "url = \"https://www.americanrhetoric.com/barackobamaspeeches.htm\"\n",
    "links = get_pdfs(url)\n",
    "print('First 10 urls:\\n')\n",
    "pprint(links[:10])"
   ]
  },
  {
   "cell_type": "markdown",
   "id": "bda92097",
   "metadata": {},
   "source": [
    "Define the directory in which the PDFs should be stored and the subset of PDFs you want to download."
   ]
  },
  {
   "cell_type": "code",
   "execution_count": 5,
   "id": "7465db29",
   "metadata": {},
   "outputs": [
    {
     "name": "stdout",
     "output_type": "stream",
     "text": [
      "Total number of PDFs: 436\n",
      "Number of PDFs that will be downloaded: 36\n"
     ]
    }
   ],
   "source": [
    "download_dir = Path.cwd().parent / \"pdfs\"\n",
    "to_download = links[400:]\n",
    "\n",
    "print(\"Total number of PDFs:\", len(links))\n",
    "print(\"Number of PDFs that will be downloaded:\", len(to_download))"
   ]
  },
  {
   "cell_type": "markdown",
   "id": "f5841104",
   "metadata": {},
   "source": [
    "Download the PDFs."
   ]
  },
  {
   "cell_type": "code",
   "execution_count": null,
   "id": "b8a842b4",
   "metadata": {},
   "outputs": [],
   "source": [
    "#download_pdfs(to_download, download_dir)"
   ]
  }
 ],
 "metadata": {
  "kernelspec": {
   "display_name": "Python 3 (ipykernel)",
   "language": "python",
   "name": "python3"
  },
  "language_info": {
   "codemirror_mode": {
    "name": "ipython",
    "version": 3
   },
   "file_extension": ".py",
   "mimetype": "text/x-python",
   "name": "python",
   "nbconvert_exporter": "python",
   "pygments_lexer": "ipython3",
   "version": "3.9.5"
  },
  "latex_envs": {
   "LaTeX_envs_menu_present": true,
   "autoclose": false,
   "autocomplete": true,
   "bibliofile": "biblio.bib",
   "cite_by": "apalike",
   "current_citInitial": 1,
   "eqLabelWithNumbers": true,
   "eqNumInitial": 1,
   "hotkeys": {
    "equation": "Ctrl-E",
    "itemize": "Ctrl-I"
   },
   "labels_anchors": false,
   "latex_user_defs": false,
   "report_style_numbering": false,
   "user_envs_cfg": false
  },
  "toc": {
   "base_numbering": 1,
   "nav_menu": {},
   "number_sections": true,
   "sideBar": true,
   "skip_h1_title": false,
   "title_cell": "Table of Contents",
   "title_sidebar": "Contents",
   "toc_cell": false,
   "toc_position": {},
   "toc_section_display": true,
   "toc_window_display": false
  },
  "varInspector": {
   "cols": {
    "lenName": 16,
    "lenType": 16,
    "lenVar": 40
   },
   "kernels_config": {
    "python": {
     "delete_cmd_postfix": "",
     "delete_cmd_prefix": "del ",
     "library": "var_list.py",
     "varRefreshCmd": "print(var_dic_list())"
    },
    "r": {
     "delete_cmd_postfix": ") ",
     "delete_cmd_prefix": "rm(",
     "library": "var_list.r",
     "varRefreshCmd": "cat(var_dic_list()) "
    }
   },
   "types_to_exclude": [
    "module",
    "function",
    "builtin_function_or_method",
    "instance",
    "_Feature"
   ],
   "window_display": false
  }
 },
 "nbformat": 4,
 "nbformat_minor": 5
}
