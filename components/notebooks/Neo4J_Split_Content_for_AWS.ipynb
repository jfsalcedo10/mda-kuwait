{
 "cells": [
  {
   "cell_type": "code",
   "execution_count": 1,
   "id": "3bc3d5b0",
   "metadata": {},
   "outputs": [],
   "source": [
    "import pandas as pd\n",
    "import numpy as np"
   ]
  },
  {
   "cell_type": "code",
   "execution_count": 5,
   "id": "96005a1c",
   "metadata": {},
   "outputs": [],
   "source": [
    "uu = pd.read_csv(\"..\\data/all_speeches_cleaned.txt\")"
   ]
  },
  {
   "cell_type": "code",
   "execution_count": 6,
   "id": "665015d0",
   "metadata": {},
   "outputs": [],
   "source": [
    "new = np.zeros(9156)\n",
    "new= new.reshape(436,21)\n",
    "x= ['content_1','content_2','content_3','content_4','content_5','content_6','content_7',\n",
    "               'content_8','content_9','content_10','content_11','content_12','content_13','content_14','content_15','content_16','content_17','content_18','content_19','content_20','content_21']\n",
    "new = pd.DataFrame(data=new,columns=x)\n",
    "new2 = pd.DataFrame(data=np.zeros(436))"
   ]
  },
  {
   "cell_type": "code",
   "execution_count": 7,
   "id": "0999c4ad",
   "metadata": {},
   "outputs": [],
   "source": [
    "for i in range(0,len(uu)):\n",
    "   new.loc[i,:] = uu.content[i]"
   ]
  },
  {
   "cell_type": "code",
   "execution_count": 8,
   "id": "e7f79728",
   "metadata": {},
   "outputs": [],
   "source": [
    "for i in range(0,len(uu)):\n",
    "    new3 = new.loc[i,'content_1']\n",
    "    new.loc[i,'content_1'] = new3[0:5000]\n",
    "    new.loc[i,'content_2'] = new3[5001:10000]\n",
    "    new.loc[i,'content_3'] = new3[10001:15000]\n",
    "    new.loc[i,'content_4'] = new3[15001:20000]\n",
    "    new.loc[i,'content_5'] = new3[20001:25000]\n",
    "    new.loc[i,'content_6'] = new3[25001:30000]\n",
    "    new.loc[i,'content_7'] = new3[30001:35000]\n",
    "    new.loc[i,'content_8'] = new3[35001:40000]\n",
    "    new.loc[i,'content_9'] = new3[40001:45000]\n",
    "    new.loc[i,'content_10'] = new3[45001:50000]\n",
    "    new.loc[i,'content_11'] = new3[50001:55000]\n",
    "    new.loc[i,'content_12'] = new3[55001:60000]\n",
    "    new.loc[i,'content_13'] = new3[60001:65000]\n",
    "    new.loc[i,'content_14'] = new3[65001:70000]\n",
    "    new.loc[i,'content_15'] = new3[70001:75000]\n",
    "    new.loc[i,'content_16'] = new3[75001:80000]\n",
    "    new.loc[i,'content_17'] = new3[80001:85000]\n",
    "    new.loc[i,'content_18'] = new3[85001:90000]\n",
    "    new.loc[i,'content_19'] = new3[90001:95000]\n",
    "    new.loc[i,'content_20'] = new3[95001:100000]"
   ]
  },
  {
   "cell_type": "code",
   "execution_count": 9,
   "id": "2156ae8c",
   "metadata": {
    "scrolled": true
   },
   "outputs": [
    {
     "data": {
      "text/plain": [
       "Index(['title', 'pages', 'date', 'location', 'highest_speaker_count',\n",
       "       'content', 'country', 'count_commas', 'state', 'city',\n",
       "       'specific_location'],\n",
       "      dtype='object')"
      ]
     },
     "execution_count": 9,
     "metadata": {},
     "output_type": "execute_result"
    }
   ],
   "source": [
    "uu.columns"
   ]
  },
  {
   "cell_type": "markdown",
   "id": "b50c75c1",
   "metadata": {},
   "source": [
    "  for j in range(0, len(in_file), 200):\n",
    "            u = 0\n",
    "            new.loc[i,x[u]] = in_file[j:j + 200]\n",
    "            u=u+1"
   ]
  },
  {
   "cell_type": "code",
   "execution_count": 128,
   "id": "899b999b",
   "metadata": {},
   "outputs": [],
   "source": [
    "final = pd.concat([uu,new],axis=1)"
   ]
  },
  {
   "cell_type": "code",
   "execution_count": 132,
   "id": "bab2339c",
   "metadata": {},
   "outputs": [],
   "source": [
    "final.to_csv('..\\data/all_speeches_split.csv',index=False)"
   ]
  },
  {
   "cell_type": "code",
   "execution_count": 133,
   "id": "2dd11ae6",
   "metadata": {},
   "outputs": [],
   "source": [
    "vv = pd.read_csv(\"..\\data/all_speeches_split.csv\")"
   ]
  }
 ],
 "metadata": {
  "kernelspec": {
   "display_name": "Python 3 (ipykernel)",
   "language": "python",
   "name": "python3"
  },
  "language_info": {
   "codemirror_mode": {
    "name": "ipython",
    "version": 3
   },
   "file_extension": ".py",
   "mimetype": "text/x-python",
   "name": "python",
   "nbconvert_exporter": "python",
   "pygments_lexer": "ipython3",
   "version": "3.9.12"
  },
  "toc": {
   "base_numbering": 1,
   "nav_menu": {},
   "number_sections": true,
   "sideBar": true,
   "skip_h1_title": false,
   "title_cell": "Table of Contents",
   "title_sidebar": "Contents",
   "toc_cell": false,
   "toc_position": {},
   "toc_section_display": true,
   "toc_window_display": false
  },
  "varInspector": {
   "cols": {
    "lenName": 16,
    "lenType": 16,
    "lenVar": 40
   },
   "kernels_config": {
    "python": {
     "delete_cmd_postfix": "",
     "delete_cmd_prefix": "del ",
     "library": "var_list.py",
     "varRefreshCmd": "print(var_dic_list())"
    },
    "r": {
     "delete_cmd_postfix": ") ",
     "delete_cmd_prefix": "rm(",
     "library": "var_list.r",
     "varRefreshCmd": "cat(var_dic_list()) "
    }
   },
   "types_to_exclude": [
    "module",
    "function",
    "builtin_function_or_method",
    "instance",
    "_Feature"
   ],
   "window_display": false
  }
 },
 "nbformat": 4,
 "nbformat_minor": 5
}
