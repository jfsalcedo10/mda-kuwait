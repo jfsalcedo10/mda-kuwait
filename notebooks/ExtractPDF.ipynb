{
 "cells": [
  {
   "cell_type": "code",
   "execution_count": 1,
   "id": "7219351a",
   "metadata": {},
   "outputs": [],
   "source": [
    "from pathlib import Path\n",
    "\n",
    "import pdfplumber\n",
    "import re\n",
    "import unicodedata\n",
    "from pprint import pprint\n",
    "\n",
    "import sys\n",
    "src_path = str(Path.cwd().parent / \"src\")\n",
    "sys.path.append(src_path)"
   ]
  },
  {
   "cell_type": "code",
   "execution_count": 2,
   "id": "080b26d0",
   "metadata": {},
   "outputs": [],
   "source": [
    "from pdf_processing import *"
   ]
  },
  {
   "cell_type": "markdown",
   "id": "a4ed81dc",
   "metadata": {},
   "source": [
    "TODO: \n",
    " - check more PDFs for differences in format\n",
    " - write documentation\n",
    " - locations not included after the date (might need to be taken care of manually)\n",
    " - maybe use translate() instead of pdf.replace()\n",
    "\n",
    "\n",
    "\n",
    "DONE: \n",
    " - Q&As / interviews\n",
    "     - function to count the number of occurrences of \"Obama:\", \"Question:\", etc.\n",
    " \n",
    " \n",
    " - footnotes (like in People_of_Greece.pdf and Senate_Floor_Immigration_Reform.pdf)\n",
    "     - seems to work now\n",
    "     \n",
    "     \n",
    " - locations with multiple comma's (ex. when Washington, D.C. is included) --> might be better to store location as one elements instead of splitting it up, the location can be cleaned up afterwards\n",
    "     - location is not split up anymore, but kept as a single element (will be easier to clean up afterwards)"
   ]
  },
  {
   "cell_type": "code",
   "execution_count": 3,
   "id": "0efda2d7",
   "metadata": {},
   "outputs": [],
   "source": [
    "# pdfs that have these in the title might have to be excluded: interview, presser, Press_Conference, press, meeting, \n",
    "# debate, hall (maybe)\n",
    "multiple_people_talking = ['Barack_Obama_-_Al-Arabiya_Interview.pdf', 'CGI_2013.pdf', \n",
    "                           'Midterm_Elections_Presser_2014.pdf', 'YSEALI_Fellows.pdf', \n",
    "                           'PM_Abe_of_Japan_Joint_Presser.pdf', 'Paris_Press_Conference_2015.pdf',\n",
    "                           'Gun_Violence_Presser.pdf', 'Associated_Press_Luncheon.pdf', 'Final_Press_Conference.pdf',\n",
    "                           'CNN_Guns_in_America_Town_Hall.pdf', 'START_Treaty_Presser.pdf', \n",
    "                           'Midterm_Elections_Presser_2010.pdf', 'Joint_Presser_with_President_Benigno_Aquino.pdf',\n",
    "                           'Worldwide_Troop_Talk.pdf', 'Post_ASEAN_Presser_2016.pdf', 'Post_G7_Presser_Japan.pdf',\n",
    "                           'Presser_Unannounced_Heath_Care.pdf', 'Kenya_Civil_Society_Meeting.pdf',\n",
    "                           'Obama-Romney_-_Second_Live_Debate.pdf', 'Jamaica_Town_Hall.pdf', 'YSEALI_Town_Hall.pdf',\n",
    "                           'BP_Oil_Spill_Presser.pdf', 'VA_Misconduct_Allegations.pdf', 'ISIL_Pentagon_Update.pdf',\n",
    "                           'ISIL_Presser_Post_Security_Council_Meeting.pdf']\n",
    "# maybe: 'Alabama_Tornado_Devestation.pdf'\n",
    "\n",
    "# the year for Community_College_Plan.pdf is 20105 but should be 2015"
   ]
  },
  {
   "cell_type": "markdown",
   "id": "c91117f1",
   "metadata": {},
   "source": [
    "Get the path to the directory in which the PDFs are stored."
   ]
  },
  {
   "cell_type": "code",
   "execution_count": 4,
   "id": "2c239d92",
   "metadata": {},
   "outputs": [],
   "source": [
    "pdf_dir = Path.cwd().parent / \"pdfs\""
   ]
  },
  {
   "cell_type": "markdown",
   "id": "f03551e4",
   "metadata": {},
   "source": [
    "Filepaths of all the PDFs in the folder `pdf_dir`, can be used to iterate over all the PDFs to store the extracted speeches in a dataframe."
   ]
  },
  {
   "cell_type": "code",
   "execution_count": 5,
   "id": "0751ecb4",
   "metadata": {},
   "outputs": [
    {
     "name": "stdout",
     "output_type": "stream",
     "text": [
      "current number of PDFs: 436\n"
     ]
    }
   ],
   "source": [
    "pdfs = list(pdf_dir.glob('*.pdf'))  \n",
    "print(\"current number of PDFs:\", len(pdfs))"
   ]
  },
  {
   "cell_type": "markdown",
   "id": "c332ab84",
   "metadata": {},
   "source": [
    "Get filepath of the PDF you want to process."
   ]
  },
  {
   "cell_type": "code",
   "execution_count": 6,
   "id": "d179e7ec",
   "metadata": {},
   "outputs": [
    {
     "name": "stdout",
     "output_type": "stream",
     "text": [
      "File: Senate_Speech_on_Ohio_Electoral_Vote.pdf\n"
     ]
    }
   ],
   "source": [
    "filepath = pdfs[100] \n",
    "print(\"File:\", str(filepath.parts[-1]))"
   ]
  },
  {
   "cell_type": "markdown",
   "id": "f6946b1a",
   "metadata": {},
   "source": [
    "Make a PDFHandler object for the given filepath."
   ]
  },
  {
   "cell_type": "code",
   "execution_count": 7,
   "id": "54e77483",
   "metadata": {},
   "outputs": [],
   "source": [
    "pdf = PDFHandler(filepath)"
   ]
  },
  {
   "cell_type": "markdown",
   "id": "21594c06",
   "metadata": {},
   "source": [
    "Print the last page of the PDF before it has been processed."
   ]
  },
  {
   "cell_type": "code",
   "execution_count": 8,
   "id": "7b260608",
   "metadata": {
    "scrolled": true
   },
   "outputs": [
    {
     "name": "stdout",
     "output_type": "stream",
     "text": [
      "  \n",
      "AA RR\n",
      "mmeerriiccaann hheettoorriicc..ccoomm  \n",
      " \n",
      "of the country and that these differences turn shamefully on differences of wealth or of race, \n",
      "in which too many voters have to contend with state officials, servants of the public, who put \n",
      "partisan or personal political interests ahead of the public in administering our elections -- in \n",
      " \n",
      "such circumstances, we have an obligation to fix the problem.\n",
      "And I have to add that this is not a problem unique to this election, and it is not a partisan \n",
      "problem. Keep in mind, I come from Cook County, from Chicago, in which there is a long \n",
      "record of these kinds of problems taking place and disadvantaging Republicans as well as \n",
      "Democrats. So I would ask that all of us rise up and use this occasion to amend this problem.  \n",
      "Thank you. \n",
      "Transcription by Michael E. Eidenmuller.        Property of AmericanRhetoric.com                                    Updated 12/16/21        Page 3 \n"
     ]
    }
   ],
   "source": [
    "print(pdf.original_page(-1))"
   ]
  },
  {
   "cell_type": "markdown",
   "id": "3ef2da9a",
   "metadata": {},
   "source": [
    "Print the first page of the PDF before it has been processed."
   ]
  },
  {
   "cell_type": "code",
   "execution_count": 9,
   "id": "7bce4a84",
   "metadata": {
    "scrolled": true
   },
   "outputs": [
    {
     "name": "stdout",
     "output_type": "stream",
     "text": [
      "  \n",
      "AA RR\n",
      "mmeerriiccaann hheettoorriicc..ccoomm  \n",
      " \n",
      "B O\n",
      "arack  bama \n",
      "Senate Floor Speech on Ohio Electoral Vote Counting Procedures \n",
      " \n",
      "Delivered 6 January 2005, Washington, D.C.\n",
      " \n",
      " \n",
      "AUTHENTICITY CERTIFIED: Text version below transcribed directly from audio \n",
      " \n",
      "Thank you very much, Mr. President; Ladies and Gentlemen of the Senate:\n",
      "I have to say that I didn't anticipate speaking today, but the importance, I think, of this issue \n",
      "is one in which I feel it's important for me to address this body.  \n",
      " \n",
      "You know, during the election I had the occasion of meeting a woman who had supported me \n",
      "in my campaign. And she decided to come to shake my hand and take a photograph. A \n",
      "wonderful woman, she wasn't asking for anything, and I was very grateful that she took time \n",
      "to come by. It was a[n] unexceptional moment except for the fact that she was born in 1894. \n",
      "And her name was Marguerite Lewis, an African-American woman who had been born in \n",
      "Louisiana, born in the shadow of slavery, born at a time when lynchings were commonplace, \n",
      " \n",
      "born at a time when African-Americans and women could not vote.\n",
      " \n",
      "Transcription by Michael E. Eidenmuller.        Property of AmericanRhetoric.com                                    Updated 12/16/21        Page 1 \n"
     ]
    }
   ],
   "source": [
    "print(pdf.original_page(0))"
   ]
  },
  {
   "cell_type": "markdown",
   "id": "94964bce",
   "metadata": {},
   "source": [
    "Define a regular expression to get the date, location, and content of the speech. Extract the entire speech from the PDF."
   ]
  },
  {
   "cell_type": "code",
   "execution_count": 10,
   "id": "6f8557d3",
   "metadata": {
    "code_folding": [],
    "scrolled": true
   },
   "outputs": [
    {
     "name": "stdout",
     "output_type": "stream",
     "text": [
      "Thank you very much, Mr. President; Ladies and Gentlemen of the Senate:\n",
      "I have to say that I didn't anticipate speaking today, but the importance, I think, of this issue \n",
      "is one in which I feel it's important for me to address this body.  \n",
      " \n",
      "You know, during the election I had the occasion of meeting a woman who had supported me \n",
      "in my campaign. And she decided to come to shake my hand and take a photograph. A \n",
      "wonderful woman, she wasn't asking for anything, and I was very grateful that she took time \n",
      "to come by. It was a[n] unexceptional moment except for the fact that she was born in 1894. \n",
      "And her name was Marguerite Lewis, an African-American woman who had been born in \n",
      "Louisiana, born in the shadow of slavery, born at a time when lynchings were commonplace, \n",
      " \n",
      "born at a time when African-Americans and women could not vote.\n",
      "  And yet, over the course of decades she had participated in broadening our democracy and \n",
      "ensuring that, in fact, at some point, if not herself, then her children and her grandchildren \n",
      "and her great-grandchildren would be in a position in which they could, too, call themselves \n",
      "citizens of the United States and make certain that this Government works not just on behalf \n",
      " \n",
      "of the mighty and the powerful but also on behalf of people like her.\n",
      "And so the fact that she voted and that her vote was counted in this election was of supreme \n",
      "importance to her and it is the memory of talking to her and shaking her hand that causes me \n",
      " \n",
      "to rise on this occasion.\n",
      "I am absolutely convinced that the President of the United States, George Bush, won this \n",
      "election. I also believe that he got more votes in Ohio. I think, as has already been said by \n",
      "some of the speakers in this body, this is not an issue in which we are challenging the \n",
      "outcome of the election. And I think it's important for us to separate out the issue of the \n",
      " \n",
      "election outcome with the election process.\n",
      "I was not in this body four years ago, but what I observed as a voter, as a citizen of Illinois \n",
      "four years ago, were troubling evidence of the fact that not every vote was being counted. \n",
      "And I think that it is unfortunate four years later that we continue to see circumstances in \n",
      "which people who believe that they have the right to vote -- who show up at the polls -- still \n",
      "continue to confront the sort of problems that have been documented as taking place, not just \n",
      " \n",
      "in Ohio, but [in] places all across the country.\n",
      "I would strongly urge that this Chamber, as well as the House of Representatives, take it upon \n",
      "itself once and for all to reform this system. There is no reason, at a time when we have \n",
      "enormous battles taking place ideologically all across the globe, at a time when we're try to \n",
      "make certain that we encourage democracy in Iraq and Afghanistan and other places \n",
      "throughout the world, that we have the legitimacy of our elections challenged, rightly or \n",
      "wrongly, by people who are not certain as to whether our processes are fair and just. This is \n",
      "something that we can fix. We have experts on both sides of the aisle who know how to fix it. \n",
      " \n",
      "What we've lacked is the political will.\n",
      "I would strongly urge that, in a circumstance in which too many voters have stood in long \n",
      "lines for hours, in which too many voters have cast votes on machines that jam or malfunction \n",
      "or suck the votes without a trace, in which too many voters try to register to vote only to \n",
      "discover that their names don't appear on the roles, or that partisan political interests and \n",
      "those that serve them have worked hard to throw up every barrier to recognize them as \n",
      "lawful, in which too many voters will know that there are different elections for different parts  of the country and that these differences turn shamefully on differences of wealth or of race, \n",
      "in which too many voters have to contend with state officials, servants of the public, who put \n",
      "partisan or personal political interests ahead of the public in administering our elections -- in \n",
      " \n",
      "such circumstances, we have an obligation to fix the problem.\n",
      "And I have to add that this is not a problem unique to this election, and it is not a partisan \n",
      "problem. Keep in mind, I come from Cook County, from Chicago, in which there is a long \n",
      "record of these kinds of problems taking place and disadvantaging Republicans as well as \n",
      "Democrats. So I would ask that all of us rise up and use this occasion to amend this problem.  \n",
      "Thank you.\n"
     ]
    }
   ],
   "source": [
    "start = r\"^(?:\\s*AA +RR\\s+mmeerriiccaann +hheettoorriicc\\.\\.ccoomm|\\s*AmericanRhetoric\\.com|\\s*AAmmeerriiccaannRRhheettoorriicc\\.\\.ccoomm)\"\n",
    "\n",
    "date = r\"(?P<day>[0-9]{1,2})\\s+(?P<mon>[a-z]+)\\s+(?P<year>[0-9]{2,})\"\n",
    "#loc = r\"(?P<location_small>[a-z0-9. ]+),\\s+(?P<location_big>[a-z0-9., ]+)\"\n",
    "#loc = r\"(?P<location>[a-z0-9.,\\- ]+)\"\n",
    "loc = r\"(?P<location>.+?)\"\n",
    "auth = r\"(?:\\[?AUTHENTICITY CERTIFIED: Text version below transcribed directly from audio(\\s*and edited for continuity)?\\]?)?\"\n",
    "\n",
    "content = r\"(?P<content>.*?)\"\n",
    "\n",
    "footnotes = r\"(([1-9][0-9]* .+?)+\\n+\\s*)?\"\n",
    "\n",
    "tr = r\"(Transcription\\s+by\\s+.*?)?\"\n",
    "pr = r\"(Property\\s+of\\s+)?\"\n",
    "end = r\"AmericanRhetoric\\.com\"\n",
    "\n",
    "full_patern = start + \\\n",
    "r\"(\\s+.*?(delivered|First +Broadcast)\\s+\" + date + r\"(,\\s+\" + loc + r\")?\" + r\"\\s+\" + auth + r\")?\" + \\\n",
    "r\"\\s+\" + content + r\"\\n+\" + \\\n",
    "r\"(?:\" + footnotes + tr + r\"\\s*\" + pr + r\"\\s*\" + end + r\")\"\n",
    "pat = re.compile(full_patern, re.I | re.DOTALL)\n",
    "\n",
    "speech = pdf.extract_speech(pat)\n",
    "print(speech)"
   ]
  },
  {
   "cell_type": "markdown",
   "id": "cb2be298",
   "metadata": {},
   "source": [
    "Print the relevant info of the PDF."
   ]
  },
  {
   "cell_type": "code",
   "execution_count": 11,
   "id": "0b150a8e",
   "metadata": {},
   "outputs": [
    {
     "name": "stdout",
     "output_type": "stream",
     "text": [
      "Title: Senate_Speech_on_Ohio_Electoral_Vote\n",
      "Number of pages: 3\n",
      "Date: ['6', 'January', '2005']\n",
      "Location: ['Washington, D.C.']\n"
     ]
    }
   ],
   "source": [
    "pdf.print_info()"
   ]
  },
  {
   "cell_type": "markdown",
   "id": "f6c26436",
   "metadata": {},
   "source": [
    "Check whether there are multiple speakers. (If there is a high \"Obama:\" count, this might indicate he is answering questions, i.e., it is an interview, press conference, debate,...)"
   ]
  },
  {
   "cell_type": "code",
   "execution_count": 12,
   "id": "19587a2a",
   "metadata": {},
   "outputs": [
    {
     "name": "stdout",
     "output_type": "stream",
     "text": [
      "\"Obama:\" count: 0\n",
      "\"President:\" count: 0\n",
      "\"Question:\" count: 0\n",
      "\"Audience:\" count: 0\n",
      "\"Member:\" count: 0\n",
      "['senate:']\n"
     ]
    }
   ],
   "source": [
    "speakers = pdf.multiple_speakers(speech)\n",
    "pprint(speakers)"
   ]
  },
  {
   "cell_type": "markdown",
   "id": "26099d7d",
   "metadata": {},
   "source": [
    "Replace or delete some characters to clean the speech."
   ]
  },
  {
   "cell_type": "code",
   "execution_count": 13,
   "id": "87a4b542",
   "metadata": {
    "scrolled": true
   },
   "outputs": [
    {
     "name": "stdout",
     "output_type": "stream",
     "text": [
      "Thank you very much, Mr. President; Ladies and Gentlemen of the Senate: I have to say that I didn't anticipate speaking today, but the importance, I think, of this issue is one in which I feel it's important for me to address this body. You know, during the election I had the occasion of meeting a woman who had supported me in my campaign. And she decided to come to shake my hand and take a photograph. A wonderful woman, she wasn't asking for anything, and I was very grateful that she took time to come by. It was an unexceptional moment except for the fact that she was born in 1894. And her name was Marguerite Lewis, an African American woman who had been born in Louisiana, born in the shadow of slavery, born at a time when lynchings were commonplace, born at a time when African Americans and women could not vote. And yet, over the course of decades she had participated in broadening our democracy and ensuring that, in fact, at some point, if not herself, then her children and her grandchildren and her great grandchildren would be in a position in which they could, too, call themselves citizens of the United States and make certain that this Government works not just on behalf of the mighty and the powerful but also on behalf of people like her. And so the fact that she voted and that her vote was counted in this election was of supreme importance to her and it is the memory of talking to her and shaking her hand that causes me to rise on this occasion. I am absolutely convinced that the President of the United States, George Bush, won this election. I also believe that he got more votes in Ohio. I think, as has already been said by some of the speakers in this body, this is not an issue in which we are challenging the outcome of the election. And I think it's important for us to separate out the issue of the election outcome with the election process. I was not in this body four years ago, but what I observed as a voter, as a citizen of Illinois four years ago, were troubling evidence of the fact that not every vote was being counted. And I think that it is unfortunate four years later that we continue to see circumstances in which people who believe that they have the right to vote who show up at the polls still continue to confront the sort of problems that have been documented as taking place, not just in Ohio, but in places all across the country. I would strongly urge that this Chamber, as well as the House of Representatives, take it upon itself once and for all to reform this system. There is no reason, at a time when we have enormous battles taking place ideologically all across the globe, at a time when we're try to make certain that we encourage democracy in Iraq and Afghanistan and other places throughout the world, that we have the legitimacy of our elections challenged, rightly or wrongly, by people who are not certain as to whether our processes are fair and just. This is something that we can fix. We have experts on both sides of the aisle who know how to fix it. What we've lacked is the political will. I would strongly urge that, in a circumstance in which too many voters have stood in long lines for hours, in which too many voters have cast votes on machines that jam or malfunction or suck the votes without a trace, in which too many voters try to register to vote only to discover that their names don't appear on the roles, or that partisan political interests and those that serve them have worked hard to throw up every barrier to recognize them as lawful, in which too many voters will know that there are different elections for different parts of the country and that these differences turn shamefully on differences of wealth or of race, in which too many voters have to contend with state officials, servants of the public, who put partisan or personal political interests ahead of the public in administering our elections in such circumstances, we have an obligation to fix the problem. And I have to add that this is not a problem unique to this election, and it is not a partisan problem. Keep in mind, I come from Cook County, from Chicago, in which there is a long record of these kinds of problems taking place and disadvantaging Republicans as well as Democrats. So I would ask that all of us rise up and use this occasion to amend this problem. Thank you.\n"
     ]
    }
   ],
   "source": [
    "old = [r'-+', r'\\.{2,}', r'[’‘]', r'\"', r'’’', r'‘‘', r'“', r'”', r'\\[sic\\]', r'\\s+', r'\\[Source:\\s*http.*\\]', r'[\\[\\]\\(\\)]']\n",
    "new = [r' ' , r' '     , r\"'\"   , r'' , r''  , r''  , r'' , r'' , r' '      , r' '  , r'',                     r''      ]\n",
    "\n",
    "clean_speech = pdf.replace(speech, old, new)\n",
    "print(clean_speech)"
   ]
  },
  {
   "cell_type": "code",
   "execution_count": null,
   "id": "285af2d0",
   "metadata": {},
   "outputs": [],
   "source": []
  }
 ],
 "metadata": {
  "kernelspec": {
   "display_name": "Python 3 (ipykernel)",
   "language": "python",
   "name": "python3"
  },
  "language_info": {
   "codemirror_mode": {
    "name": "ipython",
    "version": 3
   },
   "file_extension": ".py",
   "mimetype": "text/x-python",
   "name": "python",
   "nbconvert_exporter": "python",
   "pygments_lexer": "ipython3",
   "version": "3.9.5"
  },
  "latex_envs": {
   "LaTeX_envs_menu_present": true,
   "autoclose": false,
   "autocomplete": true,
   "bibliofile": "biblio.bib",
   "cite_by": "apalike",
   "current_citInitial": 1,
   "eqLabelWithNumbers": true,
   "eqNumInitial": 1,
   "hotkeys": {
    "equation": "Ctrl-E",
    "itemize": "Ctrl-I"
   },
   "labels_anchors": false,
   "latex_user_defs": false,
   "report_style_numbering": false,
   "user_envs_cfg": false
  },
  "toc": {
   "base_numbering": 1,
   "nav_menu": {},
   "number_sections": true,
   "sideBar": true,
   "skip_h1_title": false,
   "title_cell": "Table of Contents",
   "title_sidebar": "Contents",
   "toc_cell": false,
   "toc_position": {},
   "toc_section_display": true,
   "toc_window_display": false
  },
  "varInspector": {
   "cols": {
    "lenName": 16,
    "lenType": 16,
    "lenVar": 40
   },
   "kernels_config": {
    "python": {
     "delete_cmd_postfix": "",
     "delete_cmd_prefix": "del ",
     "library": "var_list.py",
     "varRefreshCmd": "print(var_dic_list())"
    },
    "r": {
     "delete_cmd_postfix": ") ",
     "delete_cmd_prefix": "rm(",
     "library": "var_list.r",
     "varRefreshCmd": "cat(var_dic_list()) "
    }
   },
   "types_to_exclude": [
    "module",
    "function",
    "builtin_function_or_method",
    "instance",
    "_Feature"
   ],
   "window_display": false
  }
 },
 "nbformat": 4,
 "nbformat_minor": 5
}
