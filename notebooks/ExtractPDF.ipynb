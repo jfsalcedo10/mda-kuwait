{
 "cells": [
  {
   "cell_type": "code",
   "execution_count": 1,
   "id": "7219351a",
   "metadata": {},
   "outputs": [],
   "source": [
    "from pathlib import Path\n",
    "\n",
    "import re\n",
    "from pprint import pprint\n",
    "\n",
    "import sys\n",
    "src_path = str(Path.cwd().parent / \"src\")\n",
    "sys.path.append(src_path)\n",
    "\n",
    "import csv "
   ]
  },
  {
   "cell_type": "code",
   "execution_count": 2,
   "id": "080b26d0",
   "metadata": {},
   "outputs": [],
   "source": [
    "from pdf_processing import *"
   ]
  },
  {
   "cell_type": "markdown",
   "id": "a4ed81dc",
   "metadata": {},
   "source": [
    "TODO: \n",
    " - check more PDFs for differences in format\n",
    " - write documentation\n",
    " - locations not included after the date (might need to be taken care of manually)\n",
    " - maybe use translate() instead of pdf.replace()\n",
    " - footnotes (like in People_of_Greece.pdf and Senate_Floor_Immigration_Reform.pdf)\n",
    "\n",
    "\n",
    "\n",
    "DONE: \n",
    " - Q&As / interviews\n",
    "     - function to count the number of occurrences of \"Obama:\", \"Question:\", etc.\n",
    "   \n",
    "      \n",
    " - locations with multiple comma's (ex. when Washington, D.C. is included) --> might be better to store location as one elements instead of splitting it up, the location can be cleaned up afterwards\n",
    "     - location is not split up anymore, but kept as a single element (will be easier to clean up afterwards)"
   ]
  },
  {
   "cell_type": "code",
   "execution_count": 3,
   "id": "0efda2d7",
   "metadata": {},
   "outputs": [],
   "source": [
    "# pdfs that have these in the title might have to be excluded: interview, presser, Press_Conference, press, meeting, \n",
    "# debate, hall (maybe)\n",
    "multiple_people_talking = ['Barack_Obama_-_Al-Arabiya_Interview.pdf', 'CGI_2013.pdf', \n",
    "                           'Midterm_Elections_Presser_2014.pdf', 'YSEALI_Fellows.pdf', \n",
    "                           'PM_Abe_of_Japan_Joint_Presser.pdf', 'Paris_Press_Conference_2015.pdf',\n",
    "                           'Gun_Violence_Presser.pdf', 'Associated_Press_Luncheon.pdf', 'Final_Press_Conference.pdf',\n",
    "                           'CNN_Guns_in_America_Town_Hall.pdf', 'START_Treaty_Presser.pdf', \n",
    "                           'Midterm_Elections_Presser_2010.pdf', 'Joint_Presser_with_President_Benigno_Aquino.pdf',\n",
    "                           'Worldwide_Troop_Talk.pdf', 'Post_ASEAN_Presser_2016.pdf', 'Post_G7_Presser_Japan.pdf',\n",
    "                           'Presser_Unannounced_Heath_Care.pdf', 'Kenya_Civil_Society_Meeting.pdf',\n",
    "                           'Obama-Romney_-_Second_Live_Debate.pdf', 'Jamaica_Town_Hall.pdf', 'YSEALI_Town_Hall.pdf',\n",
    "                           'BP_Oil_Spill_Presser.pdf', 'VA_Misconduct_Allegations.pdf', 'ISIL_Pentagon_Update.pdf',\n",
    "                           'ISIL_Presser_Post_Security_Council_Meeting.pdf']\n",
    "# maybe: 'Alabama_Tornado_Devestation.pdf', 'NAACP_Coference_2015.pdf'\n",
    "\n",
    "# the year for Community_College_Plan.pdf is 20105 but should be 2015"
   ]
  },
  {
   "cell_type": "markdown",
   "id": "c91117f1",
   "metadata": {},
   "source": [
    "Get the path to the directory in which the PDFs are stored."
   ]
  },
  {
   "cell_type": "code",
   "execution_count": 4,
   "id": "2c239d92",
   "metadata": {},
   "outputs": [],
   "source": [
    "pdf_dir = Path.cwd().parent / \"pdfs\""
   ]
  },
  {
   "cell_type": "markdown",
   "id": "f03551e4",
   "metadata": {},
   "source": [
    "Filepaths of all the PDFs in the folder `pdf_dir`, can be used to iterate over all the PDFs to store the extracted speeches in a dataframe."
   ]
  },
  {
   "cell_type": "code",
   "execution_count": 5,
   "id": "0751ecb4",
   "metadata": {},
   "outputs": [
    {
     "name": "stdout",
     "output_type": "stream",
     "text": [
      "current number of PDFs: 436\n"
     ]
    }
   ],
   "source": [
    "pdfs = list(pdf_dir.glob('*.pdf'))  \n",
    "print(\"current number of PDFs:\", len(pdfs))"
   ]
  },
  {
   "cell_type": "markdown",
   "id": "c332ab84",
   "metadata": {},
   "source": [
    "Get filepath of the PDF you want to process."
   ]
  },
  {
   "cell_type": "code",
   "execution_count": 6,
   "id": "d179e7ec",
   "metadata": {},
   "outputs": [
    {
     "name": "stdout",
     "output_type": "stream",
     "text": [
      "File: Auschwitz_and_Birkenau_Liberation_65th.pdf\n"
     ]
    }
   ],
   "source": [
    "filepath = pdfs[116]\n",
    "print(\"File:\", str(filepath.parts[-1]))"
   ]
  },
  {
   "cell_type": "markdown",
   "id": "f6946b1a",
   "metadata": {},
   "source": [
    "Make a PDFHandler object for the given filepath."
   ]
  },
  {
   "cell_type": "code",
   "execution_count": 7,
   "id": "54e77483",
   "metadata": {},
   "outputs": [],
   "source": [
    "pdf = PDFHandler(filepath)"
   ]
  },
  {
   "cell_type": "markdown",
   "id": "21594c06",
   "metadata": {},
   "source": [
    "Print the last page of the PDF before it has been processed."
   ]
  },
  {
   "cell_type": "code",
   "execution_count": 8,
   "id": "7b260608",
   "metadata": {
    "scrolled": true
   },
   "outputs": [
    {
     "name": "stdout",
     "output_type": "stream",
     "text": [
      "  \n",
      "AA RR\n",
      "mmeerriiccaann hheettoorriicc..ccoomm  \n",
      " \n",
      "For you know the truth that Elie Wiesel spoke when I stood with him at Buchenwald last \n",
      "spring.  There, where his father and so many innocent souls left this earth, Elie said: \n",
      " \n",
      "\"...memory has become [a] sacred duty of all people of goodwill.”\n",
      "We have a sacred duty to remember the twisted thinking that led here -- how a great society \n",
      "of culture and science succumbed to the worst instincts of man and rationalized mass murder \n",
      "and one of the most barbaric acts in history. \n",
      "We have a sacred duty to remember the cruelty that occurred here, as told in the simple \n",
      "objects that speak to us even now: the suitcases that still bear their names; the wooden clogs \n",
      "they wore; the round bowls from which they ate; those brick buildings from which there was \n",
      "no escape -- where so many Jews died with Sh’ma Israel on their lips; and the very earth at \n",
      "Auschwitz, which is still hallowed by their ashes -- Jews and those who tried to save them, \n",
      "Polish and Hungarian, French and Dutch, Roma and Russian, straight and gay, and so many \n",
      " \n",
      "others.\n",
      "But even as we recall man’s capacity for evil, Auschwitz also tells another story -- of man’s \n",
      "capacity for good: the small acts of compassion -- the sharing of some bread that kept a child \n",
      "alive; the great acts of resistance that blew up the crematorium and tried to stop the \n",
      "slaughter; the Polish Rescuers; and those who earned their place forever in the Righteous \n",
      " \n",
      "Among the Nations.\n",
      " \n",
      "And you: the survivors.\n",
      "The perpetrators of that crime tried to annihilate the entire Jewish people. But they failed. \n",
      "Because 65 years ago today, when the gates flew open, you were still standing. And every \n",
      "day that you have lived, every child and grandchild that your families have brought into the \n",
      "world with love, every day the sun rises on the Jewish state of Israel -- that is the ultimate \n",
      " \n",
      "rebuke to the ignorance and hatred of this place.\n",
      "So to those of you who have come back today, I say, no, you are not “former prisoners.” You \n",
      "are living memorials: living memorials to the loved ones you left here, and to the spirit we \n",
      "must strive to uphold in our time -- not simply to bear witness, but to bear a burden -- the \n",
      "burden of seeing our common humanity; of resisting anti-Semitism and ignorance in all its \n",
      " \n",
      "forms; of refusing to become bystanders to evil, whenever and wherever it rears its ugly face.\n",
      "Let that be the true meaning of Auschwitz. Let that be the liberation we celebrate today -- a \n",
      "liberation of the spirit that, if embraced, can lead us all -- individuals and as nations -- to be \n",
      " \n",
      "among the righteous.\n",
      " \n",
      "May God bless you all, and may God bless the memory of all those who rest here.\n",
      " \n",
      "AmericanRhetoric.com         Page 2 \n"
     ]
    }
   ],
   "source": [
    "print(pdf.original_page(-1))"
   ]
  },
  {
   "cell_type": "markdown",
   "id": "3ef2da9a",
   "metadata": {},
   "source": [
    "Print the first page of the PDF before it has been processed."
   ]
  },
  {
   "cell_type": "code",
   "execution_count": 9,
   "id": "7bce4a84",
   "metadata": {
    "scrolled": true
   },
   "outputs": [
    {
     "name": "stdout",
     "output_type": "stream",
     "text": [
      "  \n",
      "AA RR\n",
      "mmeerriiccaann hheettoorriicc..ccoomm  \n",
      " \n",
      "Barack Obama \n",
      "Honoring 65th Anniversary of Auschwitz and Birkenau Liberation \n",
      " \n",
      "delivered 27 January 2010\n",
      " \n",
      " \n",
      "AUTHENTICITY CERTIFIED: Text version below transcribed directly from audio \n",
      "Good morning. And thank you to everyone who worked to bring us to this day, especially the \n",
      " \n",
      "International Auschwitz Council and the Auschwitz-Birkenau State Museum.\n",
      "To President Kacynski, Prime Minister Tusk, and to the people of Poland: Thank you for \n",
      "preserving a place of such great pain for the Polish people, but a place of remembrance and \n",
      " \n",
      "learning for the world.\n",
      "Although I can’t be with you in person, I am proud that the United States is represented there \n",
      "today by a delegation of distinguished Americans, including Ambassador Feinstein; my wife \n",
      "Michelle’s chief of staff, Susan Sher; and my good friend, and the son of Holocaust survivors, \n",
      " \n",
      "Julius Genachowski.\n",
      "And let me commend you for recognizing a woman who has devoted her life to preserving the \n",
      "lessons of the shoah for future generations -- Sara Bloomfield of the United States Holocaust \n",
      " \n",
      "Memorial Museum in Washington.\n",
      "But most of all, I want to thank those of you who found the strength to come back again, so \n",
      "many years later, despite the horror you saw here, the suffering you endured here, and the \n",
      "loved ones you lost here. Those of us who did not live through those dark days will never truly \n",
      "understand what it means to have hate literally etched into your arms. But we understand the \n",
      " \n",
      "message that you carry in your hearts.\n",
      "AmericanRhetoric.com         Page 1 \n"
     ]
    }
   ],
   "source": [
    "print(pdf.original_page(0))"
   ]
  },
  {
   "cell_type": "markdown",
   "id": "94964bce",
   "metadata": {},
   "source": [
    "Define a regular expression to get the date, location, and content of the speech. Extract the entire speech from the PDF."
   ]
  },
  {
   "cell_type": "code",
   "execution_count": 10,
   "id": "6f8557d3",
   "metadata": {
    "code_folding": [],
    "scrolled": true
   },
   "outputs": [
    {
     "name": "stdout",
     "output_type": "stream",
     "text": [
      "Good morning. And thank you to everyone who worked to bring us to this day, especially the \n",
      " \n",
      "International Auschwitz Council and the Auschwitz-Birkenau State Museum.\n",
      "To President Kacynski, Prime Minister Tusk, and to the people of Poland: Thank you for \n",
      "preserving a place of such great pain for the Polish people, but a place of remembrance and \n",
      " \n",
      "learning for the world.\n",
      "Although I cant be with you in person, I am proud that the United States is represented there \n",
      "today by a delegation of distinguished Americans, including Ambassador Feinstein; my wife \n",
      "Michelles chief of staff, Susan Sher; and my good friend, and the son of Holocaust survivors, \n",
      " \n",
      "Julius Genachowski.\n",
      "And let me commend you for recognizing a woman who has devoted her life to preserving the \n",
      "lessons of the shoah for future generations -- Sara Bloomfield of the United States Holocaust \n",
      " \n",
      "Memorial Museum in Washington.\n",
      "But most of all, I want to thank those of you who found the strength to come back again, so \n",
      "many years later, despite the horror you saw here, the suffering you endured here, and the \n",
      "loved ones you lost here. Those of us who did not live through those dark days will never truly \n",
      "understand what it means to have hate literally etched into your arms. But we understand the \n",
      " \n",
      "message that you carry in your hearts.\n",
      " For you know the truth that Elie Wiesel spoke when I stood with him at Buchenwald last \n",
      "spring.  There, where his father and so many innocent souls left this earth, Elie said: \n",
      " \n",
      "\"...memory has become [a] sacred duty of all people of goodwill.\n",
      "We have a sacred duty to remember the twisted thinking that led here -- how a great society \n",
      "of culture and science succumbed to the worst instincts of man and rationalized mass murder \n",
      "and one of the most barbaric acts in history. \n",
      "We have a sacred duty to remember the cruelty that occurred here, as told in the simple \n",
      "objects that speak to us even now: the suitcases that still bear their names; the wooden clogs \n",
      "they wore; the round bowls from which they ate; those brick buildings from which there was \n",
      "no escape -- where so many Jews died with Shma Israel on their lips; and the very earth at \n",
      "Auschwitz, which is still hallowed by their ashes -- Jews and those who tried to save them, \n",
      "Polish and Hungarian, French and Dutch, Roma and Russian, straight and gay, and so many \n",
      " \n",
      "others.\n",
      "But even as we recall mans capacity for evil, Auschwitz also tells another story -- of mans \n",
      "capacity for good: the small acts of compassion -- the sharing of some bread that kept a child \n",
      "alive; the great acts of resistance that blew up the crematorium and tried to stop the \n",
      "slaughter; the Polish Rescuers; and those who earned their place forever in the Righteous \n",
      " \n",
      "Among the Nations.\n",
      " \n",
      "And you: the survivors.\n",
      "The perpetrators of that crime tried to annihilate the entire Jewish people. But they failed. \n",
      "Because 65 years ago today, when the gates flew open, you were still standing. And every \n",
      "day that you have lived, every child and grandchild that your families have brought into the \n",
      "world with love, every day the sun rises on the Jewish state of Israel -- that is the ultimate \n",
      " \n",
      "rebuke to the ignorance and hatred of this place.\n",
      "So to those of you who have come back today, I say, no, you are not former prisoners. You \n",
      "are living memorials: living memorials to the loved ones you left here, and to the spirit we \n",
      "must strive to uphold in our time -- not simply to bear witness, but to bear a burden -- the \n",
      "burden of seeing our common humanity; of resisting anti-Semitism and ignorance in all its \n",
      " \n",
      "forms; of refusing to become bystanders to evil, whenever and wherever it rears its ugly face.\n",
      "Let that be the true meaning of Auschwitz. Let that be the liberation we celebrate today -- a \n",
      "liberation of the spirit that, if embraced, can lead us all -- individuals and as nations -- to be \n",
      " \n",
      "among the righteous.\n",
      " \n",
      "May God bless you all, and may God bless the memory of all those who rest here.\n"
     ]
    }
   ],
   "source": [
    "start = r\"^(?:\\s*AA *RR\\s+mmeerriiccaann *hheettoorriicc\\.\\.ccoomm|\\s*AmericanRhetoric\\.com|\\s*AAmmeerriiccaannRRhheettoorriicc\\.\\.ccoomm)?\"\n",
    "\n",
    "datemarker =r\"^(delivered|First *Broadcast|Uploaded[ a-z]*)?\"\n",
    "date = r\"(?P<day>[0-9]{1,2}) *(?P<mon>[a-z]+) *(?P<year>[0-9]{2,})\"\n",
    "loc = r\"(, *(?P<location>.+?))?\"\n",
    "auth = r\"(?:.?AUTHENTICITY CERTIFIED: Text version below transcribed directly from audio( *and edited for continuity)?.?)?\"\n",
    "\n",
    "content = r\"(?P<content>.*)\"\n",
    "\n",
    "#footnotes = r\"^(([1-9][0-9]*.+?)+\\n+)?\"\n",
    "tr = r\"(Transcription *by *[a-z.\\- ]+\\s*)?\"\n",
    "url = r\"((Property *of *)?AmericanRhetoric\\.com)?\"\n",
    "page = r\"(page *[0-9]+\\s*$)\"\n",
    "\n",
    "full_pat = start + \\\n",
    "r\"(\\s+.*?\" + datemarker + \" *\" + date + loc + r\"\\s+\" + auth + r\")?\" + \\\n",
    "r\"\\s+\" + content + \\\n",
    "r\"^(?:\\s*\" + tr + url + r\".*?\" + page + r\")\"\n",
    "pat = re.compile(full_pat, re.I | re.DOTALL | re.M)\n",
    "\n",
    "speech = pdf.extract_speech(pat)\n",
    "print(speech)"
   ]
  },
  {
   "cell_type": "markdown",
   "id": "cb2be298",
   "metadata": {},
   "source": [
    "Print the relevant info of the PDF."
   ]
  },
  {
   "cell_type": "code",
   "execution_count": 11,
   "id": "0b150a8e",
   "metadata": {},
   "outputs": [
    {
     "name": "stdout",
     "output_type": "stream",
     "text": [
      "Title: Auschwitz_and_Birkenau_Liberation_65th\n",
      "Number of pages: 2\n",
      "Date: 27 January 2010\n",
      "Location: unknown_location\n"
     ]
    }
   ],
   "source": [
    "pdf.print_info()"
   ]
  },
  {
   "cell_type": "markdown",
   "id": "f6c26436",
   "metadata": {},
   "source": [
    "Check whether there are multiple speakers. (If there is a high \"Obama:\" count, this might indicate he is answering questions, i.e., it is an interview, press conference, debate,...)"
   ]
  },
  {
   "cell_type": "code",
   "execution_count": 12,
   "id": "19587a2a",
   "metadata": {},
   "outputs": [
    {
     "name": "stdout",
     "output_type": "stream",
     "text": [
      "{'obama:': 0, 'president:': 0, 'question:': 0, 'audience:': 0, 'member:': 0}\n",
      "\n",
      "['poland:', 'said:', 'now:', 'good:', 'you:', 'memorials:']\n"
     ]
    }
   ],
   "source": [
    "count = ('obama:', 'president:', 'question:', 'audience:', 'member:')\n",
    "counts, speakers = pdf.multiple_speakers(speech, count)\n",
    "print(counts)\n",
    "print()\n",
    "pprint(speakers)"
   ]
  },
  {
   "cell_type": "markdown",
   "id": "26099d7d",
   "metadata": {},
   "source": [
    "Replace or delete some characters to clean the speech."
   ]
  },
  {
   "cell_type": "code",
   "execution_count": 13,
   "id": "87a4b542",
   "metadata": {
    "scrolled": true
   },
   "outputs": [
    {
     "name": "stdout",
     "output_type": "stream",
     "text": [
      "Good morning. And thank you to everyone who worked to bring us to this day, especially the International Auschwitz Council and the Auschwitz Birkenau State Museum. To President Kacynski, Prime Minister Tusk, and to the people of Poland: Thank you for preserving a place of such great pain for the Polish people, but a place of remembrance and learning for the world. Although I cant be with you in person, I am proud that the United States is represented there today by a delegation of distinguished Americans, including Ambassador Feinstein; my wife Michelles chief of staff, Susan Sher; and my good friend, and the son of Holocaust survivors, Julius Genachowski. And let me commend you for recognizing a woman who has devoted her life to preserving the lessons of the shoah for future generations Sara Bloomfield of the United States Holocaust Memorial Museum in Washington. But most of all, I want to thank those of you who found the strength to come back again, so many years later, despite the horror you saw here, the suffering you endured here, and the loved ones you lost here. Those of us who did not live through those dark days will never truly understand what it means to have hate literally etched into your arms. But we understand the message that you carry in your hearts. For you know the truth that Elie Wiesel spoke when I stood with him at Buchenwald last spring. There, where his father and so many innocent souls left this earth, Elie said: memory has become a sacred duty of all people of goodwill. We have a sacred duty to remember the twisted thinking that led here how a great society of culture and science succumbed to the worst instincts of man and rationalized mass murder and one of the most barbaric acts in history. We have a sacred duty to remember the cruelty that occurred here, as told in the simple objects that speak to us even now: the suitcases that still bear their names; the wooden clogs they wore; the round bowls from which they ate; those brick buildings from which there was no escape where so many Jews died with Shma Israel on their lips; and the very earth at Auschwitz, which is still hallowed by their ashes Jews and those who tried to save them, Polish and Hungarian, French and Dutch, Roma and Russian, straight and gay, and so many others. But even as we recall mans capacity for evil, Auschwitz also tells another story of mans capacity for good: the small acts of compassion the sharing of some bread that kept a child alive; the great acts of resistance that blew up the crematorium and tried to stop the slaughter; the Polish Rescuers; and those who earned their place forever in the Righteous Among the Nations. And you: the survivors. The perpetrators of that crime tried to annihilate the entire Jewish people. But they failed. Because 65 years ago today, when the gates flew open, you were still standing. And every day that you have lived, every child and grandchild that your families have brought into the world with love, every day the sun rises on the Jewish state of Israel that is the ultimate rebuke to the ignorance and hatred of this place. So to those of you who have come back today, I say, no, you are not former prisoners. You are living memorials: living memorials to the loved ones you left here, and to the spirit we must strive to uphold in our time not simply to bear witness, but to bear a burden the burden of seeing our common humanity; of resisting anti Semitism and ignorance in all its forms; of refusing to become bystanders to evil, whenever and wherever it rears its ugly face. Let that be the true meaning of Auschwitz. Let that be the liberation we celebrate today a liberation of the spirit that, if embraced, can lead us all individuals and as nations to be among the righteous. May God bless you all, and may God bless the memory of all those who rest here.\n"
     ]
    }
   ],
   "source": [
    "old = [r'-+', r'\\.{2,}', r'[’‘]', r'\"', r'’’', r'‘‘', r'“', r'”', r'\\[sic\\]', r'\\s+', r'\\[Source:\\s*http.*\\]', r'[\\[\\]\\(\\)]']\n",
    "new = [r' ' , r' '     , r\"'\"   , r'' , r''  , r''  , r'' , r'' , r' '      , r' '  , r'',                     r''      ]\n",
    "\n",
    "clean_speech = pdf.replace(speech, old, new)\n",
    "print(clean_speech)"
   ]
  },
  {
   "cell_type": "code",
   "execution_count": 14,
   "id": "285af2d0",
   "metadata": {},
   "outputs": [
    {
     "name": "stdout",
     "output_type": "stream",
     "text": [
      "pdf 1\n",
      "['CGI_2013', 19, '24 September 2013', 'Sheraton New York Hotel and Towers, New York, New York', 10]\n",
      "Hillary Clinton: Thank you very much. I have the great pleasure to introduce our next two speakers, \n",
      "\n",
      "pdf 2\n",
      "['Prayer_Breakfast_2016', 7, '4 February 2016', 'Washington Hilton, Washington, D.C.', 0]\n",
      "Well, good morning. Giving all praise and honor to God for bringing us together here this morning. I\n",
      "\n",
      "pdf 3\n",
      "['Security_Team_Announcement', 5, '1 December 2008', 'Chicago, Illinois', 0]\n",
      "Good morning, everybody. I hope you all had a wonderful Thanksgiving. Last week, we announced our ec\n",
      "\n",
      "pdf 4\n",
      "['Cairo_University', 14, '4 June 2009', 'Cairo, Egypt', 0]\n",
      "Thank you so much. Good afternoon. I am honored to be in the timeless city of Cairo, and to be hoste\n",
      "\n",
      "pdf 5\n",
      "['Umpqua_Community_College_Shootings', 4, '1 October 2015', 'Washington, D.C.', 0]\n",
      "Theres been another mass shooting in America this time, in a community college in Oregon. That means\n",
      "\n",
      "pdf 6\n",
      "['White_House_Correspondent_Dinner_2013', 6, '27 April 2013', 'Washington Hilton Hotel, Washington, D.C.', 0]\n",
      "Thank you. Thank you, everybody. How do you like my new entrance music? Rush Limbaugh warned you abo\n",
      "\n",
      "pdf 7\n",
      "['Border_Security_and_Immigration_Reform', 5, '30 June 2014', 'unknown_location', 0]\n",
      "Good afternoon, everybody. One year ago this month, senators of both parties with support from the b\n",
      "\n",
      "pdf 8\n",
      "['Senate_Floor_Immigration_Reform', 5, '23 May 2007', 'Washington, D.C.', 0]\n",
      "Mr. President, Last year I spoke1 at one of the marches in Chicago for comprehensive immigration ref\n",
      "\n",
      "pdf 9\n",
      "['Presser_on_the_Economy_and_Debt_Limit', 21, '29 June 2011', 'East Room of the White House, Washington, D.C.', 26]\n",
      "I just want to say a few words about the economy before I take your questions. There are a lot of fo\n",
      "\n",
      "pdf 10\n",
      "['Kennedy_Center_Honorees_2009', 6, '6 December 2009', 'unknown_location', 4]\n",
      "President Obama: Thank you. On behalf of Michelle and myself, welcome to the White House. Little Chi\n",
      "\n"
     ]
    }
   ],
   "source": [
    "csv_filename = Path.cwd().parent / \"speeches_csv\" / \"speeches.csv\"\n",
    "\n",
    "fields = [\"title\", \"pages\", \"date\", \"location\", \"highest_speaker_count\", \"content\"]\n",
    "\n",
    "# use 'a+' instead of 'w' if you want to append at the bottom of the file instead of replacing the file\n",
    "with open(csv_filename, 'w') as csvfile: \n",
    "    csvwriter = csv.writer(csvfile, delimiter=',', quotechar='\"', quoting=csv.QUOTE_MINIMAL) \n",
    "        \n",
    "    csvwriter.writerow(fields) \n",
    "        \n",
    "    for i in range(10):  # for i in range(len(pdfs)):\n",
    "        filepath = pdfs[i]\n",
    "        pdf = PDFHandler(filepath)\n",
    "        speech = pdf.extract_speech(pat)\n",
    "        \n",
    "        count = ('obama:', 'president:', 'question:', 'audience:', 'member:')\n",
    "        counts, speakers = pdf.multiple_speakers(speech, count)\n",
    "        \n",
    "        clean_speech = pdf.replace(speech, old, new)\n",
    "        \n",
    "        title = pdf.get_title()\n",
    "        nb_pages = pdf.get_nb_pages()\n",
    "        date = pdf.get_date_str()\n",
    "        loc = pdf.get_location_str()\n",
    "        highest_count = max(counts.values())\n",
    "        \n",
    "        row = [title, nb_pages, date, loc, highest_count, clean_speech]\n",
    "        csvwriter.writerow(row)\n",
    "        \n",
    "        print(\"pdf\", i+1)\n",
    "        print(row[:-1])\n",
    "        print(row[-1][:100])\n",
    "        print()"
   ]
  }
 ],
 "metadata": {
  "kernelspec": {
   "display_name": "Python 3 (ipykernel)",
   "language": "python",
   "name": "python3"
  },
  "language_info": {
   "codemirror_mode": {
    "name": "ipython",
    "version": 3
   },
   "file_extension": ".py",
   "mimetype": "text/x-python",
   "name": "python",
   "nbconvert_exporter": "python",
   "pygments_lexer": "ipython3",
   "version": "3.9.5"
  },
  "latex_envs": {
   "LaTeX_envs_menu_present": true,
   "autoclose": false,
   "autocomplete": true,
   "bibliofile": "biblio.bib",
   "cite_by": "apalike",
   "current_citInitial": 1,
   "eqLabelWithNumbers": true,
   "eqNumInitial": 1,
   "hotkeys": {
    "equation": "Ctrl-E",
    "itemize": "Ctrl-I"
   },
   "labels_anchors": false,
   "latex_user_defs": false,
   "report_style_numbering": false,
   "user_envs_cfg": false
  },
  "toc": {
   "base_numbering": 1,
   "nav_menu": {},
   "number_sections": true,
   "sideBar": true,
   "skip_h1_title": false,
   "title_cell": "Table of Contents",
   "title_sidebar": "Contents",
   "toc_cell": false,
   "toc_position": {},
   "toc_section_display": true,
   "toc_window_display": false
  },
  "varInspector": {
   "cols": {
    "lenName": 16,
    "lenType": 16,
    "lenVar": 40
   },
   "kernels_config": {
    "python": {
     "delete_cmd_postfix": "",
     "delete_cmd_prefix": "del ",
     "library": "var_list.py",
     "varRefreshCmd": "print(var_dic_list())"
    },
    "r": {
     "delete_cmd_postfix": ") ",
     "delete_cmd_prefix": "rm(",
     "library": "var_list.r",
     "varRefreshCmd": "cat(var_dic_list()) "
    }
   },
   "types_to_exclude": [
    "module",
    "function",
    "builtin_function_or_method",
    "instance",
    "_Feature"
   ],
   "window_display": false
  }
 },
 "nbformat": 4,
 "nbformat_minor": 5
}
