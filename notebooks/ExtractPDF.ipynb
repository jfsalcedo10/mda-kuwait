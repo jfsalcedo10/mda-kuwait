{
 "cells": [
  {
   "cell_type": "code",
   "execution_count": 1,
   "id": "7219351a",
   "metadata": {},
   "outputs": [],
   "source": [
    "from pathlib import Path\n",
    "\n",
    "import pdfplumber\n",
    "import re\n",
    "\n",
    "from pdf_processing import *"
   ]
  },
  {
   "cell_type": "markdown",
   "id": "a4ed81dc",
   "metadata": {},
   "source": [
    "TODO: \n",
    " - Q&As / interviews\n",
    " - check more PDFs for differences in format"
   ]
  },
  {
   "cell_type": "markdown",
   "id": "c91117f1",
   "metadata": {},
   "source": [
    "Get the path to the directory in which the PDFs are stored."
   ]
  },
  {
   "cell_type": "code",
   "execution_count": 2,
   "id": "2c239d92",
   "metadata": {},
   "outputs": [],
   "source": [
    "pdf_dir = Path.cwd().parent / \"pdfs\""
   ]
  },
  {
   "cell_type": "markdown",
   "id": "f03551e4",
   "metadata": {},
   "source": [
    "Filepaths of all the PDFs in the folder `pdf_dir`, can be used to iterate over all the PDFs to store the extracted speeches in a dataframe."
   ]
  },
  {
   "cell_type": "code",
   "execution_count": 3,
   "id": "0751ecb4",
   "metadata": {},
   "outputs": [
    {
     "name": "stdout",
     "output_type": "stream",
     "text": [
      "current number of PDFs: 4\n"
     ]
    }
   ],
   "source": [
    "pdfs = list(pdf_dir.glob('*.pdf'))  \n",
    "print(\"current number of PDFs:\", len(pdfs))"
   ]
  },
  {
   "cell_type": "markdown",
   "id": "c332ab84",
   "metadata": {},
   "source": [
    "Get filepath of the PDF you want to process."
   ]
  },
  {
   "cell_type": "code",
   "execution_count": 4,
   "id": "d179e7ec",
   "metadata": {},
   "outputs": [],
   "source": [
    "filepath = pdfs[2]"
   ]
  },
  {
   "cell_type": "markdown",
   "id": "f6946b1a",
   "metadata": {},
   "source": [
    "Make a PDFHandler object for the given filepath."
   ]
  },
  {
   "cell_type": "code",
   "execution_count": 5,
   "id": "54e77483",
   "metadata": {},
   "outputs": [],
   "source": [
    "pdf = PDFHandler(filepath)"
   ]
  },
  {
   "cell_type": "markdown",
   "id": "3ef2da9a",
   "metadata": {},
   "source": [
    "Print the first page of the PDF before it has been processed."
   ]
  },
  {
   "cell_type": "code",
   "execution_count": 6,
   "id": "7bce4a84",
   "metadata": {},
   "outputs": [
    {
     "name": "stdout",
     "output_type": "stream",
     "text": [
      "  \n",
      "AA RR\n",
      "mmeerriiccaann hheettoorriicc..ccoomm  \n",
      " \n",
      "B O\n",
      "arack  bama \n",
      "Farewell Remarks at Joint Base Andrews \n",
      " \n",
      "delivered 20 January 2017, Prince George County, Maryland\n",
      " \n",
      " \n",
      "AUTHENTICITY CERTIFIED: Text version below transcribed directly from audio \n",
      "Michelle and I, we've really been milking this goodbye thing, so it behooves me to be very \n",
      " \n",
      "brief.\n",
      "Audience Members: No, no!  \n",
      "President Obama: Yes, yes.  \n",
      "You know, I said before and I will say again, that when we started on this journey we did so \n",
      "with an abiding faith in the American people and their ability, out ability, to join together to \n",
      "change the country in ways that would make life better for our kids and our grandkids, that \n",
      " \n",
      "change didn’t happen from the top down, but it happened from the bottom up.\n",
      "It was met sometimes with skepticism and doubt. Some folks didn’t think we could pull it off. \n",
      "There were those who felt that the institutions of power and privilege in this country were too \n",
      " \n",
      "deeply entrenched.\n",
      "Property of AmericanRhetoric.com                                    Updated 12/16/21                                       Page 1 \n"
     ]
    }
   ],
   "source": [
    "print(pdf.original_page(0))"
   ]
  },
  {
   "cell_type": "markdown",
   "id": "94964bce",
   "metadata": {},
   "source": [
    "Define a regular expression to get the date, location, and content of the speech. Extract the entire speech from the PDF."
   ]
  },
  {
   "cell_type": "code",
   "execution_count": 7,
   "id": "9cbed3e8",
   "metadata": {
    "scrolled": true
   },
   "outputs": [
    {
     "name": "stdout",
     "output_type": "stream",
     "text": [
      "Michelle and I, we've really been milking this goodbye thing, so it behooves me to be very \n",
      " \n",
      "brief.\n",
      "Audience Members: No, no!  \n",
      "President Obama: Yes, yes.  \n",
      "You know, I said before and I will say again, that when we started on this journey we did so \n",
      "with an abiding faith in the American people and their ability, out ability, to join together to \n",
      "change the country in ways that would make life better for our kids and our grandkids, that \n",
      " \n",
      "change didn’t happen from the top down, but it happened from the bottom up.\n",
      "It was met sometimes with skepticism and doubt. Some folks didn’t think we could pull it off. \n",
      "There were those who felt that the institutions of power and privilege in this country were too \n",
      " \n",
      "deeply entrenched. And yet, all of you came together, in small towns and big cities, a whole bunch of you really \n",
      "young, and you decided to believe. And you knocked on doors and you made phone calls, and \n",
      "you talked to your parents who didn’t know how to pronounce Barack Obama. And you got to \n",
      "know each other. And you went into communities that maybe you’d never even thought about \n",
      "visiting. And met people that on the surface seemed completely different than you -- who \n",
      "didn’t look like you or talk like you or watch the same TV programs as you. And yet, once you \n",
      " \n",
      "started talking to them, it turned out that you had something in common.\n",
      " \n",
      "And it grew, and it built.\n",
      "And people took notice. And throughout, it was infused with a sense of hope. And as I said in \n",
      "2004, it wasn’t blind optimism that drove you to do all this work. It wasn’t naïveté. It wasn’t \n",
      "willful ignorance to all the challenges that America faces. It was hope in the face of difficulty, \n",
      " \n",
      "hope in the face of uncertainty.\n",
      " \n",
      "You proved the power of hope. \n",
      "And throughout this process, Michelle and I -- we’ve just been your frontmen and women. We \n",
      "have been the face, sometimes the voice, out front on the TV screen or in front of the \n",
      " \n",
      "microphone. But this has never been about us. It has always been about you.\n",
      "And all the amazing things that happened over these last 10 years are really just a testament \n",
      "to you -- in the same way that when we talk about our amazing military and our men and \n",
      "women in uniform. The -- The military’s not a thing. It’s a group of committed patriots willing \n",
      "to sacrifice everything on our behalf. It works only because of the people in it. As -- As cool as \n",
      "the hardware is -- and we’ve got cool hardware -- as cool as the machines, weapons, and \n",
      "satellites are, ultimately it comes down to remarkable people, some of them a lot closer to \n",
      " \n",
      "Malia’s age than -- than mine or Michelle’s.\n",
      "Well the same thing’s true for our democracy. Our democracy’s not the buildings; it’s not the \n",
      "monuments; it’s you being willing to work to make things better, and being willing to listen to \n",
      "each other and argue with each other and come together and knock on doors and make phone \n",
      " \n",
      "calls and treat people with respect.\n",
      " \n",
      "And that doesn’t end. This is just a -- just a little old pit stop.\n",
      " \n",
      "This...is not a period. This is a comma in the continuing story of building America. So to all of you that have put your heart and soul, not just into our campaigns but into \n",
      "making schools better; making sure our veterans got the care they needed; making sure that \n",
      "we left behind a planet that is safe and secure for our kids; making sure that hardworking \n",
      " \n",
      "people have a ladder of opportunity that supports families.\n",
      "For -- For all of you who have just done amazing, remarkable work, most of it unheralded, \n",
      "most of it without fanfare, most of it without you getting any word of thanks, we could not be \n",
      "prouder of you. I could not be prouder. This has been the privilege of my life, and I know I \n",
      " \n",
      "speak for Michelle as well. \n",
      "And you know, we look forward to continuing this journey with all of you; and I can’t wait to \n",
      " \n",
      "see what you do next.\n",
      " \n",
      "And I promise you, I’ll be right here with you. \n",
      " \n",
      "All right?\n",
      " \n",
      "God bless you. Thank you, everybody.\n",
      " \n",
      "Yes we did. Yes we can.\n",
      " \n",
      "God bless America.\n"
     ]
    }
   ],
   "source": [
    "start = r\"(?:hheettoorriicc\\.\\.ccoomm)\"\n",
    "date = r\"(.*delivered\\s+(?P<day>[0-9]{1,2})\\s+(?P<mon>[A-Z][a-z]+)\\s+(?P<year>[0-9]{2,4}),\"\n",
    "loc = r\"\\s+(?P<location_small>[A-Za-z0-9. ]+),\\s+(?P<location_big>[A-Za-z0-9., ]+)\"\n",
    "auth = r\"(?:\\s+AUTHENTICITY CERTIFIED: Text version below transcribed directly from audio))?\"\n",
    "content = r\"\\s+(?P<content>.*)\\n+\"\n",
    "end = r\"(?:(Property\\s+of\\s+)?AmericanRhetoric\\.com)\"\n",
    "\n",
    "pat = re.compile(start + date + loc + auth + content + end, re.DOTALL)\n",
    "\n",
    "speech = pdf.extract_speech(pat)\n",
    "print(speech)"
   ]
  },
  {
   "cell_type": "markdown",
   "id": "cb2be298",
   "metadata": {},
   "source": [
    "Print the relevant info of the PDF."
   ]
  },
  {
   "cell_type": "code",
   "execution_count": 8,
   "id": "0b150a8e",
   "metadata": {},
   "outputs": [
    {
     "name": "stdout",
     "output_type": "stream",
     "text": [
      "Title: Farewell_to_Staff_and_Supporters\n",
      "Number of pages: 3\n",
      "Date: ['20', 'January', '2017']\n",
      "Location: ['Prince George County', 'Maryland']\n"
     ]
    }
   ],
   "source": [
    "pdf.print_info()"
   ]
  },
  {
   "cell_type": "markdown",
   "id": "26099d7d",
   "metadata": {},
   "source": [
    "Replace or delete some characters to clean the speech."
   ]
  },
  {
   "cell_type": "code",
   "execution_count": 9,
   "id": "87a4b542",
   "metadata": {
    "scrolled": true
   },
   "outputs": [
    {
     "name": "stdout",
     "output_type": "stream",
     "text": [
      "Michelle and I, we've really been milking this goodbye thing, so it behooves me to be very brief. Audience Members: No, no! President Obama: Yes, yes. You know, I said before and I will say again, that when we started on this journey we did so with an abiding faith in the American people and their ability, out ability, to join together to change the country in ways that would make life better for our kids and our grandkids, that change didn't happen from the top down, but it happened from the bottom up. It was met sometimes with skepticism and doubt. Some folks didn't think we could pull it off. There were those who felt that the institutions of power and privilege in this country were too deeply entrenched. And yet, all of you came together, in small towns and big cities, a whole bunch of you really young, and you decided to believe. And you knocked on doors and you made phone calls, and you talked to your parents who didn't know how to pronounce Barack Obama. And you got to know each other. And you went into communities that maybe you'd never even thought about visiting. And met people that on the surface seemed completely different than you who didn't look like you or talk like you or watch the same TV programs as you. And yet, once you started talking to them, it turned out that you had something in common. And it grew, and it built. And people took notice. And throughout, it was infused with a sense of hope. And as I said in 2004, it wasn't blind optimism that drove you to do all this work. It wasn't naïveté. It wasn't willful ignorance to all the challenges that America faces. It was hope in the face of difficulty, hope in the face of uncertainty. You proved the power of hope. And throughout this process, Michelle and I we've just been your frontmen and women. We have been the face, sometimes the voice, out front on the TV screen or in front of the microphone. But this has never been about us. It has always been about you. And all the amazing things that happened over these last 10 years are really just a testament to you in the same way that when we talk about our amazing military and our men and women in uniform. The The military's not a thing. It's a group of committed patriots willing to sacrifice everything on our behalf. It works only because of the people in it. As As cool as the hardware is and we've got cool hardware as cool as the machines, weapons, and satellites are, ultimately it comes down to remarkable people, some of them a lot closer to Malia's age than than mine or Michelle's. Well the same thing's true for our democracy. Our democracy's not the buildings; it's not the monuments; it's you being willing to work to make things better, and being willing to listen to each other and argue with each other and come together and knock on doors and make phone calls and treat people with respect. And that doesn't end. This is just a just a little old pit stop. This is not a period. This is a comma in the continuing story of building America. So to all of you that have put your heart and soul, not just into our campaigns but into making schools better; making sure our veterans got the care they needed; making sure that we left behind a planet that is safe and secure for our kids; making sure that hardworking people have a ladder of opportunity that supports families. For For all of you who have just done amazing, remarkable work, most of it unheralded, most of it without fanfare, most of it without you getting any word of thanks, we could not be prouder of you. I could not be prouder. This has been the privilege of my life, and I know I speak for Michelle as well. And you know, we look forward to continuing this journey with all of you; and I can't wait to see what you do next. And I promise you, I'll be right here with you. All right? God bless you. Thank you, everybody. Yes we did. Yes we can. God bless America.\n"
     ]
    }
   ],
   "source": [
    "old = [r\"-+\", r\"\\.{2,}\", r\"\\s+\", r'[’‘]', r'\"+']\n",
    "new = [r\" \",  r\" \",      r\" \",   r\"'\",    r\"\"]\n",
    "\n",
    "clean_speech = pdf.replace(speech, old, new)\n",
    "print(clean_speech)"
   ]
  },
  {
   "cell_type": "code",
   "execution_count": null,
   "id": "2bc4e069",
   "metadata": {},
   "outputs": [],
   "source": []
  },
  {
   "cell_type": "markdown",
   "id": "cded2e6a",
   "metadata": {},
   "source": [
    "Old code, used for debugging."
   ]
  },
  {
   "cell_type": "code",
   "execution_count": null,
   "id": "30f576c9",
   "metadata": {},
   "outputs": [],
   "source": [
    "pdfs = [\"Farewell_to_Staff_and_Supporters\", \"Flint_Michigan_Community\", \"Guantanamo_Bay_Closing\", \"Post_G7_Presser_Japan\"]\n",
    "\n",
    "pdf_dir = Path.cwd().parent / \"pdfs\"\n",
    "file_to_open = pdfs[2] + \".pdf\" \n",
    "pdf = pdfplumber.open(pdf_dir / file_to_open)\n",
    "\n",
    "print('Title:', pdf.metadata['Title'])\n",
    "print(\"number of pages:\", len(pdf.pages))"
   ]
  },
  {
   "cell_type": "code",
   "execution_count": null,
   "id": "fb301147",
   "metadata": {
    "scrolled": false
   },
   "outputs": [],
   "source": [
    "text = pdf.pages[0].extract_text()\n",
    "    \n",
    "#start = r\"hheettoorriicc\\.\\.ccoomm(?:.*AUTHENTICITY CERTIFIED: Text version below transcribed directly from audio)?\"\n",
    "start = r\"(?:hheettoorriicc\\.\\.ccoomm)\"\n",
    "date = r\"(.*delivered\\s+(?P<day>[ 123][0-9])\\s+(?P<mon>[A-Z][a-z]+)\\s+(?P<year>[0-9][0-9][0-9][0-9]),\"\n",
    "loc = r\"\\s+(?P<location_small>[A-Za-z0-9 ]+),\\s+(?P<location_big>.*)\\n+\"\n",
    "auth = r\"(?:.*AUTHENTICITY CERTIFIED: Text version below transcribed directly from audio))?\"\n",
    "mid = r\"\\s*\\n+(?P<content>.*)\\s*\\n+\"\n",
    "end = r\"(?:(?:Property\\s+of\\s+)?AmericanRhetoric\\.com)\"\n",
    "\n",
    "core_pat = re.compile(start + date+loc+auth + mid + end, re.DOTALL)\n",
    "\n",
    "print(\"ORIGINAL:\\n\")\n",
    "print(text)\n",
    "print(\"\\n\\n\" + 100*\"-\" + \"\\n\\n\") \n",
    "\n",
    "search = re.search(core_pat, text)\n",
    "core = search.group(\"content\")\n",
    "\n",
    "dash = re.compile(r\"-+\")\n",
    "no_dash_core = dash.sub(r\" \", core)\n",
    "\n",
    "dots = re.compile(r\"\\.{2,}\")\n",
    "no_dots_core = dots.sub(r\" \", no_dash_core)\n",
    "\n",
    "spaces = re.compile(r\"\\s+\")\n",
    "single_space_core = spaces.sub(r\" \", no_dots_core)\n",
    "\n",
    "print(\"PROCESSED:\\n\")\n",
    "print(single_space_core)"
   ]
  },
  {
   "cell_type": "code",
   "execution_count": null,
   "id": "d3f7f836",
   "metadata": {},
   "outputs": [],
   "source": [
    "def extract_speech(pages):\n",
    "    full_text = \"\"\n",
    "    \n",
    "    start = r\"hheettoorriicc\\.\\.ccoomm(?:.*AUTHENTICITY CERTIFIED: Text version below transcribed directly from audio)?\"\n",
    "    mid = r\"\\s+(?P<content>.*)\\s+\"\n",
    "    end = r\"(?:Property of )?AmericanRhetoric\\.com\"\n",
    "    core_pat = re.compile(start+mid+end, re.DOTALL)\n",
    "        \n",
    "    for i in range(len(pages)):\n",
    "        text = pages[i].extract_text()\n",
    "        \n",
    "        core = re.search(core_pat, text).group(\"content\")\n",
    "        \n",
    "        core = replace(core, [r\"-+\", r\"\\.{2,}\", r\"\\s+\"], r\" \")\n",
    "        \n",
    "        full_text += core + \" \"\n",
    "        \n",
    "    return full_text\n",
    "\n",
    "\n",
    "def replace(text, old, new):\n",
    "    for i in range(len(old)):\n",
    "        pat = re.compile(old[i])\n",
    "        text = pat.sub(new, text)\n",
    "    return text\n"
   ]
  },
  {
   "cell_type": "code",
   "execution_count": null,
   "id": "57551d7e",
   "metadata": {
    "scrolled": true
   },
   "outputs": [],
   "source": [
    "full_speech = extract_speech(pdf.pages)\n",
    "print(full_speech)"
   ]
  },
  {
   "cell_type": "code",
   "execution_count": null,
   "id": "4634b0f3",
   "metadata": {},
   "outputs": [],
   "source": [
    "pdf.close()"
   ]
  }
 ],
 "metadata": {
  "kernelspec": {
   "display_name": "Python 3 (ipykernel)",
   "language": "python",
   "name": "python3"
  },
  "language_info": {
   "codemirror_mode": {
    "name": "ipython",
    "version": 3
   },
   "file_extension": ".py",
   "mimetype": "text/x-python",
   "name": "python",
   "nbconvert_exporter": "python",
   "pygments_lexer": "ipython3",
   "version": "3.9.5"
  },
  "latex_envs": {
   "LaTeX_envs_menu_present": true,
   "autoclose": false,
   "autocomplete": true,
   "bibliofile": "biblio.bib",
   "cite_by": "apalike",
   "current_citInitial": 1,
   "eqLabelWithNumbers": true,
   "eqNumInitial": 1,
   "hotkeys": {
    "equation": "Ctrl-E",
    "itemize": "Ctrl-I"
   },
   "labels_anchors": false,
   "latex_user_defs": false,
   "report_style_numbering": false,
   "user_envs_cfg": false
  },
  "toc": {
   "base_numbering": 1,
   "nav_menu": {},
   "number_sections": true,
   "sideBar": true,
   "skip_h1_title": false,
   "title_cell": "Table of Contents",
   "title_sidebar": "Contents",
   "toc_cell": false,
   "toc_position": {},
   "toc_section_display": true,
   "toc_window_display": false
  },
  "varInspector": {
   "cols": {
    "lenName": 16,
    "lenType": 16,
    "lenVar": 40
   },
   "kernels_config": {
    "python": {
     "delete_cmd_postfix": "",
     "delete_cmd_prefix": "del ",
     "library": "var_list.py",
     "varRefreshCmd": "print(var_dic_list())"
    },
    "r": {
     "delete_cmd_postfix": ") ",
     "delete_cmd_prefix": "rm(",
     "library": "var_list.r",
     "varRefreshCmd": "cat(var_dic_list()) "
    }
   },
   "types_to_exclude": [
    "module",
    "function",
    "builtin_function_or_method",
    "instance",
    "_Feature"
   ],
   "window_display": false
  }
 },
 "nbformat": 4,
 "nbformat_minor": 5
}
