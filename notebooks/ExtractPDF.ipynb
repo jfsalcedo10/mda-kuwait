{
 "cells": [
  {
   "cell_type": "code",
   "execution_count": 1,
   "id": "7219351a",
   "metadata": {},
   "outputs": [],
   "source": [
    "from pathlib import Path\n",
    "\n",
    "import pdfplumber\n",
    "import re\n",
    "\n",
    "import sys\n",
    "src_path = str(Path.cwd().parent / \"src\")\n",
    "sys.path.append(src_path)\n",
    "from pdf_processing import *"
   ]
  },
  {
   "cell_type": "markdown",
   "id": "a4ed81dc",
   "metadata": {},
   "source": [
    "TODO: \n",
    " - Q&As / interviews\n",
    " - check more PDFs for differences in format\n",
    " - locations with multiple comma's (ex. when Washington, D.C. is included)\n",
    " - locations not included after the date\n",
    " - write documentation"
   ]
  },
  {
   "cell_type": "markdown",
   "id": "c91117f1",
   "metadata": {},
   "source": [
    "Get the path to the directory in which the PDFs are stored."
   ]
  },
  {
   "cell_type": "code",
   "execution_count": 2,
   "id": "2c239d92",
   "metadata": {},
   "outputs": [],
   "source": [
    "pdf_dir = Path.cwd().parent / \"pdfs\""
   ]
  },
  {
   "cell_type": "markdown",
   "id": "f03551e4",
   "metadata": {},
   "source": [
    "Filepaths of all the PDFs in the folder `pdf_dir`, can be used to iterate over all the PDFs to store the extracted speeches in a dataframe."
   ]
  },
  {
   "cell_type": "code",
   "execution_count": 3,
   "id": "0751ecb4",
   "metadata": {},
   "outputs": [
    {
     "name": "stdout",
     "output_type": "stream",
     "text": [
      "current number of PDFs: 436\n"
     ]
    }
   ],
   "source": [
    "pdfs = list(pdf_dir.glob('*.pdf'))  \n",
    "print(\"current number of PDFs:\", len(pdfs))"
   ]
  },
  {
   "cell_type": "markdown",
   "id": "c332ab84",
   "metadata": {},
   "source": [
    "Get filepath of the PDF you want to process."
   ]
  },
  {
   "cell_type": "code",
   "execution_count": 4,
   "id": "d179e7ec",
   "metadata": {},
   "outputs": [],
   "source": [
    "filepath = pdfs[400]"
   ]
  },
  {
   "cell_type": "markdown",
   "id": "f6946b1a",
   "metadata": {},
   "source": [
    "Make a PDFHandler object for the given filepath."
   ]
  },
  {
   "cell_type": "code",
   "execution_count": 6,
   "id": "54e77483",
   "metadata": {},
   "outputs": [],
   "source": [
    "pdf = PDFHandler(filepath)"
   ]
  },
  {
   "cell_type": "markdown",
   "id": "3ef2da9a",
   "metadata": {},
   "source": [
    "Print the first page of the PDF before it has been processed."
   ]
  },
  {
   "cell_type": "code",
   "execution_count": 7,
   "id": "7bce4a84",
   "metadata": {
    "scrolled": true
   },
   "outputs": [
    {
     "name": "stdout",
     "output_type": "stream",
     "text": [
      "  \n",
      "AA RR\n",
      "mmeerriiccaann hheettoorriicc..ccoomm  \n",
      " \n",
      "Barack Obama \n",
      "Eulogy for Beau Biden III \n",
      "delivered 6 June 2015, St. Anthony of Padua Church Wilmington, Delaware \n",
      " \n",
      " \n",
      "AUTHENTICITY CERTIFIED: Text version below transcribed directly from audio \n",
      "“A man,” wrote an Irish poet, “is original when he speaks the truth that has always been \n",
      "known to all good men.”  Beau Biden was an original.  He was a good man.  A man of \n",
      " \n",
      "character.  A man who loved deeply, and was loved in return.\n",
      "Your Eminences, your Excellencies, General Odierno, distinguished guests; to Hallie, Natalie \n",
      "and Hunter; to Hunter, Kathleen, Ashley, Howard; the rest of Beau’s beautiful family, friends, \n",
      "colleagues; to Jill and to Joe -- we are here to grieve with you, but more importantly, we are \n",
      " \n",
      "here because we love you.\n",
      "Without love, life can be cold and it can be cruel.  Sometimes cruelty is deliberate -- the \n",
      "action of bullies or bigots, or the inaction of those indifferent to another’s pain.  But often, \n",
      "cruelty is simply born of life, a matter of fate or God’s will, beyond our mortal powers to \n",
      "comprehend.  To suffer such faceless, seemingly random cruelty can harden the softest \n",
      "hearts, or shrink the sturdiest.  It can make one mean, or bitter, or full of self-pity.  Or, to \n",
      " \n",
      "paraphrase an old proverb, it can make you beg for a lighter burden.\n",
      "But if you’re strong enough, it can also make you ask God for broader shoulders; shoulders \n",
      "broad enough to bear not only your own burdens, but the burdens of others; shoulders broad \n",
      " \n",
      "enough to shield those who need shelter the most.\n",
      "AmericanRhetoric.com         Page 1 \n"
     ]
    }
   ],
   "source": [
    "print(pdf.original_page(0))"
   ]
  },
  {
   "cell_type": "markdown",
   "id": "640d8009",
   "metadata": {},
   "source": [
    "Print the second page of the PDF before it has been processed."
   ]
  },
  {
   "cell_type": "code",
   "execution_count": 8,
   "id": "049fae36",
   "metadata": {
    "scrolled": true
   },
   "outputs": [
    {
     "name": "stdout",
     "output_type": "stream",
     "text": [
      "  \n",
      "AA RR\n",
      "mmeerriiccaann hheettoorriicc..ccoomm  \n",
      " \n",
      "To know Beau Biden is to know which choice he made in his life.  To know Joe and the rest of \n",
      "the Biden family is to understand why Beau lived the life he did.  For Beau, a cruel twist of \n",
      "fate came early -- the car accident that took his mom and his sister, and confined Beau and \n",
      " \n",
      "Hunter, then still toddlers, to hospital beds at Christmastime.\n",
      "But Beau was a Biden.  And he learned early the Biden family rule:  If you have to ask for \n",
      "help, it’s too late.  It meant you were never alone; you don’t even have to ask, because \n",
      " \n",
      "someone is always there for you when you need them.\n",
      "And so, after the accident, Aunt Valerie rushed in to care for the boys, and remained to help \n",
      "raise them.  Joe continued public service, but shunned the parlor games of Washington, \n",
      "choosing instead the daily commute home, maintained for decades, that would let him meet \n",
      "his most cherished duty -- to see his kids off to school, to kiss them at night, to let them know \n",
      " \n",
      "that the world was stable and that there was firm ground under their feet.\n",
      "As Joe himself confessed to me, he did not just do this because the kids needed him.  He did \n",
      "it because he needed those kids.  And somehow, Beau sensed that -- how understandably and \n",
      "deeply hurt his family and his father was.  And so, rather than use his childhood trauma as \n",
      "justification for a life of self-pity or self-centeredness, that very young boy made a very \n",
      "grown-up decision:  He would live a life of meaning.  He would live a life for others.  He would \n",
      " \n",
      "ask God for broader shoulders.\n",
      "Beau would guide and look out for his younger brother.  He would embrace his new mom -- \n",
      "apparently, the two boys sheepishly asking their father when they could all marry Jill -- and \n",
      "throughout his life, no one would make Jill laugh harder.  He would look after their baby \n",
      "sister, Ashley.  He would forever be the one to do the right thing, careful not to give his family \n",
      " \n",
      "or his friends cause for concern.\n",
      "It’s no secret that a lot of what made Beau the way he was was just how much he loved and \n",
      "admired his dad.  He studied law, like his dad, even choosing the same law school.  He chased \n",
      "public service, like his dad, believing it to be a noble and important pursuit.  From his dad, he \n",
      "learned how to get back up when life knocked him down.  He learned that he was no higher \n",
      "than anybody else, and no lower than anybody else -- something Joe got from his mom, by \n",
      "the way.  And he learned how to make everybody else feel like we matter, because his dad \n",
      " \n",
      "taught him that everybody matters.\n",
      "He even looked and sounded like Joe, although I think Joe would be first to acknowledge that \n",
      "Beau was an upgrade -- Joe 2.0.  But as much as Beau reminded folks of Joe, he was very \n",
      " \n",
      "much his own man.  He was an original.\n",
      "Here was a scion of an incredible family who brushed away the possibility of privilege for the \n",
      "harder, better reward of earning his own way.  Here was a soldier who dodged glory, and \n",
      "exuded true humility.  A prosecutor who defended the defenseless. \n",
      "AmericanRhetoric.com         Page 2 \n"
     ]
    }
   ],
   "source": [
    "print(pdf.original_page(1))"
   ]
  },
  {
   "cell_type": "markdown",
   "id": "21594c06",
   "metadata": {},
   "source": [
    "Print the last page of the PDF before it has been processed."
   ]
  },
  {
   "cell_type": "code",
   "execution_count": 9,
   "id": "7b260608",
   "metadata": {
    "scrolled": true
   },
   "outputs": [
    {
     "name": "stdout",
     "output_type": "stream",
     "text": [
      "  \n",
      "AA RR\n",
      "mmeerriiccaann hheettoorriicc..ccoomm  \n",
      " \n",
      "Beau figured that out so early in life.  What an inheritance Beau left us.  What an example he \n",
      " \n",
      "set.\n",
      "“Through our great good fortune, in our youth our hearts were touched with fire,” said Oliver \n",
      "Wendell Holmes, Jr.  “But, above all, we have learned that whether a man accepts from \n",
      "Fortune her spade, and will look downward and dig, or from Aspiration her axe and cord, and \n",
      "will scale the ice, the one and only success which it is his to command is to bring to his work a \n",
      " \n",
      "mighty heart.”\n",
      "Beau Biden brought to his work a mighty heart.  He brought to his family a mighty heart. \n",
      " \n",
      "What a good man.  What an original.\n",
      "May God bless his memory, and the lives of all he touched. \n",
      "AmericanRhetoric.com         Page 6 \n"
     ]
    }
   ],
   "source": [
    "print(pdf.original_page(-1))"
   ]
  },
  {
   "cell_type": "markdown",
   "id": "94964bce",
   "metadata": {},
   "source": [
    "Define a regular expression to get the date, location, and content of the speech. Extract the entire speech from the PDF."
   ]
  },
  {
   "cell_type": "code",
   "execution_count": 10,
   "id": "9cbed3e8",
   "metadata": {
    "scrolled": true
   },
   "outputs": [
    {
     "name": "stdout",
     "output_type": "stream",
     "text": [
      "“A man,” wrote an Irish poet, “is original when he speaks the truth that has always been \n",
      "known to all good men.”  Beau Biden was an original.  He was a good man.  A man of \n",
      " \n",
      "character.  A man who loved deeply, and was loved in return.\n",
      "Your Eminences, your Excellencies, General Odierno, distinguished guests; to Hallie, Natalie \n",
      "and Hunter; to Hunter, Kathleen, Ashley, Howard; the rest of Beau’s beautiful family, friends, \n",
      "colleagues; to Jill and to Joe -- we are here to grieve with you, but more importantly, we are \n",
      " \n",
      "here because we love you.\n",
      "Without love, life can be cold and it can be cruel.  Sometimes cruelty is deliberate -- the \n",
      "action of bullies or bigots, or the inaction of those indifferent to another’s pain.  But often, \n",
      "cruelty is simply born of life, a matter of fate or God’s will, beyond our mortal powers to \n",
      "comprehend.  To suffer such faceless, seemingly random cruelty can harden the softest \n",
      "hearts, or shrink the sturdiest.  It can make one mean, or bitter, or full of self-pity.  Or, to \n",
      " \n",
      "paraphrase an old proverb, it can make you beg for a lighter burden.\n",
      "But if you’re strong enough, it can also make you ask God for broader shoulders; shoulders \n",
      "broad enough to bear not only your own burdens, but the burdens of others; shoulders broad \n",
      " \n",
      "enough to shield those who need shelter the most. To know Beau Biden is to know which choice he made in his life.  To know Joe and the rest of \n",
      "the Biden family is to understand why Beau lived the life he did.  For Beau, a cruel twist of \n",
      "fate came early -- the car accident that took his mom and his sister, and confined Beau and \n",
      " \n",
      "Hunter, then still toddlers, to hospital beds at Christmastime.\n",
      "But Beau was a Biden.  And he learned early the Biden family rule:  If you have to ask for \n",
      "help, it’s too late.  It meant you were never alone; you don’t even have to ask, because \n",
      " \n",
      "someone is always there for you when you need them.\n",
      "And so, after the accident, Aunt Valerie rushed in to care for the boys, and remained to help \n",
      "raise them.  Joe continued public service, but shunned the parlor games of Washington, \n",
      "choosing instead the daily commute home, maintained for decades, that would let him meet \n",
      "his most cherished duty -- to see his kids off to school, to kiss them at night, to let them know \n",
      " \n",
      "that the world was stable and that there was firm ground under their feet.\n",
      "As Joe himself confessed to me, he did not just do this because the kids needed him.  He did \n",
      "it because he needed those kids.  And somehow, Beau sensed that -- how understandably and \n",
      "deeply hurt his family and his father was.  And so, rather than use his childhood trauma as \n",
      "justification for a life of self-pity or self-centeredness, that very young boy made a very \n",
      "grown-up decision:  He would live a life of meaning.  He would live a life for others.  He would \n",
      " \n",
      "ask God for broader shoulders.\n",
      "Beau would guide and look out for his younger brother.  He would embrace his new mom -- \n",
      "apparently, the two boys sheepishly asking their father when they could all marry Jill -- and \n",
      "throughout his life, no one would make Jill laugh harder.  He would look after their baby \n",
      "sister, Ashley.  He would forever be the one to do the right thing, careful not to give his family \n",
      " \n",
      "or his friends cause for concern.\n",
      "It’s no secret that a lot of what made Beau the way he was was just how much he loved and \n",
      "admired his dad.  He studied law, like his dad, even choosing the same law school.  He chased \n",
      "public service, like his dad, believing it to be a noble and important pursuit.  From his dad, he \n",
      "learned how to get back up when life knocked him down.  He learned that he was no higher \n",
      "than anybody else, and no lower than anybody else -- something Joe got from his mom, by \n",
      "the way.  And he learned how to make everybody else feel like we matter, because his dad \n",
      " \n",
      "taught him that everybody matters.\n",
      "He even looked and sounded like Joe, although I think Joe would be first to acknowledge that \n",
      "Beau was an upgrade -- Joe 2.0.  But as much as Beau reminded folks of Joe, he was very \n",
      " \n",
      "much his own man.  He was an original.\n",
      "Here was a scion of an incredible family who brushed away the possibility of privilege for the \n",
      "harder, better reward of earning his own way.  Here was a soldier who dodged glory, and \n",
      "exuded true humility.  A prosecutor who defended the defenseless.  The rare politician who collected more fans than foes, and the rarer public figure who \n",
      " \n",
      "prioritized his private life above all else.\n",
      "Beau didn’t cut corners.  He turned down an appointment to be Delaware’s attorney general \n",
      "so he could win it fair and square.  When the field was clear for him to run for the Senate, he \n",
      "chose to finish his job as A.G. instead.  He didn’t do these things to gain favor with a cynical \n",
      "public -- it’s just who he was.  In his twenties, he and a friend were stopped for speeding \n",
      "outside Scranton.  And the officer recognized the name on the license, and because he was a \n",
      "fan of Joe’s work with law enforcement he wanted to let Beau off with a warning.  But Beau \n",
      " \n",
      "made him write that ticket.  Beau didn’t trade on his name.\n",
      "After 9/11, he joined the National Guard.  He felt it was his obligation -- part of what those \n",
      "broader shoulders are for.  He did his duty to his country and deployed to Iraq, and General \n",
      "Odierno eloquently spoke to Major Biden’s service.  What I can tell you is when he was loading \n",
      "up to ship out at Dover, there was a lot of press that wanted to interview him.  Beau refused. \n",
      " \n",
      "He was just another soldier.\n",
      "I saw him when I visited Iraq; he conducted himself the same way.  His deployment was hard \n",
      "on Hallie and the kids, like it was for so many families over the last 14 years.  It was hard on \n",
      "Joe, hard on Jill.  That’s partly why Jill threw herself into her work with military families with \n",
      "so much intensity.  That’s how you know when Joe thunders “may God protect our troops” in \n",
      " \n",
      "every speech he does, he means it so deeply.\n",
      "Like his father, Beau did not have a mean bone in his body.  The cruelty he’d endured in his \n",
      "life didn’t make him hard, it made him compassionate, empathetic.  But it did make him abhor \n",
      " \n",
      "bullies.\n",
      "Beau’s grandfather, Joe’s father, believed that the most egregious sin was to abuse your \n",
      "power to inflict pain on another.  So Beau squared his broad shoulders to protect people from \n",
      "that kind of abuse.  He fought for homeowners who were cheated, seniors who were \n",
      "scammed.  He even went after bullying itself.  He set up a Child Protector -- Predator Task \n",
      "Force, convicted more than 200 of those who targeted vulnerable children.  And in all this, he \n",
      "did it in a way that was alive to the suffering of others, bringing in experts to help spare both \n",
      " \n",
      "the children and their parents further trauma.\n",
      "That’s who Beau was.  Someone who cared.  Someone who charmed you, and disarmed you, \n",
      "and put you at ease.  When he’d have to attend a fancy fundraiser with people who took \n",
      "themselves way too seriously, he’d walk over to you and whisper something wildly \n",
      "inappropriate in your ear.  The son of a senator, a Major in the Army, the most popular \n",
      "elected official in Delaware -- I’m sorry, Joe -- but he was not above dancing in nothing but a \n",
      "sombrero and shorts at Thanksgiving if it would shake loose a laugh from the people he loved. \n",
      "And through it all, he was the consummate public servant, a notebook in his back pocket at all \n",
      "times so he could write down the problems of everyone he met and go back to the office to \n",
      " \n",
      "get them fixed. Because he was a Biden, the titles that come with family -- husband, father, son, brother, \n",
      "uncle -- those were the ones Beau valued above any other.  This was a man who, at the \n",
      "Democratic National Convention, didn’t spend all his time in backrooms with donors or glad-\n",
      "handing.  Instead, he rode the escalators in the arena with his son, up and down, up and \n",
      " \n",
      "down, again and again, knowing, just like Joe had learned, what ultimately mattered in life.\n",
      "You know, anyone can make a name for themselves in this reality TV age, especially in \n",
      "today’s politics.  If you’re loud enough or controversial enough, you can get some attention. \n",
      "But to make that name mean something, to have it associated with dignity and integrity -- \n",
      "that is rare.  There’s no shortcut to get it.  It’s not something you can buy.  But if you do right \n",
      "by your children, maybe you can pass it on.  And what greater inheritance is there?  What \n",
      "greater inheritance than to be part of a family that passes on the values of what it means to \n",
      "be a great parent; that passes on the values of what it means to be a true citizen; that passes \n",
      "on the values of what it means to give back, fully and freely, without expecting anything in \n",
      " \n",
      "return?\n",
      "That’s what our country was built on -- men like Beau.  That’s who built it -- families like this. \n",
      "We don’t have kings or queens or lords.  We don’t have to be born into money to have an \n",
      "impact.  We don’t have to step on one another to be successful.  We have this remarkable \n",
      "privilege of being able to earn what we get out of life, with the knowledge that we are no \n",
      "higher than anybody else, or lower than anybody else.  We know this not just because it is in \n",
      "our founding documents, but because families like the Bidens have made it so, because \n",
      " \n",
      "people like Beau have made it so.\n",
      "He did in 46 years what most of us couldn’t do in 146.  He left nothing in the tank.  He was a \n",
      "man who led a life where the means were as important as the ends.  And the example he set \n",
      "made you want to be a better dad, or a better son, or a better brother or sister, better at your \n",
      "job, the better soldier.  He made you want to be a better person.  Isn’t that finally the \n",
      "measure of a man -- the way he lives, how he treats others, no matter what life may throw at \n",
      " \n",
      "him?\n",
      "We do not know how long we’ve got here.  We don’t know when fate will intervene.  We \n",
      "cannot discern God’s plan.  What we do know is that with every minute that we’ve got, we can \n",
      "live our lives in a way that takes nothing for granted.  We can love deeply.  We can help \n",
      "people who need help.  We can teach our children what matters, and pass on empathy and \n",
      " \n",
      "compassion and selflessness.  We can teach them to have broad shoulders.\n",
      "To the Biden family, this sprawling, intimate clan -- I know that Beau’s passing has left a \n",
      "gaping void in the world.  Hallie, I can only imagine the burdens that you’ve been carrying on \n",
      "your shoulders these past couple of years.  And it’s because you gave him everything that he \n",
      " \n",
      "could give everything to us.  And just as you were there for him, we’ll be there for you.\n",
      "  To Natalie and Hunter -- there aren’t words big enough to describe how much your dad loved \n",
      "you, how much he loved your mom.  But I will tell you what, Michelle and I and Sasha and \n",
      "Malia, we’ve become part of the Biden clan.  We’re honorary members now.  And the Biden \n",
      " \n",
      "family rule applies.  We’re always here for you, we always will be -- my word as a Biden.\n",
      "To Joe and Jill -- just like everybody else here, Michelle and I thank God you are in our lives. \n",
      "Taking this ride with you is one of the great pleasures of our lives.  Joe, you are my brother. \n",
      "And I’m grateful every day that you’ve got such a big heart, and a big soul, and those broad \n",
      " \n",
      "shoulders.  I couldn’t admire you more.\n",
      "I got to know Joe’s mom, Catherine Eugenia Finnegan Biden, before she passed away.  She \n",
      "was on stage with us when we were first elected.  And I know she told Joe once that out of \n",
      "everything bad that happens to you, something good will come if you look hard enough.  And \n",
      "I suppose she was channeling that same Irish poet with whom I began today, Patrick \n",
      " \n",
      "Kavanagh, when he wrote, “And I said, let grief be a fallen leaf at the dawning of the day.”\n",
      "As hard as it is right now, through all the heartache and through all the tears, it is our \n",
      "obligation to Beau to think not about what was and what might have been, but instead to \n",
      "think about what is, because of him.  Think about the day that dawns for children who are \n",
      "safer because of Beau, whose lives are fuller, because of him.  Think about the day that \n",
      "dawns for parents who rest easier, and families who are freer, because of him.  Some folks \n",
      "may never know that their lives are better because of Beau Biden.  But that’s okay.  Certainly \n",
      " \n",
      "for Beau, acclaim was never the point of public service.\n",
      "But the lines of well-wishers who’ve been here all week -- they know.  The White House \n",
      "mailroom that’s been overflowing with letters from people -- those folks know.  The soldiers \n",
      "who served with Beau, who joined the National Guard because of him.  The workers at Verdi’s \n",
      "who still have their home because of him, and who thanked him for helping them bus tables \n",
      "one busy night.  The students in Newark who remember the time he talked with them for \n",
      "hours, inexhaustible, even after giving a speech, even after taking his National Guard fitness \n",
      "test.  The Rehoboth woman who’s saved a kind voicemail from him for five years, and wrote \n",
      "to say “I loved the way he loved his family.”  And the stranger who wrote from halfway across \n",
      "this great country just to say, “The only thing we can hope for is that our children make us \n",
      "proud by making a difference in the world.  Beau has done that and then some.  The world \n",
      " \n",
      "noticed.”\n",
      "Jill, Joe, Hallie, Hunter and Natalie -- the world noticed.  They noticed.  They felt it, his \n",
      "presence.  And Beau lives on in the lives of others.  And isn’t that the whole point of our time \n",
      "here?  To make this country we love fairer and more just, not just for Natalie and Hunter, or \n",
      "Naomi, or Finnegan, or Maisy, or Malia, or Sasha, but for every child?  Isn’t that what this \n",
      " \n",
      "amazing journey we’ve been on is all about -- to make life better for the next generation?\n",
      "  Beau figured that out so early in life.  What an inheritance Beau left us.  What an example he \n",
      " \n",
      "set.\n",
      "“Through our great good fortune, in our youth our hearts were touched with fire,” said Oliver \n",
      "Wendell Holmes, Jr.  “But, above all, we have learned that whether a man accepts from \n",
      "Fortune her spade, and will look downward and dig, or from Aspiration her axe and cord, and \n",
      "will scale the ice, the one and only success which it is his to command is to bring to his work a \n",
      " \n",
      "mighty heart.”\n",
      "Beau Biden brought to his work a mighty heart.  He brought to his family a mighty heart. \n",
      " \n",
      "What a good man.  What an original.\n",
      "May God bless his memory, and the lives of all he touched.\n"
     ]
    }
   ],
   "source": [
    "start = r\"(?:hheettoorriicc\\.\\.ccoomm)\"\n",
    "date = r\"(.*[dD]elivered\\s+(?P<day>[0-9]{1,2})\\s+(?P<mon>[A-Z][a-z]+)\\s+(?P<year>[0-9]{2,4})\"\n",
    "loc = r\"(,\\s+(?P<location_small>[A-Za-z0-9. ]+),\\s+(?P<location_big>[A-Za-z0-9., ]+))?\"\n",
    "auth = r\"(?:\\s+AUTHENTICITY CERTIFIED: Text version below transcribed directly from audio))?\"\n",
    "content = r\"\\s+(?P<content>.*)\\n+\"\n",
    "end = r\"(?:(Transcription\\s+by\\s+.*)?(Property\\s+of\\s+)?AmericanRhetoric\\.com)\"\n",
    "\n",
    "pat = re.compile(start + date + loc + auth + content + end, re.DOTALL)\n",
    "\n",
    "speech = pdf.extract_speech(pat)\n",
    "print(speech)"
   ]
  },
  {
   "cell_type": "markdown",
   "id": "cb2be298",
   "metadata": {},
   "source": [
    "Print the relevant info of the PDF."
   ]
  },
  {
   "cell_type": "code",
   "execution_count": 11,
   "id": "0b150a8e",
   "metadata": {},
   "outputs": [
    {
     "name": "stdout",
     "output_type": "stream",
     "text": [
      "Title: Beau_Biden_Eulogy\n",
      "Number of pages: 6\n",
      "Date: ['6', 'June', '2015']\n",
      "Location: ['St. Anthony of Padua Church Wilmington', 'Delaware']\n"
     ]
    }
   ],
   "source": [
    "pdf.print_info()"
   ]
  },
  {
   "cell_type": "markdown",
   "id": "26099d7d",
   "metadata": {},
   "source": [
    "Replace or delete some characters to clean the speech."
   ]
  },
  {
   "cell_type": "code",
   "execution_count": 12,
   "id": "87a4b542",
   "metadata": {
    "scrolled": true
   },
   "outputs": [
    {
     "name": "stdout",
     "output_type": "stream",
     "text": [
      "A man, wrote an Irish poet, is original when he speaks the truth that has always been known to all good men. Beau Biden was an original. He was a good man. A man of character. A man who loved deeply, and was loved in return. Your Eminences, your Excellencies, General Odierno, distinguished guests; to Hallie, Natalie and Hunter; to Hunter, Kathleen, Ashley, Howard; the rest of Beau's beautiful family, friends, colleagues; to Jill and to Joe we are here to grieve with you, but more importantly, we are here because we love you. Without love, life can be cold and it can be cruel. Sometimes cruelty is deliberate the action of bullies or bigots, or the inaction of those indifferent to another's pain. But often, cruelty is simply born of life, a matter of fate or God's will, beyond our mortal powers to comprehend. To suffer such faceless, seemingly random cruelty can harden the softest hearts, or shrink the sturdiest. It can make one mean, or bitter, or full of self pity. Or, to paraphrase an old proverb, it can make you beg for a lighter burden. But if you're strong enough, it can also make you ask God for broader shoulders; shoulders broad enough to bear not only your own burdens, but the burdens of others; shoulders broad enough to shield those who need shelter the most. To know Beau Biden is to know which choice he made in his life. To know Joe and the rest of the Biden family is to understand why Beau lived the life he did. For Beau, a cruel twist of fate came early the car accident that took his mom and his sister, and confined Beau and Hunter, then still toddlers, to hospital beds at Christmastime. But Beau was a Biden. And he learned early the Biden family rule: If you have to ask for help, it's too late. It meant you were never alone; you don't even have to ask, because someone is always there for you when you need them. And so, after the accident, Aunt Valerie rushed in to care for the boys, and remained to help raise them. Joe continued public service, but shunned the parlor games of Washington, choosing instead the daily commute home, maintained for decades, that would let him meet his most cherished duty to see his kids off to school, to kiss them at night, to let them know that the world was stable and that there was firm ground under their feet. As Joe himself confessed to me, he did not just do this because the kids needed him. He did it because he needed those kids. And somehow, Beau sensed that how understandably and deeply hurt his family and his father was. And so, rather than use his childhood trauma as justification for a life of self pity or self centeredness, that very young boy made a very grown up decision: He would live a life of meaning. He would live a life for others. He would ask God for broader shoulders. Beau would guide and look out for his younger brother. He would embrace his new mom apparently, the two boys sheepishly asking their father when they could all marry Jill and throughout his life, no one would make Jill laugh harder. He would look after their baby sister, Ashley. He would forever be the one to do the right thing, careful not to give his family or his friends cause for concern. It's no secret that a lot of what made Beau the way he was was just how much he loved and admired his dad. He studied law, like his dad, even choosing the same law school. He chased public service, like his dad, believing it to be a noble and important pursuit. From his dad, he learned how to get back up when life knocked him down. He learned that he was no higher than anybody else, and no lower than anybody else something Joe got from his mom, by the way. And he learned how to make everybody else feel like we matter, because his dad taught him that everybody matters. He even looked and sounded like Joe, although I think Joe would be first to acknowledge that Beau was an upgrade Joe 2.0. But as much as Beau reminded folks of Joe, he was very much his own man. He was an original. Here was a scion of an incredible family who brushed away the possibility of privilege for the harder, better reward of earning his own way. Here was a soldier who dodged glory, and exuded true humility. A prosecutor who defended the defenseless. The rare politician who collected more fans than foes, and the rarer public figure who prioritized his private life above all else. Beau didn't cut corners. He turned down an appointment to be Delaware's attorney general so he could win it fair and square. When the field was clear for him to run for the Senate, he chose to finish his job as A.G. instead. He didn't do these things to gain favor with a cynical public it's just who he was. In his twenties, he and a friend were stopped for speeding outside Scranton. And the officer recognized the name on the license, and because he was a fan of Joe's work with law enforcement he wanted to let Beau off with a warning. But Beau made him write that ticket. Beau didn't trade on his name. After 9/11, he joined the National Guard. He felt it was his obligation part of what those broader shoulders are for. He did his duty to his country and deployed to Iraq, and General Odierno eloquently spoke to Major Biden's service. What I can tell you is when he was loading up to ship out at Dover, there was a lot of press that wanted to interview him. Beau refused. He was just another soldier. I saw him when I visited Iraq; he conducted himself the same way. His deployment was hard on Hallie and the kids, like it was for so many families over the last 14 years. It was hard on Joe, hard on Jill. That's partly why Jill threw herself into her work with military families with so much intensity. That's how you know when Joe thunders may God protect our troops in every speech he does, he means it so deeply. Like his father, Beau did not have a mean bone in his body. The cruelty he'd endured in his life didn't make him hard, it made him compassionate, empathetic. But it did make him abhor bullies. Beau's grandfather, Joe's father, believed that the most egregious sin was to abuse your power to inflict pain on another. So Beau squared his broad shoulders to protect people from that kind of abuse. He fought for homeowners who were cheated, seniors who were scammed. He even went after bullying itself. He set up a Child Protector Predator Task Force, convicted more than 200 of those who targeted vulnerable children. And in all this, he did it in a way that was alive to the suffering of others, bringing in experts to help spare both the children and their parents further trauma. That's who Beau was. Someone who cared. Someone who charmed you, and disarmed you, and put you at ease. When he'd have to attend a fancy fundraiser with people who took themselves way too seriously, he'd walk over to you and whisper something wildly inappropriate in your ear. The son of a senator, a Major in the Army, the most popular elected official in Delaware I'm sorry, Joe but he was not above dancing in nothing but a sombrero and shorts at Thanksgiving if it would shake loose a laugh from the people he loved. And through it all, he was the consummate public servant, a notebook in his back pocket at all times so he could write down the problems of everyone he met and go back to the office to get them fixed. Because he was a Biden, the titles that come with family husband, father, son, brother, uncle those were the ones Beau valued above any other. This was a man who, at the Democratic National Convention, didn't spend all his time in backrooms with donors or glad handing. Instead, he rode the escalators in the arena with his son, up and down, up and down, again and again, knowing, just like Joe had learned, what ultimately mattered in life. You know, anyone can make a name for themselves in this reality TV age, especially in today's politics. If you're loud enough or controversial enough, you can get some attention. But to make that name mean something, to have it associated with dignity and integrity that is rare. There's no shortcut to get it. It's not something you can buy. But if you do right by your children, maybe you can pass it on. And what greater inheritance is there? What greater inheritance than to be part of a family that passes on the values of what it means to be a great parent; that passes on the values of what it means to be a true citizen; that passes on the values of what it means to give back, fully and freely, without expecting anything in return? That's what our country was built on men like Beau. That's who built it families like this. We don't have kings or queens or lords. We don't have to be born into money to have an impact. We don't have to step on one another to be successful. We have this remarkable privilege of being able to earn what we get out of life, with the knowledge that we are no higher than anybody else, or lower than anybody else. We know this not just because it is in our founding documents, but because families like the Bidens have made it so, because people like Beau have made it so. He did in 46 years what most of us couldn't do in 146. He left nothing in the tank. He was a man who led a life where the means were as important as the ends. And the example he set made you want to be a better dad, or a better son, or a better brother or sister, better at your job, the better soldier. He made you want to be a better person. Isn't that finally the measure of a man the way he lives, how he treats others, no matter what life may throw at him? We do not know how long we've got here. We don't know when fate will intervene. We cannot discern God's plan. What we do know is that with every minute that we've got, we can live our lives in a way that takes nothing for granted. We can love deeply. We can help people who need help. We can teach our children what matters, and pass on empathy and compassion and selflessness. We can teach them to have broad shoulders. To the Biden family, this sprawling, intimate clan I know that Beau's passing has left a gaping void in the world. Hallie, I can only imagine the burdens that you've been carrying on your shoulders these past couple of years. And it's because you gave him everything that he could give everything to us. And just as you were there for him, we'll be there for you. To Natalie and Hunter there aren't words big enough to describe how much your dad loved you, how much he loved your mom. But I will tell you what, Michelle and I and Sasha and Malia, we've become part of the Biden clan. We're honorary members now. And the Biden family rule applies. We're always here for you, we always will be my word as a Biden. To Joe and Jill just like everybody else here, Michelle and I thank God you are in our lives. Taking this ride with you is one of the great pleasures of our lives. Joe, you are my brother. And I'm grateful every day that you've got such a big heart, and a big soul, and those broad shoulders. I couldn't admire you more. I got to know Joe's mom, Catherine Eugenia Finnegan Biden, before she passed away. She was on stage with us when we were first elected. And I know she told Joe once that out of everything bad that happens to you, something good will come if you look hard enough. And I suppose she was channeling that same Irish poet with whom I began today, Patrick Kavanagh, when he wrote, And I said, let grief be a fallen leaf at the dawning of the day. As hard as it is right now, through all the heartache and through all the tears, it is our obligation to Beau to think not about what was and what might have been, but instead to think about what is, because of him. Think about the day that dawns for children who are safer because of Beau, whose lives are fuller, because of him. Think about the day that dawns for parents who rest easier, and families who are freer, because of him. Some folks may never know that their lives are better because of Beau Biden. But that's okay. Certainly for Beau, acclaim was never the point of public service. But the lines of well wishers who've been here all week they know. The White House mailroom that's been overflowing with letters from people those folks know. The soldiers who served with Beau, who joined the National Guard because of him. The workers at Verdi's who still have their home because of him, and who thanked him for helping them bus tables one busy night. The students in Newark who remember the time he talked with them for hours, inexhaustible, even after giving a speech, even after taking his National Guard fitness test. The Rehoboth woman who's saved a kind voicemail from him for five years, and wrote to say I loved the way he loved his family. And the stranger who wrote from halfway across this great country just to say, The only thing we can hope for is that our children make us proud by making a difference in the world. Beau has done that and then some. The world noticed. Jill, Joe, Hallie, Hunter and Natalie the world noticed. They noticed. They felt it, his presence. And Beau lives on in the lives of others. And isn't that the whole point of our time here? To make this country we love fairer and more just, not just for Natalie and Hunter, or Naomi, or Finnegan, or Maisy, or Malia, or Sasha, but for every child? Isn't that what this amazing journey we've been on is all about to make life better for the next generation? Beau figured that out so early in life. What an inheritance Beau left us. What an example he set. Through our great good fortune, in our youth our hearts were touched with fire, said Oliver Wendell Holmes, Jr. But, above all, we have learned that whether a man accepts from Fortune her spade, and will look downward and dig, or from Aspiration her axe and cord, and will scale the ice, the one and only success which it is his to command is to bring to his work a mighty heart. Beau Biden brought to his work a mighty heart. He brought to his family a mighty heart. What a good man. What an original. May God bless his memory, and the lives of all he touched.\n"
     ]
    }
   ],
   "source": [
    "old = [r'-+', r'\\.{2,}', r'[’‘]', r'\"', r'’’', r'‘‘', r'“', r'”', r',', r'\\[sic\\]', r'\\s+']\n",
    "new = [r' ' , r' '     , r\"'\"   , r'' , r''  , r''  , r'' , r'' , r',', r' '      , r' '  ]\n",
    "\n",
    "clean_speech = pdf.replace(speech, old, new)\n",
    "print(clean_speech)"
   ]
  },
  {
   "cell_type": "code",
   "execution_count": null,
   "id": "285af2d0",
   "metadata": {},
   "outputs": [],
   "source": []
  },
  {
   "cell_type": "code",
   "execution_count": null,
   "id": "2e00160b",
   "metadata": {},
   "outputs": [],
   "source": []
  },
  {
   "cell_type": "markdown",
   "id": "cded2e6a",
   "metadata": {},
   "source": [
    "Old code, used for debugging."
   ]
  },
  {
   "cell_type": "code",
   "execution_count": null,
   "id": "30f576c9",
   "metadata": {},
   "outputs": [],
   "source": [
    "pdfs = [\"Farewell_to_Staff_and_Supporters\", \"Flint_Michigan_Community\", \"Guantanamo_Bay_Closing\", \"Post_G7_Presser_Japan\"]\n",
    "\n",
    "pdf_dir = Path.cwd().parent / \"pdfs\"\n",
    "file_to_open = pdfs[2] + \".pdf\" \n",
    "pdf = pdfplumber.open(pdf_dir / file_to_open)\n",
    "\n",
    "print('Title:', pdf.metadata['Title'])\n",
    "print(\"number of pages:\", len(pdf.pages))"
   ]
  },
  {
   "cell_type": "code",
   "execution_count": null,
   "id": "fb301147",
   "metadata": {
    "scrolled": false
   },
   "outputs": [],
   "source": [
    "text = pdf.pages[0].extract_text()\n",
    "    \n",
    "#start = r\"hheettoorriicc\\.\\.ccoomm(?:.*AUTHENTICITY CERTIFIED: Text version below transcribed directly from audio)?\"\n",
    "start = r\"(?:hheettoorriicc\\.\\.ccoomm)\"\n",
    "date = r\"(.*delivered\\s+(?P<day>[ 123][0-9])\\s+(?P<mon>[A-Z][a-z]+)\\s+(?P<year>[0-9][0-9][0-9][0-9]),\"\n",
    "loc = r\"\\s+(?P<location_small>[A-Za-z0-9 ]+),\\s+(?P<location_big>.*)\\n+\"\n",
    "auth = r\"(?:.*AUTHENTICITY CERTIFIED: Text version below transcribed directly from audio))?\"\n",
    "mid = r\"\\s*\\n+(?P<content>.*)\\s*\\n+\"\n",
    "end = r\"(?:(?:Property\\s+of\\s+)?AmericanRhetoric\\.com)\"\n",
    "\n",
    "core_pat = re.compile(start + date+loc+auth + mid + end, re.DOTALL)\n",
    "\n",
    "print(\"ORIGINAL:\\n\")\n",
    "print(text)\n",
    "print(\"\\n\\n\" + 100*\"-\" + \"\\n\\n\") \n",
    "\n",
    "search = re.search(core_pat, text)\n",
    "core = search.group(\"content\")\n",
    "\n",
    "dash = re.compile(r\"-+\")\n",
    "no_dash_core = dash.sub(r\" \", core)\n",
    "\n",
    "dots = re.compile(r\"\\.{2,}\")\n",
    "no_dots_core = dots.sub(r\" \", no_dash_core)\n",
    "\n",
    "spaces = re.compile(r\"\\s+\")\n",
    "single_space_core = spaces.sub(r\" \", no_dots_core)\n",
    "\n",
    "print(\"PROCESSED:\\n\")\n",
    "print(single_space_core)"
   ]
  },
  {
   "cell_type": "code",
   "execution_count": null,
   "id": "d3f7f836",
   "metadata": {},
   "outputs": [],
   "source": [
    "def extract_speech(pages):\n",
    "    full_text = \"\"\n",
    "    \n",
    "    start = r\"hheettoorriicc\\.\\.ccoomm(?:.*AUTHENTICITY CERTIFIED: Text version below transcribed directly from audio)?\"\n",
    "    mid = r\"\\s+(?P<content>.*)\\s+\"\n",
    "    end = r\"(?:Property of )?AmericanRhetoric\\.com\"\n",
    "    core_pat = re.compile(start+mid+end, re.DOTALL)\n",
    "        \n",
    "    for i in range(len(pages)):\n",
    "        text = pages[i].extract_text()\n",
    "        \n",
    "        core = re.search(core_pat, text).group(\"content\")\n",
    "        \n",
    "        core = replace(core, [r\"-+\", r\"\\.{2,}\", r\"\\s+\"], r\" \")\n",
    "        \n",
    "        full_text += core + \" \"\n",
    "        \n",
    "    return full_text\n",
    "\n",
    "\n",
    "def replace(text, old, new):\n",
    "    for i in range(len(old)):\n",
    "        pat = re.compile(old[i])\n",
    "        text = pat.sub(new, text)\n",
    "    return text\n"
   ]
  },
  {
   "cell_type": "code",
   "execution_count": null,
   "id": "57551d7e",
   "metadata": {
    "scrolled": true
   },
   "outputs": [],
   "source": [
    "full_speech = extract_speech(pdf.pages)\n",
    "print(full_speech)"
   ]
  },
  {
   "cell_type": "code",
   "execution_count": null,
   "id": "4634b0f3",
   "metadata": {},
   "outputs": [],
   "source": [
    "pdf.close()"
   ]
  }
 ],
 "metadata": {
  "kernelspec": {
   "display_name": "Python 3 (ipykernel)",
   "language": "python",
   "name": "python3"
  },
  "language_info": {
   "codemirror_mode": {
    "name": "ipython",
    "version": 3
   },
   "file_extension": ".py",
   "mimetype": "text/x-python",
   "name": "python",
   "nbconvert_exporter": "python",
   "pygments_lexer": "ipython3",
   "version": "3.9.5"
  },
  "latex_envs": {
   "LaTeX_envs_menu_present": true,
   "autoclose": false,
   "autocomplete": true,
   "bibliofile": "biblio.bib",
   "cite_by": "apalike",
   "current_citInitial": 1,
   "eqLabelWithNumbers": true,
   "eqNumInitial": 1,
   "hotkeys": {
    "equation": "Ctrl-E",
    "itemize": "Ctrl-I"
   },
   "labels_anchors": false,
   "latex_user_defs": false,
   "report_style_numbering": false,
   "user_envs_cfg": false
  },
  "toc": {
   "base_numbering": 1,
   "nav_menu": {},
   "number_sections": true,
   "sideBar": true,
   "skip_h1_title": false,
   "title_cell": "Table of Contents",
   "title_sidebar": "Contents",
   "toc_cell": false,
   "toc_position": {},
   "toc_section_display": true,
   "toc_window_display": false
  },
  "varInspector": {
   "cols": {
    "lenName": 16,
    "lenType": 16,
    "lenVar": 40
   },
   "kernels_config": {
    "python": {
     "delete_cmd_postfix": "",
     "delete_cmd_prefix": "del ",
     "library": "var_list.py",
     "varRefreshCmd": "print(var_dic_list())"
    },
    "r": {
     "delete_cmd_postfix": ") ",
     "delete_cmd_prefix": "rm(",
     "library": "var_list.r",
     "varRefreshCmd": "cat(var_dic_list()) "
    }
   },
   "types_to_exclude": [
    "module",
    "function",
    "builtin_function_or_method",
    "instance",
    "_Feature"
   ],
   "window_display": false
  }
 },
 "nbformat": 4,
 "nbformat_minor": 5
}
