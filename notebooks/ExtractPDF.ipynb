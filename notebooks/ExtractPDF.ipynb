{
 "cells": [
  {
   "cell_type": "code",
   "execution_count": 1,
   "id": "7219351a",
   "metadata": {},
   "outputs": [],
   "source": [
    "from pathlib import Path\n",
    "\n",
    "import pandas as pd\n",
    "import numpy as np\n",
    "import re\n",
    "import regex\n",
    "from pprint import pprint\n",
    "\n",
    "import sys\n",
    "src_path = str(Path.cwd().parent / \"src\")\n",
    "sys.path.append(src_path)\n",
    "\n",
    "import csv "
   ]
  },
  {
   "cell_type": "code",
   "execution_count": 2,
   "id": "080b26d0",
   "metadata": {},
   "outputs": [],
   "source": [
    "from pdf_processing import *"
   ]
  },
  {
   "cell_type": "markdown",
   "id": "a4ed81dc",
   "metadata": {},
   "source": [
    "TODO: \n",
    " - write documentation\n",
    " - locations not included after the date (might need to be taken care of manually)\n",
    " - footnotes (like in People_of_Greece.pdf and Senate_Floor_Immigration_Reform.pdf)\n",
    "\n",
    "\n",
    "\n",
    "DONE: \n",
    " - Q&As / interviews\n",
    "     - function to count the number of occurrences of \"Obama:\", \"Question:\", etc.\n",
    "   \n",
    "      \n",
    " - locations with multiple comma's (ex. when Washington, D.C. is included) --> might be better to store location as one elements instead of splitting it up, the location can be cleaned up afterwards\n",
    "     - location is not split up anymore, but kept as a single element (will be easier to clean up afterwards)"
   ]
  },
  {
   "cell_type": "code",
   "execution_count": 3,
   "id": "0efda2d7",
   "metadata": {},
   "outputs": [],
   "source": [
    "# pdfs that have these in the title might have to be excluded: interview, presser, Press_Conference, press, meeting, \n",
    "# debate, hall (maybe)\n",
    "multiple_people_talking = ['Barack_Obama_-_Al-Arabiya_Interview.pdf', 'CGI_2013.pdf', \n",
    "                           'Midterm_Elections_Presser_2014.pdf', 'YSEALI_Fellows.pdf', \n",
    "                           'PM_Abe_of_Japan_Joint_Presser.pdf', 'Paris_Press_Conference_2015.pdf',\n",
    "                           'Gun_Violence_Presser.pdf', 'Associated_Press_Luncheon.pdf', 'Final_Press_Conference.pdf',\n",
    "                           'CNN_Guns_in_America_Town_Hall.pdf', 'START_Treaty_Presser.pdf', \n",
    "                           'Midterm_Elections_Presser_2010.pdf', 'Joint_Presser_with_President_Benigno_Aquino.pdf',\n",
    "                           'Worldwide_Troop_Talk.pdf', 'Post_ASEAN_Presser_2016.pdf', 'Post_G7_Presser_Japan.pdf',\n",
    "                           'Presser_Unannounced_Heath_Care.pdf', 'Kenya_Civil_Society_Meeting.pdf',\n",
    "                           'Obama-Romney_-_Second_Live_Debate.pdf', 'Jamaica_Town_Hall.pdf', 'YSEALI_Town_Hall.pdf',\n",
    "                           'BP_Oil_Spill_Presser.pdf', 'VA_Misconduct_Allegations.pdf', 'ISIL_Pentagon_Update.pdf',\n",
    "                           'ISIL_Presser_Post_Security_Council_Meeting.pdf']\n",
    "# maybe: 'Alabama_Tornado_Devestation.pdf', 'NAACP_Coference_2015.pdf'\n",
    "\n",
    "# the year for Community_College_Plan.pdf is 20105 but should be 2015\n",
    "# Recovery_and_Reinvestment_Act_2016.pdf has the year missing from the date"
   ]
  },
  {
   "cell_type": "markdown",
   "id": "c91117f1",
   "metadata": {},
   "source": [
    "Get the path to the directory in which the PDFs are stored."
   ]
  },
  {
   "cell_type": "code",
   "execution_count": 4,
   "id": "2c239d92",
   "metadata": {},
   "outputs": [],
   "source": [
    "pdf_dir = Path.cwd().parent / \"pdfs\""
   ]
  },
  {
   "cell_type": "markdown",
   "id": "f03551e4",
   "metadata": {},
   "source": [
    "Filepaths of all the PDFs in the folder `pdf_dir`, can be used to iterate over all the PDFs to store the extracted speeches in a dataframe."
   ]
  },
  {
   "cell_type": "code",
   "execution_count": 5,
   "id": "0751ecb4",
   "metadata": {},
   "outputs": [
    {
     "name": "stdout",
     "output_type": "stream",
     "text": [
      "current number of PDFs: 436\n"
     ]
    }
   ],
   "source": [
    "pdfs = list(pdf_dir.glob('*.pdf'))  \n",
    "print(\"current number of PDFs:\", len(pdfs))"
   ]
  },
  {
   "cell_type": "markdown",
   "id": "c332ab84",
   "metadata": {},
   "source": [
    "Get filepath of the PDF you want to process."
   ]
  },
  {
   "cell_type": "code",
   "execution_count": 6,
   "id": "d179e7ec",
   "metadata": {},
   "outputs": [
    {
     "name": "stdout",
     "output_type": "stream",
     "text": [
      "File: Chemical_Weapons_Syria.pdf\n"
     ]
    }
   ],
   "source": [
    "filepath = pdfs[355]\n",
    "print(\"File:\", str(filepath.parts[-1]))"
   ]
  },
  {
   "cell_type": "markdown",
   "id": "f6946b1a",
   "metadata": {},
   "source": [
    "Make a PDFHandler object for the given filepath."
   ]
  },
  {
   "cell_type": "code",
   "execution_count": 7,
   "id": "54e77483",
   "metadata": {},
   "outputs": [],
   "source": [
    "pdf = PDFHandler(filepath)"
   ]
  },
  {
   "cell_type": "markdown",
   "id": "21594c06",
   "metadata": {},
   "source": [
    "Print the last page of the PDF before it has been processed."
   ]
  },
  {
   "cell_type": "code",
   "execution_count": 8,
   "id": "7b260608",
   "metadata": {
    "scrolled": true
   },
   "outputs": [
    {
     "name": "stdout",
     "output_type": "stream",
     "text": [
      "  \n",
      "AA RR\n",
      "mmeerriiccaann hheettoorriicc..ccoomm  \n",
      " \n",
      "But we are the United States of America, and we cannot and must not turn a blind eye to \n",
      "what happened in Damascus. Out of the ashes of world war, we built an international order \n",
      "and enforced the rules that gave it meaning. And we did so because we believe that the rights \n",
      "of individuals to live in peace and dignity depends on the responsibilities of nations. We aren't \n",
      " \n",
      "perfect, but this nation more than any other has been willing to meet those responsibilities.\n",
      "So to all members of Congress of both parties, I ask you to take this vote for our national \n",
      "security. I am looking forward to the debate. And in doing so, I ask you, members of \n",
      "Congress, to consider that some things are more important than partisan differences or the \n",
      " \n",
      "politics of the moment. \n",
      "Ultimately, this is not about who occupies this office at any given time; it's about who we are \n",
      "as a country. I believe that the people's representatives must be invested in what America \n",
      "does abroad, and now is the time to show the world that America keeps our commitments. We \n",
      "do what we say. And we lead with the belief that right makes might -- not the other way \n",
      " \n",
      "around.\n",
      "We all know there are no easy options. But I wasn't elected to avoid hard decisions. And \n",
      "neither were the members of the House and the Senate. I've told you what I believe, that our \n",
      "security and our values demand that we cannot turn away from the massacre of countless \n",
      "civilians with chemical weapons. And our democracy is stronger when the President and the \n",
      " \n",
      "people's representatives stand together.\n",
      "I'm ready to act in the face of this outrage. Today I'm asking Congress to send a message to \n",
      " \n",
      "the world that we are ready to move forward together as one nation.\n",
      " \n",
      "Thanks very much.\n",
      " \n",
      "AmericanRhetoric.com         Page 4 \n"
     ]
    }
   ],
   "source": [
    "print(pdf.original_page(-1))"
   ]
  },
  {
   "cell_type": "markdown",
   "id": "3ef2da9a",
   "metadata": {},
   "source": [
    "Print the first page of the PDF before it has been processed."
   ]
  },
  {
   "cell_type": "code",
   "execution_count": 9,
   "id": "7bce4a84",
   "metadata": {
    "scrolled": true
   },
   "outputs": [
    {
     "name": "stdout",
     "output_type": "stream",
     "text": [
      "  \n",
      "AA RR\n",
      "mmeerriiccaann hheettoorriicc..ccoomm  \n",
      " \n",
      "Barack Obama \n",
      "On The Use of Chemical Weapons by Syrian Government \n",
      " \n",
      "Delivered 31 August 2013, White House, Washington, D.C.\n",
      " \n",
      " \n",
      "AUTHENTICITY CERTIFIED: Text version below transcribed directly from audio \n",
      "Ten days ago, the world watched in horror as men, women and children were massacred in \n",
      "Syria in the worst chemical weapons attack of the 21st century. Yesterday the United States \n",
      "presented a powerful case that the Syrian government was responsible for this attack on its \n",
      " \n",
      "own people.\n",
      "Our intelligence shows the Assad regime and its forces preparing to use chemical weapons, \n",
      "launching rockets in the highly populated suburbs of Damascus, and acknowledging that a \n",
      "chemical weapons attack took place. And all of this corroborates what the world can plainly \n",
      "see -- hospitals overflowing with victims; terrible images of the dead. All told, well over 1,000 \n",
      "people were murdered. Several hundred of them were children -- young girls and boys gassed \n",
      " \n",
      "to death by their own government.\n",
      "This attack is an assault on human dignity. It also presents a serious danger to our national \n",
      "security. It risks making a mockery of the global prohibition on the use of chemical weapons. \n",
      "It endangers our friends and our partners along Syria's borders, including Israel, Jordan, \n",
      "Turkey, Lebanon and Iraq. It could lead to escalating use of chemical weapons, or their \n",
      " \n",
      "proliferation to terrorist groups who would do our people harm.\n",
      " \n",
      "In a world with many dangers, this menace must be confronted.\n",
      "AmericanRhetoric.com         Page 1 \n"
     ]
    }
   ],
   "source": [
    "print(pdf.original_page(0))"
   ]
  },
  {
   "cell_type": "markdown",
   "id": "94964bce",
   "metadata": {},
   "source": [
    "Define a regular expression to get the date, location, and content of the speech. Extract the entire speech from the PDF."
   ]
  },
  {
   "cell_type": "code",
   "execution_count": 10,
   "id": "6f8557d3",
   "metadata": {
    "code_folding": [],
    "scrolled": true
   },
   "outputs": [
    {
     "name": "stdout",
     "output_type": "stream",
     "text": [
      "Ten days ago, the world watched in horror as men, women and children were massacred in \n",
      "Syria in the worst chemical weapons attack of the 21st century. Yesterday the United States \n",
      "presented a powerful case that the Syrian government was responsible for this attack on its \n",
      " \n",
      "own people.\n",
      "Our intelligence shows the Assad regime and its forces preparing to use chemical weapons, \n",
      "launching rockets in the highly populated suburbs of Damascus, and acknowledging that a \n",
      "chemical weapons attack took place. And all of this corroborates what the world can plainly \n",
      "see -- hospitals overflowing with victims; terrible images of the dead. All told, well over 1,000 \n",
      "people were murdered. Several hundred of them were children -- young girls and boys gassed \n",
      " \n",
      "to death by their own government.\n",
      "This attack is an assault on human dignity. It also presents a serious danger to our national \n",
      "security. It risks making a mockery of the global prohibition on the use of chemical weapons. \n",
      "It endangers our friends and our partners along Syria's borders, including Israel, Jordan, \n",
      "Turkey, Lebanon and Iraq. It could lead to escalating use of chemical weapons, or their \n",
      " \n",
      "proliferation to terrorist groups who would do our people harm.\n",
      " \n",
      "In a world with many dangers, this menace must be confronted.\n",
      " Now, after careful deliberation, I have decided that the United States should take military \n",
      "action against Syrian regime targets. This would not be an open-ended intervention. We \n",
      "would not put boots on the ground. Instead, our action would be designed to be limited in \n",
      "duration and scope. But I'm confident we can hold the Assad regime accountable for their use \n",
      " \n",
      "of chemical weapons, deter this kind of behavior, and degrade their capacity to carry it out.\n",
      "Our military has positioned assets in the region. The Chairman of the Joint Chiefs has \n",
      "informed me that we are prepared to strike whenever we choose. Moreover, the Chairman has \n",
      "indicated to me that our capacity to execute this mission is not time-sensitive; it will be \n",
      "effective tomorrow, or next week, or one month from now. And I'm prepared to give that \n",
      " \n",
      "order.\n",
      "But having made my decision as Commander-in-Chief based on what I am convinced is our \n",
      "national security interests, I'm also mindful that I'm the President of the world's oldest \n",
      "constitutional democracy. I've long believed that our power is rooted not just in our military \n",
      "might, but in our example as a government of the people, by the people, and for the people. \n",
      "And that's why I've made a second decision: I will seek authorization for the use of force from \n",
      " \n",
      "the American people's representatives in Congress. \n",
      "Over the last several days, we've heard from members of Congress who want their voices to \n",
      "be heard. I absolutely agree. So this morning, I spoke with all four congressional leaders, and \n",
      "they've agreed to schedule a debate and then a vote as soon as Congress comes back into \n",
      " \n",
      "session. \n",
      "In the coming days, my administration stands ready to provide every member with the \n",
      "information they need to understand what happened in Syria and why it has such profound \n",
      "implications for America's national security. And all of us should be accountable as we move \n",
      " \n",
      "forward, and that can only be accomplished with a vote. \n",
      "I'm confident in the case our government has made without waiting for U.N. inspectors. I'm \n",
      "comfortable going forward without the approval of a United Nations Security Council that, so \n",
      "far, has been completely paralyzed and unwilling to hold Assad accountable. As a \n",
      "consequence, many people have advised against taking this decision to Congress, and \n",
      "undoubtedly, they were impacted by what we saw happen in the United Kingdom this week \n",
      "when the Parliament of our closest ally failed to pass a resolution with a similar goal, even as \n",
      " \n",
      "the Prime Minister supported taking action.\n",
      "Yet, while I believe I have the authority to carry out this military action without specific \n",
      "congressional authorization, I know that the country will be stronger if we take this course, \n",
      "and our actions will be even more effective. We should have this debate, because the issues \n",
      "are too big for business as usual. And this morning, John Boehner, Harry Reid, Nancy Pelosi \n",
      " \n",
      "and Mitch McConnell agreed that this is the right thing to do for our democracy. \n",
      " A country faces few decisions as grave as using military force, even when that force is limited. \n",
      "I respect the views of those who call for caution, particularly as our country emerges from a \n",
      "time of war that I was elected in part to end. But if we really do want to turn away from \n",
      "taking appropriate action in the face of such an unspeakable outrage, then we must \n",
      " \n",
      "acknowledge the costs of doing nothing.\n",
      "Here's my question for every member of Congress and every member of the global \n",
      "community: What message will we send if a dictator can gas hundreds of children to death in \n",
      "plain sight and pay no price? What's the purpose of the international system that we've built if \n",
      "a prohibition on the use of chemical weapons that has been agreed to by the governments of \n",
      "98 percent of the world's people and approved overwhelmingly by the Congress of the United \n",
      " \n",
      "States is not enforced? \n",
      "Make no mistake -- this has implications beyond chemical warfare. If we won't enforce \n",
      "accountability in the face of this heinous act, what does it say about our resolve to stand up to \n",
      "others who flout fundamental international rules? To governments who would choose to build \n",
      "nuclear arms? To terrorist who would spread biological weapons? To armies who carry out \n",
      " \n",
      "genocide? \n",
      "We cannot raise our children in a world where we will not follow through on the things we say, \n",
      " \n",
      "the accords we sign, the values that define us. \n",
      "So just as I will take this case to Congress, I will also deliver this message to the world. While \n",
      "the U.N. investigation has some time to report on its findings, we will insist that an atrocity \n",
      " \n",
      "committed with chemical weapons is not simply investigated, it must be confronted.\n",
      "I don't expect every nation to agree with the decision we have made. Privately we've heard \n",
      "many expressions of support from our friends. But I will ask those who care about the writ of \n",
      " \n",
      "the international community to stand publicly behind our action.\n",
      "And finally, let me say this to the American people: I know well that we are weary of war. \n",
      "We've ended one war in Iraq. We're ending another in Afghanistan. And the American people \n",
      "have the good sense to know we cannot resolve the underlying conflict in Syria with our \n",
      "military. In that part of the world, there are ancient sectarian differences, and the hopes of \n",
      "the Arab Spring have unleashed forces of change that are going to take many years to \n",
      "resolve. And that's why we're not contemplating putting our troops in the middle of someone \n",
      " \n",
      "else's war. \n",
      "Instead, we'll continue to support the Syrian people through our pressure on the Assad \n",
      "regime, our commitment to the opposition, our care for the displaced, and our pursuit of a \n",
      " \n",
      "political resolution that achieves a government that respects the dignity of its people.\n",
      " \n",
      " But we are the United States of America, and we cannot and must not turn a blind eye to \n",
      "what happened in Damascus. Out of the ashes of world war, we built an international order \n",
      "and enforced the rules that gave it meaning. And we did so because we believe that the rights \n",
      "of individuals to live in peace and dignity depends on the responsibilities of nations. We aren't \n",
      " \n",
      "perfect, but this nation more than any other has been willing to meet those responsibilities.\n",
      "So to all members of Congress of both parties, I ask you to take this vote for our national \n",
      "security. I am looking forward to the debate. And in doing so, I ask you, members of \n",
      "Congress, to consider that some things are more important than partisan differences or the \n",
      " \n",
      "politics of the moment. \n",
      "Ultimately, this is not about who occupies this office at any given time; it's about who we are \n",
      "as a country. I believe that the people's representatives must be invested in what America \n",
      "does abroad, and now is the time to show the world that America keeps our commitments. We \n",
      "do what we say. And we lead with the belief that right makes might -- not the other way \n",
      " \n",
      "around.\n",
      "We all know there are no easy options. But I wasn't elected to avoid hard decisions. And \n",
      "neither were the members of the House and the Senate. I've told you what I believe, that our \n",
      "security and our values demand that we cannot turn away from the massacre of countless \n",
      "civilians with chemical weapons. And our democracy is stronger when the President and the \n",
      " \n",
      "people's representatives stand together.\n",
      "I'm ready to act in the face of this outrage. Today I'm asking Congress to send a message to \n",
      " \n",
      "the world that we are ready to move forward together as one nation.\n",
      " \n",
      "Thanks very much.\n"
     ]
    }
   ],
   "source": [
    "start = r\"^(?:\\s*AA *RR\\s+mmeerriiccaann *hheettoorriicc\\.\\.ccoomm|\\s*AmericanRhetoric\\.com|\\s*AAmmeerriiccaannRRhheettoorriicc\\.\\.ccoomm)?\"\n",
    "\n",
    "datemarker =r\"\\s*(delivered|First *Broadcast|Uploaded[ a-z]*|Published)?\"\n",
    "date = r\"(((?P<day>[0-9]{1,2}) *(?P<mon>[a-z]{1,10}))|((?P<mon>[a-z]{1,10}) *(?P<day>[0-9]{1,2}))),? +(?P<year>[0-9]* *)\"\n",
    "loc = r\"(([,.] *location *)?[,.] *(?P<location>.+?))?\"\n",
    "auth = r\"(?:.?AUTHENTICITY CERTIFIED: Text version below transcribed directly from audio( *and edited for continuity)?.?)?\"\n",
    "\n",
    "content = r\"(?P<content>.*)\"\n",
    "\n",
    "#footnotes = r\"^(([1-9][0-9]*.+?)+\\n+)?\"\n",
    "tr = r\"(Transcription *by *[a-z.\\- ]+\\s*)?\"\n",
    "url = r\"((Property *of *)?AmericanRhetoric\\.com)?\"\n",
    "page = r\"(page *[0-9]+\\s*$)\"\n",
    "\n",
    "full_pat = start + \\\n",
    "r\"(\\s+.*?\" + r\"^(\" + datemarker + \" *\" + date + r\")\" + loc + r\"\\s+\" + auth + r\")?\" + \\\n",
    "r\"\\s+\" + content + \\\n",
    "r\"^(?:\\s*\" + tr + url + r\".*?\" + page + r\")\"\n",
    "pat = regex.compile(full_pat, regex.I | regex.DOTALL | regex.M | regex.V1)\n",
    "\n",
    "speech = pdf.extract_speech(pat)\n",
    "print(speech)"
   ]
  },
  {
   "cell_type": "markdown",
   "id": "cb2be298",
   "metadata": {},
   "source": [
    "Print the relevant info of the PDF."
   ]
  },
  {
   "cell_type": "code",
   "execution_count": 11,
   "id": "0b150a8e",
   "metadata": {},
   "outputs": [
    {
     "name": "stdout",
     "output_type": "stream",
     "text": [
      "Title: Chemical_Weapons_Syria\n",
      "Number of pages: 4\n",
      "Date: 31 August 2013\n",
      "Location: White House, Washington, D.C.\n"
     ]
    }
   ],
   "source": [
    "pdf.print_info()"
   ]
  },
  {
   "cell_type": "markdown",
   "id": "f6c26436",
   "metadata": {},
   "source": [
    "Check whether there are multiple speakers. (If there is a high \"Obama:\" count, this might indicate he is answering questions, i.e., it is an interview, press conference, debate,...)"
   ]
  },
  {
   "cell_type": "code",
   "execution_count": 12,
   "id": "19587a2a",
   "metadata": {},
   "outputs": [
    {
     "name": "stdout",
     "output_type": "stream",
     "text": [
      "{'obama:': 0, 'president:': 0, 'question:': 0, 'audience:': 0, 'member:': 0}\n",
      "\n",
      "['decision:', 'community:', 'people:']\n"
     ]
    }
   ],
   "source": [
    "count = ('obama:', 'president:', 'question:', 'audience:', 'member:')\n",
    "counts, speakers = pdf.multiple_speakers(speech, count)\n",
    "print(counts)\n",
    "print()\n",
    "pprint(speakers)"
   ]
  },
  {
   "cell_type": "markdown",
   "id": "94a351ca",
   "metadata": {},
   "source": [
    "Replace substrings."
   ]
  },
  {
   "cell_type": "code",
   "execution_count": 13,
   "id": "fc33ae28",
   "metadata": {},
   "outputs": [],
   "source": [
    "rep_old = [r'\"', r'’’', r'‘‘', r'“', r'”', r'[sic]']\n",
    "rep_new = [r'' , r''  , r''  , r'' , r'' , r' '    ]\n",
    "\n",
    "clean_speech = pdf.substring_replace(speech, rep_old, rep_new)"
   ]
  },
  {
   "cell_type": "markdown",
   "id": "26099d7d",
   "metadata": {},
   "source": [
    "Replace or delete some characters to clean the speech (only the ones that need to be matched with a regular expression)."
   ]
  },
  {
   "cell_type": "code",
   "execution_count": 14,
   "id": "87a4b542",
   "metadata": {
    "scrolled": true
   },
   "outputs": [
    {
     "name": "stdout",
     "output_type": "stream",
     "text": [
      "Ten days ago, the world watched in horror as men, women and children were massacred in Syria in the worst chemical weapons attack of the 21st century. Yesterday the United States presented a powerful case that the Syrian government was responsible for this attack on its own people. Our intelligence shows the Assad regime and its forces preparing to use chemical weapons, launching rockets in the highly populated suburbs of Damascus, and acknowledging that a chemical weapons attack took place. And all of this corroborates what the world can plainly see -- hospitals overflowing with victims; terrible images of the dead. All told, well over 1,000 people were murdered. Several hundred of them were children -- young girls and boys gassed to death by their own government. This attack is an assault on human dignity. It also presents a serious danger to our national security. It risks making a mockery of the global prohibition on the use of chemical weapons. It endangers our friends and our partners along Syria's borders, including Israel, Jordan, Turkey, Lebanon and Iraq. It could lead to escalating use of chemical weapons, or their proliferation to terrorist groups who would do our people harm. In a world with many dangers, this menace must be confronted. Now, after careful deliberation, I have decided that the United States should take military action against Syrian regime targets. This would not be an open-ended intervention. We would not put boots on the ground. Instead, our action would be designed to be limited in duration and scope. But I'm confident we can hold the Assad regime accountable for their use of chemical weapons, deter this kind of behavior, and degrade their capacity to carry it out. Our military has positioned assets in the region. The Chairman of the Joint Chiefs has informed me that we are prepared to strike whenever we choose. Moreover, the Chairman has indicated to me that our capacity to execute this mission is not time-sensitive; it will be effective tomorrow, or next week, or one month from now. And I'm prepared to give that order. But having made my decision as Commander-in-Chief based on what I am convinced is our national security interests, I'm also mindful that I'm the President of the world's oldest constitutional democracy. I've long believed that our power is rooted not just in our military might, but in our example as a government of the people, by the people, and for the people. And that's why I've made a second decision: I will seek authorization for the use of force from the American people's representatives in Congress. Over the last several days, we've heard from members of Congress who want their voices to be heard. I absolutely agree. So this morning, I spoke with all four congressional leaders, and they've agreed to schedule a debate and then a vote as soon as Congress comes back into session. In the coming days, my administration stands ready to provide every member with the information they need to understand what happened in Syria and why it has such profound implications for America's national security. And all of us should be accountable as we move forward, and that can only be accomplished with a vote. I'm confident in the case our government has made without waiting for U.N. inspectors. I'm comfortable going forward without the approval of a United Nations Security Council that, so far, has been completely paralyzed and unwilling to hold Assad accountable. As a consequence, many people have advised against taking this decision to Congress, and undoubtedly, they were impacted by what we saw happen in the United Kingdom this week when the Parliament of our closest ally failed to pass a resolution with a similar goal, even as the Prime Minister supported taking action. Yet, while I believe I have the authority to carry out this military action without specific congressional authorization, I know that the country will be stronger if we take this course, and our actions will be even more effective. We should have this debate, because the issues are too big for business as usual. And this morning, John Boehner, Harry Reid, Nancy Pelosi and Mitch McConnell agreed that this is the right thing to do for our democracy. A country faces few decisions as grave as using military force, even when that force is limited. I respect the views of those who call for caution, particularly as our country emerges from a time of war that I was elected in part to end. But if we really do want to turn away from taking appropriate action in the face of such an unspeakable outrage, then we must acknowledge the costs of doing nothing. Here's my question for every member of Congress and every member of the global community: What message will we send if a dictator can gas hundreds of children to death in plain sight and pay no price? What's the purpose of the international system that we've built if a prohibition on the use of chemical weapons that has been agreed to by the governments of 98 percent of the world's people and approved overwhelmingly by the Congress of the United States is not enforced? Make no mistake -- this has implications beyond chemical warfare. If we won't enforce accountability in the face of this heinous act, what does it say about our resolve to stand up to others who flout fundamental international rules? To governments who would choose to build nuclear arms? To terrorist who would spread biological weapons? To armies who carry out genocide? We cannot raise our children in a world where we will not follow through on the things we say, the accords we sign, the values that define us. So just as I will take this case to Congress, I will also deliver this message to the world. While the U.N. investigation has some time to report on its findings, we will insist that an atrocity committed with chemical weapons is not simply investigated, it must be confronted. I don't expect every nation to agree with the decision we have made. Privately we've heard many expressions of support from our friends. But I will ask those who care about the writ of the international community to stand publicly behind our action. And finally, let me say this to the American people: I know well that we are weary of war. We've ended one war in Iraq. We're ending another in Afghanistan. And the American people have the good sense to know we cannot resolve the underlying conflict in Syria with our military. In that part of the world, there are ancient sectarian differences, and the hopes of the Arab Spring have unleashed forces of change that are going to take many years to resolve. And that's why we're not contemplating putting our troops in the middle of someone else's war. Instead, we'll continue to support the Syrian people through our pressure on the Assad regime, our commitment to the opposition, our care for the displaced, and our pursuit of a political resolution that achieves a government that respects the dignity of its people. But we are the United States of America, and we cannot and must not turn a blind eye to what happened in Damascus. Out of the ashes of world war, we built an international order and enforced the rules that gave it meaning. And we did so because we believe that the rights of individuals to live in peace and dignity depends on the responsibilities of nations. We aren't perfect, but this nation more than any other has been willing to meet those responsibilities. So to all members of Congress of both parties, I ask you to take this vote for our national security. I am looking forward to the debate. And in doing so, I ask you, members of Congress, to consider that some things are more important than partisan differences or the politics of the moment. Ultimately, this is not about who occupies this office at any given time; it's about who we are as a country. I believe that the people's representatives must be invested in what America does abroad, and now is the time to show the world that America keeps our commitments. We do what we say. And we lead with the belief that right makes might -- not the other way around. We all know there are no easy options. But I wasn't elected to avoid hard decisions. And neither were the members of the House and the Senate. I've told you what I believe, that our security and our values demand that we cannot turn away from the massacre of countless civilians with chemical weapons. And our democracy is stronger when the President and the people's representatives stand together. I'm ready to act in the face of this outrage. Today I'm asking Congress to send a message to the world that we are ready to move forward together as one nation. Thanks very much.\n"
     ]
    }
   ],
   "source": [
    "re_old = [r'\\s+', r'\\[(Source:)?\\s*http.*?\\]', r'[\\[\\]\\(\\)]']\n",
    "re_new = [r' '  , r''                        , r''          ]\n",
    "\n",
    "clean_speech = pdf.match_replace(clean_speech, re_old, re_new)\n",
    "print(clean_speech)"
   ]
  },
  {
   "cell_type": "markdown",
   "id": "c4391c66",
   "metadata": {},
   "source": [
    "Output to csv file."
   ]
  },
  {
   "cell_type": "code",
   "execution_count": 15,
   "id": "285af2d0",
   "metadata": {
    "scrolled": true
   },
   "outputs": [],
   "source": [
    "csv_filename = Path.cwd().parent / \"speeches_csv\" / \"speeches_436.txt\"\n",
    "\n",
    "fields = [\"title\", \"pages\", \"date\", \"location\", \"highest_speaker_count\", \"content\"]\n",
    "\n",
    "# use 'a+' instead of 'w' if you want to append at the bottom of the file instead of replacing the file\n",
    "with open(csv_filename, 'w') as csvfile: \n",
    "    csvwriter = csv.writer(csvfile, delimiter=',', quotechar='\"', quoting=csv.QUOTE_MINIMAL) \n",
    "    \n",
    "    # for i in range(len(pdfs)):      \n",
    "    # 0,10 - 10,20 - 20,40 - 40,60 - 60,80 - 80,100 - 100,120 - 120,140 - 140,160 - 160,180 - 180,200 - 200,220 - \n",
    "    # 220,240 - 240,260 - 260,280 - 280,300 - 300,320 - 320,340 - 340,360 - 360,380 - 380,400 - 400,420 - 420,436\n",
    "    for i in range(420,436):  \n",
    "        if i==0:\n",
    "            csvwriter.writerow(fields)\n",
    "            \n",
    "        filepath = pdfs[i]\n",
    "        pdf = PDFHandler(filepath)\n",
    "        row = np.array(pdf.full_extract(pat, count, rep_old, rep_new, re_old, re_new))\n",
    "        csvwriter.writerow(row)\n",
    "        \n",
    "        print(\"pdf\", i)\n",
    "        print('\\n')\n",
    "        print(pdf.original_page(0))\n",
    "        print('\\n' + 50*'-' + '\\n')\n",
    "        print(row[:-1])\n",
    "        print('\\n')\n",
    "        print(row[-1][:500])\n",
    "        print('\\n' + 50*'-' + '\\n')\n",
    "        print(row[-1][-500:])\n",
    "        print('\\n' + 100*'-' + '\\n\\n')"
   ]
  },
  {
   "cell_type": "markdown",
   "id": "6fcd2539",
   "metadata": {},
   "source": [
    "Merge the separate csv files."
   ]
  },
  {
   "cell_type": "code",
   "execution_count": 16,
   "id": "689e9d37",
   "metadata": {},
   "outputs": [],
   "source": [
    "csv_dir = Path.cwd().parent / \"speeches_csv\" \n",
    "csvs = sorted(list(csv_dir.glob('*.txt')))\n",
    "\n",
    "path_merged = csv_dir / \"all_speeches.txt\"\n",
    "\n",
    "for path in csvs:\n",
    "    tmp = pd.read_csv(path)\n",
    "    tmp.to_csv(path_merged, index=False, header=True, mode='a+')"
   ]
  }
 ],
 "metadata": {
  "kernelspec": {
   "display_name": "Python 3 (ipykernel)",
   "language": "python",
   "name": "python3"
  },
  "language_info": {
   "codemirror_mode": {
    "name": "ipython",
    "version": 3
   },
   "file_extension": ".py",
   "mimetype": "text/x-python",
   "name": "python",
   "nbconvert_exporter": "python",
   "pygments_lexer": "ipython3",
   "version": "3.9.5"
  },
  "latex_envs": {
   "LaTeX_envs_menu_present": true,
   "autoclose": false,
   "autocomplete": true,
   "bibliofile": "biblio.bib",
   "cite_by": "apalike",
   "current_citInitial": 1,
   "eqLabelWithNumbers": true,
   "eqNumInitial": 1,
   "hotkeys": {
    "equation": "Ctrl-E",
    "itemize": "Ctrl-I"
   },
   "labels_anchors": false,
   "latex_user_defs": false,
   "report_style_numbering": false,
   "user_envs_cfg": false
  },
  "toc": {
   "base_numbering": 1,
   "nav_menu": {},
   "number_sections": true,
   "sideBar": true,
   "skip_h1_title": false,
   "title_cell": "Table of Contents",
   "title_sidebar": "Contents",
   "toc_cell": false,
   "toc_position": {},
   "toc_section_display": true,
   "toc_window_display": false
  },
  "varInspector": {
   "cols": {
    "lenName": 16,
    "lenType": 16,
    "lenVar": 40
   },
   "kernels_config": {
    "python": {
     "delete_cmd_postfix": "",
     "delete_cmd_prefix": "del ",
     "library": "var_list.py",
     "varRefreshCmd": "print(var_dic_list())"
    },
    "r": {
     "delete_cmd_postfix": ") ",
     "delete_cmd_prefix": "rm(",
     "library": "var_list.r",
     "varRefreshCmd": "cat(var_dic_list()) "
    }
   },
   "types_to_exclude": [
    "module",
    "function",
    "builtin_function_or_method",
    "instance",
    "_Feature"
   ],
   "window_display": false
  }
 },
 "nbformat": 4,
 "nbformat_minor": 5
}
