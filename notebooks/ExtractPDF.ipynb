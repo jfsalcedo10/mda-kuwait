{
 "cells": [
  {
   "cell_type": "code",
   "execution_count": 1,
   "id": "7219351a",
   "metadata": {},
   "outputs": [],
   "source": [
    "from pathlib import Path\n",
    "\n",
    "import numpy as np\n",
    "import re\n",
    "from pprint import pprint\n",
    "\n",
    "import sys\n",
    "src_path = str(Path.cwd().parent / \"src\")\n",
    "sys.path.append(src_path)\n",
    "\n",
    "import csv "
   ]
  },
  {
   "cell_type": "code",
   "execution_count": 2,
   "id": "080b26d0",
   "metadata": {},
   "outputs": [],
   "source": [
    "from pdf_processing import *"
   ]
  },
  {
   "cell_type": "markdown",
   "id": "a4ed81dc",
   "metadata": {},
   "source": [
    "TODO: \n",
    " - check more PDFs for differences in format\n",
    " - write documentation\n",
    " - locations not included after the date (might need to be taken care of manually)\n",
    " - footnotes (like in People_of_Greece.pdf and Senate_Floor_Immigration_Reform.pdf)\n",
    "\n",
    "\n",
    "\n",
    "DONE: \n",
    " - Q&As / interviews\n",
    "     - function to count the number of occurrences of \"Obama:\", \"Question:\", etc.\n",
    "   \n",
    "      \n",
    " - locations with multiple comma's (ex. when Washington, D.C. is included) --> might be better to store location as one elements instead of splitting it up, the location can be cleaned up afterwards\n",
    "     - location is not split up anymore, but kept as a single element (will be easier to clean up afterwards)"
   ]
  },
  {
   "cell_type": "code",
   "execution_count": 3,
   "id": "0efda2d7",
   "metadata": {},
   "outputs": [],
   "source": [
    "# pdfs that have these in the title might have to be excluded: interview, presser, Press_Conference, press, meeting, \n",
    "# debate, hall (maybe)\n",
    "multiple_people_talking = ['Barack_Obama_-_Al-Arabiya_Interview.pdf', 'CGI_2013.pdf', \n",
    "                           'Midterm_Elections_Presser_2014.pdf', 'YSEALI_Fellows.pdf', \n",
    "                           'PM_Abe_of_Japan_Joint_Presser.pdf', 'Paris_Press_Conference_2015.pdf',\n",
    "                           'Gun_Violence_Presser.pdf', 'Associated_Press_Luncheon.pdf', 'Final_Press_Conference.pdf',\n",
    "                           'CNN_Guns_in_America_Town_Hall.pdf', 'START_Treaty_Presser.pdf', \n",
    "                           'Midterm_Elections_Presser_2010.pdf', 'Joint_Presser_with_President_Benigno_Aquino.pdf',\n",
    "                           'Worldwide_Troop_Talk.pdf', 'Post_ASEAN_Presser_2016.pdf', 'Post_G7_Presser_Japan.pdf',\n",
    "                           'Presser_Unannounced_Heath_Care.pdf', 'Kenya_Civil_Society_Meeting.pdf',\n",
    "                           'Obama-Romney_-_Second_Live_Debate.pdf', 'Jamaica_Town_Hall.pdf', 'YSEALI_Town_Hall.pdf',\n",
    "                           'BP_Oil_Spill_Presser.pdf', 'VA_Misconduct_Allegations.pdf', 'ISIL_Pentagon_Update.pdf',\n",
    "                           'ISIL_Presser_Post_Security_Council_Meeting.pdf']\n",
    "# maybe: 'Alabama_Tornado_Devestation.pdf', 'NAACP_Coference_2015.pdf'\n",
    "\n",
    "# the year for Community_College_Plan.pdf is 20105 but should be 2015"
   ]
  },
  {
   "cell_type": "markdown",
   "id": "c91117f1",
   "metadata": {},
   "source": [
    "Get the path to the directory in which the PDFs are stored."
   ]
  },
  {
   "cell_type": "code",
   "execution_count": 4,
   "id": "2c239d92",
   "metadata": {},
   "outputs": [],
   "source": [
    "pdf_dir = Path.cwd().parent / \"pdfs\""
   ]
  },
  {
   "cell_type": "markdown",
   "id": "f03551e4",
   "metadata": {},
   "source": [
    "Filepaths of all the PDFs in the folder `pdf_dir`, can be used to iterate over all the PDFs to store the extracted speeches in a dataframe."
   ]
  },
  {
   "cell_type": "code",
   "execution_count": 5,
   "id": "0751ecb4",
   "metadata": {},
   "outputs": [
    {
     "name": "stdout",
     "output_type": "stream",
     "text": [
      "current number of PDFs: 436\n"
     ]
    }
   ],
   "source": [
    "pdfs = list(pdf_dir.glob('*.pdf'))  \n",
    "print(\"current number of PDFs:\", len(pdfs))"
   ]
  },
  {
   "cell_type": "markdown",
   "id": "c332ab84",
   "metadata": {},
   "source": [
    "Get filepath of the PDF you want to process."
   ]
  },
  {
   "cell_type": "code",
   "execution_count": 6,
   "id": "d179e7ec",
   "metadata": {},
   "outputs": [
    {
     "name": "stdout",
     "output_type": "stream",
     "text": [
      "File: White_House_Correspondent_Dinner_2013.pdf\n"
     ]
    }
   ],
   "source": [
    "filepath = pdfs[5]\n",
    "print(\"File:\", str(filepath.parts[-1]))"
   ]
  },
  {
   "cell_type": "markdown",
   "id": "f6946b1a",
   "metadata": {},
   "source": [
    "Make a PDFHandler object for the given filepath."
   ]
  },
  {
   "cell_type": "code",
   "execution_count": 7,
   "id": "54e77483",
   "metadata": {},
   "outputs": [],
   "source": [
    "pdf = PDFHandler(filepath)"
   ]
  },
  {
   "cell_type": "markdown",
   "id": "21594c06",
   "metadata": {},
   "source": [
    "Print the last page of the PDF before it has been processed."
   ]
  },
  {
   "cell_type": "code",
   "execution_count": 8,
   "id": "7b260608",
   "metadata": {
    "scrolled": true
   },
   "outputs": [
    {
     "name": "stdout",
     "output_type": "stream",
     "text": [
      "  \n",
      "AA RR\n",
      "mmeerriiccaann hheettoorriicc..ccoomm  \n",
      " \n",
      "If anyone wonders, for example, whether newspapers are a thing of the past, all you needed \n",
      "to do was to pick up or log on to papers like the Boston Globe.  When their communities and \n",
      "the wider world needed them most, they were there making sense of events that might at \n",
      "first blush seem beyond our comprehension. And that’s what great journalism is, and that’s \n",
      "what great journalists do. And that’s why, for example, Pete Williams' new nickname around \n",
      " \n",
      "the NBC newsroom is \"Big Papi.\"\n",
      "And in these past few weeks, as I've gotten a chance to meet many of the first responders \n",
      "and the police officers and volunteers who raced to help when hardship hits, I was reminded, \n",
      "as I'm always reminded when I meet our men and women in uniform, whether they're in war \n",
      "theater, or here back home, or at Walter Reed in Bethesda -- I'm reminded that all these \n",
      "folks, they don’t do it to be honored, they don’t do it to be celebrated. They do it because they \n",
      " \n",
      "love their families and they love their neighborhoods and they love their country.\n",
      "And so, these men and women should inspire all of us in this room to live up to those same \n",
      "standards; to be worthy of their trust; to do our jobs with the same fidelity, and the same \n",
      "integrity, and the same sense of purpose, and the same love of country. Because if we're only \n",
      "focused on profits or ratings or polls, then we're contributing to the cynicism that so many \n",
      " \n",
      "people feel right now.\n",
      "And so, those of us in this room tonight, we are incredibly lucky. And the fact is, we can do \n",
      "better -- all of us. Those of us in public office, those of us in the press, those who produce \n",
      "entertainment for our kids, those with power, those with influence -- all of us, including \n",
      "myself, we can strive to value those things that I suspect led most of us to do the work that \n",
      "we do in the first place -- because we believed in something that was true, and we believed in \n",
      "service, and the idea that we can have a lasting, positive impact on the lives of the people \n",
      " \n",
      "around us.\n",
      "And that’s our obligation. That’s a task we should gladly embrace on behalf of all of those \n",
      " \n",
      "folks who are counting on us; on behalf of this country that’s given us so much.\n",
      " \n",
      "So thank you all, to the White House Correspondents for the great work you do.\n",
      " \n",
      "God bless you all.\n",
      " \n",
      "May God bless the United States of America.\n",
      " \n",
      "AmericanRhetoric.com         Page 6 \n"
     ]
    }
   ],
   "source": [
    "print(pdf.original_page(-1))"
   ]
  },
  {
   "cell_type": "markdown",
   "id": "3ef2da9a",
   "metadata": {},
   "source": [
    "Print the first page of the PDF before it has been processed."
   ]
  },
  {
   "cell_type": "code",
   "execution_count": 9,
   "id": "7bce4a84",
   "metadata": {
    "scrolled": true
   },
   "outputs": [
    {
     "name": "stdout",
     "output_type": "stream",
     "text": [
      "  \n",
      "AA RR\n",
      "mmeerriiccaann hheettoorriicc..ccoomm  \n",
      " \n",
      "Barack Obama \n",
      "White House Correspondents' Dinner Address \n",
      " \n",
      "delivered 27 April 2013, Washington Hilton Hotel, Washington, D.C.\n",
      " \n",
      " \n",
      "AUTHENTICITY CERTIFIED: Text version below transcribed directly from audio \n",
      "Thank you. Thank you, everybody.  How do you like my new entrance music?  Rush Limbaugh \n",
      " \n",
      "warned you about this -- second term, baby.  We’re changing things around here a little bit.\n",
      "Actually, my advisors were a little worried about the new rap entrance music.  They are a little \n",
      "more traditional. They suggested that I should start with some jokes at my own expense, just \n",
      "take myself down a peg. I was like, guys, after four and a half years, how many pegs are \n",
      " \n",
      "there left?\n",
      "I want to thank the White House Correspondents. Ed, you’re doing an outstanding job. We are \n",
      "grateful for -- the great work you’ve done. To all the dignitaries who are here, everybody on \n",
      "the dais -- I especially want to say thank you to [General] Ray Odierno, who does outstanding \n",
      " \n",
      "service on behalf of our country, and all our men and women in uniform every single day.\n",
      "And of course, our extraordinary First Lady, Michelle Obama. Everybody loves Michelle.  She’s \n",
      "on the cover of Vogue, high poll numbers. But don’t worry -- I recently got my own magazine \n",
      " \n",
      "cover.\n",
      "Now, look, I get it. These days, I look in the mirror and I have to admit, I’m not the strapping \n",
      " \n",
      "young Muslim socialist that I used to be.  Time passes. You get a little gray.\n",
      "And yet, even after all this time, I still make rookie mistakes. Like, I’m out in California, we’re \n",
      "at a fundraiser; we’re having a nice time. I happen to mention that Kamala Harris is the best-\n",
      "looking attorney general in the country.  As you might imagine, I got trouble when I got back \n",
      " \n",
      "home.  Who knew Eric Holder was so sensitive?\n",
      "AmericanRhetoric.com         Page 1 \n"
     ]
    }
   ],
   "source": [
    "print(pdf.original_page(0))"
   ]
  },
  {
   "cell_type": "markdown",
   "id": "94964bce",
   "metadata": {},
   "source": [
    "Define a regular expression to get the date, location, and content of the speech. Extract the entire speech from the PDF."
   ]
  },
  {
   "cell_type": "code",
   "execution_count": 10,
   "id": "6f8557d3",
   "metadata": {
    "code_folding": [],
    "scrolled": true
   },
   "outputs": [
    {
     "name": "stdout",
     "output_type": "stream",
     "text": [
      "Thank you. Thank you, everybody.  How do you like my new entrance music?  Rush Limbaugh \n",
      " \n",
      "warned you about this -- second term, baby.  Were changing things around here a little bit.\n",
      "Actually, my advisors were a little worried about the new rap entrance music.  They are a little \n",
      "more traditional. They suggested that I should start with some jokes at my own expense, just \n",
      "take myself down a peg. I was like, guys, after four and a half years, how many pegs are \n",
      " \n",
      "there left?\n",
      "I want to thank the White House Correspondents. Ed, youre doing an outstanding job. We are \n",
      "grateful for -- the great work youve done. To all the dignitaries who are here, everybody on \n",
      "the dais -- I especially want to say thank you to [General] Ray Odierno, who does outstanding \n",
      " \n",
      "service on behalf of our country, and all our men and women in uniform every single day.\n",
      "And of course, our extraordinary First Lady, Michelle Obama. Everybody loves Michelle.  Shes \n",
      "on the cover of Vogue, high poll numbers. But dont worry -- I recently got my own magazine \n",
      " \n",
      "cover.\n",
      "Now, look, I get it. These days, I look in the mirror and I have to admit, Im not the strapping \n",
      " \n",
      "young Muslim socialist that I used to be.  Time passes. You get a little gray.\n",
      "And yet, even after all this time, I still make rookie mistakes. Like, Im out in California, were \n",
      "at a fundraiser; were having a nice time. I happen to mention that Kamala Harris is the best-\n",
      "looking attorney general in the country.  As you might imagine, I got trouble when I got back \n",
      " \n",
      "home.  Who knew Eric Holder was so sensitive?\n",
      " And then theres the Easter Egg Roll, which is supposed to be just a nice, fun event with the \n",
      "kids. I go out on the basketball court, took 22 shots -- made two of them. Thats right: two \n",
      " \n",
      "hits, 20 misses. The executives at NBC asked, Whats your secret?\n",
      "So, yes, maybe I have lost a step. But some things are beyond my control. For example, this \n",
      "whole controversy about Jaz-Z going to Cuba -- its unbelievable. Ive got 99 problems and \n",
      " \n",
      "now Jay-Z is one.  Thats another rap reference, Bill.  Ill let you know.\n",
      "Of course, everybody has got plenty of advice. Maureen Dowd said I could solve all my \n",
      "problems if I were just more like Michael Douglas in The American President. And I know \n",
      "Michael is here tonight. Michael, whats your secret, man?  Could it be that you were an actor \n",
      "in an Aaron Sorkin liberal fantasy?  Might that have something to do with it?  I dont know. \n",
      " \n",
      "Check in with me. Maybe its something else.\n",
      " \n",
      "Anyway, I recognize that this job can take a toll on you. I understand -- second term, you \n",
      "need a burst of new energy, try some new things. And my team and I talked about it. We \n",
      "were willing to try anything. So we borrowed one of Michelles tricks.  I thought this looked \n",
      " \n",
      "pretty good, but no bounce.\n",
      "I want to give a shout-out to our headliner, Conan OBrien.  I was just talking to Ed, and I \n",
      "understand that when the Correspondents Association was considering Conan for this gig, \n",
      "they were faced with that age-old dilemma: Do you offer it to him now, or wait for five years \n",
      " \n",
      "and then give it to Jimmy Fallon?  That was a little harsh. I love Conan.\n",
      "And of course, the White House press corps is here. I know CNN has taken some knocks \n",
      "lately, but the fact is I admire their commitment to cover all sides of a story, just in case one \n",
      " \n",
      "of them happens to be accurate.\n",
      "Some of my former advisors have switched over to the dark side. For example, David Axelrod \n",
      "now works for MSNBC, which is a nice change of pace since MSNBC used to work for David \n",
      " \n",
      "Axelrod.\n",
      " \n",
      " The History Channel is not here. I guess they were embarrassed about the whole Obama-is-a-\n",
      "devil thing.  Of course, that never kept Fox News from showing up. They actually thought the \n",
      " \n",
      "comparison was not fair -- to Satan.\n",
      "But the problem is, is that the media landscape is changing so rapidly. You cant keep up with \n",
      "it. I mean, I remember when BuzzFeed was just something I did in college around 2:00 a.m.  \n",
      " \n",
      "Its true.\n",
      "Recently, though, I found a new favorite source for political news -- these guys are great. I \n",
      "think everybody here should check it out, they tell it like it is. Its called WhiteHouse.gov.  I \n",
      " \n",
      "cannot get enough of it.\n",
      "The fact is I really do respect the press. I recognize that the press and I have different jobs to \n",
      "do. My job is to be President; your job is to keep me humble. Frankly, I think Im doing my \n",
      " \n",
      "job better.\n",
      "But part of the problem is everybody is so cynical. I mean, were constantly feeding cynicism, \n",
      "suspicion, conspiracies. You remember a few months ago, my Administration put out a \n",
      " \n",
      "photograph of me going skeet shooting at Camp David?\n",
      " \n",
      "You remember that? And quite a number of people insisted that this had been photoshopped. \n",
      "But tonight I have something to confess: You were right. Guys, can we show them the actual \n",
      " \n",
      "photo?\n",
      " \n",
      " \n",
      "We were just trying to tone it down a little bit.  That was an awesome day.\n",
      " There are other new players in the media landscape as well, like super PACs. Did you know \n",
      "that Sheldon Adelson spent 100 million dollars of his own money last year on negative ads? \n",
      "Youve got to really dislike me -- to spend that kind of money. I mean, thats Oprah money.  \n",
      "You could buy an island and call it Nobama for that kind of money.  Sheldon would have \n",
      "been better off offering me 100 million dollar to drop out of the race.  I probably wouldnt \n",
      "have taken it, but I'd have thought about it.  Michelle would have taken it.  You think Im \n",
      " \n",
      "joking?\n",
      "I know Republicans are still sorting out what happened in 2012, but one thing they all agree \n",
      "on is they need to do a better job reaching out to minorities. And look, call me self-centered, \n",
      "but I can think of one minority they could start with.  Hello? Think of me as a trial run, you \n",
      " \n",
      "know?  See how it goes.\n",
      "If they wont come to me, I will come to them. Recently, I had dinner -- its been well \n",
      "publicized -- I had dinner with a number of the Republican senators. And Ill admit it wasnt \n",
      " \n",
      "easy. I proposed a toast -- it died in committee.\n",
      "Of course, even after I've done all this, some folks still dont think I spend enough time with \n",
      "Congress. \"Why dont you get a drink with Mitch McConnell?\" they ask. Really?  Why dont you \n",
      " \n",
      "get a drink with Mitch McConnell?  I'm sorry. I get frustrated sometimes.\n",
      "I am not giving up. In fact, I'm taking my charm offensive on the road -- a Texas barbeque \n",
      "with Ted Cruz, a Kentucky bluegrass concert with Rand Paul, and a book-burning with Michele \n",
      " \n",
      "Bachmann.\n",
      "My charm offensive has helped me learn some interesting things about what's going on in \n",
      "Congress -- it turns out, absolutely nothing.  But the point of my charm offensive is simple: \n",
      "We need to make progress on some important issues. Take the sequester. Republicans fell in \n",
      "love with this thing, and now they can't stop talking about how much they hate it. It's like \n",
      " \n",
      "we're trapped in a Taylor Swift album.\n",
      "One senator who has reached across the aisle recently is Marco Rubio, but I dont know about \n",
      "2016. I mean, the guy has not even finished a single term in the Senate and he thinks he's \n",
      " \n",
      "ready to be President.  Kids these days.\n",
      "I, on the other hand, have run my last campaign. On Thursday, as Ed mentioned, I went to \n",
      "the opening of the Bush Presidential Library in Dallas. It was a wonderful event, and that \n",
      "inspired me to get started on my own legacy, which will actually begin by building another \n",
      " \n",
      "edifice right next to the Bush Library -- can we show that, please?\n",
      " I'm also hard at work on plans for the Obama Library. And some have suggested that we put \n",
      "it in my birthplace, but I'd rather keep it in the United States.  Did anybody not see that joke \n",
      " \n",
      "coming?  Show of hands. Only Gallup? Maybe Dick Morris?\n",
      "Now, speaking of presidents and their legacies, I want to acknowledge a wonderful friend, \n",
      "Steven Spielberg, and Daniel Day-Lewis, who are here tonight.  We had a screening of their \n",
      "most recent film, Lincoln, which was an extraordinary film. I am a little nervous, though, \n",
      "about Steven's next project. I saw a behind-the-scenes look on HBO -- well, let's just check it \n",
      " \n",
      "out. Roll the tape.\n",
      " \n",
      "[tape rolls]\n",
      " \n",
      "It's a remarkable transformation. Do I really sound like that, though, honey?\n",
      "Groucho Marx once said -- and, Senator Cruz, thats Groucho Marx, not Karl. Thats the other \n",
      "guy.  Groucho Marx once told an audience, \"Before I speak, I have something important to \n",
      " \n",
      "say.\"  And along those same lines, I want to close on a more serious note.\n",
      "Obviously, there has been no shortage of news to cover over these past few weeks. And these \n",
      "have been some very hard days for too many of our citizens. Even as we gather here tonight, \n",
      "our thoughts are not far from the people of Boston and the people of West, Texas. There are \n",
      "families in the Midwest who are coping with some terrible floods. So we've had some difficult \n",
      " \n",
      "days.\n",
      "But even when the days seemed darkest, we have seen humanity shine at its brightest. We've \n",
      "seen first responders and National Guardsmen who have dashed into danger, law enforcement \n",
      "officers who lived their oath to serve and to protect, and everyday Americans who are opening \n",
      " \n",
      "their homes and their hearts to perfect strangers.\n",
      "And we also saw journalists at their best -- especially those who took the time to wade \n",
      "upstream through the torrent of digital rumors to chase down leads and verify facts and \n",
      "painstakingly put the pieces together to inform, and to educate, and to tell stories that \n",
      " \n",
      "demanded to be told.\n",
      " \n",
      " If anyone wonders, for example, whether newspapers are a thing of the past, all you needed \n",
      "to do was to pick up or log on to papers like the Boston Globe.  When their communities and \n",
      "the wider world needed them most, they were there making sense of events that might at \n",
      "first blush seem beyond our comprehension. And thats what great journalism is, and thats \n",
      "what great journalists do. And thats why, for example, Pete Williams' new nickname around \n",
      " \n",
      "the NBC newsroom is \"Big Papi.\"\n",
      "And in these past few weeks, as I've gotten a chance to meet many of the first responders \n",
      "and the police officers and volunteers who raced to help when hardship hits, I was reminded, \n",
      "as I'm always reminded when I meet our men and women in uniform, whether they're in war \n",
      "theater, or here back home, or at Walter Reed in Bethesda -- I'm reminded that all these \n",
      "folks, they dont do it to be honored, they dont do it to be celebrated. They do it because they \n",
      " \n",
      "love their families and they love their neighborhoods and they love their country.\n",
      "And so, these men and women should inspire all of us in this room to live up to those same \n",
      "standards; to be worthy of their trust; to do our jobs with the same fidelity, and the same \n",
      "integrity, and the same sense of purpose, and the same love of country. Because if we're only \n",
      "focused on profits or ratings or polls, then we're contributing to the cynicism that so many \n",
      " \n",
      "people feel right now.\n",
      "And so, those of us in this room tonight, we are incredibly lucky. And the fact is, we can do \n",
      "better -- all of us. Those of us in public office, those of us in the press, those who produce \n",
      "entertainment for our kids, those with power, those with influence -- all of us, including \n",
      "myself, we can strive to value those things that I suspect led most of us to do the work that \n",
      "we do in the first place -- because we believed in something that was true, and we believed in \n",
      "service, and the idea that we can have a lasting, positive impact on the lives of the people \n",
      " \n",
      "around us.\n",
      "And thats our obligation. Thats a task we should gladly embrace on behalf of all of those \n",
      " \n",
      "folks who are counting on us; on behalf of this country thats given us so much.\n",
      " \n",
      "So thank you all, to the White House Correspondents for the great work you do.\n",
      " \n",
      "God bless you all.\n",
      " \n",
      "May God bless the United States of America.\n"
     ]
    }
   ],
   "source": [
    "start = r\"^(?:\\s*AA *RR\\s+mmeerriiccaann *hheettoorriicc\\.\\.ccoomm|\\s*AmericanRhetoric\\.com|\\s*AAmmeerriiccaannRRhheettoorriicc\\.\\.ccoomm)?\"\n",
    "\n",
    "datemarker =r\"^(delivered|First *Broadcast|Uploaded[ a-z]*)?\"\n",
    "date = r\"(?P<day>[0-9]{1,2}) *(?P<mon>[a-z]+) *(?P<year>[0-9]{2,})\"\n",
    "loc = r\"(, *(?P<location>.+?))?\"\n",
    "auth = r\"(?:.?AUTHENTICITY CERTIFIED: Text version below transcribed directly from audio( *and edited for continuity)?.?)?\"\n",
    "\n",
    "content = r\"(?P<content>.*)\"\n",
    "\n",
    "#footnotes = r\"^(([1-9][0-9]*.+?)+\\n+)?\"\n",
    "tr = r\"(Transcription *by *[a-z.\\- ]+\\s*)?\"\n",
    "url = r\"((Property *of *)?AmericanRhetoric\\.com)?\"\n",
    "page = r\"(page *[0-9]+\\s*$)\"\n",
    "\n",
    "full_pat = start + \\\n",
    "r\"(\\s+.*?\" + datemarker + \" *\" + date + loc + r\"\\s+\" + auth + r\")?\" + \\\n",
    "r\"\\s+\" + content + \\\n",
    "r\"^(?:\\s*\" + tr + url + r\".*?\" + page + r\")\"\n",
    "pat = re.compile(full_pat, re.I | re.DOTALL | re.M)\n",
    "\n",
    "speech = pdf.extract_speech(pat)\n",
    "print(speech)"
   ]
  },
  {
   "cell_type": "markdown",
   "id": "cb2be298",
   "metadata": {},
   "source": [
    "Print the relevant info of the PDF."
   ]
  },
  {
   "cell_type": "code",
   "execution_count": 11,
   "id": "0b150a8e",
   "metadata": {},
   "outputs": [
    {
     "name": "stdout",
     "output_type": "stream",
     "text": [
      "Title: White_House_Correspondent_Dinner_2013\n",
      "Number of pages: 6\n",
      "Date: 27 April 2013\n",
      "Location: Washington Hilton Hotel, Washington, D.C.\n"
     ]
    }
   ],
   "source": [
    "pdf.print_info()"
   ]
  },
  {
   "cell_type": "markdown",
   "id": "f6c26436",
   "metadata": {},
   "source": [
    "Check whether there are multiple speakers. (If there is a high \"Obama:\" count, this might indicate he is answering questions, i.e., it is an interview, press conference, debate,...)"
   ]
  },
  {
   "cell_type": "code",
   "execution_count": 12,
   "id": "19587a2a",
   "metadata": {},
   "outputs": [
    {
     "name": "stdout",
     "output_type": "stream",
     "text": [
      "{'obama:': 0, 'president:': 0, 'question:': 0, 'audience:': 0, 'member:': 0}\n",
      "\n",
      "['right:', 'dilemma:', '2:', 'confess:', 'simple:']\n"
     ]
    }
   ],
   "source": [
    "count = ('obama:', 'president:', 'question:', 'audience:', 'member:')\n",
    "counts, speakers = pdf.multiple_speakers(speech, count)\n",
    "print(counts)\n",
    "print()\n",
    "pprint(speakers)"
   ]
  },
  {
   "cell_type": "markdown",
   "id": "94a351ca",
   "metadata": {},
   "source": [
    "Replace substrings."
   ]
  },
  {
   "cell_type": "code",
   "execution_count": 13,
   "id": "fc33ae28",
   "metadata": {},
   "outputs": [],
   "source": [
    "rep_old = [r'\"', r'’’', r'‘‘', r'“', r'”', r'[sic]', r\";\", r\":\"]\n",
    "rep_new = [r'' , r''  , r''  , r'' , r'' , r' '    , r'' , r'' ]\n",
    "\n",
    "clean_speech = pdf.substring_replace(speech, rep_old, rep_new)"
   ]
  },
  {
   "cell_type": "markdown",
   "id": "26099d7d",
   "metadata": {},
   "source": [
    "Replace or delete some characters to clean the speech (only the ones that need to be matched with a regular expression)."
   ]
  },
  {
   "cell_type": "code",
   "execution_count": 14,
   "id": "87a4b542",
   "metadata": {
    "scrolled": true
   },
   "outputs": [
    {
     "name": "stdout",
     "output_type": "stream",
     "text": [
      "Thank you. Thank you, everybody. How do you like my new entrance music? Rush Limbaugh warned you about this second term, baby. Were changing things around here a little bit. Actually, my advisors were a little worried about the new rap entrance music. They are a little more traditional. They suggested that I should start with some jokes at my own expense, just take myself down a peg. I was like, guys, after four and a half years, how many pegs are there left? I want to thank the White House Correspondents. Ed, youre doing an outstanding job. We are grateful for the great work youve done. To all the dignitaries who are here, everybody on the dais I especially want to say thank you to General Ray Odierno, who does outstanding service on behalf of our country, and all our men and women in uniform every single day. And of course, our extraordinary First Lady, Michelle Obama. Everybody loves Michelle. Shes on the cover of Vogue, high poll numbers. But dont worry I recently got my own magazine cover. Now, look, I get it. These days, I look in the mirror and I have to admit, Im not the strapping young Muslim socialist that I used to be. Time passes. You get a little gray. And yet, even after all this time, I still make rookie mistakes. Like, Im out in California, were at a fundraiser were having a nice time. I happen to mention that Kamala Harris is the best- looking attorney general in the country. As you might imagine, I got trouble when I got back home. Who knew Eric Holder was so sensitive? And then theres the Easter Egg Roll, which is supposed to be just a nice, fun event with the kids. I go out on the basketball court, took 22 shots made two of them. Thats right two hits, 20 misses. The executives at NBC asked, Whats your secret? So, yes, maybe I have lost a step. But some things are beyond my control. For example, this whole controversy about Jaz-Z going to Cuba its unbelievable. Ive got 99 problems and now Jay-Z is one. Thats another rap reference, Bill. Ill let you know. Of course, everybody has got plenty of advice. Maureen Dowd said I could solve all my problems if I were just more like Michael Douglas in The American President. And I know Michael is here tonight. Michael, whats your secret, man? Could it be that you were an actor in an Aaron Sorkin liberal fantasy? Might that have something to do with it? I dont know. Check in with me. Maybe its something else. Anyway, I recognize that this job can take a toll on you. I understand second term, you need a burst of new energy, try some new things. And my team and I talked about it. We were willing to try anything. So we borrowed one of Michelles tricks. I thought this looked pretty good, but no bounce. I want to give a shout-out to our headliner, Conan OBrien. I was just talking to Ed, and I understand that when the Correspondents Association was considering Conan for this gig, they were faced with that age-old dilemma Do you offer it to him now, or wait for five years and then give it to Jimmy Fallon? That was a little harsh. I love Conan. And of course, the White House press corps is here. I know CNN has taken some knocks lately, but the fact is I admire their commitment to cover all sides of a story, just in case one of them happens to be accurate. Some of my former advisors have switched over to the dark side. For example, David Axelrod now works for MSNBC, which is a nice change of pace since MSNBC used to work for David Axelrod. The History Channel is not here. I guess they were embarrassed about the whole Obama-is-a- devil thing. Of course, that never kept Fox News from showing up. They actually thought the comparison was not fair to Satan. But the problem is, is that the media landscape is changing so rapidly. You cant keep up with it. I mean, I remember when BuzzFeed was just something I did in college around 200 a.m. Its true. Recently, though, I found a new favorite source for political news these guys are great. I think everybody here should check it out, they tell it like it is. Its called WhiteHouse.gov. I cannot get enough of it. The fact is I really do respect the press. I recognize that the press and I have different jobs to do. My job is to be President your job is to keep me humble. Frankly, I think Im doing my job better. But part of the problem is everybody is so cynical. I mean, were constantly feeding cynicism, suspicion, conspiracies. You remember a few months ago, my Administration put out a photograph of me going skeet shooting at Camp David? You remember that? And quite a number of people insisted that this had been photoshopped. But tonight I have something to confess You were right. Guys, can we show them the actual photo? We were just trying to tone it down a little bit. That was an awesome day. There are other new players in the media landscape as well, like super PACs. Did you know that Sheldon Adelson spent 100 million dollars of his own money last year on negative ads? Youve got to really dislike me to spend that kind of money. I mean, thats Oprah money. You could buy an island and call it Nobama for that kind of money. Sheldon would have been better off offering me 100 million dollar to drop out of the race. I probably wouldnt have taken it, but I'd have thought about it. Michelle would have taken it. You think Im joking? I know Republicans are still sorting out what happened in 2012, but one thing they all agree on is they need to do a better job reaching out to minorities. And look, call me self-centered, but I can think of one minority they could start with. Hello? Think of me as a trial run, you know? See how it goes. If they wont come to me, I will come to them. Recently, I had dinner its been well publicized I had dinner with a number of the Republican senators. And Ill admit it wasnt easy. I proposed a toast it died in committee. Of course, even after I've done all this, some folks still dont think I spend enough time with Congress. Why dont you get a drink with Mitch McConnell? they ask. Really? Why dont you get a drink with Mitch McConnell? I'm sorry. I get frustrated sometimes. I am not giving up. In fact, I'm taking my charm offensive on the road a Texas barbeque with Ted Cruz, a Kentucky bluegrass concert with Rand Paul, and a book-burning with Michele Bachmann. My charm offensive has helped me learn some interesting things about what's going on in Congress it turns out, absolutely nothing. But the point of my charm offensive is simple We need to make progress on some important issues. Take the sequester. Republicans fell in love with this thing, and now they can't stop talking about how much they hate it. It's like we're trapped in a Taylor Swift album. One senator who has reached across the aisle recently is Marco Rubio, but I dont know about 2016. I mean, the guy has not even finished a single term in the Senate and he thinks he's ready to be President. Kids these days. I, on the other hand, have run my last campaign. On Thursday, as Ed mentioned, I went to the opening of the Bush Presidential Library in Dallas. It was a wonderful event, and that inspired me to get started on my own legacy, which will actually begin by building another edifice right next to the Bush Library can we show that, please? I'm also hard at work on plans for the Obama Library. And some have suggested that we put it in my birthplace, but I'd rather keep it in the United States. Did anybody not see that joke coming? Show of hands. Only Gallup? Maybe Dick Morris? Now, speaking of presidents and their legacies, I want to acknowledge a wonderful friend, Steven Spielberg, and Daniel Day-Lewis, who are here tonight. We had a screening of their most recent film, Lincoln, which was an extraordinary film. I am a little nervous, though, about Steven's next project. I saw a behind-the-scenes look on HBO well, let's just check it out. Roll the tape. tape rolls It's a remarkable transformation. Do I really sound like that, though, honey? Groucho Marx once said and, Senator Cruz, thats Groucho Marx, not Karl. Thats the other guy. Groucho Marx once told an audience, Before I speak, I have something important to say. And along those same lines, I want to close on a more serious note. Obviously, there has been no shortage of news to cover over these past few weeks. And these have been some very hard days for too many of our citizens. Even as we gather here tonight, our thoughts are not far from the people of Boston and the people of West, Texas. There are families in the Midwest who are coping with some terrible floods. So we've had some difficult days. But even when the days seemed darkest, we have seen humanity shine at its brightest. We've seen first responders and National Guardsmen who have dashed into danger, law enforcement officers who lived their oath to serve and to protect, and everyday Americans who are opening their homes and their hearts to perfect strangers. And we also saw journalists at their best especially those who took the time to wade upstream through the torrent of digital rumors to chase down leads and verify facts and painstakingly put the pieces together to inform, and to educate, and to tell stories that demanded to be told. If anyone wonders, for example, whether newspapers are a thing of the past, all you needed to do was to pick up or log on to papers like the Boston Globe. When their communities and the wider world needed them most, they were there making sense of events that might at first blush seem beyond our comprehension. And thats what great journalism is, and thats what great journalists do. And thats why, for example, Pete Williams' new nickname around the NBC newsroom is Big Papi. And in these past few weeks, as I've gotten a chance to meet many of the first responders and the police officers and volunteers who raced to help when hardship hits, I was reminded, as I'm always reminded when I meet our men and women in uniform, whether they're in war theater, or here back home, or at Walter Reed in Bethesda I'm reminded that all these folks, they dont do it to be honored, they dont do it to be celebrated. They do it because they love their families and they love their neighborhoods and they love their country. And so, these men and women should inspire all of us in this room to live up to those same standards to be worthy of their trust to do our jobs with the same fidelity, and the same integrity, and the same sense of purpose, and the same love of country. Because if we're only focused on profits or ratings or polls, then we're contributing to the cynicism that so many people feel right now. And so, those of us in this room tonight, we are incredibly lucky. And the fact is, we can do better all of us. Those of us in public office, those of us in the press, those who produce entertainment for our kids, those with power, those with influence all of us, including myself, we can strive to value those things that I suspect led most of us to do the work that we do in the first place because we believed in something that was true, and we believed in service, and the idea that we can have a lasting, positive impact on the lives of the people around us. And thats our obligation. Thats a task we should gladly embrace on behalf of all of those folks who are counting on us on behalf of this country thats given us so much. So thank you all, to the White House Correspondents for the great work you do. God bless you all. May God bless the United States of America.\n"
     ]
    }
   ],
   "source": [
    "re_old = [r'-{2,}', r'\\.{2,}', r'\\s+', r'\\[(Source:)?\\s*http.*?\\]', r'[\\[\\]\\(\\)]']\n",
    "re_new = [r' '    , r' '     , r' '  , r''                        , r''          ]\n",
    "\n",
    "clean_speech = pdf.match_replace(clean_speech, re_old, re_new)\n",
    "print(clean_speech)"
   ]
  },
  {
   "cell_type": "markdown",
   "id": "c4391c66",
   "metadata": {},
   "source": [
    "Output to csv file."
   ]
  },
  {
   "cell_type": "code",
   "execution_count": 15,
   "id": "285af2d0",
   "metadata": {},
   "outputs": [
    {
     "name": "stdout",
     "output_type": "stream",
     "text": [
      "pdf 1\n",
      "['CGI_2013' '19' '24 September 2013'\n",
      " 'Sheraton New York Hotel and Towers, New York, New York' '10']\n",
      "Hillary Clinton Thank you very much. I have the great pleasure to introduce our next two speakers, w\n",
      "\n",
      "pdf 2\n",
      "['Prayer_Breakfast_2016' '7' '4 February 2016'\n",
      " 'Washington Hilton, Washington, D.C.' '0']\n",
      "Well, good morning. Giving all praise and honor to God for bringing us together here this morning. I\n",
      "\n",
      "pdf 3\n",
      "['Security_Team_Announcement' '5' '1 December 2008' 'Chicago, Illinois'\n",
      " '0']\n",
      "Good morning, everybody. I hope you all had a wonderful Thanksgiving. Last week, we announced our ec\n",
      "\n",
      "pdf 4\n",
      "['Cairo_University' '14' '4 June 2009' 'Cairo, Egypt' '0']\n",
      "Thank you so much. Good afternoon. I am honored to be in the timeless city of Cairo, and to be hoste\n",
      "\n",
      "pdf 5\n",
      "['Umpqua_Community_College_Shootings' '4' '1 October 2015'\n",
      " 'Washington, D.C.' '0']\n",
      "Theres been another mass shooting in America this time, in a community college in Oregon. That means\n",
      "\n",
      "pdf 6\n",
      "['White_House_Correspondent_Dinner_2013' '6' '27 April 2013'\n",
      " 'Washington Hilton Hotel, Washington, D.C.' '0']\n",
      "Thank you. Thank you, everybody. How do you like my new entrance music? Rush Limbaugh warned you abo\n",
      "\n",
      "pdf 7\n",
      "['Border_Security_and_Immigration_Reform' '5' '30 June 2014'\n",
      " 'unknown_location' '0']\n",
      "Good afternoon, everybody. One year ago this month, senators of both parties - with support from the\n",
      "\n",
      "pdf 8\n",
      "['Senate_Floor_Immigration_Reform' '5' '23 May 2007' 'Washington, D.C.'\n",
      " '0']\n",
      "Mr. President, Last year I spoke1 at one of the marches in Chicago for comprehensive immigration ref\n",
      "\n",
      "pdf 9\n",
      "['Presser_on_the_Economy_and_Debt_Limit' '21' '29 June 2011'\n",
      " 'East Room of the White House, Washington, D.C.' '26']\n",
      "I just want to say a few words about the economy before I take your questions. There are a lot of fo\n",
      "\n",
      "pdf 10\n",
      "['Kennedy_Center_Honorees_2009' '6' '6 December 2009' 'unknown_location'\n",
      " '4']\n",
      "President Obama Thank you. On behalf of Michelle and myself, welcome to the White House. Little Chil\n",
      "\n"
     ]
    }
   ],
   "source": [
    "csv_filename = Path.cwd().parent / \"speeches_csv\" / \"speeches.csv\"\n",
    "\n",
    "fields = [\"title\", \"pages\", \"date\", \"location\", \"highest_speaker_count\", \"content\"]\n",
    "\n",
    "# use 'a+' instead of 'w' if you want to append at the bottom of the file instead of replacing the file\n",
    "with open(csv_filename, 'w') as csvfile: \n",
    "    csvwriter = csv.writer(csvfile, delimiter=',', quotechar='\"', quoting=csv.QUOTE_MINIMAL) \n",
    "        \n",
    "    csvwriter.writerow(fields) \n",
    "        \n",
    "    for i in range(10):  # for i in range(len(pdfs)):\n",
    "        filepath = pdfs[i]\n",
    "        pdf = PDFHandler(filepath)\n",
    "        row = np.array(pdf.full_extract(pat, count, rep_old, rep_new, re_old, re_new))\n",
    "        csvwriter.writerow(row)\n",
    "        \n",
    "        print(\"pdf\", i+1)\n",
    "        print(row[:-1])\n",
    "        print(row[-1][:100])\n",
    "        print()"
   ]
  }
 ],
 "metadata": {
  "kernelspec": {
   "display_name": "Python 3 (ipykernel)",
   "language": "python",
   "name": "python3"
  },
  "language_info": {
   "codemirror_mode": {
    "name": "ipython",
    "version": 3
   },
   "file_extension": ".py",
   "mimetype": "text/x-python",
   "name": "python",
   "nbconvert_exporter": "python",
   "pygments_lexer": "ipython3",
   "version": "3.9.5"
  },
  "latex_envs": {
   "LaTeX_envs_menu_present": true,
   "autoclose": false,
   "autocomplete": true,
   "bibliofile": "biblio.bib",
   "cite_by": "apalike",
   "current_citInitial": 1,
   "eqLabelWithNumbers": true,
   "eqNumInitial": 1,
   "hotkeys": {
    "equation": "Ctrl-E",
    "itemize": "Ctrl-I"
   },
   "labels_anchors": false,
   "latex_user_defs": false,
   "report_style_numbering": false,
   "user_envs_cfg": false
  },
  "toc": {
   "base_numbering": 1,
   "nav_menu": {},
   "number_sections": true,
   "sideBar": true,
   "skip_h1_title": false,
   "title_cell": "Table of Contents",
   "title_sidebar": "Contents",
   "toc_cell": false,
   "toc_position": {},
   "toc_section_display": true,
   "toc_window_display": false
  },
  "varInspector": {
   "cols": {
    "lenName": 16,
    "lenType": 16,
    "lenVar": 40
   },
   "kernels_config": {
    "python": {
     "delete_cmd_postfix": "",
     "delete_cmd_prefix": "del ",
     "library": "var_list.py",
     "varRefreshCmd": "print(var_dic_list())"
    },
    "r": {
     "delete_cmd_postfix": ") ",
     "delete_cmd_prefix": "rm(",
     "library": "var_list.r",
     "varRefreshCmd": "cat(var_dic_list()) "
    }
   },
   "types_to_exclude": [
    "module",
    "function",
    "builtin_function_or_method",
    "instance",
    "_Feature"
   ],
   "window_display": false
  }
 },
 "nbformat": 4,
 "nbformat_minor": 5
}
