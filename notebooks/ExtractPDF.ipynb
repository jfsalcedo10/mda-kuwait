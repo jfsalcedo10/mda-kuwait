{
 "cells": [
  {
   "cell_type": "code",
   "execution_count": 1,
   "id": "7219351a",
   "metadata": {},
   "outputs": [],
   "source": [
    "from pathlib import Path\n",
    "\n",
    "import pdfplumber\n",
    "import re\n",
    "from pprint import pprint\n",
    "\n",
    "import sys\n",
    "src_path = str(Path.cwd().parent / \"src\")\n",
    "sys.path.append(src_path)"
   ]
  },
  {
   "cell_type": "code",
   "execution_count": 2,
   "id": "080b26d0",
   "metadata": {},
   "outputs": [],
   "source": [
    "from pdf_processing import *"
   ]
  },
  {
   "cell_type": "markdown",
   "id": "a4ed81dc",
   "metadata": {},
   "source": [
    "TODO: \n",
    " - Q&As / interviews\n",
    " - check more PDFs for differences in format\n",
    " - write documentation\n",
    " - locations not included after the date (might need to be taken care of manually)\n",
    " - use translate() instead of pdf.replace()\n",
    "\n",
    "\n",
    "\n",
    "DONE: \n",
    " - seems to work now:\n",
    "     - footnotes (like in People_of_Greece.pdf and Senate_Floor_Immigration_Reform.pdf)\n",
    "     \n",
    "     \n",
    " - location is not split up anymore, but kept as a single element (will be easier to clean up afterwards)\n",
    "     - (locations with multiple comma's (ex. when Washington, D.C. is included) --> might be better to store location as one elements instead of splitting it up, the location can be cleaned up afterwards)"
   ]
  },
  {
   "cell_type": "code",
   "execution_count": 3,
   "id": "0efda2d7",
   "metadata": {},
   "outputs": [],
   "source": [
    "# pdfs that have these in the title might have to be excluded: interview, presser, Press_Conference, press\n",
    "multiple_people_talking = ['Barack_Obama_-_Al-Arabiya_Interview.pdf', 'CGI_2013.pdf', \n",
    "                           'Midterm_Elections_Presser_2014.pdf', 'YSEALI_Fellows.pdf', \n",
    "                           'PM_Abe_of_Japan_Joint_Presser.pdf', 'Paris_Press_Conference_2015.pdf',\n",
    "                           'Gun_Violence_Presser.pdf', 'Associated_Press_Luncheon.pdf', 'Final_Press_Conference.pdf',\n",
    "                           'CNN_Guns_in_America_Town_Hall.pdf', 'START_Treaty_Presser.pdf', \n",
    "                           'Midterm_Elections_Presser_2010.pdf', 'Joint_Presser_with_President_Benigno_Aquino.pdf',\n",
    "                           'Worldwide_Troop_Talk.pdf', 'Post_ASEAN_Presser_2016.pdf', 'Post_G7_Presser_Japan.pdf',\n",
    "                           'Presser_Unannounced_Heath_Care.pdf']\n"
   ]
  },
  {
   "cell_type": "markdown",
   "id": "c91117f1",
   "metadata": {},
   "source": [
    "Get the path to the directory in which the PDFs are stored."
   ]
  },
  {
   "cell_type": "code",
   "execution_count": 4,
   "id": "2c239d92",
   "metadata": {},
   "outputs": [],
   "source": [
    "pdf_dir = Path.cwd().parent / \"pdfs\""
   ]
  },
  {
   "cell_type": "markdown",
   "id": "f03551e4",
   "metadata": {},
   "source": [
    "Filepaths of all the PDFs in the folder `pdf_dir`, can be used to iterate over all the PDFs to store the extracted speeches in a dataframe."
   ]
  },
  {
   "cell_type": "code",
   "execution_count": 5,
   "id": "0751ecb4",
   "metadata": {},
   "outputs": [
    {
     "name": "stdout",
     "output_type": "stream",
     "text": [
      "current number of PDFs: 436\n"
     ]
    }
   ],
   "source": [
    "pdfs = list(pdf_dir.glob('*.pdf'))  \n",
    "print(\"current number of PDFs:\", len(pdfs))"
   ]
  },
  {
   "cell_type": "markdown",
   "id": "c332ab84",
   "metadata": {},
   "source": [
    "Get filepath of the PDF you want to process."
   ]
  },
  {
   "cell_type": "code",
   "execution_count": 6,
   "id": "d179e7ec",
   "metadata": {},
   "outputs": [
    {
     "name": "stdout",
     "output_type": "stream",
     "text": [
      "File: Afghanistan_Troop_Reduction.pdf\n"
     ]
    }
   ],
   "source": [
    "filepath = pdfs[57] \n",
    "print(\"File:\", str(filepath.parts[-1]))"
   ]
  },
  {
   "cell_type": "markdown",
   "id": "f6946b1a",
   "metadata": {},
   "source": [
    "Make a PDFHandler object for the given filepath."
   ]
  },
  {
   "cell_type": "code",
   "execution_count": 7,
   "id": "54e77483",
   "metadata": {},
   "outputs": [],
   "source": [
    "pdf = PDFHandler(filepath)"
   ]
  },
  {
   "cell_type": "markdown",
   "id": "21594c06",
   "metadata": {},
   "source": [
    "Print the last page of the PDF before it has been processed."
   ]
  },
  {
   "cell_type": "code",
   "execution_count": 8,
   "id": "7b260608",
   "metadata": {
    "scrolled": true
   },
   "outputs": [
    {
     "name": "stdout",
     "output_type": "stream",
     "text": [
      "  \n",
      "AAmmeerriiccaannRRhheettoorriicc..ccoomm  \n",
      " \n",
      "That’s a lesson worth remembering -- that we are all a part of one American family. Though \n",
      "we have known disagreement and division, we are bound together by the creed that is written \n",
      "into our founding documents, and a conviction that the United States of America is a country \n",
      "that can achieve whatever it sets out to accomplish. Now, let us finish the work at hand. Let \n",
      "us responsibly end these wars, and reclaim the American Dream that is at the center of our \n",
      "story. With confidence in our cause, with faith in our fellow citizens, and with hope in our \n",
      "hearts, let us go about the work of extending the promise of America -- for this generation, \n",
      "and the next. \n",
      "May God bless our troops. \n",
      "And may God bless the United States of America. \n",
      "Property of AmericanRhetoric.com  Copyright ©2012. All rights reserved.     Page 5 \n"
     ]
    }
   ],
   "source": [
    "print(pdf.original_page(-1))"
   ]
  },
  {
   "cell_type": "markdown",
   "id": "3ef2da9a",
   "metadata": {},
   "source": [
    "Print the first page of the PDF before it has been processed."
   ]
  },
  {
   "cell_type": "code",
   "execution_count": 9,
   "id": "7bce4a84",
   "metadata": {
    "scrolled": true
   },
   "outputs": [
    {
     "name": "stdout",
     "output_type": "stream",
     "text": [
      "  \n",
      "AAmmeerriiccaannRRhheettoorriicc..ccoomm  \n",
      " \n",
      "Barack Obama \n",
      "Afghanistan Troop Reduction Address to the Nation \n",
      " \n",
      "Delivered 22 June 2011, White House, Washington, D.C. \n",
      " \n",
      "AUTHENTICITY CERTIFIED: Text version below transcribed directly from audio \n",
      "Good evening. Nearly 10 years ago, America suffered the worst attack on our shores since \n",
      "Pearl Harbor. This mass murder was planned by Osama bin Laden and his al Qaeda network in \n",
      "Afghanistan, and signaled a new threat to our security -- one in which the targets were no \n",
      "longer soldiers on a battlefield, but innocent men, women and children going about their daily \n",
      "lives. \n",
      "In the days that followed, our nation was united as we struck at al Qaeda and routed the \n",
      "Taliban in Afghanistan. Then, our focus shifted. A second war was launched in Iraq, and we \n",
      "spent enormous blood and treasure to support a new government there. By the time I took \n",
      "office, the war in Afghanistan had entered its seventh year. But al Qaeda’s leaders had \n",
      "escaped into Pakistan and were plotting new attacks, while the Taliban had regrouped and \n",
      "gone on the offensive. Without a new strategy and decisive action, our military commanders \n",
      "warned that we could face a resurgent al Qaeda and a Taliban taking over large parts of \n",
      "Afghanistan. \n",
      "For this reason, in one of the most difficult decisions that I’ve made as President, I ordered an \n",
      "additional 30,000 American troops into Afghanistan. When I announced this surge at West \n",
      "Point, we set clear objectives: to refocus on al Qaeda, to reverse the Taliban’s momentum, \n",
      "and train Afghan security forces to defend their own country. I also made it clear that our \n",
      "commitment would not be open-ended, and that we would begin to draw down our forces this \n",
      "July. \n",
      " \n",
      "Property of AmericanRhetoric.com  Copyright ©2012. All rights reserved.     Page 1 \n"
     ]
    }
   ],
   "source": [
    "print(pdf.original_page(0))"
   ]
  },
  {
   "cell_type": "markdown",
   "id": "94964bce",
   "metadata": {},
   "source": [
    "Define a regular expression to get the date, location, and content of the speech. Extract the entire speech from the PDF."
   ]
  },
  {
   "cell_type": "code",
   "execution_count": 10,
   "id": "6f8557d3",
   "metadata": {
    "code_folding": [],
    "scrolled": true
   },
   "outputs": [
    {
     "name": "stdout",
     "output_type": "stream",
     "text": [
      "Good evening. Nearly 10 years ago, America suffered the worst attack on our shores since \n",
      "Pearl Harbor. This mass murder was planned by Osama bin Laden and his al Qaeda network in \n",
      "Afghanistan, and signaled a new threat to our security -- one in which the targets were no \n",
      "longer soldiers on a battlefield, but innocent men, women and children going about their daily \n",
      "lives. \n",
      "In the days that followed, our nation was united as we struck at al Qaeda and routed the \n",
      "Taliban in Afghanistan. Then, our focus shifted. A second war was launched in Iraq, and we \n",
      "spent enormous blood and treasure to support a new government there. By the time I took \n",
      "office, the war in Afghanistan had entered its seventh year. But al Qaeda’s leaders had \n",
      "escaped into Pakistan and were plotting new attacks, while the Taliban had regrouped and \n",
      "gone on the offensive. Without a new strategy and decisive action, our military commanders \n",
      "warned that we could face a resurgent al Qaeda and a Taliban taking over large parts of \n",
      "Afghanistan. \n",
      "For this reason, in one of the most difficult decisions that I’ve made as President, I ordered an \n",
      "additional 30,000 American troops into Afghanistan. When I announced this surge at West \n",
      "Point, we set clear objectives: to refocus on al Qaeda, to reverse the Taliban’s momentum, \n",
      "and train Afghan security forces to defend their own country. I also made it clear that our \n",
      "commitment would not be open-ended, and that we would begin to draw down our forces this \n",
      "July. \n",
      "  Tonight, I can tell you that we are fulfilling that commitment. Thanks to our extraordinary \n",
      "men and women in uniform, our civilian personnel, and our many coalition partners, we are \n",
      "meeting our goals. As a result, starting next month, we will be able to remove 10,000 of our \n",
      "troops from Afghanistan by the end of this year, and we will bring home a total of 33,000 \n",
      "troops by next summer, fully recovering the surge I announced at West Point. After this initial \n",
      "reduction, our troops will continue coming home at a steady pace as Afghan security forces \n",
      "move into the lead.  Our mission will change from combat to support.  By 2014, this process \n",
      "of transition will be complete, and the Afghan people will be responsible for their own security. \n",
      "We’re starting this drawdown from a position of strength. Al Qaeda is under more pressure \n",
      "than at any time since 9/11. Together with the Pakistanis, we have taken out more than half \n",
      "of al Qaeda’s leadership.  And thanks to our intelligence professionals and Special Forces, we \n",
      "killed Osama bin Laden, the only leader that al Qaeda had ever known. This was a victory for \n",
      "all who have served since 9/11. One soldier summed it up well. “The message,” he said, “is \n",
      "we don’t forget. You will be held accountable, no matter how long it takes.”  \n",
      "The information that we recovered from bin Laden’s compound shows al Qaeda under \n",
      "enormous strain. Bin Laden expressed concern that al Qaeda had been unable to effectively \n",
      "replace senior terrorists that had been killed, and that al Qaeda has failed in its effort to \n",
      "portray America as a nation at war with Islam -- thereby draining more widespread \n",
      "support. Al Qaeda remains dangerous, and we must be vigilant against attacks. But we have \n",
      "put al Qaeda on a path to defeat, and we will not relent until the job is done. \n",
      "In Afghanistan, we’ve inflicted serious losses on the Taliban and taken a number of its \n",
      "strongholds. Along with our surge, our allies also increased their commitments, which helped \n",
      "stabilize more of the country. Afghan security forces have grown by over 100,000 troops, and \n",
      "in some provinces and municipalities we’ve already begun to transition responsibility for \n",
      "security to the Afghan people. In the face of violence and intimidation, Afghans are fighting \n",
      "and dying for their country, establishing local police forces, opening markets and schools, \n",
      "creating new opportunities for women and girls, and trying to turn the page on decades of \n",
      "war. \n",
      "Of course, huge challenges remain. This is the beginning -- but not the end -- of our effort to \n",
      "wind down this war. We’ll have to do the hard work of keeping the gains that we’ve made, \n",
      "while we draw down our forces and transition responsibility for security to the Afghan \n",
      "government. And next May, in Chicago, we will host a summit with our NATO allies and \n",
      "partners to shape the next phase of this transition. \n",
      "We do know that peace cannot come to a land that has known so much war without a political \n",
      "settlement. So as we strengthen the Afghan government and security forces, America will join \n",
      "initiatives that reconcile the Afghan people, including the Taliban. Our position on these talks \n",
      "is clear: They must be led by the Afghan government, and those who want to be a part of a \n",
      "peaceful Afghanistan must break from al Qaeda, abandon violence, and abide by the Afghan  constitution. But, in part because of our military effort, we have reason to believe that \n",
      "progress can be made. \n",
      "The goal that we seek is achievable, and can be expressed simply: no safe haven from which \n",
      "al Qaeda or its affiliates can launch attacks against our homeland or our allies. We won't try to \n",
      "make Afghanistan a perfect place. We will not police its streets or patrol its mountains \n",
      "indefinitely. That is the responsibility of the Afghan government, which must step up its ability \n",
      "to protect its people, and move from an economy shaped by war to one that can sustain a \n",
      "lasting peace. What we can do, and will do, is build a partnership with the Afghan people that \n",
      "endures –- one that ensures that we will be able to continue targeting terrorists and \n",
      "supporting a sovereign Afghan government. \n",
      "Of course, our efforts must also address terrorist safe havens in Pakistan. No country is more \n",
      "endangered by the presence of violent extremists, which is why we will continue to press \n",
      "Pakistan to expand its participation in securing a more peaceful future for this war-torn \n",
      "region. We'll work with the Pakistani government to root out the cancer of violent extremism, \n",
      "and we will insist that it keeps its commitments. For there should be no doubt that so long as \n",
      "I am President, the United States will never tolerate a safe haven for those who aim to kill \n",
      "us. They cannot elude us, nor escape the justice they deserve.  \n",
      "My fellow Americans, this has been a difficult decade for our country. We've learned anew the \n",
      "profound cost of war -- a cost that's been paid by the nearly 4,500 Americans who have given \n",
      "their lives in Iraq, and the over 1,500 who have done so in Afghanistan -- men and women \n",
      "who will not live to enjoy the freedom that they defended. Thousands more have been \n",
      "wounded. Some have lost limbs on the battlefield, and others still battle the demons that have \n",
      "followed them home. \n",
      "Yet tonight, we take comfort in knowing that the tide of war is receding.  Fewer of our sons \n",
      "and daughters are serving in harm’s way. We’ve ended our combat mission in Iraq, with \n",
      "100,000 American troops already out of that country. And even as there will be dark days \n",
      "ahead in Afghanistan, the light of a secure peace can be seen in the distance. These long wars \n",
      "will come to a responsible end. \n",
      "As they do, we must learn their lessons. Already this decade of war has caused many to \n",
      "question the nature of America’s engagement around the world. Some would have America \n",
      "retreat from our responsibility as an anchor of global security, and embrace an isolation that \n",
      "ignores the very real threats that we face. Others would have America over-extended, \n",
      "confronting every evil that can be found abroad. \n",
      "We must chart a more centered course. Like generations before, we must embrace America’s \n",
      "singular role in the course of human events. But we must be as pragmatic as we are \n",
      "passionate; as strategic as we are resolute. When threatened, we must respond with force -- \n",
      "but when that force can be targeted, we need not deploy large armies overseas.  When innocents are being slaughtered and global security endangered, we don’t have to \n",
      "choose between standing idly by or acting on our own. Instead, we must rally international \n",
      "action, which we’re doing in Libya, where we do not have a single soldier on the ground, but \n",
      "are supporting allies in protecting the Libyan people and giving them the chance to determine \n",
      "their own destiny. \n",
      "In all that we do, we must remember that what sets America apart is not solely our power -- \n",
      "it is the principles upon which our union was founded. We’re a nation that brings our enemies \n",
      "to justice while adhering to the rule of law, and respecting the rights of all our citizens. We \n",
      "protect our own freedom and prosperity by extending it to others.  We stand not for empire, \n",
      "but for self-determination. That is why we have a stake in the democratic aspirations that are \n",
      "now washing across the Arab world. We will support those revolutions with fidelity to our \n",
      "ideals, with the power of our example, and with an unwavering belief that all human beings \n",
      "deserve to live with freedom and dignity. \n",
      "Above all, we are a nation whose strength abroad has been anchored in opportunity for our \n",
      "citizens here at home. Over the last decade, we have spent a trillion dollars on war, at a time \n",
      "of rising debt and hard economic times. Now, we must invest in America’s greatest resource -- \n",
      "our people. We must unleash innovation that creates new jobs and industries, while living \n",
      "within our means. We must rebuild our infrastructure and find new and clean sources of \n",
      "energy. And most of all, after a decade of passionate debate, we must recapture the common \n",
      "purpose that we shared at the beginning of this time of war. For our nation draws strength \n",
      "from our differences, and when our union is strong no hill is too steep, no horizon is beyond \n",
      "our reach. \n",
      "America, it is time to focus on nation building here at home. \n",
      "In this effort, we draw inspiration from our fellow Americans who have sacrificed so much on \n",
      "our behalf. To our troops, our veterans and their families, I speak for all Americans when I \n",
      "say that we will keep our sacred trust with you, and provide you with the care and benefits \n",
      "and opportunity that you deserve. \n",
      "I met some of these patriotic Americans at Fort Campbell. Awhile back, I spoke to the 101st \n",
      "Airborne that has fought to turn the tide in Afghanistan, and to the team that took out Osama \n",
      "bin Laden. Standing in front of a model of bin Laden’s compound, the Navy SEAL who led that \n",
      "effort paid tribute to those who had been lost -- brothers and sisters in arms whose names are \n",
      "now written on bases where our troops stand guard overseas, and on headstones in quiet \n",
      "corners of our country where their memory will never be forgotten. This officer -- like so many \n",
      "others I’ve met on bases, in Baghdad and Bagram, and at Walter Reed and Bethesda Naval \n",
      "Hospital -- spoke with humility about how his unit worked together as one, depending on each \n",
      "other, and trusting one another, as a family might do in a time of peril. \n",
      "  That’s a lesson worth remembering -- that we are all a part of one American family. Though \n",
      "we have known disagreement and division, we are bound together by the creed that is written \n",
      "into our founding documents, and a conviction that the United States of America is a country \n",
      "that can achieve whatever it sets out to accomplish. Now, let us finish the work at hand. Let \n",
      "us responsibly end these wars, and reclaim the American Dream that is at the center of our \n",
      "story. With confidence in our cause, with faith in our fellow citizens, and with hope in our \n",
      "hearts, let us go about the work of extending the promise of America -- for this generation, \n",
      "and the next. \n",
      "May God bless our troops. \n",
      "And may God bless the United States of America.\n"
     ]
    }
   ],
   "source": [
    "start = r\"(?:hheettoorriicc\\.\\.ccoomm)\"\n",
    "\n",
    "date = r\"(?P<day>[0-9]{1,2})\\s+(?P<mon>[a-z]+)\\s+(?P<year>[0-9]{2,4})\"\n",
    "#loc = r\"(?P<location_small>[a-z0-9. ]+),\\s+(?P<location_big>[a-z0-9., ]+)\"\n",
    "#loc = r\"(?P<location>[a-z0-9.,\\- ]+)\"\n",
    "loc = r\"(?P<location>.+?)\"\n",
    "auth = r\"(?:\\[?AUTHENTICITY CERTIFIED: Text version below transcribed directly from audio( and edited for continuity)?\\]?)?\"\n",
    "\n",
    "content = r\"(?P<content>.*?)\"\n",
    "\n",
    "footnotes = r\"(([1-9][0-9]* [a-z].*?)+\\n+)?\"\n",
    "\n",
    "tr = r\"(Transcription\\s+by\\s+.*?)?\"\n",
    "pr = r\"(Property\\s+of\\s+)?\"\n",
    "end = r\"AmericanRhetoric\\.com\"\n",
    "\n",
    "full_patern = start + \\\n",
    "r\"(\\s+.*?delivered\\s+\" + date + r\"(,\\s+\" + loc + r\")?\" + r\"\\s+\" + auth + r\")?\" + \\\n",
    "r\"\\s+\" + content + r\"\\n+\" + \\\n",
    "r\"(?:\" + footnotes + tr + pr + end + r\")\"\n",
    "pat = re.compile(full_patern, re.I | re.DOTALL)\n",
    "\n",
    "speech = pdf.extract_speech(pat)\n",
    "print(speech)"
   ]
  },
  {
   "cell_type": "markdown",
   "id": "cb2be298",
   "metadata": {},
   "source": [
    "Print the relevant info of the PDF."
   ]
  },
  {
   "cell_type": "code",
   "execution_count": 11,
   "id": "0b150a8e",
   "metadata": {},
   "outputs": [
    {
     "name": "stdout",
     "output_type": "stream",
     "text": [
      "Title: Afghanistan_Troop_Reduction\n",
      "Number of pages: 5\n",
      "Date: ['22', 'June', '2011']\n",
      "Location: ['White House, Washington, D.C.']\n"
     ]
    }
   ],
   "source": [
    "pdf.print_info()"
   ]
  },
  {
   "cell_type": "markdown",
   "id": "f6c26436",
   "metadata": {},
   "source": [
    "Check whether there are multiple speakers. (If there is a high \"Obama:\" count, this might indicate he is answering questions, i.e., it is an interview, press conference, debate,...)"
   ]
  },
  {
   "cell_type": "code",
   "execution_count": 12,
   "id": "19587a2a",
   "metadata": {},
   "outputs": [
    {
     "name": "stdout",
     "output_type": "stream",
     "text": [
      "\"Obama:\" count: 0\n",
      "\"President:\" count: 0\n",
      "\"Question:\" count: 0\n",
      "\"Audience:\" count: 0\n",
      "\"Member:\" count: 0\n",
      "['objectives:', 'clear:', 'simply:']\n"
     ]
    }
   ],
   "source": [
    "speakers = pdf.multiple_speakers(speech)\n",
    "pprint(speakers)"
   ]
  },
  {
   "cell_type": "markdown",
   "id": "26099d7d",
   "metadata": {},
   "source": [
    "Replace or delete some characters to clean the speech."
   ]
  },
  {
   "cell_type": "code",
   "execution_count": 13,
   "id": "87a4b542",
   "metadata": {
    "scrolled": true
   },
   "outputs": [
    {
     "name": "stdout",
     "output_type": "stream",
     "text": [
      "Good evening. Nearly 10 years ago, America suffered the worst attack on our shores since Pearl Harbor. This mass murder was planned by Osama bin Laden and his al Qaeda network in Afghanistan, and signaled a new threat to our security one in which the targets were no longer soldiers on a battlefield, but innocent men, women and children going about their daily lives. In the days that followed, our nation was united as we struck at al Qaeda and routed the Taliban in Afghanistan. Then, our focus shifted. A second war was launched in Iraq, and we spent enormous blood and treasure to support a new government there. By the time I took office, the war in Afghanistan had entered its seventh year. But al Qaeda's leaders had escaped into Pakistan and were plotting new attacks, while the Taliban had regrouped and gone on the offensive. Without a new strategy and decisive action, our military commanders warned that we could face a resurgent al Qaeda and a Taliban taking over large parts of Afghanistan. For this reason, in one of the most difficult decisions that I've made as President, I ordered an additional 30,000 American troops into Afghanistan. When I announced this surge at West Point, we set clear objectives: to refocus on al Qaeda, to reverse the Taliban's momentum, and train Afghan security forces to defend their own country. I also made it clear that our commitment would not be open ended, and that we would begin to draw down our forces this July. Tonight, I can tell you that we are fulfilling that commitment. Thanks to our extraordinary men and women in uniform, our civilian personnel, and our many coalition partners, we are meeting our goals. As a result, starting next month, we will be able to remove 10,000 of our troops from Afghanistan by the end of this year, and we will bring home a total of 33,000 troops by next summer, fully recovering the surge I announced at West Point. After this initial reduction, our troops will continue coming home at a steady pace as Afghan security forces move into the lead. Our mission will change from combat to support. By 2014, this process of transition will be complete, and the Afghan people will be responsible for their own security. We're starting this drawdown from a position of strength. Al Qaeda is under more pressure than at any time since 9/11. Together with the Pakistanis, we have taken out more than half of al Qaeda's leadership. And thanks to our intelligence professionals and Special Forces, we killed Osama bin Laden, the only leader that al Qaeda had ever known. This was a victory for all who have served since 9/11. One soldier summed it up well. The message, he said, is we don't forget. You will be held accountable, no matter how long it takes. The information that we recovered from bin Laden's compound shows al Qaeda under enormous strain. Bin Laden expressed concern that al Qaeda had been unable to effectively replace senior terrorists that had been killed, and that al Qaeda has failed in its effort to portray America as a nation at war with Islam thereby draining more widespread support. Al Qaeda remains dangerous, and we must be vigilant against attacks. But we have put al Qaeda on a path to defeat, and we will not relent until the job is done. In Afghanistan, we've inflicted serious losses on the Taliban and taken a number of its strongholds. Along with our surge, our allies also increased their commitments, which helped stabilize more of the country. Afghan security forces have grown by over 100,000 troops, and in some provinces and municipalities we've already begun to transition responsibility for security to the Afghan people. In the face of violence and intimidation, Afghans are fighting and dying for their country, establishing local police forces, opening markets and schools, creating new opportunities for women and girls, and trying to turn the page on decades of war. Of course, huge challenges remain. This is the beginning but not the end of our effort to wind down this war. We'll have to do the hard work of keeping the gains that we've made, while we draw down our forces and transition responsibility for security to the Afghan government. And next May, in Chicago, we will host a summit with our NATO allies and partners to shape the next phase of this transition. We do know that peace cannot come to a land that has known so much war without a political settlement. So as we strengthen the Afghan government and security forces, America will join initiatives that reconcile the Afghan people, including the Taliban. Our position on these talks is clear: They must be led by the Afghan government, and those who want to be a part of a peaceful Afghanistan must break from al Qaeda, abandon violence, and abide by the Afghan constitution. But, in part because of our military effort, we have reason to believe that progress can be made. The goal that we seek is achievable, and can be expressed simply: no safe haven from which al Qaeda or its affiliates can launch attacks against our homeland or our allies. We won't try to make Afghanistan a perfect place. We will not police its streets or patrol its mountains indefinitely. That is the responsibility of the Afghan government, which must step up its ability to protect its people, and move from an economy shaped by war to one that can sustain a lasting peace. What we can do, and will do, is build a partnership with the Afghan people that endures – one that ensures that we will be able to continue targeting terrorists and supporting a sovereign Afghan government. Of course, our efforts must also address terrorist safe havens in Pakistan. No country is more endangered by the presence of violent extremists, which is why we will continue to press Pakistan to expand its participation in securing a more peaceful future for this war torn region. We'll work with the Pakistani government to root out the cancer of violent extremism, and we will insist that it keeps its commitments. For there should be no doubt that so long as I am President, the United States will never tolerate a safe haven for those who aim to kill us. They cannot elude us, nor escape the justice they deserve. My fellow Americans, this has been a difficult decade for our country. We've learned anew the profound cost of war a cost that's been paid by the nearly 4,500 Americans who have given their lives in Iraq, and the over 1,500 who have done so in Afghanistan men and women who will not live to enjoy the freedom that they defended. Thousands more have been wounded. Some have lost limbs on the battlefield, and others still battle the demons that have followed them home. Yet tonight, we take comfort in knowing that the tide of war is receding. Fewer of our sons and daughters are serving in harm's way. We've ended our combat mission in Iraq, with 100,000 American troops already out of that country. And even as there will be dark days ahead in Afghanistan, the light of a secure peace can be seen in the distance. These long wars will come to a responsible end. As they do, we must learn their lessons. Already this decade of war has caused many to question the nature of America's engagement around the world. Some would have America retreat from our responsibility as an anchor of global security, and embrace an isolation that ignores the very real threats that we face. Others would have America over extended, confronting every evil that can be found abroad. We must chart a more centered course. Like generations before, we must embrace America's singular role in the course of human events. But we must be as pragmatic as we are passionate; as strategic as we are resolute. When threatened, we must respond with force but when that force can be targeted, we need not deploy large armies overseas. When innocents are being slaughtered and global security endangered, we don't have to choose between standing idly by or acting on our own. Instead, we must rally international action, which we're doing in Libya, where we do not have a single soldier on the ground, but are supporting allies in protecting the Libyan people and giving them the chance to determine their own destiny. In all that we do, we must remember that what sets America apart is not solely our power it is the principles upon which our union was founded. We're a nation that brings our enemies to justice while adhering to the rule of law, and respecting the rights of all our citizens. We protect our own freedom and prosperity by extending it to others. We stand not for empire, but for self determination. That is why we have a stake in the democratic aspirations that are now washing across the Arab world. We will support those revolutions with fidelity to our ideals, with the power of our example, and with an unwavering belief that all human beings deserve to live with freedom and dignity. Above all, we are a nation whose strength abroad has been anchored in opportunity for our citizens here at home. Over the last decade, we have spent a trillion dollars on war, at a time of rising debt and hard economic times. Now, we must invest in America's greatest resource our people. We must unleash innovation that creates new jobs and industries, while living within our means. We must rebuild our infrastructure and find new and clean sources of energy. And most of all, after a decade of passionate debate, we must recapture the common purpose that we shared at the beginning of this time of war. For our nation draws strength from our differences, and when our union is strong no hill is too steep, no horizon is beyond our reach. America, it is time to focus on nation building here at home. In this effort, we draw inspiration from our fellow Americans who have sacrificed so much on our behalf. To our troops, our veterans and their families, I speak for all Americans when I say that we will keep our sacred trust with you, and provide you with the care and benefits and opportunity that you deserve. I met some of these patriotic Americans at Fort Campbell. Awhile back, I spoke to the 101st Airborne that has fought to turn the tide in Afghanistan, and to the team that took out Osama bin Laden. Standing in front of a model of bin Laden's compound, the Navy SEAL who led that effort paid tribute to those who had been lost brothers and sisters in arms whose names are now written on bases where our troops stand guard overseas, and on headstones in quiet corners of our country where their memory will never be forgotten. This officer like so many others I've met on bases, in Baghdad and Bagram, and at Walter Reed and Bethesda Naval Hospital spoke with humility about how his unit worked together as one, depending on each other, and trusting one another, as a family might do in a time of peril. That's a lesson worth remembering that we are all a part of one American family. Though we have known disagreement and division, we are bound together by the creed that is written into our founding documents, and a conviction that the United States of America is a country that can achieve whatever it sets out to accomplish. Now, let us finish the work at hand. Let us responsibly end these wars, and reclaim the American Dream that is at the center of our story. With confidence in our cause, with faith in our fellow citizens, and with hope in our hearts, let us go about the work of extending the promise of America for this generation, and the next. May God bless our troops. And may God bless the United States of America.\n"
     ]
    }
   ],
   "source": [
    "old = [r'-+', r'\\.{2,}', r'[’‘]', r'\"', r'’’', r'‘‘', r'“', r'”', r'\\[sic\\]', r'\\s+', r'\\[Source:\\s*http.*\\]', r'[\\[\\]\\(\\)]']\n",
    "new = [r' ' , r' '     , r\"'\"   , r'' , r''  , r''  , r'' , r'' , r' '      , r' '  , r'',                     r''      ]\n",
    "\n",
    "clean_speech = pdf.replace(speech, old, new)\n",
    "print(clean_speech)"
   ]
  },
  {
   "cell_type": "code",
   "execution_count": null,
   "id": "285af2d0",
   "metadata": {},
   "outputs": [],
   "source": []
  },
  {
   "cell_type": "code",
   "execution_count": null,
   "id": "085528a5",
   "metadata": {},
   "outputs": [],
   "source": []
  },
  {
   "cell_type": "code",
   "execution_count": null,
   "id": "454d7de2",
   "metadata": {},
   "outputs": [],
   "source": []
  },
  {
   "cell_type": "code",
   "execution_count": null,
   "id": "2e00160b",
   "metadata": {},
   "outputs": [],
   "source": []
  },
  {
   "cell_type": "markdown",
   "id": "cded2e6a",
   "metadata": {},
   "source": [
    "Old code, used for debugging."
   ]
  },
  {
   "cell_type": "code",
   "execution_count": null,
   "id": "30f576c9",
   "metadata": {},
   "outputs": [],
   "source": [
    "pdfs = [\"Farewell_to_Staff_and_Supporters\", \"Flint_Michigan_Community\", \"Guantanamo_Bay_Closing\", \"Post_G7_Presser_Japan\"]\n",
    "\n",
    "pdf_dir = Path.cwd().parent / \"pdfs\"\n",
    "file_to_open = pdfs[2] + \".pdf\" \n",
    "pdf = pdfplumber.open(pdf_dir / file_to_open)\n",
    "\n",
    "print('Title:', pdf.metadata['Title'])\n",
    "print(\"number of pages:\", len(pdf.pages))"
   ]
  },
  {
   "cell_type": "code",
   "execution_count": null,
   "id": "fb301147",
   "metadata": {
    "scrolled": false
   },
   "outputs": [],
   "source": [
    "text = pdf.pages[0].extract_text()\n",
    "    \n",
    "#start = r\"hheettoorriicc\\.\\.ccoomm(?:.*AUTHENTICITY CERTIFIED: Text version below transcribed directly from audio)?\"\n",
    "start = r\"(?:hheettoorriicc\\.\\.ccoomm)\"\n",
    "date = r\"(.*delivered\\s+(?P<day>[ 123][0-9])\\s+(?P<mon>[A-Z][a-z]+)\\s+(?P<year>[0-9][0-9][0-9][0-9]),\"\n",
    "loc = r\"\\s+(?P<location_small>[A-Za-z0-9 ]+),\\s+(?P<location_big>.*)\\n+\"\n",
    "auth = r\"(?:.*AUTHENTICITY CERTIFIED: Text version below transcribed directly from audio))?\"\n",
    "mid = r\"\\s*\\n+(?P<content>.*)\\s*\\n+\"\n",
    "end = r\"(?:(?:Property\\s+of\\s+)?AmericanRhetoric\\.com)\"\n",
    "\n",
    "core_pat = re.compile(start + date+loc+auth + mid + end, re.DOTALL)\n",
    "\n",
    "print(\"ORIGINAL:\\n\")\n",
    "print(text)\n",
    "print(\"\\n\\n\" + 100*\"-\" + \"\\n\\n\") \n",
    "\n",
    "search = re.search(core_pat, text)\n",
    "core = search.group(\"content\")\n",
    "\n",
    "dash = re.compile(r\"-+\")\n",
    "no_dash_core = dash.sub(r\" \", core)\n",
    "\n",
    "dots = re.compile(r\"\\.{2,}\")\n",
    "no_dots_core = dots.sub(r\" \", no_dash_core)\n",
    "\n",
    "spaces = re.compile(r\"\\s+\")\n",
    "single_space_core = spaces.sub(r\" \", no_dots_core)\n",
    "\n",
    "print(\"PROCESSED:\\n\")\n",
    "print(single_space_core)"
   ]
  },
  {
   "cell_type": "code",
   "execution_count": null,
   "id": "d3f7f836",
   "metadata": {},
   "outputs": [],
   "source": [
    "def extract_speech(pages):\n",
    "    full_text = \"\"\n",
    "    \n",
    "    start = r\"hheettoorriicc\\.\\.ccoomm(?:.*AUTHENTICITY CERTIFIED: Text version below transcribed directly from audio)?\"\n",
    "    mid = r\"\\s+(?P<content>.*)\\s+\"\n",
    "    end = r\"(?:Property of )?AmericanRhetoric\\.com\"\n",
    "    core_pat = re.compile(start+mid+end, re.DOTALL)\n",
    "        \n",
    "    for i in range(len(pages)):\n",
    "        text = pages[i].extract_text()\n",
    "        \n",
    "        core = re.search(core_pat, text).group(\"content\")\n",
    "        \n",
    "        core = replace(core, [r\"-+\", r\"\\.{2,}\", r\"\\s+\"], r\" \")\n",
    "        \n",
    "        full_text += core + \" \"\n",
    "        \n",
    "    return full_text\n",
    "\n",
    "\n",
    "def replace(text, old, new):\n",
    "    for i in range(len(old)):\n",
    "        pat = re.compile(old[i])\n",
    "        text = pat.sub(new, text)\n",
    "    return text\n"
   ]
  },
  {
   "cell_type": "code",
   "execution_count": null,
   "id": "57551d7e",
   "metadata": {
    "scrolled": true
   },
   "outputs": [],
   "source": [
    "full_speech = extract_speech(pdf.pages)\n",
    "print(full_speech)"
   ]
  },
  {
   "cell_type": "code",
   "execution_count": null,
   "id": "4634b0f3",
   "metadata": {},
   "outputs": [],
   "source": [
    "pdf.close()"
   ]
  }
 ],
 "metadata": {
  "kernelspec": {
   "display_name": "Python 3 (ipykernel)",
   "language": "python",
   "name": "python3"
  },
  "language_info": {
   "codemirror_mode": {
    "name": "ipython",
    "version": 3
   },
   "file_extension": ".py",
   "mimetype": "text/x-python",
   "name": "python",
   "nbconvert_exporter": "python",
   "pygments_lexer": "ipython3",
   "version": "3.9.5"
  },
  "latex_envs": {
   "LaTeX_envs_menu_present": true,
   "autoclose": false,
   "autocomplete": true,
   "bibliofile": "biblio.bib",
   "cite_by": "apalike",
   "current_citInitial": 1,
   "eqLabelWithNumbers": true,
   "eqNumInitial": 1,
   "hotkeys": {
    "equation": "Ctrl-E",
    "itemize": "Ctrl-I"
   },
   "labels_anchors": false,
   "latex_user_defs": false,
   "report_style_numbering": false,
   "user_envs_cfg": false
  },
  "toc": {
   "base_numbering": 1,
   "nav_menu": {},
   "number_sections": true,
   "sideBar": true,
   "skip_h1_title": false,
   "title_cell": "Table of Contents",
   "title_sidebar": "Contents",
   "toc_cell": false,
   "toc_position": {},
   "toc_section_display": true,
   "toc_window_display": false
  },
  "varInspector": {
   "cols": {
    "lenName": 16,
    "lenType": 16,
    "lenVar": 40
   },
   "kernels_config": {
    "python": {
     "delete_cmd_postfix": "",
     "delete_cmd_prefix": "del ",
     "library": "var_list.py",
     "varRefreshCmd": "print(var_dic_list())"
    },
    "r": {
     "delete_cmd_postfix": ") ",
     "delete_cmd_prefix": "rm(",
     "library": "var_list.r",
     "varRefreshCmd": "cat(var_dic_list()) "
    }
   },
   "types_to_exclude": [
    "module",
    "function",
    "builtin_function_or_method",
    "instance",
    "_Feature"
   ],
   "window_display": false
  }
 },
 "nbformat": 4,
 "nbformat_minor": 5
}
