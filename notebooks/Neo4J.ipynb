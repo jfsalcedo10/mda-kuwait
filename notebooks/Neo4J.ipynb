{
 "cells": [
  {
   "cell_type": "code",
   "execution_count": 5,
   "id": "68c1f9a4",
   "metadata": {},
   "outputs": [],
   "source": [
    "import pandas as pd"
   ]
  },
  {
   "cell_type": "code",
   "execution_count": 8,
   "id": "360944d7",
   "metadata": {},
   "outputs": [
    {
     "name": "stdout",
     "output_type": "stream",
     "text": [
      "Collecting neo4j\n",
      "  Using cached neo4j-4.4.3-py3-none-any.whl\n",
      "Requirement already satisfied: pytz in c:\\users\\johan\\anaconda3\\lib\\site-packages (from neo4j) (2021.3)\n",
      "Installing collected packages: neo4j\n",
      "Successfully installed neo4j-4.4.3\n",
      "Note: you may need to restart the kernel to use updated packages.\n"
     ]
    }
   ],
   "source": [
    "pip install neo4j"
   ]
  },
  {
   "cell_type": "markdown",
   "id": "df5f904c",
   "metadata": {},
   "source": [
    "Data is already loaded in the database, we just have to connect to it to ask some queries"
   ]
  },
  {
   "cell_type": "code",
   "execution_count": 9,
   "id": "513d1fc7",
   "metadata": {},
   "outputs": [],
   "source": [
    "from neo4j import GraphDatabase"
   ]
  },
  {
   "cell_type": "code",
   "execution_count": 10,
   "id": "ebb568b6",
   "metadata": {},
   "outputs": [],
   "source": [
    "uri =\"bolt://localhost:7687\"\n",
    "user = \"neo4j\"\n",
    "password = \"mda_2022\""
   ]
  },
  {
   "cell_type": "code",
   "execution_count": 11,
   "id": "88e1ecaf",
   "metadata": {
    "scrolled": true
   },
   "outputs": [
    {
     "name": "stdout",
     "output_type": "stream",
     "text": [
      "hello world, from node 858\n",
      "done\n"
     ]
    }
   ],
   "source": [
    "##To see if the connection work\n",
    "class HelloWorldExample:\n",
    "\n",
    "    def __init__(self, uri, user, password):\n",
    "        self.driver = GraphDatabase.driver(uri, auth=(user, password))\n",
    "\n",
    "    def close(self):\n",
    "        self.driver.close()\n",
    "\n",
    "    def print_greeting(self, message):\n",
    "        with self.driver.session() as session:\n",
    "            result = session.run(\"CREATE (a:Greeting) \"\n",
    "                        \"SET a.message = $message \"\n",
    "                        \"RETURN a.message + ', from node ' + id(a)\", message=message)\n",
    "            name = result.single()[0]  \n",
    "            print(name)\n",
    "            \n",
    "    def delete_greeting(self):\n",
    "        with self.driver.session() as session:\n",
    "            result = session.run(\"MATCH (a:Greeting)\"\n",
    "                        \"DETACH DELETE (a)\")\n",
    "            print(\"done\")\n",
    "    \n",
    "if __name__ == \"__main__\":\n",
    "    greeter = HelloWorldExample(uri,user,password)\n",
    "    greeter.print_greeting(\"hello world\")\n",
    "    greeter.delete_greeting()\n",
    "    greeter.close()"
   ]
  },
  {
   "cell_type": "code",
   "execution_count": 80,
   "id": "040ace67",
   "metadata": {},
   "outputs": [],
   "source": [
    "class Neo4jConnection:\n",
    "    \n",
    "    def __init__(self, uri, user, pwd):\n",
    "        self.__uri = uri\n",
    "        self.__user = user\n",
    "        self.__pwd = pwd\n",
    "        self.__driver = None\n",
    "        try:\n",
    "            self.__driver = GraphDatabase.driver(self.__uri, auth=(self.__user, self.__pwd))\n",
    "        except Exception as e:\n",
    "            print(\"Failed to create the driver:\", e)\n",
    "        \n",
    "    def close(self):\n",
    "        if self.__driver is not None:\n",
    "            self.__driver.close()\n",
    "        \n",
    "    def query(self, query, parameters=None, db=None):\n",
    "        assert self.__driver is not None, \"Driver not initialized!\"\n",
    "        session = None\n",
    "        response = None\n",
    "        try: \n",
    "            session = self.__driver.session(database=db) if db is not None else self.__driver.session() \n",
    "            response = list(session.run(query, parameters))\n",
    "        except Exception as e:\n",
    "            print(\"Query failed:\", e)\n",
    "        finally: \n",
    "            if session is not None:\n",
    "                session.close()\n",
    "        return response\n",
    "\n",
    "\n",
    "conn = Neo4jConnection(uri=\"bolt://localhost:7687\", \n",
    "                       user=\"neo4j\",              \n",
    "                       pwd=\"mda_2022\")"
   ]
  },
  {
   "cell_type": "code",
   "execution_count": 86,
   "id": "8a05c799",
   "metadata": {},
   "outputs": [
    {
     "data": {
      "text/html": [
       "<div>\n",
       "<style scoped>\n",
       "    .dataframe tbody tr th:only-of-type {\n",
       "        vertical-align: middle;\n",
       "    }\n",
       "\n",
       "    .dataframe tbody tr th {\n",
       "        vertical-align: top;\n",
       "    }\n",
       "\n",
       "    .dataframe thead th {\n",
       "        text-align: right;\n",
       "    }\n",
       "</style>\n",
       "<table border=\"1\" class=\"dataframe\">\n",
       "  <thead>\n",
       "    <tr style=\"text-align: right;\">\n",
       "      <th></th>\n",
       "      <th>Speech</th>\n",
       "      <th>City</th>\n",
       "      <th>Country</th>\n",
       "      <th>Date</th>\n",
       "      <th>Content</th>\n",
       "      <th>Location</th>\n",
       "      <th>Nr_Pages</th>\n",
       "      <th>NrSpeakers</th>\n",
       "    </tr>\n",
       "  </thead>\n",
       "  <tbody>\n",
       "    <tr>\n",
       "      <th>0</th>\n",
       "      <td>CGI_2013</td>\n",
       "      <td>New York</td>\n",
       "      <td>USA</td>\n",
       "      <td>2013-09-24</td>\n",
       "      <td>Hillary Clinton: Thank you very much. I have t...</td>\n",
       "      <td>Sheraton New York Hotel and Towers</td>\n",
       "      <td>19</td>\n",
       "      <td>10</td>\n",
       "    </tr>\n",
       "    <tr>\n",
       "      <th>1</th>\n",
       "      <td>Prayer_Breakfast_2016</td>\n",
       "      <td>Washington D.C.</td>\n",
       "      <td>USA</td>\n",
       "      <td>2016-02-04</td>\n",
       "      <td>Well, good morning. Giving all praise and hono...</td>\n",
       "      <td>Washington Hilton</td>\n",
       "      <td>7</td>\n",
       "      <td>0</td>\n",
       "    </tr>\n",
       "    <tr>\n",
       "      <th>2</th>\n",
       "      <td>Security_Team_Announcement</td>\n",
       "      <td>Chicago</td>\n",
       "      <td>USA</td>\n",
       "      <td>2008-12-01</td>\n",
       "      <td>Good morning, everybody. I hope you all had a ...</td>\n",
       "      <td>no_specific_location</td>\n",
       "      <td>5</td>\n",
       "      <td>0</td>\n",
       "    </tr>\n",
       "    <tr>\n",
       "      <th>3</th>\n",
       "      <td>Cairo_University</td>\n",
       "      <td>Cairo</td>\n",
       "      <td>Egypt</td>\n",
       "      <td>2009-06-04</td>\n",
       "      <td>Thank you so much. Good afternoon. I am honore...</td>\n",
       "      <td>no_specific_location</td>\n",
       "      <td>14</td>\n",
       "      <td>0</td>\n",
       "    </tr>\n",
       "    <tr>\n",
       "      <th>4</th>\n",
       "      <td>Umpqua_Community_College_Shootings</td>\n",
       "      <td>Washington D.C.</td>\n",
       "      <td>USA</td>\n",
       "      <td>2015-10-01</td>\n",
       "      <td>There's been another mass shooting in America ...</td>\n",
       "      <td>no_specific_location</td>\n",
       "      <td>4</td>\n",
       "      <td>0</td>\n",
       "    </tr>\n",
       "  </tbody>\n",
       "</table>\n",
       "</div>"
      ],
      "text/plain": [
       "                               Speech             City Country        Date  \\\n",
       "0                            CGI_2013         New York     USA  2013-09-24   \n",
       "1               Prayer_Breakfast_2016  Washington D.C.     USA  2016-02-04   \n",
       "2          Security_Team_Announcement          Chicago     USA  2008-12-01   \n",
       "3                    Cairo_University            Cairo   Egypt  2009-06-04   \n",
       "4  Umpqua_Community_College_Shootings  Washington D.C.     USA  2015-10-01   \n",
       "\n",
       "                                             Content  \\\n",
       "0  Hillary Clinton: Thank you very much. I have t...   \n",
       "1  Well, good morning. Giving all praise and hono...   \n",
       "2  Good morning, everybody. I hope you all had a ...   \n",
       "3  Thank you so much. Good afternoon. I am honore...   \n",
       "4  There's been another mass shooting in America ...   \n",
       "\n",
       "                             Location Nr_Pages NrSpeakers  \n",
       "0  Sheraton New York Hotel and Towers       19         10  \n",
       "1                   Washington Hilton        7          0  \n",
       "2                no_specific_location        5          0  \n",
       "3                no_specific_location       14          0  \n",
       "4                no_specific_location        4          0  "
      ]
     },
     "execution_count": 86,
     "metadata": {},
     "output_type": "execute_result"
    }
   ],
   "source": [
    "query_string= '''\n",
    "MATCH (s:Speech)\n",
    "RETURN s.title AS Speech, s.city as City, s.country as Country, s.date as Date, s.content as Content,s.location as Location,s.pages as Nr_Pages,s.highest_speaker_count as NrSpeakers\n",
    "'''\n",
    "all_speeches = pd.DataFrame([dict(_) for _ in conn.query(query_string)])\n",
    "all_speeches.head(5)"
   ]
  },
  {
   "cell_type": "code",
   "execution_count": 87,
   "id": "9d7cf448",
   "metadata": {},
   "outputs": [
    {
     "data": {
      "text/html": [
       "<div>\n",
       "<style scoped>\n",
       "    .dataframe tbody tr th:only-of-type {\n",
       "        vertical-align: middle;\n",
       "    }\n",
       "\n",
       "    .dataframe tbody tr th {\n",
       "        vertical-align: top;\n",
       "    }\n",
       "\n",
       "    .dataframe thead th {\n",
       "        text-align: right;\n",
       "    }\n",
       "</style>\n",
       "<table border=\"1\" class=\"dataframe\">\n",
       "  <thead>\n",
       "    <tr style=\"text-align: right;\">\n",
       "      <th></th>\n",
       "      <th>Date</th>\n",
       "      <th>Sentiment</th>\n",
       "      <th>Title</th>\n",
       "      <th>NrSpeakers</th>\n",
       "    </tr>\n",
       "  </thead>\n",
       "  <tbody>\n",
       "    <tr>\n",
       "      <th>0</th>\n",
       "      <td>2004-07-27</td>\n",
       "      <td>0.653723</td>\n",
       "      <td>2004_DNC_Address</td>\n",
       "      <td>0</td>\n",
       "    </tr>\n",
       "    <tr>\n",
       "      <th>1</th>\n",
       "      <td>2005-01-06</td>\n",
       "      <td>0.959119</td>\n",
       "      <td>Senate_Speech_on_Ohio_Electoral_Vote</td>\n",
       "      <td>0</td>\n",
       "    </tr>\n",
       "    <tr>\n",
       "      <th>2</th>\n",
       "      <td>2005-04-21</td>\n",
       "      <td>0.806528</td>\n",
       "      <td>Saudi_Arabia_Presser</td>\n",
       "      <td>5</td>\n",
       "    </tr>\n",
       "    <tr>\n",
       "      <th>3</th>\n",
       "      <td>2005-06-04</td>\n",
       "      <td>0.535993</td>\n",
       "      <td>Knox_College_Commencement</td>\n",
       "      <td>0</td>\n",
       "    </tr>\n",
       "    <tr>\n",
       "      <th>4</th>\n",
       "      <td>2005-10-25</td>\n",
       "      <td>0.678966</td>\n",
       "      <td>Rosa_Parks</td>\n",
       "      <td>0</td>\n",
       "    </tr>\n",
       "  </tbody>\n",
       "</table>\n",
       "</div>"
      ],
      "text/plain": [
       "         Date  Sentiment                                 Title NrSpeakers\n",
       "0  2004-07-27   0.653723                      2004_DNC_Address          0\n",
       "1  2005-01-06   0.959119  Senate_Speech_on_Ohio_Electoral_Vote          0\n",
       "2  2005-04-21   0.806528                  Saudi_Arabia_Presser          5\n",
       "3  2005-06-04   0.535993             Knox_College_Commencement          0\n",
       "4  2005-10-25   0.678966                            Rosa_Parks          0"
      ]
     },
     "execution_count": 87,
     "metadata": {},
     "output_type": "execute_result"
    }
   ],
   "source": [
    "query_string= '''\n",
    "MATCH (s:Speech)\n",
    "RETURN s.date as Date, s.finalsentiment as Sentiment, s.title as Title , s.highest_speaker_count as NrSpeakers\n",
    "ORDER BY s.date\n",
    "'''\n",
    "ndf = pd.DataFrame([dict(_) for _ in conn.query(query_string)])\n",
    "ndf.head(5)"
   ]
  },
  {
   "cell_type": "code",
   "execution_count": 32,
   "id": "84d4a9ac",
   "metadata": {},
   "outputs": [],
   "source": [
    "import seaborn as sns\n",
    "from datetime import datetime"
   ]
  },
  {
   "cell_type": "code",
   "execution_count": 89,
   "id": "2395b958",
   "metadata": {},
   "outputs": [
    {
     "ename": "TypeError",
     "evalue": "strptime() argument 1 must be str, not datetime.date",
     "output_type": "error",
     "traceback": [
      "\u001b[1;31m---------------------------------------------------------------------------\u001b[0m",
      "\u001b[1;31mTypeError\u001b[0m                                 Traceback (most recent call last)",
      "\u001b[1;32m~\\AppData\\Local\\Temp/ipykernel_28820/3510634967.py\u001b[0m in \u001b[0;36m<module>\u001b[1;34m\u001b[0m\n\u001b[1;32m----> 1\u001b[1;33m \u001b[0mndf\u001b[0m\u001b[1;33m.\u001b[0m\u001b[0mDate\u001b[0m \u001b[1;33m=\u001b[0m \u001b[1;33m[\u001b[0m\u001b[0mdatetime\u001b[0m\u001b[1;33m.\u001b[0m\u001b[0mstrptime\u001b[0m\u001b[1;33m(\u001b[0m\u001b[0md\u001b[0m\u001b[1;33m,\u001b[0m\u001b[1;34m\"%Y-%m-%d\"\u001b[0m\u001b[1;33m)\u001b[0m\u001b[1;33m.\u001b[0m\u001b[0mdate\u001b[0m\u001b[1;33m(\u001b[0m\u001b[1;33m)\u001b[0m \u001b[1;32mfor\u001b[0m \u001b[0md\u001b[0m \u001b[1;32min\u001b[0m \u001b[0mndf\u001b[0m\u001b[1;33m.\u001b[0m\u001b[0mDate\u001b[0m\u001b[1;33m]\u001b[0m\u001b[1;33m\u001b[0m\u001b[1;33m\u001b[0m\u001b[0m\n\u001b[0m",
      "\u001b[1;32m~\\AppData\\Local\\Temp/ipykernel_28820/3510634967.py\u001b[0m in \u001b[0;36m<listcomp>\u001b[1;34m(.0)\u001b[0m\n\u001b[1;32m----> 1\u001b[1;33m \u001b[0mndf\u001b[0m\u001b[1;33m.\u001b[0m\u001b[0mDate\u001b[0m \u001b[1;33m=\u001b[0m \u001b[1;33m[\u001b[0m\u001b[0mdatetime\u001b[0m\u001b[1;33m.\u001b[0m\u001b[0mstrptime\u001b[0m\u001b[1;33m(\u001b[0m\u001b[0md\u001b[0m\u001b[1;33m,\u001b[0m\u001b[1;34m\"%Y-%m-%d\"\u001b[0m\u001b[1;33m)\u001b[0m\u001b[1;33m.\u001b[0m\u001b[0mdate\u001b[0m\u001b[1;33m(\u001b[0m\u001b[1;33m)\u001b[0m \u001b[1;32mfor\u001b[0m \u001b[0md\u001b[0m \u001b[1;32min\u001b[0m \u001b[0mndf\u001b[0m\u001b[1;33m.\u001b[0m\u001b[0mDate\u001b[0m\u001b[1;33m]\u001b[0m\u001b[1;33m\u001b[0m\u001b[1;33m\u001b[0m\u001b[0m\n\u001b[0m",
      "\u001b[1;31mTypeError\u001b[0m: strptime() argument 1 must be str, not datetime.date"
     ]
    }
   ],
   "source": [
    "ndf.Date = [datetime.strptime(d,\"%Y-%m-%d\").date() for d in ndf.Date]"
   ]
  },
  {
   "cell_type": "code",
   "execution_count": 90,
   "id": "2739482f",
   "metadata": {},
   "outputs": [
    {
     "data": {
      "text/plain": [
       "<AxesSubplot:xlabel='date', ylabel='sentiment'>"
      ]
     },
     "execution_count": 90,
     "metadata": {},
     "output_type": "execute_result"
    },
    {
     "data": {
      "image/png": "[encoded data removed]",
      "text/plain": [
       "<Figure size 432x288 with 1 Axes>"
      ]
     },
     "metadata": {
      "needs_background": "light"
     },
     "output_type": "display_data"
    }
   ],
   "source": [
    "sns.lineplot(x=\"date\",y=\"sentiment\",data= newdataframe,dashes=True)"
   ]
  },
  {
   "cell_type": "code",
   "execution_count": null,
   "id": "b3e7daae",
   "metadata": {},
   "outputs": [],
   "source": []
  }
 ],
 "metadata": {
  "kernelspec": {
   "display_name": "Python 3 (ipykernel)",
   "language": "python",
   "name": "python3"
  },
  "language_info": {
   "codemirror_mode": {
    "name": "ipython",
    "version": 3
   },
   "file_extension": ".py",
   "mimetype": "text/x-python",
   "name": "python",
   "nbconvert_exporter": "python",
   "pygments_lexer": "ipython3",
   "version": "3.9.12"
  },
  "toc": {
   "base_numbering": 1,
   "nav_menu": {},
   "number_sections": true,
   "sideBar": true,
   "skip_h1_title": false,
   "title_cell": "Table of Contents",
   "title_sidebar": "Contents",
   "toc_cell": false,
   "toc_position": {},
   "toc_section_display": true,
   "toc_window_display": false
  },
  "varInspector": {
   "cols": {
    "lenName": 16,
    "lenType": 16,
    "lenVar": 40
   },
   "kernels_config": {
    "python": {
     "delete_cmd_postfix": "",
     "delete_cmd_prefix": "del ",
     "library": "var_list.py",
     "varRefreshCmd": "print(var_dic_list())"
    },
    "r": {
     "delete_cmd_postfix": ") ",
     "delete_cmd_prefix": "rm(",
     "library": "var_list.r",
     "varRefreshCmd": "cat(var_dic_list()) "
    }
   },
   "oldHeight": 365.781,
   "position": {
    "height": "387.771px",
    "left": "861.219px",
    "right": "20px",
    "top": "107.969px",
    "width": "349.948px"
   },
   "types_to_exclude": [
    "module",
    "function",
    "builtin_function_or_method",
    "instance",
    "_Feature"
   ],
   "varInspector_section_display": "block",
   "window_display": false
  }
 },
 "nbformat": 4,
 "nbformat_minor": 5
}
