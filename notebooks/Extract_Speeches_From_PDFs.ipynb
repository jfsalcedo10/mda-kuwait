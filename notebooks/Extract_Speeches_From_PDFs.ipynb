{
 "cells": [
  {
   "cell_type": "code",
   "execution_count": 1,
   "id": "7219351a",
   "metadata": {},
   "outputs": [],
   "source": [
    "from pathlib import Path\n",
    "\n",
    "import pandas as pd\n",
    "import numpy as np\n",
    "import re, regex, csv, sys\n",
    "from pprint import pprint\n",
    "\n",
    "# add project folders to the system path\n",
    "src_path = str(Path.cwd().parent / \"src\")\n",
    "sys.path.append(src_path)\n",
    "# python file for the PDFHandler class (located in the src folder)\n",
    "from pdf_processing import PDFHandler"
   ]
  },
  {
   "cell_type": "code",
   "execution_count": 2,
   "id": "0efda2d7",
   "metadata": {},
   "outputs": [],
   "source": [
    "# pdfs that have these in the title might have to be excluded: interview, presser, Press_Conference, press, meeting, \n",
    "# debate, hall (maybe)\n",
    "multiple_people_talking = ['Barack_Obama_-_Al-Arabiya_Interview.pdf', 'CGI_2013.pdf', \n",
    "                           'Midterm_Elections_Presser_2014.pdf', 'YSEALI_Fellows.pdf', \n",
    "                           'PM_Abe_of_Japan_Joint_Presser.pdf', 'Paris_Press_Conference_2015.pdf',\n",
    "                           'Gun_Violence_Presser.pdf', 'Associated_Press_Luncheon.pdf', 'Final_Press_Conference.pdf',\n",
    "                           'CNN_Guns_in_America_Town_Hall.pdf', 'START_Treaty_Presser.pdf', \n",
    "                           'Midterm_Elections_Presser_2010.pdf', 'Joint_Presser_with_President_Benigno_Aquino.pdf',\n",
    "                           'Worldwide_Troop_Talk.pdf', 'Post_ASEAN_Presser_2016.pdf', 'Post_G7_Presser_Japan.pdf',\n",
    "                           'Presser_Unannounced_Heath_Care.pdf', 'Kenya_Civil_Society_Meeting.pdf',\n",
    "                           'Obama-Romney_-_Second_Live_Debate.pdf', 'Jamaica_Town_Hall.pdf', 'YSEALI_Town_Hall.pdf',\n",
    "                           'BP_Oil_Spill_Presser.pdf', 'VA_Misconduct_Allegations.pdf', 'ISIL_Pentagon_Update.pdf',\n",
    "                           'ISIL_Presser_Post_Security_Council_Meeting.pdf']\n",
    "# maybe: 'Alabama_Tornado_Devestation.pdf', 'NAACP_Coference_2015.pdf'\n",
    "\n",
    "# the year for Community_College_Plan.pdf is 20105 but should be 2015\n",
    "# Recovery_and_Reinvestment_Act_2016.pdf has the year missing from the date"
   ]
  },
  {
   "cell_type": "markdown",
   "id": "c91117f1",
   "metadata": {},
   "source": [
    "Get the path to the directory in which the PDFs are stored."
   ]
  },
  {
   "cell_type": "code",
   "execution_count": 3,
   "id": "2c239d92",
   "metadata": {},
   "outputs": [],
   "source": [
    "pdf_dir = Path.cwd().parent / \"pdfs\""
   ]
  },
  {
   "cell_type": "markdown",
   "id": "f03551e4",
   "metadata": {},
   "source": [
    "Filepaths of all the PDFs in the folder `pdf_dir`, can be used to iterate over all the PDFs to store the extracted speeches in a dataframe."
   ]
  },
  {
   "cell_type": "code",
   "execution_count": 4,
   "id": "0751ecb4",
   "metadata": {},
   "outputs": [
    {
     "name": "stdout",
     "output_type": "stream",
     "text": [
      "current number of PDFs: 4\n"
     ]
    }
   ],
   "source": [
    "pdfs = list(pdf_dir.glob('*.pdf'))  \n",
    "print(\"current number of PDFs:\", len(pdfs))"
   ]
  },
  {
   "cell_type": "markdown",
   "id": "c332ab84",
   "metadata": {},
   "source": [
    "Get filepath of the PDF you want to process."
   ]
  },
  {
   "cell_type": "code",
   "execution_count": 5,
   "id": "d179e7ec",
   "metadata": {},
   "outputs": [
    {
     "name": "stdout",
     "output_type": "stream",
     "text": [
      "File: Post_G7_Presser_Japan.pdf\n"
     ]
    }
   ],
   "source": [
    "filepath = pdfs[0]\n",
    "print(\"File:\", str(filepath.parts[-1]))"
   ]
  },
  {
   "cell_type": "markdown",
   "id": "f6946b1a",
   "metadata": {},
   "source": [
    "Make a PDFHandler object for the given filepath."
   ]
  },
  {
   "cell_type": "code",
   "execution_count": 6,
   "id": "54e77483",
   "metadata": {},
   "outputs": [],
   "source": [
    "pdf = PDFHandler(filepath)"
   ]
  },
  {
   "cell_type": "markdown",
   "id": "21594c06",
   "metadata": {},
   "source": [
    "Print the last page of the PDF before it has been processed."
   ]
  },
  {
   "cell_type": "code",
   "execution_count": 7,
   "id": "7b260608",
   "metadata": {
    "scrolled": true
   },
   "outputs": [
    {
     "name": "stdout",
     "output_type": "stream",
     "text": [
      "  \n",
      "AA RR\n",
      "mmeerriiccaann hheettoorriicc..ccoomm  \n",
      " \n",
      "President Obama:  Okay, guys.  I gave you a couple -- I already gave you bonuses.  I gave \n",
      " \n",
      "you a bunch of bonuses.  Thank you, guys.\n",
      " \n",
      "AmericanRhetoric.com         Page 11 \n"
     ]
    }
   ],
   "source": [
    "print(pdf.original_page(-1))"
   ]
  },
  {
   "cell_type": "markdown",
   "id": "3ef2da9a",
   "metadata": {},
   "source": [
    "Print the first page of the PDF before it has been processed."
   ]
  },
  {
   "cell_type": "code",
   "execution_count": 8,
   "id": "7bce4a84",
   "metadata": {
    "scrolled": true
   },
   "outputs": [
    {
     "name": "stdout",
     "output_type": "stream",
     "text": [
      "  \n",
      "AA RR\n",
      "mmeerriiccaann hheettoorriicc..ccoomm  \n",
      " \n",
      "Barack Obama \n",
      "Post G7 Press Conference in Japan \n",
      " \n",
      "delivered 26 May 2016, Shima City, Japan\n",
      " \n",
      " \n",
      "AUTHENTICITY CERTIFIED: Text version below transcribed directly from audio \n",
      "Hello, everybody.  So, as all of you know, we're going to Hiroshima tomorrow.  And in the \n",
      "interest of getting you all home at a reasonable hour, we're not going to be doing a press \n",
      " \n",
      "conference after, so I thought I'd give you guys a chance to fire off some questions now.\n",
      "Just a quick comment on the G7 meeting so far.  It's been extremely productive.  I think that \n",
      "one of the benefits of the G7 is that you have likeminded countries who are committed to \n",
      "democracy and free markets, and international law and international norms.  And so for us to \n",
      "be able to get together and focus on critical issues that not only affect individual countries but \n",
      "affect the international order I think is vitally important.  And we very much appreciate the \n",
      " \n",
      "work that the Japanese and Prime Minister Abe have done in organizing an excellent meeting.\n",
      "So far, we’ve discussed issues of the global economy and the need to continue to accelerate \n",
      "growth, to use all the tools at our disposal to make sure that we're not only putting people \n",
      "back to work but also helping to lift wages and helping to make sure that we can sustain the \n",
      "momentum of the recovery that's taken place in the United States most prominently, but also \n",
      "we're starting to see some progress in Europe. \n",
      "AmericanRhetoric.com         Page 1 \n"
     ]
    }
   ],
   "source": [
    "print(pdf.original_page(0))"
   ]
  },
  {
   "cell_type": "markdown",
   "id": "94964bce",
   "metadata": {},
   "source": [
    "Define a regular expression to get the date, location, and content of the speech. Extract the entire speech from the PDF."
   ]
  },
  {
   "cell_type": "code",
   "execution_count": 9,
   "id": "6f8557d3",
   "metadata": {
    "code_folding": [],
    "scrolled": true
   },
   "outputs": [
    {
     "name": "stdout",
     "output_type": "stream",
     "text": [
      "Hello, everybody.  So, as all of you know, we're going to Hiroshima tomorrow.  And in the \n",
      "interest of getting you all home at a reasonable hour, we're not going to be doing a press \n",
      " \n",
      "conference after, so I thought I'd give you guys a chance to fire off some questions now.\n",
      "Just a quick comment on the G7 meeting so far.  It's been extremely productive.  I think that \n",
      "one of the benefits of the G7 is that you have likeminded countries who are committed to \n",
      "democracy and free markets, and international law and international norms.  And so for us to \n",
      "be able to get together and focus on critical issues that not only affect individual countries but \n",
      "affect the international order I think is vitally important.  And we very much appreciate the \n",
      " \n",
      "work that the Japanese and Prime Minister Abe have done in organizing an excellent meeting.\n",
      "So far, we've discussed issues of the global economy and the need to continue to accelerate \n",
      "growth, to use all the tools at our disposal to make sure that we're not only putting people \n",
      "back to work but also helping to lift wages and helping to make sure that we can sustain the \n",
      "momentum of the recovery that's taken place in the United States most prominently, but also \n",
      "we're starting to see some progress in Europe. \n",
      " The fact that the Greek debt crisis has been resolved for a reasonable length of time I think \n",
      "should help.  But we've all got a lot of work to do.  And we agreed to continue to focus on \n",
      "making sure that each country, based on its particular needs and capacities, are taking steps \n",
      " \n",
      "to accelerate growth.\n",
      "We had a chance to talk about trade -- not only TPP and our involvement in that, but also T-\n",
      "TIP -- and recommitted ourselves to making sure that we try to finish those negotiations \n",
      "before the end of the year, and emphasized the importance of pushing back against either \n",
      "protectionism or competitive currency devaluations, or the kinds of beggar-thy-neighbor \n",
      " \n",
      "strategies that all too often end up leaving everybody worse off.\n",
      "We began to touch on some of the key security issues that are important to all of us -- the \n",
      "South China Sea and maritime security.  Touched on issues surrounding Ukraine, where we've \n",
      "started to see some progress in negotiations, but we're still seeing too much violence, and we \n",
      "need to get that resolved.  And we're going to spend some time this evening tackling some of \n",
      " \n",
      "the other major international hotspots.\n",
      "So that gives you an update of where we're at so far.  And with that, I'm just going to dive in, \n",
      " \n",
      "and you guys can ask some questions.  And we're going to start with Gardiner.\n",
      " \n",
      " \n",
      "  \n",
      "Question:  Mr. President, eleven of your predecessors decided against going to Hiroshima. \n",
      " \n",
      " What do you know that they didn't?  What were they worried about that you aren't?\n",
      "And just sort of generally on nonproliferation -- because I think that's your focus and that's \n",
      "obviously a priority for you -- how do you communicate risks and concerns about this in a way \n",
      "that would do more to get it resolved?  Because it seems to be getting worse.  I mean, \n",
      "Americans worry a lot about terrorists with suicide vests, which are unlikely events that can \n",
      "kill dozens.  Do they worry enough about the risks of nuclear mishaps or attacks, which are \n",
      "unlikely events that could potentially kill millions instead of dozens?  In short, are we paying \n",
      "enough attention to Kim Jong-un and Pakistani tactical nuclear weapons, these sorts of things \n",
      " \n",
      "that you know are going on?\n",
      " President Obama:  Well, it's a terrific question.  First of all, I won't characterize how other \n",
      "Presidents were thinking about these issues.  I can tell you how I'm thinking about it, and that \n",
      "is that the dropping of the atomic bomb, the ushering in of nuclear weapons was an inflection \n",
      "point in modern history.  It is something that all of us have had to deal with in one way or \n",
      "another.  Obviously, it's not as prominent in people's thinking as it was during the Cold War, \n",
      "at a time when our parents or grandparents were huddling under desks in frequent drills.  But \n",
      "the backdrop of a nuclear event remains something that I think presses on the back of our \n",
      " \n",
      "imaginations.\n",
      "I do think that part of the reason I'm going is because I want to once again underscore the \n",
      "very real risks that are out there and the sense of urgency that we all should have.  So it's not \n",
      "only a reminder of the terrible toll of World War II and the death of innocents across \n",
      "continents, but it's also to remind ourselves that the job is not done in reducing conflict, \n",
      " \n",
      "building institutions of peace, and reducing the prospect of nuclear war in the future.\n",
      "In some ways, we've seen real progress over the last several years.  The Iran nuclear deal is a \n",
      "big piece of business -- because without us having to fire a shot, we were able to persuade a \n",
      "big, sophisticated country that had a well-developed nuclear program not to develop nuclear \n",
      "weapons. The START II Treaty that I negotiated in my first couple years in office with the \n",
      "Russians has reduced our respective stockpiles.  The Nuclear Security Summit and all the \n",
      "work that we've done on that score has made it less likely that nuclear materials fall into the \n",
      " \n",
      "hand of terrorists or non-state actors.\n",
      "And although we have not seen the kind of progress that I would have liked to have seen with \n",
      "respect to North Korea, what we have been able to do is mobilize the international community \n",
      "so that their proliferation activities are scrutinized much more carefully, and they have far \n",
      "fewer countries that are tolerant of potential actions by North Korea outside of their own \n",
      " \n",
      "program.\n",
      "Having said that, North Korea is a big worry for all of us.  They're not at the point right now \n",
      "where they can effectively hit U.S. targets, but each time that they test -- even if those tests \n",
      "fail -- they learn something.  And it is clear that ideologically they are still convinced that -- \n",
      "and Kim Jong-un in particular seems to be convinced that his own legitimacy is tied up with \n",
      " \n",
      "developing nuclear weapons.\n",
      " You pointed out the continuing tensions that exist in South Asia.  That is still a concern.  And \n",
      "we know that terrorist organizations would have no compunction about using a weapon of \n",
      " \n",
      "mass destruction if they got their hands on it.\n",
      "So we've got a lot of work to do.  I think we've built up an architecture during the course of \n",
      "my presidency that has made a difference, that has focused attention on some key points of \n",
      "vulnerability.  But we're not where we need to be yet.  And obviously we haven't achieved all \n",
      "the goals that I set when I spoke in Prague at the beginning of my presidency.  Of course, I \n",
      "noted at the time that I didn't expect to be able to achieve all those goals during the course of \n",
      "my presidency or even in my lifetime.  And this is going to be an ongoing task, but it's one \n",
      " \n",
      "that I think we have to be paying a lot of attention to.\n",
      "Question:  One follow-up.  Mr. Kerry, your Secretary of State, called the North Korean \n",
      "nuclear program the biggest threat in the world right now -- the gravest threat.  Do you agree \n",
      " \n",
      "with that?  Do you see this nuclear program as the worst thing going on?\n",
      "President Obama:  Well, it is not the thing necessarily that poses the most immediate risk. \n",
      " Obviously, ISIL using rifles and crude bombs can kill a lot of people in a Paris or a Brussels. \n",
      " And people are rightly insistent that the world community stamp out ISIL.  So there's a \n",
      "reason why we are focused on that.  But this is not a situation where we can afford to just \n",
      "focus on the short term.  Over the long term, when you have such an unstable regime that is \n",
      "so isolated, that generally flouts international norms and rules more than perhaps any other \n",
      "nation on Earth, that is also devoting enormous national resources hell-bent on getting \n",
      "nuclear weapons that they can fire long distances -- that poses the kind of medium-term \n",
      " \n",
      "threat that we have to pay a lot of attention to.\n",
      "And I assure you it's something that my administration has paid a lot of attention to.  It's \n",
      "something that I think has been at the center of the trilateral work that we've done with our \n",
      "close allies in the region.  It's something that we've put at the center of our discussions and \n",
      "negotiations with China.  And as I said before, what we've seen actually is improved \n",
      "responses from countries like China, countries in the region, like Vietnam and Burma taking \n",
      "these issues much more seriously because of our engagement.  And so that may reduce the \n",
      "risks of North Korea selling weapons or fissile material to other countries, or putting it out on \n",
      "the black market. \n",
      " But it does not, so far at least, solve the core problem of North Korea continuing to develop its \n",
      "program.  And we're going to have to continue to work in a concerted way. \n",
      "In the meantime, I've been working with the Pentagon for several years now on making sure \n",
      "that we can develop the kinds of defense architecture that can protect the United States and \n",
      " \n",
      "our allies from an unexpected escalation.\n",
      "Carol. \n",
      "  \n",
      "Question:  Thank you.  You've said before that when you talk to world leaders, they often ask \n",
      "you about the presidential election.  Can you give us a sense of the conversations that you've \n",
      "had so far -- what they're saying to you, what you're saying to them -- particularly now that \n",
      "Donald Trump is the nominee, and he recently said that Japan should pay for the U.S. troop \n",
      "presence?  But also, on the Democratic side, what they're saying about that and what you \n",
      "think of that, because it's obviously continuing to be divisive with Bernie Sanders saying he \n",
      "would take it to the convention.  And he's endorsed your Democratic Party chair, her primary \n",
      "opponent.  Should he change course?  Have you decided that you're just not going to get \n",
      " \n",
      "involved until one of them concedes to the other?\n",
      "President Obama:  Well, look, the world pays attention to the U.S. elections.  They pay \n",
      "more attention to our elections sometimes than we pay to theirs, because the United States \n",
      "is, as I've said before, at the heart of the international order.  And even those countries that \n",
      "are critical of us, even those countries that complain or question particular policy decisions \n",
      "that we make know that ultimately things don't hold together so well if the United States is \n",
      "not making good decisions, and count on us to provide a certain level of stability and direction \n",
      " \n",
      "in meeting global challenges.\n",
      "So they are paying very close attention to this election.  I think it's fair to say that they are \n",
      "surprised by the Republican nominee.  They are not sure how seriously to take some of his \n",
      "pronouncements.  But they're rattled by him -- and for good reason -- because a lot of the \n",
      "proposals that he's made display either ignorance of world affairs, or a cavalier attitude, or an \n",
      "interest in getting tweets and headlines instead of actually thinking through what it is that is \n",
      "required to keep America safe and secure and prosperous, and what's required to keep the \n",
      " \n",
      "world on an even keel.\n",
      " With respect to the Democratic primary process, as I've said before, it's been my view to let \n",
      "this play out, let voters make up their minds.  And during primaries, people get a little grumpy \n",
      "with each other.  It's just the nature of the process.  You start off and everybody is thinking, \n",
      "oh, this is fine, this is going to be a friendly competition, we're going to debate ideas.  And \n",
      "somebody says one thing and then another person says another thing, and that felt a little \n",
      "sharper than I expected, and somebody's supporter pops off.  And there's a certain buildup of \n",
      " \n",
      "aggravation.  We saw that in my lengthy primary in 2008.  This is no different.\n",
      "But what I think is really important to remember is that, unlike what you've seen in the \n",
      "Democratic or in Republican primary, for the most part there's not that big a difference \n",
      "ideologically in terms of the issues.  Both Hillary and Bernie believe that every American \n",
      "should have health care.  Both of them think that we've got to make college more affordable. \n",
      " Both of them believe that it's important for us to have a tax system that is fair, and that we \n",
      "should be closing corporate loopholes in order to pay for things like infrastructure investment \n",
      " \n",
      "and early childhood education.\n",
      "I mean, if you put their proposals side by side, they're all pointing in the same direction, and \n",
      "the differences are primarily tactical.  They have to do with how do you get some of this stuff \n",
      "done.  So that doesn't mean that those aren't serious questions to ask and debate.  It does \n",
      "mean, though, that once the primary process is resolved, the ability for us to pull together \n",
      "around a common vision that is in sharp contrast to the vision that's being offered on the \n",
      " \n",
      "other side I think is one that will get done by the time of the convention.\n",
      "I would urge -- and have urged -- both sides to try to stick to the issues, because a lot of that \n",
      "grumpiness arises where folks feel as if we're not talking about an issue but we're talking \n",
      "about personalities and character.  And they're both good people.  I know them both well.  \n",
      "And I think that it's important for us to try to end this in a way that leaves both sides feeling \n",
      "proud of what they've done.  And both sides have run serious, competitive races, and debated \n",
      " \n",
      "issues in a serious way.  So I'm proud of Democrats for doing that.\n",
      "And, Carol, as you know -- I sure know, because I've been through this a bunch of times -- \n",
      "there is just the natural impulse when you're having to report every day on campaigns that \n",
      "every little blip, speed bump, conflict, trash-talking that takes place is elevated -- not to \n",
      "mention polls. \n",
      " And the one thing I've learned after being around for a while is that kind of day-to-day \n",
      "choppiness is not indicative of longer-term trends.  I feel confident about the Democratic \n",
      "vision for the country, and I feel confident about our ability not just to win elections but, more \n",
      " \n",
      "importantly, to deliver on behalf of the American people and the issues they care about.\n",
      " \n",
      "Question:  Does this going until the end of July make it harder to defeat Mr. Trump?\n",
      "President Obama:  No.  Look, would it be nice if everybody was immediately unified and \n",
      "singing \"Kumbaya,\" and whoever the nominee ended up being could just take a nice two-week \n",
      "vacation to recharge?  Absolutely.  I guarantee you that the eventual nominee sure wishes it \n",
      "was over now, because this is a grind.  It's hard.  And in some ways, one of the things I've \n",
      "always found is that it's a lot more draining arguing against your friends than it is arguing \n",
      "against your political opponents.  It just -- it weighs on you more.  Being criticized by folks \n",
      " \n",
      "who are in your own party always hurts just a little bit more.\n",
      "And so it takes a little energy out of you.  But these are folks who are serious about trying to \n",
      "solve the country's problems.  They're both veterans of the political grind.  And so they're \n",
      "going to hold up.  And by the time we get to the convention, I'm confident they'll be in good \n",
      " \n",
      "shape.\n",
      "As a special bonus, I'm going to take one more question.  Go ahead. \n",
      "  \n",
      "Question:  Thank you, Mr. President.  You mentioned some tactical differences between the \n",
      "two Democratic candidates.  But when you hear Bernie Sanders speak, it seems like he's \n",
      "talking more about the issue of trustability and the need for a political revolution.  And just \n",
      "yesterday we saw that the State Department's inspector general put out a report about \n",
      "Secretary Clinton's emails, and it basically undermined some of what she said about her email \n",
      "practices.  I'm wondering if you think that undermines her trustworthiness with the American \n",
      "people, and if you agree with Bernie Sanders that she should release the transcripts of her \n",
      " \n",
      "highly paid speeches to Wall Street.\n",
      "President Obama:  Okay.  You know what, I take it back.  I'm not taking another question. \n",
      " We're in Japan.  Don't we have something on Asia that we want to talk about?  I'll be talking \n",
      " \n",
      "about this in Washington the whole time.\n",
      " Look, I've already said a lot about those issues.  I think those are better directed to the \n",
      "campaign.  As I said before, during the course of a primary people say what they think might \n",
      "help them get some votes.  And once the campaign is over, then they move on, and they \n",
      "make an assessment in terms of how they can make sure that the vision they care most \n",
      "deeply about has the best chance of passing a Congress and getting signed by a President, \n",
      "and that Supreme Court nominees are confirmed, and all the things that make for a \n",
      " \n",
      "functioning, effective government.\n",
      "So I think that the noise that is going on back and forth between the candidates at this point, \n",
      " \n",
      "if you want insights into how they're thinking about it, those should be directed to them.\n",
      " \n",
      "I'll take --\n",
      " \n",
      "Question:  Can I have another question?\n",
      "President Obama:  You've already had a question, so if I'm going to ask another question I \n",
      " \n",
      "think it's fair to give it to --\n",
      " \n",
      "Question:  That's true.\n",
      "Question:  Can I ask you your thinking on the new Taliban leader and how that affects \n",
      " \n",
      "prospects for peace in the region?\n",
      "President Obama:  Well, as I was saying to my team, I wasn't expecting a liberal democrat \n",
      "to be the newly appointed leader of the Taliban.  So this continues to be an organization that \n",
      "sees violence as a strategy for obtaining its goals and moving its agenda forward in \n",
      "Afghanistan.  We have a democratically elected government in Afghanistan that we're \n",
      "supporting, and our goal right now is to make sure that that constitution and that democratic \n",
      "process is upheld -- not to mention that we're able to maintain the counterterrorism platforms \n",
      "that we need in that region so that al Qaeda and now ISIL are not able to take root and use \n",
      " \n",
      "that as bases to attack us in the United States.\n",
      "My hope -- although not my expectation -- is that there comes a point at which the Taliban \n",
      "recognizes that they are not going to simply be able to overrun the country and that what \n",
      "they need to be doing is to enter into serious reconciliation talks that are led by Afghans. \n",
      " And I think if that happens, that's something that the United States and others in the world \n",
      "community would support.  But I am doubtful that that will be happening anytime soon.  And \n",
      " \n",
      "we'll have to wait and see how those things develop.\n",
      "In the short term, we anticipate that the Taliban will continue to pursue an agenda of violence \n",
      "and VBEDS and blowing up innocent people, and the kinds of actions that have characterized \n",
      "their approach over the last 15, 20 years.  But I do think that there will come a point, perhaps \n",
      "not this year, next year, but eventually, where there are those within the community that \n",
      " \n",
      "surrounds the Taliban, at least, that recognize their goals are best achieved by negotiations.\n",
      "Okay? \n",
      "  \n",
      " \n",
      "Question:  And on the Vietnamese activists that were banned from the meeting --\n",
      " \n",
      "Question:  Right, is that embarrassing that they couldn't --\n",
      " \n",
      "President Obama:  To me, or to them?  Why is it embarrassing to me?\n",
      " \n",
      "Question:  Well, because you invited these people and they didn't show up.\n",
      "President Obama:  Well, I wasn't the one who held them up.  Look, I was very blunt with \n",
      "the Vietnamese government.  There is so much good going on in that country, and what I \n",
      "indicated to them is that these kinds of heavy-handed actions end up being entirely \n",
      "counterproductive.  And the folks we invited, including those who were there, are people that \n",
      "are prepared to have a constructive conversation with the government about how to advance \n",
      " \n",
      "peace and prosperity, and economic development, and environmental security in that country.\n",
      "And my general message, as you heard at the youth town hall meeting, is harness that talent. \n",
      " Let them loose to create startups and to solve problems, and engage them.  It's the same \n",
      "message I had with Cuba.  It's the same message that I had in a wide range of countries \n",
      " \n",
      "where you still are seeing serious problems with human rights.\n",
      "The one thing I'm absolutely convinced of, though, is, is that by us engaging, by us meeting \n",
      "with civil society activists, it helps move the ball, it moves the needle.  It doesn't solve these \n",
      "problems immediately. Right now Burma/Myanmar is undergoing this democratic \n",
      "transformation, in part because of the process that we helped to spearhead. \n",
      " They are going through revolutionary changes over the last several years.  But I guarantee \n",
      "you that there's still some human rights activists inside of Burma/Myanmar who are being \n",
      "harassed, are not able to speak freely, are not able to assemble the way we would expect \n",
      " \n",
      "them to be able to do in our own country.\n",
      "When I went to Cuba and I met with those dissidents, one of the individuals who was there \n",
      "still had cuts in his wrists from handcuffs because he had been detained just the day before.  I \n",
      "didn't come out of that meeting thinking the problems of human rights in Cuba are solved. \n",
      " But what I'm pretty darn sure of is, is that by us meeting with them, by us shining a spotlight \n",
      "on their stories, by us indicating not that we were going to dictate how these societies \n",
      "develop, but that we do think there are certain universal values that we care deeply about and \n",
      " \n",
      "that we're going to stand with -- that that helps.\n",
      "And that, I think, is the biggest lesson over the course of the seven years as we've been \n",
      "engaging some of these countries with serious human rights problems.  The expectation that I \n",
      "think sometimes we've had that I've we just stand back and scold, that somehow that's going \n",
      "to change these internal dynamics has proven to be less effective than us engaging. \n",
      " Indicating to governments that we're prepared to work with them, but that they need to \n",
      "make progress, and continually trying to lift up the actions of these civil society leaders in a \n",
      "way that provides them a little bit more space, and that space slowly grows and it ends up \n",
      "being a process -- and it's not always a process that travels in a straight line.  Sometimes you \n",
      "take two steps forward, you take a step back.  Sometimes you start seeing openings in some \n",
      " \n",
      "of these societies, and then governments get nervous and they clamp back down.\n",
      "But that steady pressure, combined with an appreciation of the history of these countries, \n",
      "combined with a willingness to listen, combined with an ability to mobilize the international \n",
      "community so that we're not thinking that we're doing this all by ourselves -- over time, we've \n",
      "seen results.  More modest than I would hope, but that's true of pretty much everything about \n",
      " \n",
      "foreign policy and domestic policy and the human condition.\n",
      " \n",
      "All right?\n",
      " \n",
      "Question:  Speaking of --\n",
      " President Obama:  Okay, guys.  I gave you a couple -- I already gave you bonuses.  I gave \n",
      " \n",
      "you a bunch of bonuses.  Thank you, guys.\n"
     ]
    }
   ],
   "source": [
    "start = r\"^(?:\\s*AA *RR\\s+mmeerriiccaann *hheettoorriicc\\.\\.ccoomm|\\s*AmericanRhetoric\\.com|\\s*AAmmeerriiccaannRRhheettoorriicc\\.\\.ccoomm)?\"\n",
    "\n",
    "datemarker =r\"\\s*(delivered|First *Broadcast|Uploaded[ a-z]*|Published)?\"\n",
    "date = r\"(((?P<day>[0-9]{1,2}) *(?P<mon>[a-z]{1,10}))|((?P<mon>[a-z]{1,10}) *(?P<day>[0-9]{1,2}))),? +(?P<year>[0-9]* *)\"\n",
    "loc = r\"(([,.] *location *)?[,.] *(?P<location>.+?))?\"\n",
    "auth = r\"(?:.?AUTHENTICITY CERTIFIED: Text version below transcribed directly from audio( *and edited for continuity)?.?)?\"\n",
    "\n",
    "content = r\"(?P<content>.*)\"\n",
    "\n",
    "tr = r\"(Transcription *by *[a-z.\\- ]+\\s*)?\"\n",
    "url = r\"((Property *of *)?AmericanRhetoric\\.com)?\"\n",
    "page = r\"(page *[0-9]+\\s*$)\"\n",
    "\n",
    "full_pat = start + \\\n",
    "r\"(\\s+.*?\" + r\"^(\" + datemarker + \" *\" + date + r\")\" + loc + r\"\\s+\" + auth + r\")?\" + \\\n",
    "r\"\\s+\" + content + \\\n",
    "r\"^(?:\\s*\" + tr + url + r\".*?\" + page + r\")\"\n",
    "pat = regex.compile(full_pat, regex.I | regex.DOTALL | regex.M | regex.V1)\n",
    "\n",
    "speech = pdf.extract_speech(pat)\n",
    "print(speech)"
   ]
  },
  {
   "cell_type": "markdown",
   "id": "cb2be298",
   "metadata": {},
   "source": [
    "Print the relevant info of the PDF."
   ]
  },
  {
   "cell_type": "code",
   "execution_count": 10,
   "id": "0b150a8e",
   "metadata": {},
   "outputs": [
    {
     "name": "stdout",
     "output_type": "stream",
     "text": [
      "Title: Post_G7_Presser_Japan\n",
      "Number of pages: 11\n",
      "Date: 26 May 2016\n",
      "Location: Shima City, Japan\n"
     ]
    }
   ],
   "source": [
    "pdf.print_info()"
   ]
  },
  {
   "cell_type": "markdown",
   "id": "f6c26436",
   "metadata": {},
   "source": [
    "Check whether there are multiple speakers. (If there is a high \"Obama:\" count, this might indicate he is answering questions, i.e., it is an interview, press conference, debate,...)"
   ]
  },
  {
   "cell_type": "code",
   "execution_count": 11,
   "id": "19587a2a",
   "metadata": {},
   "outputs": [
    {
     "name": "stdout",
     "output_type": "stream",
     "text": [
      "{'obama:': 10, 'president:': 0, 'question:': 12, 'audience:': 0, 'member:': 0}\n",
      "\n",
      "['question:',\n",
      " 'obama:',\n",
      " 'question:',\n",
      " 'obama:',\n",
      " 'question:',\n",
      " 'obama:',\n",
      " 'question:',\n",
      " 'obama:',\n",
      " 'question:',\n",
      " 'obama:',\n",
      " 'question:',\n",
      " 'obama:',\n",
      " 'question:',\n",
      " 'question:',\n",
      " 'obama:',\n",
      " 'question:',\n",
      " 'question:',\n",
      " 'obama:',\n",
      " 'question:',\n",
      " 'obama:',\n",
      " 'question:',\n",
      " 'obama:']\n"
     ]
    }
   ],
   "source": [
    "count = ('obama:', 'president:', 'question:', 'audience:', 'member:')\n",
    "counts, speakers = pdf.multiple_speakers(speech, count)\n",
    "print(counts)\n",
    "print()\n",
    "pprint(speakers)"
   ]
  },
  {
   "cell_type": "markdown",
   "id": "94a351ca",
   "metadata": {},
   "source": [
    "Replace substrings."
   ]
  },
  {
   "cell_type": "code",
   "execution_count": 12,
   "id": "fc33ae28",
   "metadata": {},
   "outputs": [],
   "source": [
    "rep_old = [r'\"', r'’’', r'‘‘', r'“', r'”', r'[sic]']\n",
    "rep_new = [r'' , r''  , r''  , r'' , r'' , r' '    ]\n",
    "\n",
    "clean_speech = pdf.substring_replace(speech, rep_old, rep_new)"
   ]
  },
  {
   "cell_type": "markdown",
   "id": "26099d7d",
   "metadata": {},
   "source": [
    "Replace or delete some characters to clean the speech (only the ones that need to be matched with a regular expression)."
   ]
  },
  {
   "cell_type": "code",
   "execution_count": 13,
   "id": "87a4b542",
   "metadata": {
    "scrolled": true
   },
   "outputs": [
    {
     "name": "stdout",
     "output_type": "stream",
     "text": [
      "Hello, everybody. So, as all of you know, we're going to Hiroshima tomorrow. And in the interest of getting you all home at a reasonable hour, we're not going to be doing a press conference after, so I thought I'd give you guys a chance to fire off some questions now. Just a quick comment on the G7 meeting so far. It's been extremely productive. I think that one of the benefits of the G7 is that you have likeminded countries who are committed to democracy and free markets, and international law and international norms. And so for us to be able to get together and focus on critical issues that not only affect individual countries but affect the international order I think is vitally important. And we very much appreciate the work that the Japanese and Prime Minister Abe have done in organizing an excellent meeting. So far, we've discussed issues of the global economy and the need to continue to accelerate growth, to use all the tools at our disposal to make sure that we're not only putting people back to work but also helping to lift wages and helping to make sure that we can sustain the momentum of the recovery that's taken place in the United States most prominently, but also we're starting to see some progress in Europe. The fact that the Greek debt crisis has been resolved for a reasonable length of time I think should help. But we've all got a lot of work to do. And we agreed to continue to focus on making sure that each country, based on its particular needs and capacities, are taking steps to accelerate growth. We had a chance to talk about trade -- not only TPP and our involvement in that, but also T- TIP -- and recommitted ourselves to making sure that we try to finish those negotiations before the end of the year, and emphasized the importance of pushing back against either protectionism or competitive currency devaluations, or the kinds of beggar-thy-neighbor strategies that all too often end up leaving everybody worse off. We began to touch on some of the key security issues that are important to all of us -- the South China Sea and maritime security. Touched on issues surrounding Ukraine, where we've started to see some progress in negotiations, but we're still seeing too much violence, and we need to get that resolved. And we're going to spend some time this evening tackling some of the other major international hotspots. So that gives you an update of where we're at so far. And with that, I'm just going to dive in, and you guys can ask some questions. And we're going to start with Gardiner. Question: Mr. President, eleven of your predecessors decided against going to Hiroshima. What do you know that they didn't? What were they worried about that you aren't? And just sort of generally on nonproliferation -- because I think that's your focus and that's obviously a priority for you -- how do you communicate risks and concerns about this in a way that would do more to get it resolved? Because it seems to be getting worse. I mean, Americans worry a lot about terrorists with suicide vests, which are unlikely events that can kill dozens. Do they worry enough about the risks of nuclear mishaps or attacks, which are unlikely events that could potentially kill millions instead of dozens? In short, are we paying enough attention to Kim Jong-un and Pakistani tactical nuclear weapons, these sorts of things that you know are going on? President Obama: Well, it's a terrific question. First of all, I won't characterize how other Presidents were thinking about these issues. I can tell you how I'm thinking about it, and that is that the dropping of the atomic bomb, the ushering in of nuclear weapons was an inflection point in modern history. It is something that all of us have had to deal with in one way or another. Obviously, it's not as prominent in people's thinking as it was during the Cold War, at a time when our parents or grandparents were huddling under desks in frequent drills. But the backdrop of a nuclear event remains something that I think presses on the back of our imaginations. I do think that part of the reason I'm going is because I want to once again underscore the very real risks that are out there and the sense of urgency that we all should have. So it's not only a reminder of the terrible toll of World War II and the death of innocents across continents, but it's also to remind ourselves that the job is not done in reducing conflict, building institutions of peace, and reducing the prospect of nuclear war in the future. In some ways, we've seen real progress over the last several years. The Iran nuclear deal is a big piece of business -- because without us having to fire a shot, we were able to persuade a big, sophisticated country that had a well-developed nuclear program not to develop nuclear weapons. The START II Treaty that I negotiated in my first couple years in office with the Russians has reduced our respective stockpiles. The Nuclear Security Summit and all the work that we've done on that score has made it less likely that nuclear materials fall into the hand of terrorists or non-state actors. And although we have not seen the kind of progress that I would have liked to have seen with respect to North Korea, what we have been able to do is mobilize the international community so that their proliferation activities are scrutinized much more carefully, and they have far fewer countries that are tolerant of potential actions by North Korea outside of their own program. Having said that, North Korea is a big worry for all of us. They're not at the point right now where they can effectively hit U.S. targets, but each time that they test -- even if those tests fail -- they learn something. And it is clear that ideologically they are still convinced that -- and Kim Jong-un in particular seems to be convinced that his own legitimacy is tied up with developing nuclear weapons. You pointed out the continuing tensions that exist in South Asia. That is still a concern. And we know that terrorist organizations would have no compunction about using a weapon of mass destruction if they got their hands on it. So we've got a lot of work to do. I think we've built up an architecture during the course of my presidency that has made a difference, that has focused attention on some key points of vulnerability. But we're not where we need to be yet. And obviously we haven't achieved all the goals that I set when I spoke in Prague at the beginning of my presidency. Of course, I noted at the time that I didn't expect to be able to achieve all those goals during the course of my presidency or even in my lifetime. And this is going to be an ongoing task, but it's one that I think we have to be paying a lot of attention to. Question: One follow-up. Mr. Kerry, your Secretary of State, called the North Korean nuclear program the biggest threat in the world right now -- the gravest threat. Do you agree with that? Do you see this nuclear program as the worst thing going on? President Obama: Well, it is not the thing necessarily that poses the most immediate risk. Obviously, ISIL using rifles and crude bombs can kill a lot of people in a Paris or a Brussels. And people are rightly insistent that the world community stamp out ISIL. So there's a reason why we are focused on that. But this is not a situation where we can afford to just focus on the short term. Over the long term, when you have such an unstable regime that is so isolated, that generally flouts international norms and rules more than perhaps any other nation on Earth, that is also devoting enormous national resources hell-bent on getting nuclear weapons that they can fire long distances -- that poses the kind of medium-term threat that we have to pay a lot of attention to. And I assure you it's something that my administration has paid a lot of attention to. It's something that I think has been at the center of the trilateral work that we've done with our close allies in the region. It's something that we've put at the center of our discussions and negotiations with China. And as I said before, what we've seen actually is improved responses from countries like China, countries in the region, like Vietnam and Burma taking these issues much more seriously because of our engagement. And so that may reduce the risks of North Korea selling weapons or fissile material to other countries, or putting it out on the black market. But it does not, so far at least, solve the core problem of North Korea continuing to develop its program. And we're going to have to continue to work in a concerted way. In the meantime, I've been working with the Pentagon for several years now on making sure that we can develop the kinds of defense architecture that can protect the United States and our allies from an unexpected escalation. Carol. Question: Thank you. You've said before that when you talk to world leaders, they often ask you about the presidential election. Can you give us a sense of the conversations that you've had so far -- what they're saying to you, what you're saying to them -- particularly now that Donald Trump is the nominee, and he recently said that Japan should pay for the U.S. troop presence? But also, on the Democratic side, what they're saying about that and what you think of that, because it's obviously continuing to be divisive with Bernie Sanders saying he would take it to the convention. And he's endorsed your Democratic Party chair, her primary opponent. Should he change course? Have you decided that you're just not going to get involved until one of them concedes to the other? President Obama: Well, look, the world pays attention to the U.S. elections. They pay more attention to our elections sometimes than we pay to theirs, because the United States is, as I've said before, at the heart of the international order. And even those countries that are critical of us, even those countries that complain or question particular policy decisions that we make know that ultimately things don't hold together so well if the United States is not making good decisions, and count on us to provide a certain level of stability and direction in meeting global challenges. So they are paying very close attention to this election. I think it's fair to say that they are surprised by the Republican nominee. They are not sure how seriously to take some of his pronouncements. But they're rattled by him -- and for good reason -- because a lot of the proposals that he's made display either ignorance of world affairs, or a cavalier attitude, or an interest in getting tweets and headlines instead of actually thinking through what it is that is required to keep America safe and secure and prosperous, and what's required to keep the world on an even keel. With respect to the Democratic primary process, as I've said before, it's been my view to let this play out, let voters make up their minds. And during primaries, people get a little grumpy with each other. It's just the nature of the process. You start off and everybody is thinking, oh, this is fine, this is going to be a friendly competition, we're going to debate ideas. And somebody says one thing and then another person says another thing, and that felt a little sharper than I expected, and somebody's supporter pops off. And there's a certain buildup of aggravation. We saw that in my lengthy primary in 2008. This is no different. But what I think is really important to remember is that, unlike what you've seen in the Democratic or in Republican primary, for the most part there's not that big a difference ideologically in terms of the issues. Both Hillary and Bernie believe that every American should have health care. Both of them think that we've got to make college more affordable. Both of them believe that it's important for us to have a tax system that is fair, and that we should be closing corporate loopholes in order to pay for things like infrastructure investment and early childhood education. I mean, if you put their proposals side by side, they're all pointing in the same direction, and the differences are primarily tactical. They have to do with how do you get some of this stuff done. So that doesn't mean that those aren't serious questions to ask and debate. It does mean, though, that once the primary process is resolved, the ability for us to pull together around a common vision that is in sharp contrast to the vision that's being offered on the other side I think is one that will get done by the time of the convention. I would urge -- and have urged -- both sides to try to stick to the issues, because a lot of that grumpiness arises where folks feel as if we're not talking about an issue but we're talking about personalities and character. And they're both good people. I know them both well. And I think that it's important for us to try to end this in a way that leaves both sides feeling proud of what they've done. And both sides have run serious, competitive races, and debated issues in a serious way. So I'm proud of Democrats for doing that. And, Carol, as you know -- I sure know, because I've been through this a bunch of times -- there is just the natural impulse when you're having to report every day on campaigns that every little blip, speed bump, conflict, trash-talking that takes place is elevated -- not to mention polls. And the one thing I've learned after being around for a while is that kind of day-to-day choppiness is not indicative of longer-term trends. I feel confident about the Democratic vision for the country, and I feel confident about our ability not just to win elections but, more importantly, to deliver on behalf of the American people and the issues they care about. Question: Does this going until the end of July make it harder to defeat Mr. Trump? President Obama: No. Look, would it be nice if everybody was immediately unified and singing Kumbaya, and whoever the nominee ended up being could just take a nice two-week vacation to recharge? Absolutely. I guarantee you that the eventual nominee sure wishes it was over now, because this is a grind. It's hard. And in some ways, one of the things I've always found is that it's a lot more draining arguing against your friends than it is arguing against your political opponents. It just -- it weighs on you more. Being criticized by folks who are in your own party always hurts just a little bit more. And so it takes a little energy out of you. But these are folks who are serious about trying to solve the country's problems. They're both veterans of the political grind. And so they're going to hold up. And by the time we get to the convention, I'm confident they'll be in good shape. As a special bonus, I'm going to take one more question. Go ahead. Question: Thank you, Mr. President. You mentioned some tactical differences between the two Democratic candidates. But when you hear Bernie Sanders speak, it seems like he's talking more about the issue of trustability and the need for a political revolution. And just yesterday we saw that the State Department's inspector general put out a report about Secretary Clinton's emails, and it basically undermined some of what she said about her email practices. I'm wondering if you think that undermines her trustworthiness with the American people, and if you agree with Bernie Sanders that she should release the transcripts of her highly paid speeches to Wall Street. President Obama: Okay. You know what, I take it back. I'm not taking another question. We're in Japan. Don't we have something on Asia that we want to talk about? I'll be talking about this in Washington the whole time. Look, I've already said a lot about those issues. I think those are better directed to the campaign. As I said before, during the course of a primary people say what they think might help them get some votes. And once the campaign is over, then they move on, and they make an assessment in terms of how they can make sure that the vision they care most deeply about has the best chance of passing a Congress and getting signed by a President, and that Supreme Court nominees are confirmed, and all the things that make for a functioning, effective government. So I think that the noise that is going on back and forth between the candidates at this point, if you want insights into how they're thinking about it, those should be directed to them. I'll take -- Question: Can I have another question? President Obama: You've already had a question, so if I'm going to ask another question I think it's fair to give it to -- Question: That's true. Question: Can I ask you your thinking on the new Taliban leader and how that affects prospects for peace in the region? President Obama: Well, as I was saying to my team, I wasn't expecting a liberal democrat to be the newly appointed leader of the Taliban. So this continues to be an organization that sees violence as a strategy for obtaining its goals and moving its agenda forward in Afghanistan. We have a democratically elected government in Afghanistan that we're supporting, and our goal right now is to make sure that that constitution and that democratic process is upheld -- not to mention that we're able to maintain the counterterrorism platforms that we need in that region so that al Qaeda and now ISIL are not able to take root and use that as bases to attack us in the United States. My hope -- although not my expectation -- is that there comes a point at which the Taliban recognizes that they are not going to simply be able to overrun the country and that what they need to be doing is to enter into serious reconciliation talks that are led by Afghans. And I think if that happens, that's something that the United States and others in the world community would support. But I am doubtful that that will be happening anytime soon. And we'll have to wait and see how those things develop. In the short term, we anticipate that the Taliban will continue to pursue an agenda of violence and VBEDS and blowing up innocent people, and the kinds of actions that have characterized their approach over the last 15, 20 years. But I do think that there will come a point, perhaps not this year, next year, but eventually, where there are those within the community that surrounds the Taliban, at least, that recognize their goals are best achieved by negotiations. Okay? Question: And on the Vietnamese activists that were banned from the meeting -- Question: Right, is that embarrassing that they couldn't -- President Obama: To me, or to them? Why is it embarrassing to me? Question: Well, because you invited these people and they didn't show up. President Obama: Well, I wasn't the one who held them up. Look, I was very blunt with the Vietnamese government. There is so much good going on in that country, and what I indicated to them is that these kinds of heavy-handed actions end up being entirely counterproductive. And the folks we invited, including those who were there, are people that are prepared to have a constructive conversation with the government about how to advance peace and prosperity, and economic development, and environmental security in that country. And my general message, as you heard at the youth town hall meeting, is harness that talent. Let them loose to create startups and to solve problems, and engage them. It's the same message I had with Cuba. It's the same message that I had in a wide range of countries where you still are seeing serious problems with human rights. The one thing I'm absolutely convinced of, though, is, is that by us engaging, by us meeting with civil society activists, it helps move the ball, it moves the needle. It doesn't solve these problems immediately. Right now Burma/Myanmar is undergoing this democratic transformation, in part because of the process that we helped to spearhead. They are going through revolutionary changes over the last several years. But I guarantee you that there's still some human rights activists inside of Burma/Myanmar who are being harassed, are not able to speak freely, are not able to assemble the way we would expect them to be able to do in our own country. When I went to Cuba and I met with those dissidents, one of the individuals who was there still had cuts in his wrists from handcuffs because he had been detained just the day before. I didn't come out of that meeting thinking the problems of human rights in Cuba are solved. But what I'm pretty darn sure of is, is that by us meeting with them, by us shining a spotlight on their stories, by us indicating not that we were going to dictate how these societies develop, but that we do think there are certain universal values that we care deeply about and that we're going to stand with -- that that helps. And that, I think, is the biggest lesson over the course of the seven years as we've been engaging some of these countries with serious human rights problems. The expectation that I think sometimes we've had that I've we just stand back and scold, that somehow that's going to change these internal dynamics has proven to be less effective than us engaging. Indicating to governments that we're prepared to work with them, but that they need to make progress, and continually trying to lift up the actions of these civil society leaders in a way that provides them a little bit more space, and that space slowly grows and it ends up being a process -- and it's not always a process that travels in a straight line. Sometimes you take two steps forward, you take a step back. Sometimes you start seeing openings in some of these societies, and then governments get nervous and they clamp back down. But that steady pressure, combined with an appreciation of the history of these countries, combined with a willingness to listen, combined with an ability to mobilize the international community so that we're not thinking that we're doing this all by ourselves -- over time, we've seen results. More modest than I would hope, but that's true of pretty much everything about foreign policy and domestic policy and the human condition. All right? Question: Speaking of -- President Obama: Okay, guys. I gave you a couple -- I already gave you bonuses. I gave you a bunch of bonuses. Thank you, guys.\n"
     ]
    }
   ],
   "source": [
    "match_old = [r'\\s+', r'\\[(Source:)?\\s*http.*?\\]', r'[\\[\\]\\(\\)]']\n",
    "match_new = [r' '  , r''                        , r''          ]\n",
    "\n",
    "clean_speech = pdf.match_replace(clean_speech, match_old, match_new)\n",
    "print(clean_speech)"
   ]
  },
  {
   "cell_type": "markdown",
   "id": "c4391c66",
   "metadata": {},
   "source": [
    "Output to csv file."
   ]
  },
  {
   "cell_type": "code",
   "execution_count": 14,
   "id": "f09a2fa3",
   "metadata": {},
   "outputs": [],
   "source": [
    "# visually check the row that will be written and compare the the first lines of the extracted\n",
    "# contents with the original page\n",
    "def visual_check(nb, original_page, row):\n",
    "    print(\"pdf\", nb, '\\n\\n')\n",
    "    print(original_page, '\\n\\n' + 50*'-' + '\\n')\n",
    "    print(row[:-1], '\\n\\n')\n",
    "    print(row[-1][:500], '\\n\\n' + 50*'-' + '\\n')\n",
    "    print(row[-1][-500:], '\\n\\n' + 100*'-' + '\\n\\n')"
   ]
  },
  {
   "cell_type": "code",
   "execution_count": null,
   "id": "285af2d0",
   "metadata": {
    "scrolled": true
   },
   "outputs": [],
   "source": [
    "csv_dir = Path.cwd().parent / \"speeches_csv\" \n",
    "csv_filename = csv_dir / \"all_speeches.txt\"\n",
    "\n",
    "# column names\n",
    "fields = [\"title\", \"pages\", \"date\", \"location\", \"highest_speaker_count\", \"content\"]\n",
    "\n",
    "# use 'a+' instead of 'w' if you want to append at the bottom of the file instead of replacing the file\n",
    "with open(csv_filename, 'w') as csvfile: \n",
    "    csvwriter = csv.writer(csvfile, delimiter=',', quotechar='\"', quoting=csv.QUOTE_MINIMAL) \n",
    "\n",
    "    for i, filepath in enumerate(pdfs):  \n",
    "        # the column names are only written at the top of the first file\n",
    "        if i==0:\n",
    "            csvwriter.writerow(fields)\n",
    "            \n",
    "        pdf = PDFHandler(filepath)\n",
    "        \n",
    "        row = np.array(pdf.full_extract(pat, count, rep_old, rep_new, match_old, match_new))\n",
    "        visual_check(i, pdf.original_page(0), row)\n",
    "        csvwriter.writerow(row)\n",
    "        \n",
    "        pdf.close_file()"
   ]
  },
  {
   "cell_type": "markdown",
   "id": "6fcd2539",
   "metadata": {},
   "source": [
    "The speeches were originally written to csv files in batches instead of all at once, and the separate csv files were merged."
   ]
  },
  {
   "cell_type": "code",
   "execution_count": null,
   "id": "689e9d37",
   "metadata": {},
   "outputs": [],
   "source": [
    "csv_dir = Path.cwd().parent / \"speeches_csv\" \n",
    "csv_filename = csv_dir / \"speeches_436.txt\"\n",
    "\n",
    "fields = [\"title\", \"pages\", \"date\", \"location\", \"highest_speaker_count\", \"content\"]\n",
    "\n",
    "with open(csv_filename, 'w') as csvfile: \n",
    "    csvwriter = csv.writer(csvfile, delimiter=',', quotechar='\"', quoting=csv.QUOTE_MINIMAL) \n",
    "\n",
    "    for i in range(420,436):  \n",
    "        if i==0:\n",
    "            csvwriter.writerow(fields)\n",
    "            \n",
    "        pdf = PDFHandler(pdfs[i])\n",
    "        \n",
    "        row = np.array(pdf.full_extract(pat, count, rep_old, rep_new, re_old, re_new))\n",
    "        visual_check(i, pdf.original_page(0), row)\n",
    "        csvwriter.writerow(row)\n",
    "        \n",
    "        pdf.close_file()"
   ]
  },
  {
   "cell_type": "code",
   "execution_count": null,
   "id": "9a5271d0",
   "metadata": {},
   "outputs": [],
   "source": [
    "csvs = sorted(list(csv_dir.glob('*.txt')))\n",
    "path_merged = csv_dir / \"all_speeches.txt\"\n",
    "\n",
    "for path in csvs:\n",
    "    tmp = pd.read_csv(path)\n",
    "    tmp.to_csv(path_merged, index=False, header=True, mode='a+')"
   ]
  }
 ],
 "metadata": {
  "kernelspec": {
   "display_name": "Python 3 (ipykernel)",
   "language": "python",
   "name": "python3"
  },
  "language_info": {
   "codemirror_mode": {
    "name": "ipython",
    "version": 3
   },
   "file_extension": ".py",
   "mimetype": "text/x-python",
   "name": "python",
   "nbconvert_exporter": "python",
   "pygments_lexer": "ipython3",
   "version": "3.9.5"
  },
  "latex_envs": {
   "LaTeX_envs_menu_present": true,
   "autoclose": false,
   "autocomplete": true,
   "bibliofile": "biblio.bib",
   "cite_by": "apalike",
   "current_citInitial": 1,
   "eqLabelWithNumbers": true,
   "eqNumInitial": 1,
   "hotkeys": {
    "equation": "Ctrl-E",
    "itemize": "Ctrl-I"
   },
   "labels_anchors": false,
   "latex_user_defs": false,
   "report_style_numbering": false,
   "user_envs_cfg": false
  },
  "toc": {
   "base_numbering": 1,
   "nav_menu": {},
   "number_sections": true,
   "sideBar": true,
   "skip_h1_title": false,
   "title_cell": "Table of Contents",
   "title_sidebar": "Contents",
   "toc_cell": false,
   "toc_position": {},
   "toc_section_display": true,
   "toc_window_display": false
  },
  "varInspector": {
   "cols": {
    "lenName": 16,
    "lenType": 16,
    "lenVar": 40
   },
   "kernels_config": {
    "python": {
     "delete_cmd_postfix": "",
     "delete_cmd_prefix": "del ",
     "library": "var_list.py",
     "varRefreshCmd": "print(var_dic_list())"
    },
    "r": {
     "delete_cmd_postfix": ") ",
     "delete_cmd_prefix": "rm(",
     "library": "var_list.r",
     "varRefreshCmd": "cat(var_dic_list()) "
    }
   },
   "types_to_exclude": [
    "module",
    "function",
    "builtin_function_or_method",
    "instance",
    "_Feature"
   ],
   "window_display": false
  }
 },
 "nbformat": 4,
 "nbformat_minor": 5
}
