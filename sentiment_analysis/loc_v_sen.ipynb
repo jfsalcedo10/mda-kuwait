{
 "cells": [
  {
   "cell_type": "markdown",
   "id": "a2519ac6-b0e5-4aba-a228-765763edb2f9",
   "metadata": {},
   "source": [
    "# Sentiment Per Location \n",
    "Based on: https://datascience.quantecon.org/applications/maps.html <br>\n",
    "Info on geopy: https://geopy.readthedocs.io/en/stable/"
   ]
  },
  {
   "cell_type": "code",
   "execution_count": 98,
   "id": "cbbed59a-c06d-45e8-acc8-ccbbd79ece36",
   "metadata": {},
   "outputs": [],
   "source": [
    "from pathlib import Path\n",
    "from shapely.geometry import Point\n",
    "import os\n",
    "import sys\n",
    "import csv\n",
    "import geopandas as gpd\n",
    "from geopy import geocoders\n",
    "import matplotlib.pyplot as plt\n",
    "import pandas as pd\n",
    "import numpy as np\n",
    "%matplotlib inline"
   ]
  },
  {
   "cell_type": "code",
   "execution_count": 2,
   "id": "49a0307e-a95f-4099-a5ca-f53cdab9a323",
   "metadata": {},
   "outputs": [],
   "source": [
    "# Basic paths\n",
    "project_path = Path().resolve().parent\n",
    "csv_path = project_path / \"speeches_csv\""
   ]
  },
  {
   "cell_type": "markdown",
   "id": "2c05cd65-83c5-473f-8b8d-d0ee73d58741",
   "metadata": {},
   "source": [
    "## Data"
   ]
  },
  {
   "cell_type": "code",
   "execution_count": 3,
   "id": "1844b306-7b86-4d77-9186-97195f54dba7",
   "metadata": {
    "tags": []
   },
   "outputs": [
    {
     "data": {
      "text/html": [
       "<div>\n",
       "<style scoped>\n",
       "    .dataframe tbody tr th:only-of-type {\n",
       "        vertical-align: middle;\n",
       "    }\n",
       "\n",
       "    .dataframe tbody tr th {\n",
       "        vertical-align: top;\n",
       "    }\n",
       "\n",
       "    .dataframe thead th {\n",
       "        text-align: right;\n",
       "    }\n",
       "</style>\n",
       "<table border=\"1\" class=\"dataframe\">\n",
       "  <thead>\n",
       "    <tr style=\"text-align: right;\">\n",
       "      <th></th>\n",
       "      <th>title</th>\n",
       "      <th>date</th>\n",
       "      <th>stanza</th>\n",
       "      <th>textblob</th>\n",
       "      <th>vader</th>\n",
       "      <th>subjectivity</th>\n",
       "    </tr>\n",
       "  </thead>\n",
       "  <tbody>\n",
       "    <tr>\n",
       "      <th>0</th>\n",
       "      <td>Prayer_Breakfast_2016</td>\n",
       "      <td>2016-02-04</td>\n",
       "      <td>0.099</td>\n",
       "      <td>0.178</td>\n",
       "      <td>1.000</td>\n",
       "      <td>0.542</td>\n",
       "    </tr>\n",
       "    <tr>\n",
       "      <th>1</th>\n",
       "      <td>Security_Team_Announcement</td>\n",
       "      <td>2008-12-01</td>\n",
       "      <td>0.140</td>\n",
       "      <td>0.162</td>\n",
       "      <td>0.998</td>\n",
       "      <td>0.403</td>\n",
       "    </tr>\n",
       "    <tr>\n",
       "      <th>2</th>\n",
       "      <td>Cairo_University</td>\n",
       "      <td>2009-06-04</td>\n",
       "      <td>-0.150</td>\n",
       "      <td>0.110</td>\n",
       "      <td>1.000</td>\n",
       "      <td>0.457</td>\n",
       "    </tr>\n",
       "    <tr>\n",
       "      <th>3</th>\n",
       "      <td>Umpqua_Community_College_Shootings</td>\n",
       "      <td>2015-10-01</td>\n",
       "      <td>-0.250</td>\n",
       "      <td>0.061</td>\n",
       "      <td>-0.998</td>\n",
       "      <td>0.435</td>\n",
       "    </tr>\n",
       "    <tr>\n",
       "      <th>4</th>\n",
       "      <td>White_House_Correspondent_Dinner_2013</td>\n",
       "      <td>2013-04-27</td>\n",
       "      <td>-0.012</td>\n",
       "      <td>0.145</td>\n",
       "      <td>1.000</td>\n",
       "      <td>0.501</td>\n",
       "    </tr>\n",
       "    <tr>\n",
       "      <th>...</th>\n",
       "      <td>...</td>\n",
       "      <td>...</td>\n",
       "      <td>...</td>\n",
       "      <td>...</td>\n",
       "      <td>...</td>\n",
       "      <td>...</td>\n",
       "    </tr>\n",
       "    <tr>\n",
       "      <th>341</th>\n",
       "      <td>Shimon_Peres_Memorial</td>\n",
       "      <td>2016-09-30</td>\n",
       "      <td>-0.083</td>\n",
       "      <td>0.164</td>\n",
       "      <td>1.000</td>\n",
       "      <td>0.436</td>\n",
       "    </tr>\n",
       "    <tr>\n",
       "      <th>342</th>\n",
       "      <td>ASEAN_Business_2015</td>\n",
       "      <td>2015-11-21</td>\n",
       "      <td>-0.050</td>\n",
       "      <td>0.164</td>\n",
       "      <td>1.000</td>\n",
       "      <td>0.399</td>\n",
       "    </tr>\n",
       "    <tr>\n",
       "      <th>343</th>\n",
       "      <td>Finance_Crisis_Fee</td>\n",
       "      <td>2010-01-14</td>\n",
       "      <td>-0.412</td>\n",
       "      <td>0.080</td>\n",
       "      <td>0.987</td>\n",
       "      <td>0.436</td>\n",
       "    </tr>\n",
       "    <tr>\n",
       "      <th>344</th>\n",
       "      <td>Oval_Office_Counter_Terrorism_Agenda</td>\n",
       "      <td>2015-12-06</td>\n",
       "      <td>-0.134</td>\n",
       "      <td>0.076</td>\n",
       "      <td>-1.000</td>\n",
       "      <td>0.398</td>\n",
       "    </tr>\n",
       "    <tr>\n",
       "      <th>345</th>\n",
       "      <td>Michigan_University_Commencement</td>\n",
       "      <td>2010-05-01</td>\n",
       "      <td>-0.152</td>\n",
       "      <td>0.121</td>\n",
       "      <td>1.000</td>\n",
       "      <td>0.496</td>\n",
       "    </tr>\n",
       "  </tbody>\n",
       "</table>\n",
       "<p>346 rows × 6 columns</p>\n",
       "</div>"
      ],
      "text/plain": [
       "                                     title        date  stanza  textblob  \\\n",
       "0                    Prayer_Breakfast_2016  2016-02-04   0.099     0.178   \n",
       "1               Security_Team_Announcement  2008-12-01   0.140     0.162   \n",
       "2                         Cairo_University  2009-06-04  -0.150     0.110   \n",
       "3       Umpqua_Community_College_Shootings  2015-10-01  -0.250     0.061   \n",
       "4    White_House_Correspondent_Dinner_2013  2013-04-27  -0.012     0.145   \n",
       "..                                     ...         ...     ...       ...   \n",
       "341                  Shimon_Peres_Memorial  2016-09-30  -0.083     0.164   \n",
       "342                    ASEAN_Business_2015  2015-11-21  -0.050     0.164   \n",
       "343                     Finance_Crisis_Fee  2010-01-14  -0.412     0.080   \n",
       "344   Oval_Office_Counter_Terrorism_Agenda  2015-12-06  -0.134     0.076   \n",
       "345       Michigan_University_Commencement  2010-05-01  -0.152     0.121   \n",
       "\n",
       "     vader  subjectivity  \n",
       "0    1.000         0.542  \n",
       "1    0.998         0.403  \n",
       "2    1.000         0.457  \n",
       "3   -0.998         0.435  \n",
       "4    1.000         0.501  \n",
       "..     ...           ...  \n",
       "341  1.000         0.436  \n",
       "342  1.000         0.399  \n",
       "343  0.987         0.436  \n",
       "344 -1.000         0.398  \n",
       "345  1.000         0.496  \n",
       "\n",
       "[346 rows x 6 columns]"
      ]
     },
     "execution_count": 3,
     "metadata": {},
     "output_type": "execute_result"
    }
   ],
   "source": [
    "# Open in pandas the table with the sentiment and the location information\n",
    "df_sen = pd.read_csv(\"results_sa_all.txt\")\n",
    "df_sen"
   ]
  },
  {
   "cell_type": "code",
   "execution_count": 5,
   "id": "5443be1d-b840-49d3-ac34-272ae35a2b39",
   "metadata": {},
   "outputs": [
    {
     "data": {
      "text/html": [
       "<div>\n",
       "<style scoped>\n",
       "    .dataframe tbody tr th:only-of-type {\n",
       "        vertical-align: middle;\n",
       "    }\n",
       "\n",
       "    .dataframe tbody tr th {\n",
       "        vertical-align: top;\n",
       "    }\n",
       "\n",
       "    .dataframe thead th {\n",
       "        text-align: right;\n",
       "    }\n",
       "</style>\n",
       "<table border=\"1\" class=\"dataframe\">\n",
       "  <thead>\n",
       "    <tr style=\"text-align: right;\">\n",
       "      <th></th>\n",
       "      <th>title</th>\n",
       "      <th>location</th>\n",
       "      <th>highest_speaker_count</th>\n",
       "      <th>country</th>\n",
       "      <th>city</th>\n",
       "      <th>specific_location</th>\n",
       "    </tr>\n",
       "  </thead>\n",
       "  <tbody>\n",
       "    <tr>\n",
       "      <th>1</th>\n",
       "      <td>Prayer_Breakfast_2016</td>\n",
       "      <td>Washington Hilton, Washington D.C.</td>\n",
       "      <td>0</td>\n",
       "      <td>USA</td>\n",
       "      <td>Washington D.C.</td>\n",
       "      <td>Washington Hilton</td>\n",
       "    </tr>\n",
       "    <tr>\n",
       "      <th>2</th>\n",
       "      <td>Security_Team_Announcement</td>\n",
       "      <td>Chicago, Illinois</td>\n",
       "      <td>0</td>\n",
       "      <td>USA</td>\n",
       "      <td>Chicago</td>\n",
       "      <td>no_specific_location</td>\n",
       "    </tr>\n",
       "    <tr>\n",
       "      <th>3</th>\n",
       "      <td>Cairo_University</td>\n",
       "      <td>Cairo, Egypt</td>\n",
       "      <td>0</td>\n",
       "      <td>Egypt</td>\n",
       "      <td>Cairo</td>\n",
       "      <td>no_specific_location</td>\n",
       "    </tr>\n",
       "    <tr>\n",
       "      <th>4</th>\n",
       "      <td>Umpqua_Community_College_Shootings</td>\n",
       "      <td>Washington D.C.</td>\n",
       "      <td>0</td>\n",
       "      <td>USA</td>\n",
       "      <td>Washington D.C.</td>\n",
       "      <td>no_specific_location</td>\n",
       "    </tr>\n",
       "    <tr>\n",
       "      <th>5</th>\n",
       "      <td>White_House_Correspondent_Dinner_2013</td>\n",
       "      <td>Washington Hilton Hotel, Washington D.C.</td>\n",
       "      <td>0</td>\n",
       "      <td>USA</td>\n",
       "      <td>Washington D.C.</td>\n",
       "      <td>Washington Hilton Hotel</td>\n",
       "    </tr>\n",
       "  </tbody>\n",
       "</table>\n",
       "</div>"
      ],
      "text/plain": [
       "                                   title  \\\n",
       "1                  Prayer_Breakfast_2016   \n",
       "2             Security_Team_Announcement   \n",
       "3                       Cairo_University   \n",
       "4     Umpqua_Community_College_Shootings   \n",
       "5  White_House_Correspondent_Dinner_2013   \n",
       "\n",
       "                                   location  highest_speaker_count country  \\\n",
       "1        Washington Hilton, Washington D.C.                      0     USA   \n",
       "2                         Chicago, Illinois                      0     USA   \n",
       "3                              Cairo, Egypt                      0   Egypt   \n",
       "4                           Washington D.C.                      0     USA   \n",
       "5  Washington Hilton Hotel, Washington D.C.                      0     USA   \n",
       "\n",
       "              city        specific_location  \n",
       "1  Washington D.C.        Washington Hilton  \n",
       "2          Chicago     no_specific_location  \n",
       "3            Cairo     no_specific_location  \n",
       "4  Washington D.C.     no_specific_location  \n",
       "5  Washington D.C.  Washington Hilton Hotel  "
      ]
     },
     "execution_count": 5,
     "metadata": {},
     "output_type": "execute_result"
    }
   ],
   "source": [
    "# Call the all_speechs dataframe and clean it a bit\n",
    "df_temp = pd.read_csv(csv_path / \"all_speeches_cleaned.txt\") \n",
    "df_temp = df_temp.drop(columns=[\"count_commas\",\"content\",\"date\", \"pages\", \"state\"])\n",
    "df_temp = df_temp[ df_temp[\"highest_speaker_count\"] <= 3 ]\n",
    "df_temp.head()"
   ]
  },
  {
   "cell_type": "code",
   "execution_count": 6,
   "id": "5e03aec5-cd95-4d01-b785-fbc800fb63e1",
   "metadata": {},
   "outputs": [
    {
     "data": {
      "text/html": [
       "<div>\n",
       "<style scoped>\n",
       "    .dataframe tbody tr th:only-of-type {\n",
       "        vertical-align: middle;\n",
       "    }\n",
       "\n",
       "    .dataframe tbody tr th {\n",
       "        vertical-align: top;\n",
       "    }\n",
       "\n",
       "    .dataframe thead th {\n",
       "        text-align: right;\n",
       "    }\n",
       "</style>\n",
       "<table border=\"1\" class=\"dataframe\">\n",
       "  <thead>\n",
       "    <tr style=\"text-align: right;\">\n",
       "      <th></th>\n",
       "      <th>title</th>\n",
       "      <th>location</th>\n",
       "      <th>highest_speaker_count</th>\n",
       "      <th>country</th>\n",
       "      <th>city</th>\n",
       "      <th>specific_location</th>\n",
       "      <th>date</th>\n",
       "      <th>stanza</th>\n",
       "      <th>textblob</th>\n",
       "      <th>vader</th>\n",
       "      <th>subjectivity</th>\n",
       "    </tr>\n",
       "  </thead>\n",
       "  <tbody>\n",
       "    <tr>\n",
       "      <th>0</th>\n",
       "      <td>Prayer_Breakfast_2016</td>\n",
       "      <td>Washington Hilton, Washington D.C.</td>\n",
       "      <td>0</td>\n",
       "      <td>USA</td>\n",
       "      <td>Washington D.C.</td>\n",
       "      <td>Washington Hilton</td>\n",
       "      <td>2016-02-04</td>\n",
       "      <td>0.099</td>\n",
       "      <td>0.178</td>\n",
       "      <td>1.000</td>\n",
       "      <td>0.542</td>\n",
       "    </tr>\n",
       "    <tr>\n",
       "      <th>1</th>\n",
       "      <td>Security_Team_Announcement</td>\n",
       "      <td>Chicago, Illinois</td>\n",
       "      <td>0</td>\n",
       "      <td>USA</td>\n",
       "      <td>Chicago</td>\n",
       "      <td>no_specific_location</td>\n",
       "      <td>2008-12-01</td>\n",
       "      <td>0.140</td>\n",
       "      <td>0.162</td>\n",
       "      <td>0.998</td>\n",
       "      <td>0.403</td>\n",
       "    </tr>\n",
       "    <tr>\n",
       "      <th>2</th>\n",
       "      <td>Cairo_University</td>\n",
       "      <td>Cairo, Egypt</td>\n",
       "      <td>0</td>\n",
       "      <td>Egypt</td>\n",
       "      <td>Cairo</td>\n",
       "      <td>no_specific_location</td>\n",
       "      <td>2009-06-04</td>\n",
       "      <td>-0.150</td>\n",
       "      <td>0.110</td>\n",
       "      <td>1.000</td>\n",
       "      <td>0.457</td>\n",
       "    </tr>\n",
       "    <tr>\n",
       "      <th>3</th>\n",
       "      <td>Umpqua_Community_College_Shootings</td>\n",
       "      <td>Washington D.C.</td>\n",
       "      <td>0</td>\n",
       "      <td>USA</td>\n",
       "      <td>Washington D.C.</td>\n",
       "      <td>no_specific_location</td>\n",
       "      <td>2015-10-01</td>\n",
       "      <td>-0.250</td>\n",
       "      <td>0.061</td>\n",
       "      <td>-0.998</td>\n",
       "      <td>0.435</td>\n",
       "    </tr>\n",
       "    <tr>\n",
       "      <th>4</th>\n",
       "      <td>White_House_Correspondent_Dinner_2013</td>\n",
       "      <td>Washington Hilton Hotel, Washington D.C.</td>\n",
       "      <td>0</td>\n",
       "      <td>USA</td>\n",
       "      <td>Washington D.C.</td>\n",
       "      <td>Washington Hilton Hotel</td>\n",
       "      <td>2013-04-27</td>\n",
       "      <td>-0.012</td>\n",
       "      <td>0.145</td>\n",
       "      <td>1.000</td>\n",
       "      <td>0.501</td>\n",
       "    </tr>\n",
       "  </tbody>\n",
       "</table>\n",
       "</div>"
      ],
      "text/plain": [
       "                                   title  \\\n",
       "0                  Prayer_Breakfast_2016   \n",
       "1             Security_Team_Announcement   \n",
       "2                       Cairo_University   \n",
       "3     Umpqua_Community_College_Shootings   \n",
       "4  White_House_Correspondent_Dinner_2013   \n",
       "\n",
       "                                   location  highest_speaker_count country  \\\n",
       "0        Washington Hilton, Washington D.C.                      0     USA   \n",
       "1                         Chicago, Illinois                      0     USA   \n",
       "2                              Cairo, Egypt                      0   Egypt   \n",
       "3                           Washington D.C.                      0     USA   \n",
       "4  Washington Hilton Hotel, Washington D.C.                      0     USA   \n",
       "\n",
       "              city        specific_location        date  stanza  textblob  \\\n",
       "0  Washington D.C.        Washington Hilton  2016-02-04   0.099     0.178   \n",
       "1          Chicago     no_specific_location  2008-12-01   0.140     0.162   \n",
       "2            Cairo     no_specific_location  2009-06-04  -0.150     0.110   \n",
       "3  Washington D.C.     no_specific_location  2015-10-01  -0.250     0.061   \n",
       "4  Washington D.C.  Washington Hilton Hotel  2013-04-27  -0.012     0.145   \n",
       "\n",
       "   vader  subjectivity  \n",
       "0  1.000         0.542  \n",
       "1  0.998         0.403  \n",
       "2  1.000         0.457  \n",
       "3 -0.998         0.435  \n",
       "4  1.000         0.501  "
      ]
     },
     "execution_count": 6,
     "metadata": {},
     "output_type": "execute_result"
    }
   ],
   "source": [
    "# Merge the previous tables\n",
    "df_cb = pd.merge(df_temp, df_sen, how='inner', on = 'title')\n",
    "df_cb.head()"
   ]
  },
  {
   "cell_type": "code",
   "execution_count": 23,
   "id": "d156853c-643e-4ecb-a064-1b1c5a722c3b",
   "metadata": {},
   "outputs": [
    {
     "data": {
      "text/html": [
       "<div>\n",
       "<style scoped>\n",
       "    .dataframe tbody tr th:only-of-type {\n",
       "        vertical-align: middle;\n",
       "    }\n",
       "\n",
       "    .dataframe tbody tr th {\n",
       "        vertical-align: top;\n",
       "    }\n",
       "\n",
       "    .dataframe thead th {\n",
       "        text-align: right;\n",
       "    }\n",
       "</style>\n",
       "<table border=\"1\" class=\"dataframe\">\n",
       "  <thead>\n",
       "    <tr style=\"text-align: right;\">\n",
       "      <th></th>\n",
       "      <th>title</th>\n",
       "      <th>location</th>\n",
       "      <th>highest_speaker_count</th>\n",
       "      <th>country</th>\n",
       "      <th>city</th>\n",
       "      <th>specific_location</th>\n",
       "      <th>date</th>\n",
       "      <th>stanza</th>\n",
       "      <th>textblob</th>\n",
       "      <th>vader</th>\n",
       "      <th>subjectivity</th>\n",
       "      <th>main_topic_1_index</th>\n",
       "    </tr>\n",
       "  </thead>\n",
       "  <tbody>\n",
       "    <tr>\n",
       "      <th>0</th>\n",
       "      <td>Prayer_Breakfast_2016</td>\n",
       "      <td>Washington Hilton, Washington D.C.</td>\n",
       "      <td>0</td>\n",
       "      <td>USA</td>\n",
       "      <td>Washington D.C.</td>\n",
       "      <td>Washington Hilton</td>\n",
       "      <td>2016-02-04</td>\n",
       "      <td>0.099</td>\n",
       "      <td>0.178</td>\n",
       "      <td>1.000</td>\n",
       "      <td>0.542</td>\n",
       "      <td>20</td>\n",
       "    </tr>\n",
       "    <tr>\n",
       "      <th>1</th>\n",
       "      <td>Security_Team_Announcement</td>\n",
       "      <td>Chicago, Illinois</td>\n",
       "      <td>0</td>\n",
       "      <td>USA</td>\n",
       "      <td>Chicago</td>\n",
       "      <td>no_specific_location</td>\n",
       "      <td>2008-12-01</td>\n",
       "      <td>0.140</td>\n",
       "      <td>0.162</td>\n",
       "      <td>0.998</td>\n",
       "      <td>0.403</td>\n",
       "      <td>9</td>\n",
       "    </tr>\n",
       "    <tr>\n",
       "      <th>2</th>\n",
       "      <td>Cairo_University</td>\n",
       "      <td>Cairo, Egypt</td>\n",
       "      <td>0</td>\n",
       "      <td>Egypt</td>\n",
       "      <td>Cairo</td>\n",
       "      <td>no_specific_location</td>\n",
       "      <td>2009-06-04</td>\n",
       "      <td>-0.150</td>\n",
       "      <td>0.110</td>\n",
       "      <td>1.000</td>\n",
       "      <td>0.457</td>\n",
       "      <td>21</td>\n",
       "    </tr>\n",
       "    <tr>\n",
       "      <th>3</th>\n",
       "      <td>Umpqua_Community_College_Shootings</td>\n",
       "      <td>Washington D.C.</td>\n",
       "      <td>0</td>\n",
       "      <td>USA</td>\n",
       "      <td>Washington D.C.</td>\n",
       "      <td>no_specific_location</td>\n",
       "      <td>2015-10-01</td>\n",
       "      <td>-0.250</td>\n",
       "      <td>0.061</td>\n",
       "      <td>-0.998</td>\n",
       "      <td>0.435</td>\n",
       "      <td>6</td>\n",
       "    </tr>\n",
       "    <tr>\n",
       "      <th>4</th>\n",
       "      <td>White_House_Correspondent_Dinner_2013</td>\n",
       "      <td>Washington Hilton Hotel, Washington D.C.</td>\n",
       "      <td>0</td>\n",
       "      <td>USA</td>\n",
       "      <td>Washington D.C.</td>\n",
       "      <td>Washington Hilton Hotel</td>\n",
       "      <td>2013-04-27</td>\n",
       "      <td>-0.012</td>\n",
       "      <td>0.145</td>\n",
       "      <td>1.000</td>\n",
       "      <td>0.501</td>\n",
       "      <td>22</td>\n",
       "    </tr>\n",
       "    <tr>\n",
       "      <th>...</th>\n",
       "      <td>...</td>\n",
       "      <td>...</td>\n",
       "      <td>...</td>\n",
       "      <td>...</td>\n",
       "      <td>...</td>\n",
       "      <td>...</td>\n",
       "      <td>...</td>\n",
       "      <td>...</td>\n",
       "      <td>...</td>\n",
       "      <td>...</td>\n",
       "      <td>...</td>\n",
       "      <td>...</td>\n",
       "    </tr>\n",
       "    <tr>\n",
       "      <th>341</th>\n",
       "      <td>Shimon_Peres_Memorial</td>\n",
       "      <td>Mount Herzl, Jerusalem, Israel</td>\n",
       "      <td>0</td>\n",
       "      <td>Israel</td>\n",
       "      <td>Jerusalem</td>\n",
       "      <td>Mount Herzl</td>\n",
       "      <td>2016-09-30</td>\n",
       "      <td>-0.083</td>\n",
       "      <td>0.164</td>\n",
       "      <td>1.000</td>\n",
       "      <td>0.436</td>\n",
       "      <td>11</td>\n",
       "    </tr>\n",
       "    <tr>\n",
       "      <th>342</th>\n",
       "      <td>ASEAN_Business_2015</td>\n",
       "      <td>Shangri-La Hotel, Kuala Lumpur, Malaysia</td>\n",
       "      <td>0</td>\n",
       "      <td>Malaysia</td>\n",
       "      <td>Kuala Lumpur</td>\n",
       "      <td>Shangri-La Hotel</td>\n",
       "      <td>2015-11-21</td>\n",
       "      <td>-0.050</td>\n",
       "      <td>0.164</td>\n",
       "      <td>1.000</td>\n",
       "      <td>0.399</td>\n",
       "      <td>15</td>\n",
       "    </tr>\n",
       "    <tr>\n",
       "      <th>343</th>\n",
       "      <td>Finance_Crisis_Fee</td>\n",
       "      <td>unknown_location</td>\n",
       "      <td>0</td>\n",
       "      <td>USA</td>\n",
       "      <td>Washington D.C.</td>\n",
       "      <td>White House</td>\n",
       "      <td>2010-01-14</td>\n",
       "      <td>-0.412</td>\n",
       "      <td>0.080</td>\n",
       "      <td>0.987</td>\n",
       "      <td>0.436</td>\n",
       "      <td>18</td>\n",
       "    </tr>\n",
       "    <tr>\n",
       "      <th>344</th>\n",
       "      <td>Oval_Office_Counter_Terrorism_Agenda</td>\n",
       "      <td>White House, Washington D.C.</td>\n",
       "      <td>0</td>\n",
       "      <td>USA</td>\n",
       "      <td>Washington D.C.</td>\n",
       "      <td>White House</td>\n",
       "      <td>2015-12-06</td>\n",
       "      <td>-0.134</td>\n",
       "      <td>0.076</td>\n",
       "      <td>-1.000</td>\n",
       "      <td>0.398</td>\n",
       "      <td>3</td>\n",
       "    </tr>\n",
       "    <tr>\n",
       "      <th>345</th>\n",
       "      <td>Michigan_University_Commencement</td>\n",
       "      <td>unknown_location</td>\n",
       "      <td>0</td>\n",
       "      <td>USA</td>\n",
       "      <td>New York</td>\n",
       "      <td>Clinton Global Initiative on Human Trafficking</td>\n",
       "      <td>2010-05-01</td>\n",
       "      <td>-0.152</td>\n",
       "      <td>0.121</td>\n",
       "      <td>1.000</td>\n",
       "      <td>0.496</td>\n",
       "      <td>22</td>\n",
       "    </tr>\n",
       "  </tbody>\n",
       "</table>\n",
       "<p>346 rows × 12 columns</p>\n",
       "</div>"
      ],
      "text/plain": [
       "                                     title  \\\n",
       "0                    Prayer_Breakfast_2016   \n",
       "1               Security_Team_Announcement   \n",
       "2                         Cairo_University   \n",
       "3       Umpqua_Community_College_Shootings   \n",
       "4    White_House_Correspondent_Dinner_2013   \n",
       "..                                     ...   \n",
       "341                  Shimon_Peres_Memorial   \n",
       "342                    ASEAN_Business_2015   \n",
       "343                     Finance_Crisis_Fee   \n",
       "344   Oval_Office_Counter_Terrorism_Agenda   \n",
       "345       Michigan_University_Commencement   \n",
       "\n",
       "                                     location  highest_speaker_count  \\\n",
       "0          Washington Hilton, Washington D.C.                      0   \n",
       "1                           Chicago, Illinois                      0   \n",
       "2                                Cairo, Egypt                      0   \n",
       "3                             Washington D.C.                      0   \n",
       "4    Washington Hilton Hotel, Washington D.C.                      0   \n",
       "..                                        ...                    ...   \n",
       "341            Mount Herzl, Jerusalem, Israel                      0   \n",
       "342  Shangri-La Hotel, Kuala Lumpur, Malaysia                      0   \n",
       "343                          unknown_location                      0   \n",
       "344              White House, Washington D.C.                      0   \n",
       "345                          unknown_location                      0   \n",
       "\n",
       "      country             city  \\\n",
       "0         USA  Washington D.C.   \n",
       "1         USA          Chicago   \n",
       "2       Egypt            Cairo   \n",
       "3         USA  Washington D.C.   \n",
       "4         USA  Washington D.C.   \n",
       "..        ...              ...   \n",
       "341    Israel        Jerusalem   \n",
       "342  Malaysia     Kuala Lumpur   \n",
       "343       USA  Washington D.C.   \n",
       "344       USA  Washington D.C.   \n",
       "345       USA         New York   \n",
       "\n",
       "                                  specific_location        date  stanza  \\\n",
       "0                                 Washington Hilton  2016-02-04   0.099   \n",
       "1                              no_specific_location  2008-12-01   0.140   \n",
       "2                              no_specific_location  2009-06-04  -0.150   \n",
       "3                              no_specific_location  2015-10-01  -0.250   \n",
       "4                           Washington Hilton Hotel  2013-04-27  -0.012   \n",
       "..                                              ...         ...     ...   \n",
       "341                                     Mount Herzl  2016-09-30  -0.083   \n",
       "342                                Shangri-La Hotel  2015-11-21  -0.050   \n",
       "343                                     White House  2010-01-14  -0.412   \n",
       "344                                     White House  2015-12-06  -0.134   \n",
       "345  Clinton Global Initiative on Human Trafficking  2010-05-01  -0.152   \n",
       "\n",
       "     textblob  vader  subjectivity  main_topic_1_index  \n",
       "0       0.178  1.000         0.542                  20  \n",
       "1       0.162  0.998         0.403                   9  \n",
       "2       0.110  1.000         0.457                  21  \n",
       "3       0.061 -0.998         0.435                   6  \n",
       "4       0.145  1.000         0.501                  22  \n",
       "..        ...    ...           ...                 ...  \n",
       "341     0.164  1.000         0.436                  11  \n",
       "342     0.164  1.000         0.399                  15  \n",
       "343     0.080  0.987         0.436                  18  \n",
       "344     0.076 -1.000         0.398                   3  \n",
       "345     0.121  1.000         0.496                  22  \n",
       "\n",
       "[346 rows x 12 columns]"
      ]
     },
     "execution_count": 23,
     "metadata": {},
     "output_type": "execute_result"
    }
   ],
   "source": [
    "df4 = pd.read_csv(csv_path / \"topic_classification.txt\")\n",
    "df4 = df4[['title', 'main_topic_1_index']]\n",
    "df = pd.merge(df_cb, df4, how='inner', on='title')\n",
    "df"
   ]
  },
  {
   "cell_type": "markdown",
   "id": "85fab8ff-3609-4c2e-82ab-3f26df5f7906",
   "metadata": {},
   "source": [
    "# Get Coordinates of the City Names"
   ]
  },
  {
   "cell_type": "code",
   "execution_count": 26,
   "id": "58b89428-118b-4105-8ed1-361da2efcb16",
   "metadata": {},
   "outputs": [
    {
     "data": {
      "text/html": [
       "<div>\n",
       "<style scoped>\n",
       "    .dataframe tbody tr th:only-of-type {\n",
       "        vertical-align: middle;\n",
       "    }\n",
       "\n",
       "    .dataframe tbody tr th {\n",
       "        vertical-align: top;\n",
       "    }\n",
       "\n",
       "    .dataframe thead th {\n",
       "        text-align: right;\n",
       "    }\n",
       "</style>\n",
       "<table border=\"1\" class=\"dataframe\">\n",
       "  <thead>\n",
       "    <tr style=\"text-align: right;\">\n",
       "      <th></th>\n",
       "      <th>title</th>\n",
       "      <th>location</th>\n",
       "      <th>highest_speaker_count</th>\n",
       "      <th>country</th>\n",
       "      <th>city</th>\n",
       "      <th>specific_location</th>\n",
       "      <th>date</th>\n",
       "      <th>stanza</th>\n",
       "      <th>textblob</th>\n",
       "      <th>vader</th>\n",
       "      <th>subjectivity</th>\n",
       "      <th>main_topic_1_index</th>\n",
       "      <th>geo_location</th>\n",
       "      <th>point</th>\n",
       "    </tr>\n",
       "  </thead>\n",
       "  <tbody>\n",
       "    <tr>\n",
       "      <th>0</th>\n",
       "      <td>Prayer_Breakfast_2016</td>\n",
       "      <td>Washington Hilton, Washington D.C.</td>\n",
       "      <td>0</td>\n",
       "      <td>USA</td>\n",
       "      <td>Washington D.C.</td>\n",
       "      <td>Washington Hilton</td>\n",
       "      <td>2016-02-04</td>\n",
       "      <td>0.099</td>\n",
       "      <td>0.178</td>\n",
       "      <td>1.000</td>\n",
       "      <td>0.542</td>\n",
       "      <td>20</td>\n",
       "      <td>(Washington Hilton, 1919, Connecticut Avenue N...</td>\n",
       "      <td>(38.9165229, -77.0452084, 0.0)</td>\n",
       "    </tr>\n",
       "    <tr>\n",
       "      <th>1</th>\n",
       "      <td>Security_Team_Announcement</td>\n",
       "      <td>Chicago, Illinois</td>\n",
       "      <td>0</td>\n",
       "      <td>USA</td>\n",
       "      <td>Chicago</td>\n",
       "      <td>no_specific_location</td>\n",
       "      <td>2008-12-01</td>\n",
       "      <td>0.140</td>\n",
       "      <td>0.162</td>\n",
       "      <td>0.998</td>\n",
       "      <td>0.403</td>\n",
       "      <td>9</td>\n",
       "      <td>(Chicago, Cook County, Illinois, United States...</td>\n",
       "      <td>(41.8755616, -87.6244212, 0.0)</td>\n",
       "    </tr>\n",
       "    <tr>\n",
       "      <th>2</th>\n",
       "      <td>Cairo_University</td>\n",
       "      <td>Cairo, Egypt</td>\n",
       "      <td>0</td>\n",
       "      <td>Egypt</td>\n",
       "      <td>Cairo</td>\n",
       "      <td>no_specific_location</td>\n",
       "      <td>2009-06-04</td>\n",
       "      <td>-0.150</td>\n",
       "      <td>0.110</td>\n",
       "      <td>1.000</td>\n",
       "      <td>0.457</td>\n",
       "      <td>21</td>\n",
       "      <td>(القاهرة, 11519, مصر, (30.0443879, 31.2357257))</td>\n",
       "      <td>(30.0443879, 31.2357257, 0.0)</td>\n",
       "    </tr>\n",
       "    <tr>\n",
       "      <th>3</th>\n",
       "      <td>Umpqua_Community_College_Shootings</td>\n",
       "      <td>Washington D.C.</td>\n",
       "      <td>0</td>\n",
       "      <td>USA</td>\n",
       "      <td>Washington D.C.</td>\n",
       "      <td>no_specific_location</td>\n",
       "      <td>2015-10-01</td>\n",
       "      <td>-0.250</td>\n",
       "      <td>0.061</td>\n",
       "      <td>-0.998</td>\n",
       "      <td>0.435</td>\n",
       "      <td>6</td>\n",
       "      <td>(Washington, District of Columbia, United Stat...</td>\n",
       "      <td>(38.8950368, -77.0365427, 0.0)</td>\n",
       "    </tr>\n",
       "    <tr>\n",
       "      <th>4</th>\n",
       "      <td>White_House_Correspondent_Dinner_2013</td>\n",
       "      <td>Washington Hilton Hotel, Washington D.C.</td>\n",
       "      <td>0</td>\n",
       "      <td>USA</td>\n",
       "      <td>Washington D.C.</td>\n",
       "      <td>Washington Hilton Hotel</td>\n",
       "      <td>2013-04-27</td>\n",
       "      <td>-0.012</td>\n",
       "      <td>0.145</td>\n",
       "      <td>1.000</td>\n",
       "      <td>0.501</td>\n",
       "      <td>22</td>\n",
       "      <td>(Washington Hilton, 1919, Connecticut Avenue N...</td>\n",
       "      <td>(38.9165229, -77.0452084, 0.0)</td>\n",
       "    </tr>\n",
       "  </tbody>\n",
       "</table>\n",
       "</div>"
      ],
      "text/plain": [
       "                                   title  \\\n",
       "0                  Prayer_Breakfast_2016   \n",
       "1             Security_Team_Announcement   \n",
       "2                       Cairo_University   \n",
       "3     Umpqua_Community_College_Shootings   \n",
       "4  White_House_Correspondent_Dinner_2013   \n",
       "\n",
       "                                   location  highest_speaker_count country  \\\n",
       "0        Washington Hilton, Washington D.C.                      0     USA   \n",
       "1                         Chicago, Illinois                      0     USA   \n",
       "2                              Cairo, Egypt                      0   Egypt   \n",
       "3                           Washington D.C.                      0     USA   \n",
       "4  Washington Hilton Hotel, Washington D.C.                      0     USA   \n",
       "\n",
       "              city        specific_location        date  stanza  textblob  \\\n",
       "0  Washington D.C.        Washington Hilton  2016-02-04   0.099     0.178   \n",
       "1          Chicago     no_specific_location  2008-12-01   0.140     0.162   \n",
       "2            Cairo     no_specific_location  2009-06-04  -0.150     0.110   \n",
       "3  Washington D.C.     no_specific_location  2015-10-01  -0.250     0.061   \n",
       "4  Washington D.C.  Washington Hilton Hotel  2013-04-27  -0.012     0.145   \n",
       "\n",
       "   vader  subjectivity  main_topic_1_index  \\\n",
       "0  1.000         0.542                  20   \n",
       "1  0.998         0.403                   9   \n",
       "2  1.000         0.457                  21   \n",
       "3 -0.998         0.435                   6   \n",
       "4  1.000         0.501                  22   \n",
       "\n",
       "                                        geo_location  \\\n",
       "0  (Washington Hilton, 1919, Connecticut Avenue N...   \n",
       "1  (Chicago, Cook County, Illinois, United States...   \n",
       "2    (القاهرة, 11519, مصر, (30.0443879, 31.2357257))   \n",
       "3  (Washington, District of Columbia, United Stat...   \n",
       "4  (Washington Hilton, 1919, Connecticut Avenue N...   \n",
       "\n",
       "                            point  \n",
       "0  (38.9165229, -77.0452084, 0.0)  \n",
       "1  (41.8755616, -87.6244212, 0.0)  \n",
       "2   (30.0443879, 31.2357257, 0.0)  \n",
       "3  (38.8950368, -77.0365427, 0.0)  \n",
       "4  (38.9165229, -77.0452084, 0.0)  "
      ]
     },
     "execution_count": 26,
     "metadata": {},
     "output_type": "execute_result"
    }
   ],
   "source": [
    "from  geopy.geocoders import Nominatim\n",
    "geolocator = Nominatim(user_agent=\"seorin_kim\")\n",
    "\n",
    "from geopy.extra.rate_limiter import RateLimiter\n",
    "geocode = RateLimiter(geolocator.geocode, min_delay_seconds=1)\n",
    "\n",
    "df['geo_location'] = df['location'].apply(geocode)\n",
    "\n",
    "df['point'] = df['geo_location'].apply(lambda loc: tuple(loc.point) if loc else None)\n",
    "# Point = (latitude, longitude)\n",
    "\n",
    "df.head()\n",
    "    "
   ]
  },
  {
   "cell_type": "code",
   "execution_count": 27,
   "id": "1a26c059-c7eb-4db5-90fe-cd3a3a8e88b7",
   "metadata": {},
   "outputs": [
    {
     "data": {
      "text/plain": [
       "dict_keys(['place_id', 'licence', 'osm_type', 'osm_id', 'boundingbox', 'lat', 'lon', 'display_name', 'class', 'type', 'importance', 'icon'])"
      ]
     },
     "execution_count": 27,
     "metadata": {},
     "output_type": "execute_result"
    }
   ],
   "source": [
    "df['geo_location'][0].raw.keys()"
   ]
  },
  {
   "cell_type": "code",
   "execution_count": 28,
   "id": "b3b1f59e-70dd-4ca4-a668-29fbe4b80997",
   "metadata": {
    "scrolled": true,
    "tags": []
   },
   "outputs": [
    {
     "data": {
      "text/plain": [
       "title                     object\n",
       "location                  object\n",
       "highest_speaker_count      int64\n",
       "country                   object\n",
       "city                      object\n",
       "specific_location         object\n",
       "date                      object\n",
       "stanza                   float64\n",
       "textblob                 float64\n",
       "vader                    float64\n",
       "subjectivity             float64\n",
       "main_topic_1_index         int64\n",
       "geo_location              object\n",
       "point                     object\n",
       "latitude                  object\n",
       "longitude                 object\n",
       "dtype: object"
      ]
     },
     "execution_count": 28,
     "metadata": {},
     "output_type": "execute_result"
    }
   ],
   "source": [
    "df['latitude'] = df['geo_location'].apply(lambda loc: loc.raw['lat'] if loc else None)\n",
    "df['longitude'] = df['geo_location'].apply(lambda loc: loc.raw['lon'] if loc else None)\n",
    "df.dtypes"
   ]
  },
  {
   "cell_type": "code",
   "execution_count": 29,
   "id": "c6dbc5fd-11ca-4f3a-aa2e-772ace5a8e1f",
   "metadata": {
    "scrolled": true,
    "tags": []
   },
   "outputs": [
    {
     "data": {
      "text/plain": [
       "title                     object\n",
       "location                  object\n",
       "highest_speaker_count      int64\n",
       "country                   object\n",
       "city                      object\n",
       "specific_location         object\n",
       "date                      object\n",
       "stanza                   float64\n",
       "textblob                 float64\n",
       "vader                    float64\n",
       "subjectivity             float64\n",
       "main_topic_1_index         int64\n",
       "geo_location              object\n",
       "point                     object\n",
       "latitude                 float64\n",
       "longitude                float64\n",
       "Coordinates               object\n",
       "dtype: object"
      ]
     },
     "execution_count": 29,
     "metadata": {},
     "output_type": "execute_result"
    }
   ],
   "source": [
    "df['latitude'] = pd.to_numeric(df['latitude'])\n",
    "df['longitude'] = pd.to_numeric(df['longitude'])\n",
    "df[\"Coordinates\"] = list(zip(df.longitude, df.latitude))\n",
    "df.dtypes"
   ]
  },
  {
   "cell_type": "code",
   "execution_count": 30,
   "id": "3cad47ec-3a1d-4675-9227-d3bbd5020920",
   "metadata": {},
   "outputs": [
    {
     "data": {
      "text/html": [
       "<div>\n",
       "<style scoped>\n",
       "    .dataframe tbody tr th:only-of-type {\n",
       "        vertical-align: middle;\n",
       "    }\n",
       "\n",
       "    .dataframe tbody tr th {\n",
       "        vertical-align: top;\n",
       "    }\n",
       "\n",
       "    .dataframe thead th {\n",
       "        text-align: right;\n",
       "    }\n",
       "</style>\n",
       "<table border=\"1\" class=\"dataframe\">\n",
       "  <thead>\n",
       "    <tr style=\"text-align: right;\">\n",
       "      <th></th>\n",
       "      <th>title</th>\n",
       "      <th>location</th>\n",
       "      <th>highest_speaker_count</th>\n",
       "      <th>country</th>\n",
       "      <th>city</th>\n",
       "      <th>specific_location</th>\n",
       "      <th>date</th>\n",
       "      <th>stanza</th>\n",
       "      <th>textblob</th>\n",
       "      <th>vader</th>\n",
       "      <th>subjectivity</th>\n",
       "      <th>main_topic_1_index</th>\n",
       "      <th>geo_location</th>\n",
       "      <th>point</th>\n",
       "      <th>latitude</th>\n",
       "      <th>longitude</th>\n",
       "      <th>Coordinates</th>\n",
       "      <th>geometry</th>\n",
       "    </tr>\n",
       "  </thead>\n",
       "  <tbody>\n",
       "    <tr>\n",
       "      <th>0</th>\n",
       "      <td>Prayer_Breakfast_2016</td>\n",
       "      <td>Washington Hilton, Washington D.C.</td>\n",
       "      <td>0</td>\n",
       "      <td>USA</td>\n",
       "      <td>Washington D.C.</td>\n",
       "      <td>Washington Hilton</td>\n",
       "      <td>2016-02-04</td>\n",
       "      <td>0.099</td>\n",
       "      <td>0.178</td>\n",
       "      <td>1.000</td>\n",
       "      <td>0.542</td>\n",
       "      <td>20</td>\n",
       "      <td>(Washington Hilton, 1919, Connecticut Avenue N...</td>\n",
       "      <td>(38.9165229, -77.0452084, 0.0)</td>\n",
       "      <td>38.916523</td>\n",
       "      <td>-77.045208</td>\n",
       "      <td>(-77.0452084, 38.9165229)</td>\n",
       "      <td>POINT (-77.0452084 38.9165229)</td>\n",
       "    </tr>\n",
       "    <tr>\n",
       "      <th>1</th>\n",
       "      <td>Security_Team_Announcement</td>\n",
       "      <td>Chicago, Illinois</td>\n",
       "      <td>0</td>\n",
       "      <td>USA</td>\n",
       "      <td>Chicago</td>\n",
       "      <td>no_specific_location</td>\n",
       "      <td>2008-12-01</td>\n",
       "      <td>0.140</td>\n",
       "      <td>0.162</td>\n",
       "      <td>0.998</td>\n",
       "      <td>0.403</td>\n",
       "      <td>9</td>\n",
       "      <td>(Chicago, Cook County, Illinois, United States...</td>\n",
       "      <td>(41.8755616, -87.6244212, 0.0)</td>\n",
       "      <td>41.875562</td>\n",
       "      <td>-87.624421</td>\n",
       "      <td>(-87.6244212, 41.8755616)</td>\n",
       "      <td>POINT (-87.6244212 41.8755616)</td>\n",
       "    </tr>\n",
       "    <tr>\n",
       "      <th>2</th>\n",
       "      <td>Cairo_University</td>\n",
       "      <td>Cairo, Egypt</td>\n",
       "      <td>0</td>\n",
       "      <td>Egypt</td>\n",
       "      <td>Cairo</td>\n",
       "      <td>no_specific_location</td>\n",
       "      <td>2009-06-04</td>\n",
       "      <td>-0.150</td>\n",
       "      <td>0.110</td>\n",
       "      <td>1.000</td>\n",
       "      <td>0.457</td>\n",
       "      <td>21</td>\n",
       "      <td>(القاهرة, 11519, مصر, (30.0443879, 31.2357257))</td>\n",
       "      <td>(30.0443879, 31.2357257, 0.0)</td>\n",
       "      <td>30.044388</td>\n",
       "      <td>31.235726</td>\n",
       "      <td>(31.2357257, 30.0443879)</td>\n",
       "      <td>POINT (31.2357257 30.0443879)</td>\n",
       "    </tr>\n",
       "    <tr>\n",
       "      <th>3</th>\n",
       "      <td>Umpqua_Community_College_Shootings</td>\n",
       "      <td>Washington D.C.</td>\n",
       "      <td>0</td>\n",
       "      <td>USA</td>\n",
       "      <td>Washington D.C.</td>\n",
       "      <td>no_specific_location</td>\n",
       "      <td>2015-10-01</td>\n",
       "      <td>-0.250</td>\n",
       "      <td>0.061</td>\n",
       "      <td>-0.998</td>\n",
       "      <td>0.435</td>\n",
       "      <td>6</td>\n",
       "      <td>(Washington, District of Columbia, United Stat...</td>\n",
       "      <td>(38.8950368, -77.0365427, 0.0)</td>\n",
       "      <td>38.895037</td>\n",
       "      <td>-77.036543</td>\n",
       "      <td>(-77.0365427, 38.8950368)</td>\n",
       "      <td>POINT (-77.0365427 38.8950368)</td>\n",
       "    </tr>\n",
       "    <tr>\n",
       "      <th>4</th>\n",
       "      <td>White_House_Correspondent_Dinner_2013</td>\n",
       "      <td>Washington Hilton Hotel, Washington D.C.</td>\n",
       "      <td>0</td>\n",
       "      <td>USA</td>\n",
       "      <td>Washington D.C.</td>\n",
       "      <td>Washington Hilton Hotel</td>\n",
       "      <td>2013-04-27</td>\n",
       "      <td>-0.012</td>\n",
       "      <td>0.145</td>\n",
       "      <td>1.000</td>\n",
       "      <td>0.501</td>\n",
       "      <td>22</td>\n",
       "      <td>(Washington Hilton, 1919, Connecticut Avenue N...</td>\n",
       "      <td>(38.9165229, -77.0452084, 0.0)</td>\n",
       "      <td>38.916523</td>\n",
       "      <td>-77.045208</td>\n",
       "      <td>(-77.0452084, 38.9165229)</td>\n",
       "      <td>POINT (-77.0452084 38.9165229)</td>\n",
       "    </tr>\n",
       "  </tbody>\n",
       "</table>\n",
       "</div>"
      ],
      "text/plain": [
       "                                   title  \\\n",
       "0                  Prayer_Breakfast_2016   \n",
       "1             Security_Team_Announcement   \n",
       "2                       Cairo_University   \n",
       "3     Umpqua_Community_College_Shootings   \n",
       "4  White_House_Correspondent_Dinner_2013   \n",
       "\n",
       "                                   location  highest_speaker_count country  \\\n",
       "0        Washington Hilton, Washington D.C.                      0     USA   \n",
       "1                         Chicago, Illinois                      0     USA   \n",
       "2                              Cairo, Egypt                      0   Egypt   \n",
       "3                           Washington D.C.                      0     USA   \n",
       "4  Washington Hilton Hotel, Washington D.C.                      0     USA   \n",
       "\n",
       "              city        specific_location        date  stanza  textblob  \\\n",
       "0  Washington D.C.        Washington Hilton  2016-02-04   0.099     0.178   \n",
       "1          Chicago     no_specific_location  2008-12-01   0.140     0.162   \n",
       "2            Cairo     no_specific_location  2009-06-04  -0.150     0.110   \n",
       "3  Washington D.C.     no_specific_location  2015-10-01  -0.250     0.061   \n",
       "4  Washington D.C.  Washington Hilton Hotel  2013-04-27  -0.012     0.145   \n",
       "\n",
       "   vader  subjectivity  main_topic_1_index  \\\n",
       "0  1.000         0.542                  20   \n",
       "1  0.998         0.403                   9   \n",
       "2  1.000         0.457                  21   \n",
       "3 -0.998         0.435                   6   \n",
       "4  1.000         0.501                  22   \n",
       "\n",
       "                                        geo_location  \\\n",
       "0  (Washington Hilton, 1919, Connecticut Avenue N...   \n",
       "1  (Chicago, Cook County, Illinois, United States...   \n",
       "2    (القاهرة, 11519, مصر, (30.0443879, 31.2357257))   \n",
       "3  (Washington, District of Columbia, United Stat...   \n",
       "4  (Washington Hilton, 1919, Connecticut Avenue N...   \n",
       "\n",
       "                            point   latitude  longitude  \\\n",
       "0  (38.9165229, -77.0452084, 0.0)  38.916523 -77.045208   \n",
       "1  (41.8755616, -87.6244212, 0.0)  41.875562 -87.624421   \n",
       "2   (30.0443879, 31.2357257, 0.0)  30.044388  31.235726   \n",
       "3  (38.8950368, -77.0365427, 0.0)  38.895037 -77.036543   \n",
       "4  (38.9165229, -77.0452084, 0.0)  38.916523 -77.045208   \n",
       "\n",
       "                 Coordinates                        geometry  \n",
       "0  (-77.0452084, 38.9165229)  POINT (-77.0452084 38.9165229)  \n",
       "1  (-87.6244212, 41.8755616)  POINT (-87.6244212 41.8755616)  \n",
       "2   (31.2357257, 30.0443879)   POINT (31.2357257 30.0443879)  \n",
       "3  (-77.0365427, 38.8950368)  POINT (-77.0365427 38.8950368)  \n",
       "4  (-77.0452084, 38.9165229)  POINT (-77.0452084 38.9165229)  "
      ]
     },
     "execution_count": 30,
     "metadata": {},
     "output_type": "execute_result"
    }
   ],
   "source": [
    "from shapely.geometry import Point\n",
    "df[\"geometry\"] = df[\"Coordinates\"].apply(Point)\n",
    "df.head()"
   ]
  },
  {
   "cell_type": "code",
   "execution_count": 31,
   "id": "f49304d8-584f-4894-8cc2-19bca84652ad",
   "metadata": {},
   "outputs": [
    {
     "data": {
      "text/plain": [
       "0      United States of America\n",
       "1      United States of America\n",
       "2                         Egypt\n",
       "3      United States of America\n",
       "4      United States of America\n",
       "                 ...           \n",
       "341                      Israel\n",
       "342                    Malaysia\n",
       "343    United States of America\n",
       "344    United States of America\n",
       "345    United States of America\n",
       "Name: country, Length: 346, dtype: object"
      ]
     },
     "execution_count": 31,
     "metadata": {},
     "output_type": "execute_result"
    }
   ],
   "source": [
    "df['country'] = df['country'].replace(['USA'], 'United States of America')"
   ]
  },
  {
   "cell_type": "markdown",
   "id": "95010082-9c0f-4755-9533-b4b4c77df96b",
   "metadata": {},
   "source": [
    "## World Map Data"
   ]
  },
  {
   "cell_type": "code",
   "execution_count": 32,
   "id": "ab2b97e2-b592-4b66-abb3-15c62025ec7e",
   "metadata": {},
   "outputs": [
    {
     "data": {
      "text/html": [
       "<div>\n",
       "<style scoped>\n",
       "    .dataframe tbody tr th:only-of-type {\n",
       "        vertical-align: middle;\n",
       "    }\n",
       "\n",
       "    .dataframe tbody tr th {\n",
       "        vertical-align: top;\n",
       "    }\n",
       "\n",
       "    .dataframe thead th {\n",
       "        text-align: right;\n",
       "    }\n",
       "</style>\n",
       "<table border=\"1\" class=\"dataframe\">\n",
       "  <thead>\n",
       "    <tr style=\"text-align: right;\">\n",
       "      <th></th>\n",
       "      <th>pop_est</th>\n",
       "      <th>continent</th>\n",
       "      <th>name</th>\n",
       "      <th>gdp_md_est</th>\n",
       "      <th>geometry</th>\n",
       "    </tr>\n",
       "    <tr>\n",
       "      <th>iso_a3</th>\n",
       "      <th></th>\n",
       "      <th></th>\n",
       "      <th></th>\n",
       "      <th></th>\n",
       "      <th></th>\n",
       "    </tr>\n",
       "  </thead>\n",
       "  <tbody>\n",
       "    <tr>\n",
       "      <th>FJI</th>\n",
       "      <td>920938</td>\n",
       "      <td>Oceania</td>\n",
       "      <td>Fiji</td>\n",
       "      <td>8374.0</td>\n",
       "      <td>MULTIPOLYGON (((180.00000 -16.06713, 180.00000...</td>\n",
       "    </tr>\n",
       "    <tr>\n",
       "      <th>TZA</th>\n",
       "      <td>53950935</td>\n",
       "      <td>Africa</td>\n",
       "      <td>Tanzania</td>\n",
       "      <td>150600.0</td>\n",
       "      <td>POLYGON ((33.90371 -0.95000, 34.07262 -1.05982...</td>\n",
       "    </tr>\n",
       "    <tr>\n",
       "      <th>ESH</th>\n",
       "      <td>603253</td>\n",
       "      <td>Africa</td>\n",
       "      <td>W. Sahara</td>\n",
       "      <td>906.5</td>\n",
       "      <td>POLYGON ((-8.66559 27.65643, -8.66512 27.58948...</td>\n",
       "    </tr>\n",
       "    <tr>\n",
       "      <th>CAN</th>\n",
       "      <td>35623680</td>\n",
       "      <td>North America</td>\n",
       "      <td>Canada</td>\n",
       "      <td>1674000.0</td>\n",
       "      <td>MULTIPOLYGON (((-122.84000 49.00000, -122.9742...</td>\n",
       "    </tr>\n",
       "    <tr>\n",
       "      <th>USA</th>\n",
       "      <td>326625791</td>\n",
       "      <td>North America</td>\n",
       "      <td>United States of America</td>\n",
       "      <td>18560000.0</td>\n",
       "      <td>MULTIPOLYGON (((-122.84000 49.00000, -120.0000...</td>\n",
       "    </tr>\n",
       "  </tbody>\n",
       "</table>\n",
       "</div>"
      ],
      "text/plain": [
       "          pop_est      continent                      name  gdp_md_est  \\\n",
       "iso_a3                                                                   \n",
       "FJI        920938        Oceania                      Fiji      8374.0   \n",
       "TZA      53950935         Africa                  Tanzania    150600.0   \n",
       "ESH        603253         Africa                 W. Sahara       906.5   \n",
       "CAN      35623680  North America                    Canada   1674000.0   \n",
       "USA     326625791  North America  United States of America  18560000.0   \n",
       "\n",
       "                                                 geometry  \n",
       "iso_a3                                                     \n",
       "FJI     MULTIPOLYGON (((180.00000 -16.06713, 180.00000...  \n",
       "TZA     POLYGON ((33.90371 -0.95000, 34.07262 -1.05982...  \n",
       "ESH     POLYGON ((-8.66559 27.65643, -8.66512 27.58948...  \n",
       "CAN     MULTIPOLYGON (((-122.84000 49.00000, -122.9742...  \n",
       "USA     MULTIPOLYGON (((-122.84000 49.00000, -120.0000...  "
      ]
     },
     "execution_count": 32,
     "metadata": {},
     "output_type": "execute_result"
    }
   ],
   "source": [
    "# Grab low resolution world file\n",
    "world = gpd.read_file(gpd.datasets.get_path(\"naturalearth_lowres\"))\n",
    "world = world.set_index(\"iso_a3\")\n",
    "\n",
    "world.head()"
   ]
  },
  {
   "cell_type": "code",
   "execution_count": 33,
   "id": "1d82a032-c7ec-40a4-a16e-fd94a3e63d5f",
   "metadata": {
    "scrolled": true,
    "tags": []
   },
   "outputs": [
    {
     "data": {
      "text/html": [
       "<div>\n",
       "<style scoped>\n",
       "    .dataframe tbody tr th:only-of-type {\n",
       "        vertical-align: middle;\n",
       "    }\n",
       "\n",
       "    .dataframe tbody tr th {\n",
       "        vertical-align: top;\n",
       "    }\n",
       "\n",
       "    .dataframe thead th {\n",
       "        text-align: right;\n",
       "    }\n",
       "</style>\n",
       "<table border=\"1\" class=\"dataframe\">\n",
       "  <thead>\n",
       "    <tr style=\"text-align: right;\">\n",
       "      <th></th>\n",
       "      <th>title</th>\n",
       "      <th>location</th>\n",
       "      <th>highest_speaker_count</th>\n",
       "      <th>country</th>\n",
       "      <th>city</th>\n",
       "      <th>specific_location</th>\n",
       "      <th>date</th>\n",
       "      <th>stanza</th>\n",
       "      <th>textblob</th>\n",
       "      <th>vader</th>\n",
       "      <th>...</th>\n",
       "      <th>geo_location</th>\n",
       "      <th>point</th>\n",
       "      <th>latitude</th>\n",
       "      <th>longitude</th>\n",
       "      <th>Coordinates</th>\n",
       "      <th>pop_est</th>\n",
       "      <th>continent</th>\n",
       "      <th>name</th>\n",
       "      <th>gdp_md_est</th>\n",
       "      <th>geometry</th>\n",
       "    </tr>\n",
       "  </thead>\n",
       "  <tbody>\n",
       "    <tr>\n",
       "      <th>0</th>\n",
       "      <td>Prayer_Breakfast_2016</td>\n",
       "      <td>Washington Hilton, Washington D.C.</td>\n",
       "      <td>0</td>\n",
       "      <td>United States of America</td>\n",
       "      <td>Washington D.C.</td>\n",
       "      <td>Washington Hilton</td>\n",
       "      <td>2016-02-04</td>\n",
       "      <td>0.099</td>\n",
       "      <td>0.178</td>\n",
       "      <td>1.000</td>\n",
       "      <td>...</td>\n",
       "      <td>(Washington Hilton, 1919, Connecticut Avenue N...</td>\n",
       "      <td>(38.9165229, -77.0452084, 0.0)</td>\n",
       "      <td>38.916523</td>\n",
       "      <td>-77.045208</td>\n",
       "      <td>(-77.0452084, 38.9165229)</td>\n",
       "      <td>326625791</td>\n",
       "      <td>North America</td>\n",
       "      <td>United States of America</td>\n",
       "      <td>18560000.0</td>\n",
       "      <td>MULTIPOLYGON (((-122.84000 49.00000, -120.0000...</td>\n",
       "    </tr>\n",
       "    <tr>\n",
       "      <th>1</th>\n",
       "      <td>Security_Team_Announcement</td>\n",
       "      <td>Chicago, Illinois</td>\n",
       "      <td>0</td>\n",
       "      <td>United States of America</td>\n",
       "      <td>Chicago</td>\n",
       "      <td>no_specific_location</td>\n",
       "      <td>2008-12-01</td>\n",
       "      <td>0.140</td>\n",
       "      <td>0.162</td>\n",
       "      <td>0.998</td>\n",
       "      <td>...</td>\n",
       "      <td>(Chicago, Cook County, Illinois, United States...</td>\n",
       "      <td>(41.8755616, -87.6244212, 0.0)</td>\n",
       "      <td>41.875562</td>\n",
       "      <td>-87.624421</td>\n",
       "      <td>(-87.6244212, 41.8755616)</td>\n",
       "      <td>326625791</td>\n",
       "      <td>North America</td>\n",
       "      <td>United States of America</td>\n",
       "      <td>18560000.0</td>\n",
       "      <td>MULTIPOLYGON (((-122.84000 49.00000, -120.0000...</td>\n",
       "    </tr>\n",
       "    <tr>\n",
       "      <th>2</th>\n",
       "      <td>Umpqua_Community_College_Shootings</td>\n",
       "      <td>Washington D.C.</td>\n",
       "      <td>0</td>\n",
       "      <td>United States of America</td>\n",
       "      <td>Washington D.C.</td>\n",
       "      <td>no_specific_location</td>\n",
       "      <td>2015-10-01</td>\n",
       "      <td>-0.250</td>\n",
       "      <td>0.061</td>\n",
       "      <td>-0.998</td>\n",
       "      <td>...</td>\n",
       "      <td>(Washington, District of Columbia, United Stat...</td>\n",
       "      <td>(38.8950368, -77.0365427, 0.0)</td>\n",
       "      <td>38.895037</td>\n",
       "      <td>-77.036543</td>\n",
       "      <td>(-77.0365427, 38.8950368)</td>\n",
       "      <td>326625791</td>\n",
       "      <td>North America</td>\n",
       "      <td>United States of America</td>\n",
       "      <td>18560000.0</td>\n",
       "      <td>MULTIPOLYGON (((-122.84000 49.00000, -120.0000...</td>\n",
       "    </tr>\n",
       "    <tr>\n",
       "      <th>3</th>\n",
       "      <td>White_House_Correspondent_Dinner_2013</td>\n",
       "      <td>Washington Hilton Hotel, Washington D.C.</td>\n",
       "      <td>0</td>\n",
       "      <td>United States of America</td>\n",
       "      <td>Washington D.C.</td>\n",
       "      <td>Washington Hilton Hotel</td>\n",
       "      <td>2013-04-27</td>\n",
       "      <td>-0.012</td>\n",
       "      <td>0.145</td>\n",
       "      <td>1.000</td>\n",
       "      <td>...</td>\n",
       "      <td>(Washington Hilton, 1919, Connecticut Avenue N...</td>\n",
       "      <td>(38.9165229, -77.0452084, 0.0)</td>\n",
       "      <td>38.916523</td>\n",
       "      <td>-77.045208</td>\n",
       "      <td>(-77.0452084, 38.9165229)</td>\n",
       "      <td>326625791</td>\n",
       "      <td>North America</td>\n",
       "      <td>United States of America</td>\n",
       "      <td>18560000.0</td>\n",
       "      <td>MULTIPOLYGON (((-122.84000 49.00000, -120.0000...</td>\n",
       "    </tr>\n",
       "    <tr>\n",
       "      <th>4</th>\n",
       "      <td>Border_Security_and_Immigration_Reform</td>\n",
       "      <td>unknown_location</td>\n",
       "      <td>0</td>\n",
       "      <td>United States of America</td>\n",
       "      <td>Washington D.C.</td>\n",
       "      <td>White House</td>\n",
       "      <td>2014-06-30</td>\n",
       "      <td>-0.177</td>\n",
       "      <td>0.145</td>\n",
       "      <td>0.999</td>\n",
       "      <td>...</td>\n",
       "      <td>(unknown, Gachoire Kiawambe, Nyanduma Sub  Loc...</td>\n",
       "      <td>(-0.9999454, 36.7416612, 0.0)</td>\n",
       "      <td>-0.999945</td>\n",
       "      <td>36.741661</td>\n",
       "      <td>(36.7416612, -0.9999454)</td>\n",
       "      <td>326625791</td>\n",
       "      <td>North America</td>\n",
       "      <td>United States of America</td>\n",
       "      <td>18560000.0</td>\n",
       "      <td>MULTIPOLYGON (((-122.84000 49.00000, -120.0000...</td>\n",
       "    </tr>\n",
       "  </tbody>\n",
       "</table>\n",
       "<p>5 rows × 22 columns</p>\n",
       "</div>"
      ],
      "text/plain": [
       "                                    title  \\\n",
       "0                   Prayer_Breakfast_2016   \n",
       "1              Security_Team_Announcement   \n",
       "2      Umpqua_Community_College_Shootings   \n",
       "3   White_House_Correspondent_Dinner_2013   \n",
       "4  Border_Security_and_Immigration_Reform   \n",
       "\n",
       "                                   location  highest_speaker_count  \\\n",
       "0        Washington Hilton, Washington D.C.                      0   \n",
       "1                         Chicago, Illinois                      0   \n",
       "2                           Washington D.C.                      0   \n",
       "3  Washington Hilton Hotel, Washington D.C.                      0   \n",
       "4                          unknown_location                      0   \n",
       "\n",
       "                    country             city        specific_location  \\\n",
       "0  United States of America  Washington D.C.        Washington Hilton   \n",
       "1  United States of America          Chicago     no_specific_location   \n",
       "2  United States of America  Washington D.C.     no_specific_location   \n",
       "3  United States of America  Washington D.C.  Washington Hilton Hotel   \n",
       "4  United States of America  Washington D.C.              White House   \n",
       "\n",
       "         date  stanza  textblob  vader  ...  \\\n",
       "0  2016-02-04   0.099     0.178  1.000  ...   \n",
       "1  2008-12-01   0.140     0.162  0.998  ...   \n",
       "2  2015-10-01  -0.250     0.061 -0.998  ...   \n",
       "3  2013-04-27  -0.012     0.145  1.000  ...   \n",
       "4  2014-06-30  -0.177     0.145  0.999  ...   \n",
       "\n",
       "                                        geo_location  \\\n",
       "0  (Washington Hilton, 1919, Connecticut Avenue N...   \n",
       "1  (Chicago, Cook County, Illinois, United States...   \n",
       "2  (Washington, District of Columbia, United Stat...   \n",
       "3  (Washington Hilton, 1919, Connecticut Avenue N...   \n",
       "4  (unknown, Gachoire Kiawambe, Nyanduma Sub  Loc...   \n",
       "\n",
       "                            point   latitude  longitude  \\\n",
       "0  (38.9165229, -77.0452084, 0.0)  38.916523 -77.045208   \n",
       "1  (41.8755616, -87.6244212, 0.0)  41.875562 -87.624421   \n",
       "2  (38.8950368, -77.0365427, 0.0)  38.895037 -77.036543   \n",
       "3  (38.9165229, -77.0452084, 0.0)  38.916523 -77.045208   \n",
       "4   (-0.9999454, 36.7416612, 0.0)  -0.999945  36.741661   \n",
       "\n",
       "                 Coordinates    pop_est      continent  \\\n",
       "0  (-77.0452084, 38.9165229)  326625791  North America   \n",
       "1  (-87.6244212, 41.8755616)  326625791  North America   \n",
       "2  (-77.0365427, 38.8950368)  326625791  North America   \n",
       "3  (-77.0452084, 38.9165229)  326625791  North America   \n",
       "4   (36.7416612, -0.9999454)  326625791  North America   \n",
       "\n",
       "                       name  gdp_md_est  \\\n",
       "0  United States of America  18560000.0   \n",
       "1  United States of America  18560000.0   \n",
       "2  United States of America  18560000.0   \n",
       "3  United States of America  18560000.0   \n",
       "4  United States of America  18560000.0   \n",
       "\n",
       "                                            geometry  \n",
       "0  MULTIPOLYGON (((-122.84000 49.00000, -120.0000...  \n",
       "1  MULTIPOLYGON (((-122.84000 49.00000, -120.0000...  \n",
       "2  MULTIPOLYGON (((-122.84000 49.00000, -120.0000...  \n",
       "3  MULTIPOLYGON (((-122.84000 49.00000, -120.0000...  \n",
       "4  MULTIPOLYGON (((-122.84000 49.00000, -120.0000...  \n",
       "\n",
       "[5 rows x 22 columns]"
      ]
     },
     "execution_count": 33,
     "metadata": {},
     "output_type": "execute_result"
    }
   ],
   "source": [
    "# To see Per Country\n",
    "df_w_wrld = df.merge(world, left_on = 'country', right_on='name', how='inner')\n",
    "df_w_wrld = df_w_wrld.drop(columns = 'geometry_x')\n",
    "df_w_wrld.rename(columns = {'geometry_y' : 'geometry'}, inplace = True)\n",
    "\n",
    "gdf_cntry = gpd.GeoDataFrame(df_w_wrld, crs=\"EPSG:4326\")\n",
    "gdf_cntry.head()"
   ]
  },
  {
   "cell_type": "markdown",
   "id": "97a54540-55b4-47c3-98de-268f2be3bfe3",
   "metadata": {},
   "source": [
    "## GeoDataFrame"
   ]
  },
  {
   "cell_type": "code",
   "execution_count": 88,
   "id": "d79bd24c-20e1-4818-9892-37ebf5cddbe6",
   "metadata": {
    "scrolled": true,
    "tags": []
   },
   "outputs": [
    {
     "data": {
      "text/html": [
       "<div>\n",
       "<style scoped>\n",
       "    .dataframe tbody tr th:only-of-type {\n",
       "        vertical-align: middle;\n",
       "    }\n",
       "\n",
       "    .dataframe tbody tr th {\n",
       "        vertical-align: top;\n",
       "    }\n",
       "\n",
       "    .dataframe thead th {\n",
       "        text-align: right;\n",
       "    }\n",
       "</style>\n",
       "<table border=\"1\" class=\"dataframe\">\n",
       "  <thead>\n",
       "    <tr style=\"text-align: right;\">\n",
       "      <th></th>\n",
       "      <th>title</th>\n",
       "      <th>location</th>\n",
       "      <th>highest_speaker_count</th>\n",
       "      <th>country</th>\n",
       "      <th>city</th>\n",
       "      <th>specific_location</th>\n",
       "      <th>date</th>\n",
       "      <th>stanza</th>\n",
       "      <th>textblob</th>\n",
       "      <th>vader</th>\n",
       "      <th>subjectivity</th>\n",
       "      <th>Topic</th>\n",
       "      <th>geo_location</th>\n",
       "      <th>point</th>\n",
       "      <th>latitude</th>\n",
       "      <th>longitude</th>\n",
       "      <th>Coordinates</th>\n",
       "      <th>geometry</th>\n",
       "      <th>weighted</th>\n",
       "      <th>stanza_og</th>\n",
       "    </tr>\n",
       "  </thead>\n",
       "  <tbody>\n",
       "    <tr>\n",
       "      <th>0</th>\n",
       "      <td>Prayer_Breakfast_2016</td>\n",
       "      <td>Washington Hilton, Washington D.C.</td>\n",
       "      <td>0</td>\n",
       "      <td>United States of America</td>\n",
       "      <td>Washington D.C.</td>\n",
       "      <td>Washington Hilton</td>\n",
       "      <td>2016-02-04</td>\n",
       "      <td>0.099</td>\n",
       "      <td>0.178</td>\n",
       "      <td>1.000</td>\n",
       "      <td>0.542</td>\n",
       "      <td>Topic 21</td>\n",
       "      <td>(Washington Hilton, 1919, Connecticut Avenue N...</td>\n",
       "      <td>(38.9165229, -77.0452084, 0.0)</td>\n",
       "      <td>38.916523</td>\n",
       "      <td>-77.045208</td>\n",
       "      <td>(-77.0452084, 38.9165229)</td>\n",
       "      <td>POINT (-77.04521 38.91652)</td>\n",
       "      <td>1.542000</td>\n",
       "      <td>1000.0</td>\n",
       "    </tr>\n",
       "    <tr>\n",
       "      <th>1</th>\n",
       "      <td>Security_Team_Announcement</td>\n",
       "      <td>Chicago, Illinois</td>\n",
       "      <td>0</td>\n",
       "      <td>United States of America</td>\n",
       "      <td>Chicago</td>\n",
       "      <td>no_specific_location</td>\n",
       "      <td>2008-12-01</td>\n",
       "      <td>0.140</td>\n",
       "      <td>0.162</td>\n",
       "      <td>0.998</td>\n",
       "      <td>0.403</td>\n",
       "      <td>Topic 10</td>\n",
       "      <td>(Chicago, Cook County, Illinois, United States...</td>\n",
       "      <td>(41.8755616, -87.6244212, 0.0)</td>\n",
       "      <td>41.875562</td>\n",
       "      <td>-87.624421</td>\n",
       "      <td>(-87.6244212, 41.8755616)</td>\n",
       "      <td>POINT (-87.62442 41.87556)</td>\n",
       "      <td>1.402194</td>\n",
       "      <td>999.0</td>\n",
       "    </tr>\n",
       "    <tr>\n",
       "      <th>2</th>\n",
       "      <td>Cairo_University</td>\n",
       "      <td>Cairo, Egypt</td>\n",
       "      <td>0</td>\n",
       "      <td>Egypt</td>\n",
       "      <td>Cairo</td>\n",
       "      <td>no_specific_location</td>\n",
       "      <td>2009-06-04</td>\n",
       "      <td>-0.150</td>\n",
       "      <td>0.110</td>\n",
       "      <td>1.000</td>\n",
       "      <td>0.457</td>\n",
       "      <td>Topic 22</td>\n",
       "      <td>(القاهرة, 11519, مصر, (30.0443879, 31.2357257))</td>\n",
       "      <td>(30.0443879, 31.2357257, 0.0)</td>\n",
       "      <td>30.044388</td>\n",
       "      <td>31.235726</td>\n",
       "      <td>(31.2357257, 30.0443879)</td>\n",
       "      <td>POINT (31.23573 30.04439)</td>\n",
       "      <td>1.457000</td>\n",
       "      <td>1000.0</td>\n",
       "    </tr>\n",
       "    <tr>\n",
       "      <th>3</th>\n",
       "      <td>Umpqua_Community_College_Shootings</td>\n",
       "      <td>Washington D.C.</td>\n",
       "      <td>0</td>\n",
       "      <td>United States of America</td>\n",
       "      <td>Washington D.C.</td>\n",
       "      <td>no_specific_location</td>\n",
       "      <td>2015-10-01</td>\n",
       "      <td>-0.250</td>\n",
       "      <td>0.061</td>\n",
       "      <td>-0.998</td>\n",
       "      <td>0.435</td>\n",
       "      <td>Topic 7</td>\n",
       "      <td>(Washington, District of Columbia, United Stat...</td>\n",
       "      <td>(38.8950368, -77.0365427, 0.0)</td>\n",
       "      <td>38.895037</td>\n",
       "      <td>-77.036543</td>\n",
       "      <td>(-77.0365427, 38.8950368)</td>\n",
       "      <td>POINT (-77.03654 38.89504)</td>\n",
       "      <td>0.565870</td>\n",
       "      <td>1.0</td>\n",
       "    </tr>\n",
       "    <tr>\n",
       "      <th>4</th>\n",
       "      <td>White_House_Correspondent_Dinner_2013</td>\n",
       "      <td>Washington Hilton Hotel, Washington D.C.</td>\n",
       "      <td>0</td>\n",
       "      <td>United States of America</td>\n",
       "      <td>Washington D.C.</td>\n",
       "      <td>Washington Hilton Hotel</td>\n",
       "      <td>2013-04-27</td>\n",
       "      <td>-0.012</td>\n",
       "      <td>0.145</td>\n",
       "      <td>1.000</td>\n",
       "      <td>0.501</td>\n",
       "      <td>Topic 23</td>\n",
       "      <td>(Washington Hilton, 1919, Connecticut Avenue N...</td>\n",
       "      <td>(38.9165229, -77.0452084, 0.0)</td>\n",
       "      <td>38.916523</td>\n",
       "      <td>-77.045208</td>\n",
       "      <td>(-77.0452084, 38.9165229)</td>\n",
       "      <td>POINT (-77.04521 38.91652)</td>\n",
       "      <td>1.501000</td>\n",
       "      <td>1000.0</td>\n",
       "    </tr>\n",
       "    <tr>\n",
       "      <th>...</th>\n",
       "      <td>...</td>\n",
       "      <td>...</td>\n",
       "      <td>...</td>\n",
       "      <td>...</td>\n",
       "      <td>...</td>\n",
       "      <td>...</td>\n",
       "      <td>...</td>\n",
       "      <td>...</td>\n",
       "      <td>...</td>\n",
       "      <td>...</td>\n",
       "      <td>...</td>\n",
       "      <td>...</td>\n",
       "      <td>...</td>\n",
       "      <td>...</td>\n",
       "      <td>...</td>\n",
       "      <td>...</td>\n",
       "      <td>...</td>\n",
       "      <td>...</td>\n",
       "      <td>...</td>\n",
       "      <td>...</td>\n",
       "    </tr>\n",
       "    <tr>\n",
       "      <th>341</th>\n",
       "      <td>Shimon_Peres_Memorial</td>\n",
       "      <td>Mount Herzl, Jerusalem, Israel</td>\n",
       "      <td>0</td>\n",
       "      <td>Israel</td>\n",
       "      <td>Jerusalem</td>\n",
       "      <td>Mount Herzl</td>\n",
       "      <td>2016-09-30</td>\n",
       "      <td>-0.083</td>\n",
       "      <td>0.164</td>\n",
       "      <td>1.000</td>\n",
       "      <td>0.436</td>\n",
       "      <td>Topic 12</td>\n",
       "      <td>(הר הרצל, הזיכרון, יפה נוף, ירושלים, נפת ירושל...</td>\n",
       "      <td>(31.772361150000002, 35.181634190650314, 0.0)</td>\n",
       "      <td>31.772361</td>\n",
       "      <td>35.181634</td>\n",
       "      <td>(35.181634190650314, 31.77236115)</td>\n",
       "      <td>POINT (35.18163 31.77236)</td>\n",
       "      <td>1.436000</td>\n",
       "      <td>1000.0</td>\n",
       "    </tr>\n",
       "    <tr>\n",
       "      <th>342</th>\n",
       "      <td>ASEAN_Business_2015</td>\n",
       "      <td>Shangri-La Hotel, Kuala Lumpur, Malaysia</td>\n",
       "      <td>0</td>\n",
       "      <td>Malaysia</td>\n",
       "      <td>Kuala Lumpur</td>\n",
       "      <td>Shangri-La Hotel</td>\n",
       "      <td>2015-11-21</td>\n",
       "      <td>-0.050</td>\n",
       "      <td>0.164</td>\n",
       "      <td>1.000</td>\n",
       "      <td>0.399</td>\n",
       "      <td>Topic 16</td>\n",
       "      <td>(Shangri-La Hotel, 11, Jalan Sultan Ismail, Bu...</td>\n",
       "      <td>(3.1541698, 101.7064587, 0.0)</td>\n",
       "      <td>3.154170</td>\n",
       "      <td>101.706459</td>\n",
       "      <td>(101.7064587, 3.1541698)</td>\n",
       "      <td>POINT (101.70646 3.15417)</td>\n",
       "      <td>1.399000</td>\n",
       "      <td>1000.0</td>\n",
       "    </tr>\n",
       "    <tr>\n",
       "      <th>343</th>\n",
       "      <td>Finance_Crisis_Fee</td>\n",
       "      <td>unknown_location</td>\n",
       "      <td>0</td>\n",
       "      <td>United States of America</td>\n",
       "      <td>Washington D.C.</td>\n",
       "      <td>White House</td>\n",
       "      <td>2010-01-14</td>\n",
       "      <td>-0.412</td>\n",
       "      <td>0.080</td>\n",
       "      <td>0.987</td>\n",
       "      <td>0.436</td>\n",
       "      <td>Topic 19</td>\n",
       "      <td>(unknown, Gachoire Kiawambe, Nyanduma Sub  Loc...</td>\n",
       "      <td>(-0.9999454, 36.7416612, 0.0)</td>\n",
       "      <td>-0.999945</td>\n",
       "      <td>36.741661</td>\n",
       "      <td>(36.7416612, -0.9999454)</td>\n",
       "      <td>POINT (36.74166 -0.99995)</td>\n",
       "      <td>1.430332</td>\n",
       "      <td>993.5</td>\n",
       "    </tr>\n",
       "    <tr>\n",
       "      <th>344</th>\n",
       "      <td>Oval_Office_Counter_Terrorism_Agenda</td>\n",
       "      <td>White House, Washington D.C.</td>\n",
       "      <td>0</td>\n",
       "      <td>United States of America</td>\n",
       "      <td>Washington D.C.</td>\n",
       "      <td>White House</td>\n",
       "      <td>2015-12-06</td>\n",
       "      <td>-0.134</td>\n",
       "      <td>0.076</td>\n",
       "      <td>-1.000</td>\n",
       "      <td>0.398</td>\n",
       "      <td>Topic 4</td>\n",
       "      <td>(White House, 1600, Pennsylvania Avenue Northw...</td>\n",
       "      <td>(38.897699700000004, -77.03655315, 0.0)</td>\n",
       "      <td>38.897700</td>\n",
       "      <td>-77.036553</td>\n",
       "      <td>(-77.03655315, 38.8976997)</td>\n",
       "      <td>POINT (-77.03655 38.89770)</td>\n",
       "      <td>0.602000</td>\n",
       "      <td>0.0</td>\n",
       "    </tr>\n",
       "    <tr>\n",
       "      <th>345</th>\n",
       "      <td>Michigan_University_Commencement</td>\n",
       "      <td>unknown_location</td>\n",
       "      <td>0</td>\n",
       "      <td>United States of America</td>\n",
       "      <td>New York</td>\n",
       "      <td>Clinton Global Initiative on Human Trafficking</td>\n",
       "      <td>2010-05-01</td>\n",
       "      <td>-0.152</td>\n",
       "      <td>0.121</td>\n",
       "      <td>1.000</td>\n",
       "      <td>0.496</td>\n",
       "      <td>Topic 23</td>\n",
       "      <td>(unknown, Gachoire Kiawambe, Nyanduma Sub  Loc...</td>\n",
       "      <td>(-0.9999454, 36.7416612, 0.0)</td>\n",
       "      <td>-0.999945</td>\n",
       "      <td>36.741661</td>\n",
       "      <td>(36.7416612, -0.9999454)</td>\n",
       "      <td>POINT (36.74166 -0.99995)</td>\n",
       "      <td>1.496000</td>\n",
       "      <td>1000.0</td>\n",
       "    </tr>\n",
       "  </tbody>\n",
       "</table>\n",
       "<p>346 rows × 20 columns</p>\n",
       "</div>"
      ],
      "text/plain": [
       "                                     title  \\\n",
       "0                    Prayer_Breakfast_2016   \n",
       "1               Security_Team_Announcement   \n",
       "2                         Cairo_University   \n",
       "3       Umpqua_Community_College_Shootings   \n",
       "4    White_House_Correspondent_Dinner_2013   \n",
       "..                                     ...   \n",
       "341                  Shimon_Peres_Memorial   \n",
       "342                    ASEAN_Business_2015   \n",
       "343                     Finance_Crisis_Fee   \n",
       "344   Oval_Office_Counter_Terrorism_Agenda   \n",
       "345       Michigan_University_Commencement   \n",
       "\n",
       "                                     location  highest_speaker_count  \\\n",
       "0          Washington Hilton, Washington D.C.                      0   \n",
       "1                           Chicago, Illinois                      0   \n",
       "2                                Cairo, Egypt                      0   \n",
       "3                             Washington D.C.                      0   \n",
       "4    Washington Hilton Hotel, Washington D.C.                      0   \n",
       "..                                        ...                    ...   \n",
       "341            Mount Herzl, Jerusalem, Israel                      0   \n",
       "342  Shangri-La Hotel, Kuala Lumpur, Malaysia                      0   \n",
       "343                          unknown_location                      0   \n",
       "344              White House, Washington D.C.                      0   \n",
       "345                          unknown_location                      0   \n",
       "\n",
       "                      country             city  \\\n",
       "0    United States of America  Washington D.C.   \n",
       "1    United States of America          Chicago   \n",
       "2                       Egypt            Cairo   \n",
       "3    United States of America  Washington D.C.   \n",
       "4    United States of America  Washington D.C.   \n",
       "..                        ...              ...   \n",
       "341                    Israel        Jerusalem   \n",
       "342                  Malaysia     Kuala Lumpur   \n",
       "343  United States of America  Washington D.C.   \n",
       "344  United States of America  Washington D.C.   \n",
       "345  United States of America         New York   \n",
       "\n",
       "                                  specific_location        date  stanza  \\\n",
       "0                                 Washington Hilton  2016-02-04   0.099   \n",
       "1                              no_specific_location  2008-12-01   0.140   \n",
       "2                              no_specific_location  2009-06-04  -0.150   \n",
       "3                              no_specific_location  2015-10-01  -0.250   \n",
       "4                           Washington Hilton Hotel  2013-04-27  -0.012   \n",
       "..                                              ...         ...     ...   \n",
       "341                                     Mount Herzl  2016-09-30  -0.083   \n",
       "342                                Shangri-La Hotel  2015-11-21  -0.050   \n",
       "343                                     White House  2010-01-14  -0.412   \n",
       "344                                     White House  2015-12-06  -0.134   \n",
       "345  Clinton Global Initiative on Human Trafficking  2010-05-01  -0.152   \n",
       "\n",
       "     textblob  vader  subjectivity     Topic  \\\n",
       "0       0.178  1.000         0.542  Topic 21   \n",
       "1       0.162  0.998         0.403  Topic 10   \n",
       "2       0.110  1.000         0.457  Topic 22   \n",
       "3       0.061 -0.998         0.435   Topic 7   \n",
       "4       0.145  1.000         0.501  Topic 23   \n",
       "..        ...    ...           ...       ...   \n",
       "341     0.164  1.000         0.436  Topic 12   \n",
       "342     0.164  1.000         0.399  Topic 16   \n",
       "343     0.080  0.987         0.436  Topic 19   \n",
       "344     0.076 -1.000         0.398   Topic 4   \n",
       "345     0.121  1.000         0.496  Topic 23   \n",
       "\n",
       "                                          geo_location  \\\n",
       "0    (Washington Hilton, 1919, Connecticut Avenue N...   \n",
       "1    (Chicago, Cook County, Illinois, United States...   \n",
       "2      (القاهرة, 11519, مصر, (30.0443879, 31.2357257))   \n",
       "3    (Washington, District of Columbia, United Stat...   \n",
       "4    (Washington Hilton, 1919, Connecticut Avenue N...   \n",
       "..                                                 ...   \n",
       "341  (הר הרצל, הזיכרון, יפה נוף, ירושלים, נפת ירושל...   \n",
       "342  (Shangri-La Hotel, 11, Jalan Sultan Ismail, Bu...   \n",
       "343  (unknown, Gachoire Kiawambe, Nyanduma Sub  Loc...   \n",
       "344  (White House, 1600, Pennsylvania Avenue Northw...   \n",
       "345  (unknown, Gachoire Kiawambe, Nyanduma Sub  Loc...   \n",
       "\n",
       "                                             point   latitude   longitude  \\\n",
       "0                   (38.9165229, -77.0452084, 0.0)  38.916523  -77.045208   \n",
       "1                   (41.8755616, -87.6244212, 0.0)  41.875562  -87.624421   \n",
       "2                    (30.0443879, 31.2357257, 0.0)  30.044388   31.235726   \n",
       "3                   (38.8950368, -77.0365427, 0.0)  38.895037  -77.036543   \n",
       "4                   (38.9165229, -77.0452084, 0.0)  38.916523  -77.045208   \n",
       "..                                             ...        ...         ...   \n",
       "341  (31.772361150000002, 35.181634190650314, 0.0)  31.772361   35.181634   \n",
       "342                  (3.1541698, 101.7064587, 0.0)   3.154170  101.706459   \n",
       "343                  (-0.9999454, 36.7416612, 0.0)  -0.999945   36.741661   \n",
       "344        (38.897699700000004, -77.03655315, 0.0)  38.897700  -77.036553   \n",
       "345                  (-0.9999454, 36.7416612, 0.0)  -0.999945   36.741661   \n",
       "\n",
       "                           Coordinates                    geometry  weighted  \\\n",
       "0            (-77.0452084, 38.9165229)  POINT (-77.04521 38.91652)  1.542000   \n",
       "1            (-87.6244212, 41.8755616)  POINT (-87.62442 41.87556)  1.402194   \n",
       "2             (31.2357257, 30.0443879)   POINT (31.23573 30.04439)  1.457000   \n",
       "3            (-77.0365427, 38.8950368)  POINT (-77.03654 38.89504)  0.565870   \n",
       "4            (-77.0452084, 38.9165229)  POINT (-77.04521 38.91652)  1.501000   \n",
       "..                                 ...                         ...       ...   \n",
       "341  (35.181634190650314, 31.77236115)   POINT (35.18163 31.77236)  1.436000   \n",
       "342           (101.7064587, 3.1541698)   POINT (101.70646 3.15417)  1.399000   \n",
       "343           (36.7416612, -0.9999454)   POINT (36.74166 -0.99995)  1.430332   \n",
       "344         (-77.03655315, 38.8976997)  POINT (-77.03655 38.89770)  0.602000   \n",
       "345           (36.7416612, -0.9999454)   POINT (36.74166 -0.99995)  1.496000   \n",
       "\n",
       "     stanza_og  \n",
       "0       1000.0  \n",
       "1        999.0  \n",
       "2       1000.0  \n",
       "3          1.0  \n",
       "4       1000.0  \n",
       "..         ...  \n",
       "341     1000.0  \n",
       "342     1000.0  \n",
       "343      993.5  \n",
       "344        0.0  \n",
       "345     1000.0  \n",
       "\n",
       "[346 rows x 20 columns]"
      ]
     },
     "execution_count": 88,
     "metadata": {},
     "output_type": "execute_result"
    }
   ],
   "source": [
    "df['weighted'] = df['vader']*df['subjectivity']+1\n",
    "df['main_topic_1_index'] = df['main_topic_1_index'].replace([0, 1, 2, 3, 4, 5, 6, 7, 8, 9, 10, 11, 12, 13, 14, 15, 16, 17, 18, 19, 20, 21, 22, 23, 24],\n",
    "                                                            ['Topic 1','Topic 2','Topic 3','Topic 4','Topic 5','Topic 6','Topic 7','Topic 8', 'Topic 9', \n",
    "                                                             'Topic 10', 'Topic 11', 'Topic 12', 'Topic 13', 'Topic 14', 'Topic 15','Topic 16', 'Topic 17', \n",
    "                                                             'Topic 18', 'Topic 19', 'Topic 20', 'Topic 21', 'Topic 22', 'Topic 23', 'Topic 24', 'Topic 25'])\n",
    "df.rename(columns = {'main_topic_1_index': 'Topic'}, inplace=True)\n",
    "\n",
    "gdf = gpd.GeoDataFrame(df, crs=\"EPSG:4326\")\n",
    "gdf"
   ]
  },
  {
   "cell_type": "markdown",
   "id": "abf3a562-35fb-4793-ac03-0c0b74ac074f",
   "metadata": {},
   "source": [
    "# Where Were the Speeches?"
   ]
  },
  {
   "cell_type": "markdown",
   "id": "ac101280-aa70-49cc-a16a-5c80986554c4",
   "metadata": {},
   "source": [
    "https://plotly.com/python/scatter-plots-on-maps/"
   ]
  },
  {
   "cell_type": "code",
   "execution_count": 89,
   "id": "dec86fb1-c8db-4e65-837e-288fc8bebdca",
   "metadata": {},
   "outputs": [
    {
     "data": {
      "application/vnd.plotly.v1+json": {
       "config": {
        "plotlyServerURL": "https://plot.ly"
       },
       "data": [
        {
         "customdata": [
          [
           38.9165229,
           -77.0452084,
           "Washington Hilton, Washington D.C.",
           0.099
          ],
          [
           38.8950368,
           -77.0365427,
           "Washington D.C.",
           -0.075
          ],
          [
           26.64469215,
           -81.871826378728,
           "Harborside Event Center, Fort Myers, Florida",
           0.022
          ],
          [
           -0.9999454,
           36.7416612,
           "unknown_location",
           -0.182
          ],
          [
           41.412387,
           -73.31153913634024,
           "Newtown, Connecticut",
           -0.054
          ],
          [
           -0.9999454,
           36.7416612,
           "unknown_location",
           -0.148
          ],
          [
           38.8976997,
           -77.03655315,
           "White House, Washington D.C.",
           -0.157
          ],
          [
           null,
           null,
           "The Marine Barracks, Washington D.C.",
           -0.119
          ],
          [
           -0.9999454,
           36.7416612,
           "unknown_location",
           0.055
          ],
          [
           -0.9999454,
           36.7416612,
           "unknown_location",
           -0.04
          ],
          [
           -0.9999454,
           36.7416612,
           "unknown_location",
           -0.059
          ],
          [
           38.8976997,
           -77.03655315,
           "White House, Washington D.C.",
           0.143
          ],
          [
           null,
           null,
           "University of Baylor, Waco, Texas",
           -0.052
          ],
          [
           38.93065095,
           -77.07059515120122,
           "Washington National Cathedral, Washington D.C.",
           0.035
          ],
          [
           38.8903961,
           -77.0841585,
           "Arlington, Virginia",
           0.024
          ],
          [
           -0.9999454,
           36.7416612,
           "unknown_location",
           -0.053
          ],
          [
           38.8950368,
           -77.0365427,
           "Washington D.C.",
           -0.042
          ],
          [
           null,
           null,
           "Phillips Center for the Performing Arts, Orlando, Florida",
           -0.03
          ],
          [
           null,
           null,
           "Our Lady of Perpetual Help Basilica, Boston",
           0.065
          ],
          [
           42.3602534,
           -71.0582912,
           "Boston, Massachusetts",
           0.067
          ],
          [
           -0.9999454,
           36.7416612,
           "unknown_location",
           0.036
          ],
          [
           38.8950368,
           -77.0365427,
           "Washington D.C.",
           -0.128
          ],
          [
           37.09536065,
           -94.45764031637654,
           "Missouri Southern University, Joplin Missouri",
           -0.06
          ],
          [
           -0.9999454,
           36.7416612,
           "unknown_location",
           -0.117
          ],
          [
           null,
           null,
           "McKale Memorial Center, University of Arizona, Tucson",
           0.02
          ],
          [
           32.7844246,
           -79.93811493945894,
           "College of Charleston, Charleston, South Carolina",
           -0.082
          ],
          [
           38.3363062,
           -81.61227444920297,
           "West Virginia State Capitol, Charleston, West Virginia",
           0.18
          ],
          [
           21.48343645,
           -158.03648372697478,
           "Oahu, Hawaii",
           0.043
          ],
          [
           37.7781702,
           -81.1881557,
           "Beckley, West Virginia",
           -0.042
          ],
          [
           38.8976997,
           -77.03655315,
           "White House, Washington D.C.",
           0
          ],
          [
           null,
           null,
           "St. Anthony of Padua Church Wilmington, Delaware",
           -0.043
          ],
          [
           -0.9999454,
           36.7416612,
           "unknown_location",
           0.06
          ],
          [
           null,
           null,
           "U.S. Capitol Western Front, Washington D.C.",
           -0.133
          ],
          [
           38.8903961,
           -77.0841585,
           "Arlington, Virginia",
           0.083
          ],
          [
           -0.9999454,
           36.7416612,
           "unknown_location",
           -0.052
          ]
         ],
         "geo": "geo",
         "hovertemplate": "<b>%{hovertext}</b><br><br>Topic=Topic 21<br>location=%{customdata[2]}<br>stanza=%{customdata[3]}<extra></extra>",
         "hovertext": [
          "Prayer_Breakfast_2016",
          "Holocaust_Days_of_Remembrance",
          "Aurora_Tragedy",
          "Sandy_Hook_Elementary_School",
          "Newtown_Vigil_Address",
          "Buchenwald_Concentration_Camp",
          "South_Carolina_AME_Church_Shooting",
          "Navy_Yard_Shooting_Memorial",
          "Notre_Dame_Commencement",
          "Auschwitz_and_Birkenau_Liberation_65th",
          "911_Pentagon_Memorial_2010",
          "Pope_Francis_White_House_Welcome",
          "West_Fertilizer_Tragedy_Memorial",
          "Dorothy_Height_Eulogy",
          "911_Pentagon_Memorial_2009",
          "SSG_Bryan_Pitts_MOH",
          "Prayer_Breakfast_2011",
          "Orlando_Community",
          "Ted_Kennedy_Eulogy",
          "Holy_Cross_Interfaith_Prayer_Service",
          "Prayer_Breakfast_2015",
          "National_Holocaust_Memorial_Museum",
          "Joplin_Tornado_Victims_Memorial",
          "Prayer_Breakfast_2010",
          "Tucson_Memorial_Address",
          "Clementa_Pinckney_Eulogy",
          "Robert_Bryd_Eulogy",
          "Pearl_Harbor_Address",
          "Eulogy_West_Virginia_Coal_Miners",
          "Emil_Kapaun_Medal_of_Honor",
          "Beau_Biden_Eulogy",
          "Fathers_Day_2010",
          "Inaugural_Address",
          "911_After_15_Years",
          "Clinton_Global_Initiative_Human_Trafficking"
         ],
         "lat": [
          38.9165229,
          38.8950368,
          26.64469215,
          -0.9999454,
          41.412387,
          -0.9999454,
          38.8976997,
          null,
          -0.9999454,
          -0.9999454,
          -0.9999454,
          38.8976997,
          null,
          38.93065095,
          38.8903961,
          -0.9999454,
          38.8950368,
          null,
          null,
          42.3602534,
          -0.9999454,
          38.8950368,
          37.09536065,
          -0.9999454,
          null,
          32.7844246,
          38.3363062,
          21.48343645,
          37.7781702,
          38.8976997,
          null,
          -0.9999454,
          null,
          38.8903961,
          -0.9999454
         ],
         "legendgroup": "Topic 21",
         "lon": [
          -77.0452084,
          -77.0365427,
          -81.871826378728,
          36.7416612,
          -73.31153913634024,
          36.7416612,
          -77.03655315,
          null,
          36.7416612,
          36.7416612,
          36.7416612,
          -77.03655315,
          null,
          -77.07059515120122,
          -77.0841585,
          36.7416612,
          -77.0365427,
          null,
          null,
          -71.0582912,
          36.7416612,
          -77.0365427,
          -94.45764031637654,
          36.7416612,
          null,
          -79.93811493945894,
          -81.61227444920297,
          -158.03648372697478,
          -81.1881557,
          -77.03655315,
          null,
          36.7416612,
          null,
          -77.0841585,
          36.7416612
         ],
         "marker": {
          "color": "#636efa",
          "symbol": "circle"
         },
         "mode": "markers",
         "name": "Topic 21",
         "showlegend": true,
         "type": "scattergeo"
        },
        {
         "customdata": [
          [
           41.8755616,
           -87.6244212,
           "Chicago, Illinois",
           0.14
          ],
          [
           null,
           null,
           "Kaneohe Bay Marine Base, Kaneohe, Hawaii",
           -0.054
          ],
          [
           -0.9999454,
           36.7416612,
           "unknown_location",
           0.032
          ],
          [
           21.394833,
           -157.72989134661873,
           "Kailua, Hawaii",
           -0.113
          ],
          [
           38.8976997,
           -77.03655315,
           "White House, Washington D.C.",
           -0.16
          ],
          [
           38.8927368,
           -77.02292005112255,
           "National Archives, Washington D.C.",
           -0.22
          ],
          [
           38.8976997,
           -77.03655315,
           "White House, Washington D.C.",
           -0.096
          ],
          [
           38.8976997,
           -77.03655315,
           "White House, Washington D.C.",
           -0.04
          ],
          [
           -0.9999454,
           36.7416612,
           "unknown_location",
           -0.093
          ],
          [
           -0.9999454,
           36.7416612,
           "unknown_location",
           -0.162
          ],
          [
           null,
           null,
           "Department of Justice, Washington D.C.",
           -0.158
          ],
          [
           -0.9999454,
           36.7416612,
           "unknown_location",
           -0.163
          ],
          [
           38.9318369,
           -77.1671337963356,
           "McLean, Virginia",
           0.011
          ],
          [
           38.9464996,
           -77.1588685,
           "Langley, Virginia",
           0.068
          ],
          [
           38.8976997,
           -77.03655315,
           "White House, Washington D.C.",
           -0.06
          ],
          [
           38.8976997,
           -77.03655315,
           "White House, Washington D.C.",
           -0.174
          ],
          [
           38.8976997,
           -77.03655315,
           "White House, Washington D.C.",
           -0.164
          ],
          [
           38.8950368,
           -77.0365427,
           "Washington D.C.",
           0.031
          ],
          [
           40.75798035,
           -73.97476900451042,
           "Lotte New York Palace Hotel, New York City, New York",
           -0.119
          ],
          [
           38.9464996,
           -77.1588685,
           "Langley, Virginia",
           0.065
          ],
          [
           -0.9999454,
           36.7416612,
           "unknown_location",
           -0.088
          ]
         ],
         "geo": "geo",
         "hovertemplate": "<b>%{hovertext}</b><br><br>Topic=Topic 10<br>location=%{customdata[2]}<br>stanza=%{customdata[3]}<extra></extra>",
         "hovertext": [
          "Security_Team_Announcement",
          "NW_Flight_253_Update",
          "Boston_Marathon_Bombing_First_Statement",
          "Flight_253_Terrorist_Attempt_Press_Statement",
          "IRS_Misconduct",
          "National_Security_National_Archives",
          "Hostage_Policy_Review",
          "Hostage_Drone_Death",
          "Boston_Marathon_Bombing_Second_Statement",
          "Osama_bin_Laden_Death",
          "US_Intelligence_Program_Review_Outcome",
          "Aviation_Security",
          "NCTC_2015",
          "CIA_Intelligence_Community",
          "Orlando_Shootings_Statement",
          "Guantanamo_Bay_Closing",
          "Presser_XMas_Terrorist_Attempt",
          "Paris_Terrorist_Attacks",
          "NY_NJ_Explosions",
          "CIA_First_Speech",
          "Boston_Marathon_Bombing_Third_Statement"
         ],
         "lat": [
          41.8755616,
          null,
          -0.9999454,
          21.394833,
          38.8976997,
          38.8927368,
          38.8976997,
          38.8976997,
          -0.9999454,
          -0.9999454,
          null,
          -0.9999454,
          38.9318369,
          38.9464996,
          38.8976997,
          38.8976997,
          38.8976997,
          38.8950368,
          40.75798035,
          38.9464996,
          -0.9999454
         ],
         "legendgroup": "Topic 10",
         "lon": [
          -87.6244212,
          null,
          36.7416612,
          -157.72989134661873,
          -77.03655315,
          -77.02292005112255,
          -77.03655315,
          -77.03655315,
          36.7416612,
          36.7416612,
          null,
          36.7416612,
          -77.1671337963356,
          -77.1588685,
          -77.03655315,
          -77.03655315,
          -77.03655315,
          -77.0365427,
          -73.97476900451042,
          -77.1588685,
          36.7416612
         ],
         "marker": {
          "color": "#EF553B",
          "symbol": "circle"
         },
         "mode": "markers",
         "name": "Topic 10",
         "showlegend": true,
         "type": "scattergeo"
        },
        {
         "customdata": [
          [
           30.0443879,
           31.2357257,
           "Cairo, Egypt",
           -0.15
          ],
          [
           38.8950368,
           -77.0365427,
           "Washington D.C.",
           0.158
          ],
          [
           40.7127281,
           -74.0060152,
           "New York, New York",
           -0.216
          ],
          [
           -6.1753942,
           106.827183,
           "Jakarta, Indonesia",
           0.053
          ],
          [
           39.2908816,
           -76.610759,
           "Baltimore, Maryland",
           -0.038
          ],
          [
           38.8950368,
           -77.0365427,
           "Washington D.C.",
           0.041
          ],
          [
           38.8976997,
           -77.03655315,
           "White House, Washington D.C.",
           -0.125
          ],
          [
           39.9207886,
           32.8540482,
           "Ankara, Turkey",
           0.024
          ]
         ],
         "geo": "geo",
         "hovertemplate": "<b>%{hovertext}</b><br><br>Topic=Topic 22<br>location=%{customdata[2]}<br>stanza=%{customdata[3]}<extra></extra>",
         "hovertext": [
          "Cairo_University",
          "Prayer_Breakfast_2014",
          "United_Nations_General_Assembly_2014",
          "Indonesia_University",
          "Islamic_Society_Baltimore",
          "Iftar_Dinner_on_Religious_Tolerance",
          "Countering_Violent_Religious_Extremism",
          "Turkish_Parliament"
         ],
         "lat": [
          30.0443879,
          38.8950368,
          40.7127281,
          -6.1753942,
          39.2908816,
          38.8950368,
          38.8976997,
          39.9207886
         ],
         "legendgroup": "Topic 22",
         "lon": [
          31.2357257,
          -77.0365427,
          -74.0060152,
          106.827183,
          -76.610759,
          -77.0365427,
          -77.03655315,
          32.8540482
         ],
         "marker": {
          "color": "#00cc96",
          "symbol": "circle"
         },
         "mode": "markers",
         "name": "Topic 22",
         "showlegend": true,
         "type": "scattergeo"
        },
        {
         "customdata": [
          [
           38.8950368,
           -77.0365427,
           "Washington D.C.",
           -0.25
          ],
          [
           -0.9999454,
           36.7416612,
           "unknown_location",
           -0.233
          ],
          [
           38.8976997,
           -77.03655315,
           "White House, Washington D.C.",
           -0.27
          ],
          [
           38.8976997,
           -77.03655315,
           "White House, Washington D.C.",
           -0.125
          ],
          [
           39.7493375,
           -104.88460913352296,
           "Denver Police Academy, Denver. Colorado",
           -0.203
          ],
          [
           37.78573425,
           -122.41043691372737,
           "Hilton San Francisco Union Square, California",
           -0.06
          ],
          [
           -0.9999454,
           36.7416612,
           "unknown_location",
           -0.068
          ]
         ],
         "geo": "geo",
         "hovertemplate": "<b>%{hovertext}</b><br><br>Topic=Topic 7<br>location=%{customdata[2]}<br>stanza=%{customdata[3]}<extra></extra>",
         "hovertext": [
          "Umpqua_Community_College_Shootings",
          "Gun_Violence_Exec_Order_23",
          "Senate_Vote_Background_Check",
          "Gun_Violence_Reduction_Steps",
          "Gun_Violence_Denver",
          "Mayors_Conference_2015",
          "Barack_Obama_-_Weekly_Address_01-01-16"
         ],
         "lat": [
          38.8950368,
          -0.9999454,
          38.8976997,
          38.8976997,
          39.7493375,
          37.78573425,
          -0.9999454
         ],
         "legendgroup": "Topic 7",
         "lon": [
          -77.0365427,
          36.7416612,
          -77.03655315,
          -77.03655315,
          -104.88460913352296,
          -122.41043691372737,
          36.7416612
         ],
         "marker": {
          "color": "#ab63fa",
          "symbol": "circle"
         },
         "mode": "markers",
         "name": "Topic 7",
         "showlegend": true,
         "type": "scattergeo"
        },
        {
         "customdata": [
          [
           38.9165229,
           -77.0452084,
           "Washington Hilton Hotel, Washington D.C.",
           -0.012
          ],
          [
           null,
           null,
           "Fleet Center, Boston",
           -0.018
          ],
          [
           null,
           null,
           "Veterans Memorial Auditorium, Des Moines, Iowa",
           -0.305
          ],
          [
           41.8515481,
           -87.6164334,
           "McCormick Place, Chicago, Illinois",
           -0.076
          ],
          [
           38.8950368,
           -77.0365427,
           "Washington D.C.",
           -0.109
          ],
          [
           38.8976997,
           -77.03655315,
           "White House, Washington D.C.",
           0.148
          ],
          [
           40.7713396,
           -73.9835065,
           "Lincoln Center, New York, New York",
           -0.111
          ],
          [
           38.8950368,
           -77.0365427,
           "Washington D.C.",
           -0.025
          ],
          [
           38.8950368,
           -77.0365427,
           "Washington D.C.",
           -0.208
          ],
          [
           -0.9999454,
           36.7416612,
           "unknown_location",
           -0.231
          ],
          [
           39.79842575,
           -89.65491801985712,
           "Illinois State Capitol, Springfield, Illinois",
           -0.18
          ],
          [
           44.9497487,
           -93.0931028,
           "St. Paul, Minnesota",
           0.009
          ],
          [
           38.9165229,
           -77.0452084,
           "Washington Hilton Hotel, D.C.",
           -0.008
          ],
          [
           38.9031219,
           -77.0359328,
           "Capital Hilton, Washington D.C.",
           -0.031
          ],
          [
           38.89445405,
           -77.04260729303007,
           "Department of Interior, Washington D.C.",
           0.052
          ],
          [
           41.8515481,
           -87.6164334,
           "McCormick Place Chicago, Illinois",
           -0.074
          ],
          [
           41.5910323,
           -93.6046655,
           "Des Moines, Iowa",
           -0.189
          ],
          [
           38.99203005,
           -76.94610290199051,
           "Prince George County, Maryland",
           -0.176
          ],
          [
           38.93065095,
           -77.07059515120122,
           "National Cathedral, Washington D.C.",
           0.125
          ],
          [
           -0.9999454,
           36.7416612,
           "unknown_location",
           0.129
          ],
          [
           38.8976997,
           -77.03655315,
           "White House, Washington D.C.",
           0.31
          ],
          [
           41.8755616,
           -87.6244212,
           "Chicago, Illinois",
           -0.063
          ],
          [
           38.8950368,
           -77.0365427,
           "Washington D.C.",
           0.1
          ],
          [
           38.8950368,
           -77.0365427,
           "Washington D.C.",
           -0.131
          ],
          [
           32.841801149999995,
           -96.78152810147064,
           "Southern Methodist University, Dallas, Texas",
           0.094
          ],
          [
           38.8976997,
           -77.03655315,
           "White House, Washington D.C.",
           0.273
          ],
          [
           38.9165229,
           -77.0452084,
           "Washington Hilton Hotel, Washington D.C.",
           -0.061
          ],
          [
           42.3602534,
           -71.0582912,
           "Boston, Massachusetts",
           -0.06
          ],
          [
           38.8976997,
           -77.03655315,
           "White House, Washington D.C.",
           0.121
          ],
          [
           38.8950368,
           -77.0365427,
           "Washington D.C.",
           -0.179
          ],
          [
           -0.9999454,
           36.7416612,
           "unknown_location",
           -0.152
          ]
         ],
         "geo": "geo",
         "hovertemplate": "<b>%{hovertext}</b><br><br>Topic=Topic 23<br>location=%{customdata[2]}<br>stanza=%{customdata[3]}<extra></extra>",
         "hovertext": [
          "White_House_Correspondent_Dinner_2013",
          "2004_DNC_Address",
          "Barack_Obama_-_Jefferson-Jackson_Dinner",
          "Farewell_Address",
          "White_House_Correspondents_Dinner_2011",
          "Joe_Biden_Medal_of_Freedom",
          "Walter_Cronkite_Memorial",
          "Chicago_Cubs_WH_Visit",
          "Senate_Speech_on_Ohio_Electoral_Vote",
          "Candidate_Exploratory_Announcement",
          "Illinois_General_Assembly",
          "Nomination_Victory",
          "White_House_Correspondents_Dinner_First",
          "White_House_Correspondents_Dinner_2016",
          "Tribal_Nations_Conference",
          "Second_Presidential_Election_Victory_Speech",
          "Iowa_Caucus_Victory_Speech",
          "Farewell_to_Staff_and_Supporters",
          "Daniel_Inouye_Eulogy",
          "Hillary_Clinton_Endorsement",
          "First_Meeting_with_President_Elect_Donald_Trump",
          "Presidential_Victory_Speech",
          "Go_Presidential_Election_Outcome_2016",
          "White_House_Correspondent_Dinner_2014",
          "GWB_Library_Dedication",
          "Kennedy_Center_Honorees_2016",
          "White_House_Correspondents_Dinner_2010",
          "Ted_Kennedy_Institute_Dedication",
          "Golden_State_Warriors",
          "Birth_Certificate_Release",
          "Michigan_University_Commencement"
         ],
         "lat": [
          38.9165229,
          null,
          null,
          41.8515481,
          38.8950368,
          38.8976997,
          40.7713396,
          38.8950368,
          38.8950368,
          -0.9999454,
          39.79842575,
          44.9497487,
          38.9165229,
          38.9031219,
          38.89445405,
          41.8515481,
          41.5910323,
          38.99203005,
          38.93065095,
          -0.9999454,
          38.8976997,
          41.8755616,
          38.8950368,
          38.8950368,
          32.841801149999995,
          38.8976997,
          38.9165229,
          42.3602534,
          38.8976997,
          38.8950368,
          -0.9999454
         ],
         "legendgroup": "Topic 23",
         "lon": [
          -77.0452084,
          null,
          null,
          -87.6164334,
          -77.0365427,
          -77.03655315,
          -73.9835065,
          -77.0365427,
          -77.0365427,
          36.7416612,
          -89.65491801985712,
          -93.0931028,
          -77.0452084,
          -77.0359328,
          -77.04260729303007,
          -87.6164334,
          -93.6046655,
          -76.94610290199051,
          -77.07059515120122,
          36.7416612,
          -77.03655315,
          -87.6244212,
          -77.0365427,
          -77.0365427,
          -96.78152810147064,
          -77.03655315,
          -77.0452084,
          -71.0582912,
          -77.03655315,
          -77.0365427,
          36.7416612
         ],
         "marker": {
          "color": "#FFA15A",
          "symbol": "circle"
         },
         "mode": "markers",
         "name": "Topic 23",
         "showlegend": true,
         "type": "scattergeo"
        },
        {
         "customdata": [
          [
           -0.9999454,
           36.7416612,
           "unknown_location",
           -0.177
          ],
          [
           38.8950368,
           -77.0365427,
           "Washington D.C.",
           -0.118
          ],
          [
           -0.9999454,
           36.7416612,
           "unknown_location",
           -0.13
          ],
          [
           38.93804505,
           -77.08939223651926,
           "American University, Washington D.C.",
           -0.144
          ],
          [
           null,
           null,
           "Del Sol HS, Las Vegas, Nevada",
           -0.024
          ],
          [
           38.8950368,
           -77.0365427,
           "Washington D.C.",
           -0.042
          ],
          [
           -0.9999454,
           36.7416612,
           "unknown_location",
           -0.118
          ],
          [
           null,
           null,
           "Anthropological Museum, Mexico City",
           0.06
          ]
         ],
         "geo": "geo",
         "hovertemplate": "<b>%{hovertext}</b><br><br>Topic=Topic 18<br>location=%{customdata[2]}<br>stanza=%{customdata[3]}<extra></extra>",
         "hovertext": [
          "Border_Security_and_Immigration_Reform",
          "Senate_Floor_Immigration_Reform",
          "Fixing_Immigration_Policy",
          "Comprehensive_Immigration_Reform",
          "Comprehensive_Immigration_Reform_Vegas",
          "Naturalization_National_Archives",
          "Immigration_Senate_Call",
          "Mexico_Address"
         ],
         "lat": [
          -0.9999454,
          38.8950368,
          -0.9999454,
          38.93804505,
          null,
          38.8950368,
          -0.9999454,
          null
         ],
         "legendgroup": "Topic 18",
         "lon": [
          36.7416612,
          -77.0365427,
          36.7416612,
          -77.08939223651926,
          null,
          -77.0365427,
          36.7416612,
          null
         ],
         "marker": {
          "color": "#19d3f3",
          "symbol": "circle"
         },
         "mode": "markers",
         "name": "Topic 18",
         "showlegend": true,
         "type": "scattergeo"
        },
        {
         "customdata": [
          [
           55.6867243,
           12.5700724,
           "Copenhagen, Denmark",
           -0.09
          ],
          [
           -0.9999454,
           36.7416612,
           "unknown_location",
           -0.128
          ],
          [
           48.8727056,
           2.32675,
           "Le Bourget, Paris, France",
           -0.129
          ],
          [
           38.8020807,
           -76.92419076299771,
           "Camp Springs, Maryland",
           -0.011
          ],
          [
           38.8950368,
           -77.0365427,
           "Washington D.C.",
           -0.255
          ],
          [
           38.90893925,
           -77.07457962060826,
           "Georgetown University, Washington D.C.",
           -0.106
          ],
          [
           38.8976997,
           -77.03655315,
           "White House, Washington D.C.",
           -0.189
          ],
          [
           29.2366172,
           -89.9872942,
           "Grande Isle, Louisiana",
           -0.175
          ],
          [
           38.8976997,
           -77.03655315,
           "White House, Washington D.C.",
           -0.068
          ],
          [
           38.8976997,
           -77.03655315,
           "White House, Washington D.C.",
           0.018
          ],
          [
           30.3321838,
           -81.655651,
           "Jacksonville, Florida",
           -0.075
          ]
         ],
         "geo": "geo",
         "hovertemplate": "<b>%{hovertext}</b><br><br>Topic=Topic 6<br>location=%{customdata[2]}<br>stanza=%{customdata[3]}<extra></extra>",
         "hovertext": [
          "UN_Copenhagen_Climate_Change",
          "Global_Climate_Message",
          "COP21",
          "Energy_Security_AAFB",
          "Oval_Office_BP",
          "Energy_Security_Georgetown",
          "Clean_Power_Plan",
          "Grande_Isle_Briefing",
          "Repeal_Oil_and_Gas_Subsidies",
          "Paris_Climate_Agreement",
          "Recovery_and_Reinvestment_Act_2016"
         ],
         "lat": [
          55.6867243,
          -0.9999454,
          48.8727056,
          38.8020807,
          38.8950368,
          38.90893925,
          38.8976997,
          29.2366172,
          38.8976997,
          38.8976997,
          30.3321838
         ],
         "legendgroup": "Topic 6",
         "lon": [
          12.5700724,
          36.7416612,
          2.32675,
          -76.92419076299771,
          -77.0365427,
          -77.07457962060826,
          -77.03655315,
          -89.9872942,
          -77.03655315,
          -77.03655315,
          -81.655651
         ],
         "marker": {
          "color": "#FF6692",
          "symbol": "circle"
         },
         "mode": "markers",
         "name": "Topic 6",
         "showlegend": true,
         "type": "scattergeo"
        },
        {
         "customdata": [
          [
           37.9406226,
           23.6913101,
           "Stavros Niarchos Foundation Cultural Center, Athens, Greece",
           -0.055
          ],
          [
           null,
           null,
           "Siri Fort Auditorium, New Delhi, India",
           0.086
          ],
          [
           54.5972712,
           -5.9211082,
           "Waterfront, Belfast, Northern Ireland",
           0.049
          ],
          [
           -0.9999454,
           36.7416612,
           "unknown_location",
           0.034
          ],
          [
           16.7967129,
           96.1609916,
           "Yangon, Myanmar",
           -0.015
          ],
          [
           -0.9999454,
           36.7416612,
           "unknown_location",
           0.214
          ],
          [
           null,
           null,
           "Oslo City Hall, Oslo, Norway",
           -0.152
          ],
          [
           52.516338950000005,
           13.378687202182196,
           "Pariser Platz, Berlin, Germany",
           -0.029
          ],
          [
           -0.9999454,
           36.7416612,
           "unknown_location",
           -0.07
          ],
          [
           -22.2796324,
           -42.536578235953726,
           "Teatro Municipal, Rio de Janeiro",
           0.072
          ],
          [
           52.51450815,
           13.350110811262352,
           "Victory Column",
           -0.089
          ],
          [
           40.7127281,
           -74.0060152,
           "New York, New York",
           -0.191
          ],
          [
           51.4995549,
           -0.1254826,
           "Westminster Hall, London",
           -0.143
          ],
          [
           28.6138954,
           77.2090057,
           "New Delhi, India",
           0.015
          ],
          [
           38.8950368,
           -77.0365427,
           "Washington D.C.",
           -0.095
          ],
          [
           null,
           null,
           "First National Bank Stadium, Johannesburg, South Africa",
           0.077
          ],
          [
           -1.2299123,
           36.8886162,
           "Safaricom Indoor Arena, Nairobi, Kenya",
           -0.098
          ],
          [
           34.3916058,
           132.4518156,
           "Hiroshima, Japan",
           -0.146
          ]
         ],
         "geo": "geo",
         "hovertemplate": "<b>%{hovertext}</b><br><br>Topic=Topic 8<br>location=%{customdata[2]}<br>stanza=%{customdata[3]}<extra></extra>",
         "hovertext": [
          "People_of_Greece",
          "India_Speech_at_New_Delhi",
          "Northern_Ireland_Speech",
          "Burundi_People_Message",
          "Yangon_University",
          "On_the_Passing_of_Nelson_Mandela",
          "Nobel_Lecture",
          "Brandenburg_Gate_Speech",
          "Egypt_History_Revolution",
          "Rio_de_Janeiro",
          "Berlin_Address",
          "United_Nations_GA_2016",
          "British_Parliament",
          "Indian_Parliament",
          "Second_Presidential_Inaugural_Address",
          "Mandela_Public_Memorial_Address",
          "Kenya_People_Speech",
          "Hiroshima_Peace_Memorial_Address"
         ],
         "lat": [
          37.9406226,
          null,
          54.5972712,
          -0.9999454,
          16.7967129,
          -0.9999454,
          null,
          52.516338950000005,
          -0.9999454,
          -22.2796324,
          52.51450815,
          40.7127281,
          51.4995549,
          28.6138954,
          38.8950368,
          null,
          -1.2299123,
          34.3916058
         ],
         "legendgroup": "Topic 8",
         "lon": [
          23.6913101,
          null,
          -5.9211082,
          36.7416612,
          96.1609916,
          36.7416612,
          null,
          13.378687202182196,
          36.7416612,
          -42.536578235953726,
          13.350110811262352,
          -74.0060152,
          -0.1254826,
          77.2090057,
          -77.0365427,
          null,
          36.8886162,
          132.4518156
         ],
         "marker": {
          "color": "#B6E880",
          "symbol": "circle"
         },
         "mode": "markers",
         "name": "Topic 8",
         "showlegend": true,
         "type": "scattergeo"
        },
        {
         "customdata": [
          [
           38.8462236,
           -77.3063733,
           "Fairfax, Virginia",
           -0.286
          ],
          [
           -0.9999454,
           36.7416612,
           "unknown_location",
           -0.246
          ],
          [
           40.4416941,
           -79.9900861,
           "Pittsburgh, Pennsylvania",
           -0.274
          ],
          [
           -0.9999454,
           36.7416612,
           "unknown_location",
           -0.267
          ],
          [
           38.90893925,
           -77.07457962060826,
           "Georgetown University, Washington D.C.",
           -0.298
          ],
          [
           41.8755616,
           -87.6244212,
           "Chicago, Illinois",
           0.061
          ],
          [
           38.8976997,
           -77.03655315,
           "White House, Washington D.C.",
           -0.226
          ],
          [
           null,
           null,
           "Ronald Reagan Building, Washington D.C.",
           -0.356
          ],
          [
           41.8755616,
           -87.6244212,
           "Chicago, Illinois",
           0.074
          ],
          [
           38.8950368,
           -77.0365427,
           "Washington D.C.",
           -0.232
          ],
          [
           -0.9999454,
           36.7416612,
           "unknown_location",
           -0.319
          ],
          [
           40.7295282,
           -73.9905606,
           "Cooper Union, New York, New York",
           -0.281
          ],
          [
           41.8755616,
           -87.6244212,
           "Chicago, Illinois",
           -0.132
          ],
          [
           -0.9999454,
           36.7416612,
           "unknown_location",
           -0.412
          ]
         ],
         "geo": "geo",
         "hovertemplate": "<b>%{hovertext}</b><br><br>Topic=Topic 19<br>location=%{customdata[2]}<br>stanza=%{customdata[3]}<extra></extra>",
         "hovertext": [
          "George_Mason_21st_Century_Economy",
          "State_of_the_Nation_2009",
          "Carnegie_Mellon_Economy",
          "First_Presidential_Weekly_Address",
          "New_Foundation_Georgetown",
          "Announces_Commerce_Secretary_Designate",
          "Economic_Crisis_and_Executive_Compensation_Salary_Cap",
          "Barack_Obama_-_Dodd-Frank_Signing",
          "New_Economic_Team",
          "Brookings_Institute",
          "Senate_Floor_Speech_on_Wall_Street_Bailout_Bill",
          "Reforming_Wall_Street",
          "First_Press_Conference",
          "Finance_Crisis_Fee"
         ],
         "lat": [
          38.8462236,
          -0.9999454,
          40.4416941,
          -0.9999454,
          38.90893925,
          41.8755616,
          38.8976997,
          null,
          41.8755616,
          38.8950368,
          -0.9999454,
          40.7295282,
          41.8755616,
          -0.9999454
         ],
         "legendgroup": "Topic 19",
         "lon": [
          -77.3063733,
          36.7416612,
          -79.9900861,
          36.7416612,
          -77.07457962060826,
          -87.6244212,
          -77.03655315,
          null,
          -87.6244212,
          -77.0365427,
          36.7416612,
          -73.9905606,
          -87.6244212,
          36.7416612
         ],
         "marker": {
          "color": "#FF97FF",
          "symbol": "circle"
         },
         "mode": "markers",
         "name": "Topic 19",
         "showlegend": true,
         "type": "scattergeo"
        },
        {
         "customdata": [
          [
           45.4871723,
           -122.80378,
           "Beaverton, Oregon",
           -0.08
          ],
          [
           -27.4689682,
           153.0234991,
           "Brisbane, Australia",
           0.063
          ],
          [
           34.7246431,
           135.5542138,
           "Shima City, Japan",
           -0.132
          ],
          [
           21.00636225,
           105.78709927095412,
           "National Convention Center, Hanoi, Vietnam",
           0.032
          ],
          [
           -35.319217,
           149.1490751,
           "Canberra, Australia",
           0
          ],
          [
           17.96615525,
           102.60664770784688,
           "Lao National Cultural Hall, Vientiane, Laos",
           -0.04
          ],
          [
           null,
           null,
           "House of Commons Chamber, Ottawa, Canada",
           -0.063
          ],
          [
           3.1541698,
           101.7064587,
           "Shangri-La Hotel, Kuala Lumpur, Malaysia",
           -0.05
          ]
         ],
         "geo": "geo",
         "hovertemplate": "<b>%{hovertext}</b><br><br>Topic=Topic 16<br>location=%{customdata[2]}<br>stanza=%{customdata[3]}<extra></extra>",
         "hovertext": [
          "Trade_Trans_Pacific_at_Nike",
          "Queensland_University",
          "Shinzo_Abe_Presser_Japan",
          "Speech_to_the_Vietnam_People",
          "Australian_Parliament",
          "Laos_People",
          "Canada_Parliament",
          "ASEAN_Business_2015"
         ],
         "lat": [
          45.4871723,
          -27.4689682,
          34.7246431,
          21.00636225,
          -35.319217,
          17.96615525,
          null,
          3.1541698
         ],
         "legendgroup": "Topic 16",
         "lon": [
          -122.80378,
          153.0234991,
          135.5542138,
          105.78709927095412,
          149.1490751,
          102.60664770784688,
          null,
          101.7064587
         ],
         "marker": {
          "color": "#FECB52",
          "symbol": "circle"
         },
         "mode": "markers",
         "name": "Topic 16",
         "showlegend": true,
         "type": "scattergeo"
        },
        {
         "customdata": [
          [
           38.8950368,
           -77.0365427,
           "Washington D.C.",
           -0.179
          ],
          [
           36.99416165,
           -76.44414948067441,
           "Newport News Shipbuilding, Newport News, Virginia",
           -0.237
          ],
          [
           38.8950368,
           -77.0365427,
           "Washington D.C.",
           -0.093
          ],
          [
           -0.9999454,
           36.7416612,
           "unknown_location",
           -0.252
          ],
          [
           38.8950368,
           -77.0365427,
           "Washington D.C.",
           -0.209
          ],
          [
           -0.9999454,
           36.7416612,
           "unknown_location",
           -0.214
          ],
          [
           38.8950368,
           -77.0365427,
           "Washington D.C.",
           -0.115
          ],
          [
           38.8976997,
           -77.03655315,
           "White House, Washington D.C.",
           -0.292
          ],
          [
           38.8950368,
           -77.0365427,
           "Washington D.C.",
           -0.234
          ],
          [
           -0.9999454,
           36.7416612,
           "unknown_location",
           -0.402
          ],
          [
           38.8976997,
           -77.03655315,
           "White House, Washington D.C.",
           -0.143
          ],
          [
           38.8976997,
           -77.03655315,
           "White House, Washington D.C.",
           -0.347
          ],
          [
           38.8976997,
           -77.03655315,
           "White House, Washington D.C.",
           -0.344
          ],
          [
           38.4970321,
           -94.9508229,
           "Osawatomie, Kansas",
           -0.213
          ],
          [
           40.9475652,
           -90.3712169,
           "Galesburg, Illinois",
           -0.157
          ],
          [
           35.2272086,
           -80.8430827,
           "Charlotte, North Carolina",
           -0.169
          ]
         ],
         "geo": "geo",
         "hovertemplate": "<b>%{hovertext}</b><br><br>Topic=Topic 2<br>location=%{customdata[2]}<br>stanza=%{customdata[3]}<extra></extra>",
         "hovertext": [
          "Joint_Session_on_Economy_and_Jobs",
          "Sequester_Impact_Newport_News",
          "State_of_the_Union_2013",
          "GW_Fiscal_Policy",
          "State_of_the_Union_2010",
          "Post_Election_Economy",
          "National_Chamber_of_Commerce",
          "Debt_Compromise_Remarks",
          "State_of_the_Union_2012",
          "2010_Budget_to_Congress",
          "Debt_Compromise_Agreement",
          "Dangers_of_Default",
          "Rose_Garden_Economy_and_Deficit",
          "New_Nationalism_at_Osawatomie_HS",
          "Knox_College_Economy",
          "Second_Democratic_Nomination_Acceptance"
         ],
         "lat": [
          38.8950368,
          36.99416165,
          38.8950368,
          -0.9999454,
          38.8950368,
          -0.9999454,
          38.8950368,
          38.8976997,
          38.8950368,
          -0.9999454,
          38.8976997,
          38.8976997,
          38.8976997,
          38.4970321,
          40.9475652,
          35.2272086
         ],
         "legendgroup": "Topic 2",
         "lon": [
          -77.0365427,
          -76.44414948067441,
          -77.0365427,
          36.7416612,
          -77.0365427,
          36.7416612,
          -77.0365427,
          -77.03655315,
          -77.0365427,
          36.7416612,
          -77.03655315,
          -77.03655315,
          -77.03655315,
          -94.9508229,
          -90.3712169,
          -80.8430827
         ],
         "marker": {
          "color": "#636efa",
          "symbol": "circle"
         },
         "mode": "markers",
         "name": "Topic 2",
         "showlegend": true,
         "type": "scattergeo"
        },
        {
         "customdata": [
          [
           39.7990175,
           -89.6439575,
           "Springfield, Illinois",
           -0.053
          ],
          [
           38.912027300000005,
           -77.0287509853597,
           "Vermont Avenue Baptist Church, Washington D.C.",
           -0.133
          ],
          [
           30.2858948,
           -97.72928516466844,
           "Lyndon Baines Johnson Library, Austin, Texas",
           -0.076
          ],
          [
           -0.9999454,
           36.7416612,
           "unknown_location",
           -0.17
          ],
          [
           38.8950368,
           -77.0365427,
           "Washington D.C.",
           -0.097
          ],
          [
           -0.9999454,
           36.7416612,
           "unknown_location",
           -0.02
          ],
          [
           33.7551362,
           -84.3742076,
           "Ebenezer Baptist Church, Atlanta",
           -0.258
          ],
          [
           null,
           null,
           "The National Mall, Washington D.C.",
           -0.178
          ],
          [
           38.8950368,
           -77.0365427,
           "Washington D.C.",
           0.038
          ],
          [
           38.8906766,
           -77.008299,
           "U.S. Capitol, Washington D.C.",
           -0.213
          ],
          [
           32.7762719,
           -96.7968559,
           "Dallas, Texas",
           -0.215
          ],
          [
           38.8950368,
           -77.0365427,
           "Washington D.C.",
           -0.155
          ],
          [
           38.8854281,
           -77.0414734922376,
           "National Mall, Washington D.C.",
           0.022
          ],
          [
           39.9527237,
           -75.1635262,
           "Philadelphia, Pennsylvania",
           -0.275
          ],
          [
           38.90503335,
           -77.02295618530775,
           "Walter E. Washington Convention Center, Washington D.C.",
           -0.063
          ],
          [
           38.889212150000006,
           -77.05017197314066,
           "Lincoln Memorial, Washington D.C.",
           -0.207
          ],
          [
           32.4047191,
           -87.01813913248446,
           "Edmund Pettus Bridge, Selma, Alabama",
           -0.071
          ],
          [
           38.8950368,
           -77.0365427,
           "Washington D.C.",
           -0.029
          ],
          [
           38.8950368,
           -77.0365427,
           "Washington D.C.",
           -0.125
          ],
          [
           38.889212150000006,
           -77.05017197314066,
           "Lincoln Memorial, Washington D.C.",
           -0.165
          ]
         ],
         "geo": "geo",
         "hovertemplate": "<b>%{hovertext}</b><br><br>Topic=Topic 1<br>location=%{customdata[2]}<br>stanza=%{customdata[3]}<extra></extra>",
         "hovertext": [
          "Announces_Candidacy",
          "MLK_Remembrance",
          "Civil_Rights_Summit_LBJ",
          "Rosa_Parks_Statue_Dedication",
          "Congressional_Black_Caucus",
          "Senate_Floor_Speech_on_Voting_Rights_Act_Renewal",
          "Ebenezer_Baptist",
          "MLK_Memorial_Dedication",
          "Senate_Floor_Coretta_King",
          "Barack_Obama_-_13th_Amendment_150-Year_Anniversary",
          "Dallas_Police_Memorial_Address",
          "Howard_University_Commencement",
          "Barack_Obama_-_African-American_History_Museum_Dedication",
          "More_Perfect_Union",
          "United_State_of_Women",
          "Lincoln_Bicentennial",
          "Selma_50_March",
          "Lincoln_Memorial",
          "Rosa_Parks",
          "Let_Freedom_Ring_Ceremony"
         ],
         "lat": [
          39.7990175,
          38.912027300000005,
          30.2858948,
          -0.9999454,
          38.8950368,
          -0.9999454,
          33.7551362,
          null,
          38.8950368,
          38.8906766,
          32.7762719,
          38.8950368,
          38.8854281,
          39.9527237,
          38.90503335,
          38.889212150000006,
          32.4047191,
          38.8950368,
          38.8950368,
          38.889212150000006
         ],
         "legendgroup": "Topic 1",
         "lon": [
          -89.6439575,
          -77.0287509853597,
          -97.72928516466844,
          36.7416612,
          -77.0365427,
          36.7416612,
          -84.3742076,
          null,
          -77.0365427,
          -77.008299,
          -96.7968559,
          -77.0365427,
          -77.0414734922376,
          -75.1635262,
          -77.02295618530775,
          -77.05017197314066,
          -87.01813913248446,
          -77.0365427,
          -77.0365427,
          -77.05017197314066
         ],
         "marker": {
          "color": "#EF553B",
          "symbol": "circle"
         },
         "mode": "markers",
         "name": "Topic 1",
         "showlegend": true,
         "type": "scattergeo"
        },
        {
         "customdata": [
          [
           14.5948914,
           120.9782618,
           "Manila, Philippines",
           0
          ],
          [
           44.96933115,
           -93.2737079434336,
           "Minneapolis Convention Center, Minnesota",
           -0.014
          ],
          [
           -0.9999454,
           36.7416612,
           "unknown_location",
           -0.023
          ],
          [
           38.8785384,
           -77.06911170120969,
           "Arlington National Cemetery, Arlington, Virginia",
           0.086
          ],
          [
           null,
           null,
           "Korean War Memorial, Seoul, South Korea",
           -0.046
          ],
          [
           38.8976997,
           -77.03655315,
           "White House, Washington D.C.",
           0
          ],
          [
           49.37781875,
           -0.8988297590207961,
           "Omaha Beach, Normandy, France",
           -0.093
          ],
          [
           49.0677708,
           0.3138532,
           "Normandy, France",
           -0.103
          ],
          [
           39.5261206,
           -119.8126581,
           "Reno, Nevada",
           -0.008
          ]
         ],
         "geo": "geo",
         "hovertemplate": "<b>%{hovertext}</b><br><br>Topic=Topic 24<br>location=%{customdata[2]}<br>stanza=%{customdata[3]}<extra></extra>",
         "hovertext": [
          "Fort_Bonifacio",
          "American_Legion_Conference",
          "Disabled_Veterans_Conference",
          "Veterans_Day_Address_2013",
          "Korean_War_Armistice_60",
          "Weekly_Address_Iraq_War_Service",
          "DDay_70",
          "DDay_65",
          "VFW_2012"
         ],
         "lat": [
          14.5948914,
          44.96933115,
          -0.9999454,
          38.8785384,
          null,
          38.8976997,
          49.37781875,
          49.0677708,
          39.5261206
         ],
         "legendgroup": "Topic 24",
         "lon": [
          120.9782618,
          -93.2737079434336,
          36.7416612,
          -77.06911170120969,
          null,
          -77.03655315,
          -0.8988297590207961,
          0.3138532,
          -119.8126581
         ],
         "marker": {
          "color": "#00cc96",
          "symbol": "circle"
         },
         "mode": "markers",
         "name": "Topic 24",
         "showlegend": true,
         "type": "scattergeo"
        },
        {
         "customdata": [
          [
           -0.9999454,
           36.7416612,
           "unknown_location",
           -0.112
          ],
          [
           35.95608045,
           -83.96456658317715,
           "Pellissippi State Community College, Knoxville, Tennessee",
           0
          ],
          [
           38.8950368,
           -77.0365427,
           "Washington D.C.",
           -0.097
          ],
          [
           33.42655155,
           -111.93327690688318,
           "Sun Devil Stadium, Tempe, Arizona",
           -0.104
          ],
          [
           35.1335022,
           -89.9668758,
           "Memphis, Tennessee",
           -0.02
          ],
          [
           null,
           null,
           "Hyde Park Career Academy, Chicago, Illinois",
           -0.097
          ],
          [
           42.50541065,
           -82.9730483155511,
           "Macomb Community College, Warren, Michigan",
           -0.123
          ],
          [
           -0.9999454,
           36.7416612,
           "unknown_location",
           -0.204
          ],
          [
           null,
           null,
           "James L. Knight International Center",
           -0.053
          ],
          [
           -0.9999454,
           36.7416612,
           "unknown_location",
           0.014
          ],
          [
           40.7127281,
           -74.0060152,
           "New York, New York",
           -0.126
          ],
          [
           -0.9999454,
           36.7416612,
           "unknown_location",
           -0.17
          ],
          [
           33.7489924,
           -84.3902644,
           "Atlanta, Georgia",
           -0.111
          ],
          [
           null,
           null,
           "Andrew Sanchez Community Center, New Orleans, Louisiana",
           -0.087
          ],
          [
           33.776033,
           -84.39884086001581,
           "Georgia Institute of Technology, Atlanta, Georgia",
           -0.107
          ],
          [
           43.07770265,
           -83.7209112504498,
           "Northwestern High School, Flint, Michigan",
           -0.187
          ],
          [
           -0.9999454,
           36.7416612,
           "unknown_location",
           -0.132
          ],
          [
           -0.9999454,
           36.7416612,
           "unknown_location",
           0.093
          ],
          [
           46.56132435,
           -87.41048112721177,
           "Northern Michigan University, Marquette, Michigan",
           -0.004
          ],
          [
           38.8975537,
           -77.03868249285715,
           "Eisenhower Building, Washington D.C.",
           0.078
          ],
          [
           38.8903961,
           -77.0841585,
           "Arlington, Virginia",
           -0.159
          ]
         ],
         "geo": "geo",
         "hovertemplate": "<b>%{hovertext}</b><br><br>Topic=Topic 15<br>location=%{customdata[2]}<br>stanza=%{customdata[3]}<extra></extra>",
         "hovertext": [
          "State_of_the_Union_2015",
          "Community_College_Plan",
          "State_of_the_Union_2011",
          "ASU_Commencement",
          "Booker_T_Washington",
          "Middle_Class_Economy",
          "Graduation_Initiative",
          "Knox_College_Commencement",
          "Miami_Dade_College_Commencement",
          "Kalamazoo_HS_Commencement",
          "Barnard_College_Commencement",
          "State_of_the_Union_2014",
          "Morehouse_College_Commencement",
          "Katrina_10_Years",
          "Student_Aid_Bill_of_Rights",
          "Flint_Michigan_Community",
          "Hispanic_Chamber_of_Commerce",
          "No_Child_Left_Behind_Blueprint",
          "National_Wireless_Initiative",
          "Every_Student_Succeeds_Signing",
          "Wakefield_Back_to_High_School"
         ],
         "lat": [
          -0.9999454,
          35.95608045,
          38.8950368,
          33.42655155,
          35.1335022,
          null,
          42.50541065,
          -0.9999454,
          null,
          -0.9999454,
          40.7127281,
          -0.9999454,
          33.7489924,
          null,
          33.776033,
          43.07770265,
          -0.9999454,
          -0.9999454,
          46.56132435,
          38.8975537,
          38.8903961
         ],
         "legendgroup": "Topic 15",
         "lon": [
          36.7416612,
          -83.96456658317715,
          -77.0365427,
          -111.93327690688318,
          -89.9668758,
          null,
          -82.9730483155511,
          36.7416612,
          null,
          36.7416612,
          -74.0060152,
          36.7416612,
          -84.3902644,
          null,
          -84.39884086001581,
          -83.7209112504498,
          36.7416612,
          36.7416612,
          -87.41048112721177,
          -77.03868249285715,
          -77.0841585
         ],
         "marker": {
          "color": "#ab63fa",
          "symbol": "circle"
         },
         "mode": "markers",
         "name": "Topic 15",
         "showlegend": true,
         "type": "scattergeo"
        },
        {
         "customdata": [
          [
           38.8976997,
           -77.03655315,
           "White House, Washington D.C.",
           -0.125
          ],
          [
           38.8976997,
           -77.03655315,
           "White House, Washington D.C.",
           -0.349
          ],
          [
           -0.9999454,
           36.7416612,
           "unknown_location",
           -0.096
          ],
          [
           41.8874488,
           -87.6228422065339,
           "Hyatt Regency, Chicago, Illinois",
           -0.293
          ],
          [
           38.8976997,
           -77.03655315,
           "White House, Washington D.C.",
           -0.115
          ],
          [
           38.8976997,
           -77.03655315,
           "White House, Washington D.C.",
           -0.117
          ],
          [
           -0.9999454,
           36.7416612,
           "unknown_location",
           -0.232
          ],
          [
           38.8950368,
           -77.0365427,
           "Washington D.C.",
           -0.078
          ],
          [
           -0.9999454,
           36.7416612,
           "unknown_location",
           -0.193
          ],
          [
           38.8976997,
           -77.03655315,
           "White House, Washington D.C.",
           -0.111
          ],
          [
           -0.9999454,
           36.7416612,
           "unknown_location",
           -0.31
          ],
          [
           38.8976997,
           -77.03655315,
           "White House, Washington D.C.",
           -0.194
          ],
          [
           -0.9999454,
           36.7416612,
           "unknown_location",
           -0.186
          ]
         ],
         "geo": "geo",
         "hovertemplate": "<b>%{hovertext}</b><br><br>Topic=Topic 5<br>location=%{customdata[2]}<br>stanza=%{customdata[3]}<extra></extra>",
         "hovertext": [
          "USSC_Ruling_Affordable_Care_Act",
          "US_Govt_Shutdown_Statement",
          "Nurses_Association",
          "American_Medical_Association",
          "Aging_Conference_White_House",
          "Affordable_Care_Act_Logistical_Challenges",
          "Regina_Benjamin_Nomination",
          "Health_Care_Law_Signing",
          "Democrat_Caucus_Health_Care",
          "USSC_Affordable_Care_Act_Ruling",
          "To_Congress_on_Health_Care",
          "Congress_Call_Health_Care_Reform",
          "Health_Care_Bill_Passage"
         ],
         "lat": [
          38.8976997,
          38.8976997,
          -0.9999454,
          41.8874488,
          38.8976997,
          38.8976997,
          -0.9999454,
          38.8950368,
          -0.9999454,
          38.8976997,
          -0.9999454,
          38.8976997,
          -0.9999454
         ],
         "legendgroup": "Topic 5",
         "lon": [
          -77.03655315,
          -77.03655315,
          36.7416612,
          -87.6228422065339,
          -77.03655315,
          -77.03655315,
          36.7416612,
          -77.0365427,
          36.7416612,
          -77.03655315,
          36.7416612,
          -77.03655315,
          36.7416612
         ],
         "marker": {
          "color": "#FFA15A",
          "symbol": "circle"
         },
         "mode": "markers",
         "name": "Topic 5",
         "showlegend": true,
         "type": "scattergeo"
        },
        {
         "customdata": [
          [
           38.8976997,
           -77.03655315,
           "White House, Washington D.C.",
           -0.083
          ],
          [
           40.7127281,
           -74.0060152,
           "New York, New York",
           -0.199
          ],
          [
           38.8976997,
           -77.03655315,
           "White House, Washington D.C.",
           -0.022
          ],
          [
           null,
           null,
           "James S. Brady Press Briefing Room",
           -0.02
          ],
          [
           -0.9999454,
           36.7416612,
           "unknown_location",
           -0.356
          ],
          [
           38.86385125,
           -77.0157337847445,
           "National Defense University, Washington D.C.",
           -0.209
          ],
          [
           -0.9999454,
           36.7416612,
           "unknown_location",
           -0.111
          ],
          [
           null,
           null,
           "The Convention Center Brasil 21, Brasilia, Brazil",
           -0.074
          ],
          [
           38.8976997,
           -77.03655315,
           "White House, Washington D.C.",
           -0.231
          ],
          [
           40.7127281,
           -74.0060152,
           "New York, New York",
           -0.011
          ]
         ],
         "geo": "geo",
         "hovertemplate": "<b>%{hovertext}</b><br><br>Topic=Topic 14<br>location=%{customdata[2]}<br>stanza=%{customdata[3]}<extra></extra>",
         "hovertext": [
          "Muammar_Qaddafi_Death",
          "UNGA_2012",
          "Benghazi_Attacks_Rose_Garden",
          "Benghazi_Remains_Transfer",
          "Address_on_Libya",
          "Libya_Nation_Speech",
          "Libya_Violence_Must_Stop",
          "Odyssey_Dawn",
          "Chemical_Weapons_Syria",
          "UN_High_Level_Libya"
         ],
         "lat": [
          38.8976997,
          40.7127281,
          38.8976997,
          null,
          -0.9999454,
          38.86385125,
          -0.9999454,
          null,
          38.8976997,
          40.7127281
         ],
         "legendgroup": "Topic 14",
         "lon": [
          -77.03655315,
          -74.0060152,
          -77.03655315,
          null,
          36.7416612,
          -77.0157337847445,
          36.7416612,
          null,
          -77.03655315,
          -74.0060152
         ],
         "marker": {
          "color": "#19d3f3",
          "symbol": "circle"
         },
         "mode": "markers",
         "name": "Topic 14",
         "showlegend": true,
         "type": "scattergeo"
        },
        {
         "customdata": [
          [
           38.8976997,
           -77.03655315,
           "White House, Washington D.C.",
           0.078
          ],
          [
           38.8976997,
           -77.03655315,
           "White House, Washington D.C.",
           -0.101
          ],
          [
           38.8950368,
           -77.0365427,
           "Washington D.C.",
           -0.164
          ],
          [
           38.8976997,
           -77.03655315,
           "White House, Washington D.C.",
           -0.014
          ],
          [
           38.9786401,
           -76.492786,
           "Annapolis, Maryland",
           0.007
          ],
          [
           38.877461,
           -77.08082799848256,
           "Joint Base Myer-Henderson, Fort Myer, Virginia",
           0.159
          ],
          [
           null,
           null,
           "Clamshell, Bagram Air Field",
           0.062
          ],
          [
           38.877461,
           -77.08082799848256,
           "Joint Base Myer-Henderson Hall, Virginia",
           0.049
          ],
          [
           34.9797014,
           68.9146703,
           "Parwan Province, Afghanistan",
           0
          ],
          [
           null,
           null,
           "The Pentagon, Washington D.C.",
           0.08
          ],
          [
           -0.9999454,
           36.7416612,
           "unknown_location",
           0.057
          ],
          [
           40.8512481,
           -72.5359869,
           "West Point, New York",
           -0.164
          ],
          [
           null,
           null,
           "Michie Stadium, West Point, New York",
           0.005
          ],
          [
           38.9912381,
           -104.8588345994012,
           "United States Air Force Academy, Colorado Springs, Colorado",
           0.011
          ],
          [
           -0.9999454,
           36.7416612,
           "unknown_location",
           0.129
          ],
          [
           38.8976997,
           -77.03655315,
           "White House, Washington D.C.",
           -0.113
          ],
          [
           38.8976997,
           -77.03655315,
           "White House, Washington D.C.",
           0.243
          ],
          [
           null,
           null,
           "Eisenhower Hall, West Point Military Academy, New York",
           -0.141
          ],
          [
           -0.9999454,
           36.7416612,
           "unknown_location",
           -0.354
          ],
          [
           33.2840084,
           44.25612450726408,
           "Al Faw Palace, Baghdad, Iraq",
           0.178
          ],
          [
           34.63941505,
           -77.34201604164966,
           "Camp Lejeune, North Carolina",
           -0.028
          ],
          [
           38.8976997,
           -77.03655315,
           "White House, Washington D.C.",
           -0.061
          ],
          [
           -0.9999454,
           36.7416612,
           "unknown_location",
           -0.05
          ],
          [
           -0.9999454,
           36.7416612,
           "unknown_location",
           0.077
          ],
          [
           38.8976997,
           -77.03655315,
           "White House, Washington D.C.",
           -0.072
          ],
          [
           31.2012636,
           -97.7084250211076,
           "Fort Hood, Texas",
           -0.009
          ]
         ],
         "geo": "geo",
         "hovertemplate": "<b>%{hovertext}</b><br><br>Topic=Topic 9<br>location=%{customdata[2]}<br>stanza=%{customdata[3]}<extra></extra>",
         "hovertext": [
          "Iraq_War_Responsibly_Ending",
          "Afghanistan_Troop_Reduction",
          "Iraq_War_After_4_Years",
          "Iraqi_Freedom_End",
          "Naval_Academy_Commencement",
          "Armed_Forces_Farewell",
          "Afghanistan_US_Troops_Bagram",
          "Martin_Dempsey_Retirement",
          "Bagram_Air_Base_December_2010",
          "Military_Strategy_Review",
          "General_McChrystal_Afghanistan",
          "US_Military_Academy_Commencement_2014",
          "West_Point_Commencement_2010",
          "US_Air_Force_Commencement_Speech",
          "Iraq_War_Veteran_Gala_Toast",
          "Iraq_Airstrikes_and_Humanitarian_Aid_New",
          "Defense_Dept_Personnel",
          "Afghanistan_War_Troop_Surge",
          "Senate_Speech_Iraq_Federalism_Amendment",
          "Iraq_Multinational_Troops",
          "Iraq_War_Camp_Lejeune",
          "Salvatore_Giunta_Medal_of_Honor",
          "Pensacola_Military_Personnel",
          "Fort_Campbell",
          "Afghanistan_Statement",
          "Fort_Hoot_Memorial"
         ],
         "lat": [
          38.8976997,
          38.8976997,
          38.8950368,
          38.8976997,
          38.9786401,
          38.877461,
          null,
          38.877461,
          34.9797014,
          null,
          -0.9999454,
          40.8512481,
          null,
          38.9912381,
          -0.9999454,
          38.8976997,
          38.8976997,
          null,
          -0.9999454,
          33.2840084,
          34.63941505,
          38.8976997,
          -0.9999454,
          -0.9999454,
          38.8976997,
          31.2012636
         ],
         "legendgroup": "Topic 9",
         "lon": [
          -77.03655315,
          -77.03655315,
          -77.0365427,
          -77.03655315,
          -76.492786,
          -77.08082799848256,
          null,
          -77.08082799848256,
          68.9146703,
          null,
          36.7416612,
          -72.5359869,
          null,
          -104.8588345994012,
          36.7416612,
          -77.03655315,
          -77.03655315,
          null,
          36.7416612,
          44.25612450726408,
          -77.34201604164966,
          -77.03655315,
          36.7416612,
          36.7416612,
          -77.03655315,
          -97.7084250211076
         ],
         "marker": {
          "color": "#FF6692",
          "symbol": "circle"
         },
         "mode": "markers",
         "name": "Topic 9",
         "showlegend": true,
         "type": "scattergeo"
        },
        {
         "customdata": [
          [
           38.93679415,
           -77.05752080109374,
           "Adas Israel Congregation, Washington D.C.",
           -0.062
          ],
          [
           38.9427494,
           -77.06842872907194,
           "Israel Embassy, Washington D.C.",
           0.008
          ],
          [
           38.90503335,
           -77.02295618530775,
           "Walter E. Washington Convention Center, Washington D.C.",
           -0.049
          ],
          [
           38.8976997,
           -77.03655315,
           "White House, Washington D.C.",
           0.051
          ],
          [
           40.7127281,
           -74.0060152,
           "New York, New York",
           -0.102
          ],
          [
           -0.9999454,
           36.7416612,
           "unknown_location",
           -0.16
          ],
          [
           31.7788242,
           35.2257626,
           "Jerusalem, Israel",
           -0.042
          ],
          [
           40.7127281,
           -74.0060152,
           "New York, New York",
           -0.178
          ],
          [
           40.7127281,
           -74.0060152,
           "New York, New York",
           -0.147
          ],
          [
           38.8945036,
           -77.04847501906156,
           "State Department, Washington D.C.",
           -0.18
          ],
          [
           31.77236115,
           35.181634190650314,
           "Mount Herzl, Jerusalem, Israel",
           -0.083
          ]
         ],
         "geo": "geo",
         "hovertemplate": "<b>%{hovertext}</b><br><br>Topic=Topic 12<br>location=%{customdata[2]}<br>stanza=%{customdata[3]}<extra></extra>",
         "hovertext": [
          "Jewish_American_Heritage_Month",
          "Righteous_Among_Nations_Ceremony",
          "American_Israel_Public_Affairs_Committee",
          "Shimon_Peres_Medal_of_Freedom",
          "United_Nations_on_Palestinian_Statehood",
          "AIPAC_2012",
          "Jerusalem_Intl_Convention_Center_Speech",
          "United_Nations_General_Assembly",
          "UNGA_2010",
          "Middle_East_Diplomacy",
          "Shimon_Peres_Memorial"
         ],
         "lat": [
          38.93679415,
          38.9427494,
          38.90503335,
          38.8976997,
          40.7127281,
          -0.9999454,
          31.7788242,
          40.7127281,
          40.7127281,
          38.8945036,
          31.77236115
         ],
         "legendgroup": "Topic 12",
         "lon": [
          -77.05752080109374,
          -77.06842872907194,
          -77.02295618530775,
          -77.03655315,
          -74.0060152,
          36.7416612,
          35.2257626,
          -74.0060152,
          -74.0060152,
          -77.04847501906156,
          35.181634190650314
         ],
         "marker": {
          "color": "#B6E880",
          "symbol": "circle"
         },
         "mode": "markers",
         "name": "Topic 12",
         "showlegend": true,
         "type": "scattergeo"
        },
        {
         "customdata": [
          [
           38.8950368,
           -77.0365427,
           "Washington D.C.",
           -0.306
          ],
          [
           40.7127281,
           -74.0060152,
           "New York, New York",
           -0.179
          ],
          [
           38.8974193,
           -77.03711315487126,
           "Rose Garden, Washington D.C.",
           -0.18
          ],
          [
           -0.9999454,
           36.7416612,
           "unknown_location",
           -0.265
          ],
          [
           -0.9999454,
           36.7416612,
           "unknown_location",
           -0.047
          ],
          [
           -0.9999454,
           36.7416612,
           "unknown_location",
           -0.31
          ],
          [
           38.8976997,
           -77.03655315,
           "White House, Washington D.C.",
           -0.194
          ],
          [
           -0.9999454,
           36.7416612,
           "unknown_location",
           -0.122
          ],
          [
           49.8167003,
           15.4749544,
           "Czech Republic",
           -0.109
          ],
          [
           37.5666791,
           126.9782914,
           "Seoul, Korea",
           -0.054
          ],
          [
           -0.9999454,
           36.7416612,
           "unknown_location",
           -0.309
          ]
         ],
         "geo": "geo",
         "hovertemplate": "<b>%{hovertext}</b><br><br>Topic=Topic 3<br>location=%{customdata[2]}<br>stanza=%{customdata[3]}<extra></extra>",
         "hovertext": [
          "Iran_Deal_American_University",
          "UNGA_68th_Session",
          "Iran_Nuclear_Agreement",
          "Iran_Nuclear_Accord",
          "US_Detainees_Released",
          "Dignity_and_Courage_of_Iranians",
          "PM_Netanyahu_Speech",
          "Iran_Accord_Statement",
          "Hradany_Square_Prague",
          "Hankuk_University",
          "UN_Iran_Sanctions"
         ],
         "lat": [
          38.8950368,
          40.7127281,
          38.8974193,
          -0.9999454,
          -0.9999454,
          -0.9999454,
          38.8976997,
          -0.9999454,
          49.8167003,
          37.5666791,
          -0.9999454
         ],
         "legendgroup": "Topic 3",
         "lon": [
          -77.0365427,
          -74.0060152,
          -77.03711315487126,
          36.7416612,
          36.7416612,
          36.7416612,
          -77.03655315,
          36.7416612,
          15.4749544,
          126.9782914,
          36.7416612
         ],
         "marker": {
          "color": "#FF97FF",
          "symbol": "circle"
         },
         "mode": "markers",
         "name": "Topic 3",
         "showlegend": true,
         "type": "scattergeo"
        },
        {
         "customdata": [
          [
           -0.9999454,
           36.7416612,
           "unknown_location",
           0.107
          ],
          [
           -33.4377756,
           -70.6504502,
           "Santiago, Chile",
           0.027
          ],
          [
           null,
           null,
           "Hotel El Panama, Panama City, Panama",
           -0.056
          ],
          [
           -0.9999454,
           36.7416612,
           "unknown_location",
           -0.064
          ],
          [
           23.1369698,
           -82.3595917708269,
           "Gran Teatro de la Habana, Havana, Cuba",
           -0.059
          ],
          [
           30.1600827,
           -85.6545729,
           "Panama City, Panama",
           -0.058
          ]
         ],
         "geo": "geo",
         "hovertemplate": "<b>%{hovertext}</b><br><br>Topic=Topic 13<br>location=%{customdata[2]}<br>stanza=%{customdata[3]}<extra></extra>",
         "hovertext": [
          "Weekly_Address_on_Cuba",
          "Chile_Latin_America",
          "Civil_Society_Forum_Panama",
          "Cuba_Policy_Changes",
          "Cuba_People_Speech",
          "Summit_Americas_Plenary"
         ],
         "lat": [
          -0.9999454,
          -33.4377756,
          null,
          -0.9999454,
          23.1369698,
          30.1600827
         ],
         "legendgroup": "Topic 13",
         "lon": [
          36.7416612,
          -70.6504502,
          null,
          36.7416612,
          -82.3595917708269,
          -85.6545729
         ],
         "marker": {
          "color": "#FECB52",
          "symbol": "circle"
         },
         "mode": "markers",
         "name": "Topic 13",
         "showlegend": true,
         "type": "scattergeo"
        },
        {
         "customdata": [
          [
           -0.9999454,
           36.7416612,
           "unknown_location",
           0.277
          ],
          [
           38.8976997,
           -77.03655315,
           "White House, Washington D.C.",
           -0.016
          ],
          [
           33.770859,
           -116.42687402345577,
           "Rancho Mirage, California",
           0.087
          ],
          [
           -0.9999454,
           36.7416612,
           "unknown_location",
           -0.28
          ],
          [
           -0.9999454,
           36.7416612,
           "unknown_location",
           -0.038
          ]
         ],
         "geo": "geo",
         "hovertemplate": "<b>%{hovertext}</b><br><br>Topic=Topic 11<br>location=%{customdata[2]}<br>stanza=%{customdata[3]}<extra></extra>",
         "hovertext": [
          "Elena_Kagan_USSC_Nomination",
          "Merrick_Garland_USSC_Nomination",
          "Antonin_Scalia_Passing",
          "Senate_Floor_Speech_on_the_Patriot_Act",
          "Justice_Stevens_and_West_Virginia_Mining_Tragedy"
         ],
         "lat": [
          -0.9999454,
          38.8976997,
          33.770859,
          -0.9999454,
          -0.9999454
         ],
         "legendgroup": "Topic 11",
         "lon": [
          36.7416612,
          -77.03655315,
          -116.42687402345577,
          36.7416612,
          36.7416612
         ],
         "marker": {
          "color": "#636efa",
          "symbol": "circle"
         },
         "mode": "markers",
         "name": "Topic 11",
         "showlegend": true,
         "type": "scattergeo"
        },
        {
         "customdata": [
          [
           38.8976997,
           -77.03655315,
           "White House, Washington D.C.",
           -0.011
          ],
          [
           38.8976997,
           -77.03655315,
           "White House, Washington D.C.",
           -0.109
          ],
          [
           40.4441897,
           -79.94271918393466,
           "Carnegie Mellon University, Pittsburgh, Pennsylvania",
           0.123
          ],
          [
           38.8903961,
           -77.0841585,
           "Arlington, Virginia",
           -0.128
          ],
          [
           38.8981685,
           -77.0399012,
           "Consumer Financial Protection Bureau, Washington D.C.",
           -0.049
          ],
          [
           null,
           null,
           "JFK Space Center, Merritt Island, Florida",
           0.023
          ],
          [
           37.43131385,
           -122.16936535498309,
           "Stanford University, Stanford, California",
           0.026
          ],
          [
           38.884087050000005,
           -77.02024483028318,
           "Constitution Center, Washington D.C.",
           -0.05
          ]
         ],
         "geo": "geo",
         "hovertemplate": "<b>%{hovertext}</b><br><br>Topic=Topic 25<br>location=%{customdata[2]}<br>stanza=%{customdata[3]}<extra></extra>",
         "hovertext": [
          "BRAIN_Initiative",
          "Cyber_Infrastructure_US",
          "Carnegie_Robotics_Center",
          "NCCIC",
          "Executive_Order_13681_Signing",
          "NASA_21st_Century",
          "Stanford_Cybersecurity_Summit",
          "FTC_2014"
         ],
         "lat": [
          38.8976997,
          38.8976997,
          40.4441897,
          38.8903961,
          38.8981685,
          null,
          37.43131385,
          38.884087050000005
         ],
         "legendgroup": "Topic 25",
         "lon": [
          -77.03655315,
          -77.03655315,
          -79.94271918393466,
          -77.0841585,
          -77.0399012,
          null,
          -122.16936535498309,
          -77.02024483028318
         ],
         "marker": {
          "color": "#EF553B",
          "symbol": "circle"
         },
         "mode": "markers",
         "name": "Topic 25",
         "showlegend": true,
         "type": "scattergeo"
        },
        {
         "customdata": [
          [
           null,
           null,
           "The Pentagon, Washington D.C.",
           -0.013
          ],
          [
           40.7127281,
           -74.0060152,
           "New York, New York",
           -0.055
          ],
          [
           38.89760605,
           -77.03435185976429,
           "Treasury Department, Washington D.C.",
           -0.203
          ],
          [
           -0.9999454,
           36.7416612,
           "unknown_location",
           -0.188
          ],
          [
           41.3890052,
           -70.5133599,
           "Edgartown, Massachusetts",
           0
          ],
          [
           27.84364085,
           -82.50287224965905,
           "MacDill Air Force Base, Tampa, Florida",
           -0.232
          ],
          [
           -0.9999454,
           36.7416612,
           "unknown_location",
           -0.141
          ],
          [
           -0.9999454,
           36.7416612,
           "unknown_location",
           -0.032
          ],
          [
           38.8950368,
           -77.0365427,
           "Washington D.C.",
           -0.254
          ],
          [
           38.8950368,
           -77.0365427,
           "Washington D.C.",
           -0.181
          ],
          [
           -0.9999454,
           36.7416612,
           "unknown_location",
           -0.055
          ],
          [
           38.8976997,
           -77.03655315,
           "White House, Washington D.C.",
           -0.134
          ]
         ],
         "geo": "geo",
         "hovertemplate": "<b>%{hovertext}</b><br><br>Topic=Topic 4<br>location=%{customdata[2]}<br>stanza=%{customdata[3]}<extra></extra>",
         "hovertext": [
          "ISIL_Pentagon_Update",
          "United_Nations_Security_Council_2014",
          "ISIL_Briefing_June_2016",
          "Barack_Obama_-_ISIL_Update_02-25-16",
          "Ferguson_and_Northern_Iraq",
          "On_Counterterrorism_Approach_2016",
          "ISIL_Force_Authorization_Request",
          "Counter_ISIL_Campaign_Update",
          "Syria_Speech_to_the_Nation",
          "Final_State_of_the_Union_Address",
          "ISIL_",
          "Oval_Office_Counter_Terrorism_Agenda"
         ],
         "lat": [
          null,
          40.7127281,
          38.89760605,
          -0.9999454,
          41.3890052,
          27.84364085,
          -0.9999454,
          -0.9999454,
          38.8950368,
          38.8950368,
          -0.9999454,
          38.8976997
         ],
         "legendgroup": "Topic 4",
         "lon": [
          null,
          -74.0060152,
          -77.03435185976429,
          36.7416612,
          -70.5133599,
          -82.50287224965905,
          36.7416612,
          36.7416612,
          -77.0365427,
          -77.0365427,
          36.7416612,
          -77.03655315
         ],
         "marker": {
          "color": "#00cc96",
          "symbol": "circle"
         },
         "mode": "markers",
         "name": "Topic 4",
         "showlegend": true,
         "type": "scattergeo"
        },
        {
         "customdata": [
          [
           38.8950368,
           -77.0365427,
           "Washington D.C.",
           -0.051
          ],
          [
           40.7127281,
           -74.0060152,
           "New York, New York",
           -0.101
          ],
          [
           38.8976997,
           -77.03655315,
           "White House, Washington D.C.",
           -0.039
          ],
          [
           9.0009975,
           38.74212826980348,
           "African Union Headquarters, Addis Ababa, Ethiopia",
           0.02
          ],
          [
           -33.928992,
           18.417396,
           "Cape Town, South Africa",
           -0.036
          ],
          [
           33.7489924,
           -84.3902644,
           "Atlanta Georgia",
           -0.08
          ],
          [
           30.4459596,
           -91.18738,
           "Baton Rouge, Louisiana",
           -0.119
          ],
          [
           5.5543117,
           -0.1933723992148674,
           "Accra International Conference Center, Accra, Ghana",
           -0.035
          ],
          [
           null,
           null,
           "James S. Brady Press Briefing Room",
           -0.088
          ],
          [
           38.98127255,
           -77.12335871396549,
           "Bethesda, Maryland",
           0.006
          ],
          [
           -0.9999454,
           36.7416612,
           "unknown_location",
           -0.209
          ]
         ],
         "geo": "geo",
         "hovertemplate": "<b>%{hovertext}</b><br><br>Topic=Topic 20<br>location=%{customdata[2]}<br>stanza=%{customdata[3]}<extra></extra>",
         "hovertext": [
          "Hurricane_Sandy_Red_Cross",
          "UN_Ebola_Meeting",
          "Ebola_Response_Update",
          "African_Union_Address",
          "Capetown_University",
          "Ebola_CDC",
          "Baton_Rouge_Flooding",
          "Ghana_Parliament",
          "Hurricane_Sandy_ERT",
          "Ebola_NIH_Research",
          "Trayvon_Martin"
         ],
         "lat": [
          38.8950368,
          40.7127281,
          38.8976997,
          9.0009975,
          -33.928992,
          33.7489924,
          30.4459596,
          5.5543117,
          null,
          38.98127255,
          -0.9999454
         ],
         "legendgroup": "Topic 20",
         "lon": [
          -77.0365427,
          -74.0060152,
          -77.03655315,
          38.74212826980348,
          18.417396,
          -84.3902644,
          -91.18738,
          -0.1933723992148674,
          null,
          -77.12335871396549,
          36.7416612
         ],
         "marker": {
          "color": "#ab63fa",
          "symbol": "circle"
         },
         "mode": "markers",
         "name": "Topic 20",
         "showlegend": true,
         "type": "scattergeo"
        },
        {
         "customdata": [
          [
           50.84371815,
           4.359790395373073,
           "Palais des Beaux Arts, Brussels, Belgium",
           -0.114
          ],
          [
           null,
           null,
           "Hannover Messe Building 35, Hanover, Germany",
           -0.085
          ],
          [
           null,
           null,
           "UN Headquarters, New York, New York",
           -0.219
          ],
          [
           null,
           null,
           "Gostinny Dvor, Moscow, Russia",
           -0.07
          ],
          [
           52.24793695,
           21.01378910682335,
           "Castle Square, Warsaw, Poland",
           0.046
          ],
          [
           null,
           null,
           "Nordea Concert Hall Tallinn, Estonia",
           0
          ]
         ],
         "geo": "geo",
         "hovertemplate": "<b>%{hovertext}</b><br><br>Topic=Topic 17<br>location=%{customdata[2]}<br>stanza=%{customdata[3]}<extra></extra>",
         "hovertext": [
          "European_Youth",
          "Europe_Peoples_Hannover",
          "United_Nations_GA_2015",
          "Moscow_New_Economic_School",
          "Polish_Freedom_Day_25",
          "Estonia_People"
         ],
         "lat": [
          50.84371815,
          null,
          null,
          null,
          52.24793695,
          null
         ],
         "legendgroup": "Topic 17",
         "lon": [
          4.359790395373073,
          null,
          null,
          null,
          21.01378910682335,
          null
         ],
         "marker": {
          "color": "#FFA15A",
          "symbol": "circle"
         },
         "mode": "markers",
         "name": "Topic 17",
         "showlegend": true,
         "type": "scattergeo"
        }
       ],
       "layout": {
        "autosize": true,
        "geo": {
         "center": {
          "lat": 0,
          "lon": 0
         },
         "domain": {
          "x": [
           0,
           1
          ],
          "y": [
           0,
           1
          ]
         },
         "fitbounds": false,
         "projection": {
          "rotation": {
           "lon": 0
          },
          "scale": 1,
          "type": "natural earth"
         }
        },
        "legend": {
         "title": {
          "text": "Topic"
         },
         "tracegroupgap": 0
        },
        "margin": {
         "t": 60
        },
        "showlegend": true,
        "template": {
         "data": {
          "bar": [
           {
            "error_x": {
             "color": "#2a3f5f"
            },
            "error_y": {
             "color": "#2a3f5f"
            },
            "marker": {
             "line": {
              "color": "#E5ECF6",
              "width": 0.5
             },
             "pattern": {
              "fillmode": "overlay",
              "size": 10,
              "solidity": 0.2
             }
            },
            "type": "bar"
           }
          ],
          "barpolar": [
           {
            "marker": {
             "line": {
              "color": "#E5ECF6",
              "width": 0.5
             },
             "pattern": {
              "fillmode": "overlay",
              "size": 10,
              "solidity": 0.2
             }
            },
            "type": "barpolar"
           }
          ],
          "carpet": [
           {
            "aaxis": {
             "endlinecolor": "#2a3f5f",
             "gridcolor": "white",
             "linecolor": "white",
             "minorgridcolor": "white",
             "startlinecolor": "#2a3f5f"
            },
            "baxis": {
             "endlinecolor": "#2a3f5f",
             "gridcolor": "white",
             "linecolor": "white",
             "minorgridcolor": "white",
             "startlinecolor": "#2a3f5f"
            },
            "type": "carpet"
           }
          ],
          "choropleth": [
           {
            "colorbar": {
             "outlinewidth": 0,
             "ticks": ""
            },
            "type": "choropleth"
           }
          ],
          "contour": [
           {
            "colorbar": {
             "outlinewidth": 0,
             "ticks": ""
            },
            "colorscale": [
             [
              0,
              "#0d0887"
             ],
             [
              0.1111111111111111,
              "#46039f"
             ],
             [
              0.2222222222222222,
              "#7201a8"
             ],
             [
              0.3333333333333333,
              "#9c179e"
             ],
             [
              0.4444444444444444,
              "#bd3786"
             ],
             [
              0.5555555555555556,
              "#d8576b"
             ],
             [
              0.6666666666666666,
              "#ed7953"
             ],
             [
              0.7777777777777778,
              "#fb9f3a"
             ],
             [
              0.8888888888888888,
              "#fdca26"
             ],
             [
              1,
              "#f0f921"
             ]
            ],
            "type": "contour"
           }
          ],
          "contourcarpet": [
           {
            "colorbar": {
             "outlinewidth": 0,
             "ticks": ""
            },
            "type": "contourcarpet"
           }
          ],
          "heatmap": [
           {
            "colorbar": {
             "outlinewidth": 0,
             "ticks": ""
            },
            "colorscale": [
             [
              0,
              "#0d0887"
             ],
             [
              0.1111111111111111,
              "#46039f"
             ],
             [
              0.2222222222222222,
              "#7201a8"
             ],
             [
              0.3333333333333333,
              "#9c179e"
             ],
             [
              0.4444444444444444,
              "#bd3786"
             ],
             [
              0.5555555555555556,
              "#d8576b"
             ],
             [
              0.6666666666666666,
              "#ed7953"
             ],
             [
              0.7777777777777778,
              "#fb9f3a"
             ],
             [
              0.8888888888888888,
              "#fdca26"
             ],
             [
              1,
              "#f0f921"
             ]
            ],
            "type": "heatmap"
           }
          ],
          "heatmapgl": [
           {
            "colorbar": {
             "outlinewidth": 0,
             "ticks": ""
            },
            "colorscale": [
             [
              0,
              "#0d0887"
             ],
             [
              0.1111111111111111,
              "#46039f"
             ],
             [
              0.2222222222222222,
              "#7201a8"
             ],
             [
              0.3333333333333333,
              "#9c179e"
             ],
             [
              0.4444444444444444,
              "#bd3786"
             ],
             [
              0.5555555555555556,
              "#d8576b"
             ],
             [
              0.6666666666666666,
              "#ed7953"
             ],
             [
              0.7777777777777778,
              "#fb9f3a"
             ],
             [
              0.8888888888888888,
              "#fdca26"
             ],
             [
              1,
              "#f0f921"
             ]
            ],
            "type": "heatmapgl"
           }
          ],
          "histogram": [
           {
            "marker": {
             "pattern": {
              "fillmode": "overlay",
              "size": 10,
              "solidity": 0.2
             }
            },
            "type": "histogram"
           }
          ],
          "histogram2d": [
           {
            "colorbar": {
             "outlinewidth": 0,
             "ticks": ""
            },
            "colorscale": [
             [
              0,
              "#0d0887"
             ],
             [
              0.1111111111111111,
              "#46039f"
             ],
             [
              0.2222222222222222,
              "#7201a8"
             ],
             [
              0.3333333333333333,
              "#9c179e"
             ],
             [
              0.4444444444444444,
              "#bd3786"
             ],
             [
              0.5555555555555556,
              "#d8576b"
             ],
             [
              0.6666666666666666,
              "#ed7953"
             ],
             [
              0.7777777777777778,
              "#fb9f3a"
             ],
             [
              0.8888888888888888,
              "#fdca26"
             ],
             [
              1,
              "#f0f921"
             ]
            ],
            "type": "histogram2d"
           }
          ],
          "histogram2dcontour": [
           {
            "colorbar": {
             "outlinewidth": 0,
             "ticks": ""
            },
            "colorscale": [
             [
              0,
              "#0d0887"
             ],
             [
              0.1111111111111111,
              "#46039f"
             ],
             [
              0.2222222222222222,
              "#7201a8"
             ],
             [
              0.3333333333333333,
              "#9c179e"
             ],
             [
              0.4444444444444444,
              "#bd3786"
             ],
             [
              0.5555555555555556,
              "#d8576b"
             ],
             [
              0.6666666666666666,
              "#ed7953"
             ],
             [
              0.7777777777777778,
              "#fb9f3a"
             ],
             [
              0.8888888888888888,
              "#fdca26"
             ],
             [
              1,
              "#f0f921"
             ]
            ],
            "type": "histogram2dcontour"
           }
          ],
          "mesh3d": [
           {
            "colorbar": {
             "outlinewidth": 0,
             "ticks": ""
            },
            "type": "mesh3d"
           }
          ],
          "parcoords": [
           {
            "line": {
             "colorbar": {
              "outlinewidth": 0,
              "ticks": ""
             }
            },
            "type": "parcoords"
           }
          ],
          "pie": [
           {
            "automargin": true,
            "type": "pie"
           }
          ],
          "scatter": [
           {
            "fillpattern": {
             "fillmode": "overlay",
             "size": 10,
             "solidity": 0.2
            },
            "type": "scatter"
           }
          ],
          "scatter3d": [
           {
            "line": {
             "colorbar": {
              "outlinewidth": 0,
              "ticks": ""
             }
            },
            "marker": {
             "colorbar": {
              "outlinewidth": 0,
              "ticks": ""
             }
            },
            "type": "scatter3d"
           }
          ],
          "scattercarpet": [
           {
            "marker": {
             "colorbar": {
              "outlinewidth": 0,
              "ticks": ""
             }
            },
            "type": "scattercarpet"
           }
          ],
          "scattergeo": [
           {
            "marker": {
             "colorbar": {
              "outlinewidth": 0,
              "ticks": ""
             }
            },
            "type": "scattergeo"
           }
          ],
          "scattergl": [
           {
            "marker": {
             "colorbar": {
              "outlinewidth": 0,
              "ticks": ""
             }
            },
            "type": "scattergl"
           }
          ],
          "scattermapbox": [
           {
            "marker": {
             "colorbar": {
              "outlinewidth": 0,
              "ticks": ""
             }
            },
            "type": "scattermapbox"
           }
          ],
          "scatterpolar": [
           {
            "marker": {
             "colorbar": {
              "outlinewidth": 0,
              "ticks": ""
             }
            },
            "type": "scatterpolar"
           }
          ],
          "scatterpolargl": [
           {
            "marker": {
             "colorbar": {
              "outlinewidth": 0,
              "ticks": ""
             }
            },
            "type": "scatterpolargl"
           }
          ],
          "scatterternary": [
           {
            "marker": {
             "colorbar": {
              "outlinewidth": 0,
              "ticks": ""
             }
            },
            "type": "scatterternary"
           }
          ],
          "surface": [
           {
            "colorbar": {
             "outlinewidth": 0,
             "ticks": ""
            },
            "colorscale": [
             [
              0,
              "#0d0887"
             ],
             [
              0.1111111111111111,
              "#46039f"
             ],
             [
              0.2222222222222222,
              "#7201a8"
             ],
             [
              0.3333333333333333,
              "#9c179e"
             ],
             [
              0.4444444444444444,
              "#bd3786"
             ],
             [
              0.5555555555555556,
              "#d8576b"
             ],
             [
              0.6666666666666666,
              "#ed7953"
             ],
             [
              0.7777777777777778,
              "#fb9f3a"
             ],
             [
              0.8888888888888888,
              "#fdca26"
             ],
             [
              1,
              "#f0f921"
             ]
            ],
            "type": "surface"
           }
          ],
          "table": [
           {
            "cells": {
             "fill": {
              "color": "#EBF0F8"
             },
             "line": {
              "color": "white"
             }
            },
            "header": {
             "fill": {
              "color": "#C8D4E3"
             },
             "line": {
              "color": "white"
             }
            },
            "type": "table"
           }
          ]
         },
         "layout": {
          "annotationdefaults": {
           "arrowcolor": "#2a3f5f",
           "arrowhead": 0,
           "arrowwidth": 1
          },
          "autotypenumbers": "strict",
          "coloraxis": {
           "colorbar": {
            "outlinewidth": 0,
            "ticks": ""
           }
          },
          "colorscale": {
           "diverging": [
            [
             0,
             "#8e0152"
            ],
            [
             0.1,
             "#c51b7d"
            ],
            [
             0.2,
             "#de77ae"
            ],
            [
             0.3,
             "#f1b6da"
            ],
            [
             0.4,
             "#fde0ef"
            ],
            [
             0.5,
             "#f7f7f7"
            ],
            [
             0.6,
             "#e6f5d0"
            ],
            [
             0.7,
             "#b8e186"
            ],
            [
             0.8,
             "#7fbc41"
            ],
            [
             0.9,
             "#4d9221"
            ],
            [
             1,
             "#276419"
            ]
           ],
           "sequential": [
            [
             0,
             "#0d0887"
            ],
            [
             0.1111111111111111,
             "#46039f"
            ],
            [
             0.2222222222222222,
             "#7201a8"
            ],
            [
             0.3333333333333333,
             "#9c179e"
            ],
            [
             0.4444444444444444,
             "#bd3786"
            ],
            [
             0.5555555555555556,
             "#d8576b"
            ],
            [
             0.6666666666666666,
             "#ed7953"
            ],
            [
             0.7777777777777778,
             "#fb9f3a"
            ],
            [
             0.8888888888888888,
             "#fdca26"
            ],
            [
             1,
             "#f0f921"
            ]
           ],
           "sequentialminus": [
            [
             0,
             "#0d0887"
            ],
            [
             0.1111111111111111,
             "#46039f"
            ],
            [
             0.2222222222222222,
             "#7201a8"
            ],
            [
             0.3333333333333333,
             "#9c179e"
            ],
            [
             0.4444444444444444,
             "#bd3786"
            ],
            [
             0.5555555555555556,
             "#d8576b"
            ],
            [
             0.6666666666666666,
             "#ed7953"
            ],
            [
             0.7777777777777778,
             "#fb9f3a"
            ],
            [
             0.8888888888888888,
             "#fdca26"
            ],
            [
             1,
             "#f0f921"
            ]
           ]
          },
          "colorway": [
           "#636efa",
           "#EF553B",
           "#00cc96",
           "#ab63fa",
           "#FFA15A",
           "#19d3f3",
           "#FF6692",
           "#B6E880",
           "#FF97FF",
           "#FECB52"
          ],
          "font": {
           "color": "#2a3f5f"
          },
          "geo": {
           "bgcolor": "white",
           "lakecolor": "white",
           "landcolor": "#E5ECF6",
           "showlakes": true,
           "showland": true,
           "subunitcolor": "white"
          },
          "hoverlabel": {
           "align": "left"
          },
          "hovermode": "closest",
          "mapbox": {
           "style": "light"
          },
          "paper_bgcolor": "white",
          "plot_bgcolor": "#E5ECF6",
          "polar": {
           "angularaxis": {
            "gridcolor": "white",
            "linecolor": "white",
            "ticks": ""
           },
           "bgcolor": "#E5ECF6",
           "radialaxis": {
            "gridcolor": "white",
            "linecolor": "white",
            "ticks": ""
           }
          },
          "scene": {
           "xaxis": {
            "backgroundcolor": "#E5ECF6",
            "gridcolor": "white",
            "gridwidth": 2,
            "linecolor": "white",
            "showbackground": true,
            "ticks": "",
            "zerolinecolor": "white"
           },
           "yaxis": {
            "backgroundcolor": "#E5ECF6",
            "gridcolor": "white",
            "gridwidth": 2,
            "linecolor": "white",
            "showbackground": true,
            "ticks": "",
            "zerolinecolor": "white"
           },
           "zaxis": {
            "backgroundcolor": "#E5ECF6",
            "gridcolor": "white",
            "gridwidth": 2,
            "linecolor": "white",
            "showbackground": true,
            "ticks": "",
            "zerolinecolor": "white"
           }
          },
          "shapedefaults": {
           "line": {
            "color": "#2a3f5f"
           }
          },
          "ternary": {
           "aaxis": {
            "gridcolor": "white",
            "linecolor": "white",
            "ticks": ""
           },
           "baxis": {
            "gridcolor": "white",
            "linecolor": "white",
            "ticks": ""
           },
           "bgcolor": "#E5ECF6",
           "caxis": {
            "gridcolor": "white",
            "linecolor": "white",
            "ticks": ""
           }
          },
          "title": {
           "x": 0.05
          },
          "xaxis": {
           "automargin": true,
           "gridcolor": "white",
           "linecolor": "white",
           "ticks": "",
           "title": {
            "standoff": 15
           },
           "zerolinecolor": "white",
           "zerolinewidth": 2
          },
          "yaxis": {
           "automargin": true,
           "gridcolor": "white",
           "linecolor": "white",
           "ticks": "",
           "title": {
            "standoff": 15
           },
           "zerolinecolor": "white",
           "zerolinewidth": 2
          }
         }
        },
        "title": {
         "text": "Obama`s Speeches with Sentiment Scores per topic <br>(Click legend to toggle traces)"
        }
       }
      },
      "image/png": "[encoded data removed]",
      "text/html": [
       "<div>                            <div id=\"4a471e78-fdfd-46ab-86f4-b033fdab54db\" class=\"plotly-graph-div\" style=\"height:525px; width:100%;\"></div>            <script type=\"text/javascript\">                require([\"plotly\"], function(Plotly) {                    window.PLOTLYENV=window.PLOTLYENV || {};                                    if (document.getElementById(\"4a471e78-fdfd-46ab-86f4-b033fdab54db\")) {                    Plotly.newPlot(                        \"4a471e78-fdfd-46ab-86f4-b033fdab54db\",                        [{\"customdata\":[[38.9165229,-77.0452084,\"Washington Hilton, Washington D.C.\",0.099],[38.8950368,-77.0365427,\"Washington D.C.\",-0.075],[26.64469215,-81.871826378728,\"Harborside Event Center, Fort Myers, Florida\",0.022],[-0.9999454,36.7416612,\"unknown_location\",-0.182],[41.412387,-73.31153913634024,\"Newtown, Connecticut\",-0.054],[-0.9999454,36.7416612,\"unknown_location\",-0.148],[38.8976997,-77.03655315,\"White House, Washington D.C.\",-0.157],[null,null,\"The Marine Barracks, Washington D.C.\",-0.119],[-0.9999454,36.7416612,\"unknown_location\",0.055],[-0.9999454,36.7416612,\"unknown_location\",-0.04],[-0.9999454,36.7416612,\"unknown_location\",-0.059],[38.8976997,-77.03655315,\"White House, Washington D.C.\",0.143],[null,null,\"University of Baylor, Waco, Texas\",-0.052],[38.93065095,-77.07059515120122,\"Washington National Cathedral, Washington D.C.\",0.035],[38.8903961,-77.0841585,\"Arlington, Virginia\",0.024],[-0.9999454,36.7416612,\"unknown_location\",-0.053],[38.8950368,-77.0365427,\"Washington D.C.\",-0.042],[null,null,\"Phillips Center for the Performing Arts, Orlando, Florida\",-0.03],[null,null,\"Our Lady of Perpetual Help Basilica, Boston\",0.065],[42.3602534,-71.0582912,\"Boston, Massachusetts\",0.067],[-0.9999454,36.7416612,\"unknown_location\",0.036],[38.8950368,-77.0365427,\"Washington D.C.\",-0.128],[37.09536065,-94.45764031637654,\"Missouri Southern University, Joplin Missouri\",-0.06],[-0.9999454,36.7416612,\"unknown_location\",-0.117],[null,null,\"McKale Memorial Center, University of Arizona, Tucson\",0.02],[32.7844246,-79.93811493945894,\"College of Charleston, Charleston, South Carolina\",-0.082],[38.3363062,-81.61227444920297,\"West Virginia State Capitol, Charleston, West Virginia\",0.18],[21.48343645,-158.03648372697478,\"Oahu, Hawaii\",0.043],[37.7781702,-81.1881557,\"Beckley, West Virginia\",-0.042],[38.8976997,-77.03655315,\"White House, Washington D.C.\",0.0],[null,null,\"St. Anthony of Padua Church Wilmington, Delaware\",-0.043],[-0.9999454,36.7416612,\"unknown_location\",0.06],[null,null,\"U.S. Capitol Western Front, Washington D.C.\",-0.133],[38.8903961,-77.0841585,\"Arlington, Virginia\",0.083],[-0.9999454,36.7416612,\"unknown_location\",-0.052]],\"geo\":\"geo\",\"hovertemplate\":\"<b>%{hovertext}</b><br><br>Topic=Topic 21<br>location=%{customdata[2]}<br>stanza=%{customdata[3]}<extra></extra>\",\"hovertext\":[\"Prayer_Breakfast_2016\",\"Holocaust_Days_of_Remembrance\",\"Aurora_Tragedy\",\"Sandy_Hook_Elementary_School\",\"Newtown_Vigil_Address\",\"Buchenwald_Concentration_Camp\",\"South_Carolina_AME_Church_Shooting\",\"Navy_Yard_Shooting_Memorial\",\"Notre_Dame_Commencement\",\"Auschwitz_and_Birkenau_Liberation_65th\",\"911_Pentagon_Memorial_2010\",\"Pope_Francis_White_House_Welcome\",\"West_Fertilizer_Tragedy_Memorial\",\"Dorothy_Height_Eulogy\",\"911_Pentagon_Memorial_2009\",\"SSG_Bryan_Pitts_MOH\",\"Prayer_Breakfast_2011\",\"Orlando_Community\",\"Ted_Kennedy_Eulogy\",\"Holy_Cross_Interfaith_Prayer_Service\",\"Prayer_Breakfast_2015\",\"National_Holocaust_Memorial_Museum\",\"Joplin_Tornado_Victims_Memorial\",\"Prayer_Breakfast_2010\",\"Tucson_Memorial_Address\",\"Clementa_Pinckney_Eulogy\",\"Robert_Bryd_Eulogy\",\"Pearl_Harbor_Address\",\"Eulogy_West_Virginia_Coal_Miners\",\"Emil_Kapaun_Medal_of_Honor\",\"Beau_Biden_Eulogy\",\"Fathers_Day_2010\",\"Inaugural_Address\",\"911_After_15_Years\",\"Clinton_Global_Initiative_Human_Trafficking\"],\"lat\":[38.9165229,38.8950368,26.64469215,-0.9999454,41.412387,-0.9999454,38.8976997,null,-0.9999454,-0.9999454,-0.9999454,38.8976997,null,38.93065095,38.8903961,-0.9999454,38.8950368,null,null,42.3602534,-0.9999454,38.8950368,37.09536065,-0.9999454,null,32.7844246,38.3363062,21.48343645,37.7781702,38.8976997,null,-0.9999454,null,38.8903961,-0.9999454],\"legendgroup\":\"Topic 21\",\"lon\":[-77.0452084,-77.0365427,-81.871826378728,36.7416612,-73.31153913634024,36.7416612,-77.03655315,null,36.7416612,36.7416612,36.7416612,-77.03655315,null,-77.07059515120122,-77.0841585,36.7416612,-77.0365427,null,null,-71.0582912,36.7416612,-77.0365427,-94.45764031637654,36.7416612,null,-79.93811493945894,-81.61227444920297,-158.03648372697478,-81.1881557,-77.03655315,null,36.7416612,null,-77.0841585,36.7416612],\"marker\":{\"color\":\"#636efa\",\"symbol\":\"circle\"},\"mode\":\"markers\",\"name\":\"Topic 21\",\"showlegend\":true,\"type\":\"scattergeo\"},{\"customdata\":[[41.8755616,-87.6244212,\"Chicago, Illinois\",0.14],[null,null,\"Kaneohe Bay Marine Base, Kaneohe, Hawaii\",-0.054],[-0.9999454,36.7416612,\"unknown_location\",0.032],[21.394833,-157.72989134661873,\"Kailua, Hawaii\",-0.113],[38.8976997,-77.03655315,\"White House, Washington D.C.\",-0.16],[38.8927368,-77.02292005112255,\"National Archives, Washington D.C.\",-0.22],[38.8976997,-77.03655315,\"White House, Washington D.C.\",-0.096],[38.8976997,-77.03655315,\"White House, Washington D.C.\",-0.04],[-0.9999454,36.7416612,\"unknown_location\",-0.093],[-0.9999454,36.7416612,\"unknown_location\",-0.162],[null,null,\"Department of Justice, Washington D.C.\",-0.158],[-0.9999454,36.7416612,\"unknown_location\",-0.163],[38.9318369,-77.1671337963356,\"McLean, Virginia\",0.011],[38.9464996,-77.1588685,\"Langley, Virginia\",0.068],[38.8976997,-77.03655315,\"White House, Washington D.C.\",-0.06],[38.8976997,-77.03655315,\"White House, Washington D.C.\",-0.174],[38.8976997,-77.03655315,\"White House, Washington D.C.\",-0.164],[38.8950368,-77.0365427,\"Washington D.C.\",0.031],[40.75798035,-73.97476900451042,\"Lotte New York Palace Hotel, New York City, New York\",-0.119],[38.9464996,-77.1588685,\"Langley, Virginia\",0.065],[-0.9999454,36.7416612,\"unknown_location\",-0.088]],\"geo\":\"geo\",\"hovertemplate\":\"<b>%{hovertext}</b><br><br>Topic=Topic 10<br>location=%{customdata[2]}<br>stanza=%{customdata[3]}<extra></extra>\",\"hovertext\":[\"Security_Team_Announcement\",\"NW_Flight_253_Update\",\"Boston_Marathon_Bombing_First_Statement\",\"Flight_253_Terrorist_Attempt_Press_Statement\",\"IRS_Misconduct\",\"National_Security_National_Archives\",\"Hostage_Policy_Review\",\"Hostage_Drone_Death\",\"Boston_Marathon_Bombing_Second_Statement\",\"Osama_bin_Laden_Death\",\"US_Intelligence_Program_Review_Outcome\",\"Aviation_Security\",\"NCTC_2015\",\"CIA_Intelligence_Community\",\"Orlando_Shootings_Statement\",\"Guantanamo_Bay_Closing\",\"Presser_XMas_Terrorist_Attempt\",\"Paris_Terrorist_Attacks\",\"NY_NJ_Explosions\",\"CIA_First_Speech\",\"Boston_Marathon_Bombing_Third_Statement\"],\"lat\":[41.8755616,null,-0.9999454,21.394833,38.8976997,38.8927368,38.8976997,38.8976997,-0.9999454,-0.9999454,null,-0.9999454,38.9318369,38.9464996,38.8976997,38.8976997,38.8976997,38.8950368,40.75798035,38.9464996,-0.9999454],\"legendgroup\":\"Topic 10\",\"lon\":[-87.6244212,null,36.7416612,-157.72989134661873,-77.03655315,-77.02292005112255,-77.03655315,-77.03655315,36.7416612,36.7416612,null,36.7416612,-77.1671337963356,-77.1588685,-77.03655315,-77.03655315,-77.03655315,-77.0365427,-73.97476900451042,-77.1588685,36.7416612],\"marker\":{\"color\":\"#EF553B\",\"symbol\":\"circle\"},\"mode\":\"markers\",\"name\":\"Topic 10\",\"showlegend\":true,\"type\":\"scattergeo\"},{\"customdata\":[[30.0443879,31.2357257,\"Cairo, Egypt\",-0.15],[38.8950368,-77.0365427,\"Washington D.C.\",0.158],[40.7127281,-74.0060152,\"New York, New York\",-0.216],[-6.1753942,106.827183,\"Jakarta, Indonesia\",0.053],[39.2908816,-76.610759,\"Baltimore, Maryland\",-0.038],[38.8950368,-77.0365427,\"Washington D.C.\",0.041],[38.8976997,-77.03655315,\"White House, Washington D.C.\",-0.125],[39.9207886,32.8540482,\"Ankara, Turkey\",0.024]],\"geo\":\"geo\",\"hovertemplate\":\"<b>%{hovertext}</b><br><br>Topic=Topic 22<br>location=%{customdata[2]}<br>stanza=%{customdata[3]}<extra></extra>\",\"hovertext\":[\"Cairo_University\",\"Prayer_Breakfast_2014\",\"United_Nations_General_Assembly_2014\",\"Indonesia_University\",\"Islamic_Society_Baltimore\",\"Iftar_Dinner_on_Religious_Tolerance\",\"Countering_Violent_Religious_Extremism\",\"Turkish_Parliament\"],\"lat\":[30.0443879,38.8950368,40.7127281,-6.1753942,39.2908816,38.8950368,38.8976997,39.9207886],\"legendgroup\":\"Topic 22\",\"lon\":[31.2357257,-77.0365427,-74.0060152,106.827183,-76.610759,-77.0365427,-77.03655315,32.8540482],\"marker\":{\"color\":\"#00cc96\",\"symbol\":\"circle\"},\"mode\":\"markers\",\"name\":\"Topic 22\",\"showlegend\":true,\"type\":\"scattergeo\"},{\"customdata\":[[38.8950368,-77.0365427,\"Washington D.C.\",-0.25],[-0.9999454,36.7416612,\"unknown_location\",-0.233],[38.8976997,-77.03655315,\"White House, Washington D.C.\",-0.27],[38.8976997,-77.03655315,\"White House, Washington D.C.\",-0.125],[39.7493375,-104.88460913352296,\"Denver Police Academy, Denver. Colorado\",-0.203],[37.78573425,-122.41043691372737,\"Hilton San Francisco Union Square, California\",-0.06],[-0.9999454,36.7416612,\"unknown_location\",-0.068]],\"geo\":\"geo\",\"hovertemplate\":\"<b>%{hovertext}</b><br><br>Topic=Topic 7<br>location=%{customdata[2]}<br>stanza=%{customdata[3]}<extra></extra>\",\"hovertext\":[\"Umpqua_Community_College_Shootings\",\"Gun_Violence_Exec_Order_23\",\"Senate_Vote_Background_Check\",\"Gun_Violence_Reduction_Steps\",\"Gun_Violence_Denver\",\"Mayors_Conference_2015\",\"Barack_Obama_-_Weekly_Address_01-01-16\"],\"lat\":[38.8950368,-0.9999454,38.8976997,38.8976997,39.7493375,37.78573425,-0.9999454],\"legendgroup\":\"Topic 7\",\"lon\":[-77.0365427,36.7416612,-77.03655315,-77.03655315,-104.88460913352296,-122.41043691372737,36.7416612],\"marker\":{\"color\":\"#ab63fa\",\"symbol\":\"circle\"},\"mode\":\"markers\",\"name\":\"Topic 7\",\"showlegend\":true,\"type\":\"scattergeo\"},{\"customdata\":[[38.9165229,-77.0452084,\"Washington Hilton Hotel, Washington D.C.\",-0.012],[null,null,\"Fleet Center, Boston\",-0.018],[null,null,\"Veterans Memorial Auditorium, Des Moines, Iowa\",-0.305],[41.8515481,-87.6164334,\"McCormick Place, Chicago, Illinois\",-0.076],[38.8950368,-77.0365427,\"Washington D.C.\",-0.109],[38.8976997,-77.03655315,\"White House, Washington D.C.\",0.148],[40.7713396,-73.9835065,\"Lincoln Center, New York, New York\",-0.111],[38.8950368,-77.0365427,\"Washington D.C.\",-0.025],[38.8950368,-77.0365427,\"Washington D.C.\",-0.208],[-0.9999454,36.7416612,\"unknown_location\",-0.231],[39.79842575,-89.65491801985712,\"Illinois State Capitol, Springfield, Illinois\",-0.18],[44.9497487,-93.0931028,\"St. Paul, Minnesota\",0.009],[38.9165229,-77.0452084,\"Washington Hilton Hotel, D.C.\",-0.008],[38.9031219,-77.0359328,\"Capital Hilton, Washington D.C.\",-0.031],[38.89445405,-77.04260729303007,\"Department of Interior, Washington D.C.\",0.052],[41.8515481,-87.6164334,\"McCormick Place Chicago, Illinois\",-0.074],[41.5910323,-93.6046655,\"Des Moines, Iowa\",-0.189],[38.99203005,-76.94610290199051,\"Prince George County, Maryland\",-0.176],[38.93065095,-77.07059515120122,\"National Cathedral, Washington D.C.\",0.125],[-0.9999454,36.7416612,\"unknown_location\",0.129],[38.8976997,-77.03655315,\"White House, Washington D.C.\",0.31],[41.8755616,-87.6244212,\"Chicago, Illinois\",-0.063],[38.8950368,-77.0365427,\"Washington D.C.\",0.1],[38.8950368,-77.0365427,\"Washington D.C.\",-0.131],[32.841801149999995,-96.78152810147064,\"Southern Methodist University, Dallas, Texas\",0.094],[38.8976997,-77.03655315,\"White House, Washington D.C.\",0.273],[38.9165229,-77.0452084,\"Washington Hilton Hotel, Washington D.C.\",-0.061],[42.3602534,-71.0582912,\"Boston, Massachusetts\",-0.06],[38.8976997,-77.03655315,\"White House, Washington D.C.\",0.121],[38.8950368,-77.0365427,\"Washington D.C.\",-0.179],[-0.9999454,36.7416612,\"unknown_location\",-0.152]],\"geo\":\"geo\",\"hovertemplate\":\"<b>%{hovertext}</b><br><br>Topic=Topic 23<br>location=%{customdata[2]}<br>stanza=%{customdata[3]}<extra></extra>\",\"hovertext\":[\"White_House_Correspondent_Dinner_2013\",\"2004_DNC_Address\",\"Barack_Obama_-_Jefferson-Jackson_Dinner\",\"Farewell_Address\",\"White_House_Correspondents_Dinner_2011\",\"Joe_Biden_Medal_of_Freedom\",\"Walter_Cronkite_Memorial\",\"Chicago_Cubs_WH_Visit\",\"Senate_Speech_on_Ohio_Electoral_Vote\",\"Candidate_Exploratory_Announcement\",\"Illinois_General_Assembly\",\"Nomination_Victory\",\"White_House_Correspondents_Dinner_First\",\"White_House_Correspondents_Dinner_2016\",\"Tribal_Nations_Conference\",\"Second_Presidential_Election_Victory_Speech\",\"Iowa_Caucus_Victory_Speech\",\"Farewell_to_Staff_and_Supporters\",\"Daniel_Inouye_Eulogy\",\"Hillary_Clinton_Endorsement\",\"First_Meeting_with_President_Elect_Donald_Trump\",\"Presidential_Victory_Speech\",\"Go_Presidential_Election_Outcome_2016\",\"White_House_Correspondent_Dinner_2014\",\"GWB_Library_Dedication\",\"Kennedy_Center_Honorees_2016\",\"White_House_Correspondents_Dinner_2010\",\"Ted_Kennedy_Institute_Dedication\",\"Golden_State_Warriors\",\"Birth_Certificate_Release\",\"Michigan_University_Commencement\"],\"lat\":[38.9165229,null,null,41.8515481,38.8950368,38.8976997,40.7713396,38.8950368,38.8950368,-0.9999454,39.79842575,44.9497487,38.9165229,38.9031219,38.89445405,41.8515481,41.5910323,38.99203005,38.93065095,-0.9999454,38.8976997,41.8755616,38.8950368,38.8950368,32.841801149999995,38.8976997,38.9165229,42.3602534,38.8976997,38.8950368,-0.9999454],\"legendgroup\":\"Topic 23\",\"lon\":[-77.0452084,null,null,-87.6164334,-77.0365427,-77.03655315,-73.9835065,-77.0365427,-77.0365427,36.7416612,-89.65491801985712,-93.0931028,-77.0452084,-77.0359328,-77.04260729303007,-87.6164334,-93.6046655,-76.94610290199051,-77.07059515120122,36.7416612,-77.03655315,-87.6244212,-77.0365427,-77.0365427,-96.78152810147064,-77.03655315,-77.0452084,-71.0582912,-77.03655315,-77.0365427,36.7416612],\"marker\":{\"color\":\"#FFA15A\",\"symbol\":\"circle\"},\"mode\":\"markers\",\"name\":\"Topic 23\",\"showlegend\":true,\"type\":\"scattergeo\"},{\"customdata\":[[-0.9999454,36.7416612,\"unknown_location\",-0.177],[38.8950368,-77.0365427,\"Washington D.C.\",-0.118],[-0.9999454,36.7416612,\"unknown_location\",-0.13],[38.93804505,-77.08939223651926,\"American University, Washington D.C.\",-0.144],[null,null,\"Del Sol HS, Las Vegas, Nevada\",-0.024],[38.8950368,-77.0365427,\"Washington D.C.\",-0.042],[-0.9999454,36.7416612,\"unknown_location\",-0.118],[null,null,\"Anthropological Museum, Mexico City\",0.06]],\"geo\":\"geo\",\"hovertemplate\":\"<b>%{hovertext}</b><br><br>Topic=Topic 18<br>location=%{customdata[2]}<br>stanza=%{customdata[3]}<extra></extra>\",\"hovertext\":[\"Border_Security_and_Immigration_Reform\",\"Senate_Floor_Immigration_Reform\",\"Fixing_Immigration_Policy\",\"Comprehensive_Immigration_Reform\",\"Comprehensive_Immigration_Reform_Vegas\",\"Naturalization_National_Archives\",\"Immigration_Senate_Call\",\"Mexico_Address\"],\"lat\":[-0.9999454,38.8950368,-0.9999454,38.93804505,null,38.8950368,-0.9999454,null],\"legendgroup\":\"Topic 18\",\"lon\":[36.7416612,-77.0365427,36.7416612,-77.08939223651926,null,-77.0365427,36.7416612,null],\"marker\":{\"color\":\"#19d3f3\",\"symbol\":\"circle\"},\"mode\":\"markers\",\"name\":\"Topic 18\",\"showlegend\":true,\"type\":\"scattergeo\"},{\"customdata\":[[55.6867243,12.5700724,\"Copenhagen, Denmark\",-0.09],[-0.9999454,36.7416612,\"unknown_location\",-0.128],[48.8727056,2.32675,\"Le Bourget, Paris, France\",-0.129],[38.8020807,-76.92419076299771,\"Camp Springs, Maryland\",-0.011],[38.8950368,-77.0365427,\"Washington D.C.\",-0.255],[38.90893925,-77.07457962060826,\"Georgetown University, Washington D.C.\",-0.106],[38.8976997,-77.03655315,\"White House, Washington D.C.\",-0.189],[29.2366172,-89.9872942,\"Grande Isle, Louisiana\",-0.175],[38.8976997,-77.03655315,\"White House, Washington D.C.\",-0.068],[38.8976997,-77.03655315,\"White House, Washington D.C.\",0.018],[30.3321838,-81.655651,\"Jacksonville, Florida\",-0.075]],\"geo\":\"geo\",\"hovertemplate\":\"<b>%{hovertext}</b><br><br>Topic=Topic 6<br>location=%{customdata[2]}<br>stanza=%{customdata[3]}<extra></extra>\",\"hovertext\":[\"UN_Copenhagen_Climate_Change\",\"Global_Climate_Message\",\"COP21\",\"Energy_Security_AAFB\",\"Oval_Office_BP\",\"Energy_Security_Georgetown\",\"Clean_Power_Plan\",\"Grande_Isle_Briefing\",\"Repeal_Oil_and_Gas_Subsidies\",\"Paris_Climate_Agreement\",\"Recovery_and_Reinvestment_Act_2016\"],\"lat\":[55.6867243,-0.9999454,48.8727056,38.8020807,38.8950368,38.90893925,38.8976997,29.2366172,38.8976997,38.8976997,30.3321838],\"legendgroup\":\"Topic 6\",\"lon\":[12.5700724,36.7416612,2.32675,-76.92419076299771,-77.0365427,-77.07457962060826,-77.03655315,-89.9872942,-77.03655315,-77.03655315,-81.655651],\"marker\":{\"color\":\"#FF6692\",\"symbol\":\"circle\"},\"mode\":\"markers\",\"name\":\"Topic 6\",\"showlegend\":true,\"type\":\"scattergeo\"},{\"customdata\":[[37.9406226,23.6913101,\"Stavros Niarchos Foundation Cultural Center, Athens, Greece\",-0.055],[null,null,\"Siri Fort Auditorium, New Delhi, India\",0.086],[54.5972712,-5.9211082,\"Waterfront, Belfast, Northern Ireland\",0.049],[-0.9999454,36.7416612,\"unknown_location\",0.034],[16.7967129,96.1609916,\"Yangon, Myanmar\",-0.015],[-0.9999454,36.7416612,\"unknown_location\",0.214],[null,null,\"Oslo City Hall, Oslo, Norway\",-0.152],[52.516338950000005,13.378687202182196,\"Pariser Platz, Berlin, Germany\",-0.029],[-0.9999454,36.7416612,\"unknown_location\",-0.07],[-22.2796324,-42.536578235953726,\"Teatro Municipal, Rio de Janeiro\",0.072],[52.51450815,13.350110811262352,\"Victory Column\",-0.089],[40.7127281,-74.0060152,\"New York, New York\",-0.191],[51.4995549,-0.1254826,\"Westminster Hall, London\",-0.143],[28.6138954,77.2090057,\"New Delhi, India\",0.015],[38.8950368,-77.0365427,\"Washington D.C.\",-0.095],[null,null,\"First National Bank Stadium, Johannesburg, South Africa\",0.077],[-1.2299123,36.8886162,\"Safaricom Indoor Arena, Nairobi, Kenya\",-0.098],[34.3916058,132.4518156,\"Hiroshima, Japan\",-0.146]],\"geo\":\"geo\",\"hovertemplate\":\"<b>%{hovertext}</b><br><br>Topic=Topic 8<br>location=%{customdata[2]}<br>stanza=%{customdata[3]}<extra></extra>\",\"hovertext\":[\"People_of_Greece\",\"India_Speech_at_New_Delhi\",\"Northern_Ireland_Speech\",\"Burundi_People_Message\",\"Yangon_University\",\"On_the_Passing_of_Nelson_Mandela\",\"Nobel_Lecture\",\"Brandenburg_Gate_Speech\",\"Egypt_History_Revolution\",\"Rio_de_Janeiro\",\"Berlin_Address\",\"United_Nations_GA_2016\",\"British_Parliament\",\"Indian_Parliament\",\"Second_Presidential_Inaugural_Address\",\"Mandela_Public_Memorial_Address\",\"Kenya_People_Speech\",\"Hiroshima_Peace_Memorial_Address\"],\"lat\":[37.9406226,null,54.5972712,-0.9999454,16.7967129,-0.9999454,null,52.516338950000005,-0.9999454,-22.2796324,52.51450815,40.7127281,51.4995549,28.6138954,38.8950368,null,-1.2299123,34.3916058],\"legendgroup\":\"Topic 8\",\"lon\":[23.6913101,null,-5.9211082,36.7416612,96.1609916,36.7416612,null,13.378687202182196,36.7416612,-42.536578235953726,13.350110811262352,-74.0060152,-0.1254826,77.2090057,-77.0365427,null,36.8886162,132.4518156],\"marker\":{\"color\":\"#B6E880\",\"symbol\":\"circle\"},\"mode\":\"markers\",\"name\":\"Topic 8\",\"showlegend\":true,\"type\":\"scattergeo\"},{\"customdata\":[[38.8462236,-77.3063733,\"Fairfax, Virginia\",-0.286],[-0.9999454,36.7416612,\"unknown_location\",-0.246],[40.4416941,-79.9900861,\"Pittsburgh, Pennsylvania\",-0.274],[-0.9999454,36.7416612,\"unknown_location\",-0.267],[38.90893925,-77.07457962060826,\"Georgetown University, Washington D.C.\",-0.298],[41.8755616,-87.6244212,\"Chicago, Illinois\",0.061],[38.8976997,-77.03655315,\"White House, Washington D.C.\",-0.226],[null,null,\"Ronald Reagan Building, Washington D.C.\",-0.356],[41.8755616,-87.6244212,\"Chicago, Illinois\",0.074],[38.8950368,-77.0365427,\"Washington D.C.\",-0.232],[-0.9999454,36.7416612,\"unknown_location\",-0.319],[40.7295282,-73.9905606,\"Cooper Union, New York, New York\",-0.281],[41.8755616,-87.6244212,\"Chicago, Illinois\",-0.132],[-0.9999454,36.7416612,\"unknown_location\",-0.412]],\"geo\":\"geo\",\"hovertemplate\":\"<b>%{hovertext}</b><br><br>Topic=Topic 19<br>location=%{customdata[2]}<br>stanza=%{customdata[3]}<extra></extra>\",\"hovertext\":[\"George_Mason_21st_Century_Economy\",\"State_of_the_Nation_2009\",\"Carnegie_Mellon_Economy\",\"First_Presidential_Weekly_Address\",\"New_Foundation_Georgetown\",\"Announces_Commerce_Secretary_Designate\",\"Economic_Crisis_and_Executive_Compensation_Salary_Cap\",\"Barack_Obama_-_Dodd-Frank_Signing\",\"New_Economic_Team\",\"Brookings_Institute\",\"Senate_Floor_Speech_on_Wall_Street_Bailout_Bill\",\"Reforming_Wall_Street\",\"First_Press_Conference\",\"Finance_Crisis_Fee\"],\"lat\":[38.8462236,-0.9999454,40.4416941,-0.9999454,38.90893925,41.8755616,38.8976997,null,41.8755616,38.8950368,-0.9999454,40.7295282,41.8755616,-0.9999454],\"legendgroup\":\"Topic 19\",\"lon\":[-77.3063733,36.7416612,-79.9900861,36.7416612,-77.07457962060826,-87.6244212,-77.03655315,null,-87.6244212,-77.0365427,36.7416612,-73.9905606,-87.6244212,36.7416612],\"marker\":{\"color\":\"#FF97FF\",\"symbol\":\"circle\"},\"mode\":\"markers\",\"name\":\"Topic 19\",\"showlegend\":true,\"type\":\"scattergeo\"},{\"customdata\":[[45.4871723,-122.80378,\"Beaverton, Oregon\",-0.08],[-27.4689682,153.0234991,\"Brisbane, Australia\",0.063],[34.7246431,135.5542138,\"Shima City, Japan\",-0.132],[21.00636225,105.78709927095412,\"National Convention Center, Hanoi, Vietnam\",0.032],[-35.319217,149.1490751,\"Canberra, Australia\",0.0],[17.96615525,102.60664770784688,\"Lao National Cultural Hall, Vientiane, Laos\",-0.04],[null,null,\"House of Commons Chamber, Ottawa, Canada\",-0.063],[3.1541698,101.7064587,\"Shangri-La Hotel, Kuala Lumpur, Malaysia\",-0.05]],\"geo\":\"geo\",\"hovertemplate\":\"<b>%{hovertext}</b><br><br>Topic=Topic 16<br>location=%{customdata[2]}<br>stanza=%{customdata[3]}<extra></extra>\",\"hovertext\":[\"Trade_Trans_Pacific_at_Nike\",\"Queensland_University\",\"Shinzo_Abe_Presser_Japan\",\"Speech_to_the_Vietnam_People\",\"Australian_Parliament\",\"Laos_People\",\"Canada_Parliament\",\"ASEAN_Business_2015\"],\"lat\":[45.4871723,-27.4689682,34.7246431,21.00636225,-35.319217,17.96615525,null,3.1541698],\"legendgroup\":\"Topic 16\",\"lon\":[-122.80378,153.0234991,135.5542138,105.78709927095412,149.1490751,102.60664770784688,null,101.7064587],\"marker\":{\"color\":\"#FECB52\",\"symbol\":\"circle\"},\"mode\":\"markers\",\"name\":\"Topic 16\",\"showlegend\":true,\"type\":\"scattergeo\"},{\"customdata\":[[38.8950368,-77.0365427,\"Washington D.C.\",-0.179],[36.99416165,-76.44414948067441,\"Newport News Shipbuilding, Newport News, Virginia\",-0.237],[38.8950368,-77.0365427,\"Washington D.C.\",-0.093],[-0.9999454,36.7416612,\"unknown_location\",-0.252],[38.8950368,-77.0365427,\"Washington D.C.\",-0.209],[-0.9999454,36.7416612,\"unknown_location\",-0.214],[38.8950368,-77.0365427,\"Washington D.C.\",-0.115],[38.8976997,-77.03655315,\"White House, Washington D.C.\",-0.292],[38.8950368,-77.0365427,\"Washington D.C.\",-0.234],[-0.9999454,36.7416612,\"unknown_location\",-0.402],[38.8976997,-77.03655315,\"White House, Washington D.C.\",-0.143],[38.8976997,-77.03655315,\"White House, Washington D.C.\",-0.347],[38.8976997,-77.03655315,\"White House, Washington D.C.\",-0.344],[38.4970321,-94.9508229,\"Osawatomie, Kansas\",-0.213],[40.9475652,-90.3712169,\"Galesburg, Illinois\",-0.157],[35.2272086,-80.8430827,\"Charlotte, North Carolina\",-0.169]],\"geo\":\"geo\",\"hovertemplate\":\"<b>%{hovertext}</b><br><br>Topic=Topic 2<br>location=%{customdata[2]}<br>stanza=%{customdata[3]}<extra></extra>\",\"hovertext\":[\"Joint_Session_on_Economy_and_Jobs\",\"Sequester_Impact_Newport_News\",\"State_of_the_Union_2013\",\"GW_Fiscal_Policy\",\"State_of_the_Union_2010\",\"Post_Election_Economy\",\"National_Chamber_of_Commerce\",\"Debt_Compromise_Remarks\",\"State_of_the_Union_2012\",\"2010_Budget_to_Congress\",\"Debt_Compromise_Agreement\",\"Dangers_of_Default\",\"Rose_Garden_Economy_and_Deficit\",\"New_Nationalism_at_Osawatomie_HS\",\"Knox_College_Economy\",\"Second_Democratic_Nomination_Acceptance\"],\"lat\":[38.8950368,36.99416165,38.8950368,-0.9999454,38.8950368,-0.9999454,38.8950368,38.8976997,38.8950368,-0.9999454,38.8976997,38.8976997,38.8976997,38.4970321,40.9475652,35.2272086],\"legendgroup\":\"Topic 2\",\"lon\":[-77.0365427,-76.44414948067441,-77.0365427,36.7416612,-77.0365427,36.7416612,-77.0365427,-77.03655315,-77.0365427,36.7416612,-77.03655315,-77.03655315,-77.03655315,-94.9508229,-90.3712169,-80.8430827],\"marker\":{\"color\":\"#636efa\",\"symbol\":\"circle\"},\"mode\":\"markers\",\"name\":\"Topic 2\",\"showlegend\":true,\"type\":\"scattergeo\"},{\"customdata\":[[39.7990175,-89.6439575,\"Springfield, Illinois\",-0.053],[38.912027300000005,-77.0287509853597,\"Vermont Avenue Baptist Church, Washington D.C.\",-0.133],[30.2858948,-97.72928516466844,\"Lyndon Baines Johnson Library, Austin, Texas\",-0.076],[-0.9999454,36.7416612,\"unknown_location\",-0.17],[38.8950368,-77.0365427,\"Washington D.C.\",-0.097],[-0.9999454,36.7416612,\"unknown_location\",-0.02],[33.7551362,-84.3742076,\"Ebenezer Baptist Church, Atlanta\",-0.258],[null,null,\"The National Mall, Washington D.C.\",-0.178],[38.8950368,-77.0365427,\"Washington D.C.\",0.038],[38.8906766,-77.008299,\"U.S. Capitol, Washington D.C.\",-0.213],[32.7762719,-96.7968559,\"Dallas, Texas\",-0.215],[38.8950368,-77.0365427,\"Washington D.C.\",-0.155],[38.8854281,-77.0414734922376,\"National Mall, Washington D.C.\",0.022],[39.9527237,-75.1635262,\"Philadelphia, Pennsylvania\",-0.275],[38.90503335,-77.02295618530775,\"Walter E. Washington Convention Center, Washington D.C.\",-0.063],[38.889212150000006,-77.05017197314066,\"Lincoln Memorial, Washington D.C.\",-0.207],[32.4047191,-87.01813913248446,\"Edmund Pettus Bridge, Selma, Alabama\",-0.071],[38.8950368,-77.0365427,\"Washington D.C.\",-0.029],[38.8950368,-77.0365427,\"Washington D.C.\",-0.125],[38.889212150000006,-77.05017197314066,\"Lincoln Memorial, Washington D.C.\",-0.165]],\"geo\":\"geo\",\"hovertemplate\":\"<b>%{hovertext}</b><br><br>Topic=Topic 1<br>location=%{customdata[2]}<br>stanza=%{customdata[3]}<extra></extra>\",\"hovertext\":[\"Announces_Candidacy\",\"MLK_Remembrance\",\"Civil_Rights_Summit_LBJ\",\"Rosa_Parks_Statue_Dedication\",\"Congressional_Black_Caucus\",\"Senate_Floor_Speech_on_Voting_Rights_Act_Renewal\",\"Ebenezer_Baptist\",\"MLK_Memorial_Dedication\",\"Senate_Floor_Coretta_King\",\"Barack_Obama_-_13th_Amendment_150-Year_Anniversary\",\"Dallas_Police_Memorial_Address\",\"Howard_University_Commencement\",\"Barack_Obama_-_African-American_History_Museum_Dedication\",\"More_Perfect_Union\",\"United_State_of_Women\",\"Lincoln_Bicentennial\",\"Selma_50_March\",\"Lincoln_Memorial\",\"Rosa_Parks\",\"Let_Freedom_Ring_Ceremony\"],\"lat\":[39.7990175,38.912027300000005,30.2858948,-0.9999454,38.8950368,-0.9999454,33.7551362,null,38.8950368,38.8906766,32.7762719,38.8950368,38.8854281,39.9527237,38.90503335,38.889212150000006,32.4047191,38.8950368,38.8950368,38.889212150000006],\"legendgroup\":\"Topic 1\",\"lon\":[-89.6439575,-77.0287509853597,-97.72928516466844,36.7416612,-77.0365427,36.7416612,-84.3742076,null,-77.0365427,-77.008299,-96.7968559,-77.0365427,-77.0414734922376,-75.1635262,-77.02295618530775,-77.05017197314066,-87.01813913248446,-77.0365427,-77.0365427,-77.05017197314066],\"marker\":{\"color\":\"#EF553B\",\"symbol\":\"circle\"},\"mode\":\"markers\",\"name\":\"Topic 1\",\"showlegend\":true,\"type\":\"scattergeo\"},{\"customdata\":[[14.5948914,120.9782618,\"Manila, Philippines\",0.0],[44.96933115,-93.2737079434336,\"Minneapolis Convention Center, Minnesota\",-0.014],[-0.9999454,36.7416612,\"unknown_location\",-0.023],[38.8785384,-77.06911170120969,\"Arlington National Cemetery, Arlington, Virginia\",0.086],[null,null,\"Korean War Memorial, Seoul, South Korea\",-0.046],[38.8976997,-77.03655315,\"White House, Washington D.C.\",0.0],[49.37781875,-0.8988297590207961,\"Omaha Beach, Normandy, France\",-0.093],[49.0677708,0.3138532,\"Normandy, France\",-0.103],[39.5261206,-119.8126581,\"Reno, Nevada\",-0.008]],\"geo\":\"geo\",\"hovertemplate\":\"<b>%{hovertext}</b><br><br>Topic=Topic 24<br>location=%{customdata[2]}<br>stanza=%{customdata[3]}<extra></extra>\",\"hovertext\":[\"Fort_Bonifacio\",\"American_Legion_Conference\",\"Disabled_Veterans_Conference\",\"Veterans_Day_Address_2013\",\"Korean_War_Armistice_60\",\"Weekly_Address_Iraq_War_Service\",\"DDay_70\",\"DDay_65\",\"VFW_2012\"],\"lat\":[14.5948914,44.96933115,-0.9999454,38.8785384,null,38.8976997,49.37781875,49.0677708,39.5261206],\"legendgroup\":\"Topic 24\",\"lon\":[120.9782618,-93.2737079434336,36.7416612,-77.06911170120969,null,-77.03655315,-0.8988297590207961,0.3138532,-119.8126581],\"marker\":{\"color\":\"#00cc96\",\"symbol\":\"circle\"},\"mode\":\"markers\",\"name\":\"Topic 24\",\"showlegend\":true,\"type\":\"scattergeo\"},{\"customdata\":[[-0.9999454,36.7416612,\"unknown_location\",-0.112],[35.95608045,-83.96456658317715,\"Pellissippi State Community College, Knoxville, Tennessee\",0.0],[38.8950368,-77.0365427,\"Washington D.C.\",-0.097],[33.42655155,-111.93327690688318,\"Sun Devil Stadium, Tempe, Arizona\",-0.104],[35.1335022,-89.9668758,\"Memphis, Tennessee\",-0.02],[null,null,\"Hyde Park Career Academy, Chicago, Illinois\",-0.097],[42.50541065,-82.9730483155511,\"Macomb Community College, Warren, Michigan\",-0.123],[-0.9999454,36.7416612,\"unknown_location\",-0.204],[null,null,\"James L. Knight International Center\",-0.053],[-0.9999454,36.7416612,\"unknown_location\",0.014],[40.7127281,-74.0060152,\"New York, New York\",-0.126],[-0.9999454,36.7416612,\"unknown_location\",-0.17],[33.7489924,-84.3902644,\"Atlanta, Georgia\",-0.111],[null,null,\"Andrew Sanchez Community Center, New Orleans, Louisiana\",-0.087],[33.776033,-84.39884086001581,\"Georgia Institute of Technology, Atlanta, Georgia\",-0.107],[43.07770265,-83.7209112504498,\"Northwestern High School, Flint, Michigan\",-0.187],[-0.9999454,36.7416612,\"unknown_location\",-0.132],[-0.9999454,36.7416612,\"unknown_location\",0.093],[46.56132435,-87.41048112721177,\"Northern Michigan University, Marquette, Michigan\",-0.004],[38.8975537,-77.03868249285715,\"Eisenhower Building, Washington D.C.\",0.078],[38.8903961,-77.0841585,\"Arlington, Virginia\",-0.159]],\"geo\":\"geo\",\"hovertemplate\":\"<b>%{hovertext}</b><br><br>Topic=Topic 15<br>location=%{customdata[2]}<br>stanza=%{customdata[3]}<extra></extra>\",\"hovertext\":[\"State_of_the_Union_2015\",\"Community_College_Plan\",\"State_of_the_Union_2011\",\"ASU_Commencement\",\"Booker_T_Washington\",\"Middle_Class_Economy\",\"Graduation_Initiative\",\"Knox_College_Commencement\",\"Miami_Dade_College_Commencement\",\"Kalamazoo_HS_Commencement\",\"Barnard_College_Commencement\",\"State_of_the_Union_2014\",\"Morehouse_College_Commencement\",\"Katrina_10_Years\",\"Student_Aid_Bill_of_Rights\",\"Flint_Michigan_Community\",\"Hispanic_Chamber_of_Commerce\",\"No_Child_Left_Behind_Blueprint\",\"National_Wireless_Initiative\",\"Every_Student_Succeeds_Signing\",\"Wakefield_Back_to_High_School\"],\"lat\":[-0.9999454,35.95608045,38.8950368,33.42655155,35.1335022,null,42.50541065,-0.9999454,null,-0.9999454,40.7127281,-0.9999454,33.7489924,null,33.776033,43.07770265,-0.9999454,-0.9999454,46.56132435,38.8975537,38.8903961],\"legendgroup\":\"Topic 15\",\"lon\":[36.7416612,-83.96456658317715,-77.0365427,-111.93327690688318,-89.9668758,null,-82.9730483155511,36.7416612,null,36.7416612,-74.0060152,36.7416612,-84.3902644,null,-84.39884086001581,-83.7209112504498,36.7416612,36.7416612,-87.41048112721177,-77.03868249285715,-77.0841585],\"marker\":{\"color\":\"#ab63fa\",\"symbol\":\"circle\"},\"mode\":\"markers\",\"name\":\"Topic 15\",\"showlegend\":true,\"type\":\"scattergeo\"},{\"customdata\":[[38.8976997,-77.03655315,\"White House, Washington D.C.\",-0.125],[38.8976997,-77.03655315,\"White House, Washington D.C.\",-0.349],[-0.9999454,36.7416612,\"unknown_location\",-0.096],[41.8874488,-87.6228422065339,\"Hyatt Regency, Chicago, Illinois\",-0.293],[38.8976997,-77.03655315,\"White House, Washington D.C.\",-0.115],[38.8976997,-77.03655315,\"White House, Washington D.C.\",-0.117],[-0.9999454,36.7416612,\"unknown_location\",-0.232],[38.8950368,-77.0365427,\"Washington D.C.\",-0.078],[-0.9999454,36.7416612,\"unknown_location\",-0.193],[38.8976997,-77.03655315,\"White House, Washington D.C.\",-0.111],[-0.9999454,36.7416612,\"unknown_location\",-0.31],[38.8976997,-77.03655315,\"White House, Washington D.C.\",-0.194],[-0.9999454,36.7416612,\"unknown_location\",-0.186]],\"geo\":\"geo\",\"hovertemplate\":\"<b>%{hovertext}</b><br><br>Topic=Topic 5<br>location=%{customdata[2]}<br>stanza=%{customdata[3]}<extra></extra>\",\"hovertext\":[\"USSC_Ruling_Affordable_Care_Act\",\"US_Govt_Shutdown_Statement\",\"Nurses_Association\",\"American_Medical_Association\",\"Aging_Conference_White_House\",\"Affordable_Care_Act_Logistical_Challenges\",\"Regina_Benjamin_Nomination\",\"Health_Care_Law_Signing\",\"Democrat_Caucus_Health_Care\",\"USSC_Affordable_Care_Act_Ruling\",\"To_Congress_on_Health_Care\",\"Congress_Call_Health_Care_Reform\",\"Health_Care_Bill_Passage\"],\"lat\":[38.8976997,38.8976997,-0.9999454,41.8874488,38.8976997,38.8976997,-0.9999454,38.8950368,-0.9999454,38.8976997,-0.9999454,38.8976997,-0.9999454],\"legendgroup\":\"Topic 5\",\"lon\":[-77.03655315,-77.03655315,36.7416612,-87.6228422065339,-77.03655315,-77.03655315,36.7416612,-77.0365427,36.7416612,-77.03655315,36.7416612,-77.03655315,36.7416612],\"marker\":{\"color\":\"#FFA15A\",\"symbol\":\"circle\"},\"mode\":\"markers\",\"name\":\"Topic 5\",\"showlegend\":true,\"type\":\"scattergeo\"},{\"customdata\":[[38.8976997,-77.03655315,\"White House, Washington D.C.\",-0.083],[40.7127281,-74.0060152,\"New York, New York\",-0.199],[38.8976997,-77.03655315,\"White House, Washington D.C.\",-0.022],[null,null,\"James S. Brady Press Briefing Room\",-0.02],[-0.9999454,36.7416612,\"unknown_location\",-0.356],[38.86385125,-77.0157337847445,\"National Defense University, Washington D.C.\",-0.209],[-0.9999454,36.7416612,\"unknown_location\",-0.111],[null,null,\"The Convention Center Brasil 21, Brasilia, Brazil\",-0.074],[38.8976997,-77.03655315,\"White House, Washington D.C.\",-0.231],[40.7127281,-74.0060152,\"New York, New York\",-0.011]],\"geo\":\"geo\",\"hovertemplate\":\"<b>%{hovertext}</b><br><br>Topic=Topic 14<br>location=%{customdata[2]}<br>stanza=%{customdata[3]}<extra></extra>\",\"hovertext\":[\"Muammar_Qaddafi_Death\",\"UNGA_2012\",\"Benghazi_Attacks_Rose_Garden\",\"Benghazi_Remains_Transfer\",\"Address_on_Libya\",\"Libya_Nation_Speech\",\"Libya_Violence_Must_Stop\",\"Odyssey_Dawn\",\"Chemical_Weapons_Syria\",\"UN_High_Level_Libya\"],\"lat\":[38.8976997,40.7127281,38.8976997,null,-0.9999454,38.86385125,-0.9999454,null,38.8976997,40.7127281],\"legendgroup\":\"Topic 14\",\"lon\":[-77.03655315,-74.0060152,-77.03655315,null,36.7416612,-77.0157337847445,36.7416612,null,-77.03655315,-74.0060152],\"marker\":{\"color\":\"#19d3f3\",\"symbol\":\"circle\"},\"mode\":\"markers\",\"name\":\"Topic 14\",\"showlegend\":true,\"type\":\"scattergeo\"},{\"customdata\":[[38.8976997,-77.03655315,\"White House, Washington D.C.\",0.078],[38.8976997,-77.03655315,\"White House, Washington D.C.\",-0.101],[38.8950368,-77.0365427,\"Washington D.C.\",-0.164],[38.8976997,-77.03655315,\"White House, Washington D.C.\",-0.014],[38.9786401,-76.492786,\"Annapolis, Maryland\",0.007],[38.877461,-77.08082799848256,\"Joint Base Myer-Henderson, Fort Myer, Virginia\",0.159],[null,null,\"Clamshell, Bagram Air Field\",0.062],[38.877461,-77.08082799848256,\"Joint Base Myer-Henderson Hall, Virginia\",0.049],[34.9797014,68.9146703,\"Parwan Province, Afghanistan\",0.0],[null,null,\"The Pentagon, Washington D.C.\",0.08],[-0.9999454,36.7416612,\"unknown_location\",0.057],[40.8512481,-72.5359869,\"West Point, New York\",-0.164],[null,null,\"Michie Stadium, West Point, New York\",0.005],[38.9912381,-104.8588345994012,\"United States Air Force Academy, Colorado Springs, Colorado\",0.011],[-0.9999454,36.7416612,\"unknown_location\",0.129],[38.8976997,-77.03655315,\"White House, Washington D.C.\",-0.113],[38.8976997,-77.03655315,\"White House, Washington D.C.\",0.243],[null,null,\"Eisenhower Hall, West Point Military Academy, New York\",-0.141],[-0.9999454,36.7416612,\"unknown_location\",-0.354],[33.2840084,44.25612450726408,\"Al Faw Palace, Baghdad, Iraq\",0.178],[34.63941505,-77.34201604164966,\"Camp Lejeune, North Carolina\",-0.028],[38.8976997,-77.03655315,\"White House, Washington D.C.\",-0.061],[-0.9999454,36.7416612,\"unknown_location\",-0.05],[-0.9999454,36.7416612,\"unknown_location\",0.077],[38.8976997,-77.03655315,\"White House, Washington D.C.\",-0.072],[31.2012636,-97.7084250211076,\"Fort Hood, Texas\",-0.009]],\"geo\":\"geo\",\"hovertemplate\":\"<b>%{hovertext}</b><br><br>Topic=Topic 9<br>location=%{customdata[2]}<br>stanza=%{customdata[3]}<extra></extra>\",\"hovertext\":[\"Iraq_War_Responsibly_Ending\",\"Afghanistan_Troop_Reduction\",\"Iraq_War_After_4_Years\",\"Iraqi_Freedom_End\",\"Naval_Academy_Commencement\",\"Armed_Forces_Farewell\",\"Afghanistan_US_Troops_Bagram\",\"Martin_Dempsey_Retirement\",\"Bagram_Air_Base_December_2010\",\"Military_Strategy_Review\",\"General_McChrystal_Afghanistan\",\"US_Military_Academy_Commencement_2014\",\"West_Point_Commencement_2010\",\"US_Air_Force_Commencement_Speech\",\"Iraq_War_Veteran_Gala_Toast\",\"Iraq_Airstrikes_and_Humanitarian_Aid_New\",\"Defense_Dept_Personnel\",\"Afghanistan_War_Troop_Surge\",\"Senate_Speech_Iraq_Federalism_Amendment\",\"Iraq_Multinational_Troops\",\"Iraq_War_Camp_Lejeune\",\"Salvatore_Giunta_Medal_of_Honor\",\"Pensacola_Military_Personnel\",\"Fort_Campbell\",\"Afghanistan_Statement\",\"Fort_Hoot_Memorial\"],\"lat\":[38.8976997,38.8976997,38.8950368,38.8976997,38.9786401,38.877461,null,38.877461,34.9797014,null,-0.9999454,40.8512481,null,38.9912381,-0.9999454,38.8976997,38.8976997,null,-0.9999454,33.2840084,34.63941505,38.8976997,-0.9999454,-0.9999454,38.8976997,31.2012636],\"legendgroup\":\"Topic 9\",\"lon\":[-77.03655315,-77.03655315,-77.0365427,-77.03655315,-76.492786,-77.08082799848256,null,-77.08082799848256,68.9146703,null,36.7416612,-72.5359869,null,-104.8588345994012,36.7416612,-77.03655315,-77.03655315,null,36.7416612,44.25612450726408,-77.34201604164966,-77.03655315,36.7416612,36.7416612,-77.03655315,-97.7084250211076],\"marker\":{\"color\":\"#FF6692\",\"symbol\":\"circle\"},\"mode\":\"markers\",\"name\":\"Topic 9\",\"showlegend\":true,\"type\":\"scattergeo\"},{\"customdata\":[[38.93679415,-77.05752080109374,\"Adas Israel Congregation, Washington D.C.\",-0.062],[38.9427494,-77.06842872907194,\"Israel Embassy, Washington D.C.\",0.008],[38.90503335,-77.02295618530775,\"Walter E. Washington Convention Center, Washington D.C.\",-0.049],[38.8976997,-77.03655315,\"White House, Washington D.C.\",0.051],[40.7127281,-74.0060152,\"New York, New York\",-0.102],[-0.9999454,36.7416612,\"unknown_location\",-0.16],[31.7788242,35.2257626,\"Jerusalem, Israel\",-0.042],[40.7127281,-74.0060152,\"New York, New York\",-0.178],[40.7127281,-74.0060152,\"New York, New York\",-0.147],[38.8945036,-77.04847501906156,\"State Department, Washington D.C.\",-0.18],[31.77236115,35.181634190650314,\"Mount Herzl, Jerusalem, Israel\",-0.083]],\"geo\":\"geo\",\"hovertemplate\":\"<b>%{hovertext}</b><br><br>Topic=Topic 12<br>location=%{customdata[2]}<br>stanza=%{customdata[3]}<extra></extra>\",\"hovertext\":[\"Jewish_American_Heritage_Month\",\"Righteous_Among_Nations_Ceremony\",\"American_Israel_Public_Affairs_Committee\",\"Shimon_Peres_Medal_of_Freedom\",\"United_Nations_on_Palestinian_Statehood\",\"AIPAC_2012\",\"Jerusalem_Intl_Convention_Center_Speech\",\"United_Nations_General_Assembly\",\"UNGA_2010\",\"Middle_East_Diplomacy\",\"Shimon_Peres_Memorial\"],\"lat\":[38.93679415,38.9427494,38.90503335,38.8976997,40.7127281,-0.9999454,31.7788242,40.7127281,40.7127281,38.8945036,31.77236115],\"legendgroup\":\"Topic 12\",\"lon\":[-77.05752080109374,-77.06842872907194,-77.02295618530775,-77.03655315,-74.0060152,36.7416612,35.2257626,-74.0060152,-74.0060152,-77.04847501906156,35.181634190650314],\"marker\":{\"color\":\"#B6E880\",\"symbol\":\"circle\"},\"mode\":\"markers\",\"name\":\"Topic 12\",\"showlegend\":true,\"type\":\"scattergeo\"},{\"customdata\":[[38.8950368,-77.0365427,\"Washington D.C.\",-0.306],[40.7127281,-74.0060152,\"New York, New York\",-0.179],[38.8974193,-77.03711315487126,\"Rose Garden, Washington D.C.\",-0.18],[-0.9999454,36.7416612,\"unknown_location\",-0.265],[-0.9999454,36.7416612,\"unknown_location\",-0.047],[-0.9999454,36.7416612,\"unknown_location\",-0.31],[38.8976997,-77.03655315,\"White House, Washington D.C.\",-0.194],[-0.9999454,36.7416612,\"unknown_location\",-0.122],[49.8167003,15.4749544,\"Czech Republic\",-0.109],[37.5666791,126.9782914,\"Seoul, Korea\",-0.054],[-0.9999454,36.7416612,\"unknown_location\",-0.309]],\"geo\":\"geo\",\"hovertemplate\":\"<b>%{hovertext}</b><br><br>Topic=Topic 3<br>location=%{customdata[2]}<br>stanza=%{customdata[3]}<extra></extra>\",\"hovertext\":[\"Iran_Deal_American_University\",\"UNGA_68th_Session\",\"Iran_Nuclear_Agreement\",\"Iran_Nuclear_Accord\",\"US_Detainees_Released\",\"Dignity_and_Courage_of_Iranians\",\"PM_Netanyahu_Speech\",\"Iran_Accord_Statement\",\"Hradany_Square_Prague\",\"Hankuk_University\",\"UN_Iran_Sanctions\"],\"lat\":[38.8950368,40.7127281,38.8974193,-0.9999454,-0.9999454,-0.9999454,38.8976997,-0.9999454,49.8167003,37.5666791,-0.9999454],\"legendgroup\":\"Topic 3\",\"lon\":[-77.0365427,-74.0060152,-77.03711315487126,36.7416612,36.7416612,36.7416612,-77.03655315,36.7416612,15.4749544,126.9782914,36.7416612],\"marker\":{\"color\":\"#FF97FF\",\"symbol\":\"circle\"},\"mode\":\"markers\",\"name\":\"Topic 3\",\"showlegend\":true,\"type\":\"scattergeo\"},{\"customdata\":[[-0.9999454,36.7416612,\"unknown_location\",0.107],[-33.4377756,-70.6504502,\"Santiago, Chile\",0.027],[null,null,\"Hotel El Panama, Panama City, Panama\",-0.056],[-0.9999454,36.7416612,\"unknown_location\",-0.064],[23.1369698,-82.3595917708269,\"Gran Teatro de la Habana, Havana, Cuba\",-0.059],[30.1600827,-85.6545729,\"Panama City, Panama\",-0.058]],\"geo\":\"geo\",\"hovertemplate\":\"<b>%{hovertext}</b><br><br>Topic=Topic 13<br>location=%{customdata[2]}<br>stanza=%{customdata[3]}<extra></extra>\",\"hovertext\":[\"Weekly_Address_on_Cuba\",\"Chile_Latin_America\",\"Civil_Society_Forum_Panama\",\"Cuba_Policy_Changes\",\"Cuba_People_Speech\",\"Summit_Americas_Plenary\"],\"lat\":[-0.9999454,-33.4377756,null,-0.9999454,23.1369698,30.1600827],\"legendgroup\":\"Topic 13\",\"lon\":[36.7416612,-70.6504502,null,36.7416612,-82.3595917708269,-85.6545729],\"marker\":{\"color\":\"#FECB52\",\"symbol\":\"circle\"},\"mode\":\"markers\",\"name\":\"Topic 13\",\"showlegend\":true,\"type\":\"scattergeo\"},{\"customdata\":[[-0.9999454,36.7416612,\"unknown_location\",0.277],[38.8976997,-77.03655315,\"White House, Washington D.C.\",-0.016],[33.770859,-116.42687402345577,\"Rancho Mirage, California\",0.087],[-0.9999454,36.7416612,\"unknown_location\",-0.28],[-0.9999454,36.7416612,\"unknown_location\",-0.038]],\"geo\":\"geo\",\"hovertemplate\":\"<b>%{hovertext}</b><br><br>Topic=Topic 11<br>location=%{customdata[2]}<br>stanza=%{customdata[3]}<extra></extra>\",\"hovertext\":[\"Elena_Kagan_USSC_Nomination\",\"Merrick_Garland_USSC_Nomination\",\"Antonin_Scalia_Passing\",\"Senate_Floor_Speech_on_the_Patriot_Act\",\"Justice_Stevens_and_West_Virginia_Mining_Tragedy\"],\"lat\":[-0.9999454,38.8976997,33.770859,-0.9999454,-0.9999454],\"legendgroup\":\"Topic 11\",\"lon\":[36.7416612,-77.03655315,-116.42687402345577,36.7416612,36.7416612],\"marker\":{\"color\":\"#636efa\",\"symbol\":\"circle\"},\"mode\":\"markers\",\"name\":\"Topic 11\",\"showlegend\":true,\"type\":\"scattergeo\"},{\"customdata\":[[38.8976997,-77.03655315,\"White House, Washington D.C.\",-0.011],[38.8976997,-77.03655315,\"White House, Washington D.C.\",-0.109],[40.4441897,-79.94271918393466,\"Carnegie Mellon University, Pittsburgh, Pennsylvania\",0.123],[38.8903961,-77.0841585,\"Arlington, Virginia\",-0.128],[38.8981685,-77.0399012,\"Consumer Financial Protection Bureau, Washington D.C.\",-0.049],[null,null,\"JFK Space Center, Merritt Island, Florida\",0.023],[37.43131385,-122.16936535498309,\"Stanford University, Stanford, California\",0.026],[38.884087050000005,-77.02024483028318,\"Constitution Center, Washington D.C.\",-0.05]],\"geo\":\"geo\",\"hovertemplate\":\"<b>%{hovertext}</b><br><br>Topic=Topic 25<br>location=%{customdata[2]}<br>stanza=%{customdata[3]}<extra></extra>\",\"hovertext\":[\"BRAIN_Initiative\",\"Cyber_Infrastructure_US\",\"Carnegie_Robotics_Center\",\"NCCIC\",\"Executive_Order_13681_Signing\",\"NASA_21st_Century\",\"Stanford_Cybersecurity_Summit\",\"FTC_2014\"],\"lat\":[38.8976997,38.8976997,40.4441897,38.8903961,38.8981685,null,37.43131385,38.884087050000005],\"legendgroup\":\"Topic 25\",\"lon\":[-77.03655315,-77.03655315,-79.94271918393466,-77.0841585,-77.0399012,null,-122.16936535498309,-77.02024483028318],\"marker\":{\"color\":\"#EF553B\",\"symbol\":\"circle\"},\"mode\":\"markers\",\"name\":\"Topic 25\",\"showlegend\":true,\"type\":\"scattergeo\"},{\"customdata\":[[null,null,\"The Pentagon, Washington D.C.\",-0.013],[40.7127281,-74.0060152,\"New York, New York\",-0.055],[38.89760605,-77.03435185976429,\"Treasury Department, Washington D.C.\",-0.203],[-0.9999454,36.7416612,\"unknown_location\",-0.188],[41.3890052,-70.5133599,\"Edgartown, Massachusetts\",0.0],[27.84364085,-82.50287224965905,\"MacDill Air Force Base, Tampa, Florida\",-0.232],[-0.9999454,36.7416612,\"unknown_location\",-0.141],[-0.9999454,36.7416612,\"unknown_location\",-0.032],[38.8950368,-77.0365427,\"Washington D.C.\",-0.254],[38.8950368,-77.0365427,\"Washington D.C.\",-0.181],[-0.9999454,36.7416612,\"unknown_location\",-0.055],[38.8976997,-77.03655315,\"White House, Washington D.C.\",-0.134]],\"geo\":\"geo\",\"hovertemplate\":\"<b>%{hovertext}</b><br><br>Topic=Topic 4<br>location=%{customdata[2]}<br>stanza=%{customdata[3]}<extra></extra>\",\"hovertext\":[\"ISIL_Pentagon_Update\",\"United_Nations_Security_Council_2014\",\"ISIL_Briefing_June_2016\",\"Barack_Obama_-_ISIL_Update_02-25-16\",\"Ferguson_and_Northern_Iraq\",\"On_Counterterrorism_Approach_2016\",\"ISIL_Force_Authorization_Request\",\"Counter_ISIL_Campaign_Update\",\"Syria_Speech_to_the_Nation\",\"Final_State_of_the_Union_Address\",\"ISIL_\",\"Oval_Office_Counter_Terrorism_Agenda\"],\"lat\":[null,40.7127281,38.89760605,-0.9999454,41.3890052,27.84364085,-0.9999454,-0.9999454,38.8950368,38.8950368,-0.9999454,38.8976997],\"legendgroup\":\"Topic 4\",\"lon\":[null,-74.0060152,-77.03435185976429,36.7416612,-70.5133599,-82.50287224965905,36.7416612,36.7416612,-77.0365427,-77.0365427,36.7416612,-77.03655315],\"marker\":{\"color\":\"#00cc96\",\"symbol\":\"circle\"},\"mode\":\"markers\",\"name\":\"Topic 4\",\"showlegend\":true,\"type\":\"scattergeo\"},{\"customdata\":[[38.8950368,-77.0365427,\"Washington D.C.\",-0.051],[40.7127281,-74.0060152,\"New York, New York\",-0.101],[38.8976997,-77.03655315,\"White House, Washington D.C.\",-0.039],[9.0009975,38.74212826980348,\"African Union Headquarters, Addis Ababa, Ethiopia\",0.02],[-33.928992,18.417396,\"Cape Town, South Africa\",-0.036],[33.7489924,-84.3902644,\"Atlanta Georgia\",-0.08],[30.4459596,-91.18738,\"Baton Rouge, Louisiana\",-0.119],[5.5543117,-0.1933723992148674,\"Accra International Conference Center, Accra, Ghana\",-0.035],[null,null,\"James S. Brady Press Briefing Room\",-0.088],[38.98127255,-77.12335871396549,\"Bethesda, Maryland\",0.006],[-0.9999454,36.7416612,\"unknown_location\",-0.209]],\"geo\":\"geo\",\"hovertemplate\":\"<b>%{hovertext}</b><br><br>Topic=Topic 20<br>location=%{customdata[2]}<br>stanza=%{customdata[3]}<extra></extra>\",\"hovertext\":[\"Hurricane_Sandy_Red_Cross\",\"UN_Ebola_Meeting\",\"Ebola_Response_Update\",\"African_Union_Address\",\"Capetown_University\",\"Ebola_CDC\",\"Baton_Rouge_Flooding\",\"Ghana_Parliament\",\"Hurricane_Sandy_ERT\",\"Ebola_NIH_Research\",\"Trayvon_Martin\"],\"lat\":[38.8950368,40.7127281,38.8976997,9.0009975,-33.928992,33.7489924,30.4459596,5.5543117,null,38.98127255,-0.9999454],\"legendgroup\":\"Topic 20\",\"lon\":[-77.0365427,-74.0060152,-77.03655315,38.74212826980348,18.417396,-84.3902644,-91.18738,-0.1933723992148674,null,-77.12335871396549,36.7416612],\"marker\":{\"color\":\"#ab63fa\",\"symbol\":\"circle\"},\"mode\":\"markers\",\"name\":\"Topic 20\",\"showlegend\":true,\"type\":\"scattergeo\"},{\"customdata\":[[50.84371815,4.359790395373073,\"Palais des Beaux Arts, Brussels, Belgium\",-0.114],[null,null,\"Hannover Messe Building 35, Hanover, Germany\",-0.085],[null,null,\"UN Headquarters, New York, New York\",-0.219],[null,null,\"Gostinny Dvor, Moscow, Russia\",-0.07],[52.24793695,21.01378910682335,\"Castle Square, Warsaw, Poland\",0.046],[null,null,\"Nordea Concert Hall Tallinn, Estonia\",0.0]],\"geo\":\"geo\",\"hovertemplate\":\"<b>%{hovertext}</b><br><br>Topic=Topic 17<br>location=%{customdata[2]}<br>stanza=%{customdata[3]}<extra></extra>\",\"hovertext\":[\"European_Youth\",\"Europe_Peoples_Hannover\",\"United_Nations_GA_2015\",\"Moscow_New_Economic_School\",\"Polish_Freedom_Day_25\",\"Estonia_People\"],\"lat\":[50.84371815,null,null,null,52.24793695,null],\"legendgroup\":\"Topic 17\",\"lon\":[4.359790395373073,null,null,null,21.01378910682335,null],\"marker\":{\"color\":\"#FFA15A\",\"symbol\":\"circle\"},\"mode\":\"markers\",\"name\":\"Topic 17\",\"showlegend\":true,\"type\":\"scattergeo\"}],                        {\"template\":{\"data\":{\"histogram2dcontour\":[{\"type\":\"histogram2dcontour\",\"colorbar\":{\"outlinewidth\":0,\"ticks\":\"\"},\"colorscale\":[[0.0,\"#0d0887\"],[0.1111111111111111,\"#46039f\"],[0.2222222222222222,\"#7201a8\"],[0.3333333333333333,\"#9c179e\"],[0.4444444444444444,\"#bd3786\"],[0.5555555555555556,\"#d8576b\"],[0.6666666666666666,\"#ed7953\"],[0.7777777777777778,\"#fb9f3a\"],[0.8888888888888888,\"#fdca26\"],[1.0,\"#f0f921\"]]}],\"choropleth\":[{\"type\":\"choropleth\",\"colorbar\":{\"outlinewidth\":0,\"ticks\":\"\"}}],\"histogram2d\":[{\"type\":\"histogram2d\",\"colorbar\":{\"outlinewidth\":0,\"ticks\":\"\"},\"colorscale\":[[0.0,\"#0d0887\"],[0.1111111111111111,\"#46039f\"],[0.2222222222222222,\"#7201a8\"],[0.3333333333333333,\"#9c179e\"],[0.4444444444444444,\"#bd3786\"],[0.5555555555555556,\"#d8576b\"],[0.6666666666666666,\"#ed7953\"],[0.7777777777777778,\"#fb9f3a\"],[0.8888888888888888,\"#fdca26\"],[1.0,\"#f0f921\"]]}],\"heatmap\":[{\"type\":\"heatmap\",\"colorbar\":{\"outlinewidth\":0,\"ticks\":\"\"},\"colorscale\":[[0.0,\"#0d0887\"],[0.1111111111111111,\"#46039f\"],[0.2222222222222222,\"#7201a8\"],[0.3333333333333333,\"#9c179e\"],[0.4444444444444444,\"#bd3786\"],[0.5555555555555556,\"#d8576b\"],[0.6666666666666666,\"#ed7953\"],[0.7777777777777778,\"#fb9f3a\"],[0.8888888888888888,\"#fdca26\"],[1.0,\"#f0f921\"]]}],\"heatmapgl\":[{\"type\":\"heatmapgl\",\"colorbar\":{\"outlinewidth\":0,\"ticks\":\"\"},\"colorscale\":[[0.0,\"#0d0887\"],[0.1111111111111111,\"#46039f\"],[0.2222222222222222,\"#7201a8\"],[0.3333333333333333,\"#9c179e\"],[0.4444444444444444,\"#bd3786\"],[0.5555555555555556,\"#d8576b\"],[0.6666666666666666,\"#ed7953\"],[0.7777777777777778,\"#fb9f3a\"],[0.8888888888888888,\"#fdca26\"],[1.0,\"#f0f921\"]]}],\"contourcarpet\":[{\"type\":\"contourcarpet\",\"colorbar\":{\"outlinewidth\":0,\"ticks\":\"\"}}],\"contour\":[{\"type\":\"contour\",\"colorbar\":{\"outlinewidth\":0,\"ticks\":\"\"},\"colorscale\":[[0.0,\"#0d0887\"],[0.1111111111111111,\"#46039f\"],[0.2222222222222222,\"#7201a8\"],[0.3333333333333333,\"#9c179e\"],[0.4444444444444444,\"#bd3786\"],[0.5555555555555556,\"#d8576b\"],[0.6666666666666666,\"#ed7953\"],[0.7777777777777778,\"#fb9f3a\"],[0.8888888888888888,\"#fdca26\"],[1.0,\"#f0f921\"]]}],\"surface\":[{\"type\":\"surface\",\"colorbar\":{\"outlinewidth\":0,\"ticks\":\"\"},\"colorscale\":[[0.0,\"#0d0887\"],[0.1111111111111111,\"#46039f\"],[0.2222222222222222,\"#7201a8\"],[0.3333333333333333,\"#9c179e\"],[0.4444444444444444,\"#bd3786\"],[0.5555555555555556,\"#d8576b\"],[0.6666666666666666,\"#ed7953\"],[0.7777777777777778,\"#fb9f3a\"],[0.8888888888888888,\"#fdca26\"],[1.0,\"#f0f921\"]]}],\"mesh3d\":[{\"type\":\"mesh3d\",\"colorbar\":{\"outlinewidth\":0,\"ticks\":\"\"}}],\"scatter\":[{\"fillpattern\":{\"fillmode\":\"overlay\",\"size\":10,\"solidity\":0.2},\"type\":\"scatter\"}],\"parcoords\":[{\"type\":\"parcoords\",\"line\":{\"colorbar\":{\"outlinewidth\":0,\"ticks\":\"\"}}}],\"scatterpolargl\":[{\"type\":\"scatterpolargl\",\"marker\":{\"colorbar\":{\"outlinewidth\":0,\"ticks\":\"\"}}}],\"bar\":[{\"error_x\":{\"color\":\"#2a3f5f\"},\"error_y\":{\"color\":\"#2a3f5f\"},\"marker\":{\"line\":{\"color\":\"#E5ECF6\",\"width\":0.5},\"pattern\":{\"fillmode\":\"overlay\",\"size\":10,\"solidity\":0.2}},\"type\":\"bar\"}],\"scattergeo\":[{\"type\":\"scattergeo\",\"marker\":{\"colorbar\":{\"outlinewidth\":0,\"ticks\":\"\"}}}],\"scatterpolar\":[{\"type\":\"scatterpolar\",\"marker\":{\"colorbar\":{\"outlinewidth\":0,\"ticks\":\"\"}}}],\"histogram\":[{\"marker\":{\"pattern\":{\"fillmode\":\"overlay\",\"size\":10,\"solidity\":0.2}},\"type\":\"histogram\"}],\"scattergl\":[{\"type\":\"scattergl\",\"marker\":{\"colorbar\":{\"outlinewidth\":0,\"ticks\":\"\"}}}],\"scatter3d\":[{\"type\":\"scatter3d\",\"line\":{\"colorbar\":{\"outlinewidth\":0,\"ticks\":\"\"}},\"marker\":{\"colorbar\":{\"outlinewidth\":0,\"ticks\":\"\"}}}],\"scattermapbox\":[{\"type\":\"scattermapbox\",\"marker\":{\"colorbar\":{\"outlinewidth\":0,\"ticks\":\"\"}}}],\"scatterternary\":[{\"type\":\"scatterternary\",\"marker\":{\"colorbar\":{\"outlinewidth\":0,\"ticks\":\"\"}}}],\"scattercarpet\":[{\"type\":\"scattercarpet\",\"marker\":{\"colorbar\":{\"outlinewidth\":0,\"ticks\":\"\"}}}],\"carpet\":[{\"aaxis\":{\"endlinecolor\":\"#2a3f5f\",\"gridcolor\":\"white\",\"linecolor\":\"white\",\"minorgridcolor\":\"white\",\"startlinecolor\":\"#2a3f5f\"},\"baxis\":{\"endlinecolor\":\"#2a3f5f\",\"gridcolor\":\"white\",\"linecolor\":\"white\",\"minorgridcolor\":\"white\",\"startlinecolor\":\"#2a3f5f\"},\"type\":\"carpet\"}],\"table\":[{\"cells\":{\"fill\":{\"color\":\"#EBF0F8\"},\"line\":{\"color\":\"white\"}},\"header\":{\"fill\":{\"color\":\"#C8D4E3\"},\"line\":{\"color\":\"white\"}},\"type\":\"table\"}],\"barpolar\":[{\"marker\":{\"line\":{\"color\":\"#E5ECF6\",\"width\":0.5},\"pattern\":{\"fillmode\":\"overlay\",\"size\":10,\"solidity\":0.2}},\"type\":\"barpolar\"}],\"pie\":[{\"automargin\":true,\"type\":\"pie\"}]},\"layout\":{\"autotypenumbers\":\"strict\",\"colorway\":[\"#636efa\",\"#EF553B\",\"#00cc96\",\"#ab63fa\",\"#FFA15A\",\"#19d3f3\",\"#FF6692\",\"#B6E880\",\"#FF97FF\",\"#FECB52\"],\"font\":{\"color\":\"#2a3f5f\"},\"hovermode\":\"closest\",\"hoverlabel\":{\"align\":\"left\"},\"paper_bgcolor\":\"white\",\"plot_bgcolor\":\"#E5ECF6\",\"polar\":{\"bgcolor\":\"#E5ECF6\",\"angularaxis\":{\"gridcolor\":\"white\",\"linecolor\":\"white\",\"ticks\":\"\"},\"radialaxis\":{\"gridcolor\":\"white\",\"linecolor\":\"white\",\"ticks\":\"\"}},\"ternary\":{\"bgcolor\":\"#E5ECF6\",\"aaxis\":{\"gridcolor\":\"white\",\"linecolor\":\"white\",\"ticks\":\"\"},\"baxis\":{\"gridcolor\":\"white\",\"linecolor\":\"white\",\"ticks\":\"\"},\"caxis\":{\"gridcolor\":\"white\",\"linecolor\":\"white\",\"ticks\":\"\"}},\"coloraxis\":{\"colorbar\":{\"outlinewidth\":0,\"ticks\":\"\"}},\"colorscale\":{\"sequential\":[[0.0,\"#0d0887\"],[0.1111111111111111,\"#46039f\"],[0.2222222222222222,\"#7201a8\"],[0.3333333333333333,\"#9c179e\"],[0.4444444444444444,\"#bd3786\"],[0.5555555555555556,\"#d8576b\"],[0.6666666666666666,\"#ed7953\"],[0.7777777777777778,\"#fb9f3a\"],[0.8888888888888888,\"#fdca26\"],[1.0,\"#f0f921\"]],\"sequentialminus\":[[0.0,\"#0d0887\"],[0.1111111111111111,\"#46039f\"],[0.2222222222222222,\"#7201a8\"],[0.3333333333333333,\"#9c179e\"],[0.4444444444444444,\"#bd3786\"],[0.5555555555555556,\"#d8576b\"],[0.6666666666666666,\"#ed7953\"],[0.7777777777777778,\"#fb9f3a\"],[0.8888888888888888,\"#fdca26\"],[1.0,\"#f0f921\"]],\"diverging\":[[0,\"#8e0152\"],[0.1,\"#c51b7d\"],[0.2,\"#de77ae\"],[0.3,\"#f1b6da\"],[0.4,\"#fde0ef\"],[0.5,\"#f7f7f7\"],[0.6,\"#e6f5d0\"],[0.7,\"#b8e186\"],[0.8,\"#7fbc41\"],[0.9,\"#4d9221\"],[1,\"#276419\"]]},\"xaxis\":{\"gridcolor\":\"white\",\"linecolor\":\"white\",\"ticks\":\"\",\"title\":{\"standoff\":15},\"zerolinecolor\":\"white\",\"automargin\":true,\"zerolinewidth\":2},\"yaxis\":{\"gridcolor\":\"white\",\"linecolor\":\"white\",\"ticks\":\"\",\"title\":{\"standoff\":15},\"zerolinecolor\":\"white\",\"automargin\":true,\"zerolinewidth\":2},\"scene\":{\"xaxis\":{\"backgroundcolor\":\"#E5ECF6\",\"gridcolor\":\"white\",\"linecolor\":\"white\",\"showbackground\":true,\"ticks\":\"\",\"zerolinecolor\":\"white\",\"gridwidth\":2},\"yaxis\":{\"backgroundcolor\":\"#E5ECF6\",\"gridcolor\":\"white\",\"linecolor\":\"white\",\"showbackground\":true,\"ticks\":\"\",\"zerolinecolor\":\"white\",\"gridwidth\":2},\"zaxis\":{\"backgroundcolor\":\"#E5ECF6\",\"gridcolor\":\"white\",\"linecolor\":\"white\",\"showbackground\":true,\"ticks\":\"\",\"zerolinecolor\":\"white\",\"gridwidth\":2}},\"shapedefaults\":{\"line\":{\"color\":\"#2a3f5f\"}},\"annotationdefaults\":{\"arrowcolor\":\"#2a3f5f\",\"arrowhead\":0,\"arrowwidth\":1},\"geo\":{\"bgcolor\":\"white\",\"landcolor\":\"#E5ECF6\",\"subunitcolor\":\"white\",\"showland\":true,\"showlakes\":true,\"lakecolor\":\"white\"},\"title\":{\"x\":0.05},\"mapbox\":{\"style\":\"light\"}}},\"geo\":{\"domain\":{\"x\":[0.0,1.0],\"y\":[0.0,1.0]},\"projection\":{\"type\":\"natural earth\"},\"center\":{}},\"legend\":{\"title\":{\"text\":\"Topic\"},\"tracegroupgap\":0},\"margin\":{\"t\":60},\"title\":{\"text\":\"Obama`s Speeches with Sentiment Scores per topic <br>(Click legend to toggle traces)\"},\"showlegend\":true},                        {\"responsive\": true}                    ).then(function(){\n",
       "                            \n",
       "var gd = document.getElementById('4a471e78-fdfd-46ab-86f4-b033fdab54db');\n",
       "var x = new MutationObserver(function (mutations, observer) {{\n",
       "        var display = window.getComputedStyle(gd).display;\n",
       "        if (!display || display === 'none') {{\n",
       "            console.log([gd, 'removed!']);\n",
       "            Plotly.purge(gd);\n",
       "            observer.disconnect();\n",
       "        }}\n",
       "}});\n",
       "\n",
       "// Listen for the removal of the full notebook cells\n",
       "var notebookContainer = gd.closest('#notebook-container');\n",
       "if (notebookContainer) {{\n",
       "    x.observe(notebookContainer, {childList: true});\n",
       "}}\n",
       "\n",
       "// Listen for the clearing of the current output cell\n",
       "var outputEl = gd.closest('.output');\n",
       "if (outputEl) {{\n",
       "    x.observe(outputEl, {childList: true});\n",
       "}}\n",
       "\n",
       "                        })                };                });            </script>        </div>"
      ]
     },
     "metadata": {},
     "output_type": "display_data"
    }
   ],
   "source": [
    "import plotly.express as px\n",
    "# df = px.data.gapminder().query(\"year==2007\")\n",
    "fig = px.scatter_geo(gdf, lat=\"latitude\", lon=\"longitude\",  color = \"Topic\",\n",
    "                      hover_name=\"title\",\n",
    "                     hover_data= {\"latitude\": False,\n",
    "                                  \"longitude\": False,\n",
    "                                  \"location\": True,\n",
    "                                  \"stanza\": True},\n",
    "                     projection=\"natural earth\")\n",
    "\n",
    "fig.update_layout(\n",
    "        title_text = 'Obama`s Speeches with Sentiment Scores per topic <br>(Click legend to toggle traces)',\n",
    "        showlegend = True\n",
    "    )\n",
    "fig.show()"
   ]
  },
  {
   "cell_type": "code",
   "execution_count": 78,
   "id": "3b12a89a-f542-451a-8a05-85eba96ff7f3",
   "metadata": {},
   "outputs": [
    {
     "data": {
      "image/png": "[encoded data removed]",
      "text/plain": [
       "<Figure size 1440x1440 with 1 Axes>"
      ]
     },
     "metadata": {
      "needs_background": "light"
     },
     "output_type": "display_data"
    }
   ],
   "source": [
    "fig, gax = plt.subplots(figsize = (20,20))\n",
    "\n",
    "# Plot the world map\n",
    "world.plot(ax = gax, edgecolor='darkgray',color='white')\n",
    "\n",
    "gdf.plot(\n",
    "    ax=gax, edgecolor='lightgray', legend=True, alpha=0.5 )\n",
    "\n",
    "# I don't want the axis with long and lat\n",
    "plt.axis('off')\n",
    "\n",
    "plt.show()"
   ]
  },
  {
   "cell_type": "markdown",
   "id": "fd2927cd-ce80-4992-8fc5-6d11f604448a",
   "metadata": {},
   "source": [
    "# Sentiments Per Country"
   ]
  },
  {
   "cell_type": "code",
   "execution_count": 122,
   "id": "945e76ca-f523-4fbb-b7e3-3018ab9c1611",
   "metadata": {},
   "outputs": [
    {
     "data": {
      "image/png": "[encoded data removed]",
      "text/plain": [
       "<Figure size 1440x1440 with 2 Axes>"
      ]
     },
     "metadata": {
      "needs_background": "light"
     },
     "output_type": "display_data"
    }
   ],
   "source": [
    "fig, gax = plt.subplots(figsize = (20,20))\n",
    "fig.subplots_adjust(bottom=0.5)\n",
    "\n",
    "# Plot the world map\n",
    "world.plot(ax = gax, edgecolor='darkgray',color='white')\n",
    "\n",
    "gdf_cntry.plot(\n",
    "    ax=gax, edgecolor='darkgray', column='vader', #if not 'vader' there's no color difference.\n",
    "    legend=True, cmap='viridis', vmin=-1, vmax=1)\n",
    "\n",
    "plt.axis('off') # No axis with long and lat\n",
    "# plt.colorbar(orientation=\"horizontal\")\n",
    "plt.show()"
   ]
  },
  {
   "cell_type": "code",
   "execution_count": 123,
   "id": "81446610-f19a-4959-989b-3a06b03b6988",
   "metadata": {},
   "outputs": [
    {
     "data": {
      "image/png": "[encoded data removed]",
      "text/plain": [
       "<Figure size 1440x720 with 2 Axes>"
      ]
     },
     "metadata": {
      "needs_background": "light"
     },
     "output_type": "display_data"
    }
   ],
   "source": [
    "usa = world[world['name'] =='United States of America']\n",
    "\n",
    "fig, gax = plt.subplots(figsize = (20,10))\n",
    "fig.subplots_adjust(bottom=0.5)\n",
    "\n",
    "# Plot the state\n",
    "usa.plot(ax = gax, edgecolor='darkgray',color='white')\n",
    "\n",
    "# Plot the counties and pass 'rel_trump_share' as the data to color\n",
    "gdf[gdf['country'] == 'United States of America'].plot(\n",
    "    ax=gax, edgecolor='darkgray', column='vader', legend=True, cmap='viridis')\n",
    "\n",
    "plt.axis('off') # No axis with long and lat\n",
    "\n",
    "plt.show()"
   ]
  },
  {
   "cell_type": "code",
   "execution_count": null,
   "id": "da6016ab-9b9b-40aa-ade9-aed69d2599a9",
   "metadata": {},
   "outputs": [
    {
     "data": {
      "text/html": [
       "<div class=\"bk-root\">\n",
       "        <a href=\"https://bokeh.org\" target=\"_blank\" class=\"bk-logo bk-logo-small bk-logo-notebook\"></a>\n",
       "        <span id=\"1002\">Loading BokehJS ...</span>\n",
       "    </div>\n"
      ]
     },
     "metadata": {},
     "output_type": "display_data"
    },
    {
     "data": {
      "application/javascript": [
       "(function(root) {\n",
       "  function now() {\n",
       "    return new Date();\n",
       "  }\n",
       "\n",
       "  const force = true;\n",
       "\n",
       "  if (typeof root._bokeh_onload_callbacks === \"undefined\" || force === true) {\n",
       "    root._bokeh_onload_callbacks = [];\n",
       "    root._bokeh_is_loading = undefined;\n",
       "  }\n",
       "\n",
       "const JS_MIME_TYPE = 'application/javascript';\n",
       "  const HTML_MIME_TYPE = 'text/html';\n",
       "  const EXEC_MIME_TYPE = 'application/vnd.bokehjs_exec.v0+json';\n",
       "  const CLASS_NAME = 'output_bokeh rendered_html';\n",
       "\n",
       "  /**\n",
       "   * Render data to the DOM node\n",
       "   */\n",
       "  function render(props, node) {\n",
       "    const script = document.createElement(\"script\");\n",
       "    node.appendChild(script);\n",
       "  }\n",
       "\n",
       "  /**\n",
       "   * Handle when an output is cleared or removed\n",
       "   */\n",
       "  function handleClearOutput(event, handle) {\n",
       "    const cell = handle.cell;\n",
       "\n",
       "    const id = cell.output_area._bokeh_element_id;\n",
       "    const server_id = cell.output_area._bokeh_server_id;\n",
       "    // Clean up Bokeh references\n",
       "    if (id != null && id in Bokeh.index) {\n",
       "      Bokeh.index[id].model.document.clear();\n",
       "      delete Bokeh.index[id];\n",
       "    }\n",
       "\n",
       "    if (server_id !== undefined) {\n",
       "      // Clean up Bokeh references\n",
       "      const cmd_clean = \"from bokeh.io.state import curstate; print(curstate().uuid_to_server['\" + server_id + \"'].get_sessions()[0].document.roots[0]._id)\";\n",
       "      cell.notebook.kernel.execute(cmd_clean, {\n",
       "        iopub: {\n",
       "          output: function(msg) {\n",
       "            const id = msg.content.text.trim();\n",
       "            if (id in Bokeh.index) {\n",
       "              Bokeh.index[id].model.document.clear();\n",
       "              delete Bokeh.index[id];\n",
       "            }\n",
       "          }\n",
       "        }\n",
       "      });\n",
       "      // Destroy server and session\n",
       "      const cmd_destroy = \"import bokeh.io.notebook as ion; ion.destroy_server('\" + server_id + \"')\";\n",
       "      cell.notebook.kernel.execute(cmd_destroy);\n",
       "    }\n",
       "  }\n",
       "\n",
       "  /**\n",
       "   * Handle when a new output is added\n",
       "   */\n",
       "  function handleAddOutput(event, handle) {\n",
       "    const output_area = handle.output_area;\n",
       "    const output = handle.output;\n",
       "\n",
       "    // limit handleAddOutput to display_data with EXEC_MIME_TYPE content only\n",
       "    if ((output.output_type != \"display_data\") || (!Object.prototype.hasOwnProperty.call(output.data, EXEC_MIME_TYPE))) {\n",
       "      return\n",
       "    }\n",
       "\n",
       "    const toinsert = output_area.element.find(\".\" + CLASS_NAME.split(' ')[0]);\n",
       "\n",
       "    if (output.metadata[EXEC_MIME_TYPE][\"id\"] !== undefined) {\n",
       "      toinsert[toinsert.length - 1].firstChild.textContent = output.data[JS_MIME_TYPE];\n",
       "      // store reference to embed id on output_area\n",
       "      output_area._bokeh_element_id = output.metadata[EXEC_MIME_TYPE][\"id\"];\n",
       "    }\n",
       "    if (output.metadata[EXEC_MIME_TYPE][\"server_id\"] !== undefined) {\n",
       "      const bk_div = document.createElement(\"div\");\n",
       "      bk_div.innerHTML = output.data[HTML_MIME_TYPE];\n",
       "      const script_attrs = bk_div.children[0].attributes;\n",
       "      for (let i = 0; i < script_attrs.length; i++) {\n",
       "        toinsert[toinsert.length - 1].firstChild.setAttribute(script_attrs[i].name, script_attrs[i].value);\n",
       "        toinsert[toinsert.length - 1].firstChild.textContent = bk_div.children[0].textContent\n",
       "      }\n",
       "      // store reference to server id on output_area\n",
       "      output_area._bokeh_server_id = output.metadata[EXEC_MIME_TYPE][\"server_id\"];\n",
       "    }\n",
       "  }\n",
       "\n",
       "  function register_renderer(events, OutputArea) {\n",
       "\n",
       "    function append_mime(data, metadata, element) {\n",
       "      // create a DOM node to render to\n",
       "      const toinsert = this.create_output_subarea(\n",
       "        metadata,\n",
       "        CLASS_NAME,\n",
       "        EXEC_MIME_TYPE\n",
       "      );\n",
       "      this.keyboard_manager.register_events(toinsert);\n",
       "      // Render to node\n",
       "      const props = {data: data, metadata: metadata[EXEC_MIME_TYPE]};\n",
       "      render(props, toinsert[toinsert.length - 1]);\n",
       "      element.append(toinsert);\n",
       "      return toinsert\n",
       "    }\n",
       "\n",
       "    /* Handle when an output is cleared or removed */\n",
       "    events.on('clear_output.CodeCell', handleClearOutput);\n",
       "    events.on('delete.Cell', handleClearOutput);\n",
       "\n",
       "    /* Handle when a new output is added */\n",
       "    events.on('output_added.OutputArea', handleAddOutput);\n",
       "\n",
       "    /**\n",
       "     * Register the mime type and append_mime function with output_area\n",
       "     */\n",
       "    OutputArea.prototype.register_mime_type(EXEC_MIME_TYPE, append_mime, {\n",
       "      /* Is output safe? */\n",
       "      safe: true,\n",
       "      /* Index of renderer in `output_area.display_order` */\n",
       "      index: 0\n",
       "    });\n",
       "  }\n",
       "\n",
       "  // register the mime type if in Jupyter Notebook environment and previously unregistered\n",
       "  if (root.Jupyter !== undefined) {\n",
       "    const events = require('base/js/events');\n",
       "    const OutputArea = require('notebook/js/outputarea').OutputArea;\n",
       "\n",
       "    if (OutputArea.prototype.mime_types().indexOf(EXEC_MIME_TYPE) == -1) {\n",
       "      register_renderer(events, OutputArea);\n",
       "    }\n",
       "  }\n",
       "  if (typeof (root._bokeh_timeout) === \"undefined\" || force === true) {\n",
       "    root._bokeh_timeout = Date.now() + 5000;\n",
       "    root._bokeh_failed_load = false;\n",
       "  }\n",
       "\n",
       "  const NB_LOAD_WARNING = {'data': {'text/html':\n",
       "     \"<div style='background-color: #fdd'>\\n\"+\n",
       "     \"<p>\\n\"+\n",
       "     \"BokehJS does not appear to have successfully loaded. If loading BokehJS from CDN, this \\n\"+\n",
       "     \"may be due to a slow or bad network connection. Possible fixes:\\n\"+\n",
       "     \"</p>\\n\"+\n",
       "     \"<ul>\\n\"+\n",
       "     \"<li>re-rerun `output_notebook()` to attempt to load from CDN again, or</li>\\n\"+\n",
       "     \"<li>use INLINE resources instead, as so:</li>\\n\"+\n",
       "     \"</ul>\\n\"+\n",
       "     \"<code>\\n\"+\n",
       "     \"from bokeh.resources import INLINE\\n\"+\n",
       "     \"output_notebook(resources=INLINE)\\n\"+\n",
       "     \"</code>\\n\"+\n",
       "     \"</div>\"}};\n",
       "\n",
       "  function display_loaded() {\n",
       "    const el = document.getElementById(\"1002\");\n",
       "    if (el != null) {\n",
       "      el.textContent = \"BokehJS is loading...\";\n",
       "    }\n",
       "    if (root.Bokeh !== undefined) {\n",
       "      if (el != null) {\n",
       "        el.textContent = \"BokehJS \" + root.Bokeh.version + \" successfully loaded.\";\n",
       "      }\n",
       "    } else if (Date.now() < root._bokeh_timeout) {\n",
       "      setTimeout(display_loaded, 100)\n",
       "    }\n",
       "  }\n",
       "\n",
       "  function run_callbacks() {\n",
       "    try {\n",
       "      root._bokeh_onload_callbacks.forEach(function(callback) {\n",
       "        if (callback != null)\n",
       "          callback();\n",
       "      });\n",
       "    } finally {\n",
       "      delete root._bokeh_onload_callbacks\n",
       "    }\n",
       "    console.debug(\"Bokeh: all callbacks have finished\");\n",
       "  }\n",
       "\n",
       "  function load_libs(css_urls, js_urls, callback) {\n",
       "    if (css_urls == null) css_urls = [];\n",
       "    if (js_urls == null) js_urls = [];\n",
       "\n",
       "    root._bokeh_onload_callbacks.push(callback);\n",
       "    if (root._bokeh_is_loading > 0) {\n",
       "      console.debug(\"Bokeh: BokehJS is being loaded, scheduling callback at\", now());\n",
       "      return null;\n",
       "    }\n",
       "    if (js_urls == null || js_urls.length === 0) {\n",
       "      run_callbacks();\n",
       "      return null;\n",
       "    }\n",
       "    console.debug(\"Bokeh: BokehJS not loaded, scheduling load and callback at\", now());\n",
       "    root._bokeh_is_loading = css_urls.length + js_urls.length;\n",
       "\n",
       "    function on_load() {\n",
       "      root._bokeh_is_loading--;\n",
       "      if (root._bokeh_is_loading === 0) {\n",
       "        console.debug(\"Bokeh: all BokehJS libraries/stylesheets loaded\");\n",
       "        run_callbacks()\n",
       "      }\n",
       "    }\n",
       "\n",
       "    function on_error(url) {\n",
       "      console.error(\"failed to load \" + url);\n",
       "    }\n",
       "\n",
       "    for (let i = 0; i < css_urls.length; i++) {\n",
       "      const url = css_urls[i];\n",
       "      const element = document.createElement(\"link\");\n",
       "      element.onload = on_load;\n",
       "      element.onerror = on_error.bind(null, url);\n",
       "      element.rel = \"stylesheet\";\n",
       "      element.type = \"text/css\";\n",
       "      element.href = url;\n",
       "      console.debug(\"Bokeh: injecting link tag for BokehJS stylesheet: \", url);\n",
       "      document.body.appendChild(element);\n",
       "    }\n",
       "\n",
       "    for (let i = 0; i < js_urls.length; i++) {\n",
       "      const url = js_urls[i];\n",
       "      const element = document.createElement('script');\n",
       "      element.onload = on_load;\n",
       "      element.onerror = on_error.bind(null, url);\n",
       "      element.async = false;\n",
       "      element.src = url;\n",
       "      console.debug(\"Bokeh: injecting script tag for BokehJS library: \", url);\n",
       "      document.head.appendChild(element);\n",
       "    }\n",
       "  };\n",
       "\n",
       "  function inject_raw_css(css) {\n",
       "    const element = document.createElement(\"style\");\n",
       "    element.appendChild(document.createTextNode(css));\n",
       "    document.body.appendChild(element);\n",
       "  }\n",
       "\n",
       "  const js_urls = [\"https://cdn.bokeh.org/bokeh/release/bokeh-2.4.3.min.js\", \"https://cdn.bokeh.org/bokeh/release/bokeh-gl-2.4.3.min.js\", \"https://cdn.bokeh.org/bokeh/release/bokeh-widgets-2.4.3.min.js\", \"https://cdn.bokeh.org/bokeh/release/bokeh-tables-2.4.3.min.js\", \"https://cdn.bokeh.org/bokeh/release/bokeh-mathjax-2.4.3.min.js\"];\n",
       "  const css_urls = [];\n",
       "\n",
       "  const inline_js = [    function(Bokeh) {\n",
       "      Bokeh.set_log_level(\"info\");\n",
       "    },\n",
       "function(Bokeh) {\n",
       "    }\n",
       "  ];\n",
       "\n",
       "  function run_inline_js() {\n",
       "    if (root.Bokeh !== undefined || force === true) {\n",
       "          for (let i = 0; i < inline_js.length; i++) {\n",
       "      inline_js[i].call(root, root.Bokeh);\n",
       "    }\n",
       "if (force === true) {\n",
       "        display_loaded();\n",
       "      }} else if (Date.now() < root._bokeh_timeout) {\n",
       "      setTimeout(run_inline_js, 100);\n",
       "    } else if (!root._bokeh_failed_load) {\n",
       "      console.log(\"Bokeh: BokehJS failed to load within specified timeout.\");\n",
       "      root._bokeh_failed_load = true;\n",
       "    } else if (force !== true) {\n",
       "      const cell = $(document.getElementById(\"1002\")).parents('.cell').data().cell;\n",
       "      cell.output_area.append_execute_result(NB_LOAD_WARNING)\n",
       "    }\n",
       "  }\n",
       "\n",
       "  if (root._bokeh_is_loading === 0) {\n",
       "    console.debug(\"Bokeh: BokehJS loaded, going straight to plotting\");\n",
       "    run_inline_js();\n",
       "  } else {\n",
       "    load_libs(css_urls, js_urls, function() {\n",
       "      console.debug(\"Bokeh: BokehJS plotting callback run at\", now());\n",
       "      run_inline_js();\n",
       "    });\n",
       "  }\n",
       "}(window));"
      ],
      "application/vnd.bokehjs_load.v0+json": "(function(root) {\n  function now() {\n    return new Date();\n  }\n\n  const force = true;\n\n  if (typeof root._bokeh_onload_callbacks === \"undefined\" || force === true) {\n    root._bokeh_onload_callbacks = [];\n    root._bokeh_is_loading = undefined;\n  }\n\n\n  if (typeof (root._bokeh_timeout) === \"undefined\" || force === true) {\n    root._bokeh_timeout = Date.now() + 5000;\n    root._bokeh_failed_load = false;\n  }\n\n  const NB_LOAD_WARNING = {'data': {'text/html':\n     \"<div style='background-color: #fdd'>\\n\"+\n     \"<p>\\n\"+\n     \"BokehJS does not appear to have successfully loaded. If loading BokehJS from CDN, this \\n\"+\n     \"may be due to a slow or bad network connection. Possible fixes:\\n\"+\n     \"</p>\\n\"+\n     \"<ul>\\n\"+\n     \"<li>re-rerun `output_notebook()` to attempt to load from CDN again, or</li>\\n\"+\n     \"<li>use INLINE resources instead, as so:</li>\\n\"+\n     \"</ul>\\n\"+\n     \"<code>\\n\"+\n     \"from bokeh.resources import INLINE\\n\"+\n     \"output_notebook(resources=INLINE)\\n\"+\n     \"</code>\\n\"+\n     \"</div>\"}};\n\n  function display_loaded() {\n    const el = document.getElementById(\"1002\");\n    if (el != null) {\n      el.textContent = \"BokehJS is loading...\";\n    }\n    if (root.Bokeh !== undefined) {\n      if (el != null) {\n        el.textContent = \"BokehJS \" + root.Bokeh.version + \" successfully loaded.\";\n      }\n    } else if (Date.now() < root._bokeh_timeout) {\n      setTimeout(display_loaded, 100)\n    }\n  }\n\n  function run_callbacks() {\n    try {\n      root._bokeh_onload_callbacks.forEach(function(callback) {\n        if (callback != null)\n          callback();\n      });\n    } finally {\n      delete root._bokeh_onload_callbacks\n    }\n    console.debug(\"Bokeh: all callbacks have finished\");\n  }\n\n  function load_libs(css_urls, js_urls, callback) {\n    if (css_urls == null) css_urls = [];\n    if (js_urls == null) js_urls = [];\n\n    root._bokeh_onload_callbacks.push(callback);\n    if (root._bokeh_is_loading > 0) {\n      console.debug(\"Bokeh: BokehJS is being loaded, scheduling callback at\", now());\n      return null;\n    }\n    if (js_urls == null || js_urls.length === 0) {\n      run_callbacks();\n      return null;\n    }\n    console.debug(\"Bokeh: BokehJS not loaded, scheduling load and callback at\", now());\n    root._bokeh_is_loading = css_urls.length + js_urls.length;\n\n    function on_load() {\n      root._bokeh_is_loading--;\n      if (root._bokeh_is_loading === 0) {\n        console.debug(\"Bokeh: all BokehJS libraries/stylesheets loaded\");\n        run_callbacks()\n      }\n    }\n\n    function on_error(url) {\n      console.error(\"failed to load \" + url);\n    }\n\n    for (let i = 0; i < css_urls.length; i++) {\n      const url = css_urls[i];\n      const element = document.createElement(\"link\");\n      element.onload = on_load;\n      element.onerror = on_error.bind(null, url);\n      element.rel = \"stylesheet\";\n      element.type = \"text/css\";\n      element.href = url;\n      console.debug(\"Bokeh: injecting link tag for BokehJS stylesheet: \", url);\n      document.body.appendChild(element);\n    }\n\n    for (let i = 0; i < js_urls.length; i++) {\n      const url = js_urls[i];\n      const element = document.createElement('script');\n      element.onload = on_load;\n      element.onerror = on_error.bind(null, url);\n      element.async = false;\n      element.src = url;\n      console.debug(\"Bokeh: injecting script tag for BokehJS library: \", url);\n      document.head.appendChild(element);\n    }\n  };\n\n  function inject_raw_css(css) {\n    const element = document.createElement(\"style\");\n    element.appendChild(document.createTextNode(css));\n    document.body.appendChild(element);\n  }\n\n  const js_urls = [\"https://cdn.bokeh.org/bokeh/release/bokeh-2.4.3.min.js\", \"https://cdn.bokeh.org/bokeh/release/bokeh-gl-2.4.3.min.js\", \"https://cdn.bokeh.org/bokeh/release/bokeh-widgets-2.4.3.min.js\", \"https://cdn.bokeh.org/bokeh/release/bokeh-tables-2.4.3.min.js\", \"https://cdn.bokeh.org/bokeh/release/bokeh-mathjax-2.4.3.min.js\"];\n  const css_urls = [];\n\n  const inline_js = [    function(Bokeh) {\n      Bokeh.set_log_level(\"info\");\n    },\nfunction(Bokeh) {\n    }\n  ];\n\n  function run_inline_js() {\n    if (root.Bokeh !== undefined || force === true) {\n          for (let i = 0; i < inline_js.length; i++) {\n      inline_js[i].call(root, root.Bokeh);\n    }\nif (force === true) {\n        display_loaded();\n      }} else if (Date.now() < root._bokeh_timeout) {\n      setTimeout(run_inline_js, 100);\n    } else if (!root._bokeh_failed_load) {\n      console.log(\"Bokeh: BokehJS failed to load within specified timeout.\");\n      root._bokeh_failed_load = true;\n    } else if (force !== true) {\n      const cell = $(document.getElementById(\"1002\")).parents('.cell').data().cell;\n      cell.output_area.append_execute_result(NB_LOAD_WARNING)\n    }\n  }\n\n  if (root._bokeh_is_loading === 0) {\n    console.debug(\"Bokeh: BokehJS loaded, going straight to plotting\");\n    run_inline_js();\n  } else {\n    load_libs(css_urls, js_urls, function() {\n      console.debug(\"Bokeh: BokehJS plotting callback run at\", now());\n      run_inline_js();\n    });\n  }\n}(window));"
     },
     "metadata": {},
     "output_type": "display_data"
    }
   ],
   "source": [
    "from bokeh.io import output_notebook\n",
    "from bokeh.plotting import figure, ColumnDataSource\n",
    "from bokeh.io import output_notebook, show, output_file\n",
    "from bokeh.plotting import figure\n",
    "from bokeh.models import GeoJSONDataSource, LinearColorMapper, ColorBar, HoverTool\n",
    "from bokeh.palettes import brewer\n",
    "output_notebook()\n",
    "import json"
   ]
  },
  {
   "cell_type": "code",
   "execution_count": 53,
   "id": "d2529f76-9369-48b5-8686-1b01c99cfb90",
   "metadata": {},
   "outputs": [
    {
     "data": {
      "text/html": [
       "<div>\n",
       "<style scoped>\n",
       "    .dataframe tbody tr th:only-of-type {\n",
       "        vertical-align: middle;\n",
       "    }\n",
       "\n",
       "    .dataframe tbody tr th {\n",
       "        vertical-align: top;\n",
       "    }\n",
       "\n",
       "    .dataframe thead th {\n",
       "        text-align: right;\n",
       "    }\n",
       "</style>\n",
       "<table border=\"1\" class=\"dataframe\">\n",
       "  <thead>\n",
       "    <tr style=\"text-align: right;\">\n",
       "      <th></th>\n",
       "      <th>title</th>\n",
       "      <th>location</th>\n",
       "      <th>date</th>\n",
       "      <th>stanza</th>\n",
       "      <th>textblob</th>\n",
       "      <th>vader</th>\n",
       "      <th>subjectivity</th>\n",
       "      <th>geometry</th>\n",
       "    </tr>\n",
       "  </thead>\n",
       "  <tbody>\n",
       "    <tr>\n",
       "      <th>0</th>\n",
       "      <td>Prayer_Breakfast_2016</td>\n",
       "      <td>Washington Hilton, Washington D.C.</td>\n",
       "      <td>2016-02-04</td>\n",
       "      <td>0.099</td>\n",
       "      <td>0.178</td>\n",
       "      <td>1.000</td>\n",
       "      <td>0.542</td>\n",
       "      <td>POINT (-77.04521 38.91652)</td>\n",
       "    </tr>\n",
       "    <tr>\n",
       "      <th>1</th>\n",
       "      <td>Security_Team_Announcement</td>\n",
       "      <td>Chicago, Illinois</td>\n",
       "      <td>2008-12-01</td>\n",
       "      <td>0.140</td>\n",
       "      <td>0.162</td>\n",
       "      <td>0.998</td>\n",
       "      <td>0.403</td>\n",
       "      <td>POINT (-87.62442 41.87556)</td>\n",
       "    </tr>\n",
       "    <tr>\n",
       "      <th>2</th>\n",
       "      <td>Cairo_University</td>\n",
       "      <td>Cairo, Egypt</td>\n",
       "      <td>2009-06-04</td>\n",
       "      <td>-0.150</td>\n",
       "      <td>0.110</td>\n",
       "      <td>1.000</td>\n",
       "      <td>0.457</td>\n",
       "      <td>POINT (31.23573 30.04439)</td>\n",
       "    </tr>\n",
       "    <tr>\n",
       "      <th>3</th>\n",
       "      <td>Umpqua_Community_College_Shootings</td>\n",
       "      <td>Washington D.C.</td>\n",
       "      <td>2015-10-01</td>\n",
       "      <td>-0.250</td>\n",
       "      <td>0.061</td>\n",
       "      <td>-0.998</td>\n",
       "      <td>0.435</td>\n",
       "      <td>POINT (-77.03654 38.89504)</td>\n",
       "    </tr>\n",
       "    <tr>\n",
       "      <th>4</th>\n",
       "      <td>White_House_Correspondent_Dinner_2013</td>\n",
       "      <td>Washington Hilton Hotel, Washington D.C.</td>\n",
       "      <td>2013-04-27</td>\n",
       "      <td>-0.012</td>\n",
       "      <td>0.145</td>\n",
       "      <td>1.000</td>\n",
       "      <td>0.501</td>\n",
       "      <td>POINT (-77.04521 38.91652)</td>\n",
       "    </tr>\n",
       "    <tr>\n",
       "      <th>...</th>\n",
       "      <td>...</td>\n",
       "      <td>...</td>\n",
       "      <td>...</td>\n",
       "      <td>...</td>\n",
       "      <td>...</td>\n",
       "      <td>...</td>\n",
       "      <td>...</td>\n",
       "      <td>...</td>\n",
       "    </tr>\n",
       "    <tr>\n",
       "      <th>341</th>\n",
       "      <td>Shimon_Peres_Memorial</td>\n",
       "      <td>Mount Herzl, Jerusalem, Israel</td>\n",
       "      <td>2016-09-30</td>\n",
       "      <td>-0.083</td>\n",
       "      <td>0.164</td>\n",
       "      <td>1.000</td>\n",
       "      <td>0.436</td>\n",
       "      <td>POINT (35.18163 31.77236)</td>\n",
       "    </tr>\n",
       "    <tr>\n",
       "      <th>342</th>\n",
       "      <td>ASEAN_Business_2015</td>\n",
       "      <td>Shangri-La Hotel, Kuala Lumpur, Malaysia</td>\n",
       "      <td>2015-11-21</td>\n",
       "      <td>-0.050</td>\n",
       "      <td>0.164</td>\n",
       "      <td>1.000</td>\n",
       "      <td>0.399</td>\n",
       "      <td>POINT (101.70646 3.15417)</td>\n",
       "    </tr>\n",
       "    <tr>\n",
       "      <th>343</th>\n",
       "      <td>Finance_Crisis_Fee</td>\n",
       "      <td>unknown_location</td>\n",
       "      <td>2010-01-14</td>\n",
       "      <td>-0.412</td>\n",
       "      <td>0.080</td>\n",
       "      <td>0.987</td>\n",
       "      <td>0.436</td>\n",
       "      <td>POINT (36.74166 -0.99995)</td>\n",
       "    </tr>\n",
       "    <tr>\n",
       "      <th>344</th>\n",
       "      <td>Oval_Office_Counter_Terrorism_Agenda</td>\n",
       "      <td>White House, Washington D.C.</td>\n",
       "      <td>2015-12-06</td>\n",
       "      <td>-0.134</td>\n",
       "      <td>0.076</td>\n",
       "      <td>-1.000</td>\n",
       "      <td>0.398</td>\n",
       "      <td>POINT (-77.03655 38.89770)</td>\n",
       "    </tr>\n",
       "    <tr>\n",
       "      <th>345</th>\n",
       "      <td>Michigan_University_Commencement</td>\n",
       "      <td>unknown_location</td>\n",
       "      <td>2010-05-01</td>\n",
       "      <td>-0.152</td>\n",
       "      <td>0.121</td>\n",
       "      <td>1.000</td>\n",
       "      <td>0.496</td>\n",
       "      <td>POINT (36.74166 -0.99995)</td>\n",
       "    </tr>\n",
       "  </tbody>\n",
       "</table>\n",
       "<p>346 rows × 8 columns</p>\n",
       "</div>"
      ],
      "text/plain": [
       "                                     title  \\\n",
       "0                    Prayer_Breakfast_2016   \n",
       "1               Security_Team_Announcement   \n",
       "2                         Cairo_University   \n",
       "3       Umpqua_Community_College_Shootings   \n",
       "4    White_House_Correspondent_Dinner_2013   \n",
       "..                                     ...   \n",
       "341                  Shimon_Peres_Memorial   \n",
       "342                    ASEAN_Business_2015   \n",
       "343                     Finance_Crisis_Fee   \n",
       "344   Oval_Office_Counter_Terrorism_Agenda   \n",
       "345       Michigan_University_Commencement   \n",
       "\n",
       "                                     location        date  stanza  textblob  \\\n",
       "0          Washington Hilton, Washington D.C.  2016-02-04   0.099     0.178   \n",
       "1                           Chicago, Illinois  2008-12-01   0.140     0.162   \n",
       "2                                Cairo, Egypt  2009-06-04  -0.150     0.110   \n",
       "3                             Washington D.C.  2015-10-01  -0.250     0.061   \n",
       "4    Washington Hilton Hotel, Washington D.C.  2013-04-27  -0.012     0.145   \n",
       "..                                        ...         ...     ...       ...   \n",
       "341            Mount Herzl, Jerusalem, Israel  2016-09-30  -0.083     0.164   \n",
       "342  Shangri-La Hotel, Kuala Lumpur, Malaysia  2015-11-21  -0.050     0.164   \n",
       "343                          unknown_location  2010-01-14  -0.412     0.080   \n",
       "344              White House, Washington D.C.  2015-12-06  -0.134     0.076   \n",
       "345                          unknown_location  2010-05-01  -0.152     0.121   \n",
       "\n",
       "     vader  subjectivity                    geometry  \n",
       "0    1.000         0.542  POINT (-77.04521 38.91652)  \n",
       "1    0.998         0.403  POINT (-87.62442 41.87556)  \n",
       "2    1.000         0.457   POINT (31.23573 30.04439)  \n",
       "3   -0.998         0.435  POINT (-77.03654 38.89504)  \n",
       "4    1.000         0.501  POINT (-77.04521 38.91652)  \n",
       "..     ...           ...                         ...  \n",
       "341  1.000         0.436   POINT (35.18163 31.77236)  \n",
       "342  1.000         0.399   POINT (101.70646 3.15417)  \n",
       "343  0.987         0.436   POINT (36.74166 -0.99995)  \n",
       "344 -1.000         0.398  POINT (-77.03655 38.89770)  \n",
       "345  1.000         0.496   POINT (36.74166 -0.99995)  \n",
       "\n",
       "[346 rows x 8 columns]"
      ]
     },
     "execution_count": 53,
     "metadata": {},
     "output_type": "execute_result"
    }
   ],
   "source": [
    "gdf_simple = gdf.drop(columns = ['pages', 'highest_speaker_count', 'country', 'state', 'city', 'specific_location', 'geo_location', 'point', 'Coordinates', 'latitude', 'longitude'])\n",
    "gdf_simple"
   ]
  },
  {
   "cell_type": "code",
   "execution_count": null,
   "id": "f88aab5d-7597-4bcc-a01f-1f2ed78e1215",
   "metadata": {},
   "outputs": [],
   "source": []
  }
 ],
 "metadata": {
  "kernelspec": {
   "display_name": "Python 3 (ipykernel)",
   "language": "python",
   "name": "python3"
  },
  "language_info": {
   "codemirror_mode": {
    "name": "ipython",
    "version": 3
   },
   "file_extension": ".py",
   "mimetype": "text/x-python",
   "name": "python",
   "nbconvert_exporter": "python",
   "pygments_lexer": "ipython3",
   "version": "3.9.7"
  }
 },
 "nbformat": 4,
 "nbformat_minor": 5
}
