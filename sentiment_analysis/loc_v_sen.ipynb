{
 "cells": [
  {
   "cell_type": "markdown",
   "id": "a2519ac6-b0e5-4aba-a228-765763edb2f9",
   "metadata": {},
   "source": [
    "# Sentiment Per Location \n",
    "Based on: https://datascience.quantecon.org/applications/maps.html <br>\n",
    "Info on geopy: https://geopy.readthedocs.io/en/stable/"
   ]
  },
  {
   "cell_type": "code",
   "execution_count": 3,
   "id": "de5a4fa1-48e5-443e-9128-7aa96f9aac1c",
   "metadata": {
    "scrolled": true,
    "tags": []
   },
   "outputs": [
    {
     "name": "stdout",
     "output_type": "stream",
     "text": [
      "Collecting geopy\n",
      "  Downloading geopy-2.2.0-py3-none-any.whl (118 kB)\n",
      "\u001b[2K     \u001b[90m━━━━━━━━━━━━━━━━━━━━━━━━━━━━━━━━━━━━━━━\u001b[0m \u001b[32m118.9/118.9 kB\u001b[0m \u001b[31m2.4 MB/s\u001b[0m eta \u001b[36m0:00:00\u001b[0ma \u001b[36m0:00:01\u001b[0m\n",
      "\u001b[?25hCollecting geographiclib<2,>=1.49\n",
      "  Downloading geographiclib-1.52-py3-none-any.whl (38 kB)\n",
      "Installing collected packages: geographiclib, geopy\n",
      "Successfully installed geographiclib-1.52 geopy-2.2.0\n",
      "Note: you may need to restart the kernel to use updated packages.\n"
     ]
    }
   ],
   "source": [
    "# pip install geopy"
   ]
  },
  {
   "cell_type": "code",
   "execution_count": 1,
   "id": "cbbed59a-c06d-45e8-acc8-ccbbd79ece36",
   "metadata": {},
   "outputs": [],
   "source": [
    "from pathlib import Path\n",
    "from shapely.geometry import Point\n",
    "import os\n",
    "import sys\n",
    "import csv\n",
    "import geopandas as gpd\n",
    "from geopy import geocoders\n",
    "import matplotlib.pyplot as plt\n",
    "import pandas as pd\n",
    "%matplotlib inline"
   ]
  },
  {
   "cell_type": "code",
   "execution_count": 2,
   "id": "49a0307e-a95f-4099-a5ca-f53cdab9a323",
   "metadata": {},
   "outputs": [],
   "source": [
    "# Basic paths\n",
    "project_path = Path().resolve().parent\n",
    "csv_path = project_path / \"speeches_csv\""
   ]
  },
  {
   "cell_type": "code",
   "execution_count": 3,
   "id": "1844b306-7b86-4d77-9186-97195f54dba7",
   "metadata": {},
   "outputs": [
    {
     "data": {
      "text/html": [
       "<div>\n",
       "<style scoped>\n",
       "    .dataframe tbody tr th:only-of-type {\n",
       "        vertical-align: middle;\n",
       "    }\n",
       "\n",
       "    .dataframe tbody tr th {\n",
       "        vertical-align: top;\n",
       "    }\n",
       "\n",
       "    .dataframe thead th {\n",
       "        text-align: right;\n",
       "    }\n",
       "</style>\n",
       "<table border=\"1\" class=\"dataframe\">\n",
       "  <thead>\n",
       "    <tr style=\"text-align: right;\">\n",
       "      <th></th>\n",
       "      <th>title</th>\n",
       "      <th>date</th>\n",
       "      <th>stanza</th>\n",
       "      <th>textblob</th>\n",
       "      <th>vader</th>\n",
       "      <th>subjectivity</th>\n",
       "    </tr>\n",
       "  </thead>\n",
       "  <tbody>\n",
       "    <tr>\n",
       "      <th>0</th>\n",
       "      <td>Prayer_Breakfast_2016</td>\n",
       "      <td>2016-02-04</td>\n",
       "      <td>0.099</td>\n",
       "      <td>0.178</td>\n",
       "      <td>1.000</td>\n",
       "      <td>0.542</td>\n",
       "    </tr>\n",
       "    <tr>\n",
       "      <th>1</th>\n",
       "      <td>Security_Team_Announcement</td>\n",
       "      <td>2008-12-01</td>\n",
       "      <td>0.140</td>\n",
       "      <td>0.162</td>\n",
       "      <td>0.998</td>\n",
       "      <td>0.403</td>\n",
       "    </tr>\n",
       "    <tr>\n",
       "      <th>2</th>\n",
       "      <td>Cairo_University</td>\n",
       "      <td>2009-06-04</td>\n",
       "      <td>-0.150</td>\n",
       "      <td>0.110</td>\n",
       "      <td>1.000</td>\n",
       "      <td>0.457</td>\n",
       "    </tr>\n",
       "    <tr>\n",
       "      <th>3</th>\n",
       "      <td>Umpqua_Community_College_Shootings</td>\n",
       "      <td>2015-10-01</td>\n",
       "      <td>-0.250</td>\n",
       "      <td>0.061</td>\n",
       "      <td>-0.998</td>\n",
       "      <td>0.435</td>\n",
       "    </tr>\n",
       "    <tr>\n",
       "      <th>4</th>\n",
       "      <td>White_House_Correspondent_Dinner_2013</td>\n",
       "      <td>2013-04-27</td>\n",
       "      <td>-0.012</td>\n",
       "      <td>0.145</td>\n",
       "      <td>1.000</td>\n",
       "      <td>0.501</td>\n",
       "    </tr>\n",
       "  </tbody>\n",
       "</table>\n",
       "</div>"
      ],
      "text/plain": [
       "                                   title        date  stanza  textblob  vader  \\\n",
       "0                  Prayer_Breakfast_2016  2016-02-04   0.099     0.178  1.000   \n",
       "1             Security_Team_Announcement  2008-12-01   0.140     0.162  0.998   \n",
       "2                       Cairo_University  2009-06-04  -0.150     0.110  1.000   \n",
       "3     Umpqua_Community_College_Shootings  2015-10-01  -0.250     0.061 -0.998   \n",
       "4  White_House_Correspondent_Dinner_2013  2013-04-27  -0.012     0.145  1.000   \n",
       "\n",
       "   subjectivity  \n",
       "0         0.542  \n",
       "1         0.403  \n",
       "2         0.457  \n",
       "3         0.435  \n",
       "4         0.501  "
      ]
     },
     "execution_count": 3,
     "metadata": {},
     "output_type": "execute_result"
    }
   ],
   "source": [
    "# Open in pandas the table with the sentiment and the location information\n",
    "df_sen = pd.read_csv(\"results_sa_all.txt\") #Make sure to update this data\n",
    "df_sen.head()"
   ]
  },
  {
   "cell_type": "code",
   "execution_count": 4,
   "id": "5443be1d-b840-49d3-ac34-272ae35a2b39",
   "metadata": {},
   "outputs": [
    {
     "data": {
      "text/html": [
       "<div>\n",
       "<style scoped>\n",
       "    .dataframe tbody tr th:only-of-type {\n",
       "        vertical-align: middle;\n",
       "    }\n",
       "\n",
       "    .dataframe tbody tr th {\n",
       "        vertical-align: top;\n",
       "    }\n",
       "\n",
       "    .dataframe thead th {\n",
       "        text-align: right;\n",
       "    }\n",
       "</style>\n",
       "<table border=\"1\" class=\"dataframe\">\n",
       "  <thead>\n",
       "    <tr style=\"text-align: right;\">\n",
       "      <th></th>\n",
       "      <th>title</th>\n",
       "      <th>pages</th>\n",
       "      <th>location</th>\n",
       "      <th>highest_speaker_count</th>\n",
       "      <th>country</th>\n",
       "      <th>state</th>\n",
       "      <th>city</th>\n",
       "      <th>specific_location</th>\n",
       "    </tr>\n",
       "  </thead>\n",
       "  <tbody>\n",
       "    <tr>\n",
       "      <th>1</th>\n",
       "      <td>Prayer_Breakfast_2016</td>\n",
       "      <td>7</td>\n",
       "      <td>Washington Hilton, Washington D.C.</td>\n",
       "      <td>0</td>\n",
       "      <td>USA</td>\n",
       "      <td>no_state</td>\n",
       "      <td>Washington D.C.</td>\n",
       "      <td>Washington Hilton</td>\n",
       "    </tr>\n",
       "    <tr>\n",
       "      <th>2</th>\n",
       "      <td>Security_Team_Announcement</td>\n",
       "      <td>5</td>\n",
       "      <td>Chicago, Illinois</td>\n",
       "      <td>0</td>\n",
       "      <td>USA</td>\n",
       "      <td>Illinois</td>\n",
       "      <td>Chicago</td>\n",
       "      <td>no_specific_location</td>\n",
       "    </tr>\n",
       "    <tr>\n",
       "      <th>3</th>\n",
       "      <td>Cairo_University</td>\n",
       "      <td>14</td>\n",
       "      <td>Cairo, Egypt</td>\n",
       "      <td>0</td>\n",
       "      <td>Egypt</td>\n",
       "      <td>no_state</td>\n",
       "      <td>Cairo</td>\n",
       "      <td>no_specific_location</td>\n",
       "    </tr>\n",
       "    <tr>\n",
       "      <th>4</th>\n",
       "      <td>Umpqua_Community_College_Shootings</td>\n",
       "      <td>4</td>\n",
       "      <td>Washington D.C.</td>\n",
       "      <td>0</td>\n",
       "      <td>USA</td>\n",
       "      <td>no_state</td>\n",
       "      <td>Washington D.C.</td>\n",
       "      <td>no_specific_location</td>\n",
       "    </tr>\n",
       "    <tr>\n",
       "      <th>5</th>\n",
       "      <td>White_House_Correspondent_Dinner_2013</td>\n",
       "      <td>6</td>\n",
       "      <td>Washington Hilton Hotel, Washington D.C.</td>\n",
       "      <td>0</td>\n",
       "      <td>USA</td>\n",
       "      <td>no_state</td>\n",
       "      <td>Washington D.C.</td>\n",
       "      <td>Washington Hilton Hotel</td>\n",
       "    </tr>\n",
       "  </tbody>\n",
       "</table>\n",
       "</div>"
      ],
      "text/plain": [
       "                                   title  pages  \\\n",
       "1                  Prayer_Breakfast_2016      7   \n",
       "2             Security_Team_Announcement      5   \n",
       "3                       Cairo_University     14   \n",
       "4     Umpqua_Community_College_Shootings      4   \n",
       "5  White_House_Correspondent_Dinner_2013      6   \n",
       "\n",
       "                                   location  highest_speaker_count country  \\\n",
       "1        Washington Hilton, Washington D.C.                      0     USA   \n",
       "2                         Chicago, Illinois                      0     USA   \n",
       "3                              Cairo, Egypt                      0   Egypt   \n",
       "4                           Washington D.C.                      0     USA   \n",
       "5  Washington Hilton Hotel, Washington D.C.                      0     USA   \n",
       "\n",
       "      state             city        specific_location  \n",
       "1  no_state  Washington D.C.        Washington Hilton  \n",
       "2  Illinois          Chicago     no_specific_location  \n",
       "3  no_state            Cairo     no_specific_location  \n",
       "4  no_state  Washington D.C.     no_specific_location  \n",
       "5  no_state  Washington D.C.  Washington Hilton Hotel  "
      ]
     },
     "execution_count": 4,
     "metadata": {},
     "output_type": "execute_result"
    }
   ],
   "source": [
    "# Call the all_speechs dataframe and clean it a bit\n",
    "df_temp = pd.read_csv(csv_path / \"all_speeches_cleaned.txt\") \n",
    "df_temp = df_temp.drop(columns=[\"count_commas\",\"content\",\"date\"]) # I un-dropped \"location\".\n",
    "df_temp = df_temp[ df_temp[\"highest_speaker_count\"] <= 3 ]\n",
    "df_temp.head()"
   ]
  },
  {
   "cell_type": "code",
   "execution_count": 5,
   "id": "5e03aec5-cd95-4d01-b785-fbc800fb63e1",
   "metadata": {},
   "outputs": [
    {
     "data": {
      "text/html": [
       "<div>\n",
       "<style scoped>\n",
       "    .dataframe tbody tr th:only-of-type {\n",
       "        vertical-align: middle;\n",
       "    }\n",
       "\n",
       "    .dataframe tbody tr th {\n",
       "        vertical-align: top;\n",
       "    }\n",
       "\n",
       "    .dataframe thead th {\n",
       "        text-align: right;\n",
       "    }\n",
       "</style>\n",
       "<table border=\"1\" class=\"dataframe\">\n",
       "  <thead>\n",
       "    <tr style=\"text-align: right;\">\n",
       "      <th></th>\n",
       "      <th>title</th>\n",
       "      <th>pages</th>\n",
       "      <th>location</th>\n",
       "      <th>highest_speaker_count</th>\n",
       "      <th>country</th>\n",
       "      <th>state</th>\n",
       "      <th>city</th>\n",
       "      <th>specific_location</th>\n",
       "      <th>date</th>\n",
       "      <th>stanza</th>\n",
       "      <th>textblob</th>\n",
       "      <th>vader</th>\n",
       "      <th>subjectivity</th>\n",
       "    </tr>\n",
       "  </thead>\n",
       "  <tbody>\n",
       "    <tr>\n",
       "      <th>0</th>\n",
       "      <td>Prayer_Breakfast_2016</td>\n",
       "      <td>7</td>\n",
       "      <td>Washington Hilton, Washington D.C.</td>\n",
       "      <td>0</td>\n",
       "      <td>USA</td>\n",
       "      <td>no_state</td>\n",
       "      <td>Washington D.C.</td>\n",
       "      <td>Washington Hilton</td>\n",
       "      <td>2016-02-04</td>\n",
       "      <td>0.099</td>\n",
       "      <td>0.178</td>\n",
       "      <td>1.000</td>\n",
       "      <td>0.542</td>\n",
       "    </tr>\n",
       "    <tr>\n",
       "      <th>1</th>\n",
       "      <td>Security_Team_Announcement</td>\n",
       "      <td>5</td>\n",
       "      <td>Chicago, Illinois</td>\n",
       "      <td>0</td>\n",
       "      <td>USA</td>\n",
       "      <td>Illinois</td>\n",
       "      <td>Chicago</td>\n",
       "      <td>no_specific_location</td>\n",
       "      <td>2008-12-01</td>\n",
       "      <td>0.140</td>\n",
       "      <td>0.162</td>\n",
       "      <td>0.998</td>\n",
       "      <td>0.403</td>\n",
       "    </tr>\n",
       "    <tr>\n",
       "      <th>2</th>\n",
       "      <td>Cairo_University</td>\n",
       "      <td>14</td>\n",
       "      <td>Cairo, Egypt</td>\n",
       "      <td>0</td>\n",
       "      <td>Egypt</td>\n",
       "      <td>no_state</td>\n",
       "      <td>Cairo</td>\n",
       "      <td>no_specific_location</td>\n",
       "      <td>2009-06-04</td>\n",
       "      <td>-0.150</td>\n",
       "      <td>0.110</td>\n",
       "      <td>1.000</td>\n",
       "      <td>0.457</td>\n",
       "    </tr>\n",
       "    <tr>\n",
       "      <th>3</th>\n",
       "      <td>Umpqua_Community_College_Shootings</td>\n",
       "      <td>4</td>\n",
       "      <td>Washington D.C.</td>\n",
       "      <td>0</td>\n",
       "      <td>USA</td>\n",
       "      <td>no_state</td>\n",
       "      <td>Washington D.C.</td>\n",
       "      <td>no_specific_location</td>\n",
       "      <td>2015-10-01</td>\n",
       "      <td>-0.250</td>\n",
       "      <td>0.061</td>\n",
       "      <td>-0.998</td>\n",
       "      <td>0.435</td>\n",
       "    </tr>\n",
       "    <tr>\n",
       "      <th>4</th>\n",
       "      <td>White_House_Correspondent_Dinner_2013</td>\n",
       "      <td>6</td>\n",
       "      <td>Washington Hilton Hotel, Washington D.C.</td>\n",
       "      <td>0</td>\n",
       "      <td>USA</td>\n",
       "      <td>no_state</td>\n",
       "      <td>Washington D.C.</td>\n",
       "      <td>Washington Hilton Hotel</td>\n",
       "      <td>2013-04-27</td>\n",
       "      <td>-0.012</td>\n",
       "      <td>0.145</td>\n",
       "      <td>1.000</td>\n",
       "      <td>0.501</td>\n",
       "    </tr>\n",
       "  </tbody>\n",
       "</table>\n",
       "</div>"
      ],
      "text/plain": [
       "                                   title  pages  \\\n",
       "0                  Prayer_Breakfast_2016      7   \n",
       "1             Security_Team_Announcement      5   \n",
       "2                       Cairo_University     14   \n",
       "3     Umpqua_Community_College_Shootings      4   \n",
       "4  White_House_Correspondent_Dinner_2013      6   \n",
       "\n",
       "                                   location  highest_speaker_count country  \\\n",
       "0        Washington Hilton, Washington D.C.                      0     USA   \n",
       "1                         Chicago, Illinois                      0     USA   \n",
       "2                              Cairo, Egypt                      0   Egypt   \n",
       "3                           Washington D.C.                      0     USA   \n",
       "4  Washington Hilton Hotel, Washington D.C.                      0     USA   \n",
       "\n",
       "      state             city        specific_location        date  stanza  \\\n",
       "0  no_state  Washington D.C.        Washington Hilton  2016-02-04   0.099   \n",
       "1  Illinois          Chicago     no_specific_location  2008-12-01   0.140   \n",
       "2  no_state            Cairo     no_specific_location  2009-06-04  -0.150   \n",
       "3  no_state  Washington D.C.     no_specific_location  2015-10-01  -0.250   \n",
       "4  no_state  Washington D.C.  Washington Hilton Hotel  2013-04-27  -0.012   \n",
       "\n",
       "   textblob  vader  subjectivity  \n",
       "0     0.178  1.000         0.542  \n",
       "1     0.162  0.998         0.403  \n",
       "2     0.110  1.000         0.457  \n",
       "3     0.061 -0.998         0.435  \n",
       "4     0.145  1.000         0.501  "
      ]
     },
     "execution_count": 5,
     "metadata": {},
     "output_type": "execute_result"
    }
   ],
   "source": [
    "# Merge the previous tables\n",
    "df_cb = pd.merge(df_temp, df_sen, how='inner', on = 'title')\n",
    "df_cb.head()"
   ]
  },
  {
   "cell_type": "markdown",
   "id": "85fab8ff-3609-4c2e-82ab-3f26df5f7906",
   "metadata": {},
   "source": [
    "# Get Coordinates of the City Names"
   ]
  },
  {
   "cell_type": "code",
   "execution_count": 6,
   "id": "58b89428-118b-4105-8ed1-361da2efcb16",
   "metadata": {},
   "outputs": [
    {
     "data": {
      "text/html": [
       "<div>\n",
       "<style scoped>\n",
       "    .dataframe tbody tr th:only-of-type {\n",
       "        vertical-align: middle;\n",
       "    }\n",
       "\n",
       "    .dataframe tbody tr th {\n",
       "        vertical-align: top;\n",
       "    }\n",
       "\n",
       "    .dataframe thead th {\n",
       "        text-align: right;\n",
       "    }\n",
       "</style>\n",
       "<table border=\"1\" class=\"dataframe\">\n",
       "  <thead>\n",
       "    <tr style=\"text-align: right;\">\n",
       "      <th></th>\n",
       "      <th>title</th>\n",
       "      <th>pages</th>\n",
       "      <th>location</th>\n",
       "      <th>highest_speaker_count</th>\n",
       "      <th>country</th>\n",
       "      <th>state</th>\n",
       "      <th>city</th>\n",
       "      <th>specific_location</th>\n",
       "      <th>date</th>\n",
       "      <th>stanza</th>\n",
       "      <th>textblob</th>\n",
       "      <th>vader</th>\n",
       "      <th>subjectivity</th>\n",
       "      <th>geo_location</th>\n",
       "      <th>point</th>\n",
       "    </tr>\n",
       "  </thead>\n",
       "  <tbody>\n",
       "    <tr>\n",
       "      <th>0</th>\n",
       "      <td>Prayer_Breakfast_2016</td>\n",
       "      <td>7</td>\n",
       "      <td>Washington Hilton, Washington D.C.</td>\n",
       "      <td>0</td>\n",
       "      <td>USA</td>\n",
       "      <td>no_state</td>\n",
       "      <td>Washington D.C.</td>\n",
       "      <td>Washington Hilton</td>\n",
       "      <td>2016-02-04</td>\n",
       "      <td>0.099</td>\n",
       "      <td>0.178</td>\n",
       "      <td>1.000</td>\n",
       "      <td>0.542</td>\n",
       "      <td>(Washington Hilton, 1919, Connecticut Avenue N...</td>\n",
       "      <td>(38.9165229, -77.0452084, 0.0)</td>\n",
       "    </tr>\n",
       "    <tr>\n",
       "      <th>1</th>\n",
       "      <td>Security_Team_Announcement</td>\n",
       "      <td>5</td>\n",
       "      <td>Chicago, Illinois</td>\n",
       "      <td>0</td>\n",
       "      <td>USA</td>\n",
       "      <td>Illinois</td>\n",
       "      <td>Chicago</td>\n",
       "      <td>no_specific_location</td>\n",
       "      <td>2008-12-01</td>\n",
       "      <td>0.140</td>\n",
       "      <td>0.162</td>\n",
       "      <td>0.998</td>\n",
       "      <td>0.403</td>\n",
       "      <td>(Chicago, Cook County, Illinois, United States...</td>\n",
       "      <td>(41.8755616, -87.6244212, 0.0)</td>\n",
       "    </tr>\n",
       "    <tr>\n",
       "      <th>2</th>\n",
       "      <td>Cairo_University</td>\n",
       "      <td>14</td>\n",
       "      <td>Cairo, Egypt</td>\n",
       "      <td>0</td>\n",
       "      <td>Egypt</td>\n",
       "      <td>no_state</td>\n",
       "      <td>Cairo</td>\n",
       "      <td>no_specific_location</td>\n",
       "      <td>2009-06-04</td>\n",
       "      <td>-0.150</td>\n",
       "      <td>0.110</td>\n",
       "      <td>1.000</td>\n",
       "      <td>0.457</td>\n",
       "      <td>(القاهرة, 11519, مصر, (30.0443879, 31.2357257))</td>\n",
       "      <td>(30.0443879, 31.2357257, 0.0)</td>\n",
       "    </tr>\n",
       "    <tr>\n",
       "      <th>3</th>\n",
       "      <td>Umpqua_Community_College_Shootings</td>\n",
       "      <td>4</td>\n",
       "      <td>Washington D.C.</td>\n",
       "      <td>0</td>\n",
       "      <td>USA</td>\n",
       "      <td>no_state</td>\n",
       "      <td>Washington D.C.</td>\n",
       "      <td>no_specific_location</td>\n",
       "      <td>2015-10-01</td>\n",
       "      <td>-0.250</td>\n",
       "      <td>0.061</td>\n",
       "      <td>-0.998</td>\n",
       "      <td>0.435</td>\n",
       "      <td>(Washington, District of Columbia, United Stat...</td>\n",
       "      <td>(38.8950368, -77.0365427, 0.0)</td>\n",
       "    </tr>\n",
       "    <tr>\n",
       "      <th>4</th>\n",
       "      <td>White_House_Correspondent_Dinner_2013</td>\n",
       "      <td>6</td>\n",
       "      <td>Washington Hilton Hotel, Washington D.C.</td>\n",
       "      <td>0</td>\n",
       "      <td>USA</td>\n",
       "      <td>no_state</td>\n",
       "      <td>Washington D.C.</td>\n",
       "      <td>Washington Hilton Hotel</td>\n",
       "      <td>2013-04-27</td>\n",
       "      <td>-0.012</td>\n",
       "      <td>0.145</td>\n",
       "      <td>1.000</td>\n",
       "      <td>0.501</td>\n",
       "      <td>(Washington Hilton, 1919, Connecticut Avenue N...</td>\n",
       "      <td>(38.9165229, -77.0452084, 0.0)</td>\n",
       "    </tr>\n",
       "  </tbody>\n",
       "</table>\n",
       "</div>"
      ],
      "text/plain": [
       "                                   title  pages  \\\n",
       "0                  Prayer_Breakfast_2016      7   \n",
       "1             Security_Team_Announcement      5   \n",
       "2                       Cairo_University     14   \n",
       "3     Umpqua_Community_College_Shootings      4   \n",
       "4  White_House_Correspondent_Dinner_2013      6   \n",
       "\n",
       "                                   location  highest_speaker_count country  \\\n",
       "0        Washington Hilton, Washington D.C.                      0     USA   \n",
       "1                         Chicago, Illinois                      0     USA   \n",
       "2                              Cairo, Egypt                      0   Egypt   \n",
       "3                           Washington D.C.                      0     USA   \n",
       "4  Washington Hilton Hotel, Washington D.C.                      0     USA   \n",
       "\n",
       "      state             city        specific_location        date  stanza  \\\n",
       "0  no_state  Washington D.C.        Washington Hilton  2016-02-04   0.099   \n",
       "1  Illinois          Chicago     no_specific_location  2008-12-01   0.140   \n",
       "2  no_state            Cairo     no_specific_location  2009-06-04  -0.150   \n",
       "3  no_state  Washington D.C.     no_specific_location  2015-10-01  -0.250   \n",
       "4  no_state  Washington D.C.  Washington Hilton Hotel  2013-04-27  -0.012   \n",
       "\n",
       "   textblob  vader  subjectivity  \\\n",
       "0     0.178  1.000         0.542   \n",
       "1     0.162  0.998         0.403   \n",
       "2     0.110  1.000         0.457   \n",
       "3     0.061 -0.998         0.435   \n",
       "4     0.145  1.000         0.501   \n",
       "\n",
       "                                        geo_location  \\\n",
       "0  (Washington Hilton, 1919, Connecticut Avenue N...   \n",
       "1  (Chicago, Cook County, Illinois, United States...   \n",
       "2    (القاهرة, 11519, مصر, (30.0443879, 31.2357257))   \n",
       "3  (Washington, District of Columbia, United Stat...   \n",
       "4  (Washington Hilton, 1919, Connecticut Avenue N...   \n",
       "\n",
       "                            point  \n",
       "0  (38.9165229, -77.0452084, 0.0)  \n",
       "1  (41.8755616, -87.6244212, 0.0)  \n",
       "2   (30.0443879, 31.2357257, 0.0)  \n",
       "3  (38.8950368, -77.0365427, 0.0)  \n",
       "4  (38.9165229, -77.0452084, 0.0)  "
      ]
     },
     "execution_count": 6,
     "metadata": {},
     "output_type": "execute_result"
    }
   ],
   "source": [
    "from  geopy.geocoders import Nominatim\n",
    "geolocator = Nominatim(user_agent=\"seorin_kim\")\n",
    "\n",
    "from geopy.extra.rate_limiter import RateLimiter\n",
    "geocode = RateLimiter(geolocator.geocode, min_delay_seconds=1)\n",
    "\n",
    "df_cb['geo_location'] = df_cb['location'].apply(geocode)\n",
    "\n",
    "df_cb['point'] = df_cb['geo_location'].apply(lambda loc: tuple(loc.point) if loc else None)\n",
    "# Point = (latitude, longitude)\n",
    "\n",
    "df_cb.head()\n",
    "    "
   ]
  },
  {
   "cell_type": "code",
   "execution_count": 7,
   "id": "1a26c059-c7eb-4db5-90fe-cd3a3a8e88b7",
   "metadata": {},
   "outputs": [
    {
     "data": {
      "text/plain": [
       "dict_keys(['place_id', 'licence', 'osm_type', 'osm_id', 'boundingbox', 'lat', 'lon', 'display_name', 'class', 'type', 'importance', 'icon'])"
      ]
     },
     "execution_count": 7,
     "metadata": {},
     "output_type": "execute_result"
    }
   ],
   "source": [
    "df_cb['geo_location'][0].raw.keys()"
   ]
  },
  {
   "cell_type": "code",
   "execution_count": 8,
   "id": "b3b1f59e-70dd-4ca4-a668-29fbe4b80997",
   "metadata": {
    "scrolled": true,
    "tags": []
   },
   "outputs": [
    {
     "data": {
      "text/plain": [
       "title                     object\n",
       "pages                      int64\n",
       "location                  object\n",
       "highest_speaker_count      int64\n",
       "country                   object\n",
       "state                     object\n",
       "city                      object\n",
       "specific_location         object\n",
       "date                      object\n",
       "stanza                   float64\n",
       "textblob                 float64\n",
       "vader                    float64\n",
       "subjectivity             float64\n",
       "geo_location              object\n",
       "point                     object\n",
       "latitude                  object\n",
       "longitude                 object\n",
       "dtype: object"
      ]
     },
     "execution_count": 8,
     "metadata": {},
     "output_type": "execute_result"
    }
   ],
   "source": [
    "df_cb['latitude'] = df_cb['geo_location'].apply(lambda loc: loc.raw['lat'] if loc else None)\n",
    "df_cb['longitude'] = df_cb['geo_location'].apply(lambda loc: loc.raw['lon'] if loc else None)\n",
    "df_cb.dtypes"
   ]
  },
  {
   "cell_type": "code",
   "execution_count": 9,
   "id": "c6dbc5fd-11ca-4f3a-aa2e-772ace5a8e1f",
   "metadata": {
    "scrolled": true,
    "tags": []
   },
   "outputs": [
    {
     "data": {
      "text/plain": [
       "title                     object\n",
       "pages                      int64\n",
       "location                  object\n",
       "highest_speaker_count      int64\n",
       "country                   object\n",
       "state                     object\n",
       "city                      object\n",
       "specific_location         object\n",
       "date                      object\n",
       "stanza                   float64\n",
       "textblob                 float64\n",
       "vader                    float64\n",
       "subjectivity             float64\n",
       "geo_location              object\n",
       "point                     object\n",
       "latitude                 float64\n",
       "longitude                float64\n",
       "Coordinates               object\n",
       "dtype: object"
      ]
     },
     "execution_count": 9,
     "metadata": {},
     "output_type": "execute_result"
    }
   ],
   "source": [
    "df_cb['latitude'] = pd.to_numeric(df_cb['latitude'])\n",
    "df_cb['longitude'] = pd.to_numeric(df_cb['longitude'])\n",
    "df_cb[\"Coordinates\"] = list(zip(df_cb.longitude, df_cb.latitude))\n",
    "df_cb.dtypes"
   ]
  },
  {
   "cell_type": "code",
   "execution_count": 10,
   "id": "3cad47ec-3a1d-4675-9227-d3bbd5020920",
   "metadata": {},
   "outputs": [
    {
     "data": {
      "text/html": [
       "<div>\n",
       "<style scoped>\n",
       "    .dataframe tbody tr th:only-of-type {\n",
       "        vertical-align: middle;\n",
       "    }\n",
       "\n",
       "    .dataframe tbody tr th {\n",
       "        vertical-align: top;\n",
       "    }\n",
       "\n",
       "    .dataframe thead th {\n",
       "        text-align: right;\n",
       "    }\n",
       "</style>\n",
       "<table border=\"1\" class=\"dataframe\">\n",
       "  <thead>\n",
       "    <tr style=\"text-align: right;\">\n",
       "      <th></th>\n",
       "      <th>title</th>\n",
       "      <th>pages</th>\n",
       "      <th>location</th>\n",
       "      <th>highest_speaker_count</th>\n",
       "      <th>country</th>\n",
       "      <th>state</th>\n",
       "      <th>city</th>\n",
       "      <th>specific_location</th>\n",
       "      <th>date</th>\n",
       "      <th>stanza</th>\n",
       "      <th>textblob</th>\n",
       "      <th>vader</th>\n",
       "      <th>subjectivity</th>\n",
       "      <th>geo_location</th>\n",
       "      <th>point</th>\n",
       "      <th>latitude</th>\n",
       "      <th>longitude</th>\n",
       "      <th>Coordinates</th>\n",
       "      <th>geometry</th>\n",
       "    </tr>\n",
       "  </thead>\n",
       "  <tbody>\n",
       "    <tr>\n",
       "      <th>0</th>\n",
       "      <td>Prayer_Breakfast_2016</td>\n",
       "      <td>7</td>\n",
       "      <td>Washington Hilton, Washington D.C.</td>\n",
       "      <td>0</td>\n",
       "      <td>USA</td>\n",
       "      <td>no_state</td>\n",
       "      <td>Washington D.C.</td>\n",
       "      <td>Washington Hilton</td>\n",
       "      <td>2016-02-04</td>\n",
       "      <td>0.099</td>\n",
       "      <td>0.178</td>\n",
       "      <td>1.000</td>\n",
       "      <td>0.542</td>\n",
       "      <td>(Washington Hilton, 1919, Connecticut Avenue N...</td>\n",
       "      <td>(38.9165229, -77.0452084, 0.0)</td>\n",
       "      <td>38.916523</td>\n",
       "      <td>-77.045208</td>\n",
       "      <td>(-77.0452084, 38.9165229)</td>\n",
       "      <td>POINT (-77.0452084 38.9165229)</td>\n",
       "    </tr>\n",
       "    <tr>\n",
       "      <th>1</th>\n",
       "      <td>Security_Team_Announcement</td>\n",
       "      <td>5</td>\n",
       "      <td>Chicago, Illinois</td>\n",
       "      <td>0</td>\n",
       "      <td>USA</td>\n",
       "      <td>Illinois</td>\n",
       "      <td>Chicago</td>\n",
       "      <td>no_specific_location</td>\n",
       "      <td>2008-12-01</td>\n",
       "      <td>0.140</td>\n",
       "      <td>0.162</td>\n",
       "      <td>0.998</td>\n",
       "      <td>0.403</td>\n",
       "      <td>(Chicago, Cook County, Illinois, United States...</td>\n",
       "      <td>(41.8755616, -87.6244212, 0.0)</td>\n",
       "      <td>41.875562</td>\n",
       "      <td>-87.624421</td>\n",
       "      <td>(-87.6244212, 41.8755616)</td>\n",
       "      <td>POINT (-87.6244212 41.8755616)</td>\n",
       "    </tr>\n",
       "    <tr>\n",
       "      <th>2</th>\n",
       "      <td>Cairo_University</td>\n",
       "      <td>14</td>\n",
       "      <td>Cairo, Egypt</td>\n",
       "      <td>0</td>\n",
       "      <td>Egypt</td>\n",
       "      <td>no_state</td>\n",
       "      <td>Cairo</td>\n",
       "      <td>no_specific_location</td>\n",
       "      <td>2009-06-04</td>\n",
       "      <td>-0.150</td>\n",
       "      <td>0.110</td>\n",
       "      <td>1.000</td>\n",
       "      <td>0.457</td>\n",
       "      <td>(القاهرة, 11519, مصر, (30.0443879, 31.2357257))</td>\n",
       "      <td>(30.0443879, 31.2357257, 0.0)</td>\n",
       "      <td>30.044388</td>\n",
       "      <td>31.235726</td>\n",
       "      <td>(31.2357257, 30.0443879)</td>\n",
       "      <td>POINT (31.2357257 30.0443879)</td>\n",
       "    </tr>\n",
       "    <tr>\n",
       "      <th>3</th>\n",
       "      <td>Umpqua_Community_College_Shootings</td>\n",
       "      <td>4</td>\n",
       "      <td>Washington D.C.</td>\n",
       "      <td>0</td>\n",
       "      <td>USA</td>\n",
       "      <td>no_state</td>\n",
       "      <td>Washington D.C.</td>\n",
       "      <td>no_specific_location</td>\n",
       "      <td>2015-10-01</td>\n",
       "      <td>-0.250</td>\n",
       "      <td>0.061</td>\n",
       "      <td>-0.998</td>\n",
       "      <td>0.435</td>\n",
       "      <td>(Washington, District of Columbia, United Stat...</td>\n",
       "      <td>(38.8950368, -77.0365427, 0.0)</td>\n",
       "      <td>38.895037</td>\n",
       "      <td>-77.036543</td>\n",
       "      <td>(-77.0365427, 38.8950368)</td>\n",
       "      <td>POINT (-77.0365427 38.8950368)</td>\n",
       "    </tr>\n",
       "    <tr>\n",
       "      <th>4</th>\n",
       "      <td>White_House_Correspondent_Dinner_2013</td>\n",
       "      <td>6</td>\n",
       "      <td>Washington Hilton Hotel, Washington D.C.</td>\n",
       "      <td>0</td>\n",
       "      <td>USA</td>\n",
       "      <td>no_state</td>\n",
       "      <td>Washington D.C.</td>\n",
       "      <td>Washington Hilton Hotel</td>\n",
       "      <td>2013-04-27</td>\n",
       "      <td>-0.012</td>\n",
       "      <td>0.145</td>\n",
       "      <td>1.000</td>\n",
       "      <td>0.501</td>\n",
       "      <td>(Washington Hilton, 1919, Connecticut Avenue N...</td>\n",
       "      <td>(38.9165229, -77.0452084, 0.0)</td>\n",
       "      <td>38.916523</td>\n",
       "      <td>-77.045208</td>\n",
       "      <td>(-77.0452084, 38.9165229)</td>\n",
       "      <td>POINT (-77.0452084 38.9165229)</td>\n",
       "    </tr>\n",
       "  </tbody>\n",
       "</table>\n",
       "</div>"
      ],
      "text/plain": [
       "                                   title  pages  \\\n",
       "0                  Prayer_Breakfast_2016      7   \n",
       "1             Security_Team_Announcement      5   \n",
       "2                       Cairo_University     14   \n",
       "3     Umpqua_Community_College_Shootings      4   \n",
       "4  White_House_Correspondent_Dinner_2013      6   \n",
       "\n",
       "                                   location  highest_speaker_count country  \\\n",
       "0        Washington Hilton, Washington D.C.                      0     USA   \n",
       "1                         Chicago, Illinois                      0     USA   \n",
       "2                              Cairo, Egypt                      0   Egypt   \n",
       "3                           Washington D.C.                      0     USA   \n",
       "4  Washington Hilton Hotel, Washington D.C.                      0     USA   \n",
       "\n",
       "      state             city        specific_location        date  stanza  \\\n",
       "0  no_state  Washington D.C.        Washington Hilton  2016-02-04   0.099   \n",
       "1  Illinois          Chicago     no_specific_location  2008-12-01   0.140   \n",
       "2  no_state            Cairo     no_specific_location  2009-06-04  -0.150   \n",
       "3  no_state  Washington D.C.     no_specific_location  2015-10-01  -0.250   \n",
       "4  no_state  Washington D.C.  Washington Hilton Hotel  2013-04-27  -0.012   \n",
       "\n",
       "   textblob  vader  subjectivity  \\\n",
       "0     0.178  1.000         0.542   \n",
       "1     0.162  0.998         0.403   \n",
       "2     0.110  1.000         0.457   \n",
       "3     0.061 -0.998         0.435   \n",
       "4     0.145  1.000         0.501   \n",
       "\n",
       "                                        geo_location  \\\n",
       "0  (Washington Hilton, 1919, Connecticut Avenue N...   \n",
       "1  (Chicago, Cook County, Illinois, United States...   \n",
       "2    (القاهرة, 11519, مصر, (30.0443879, 31.2357257))   \n",
       "3  (Washington, District of Columbia, United Stat...   \n",
       "4  (Washington Hilton, 1919, Connecticut Avenue N...   \n",
       "\n",
       "                            point   latitude  longitude  \\\n",
       "0  (38.9165229, -77.0452084, 0.0)  38.916523 -77.045208   \n",
       "1  (41.8755616, -87.6244212, 0.0)  41.875562 -87.624421   \n",
       "2   (30.0443879, 31.2357257, 0.0)  30.044388  31.235726   \n",
       "3  (38.8950368, -77.0365427, 0.0)  38.895037 -77.036543   \n",
       "4  (38.9165229, -77.0452084, 0.0)  38.916523 -77.045208   \n",
       "\n",
       "                 Coordinates                        geometry  \n",
       "0  (-77.0452084, 38.9165229)  POINT (-77.0452084 38.9165229)  \n",
       "1  (-87.6244212, 41.8755616)  POINT (-87.6244212 41.8755616)  \n",
       "2   (31.2357257, 30.0443879)   POINT (31.2357257 30.0443879)  \n",
       "3  (-77.0365427, 38.8950368)  POINT (-77.0365427 38.8950368)  \n",
       "4  (-77.0452084, 38.9165229)  POINT (-77.0452084 38.9165229)  "
      ]
     },
     "execution_count": 10,
     "metadata": {},
     "output_type": "execute_result"
    }
   ],
   "source": [
    "from shapely.geometry import Point\n",
    "df_cb[\"geometry\"] = df_cb[\"Coordinates\"].apply(Point)\n",
    "df_cb.head()"
   ]
  },
  {
   "cell_type": "code",
   "execution_count": 11,
   "id": "f49304d8-584f-4894-8cc2-19bca84652ad",
   "metadata": {},
   "outputs": [
    {
     "data": {
      "text/plain": [
       "0      United States of America\n",
       "1      United States of America\n",
       "2                         Egypt\n",
       "3      United States of America\n",
       "4      United States of America\n",
       "                 ...           \n",
       "341                      Israel\n",
       "342                    Malaysia\n",
       "343    United States of America\n",
       "344    United States of America\n",
       "345    United States of America\n",
       "Name: country, Length: 346, dtype: object"
      ]
     },
     "execution_count": 11,
     "metadata": {},
     "output_type": "execute_result"
    }
   ],
   "source": [
    "df_cb['country'] = df_cb['country'].replace(['USA'], 'United States of America')\n",
    "df_cb['country']"
   ]
  },
  {
   "cell_type": "code",
   "execution_count": 12,
   "id": "ab2b97e2-b592-4b66-abb3-15c62025ec7e",
   "metadata": {},
   "outputs": [
    {
     "data": {
      "text/html": [
       "<div>\n",
       "<style scoped>\n",
       "    .dataframe tbody tr th:only-of-type {\n",
       "        vertical-align: middle;\n",
       "    }\n",
       "\n",
       "    .dataframe tbody tr th {\n",
       "        vertical-align: top;\n",
       "    }\n",
       "\n",
       "    .dataframe thead th {\n",
       "        text-align: right;\n",
       "    }\n",
       "</style>\n",
       "<table border=\"1\" class=\"dataframe\">\n",
       "  <thead>\n",
       "    <tr style=\"text-align: right;\">\n",
       "      <th></th>\n",
       "      <th>pop_est</th>\n",
       "      <th>continent</th>\n",
       "      <th>name</th>\n",
       "      <th>gdp_md_est</th>\n",
       "      <th>geometry</th>\n",
       "    </tr>\n",
       "    <tr>\n",
       "      <th>iso_a3</th>\n",
       "      <th></th>\n",
       "      <th></th>\n",
       "      <th></th>\n",
       "      <th></th>\n",
       "      <th></th>\n",
       "    </tr>\n",
       "  </thead>\n",
       "  <tbody>\n",
       "    <tr>\n",
       "      <th>FJI</th>\n",
       "      <td>920938</td>\n",
       "      <td>Oceania</td>\n",
       "      <td>Fiji</td>\n",
       "      <td>8374.0</td>\n",
       "      <td>MULTIPOLYGON (((180.00000 -16.06713, 180.00000...</td>\n",
       "    </tr>\n",
       "    <tr>\n",
       "      <th>TZA</th>\n",
       "      <td>53950935</td>\n",
       "      <td>Africa</td>\n",
       "      <td>Tanzania</td>\n",
       "      <td>150600.0</td>\n",
       "      <td>POLYGON ((33.90371 -0.95000, 34.07262 -1.05982...</td>\n",
       "    </tr>\n",
       "    <tr>\n",
       "      <th>ESH</th>\n",
       "      <td>603253</td>\n",
       "      <td>Africa</td>\n",
       "      <td>W. Sahara</td>\n",
       "      <td>906.5</td>\n",
       "      <td>POLYGON ((-8.66559 27.65643, -8.66512 27.58948...</td>\n",
       "    </tr>\n",
       "    <tr>\n",
       "      <th>CAN</th>\n",
       "      <td>35623680</td>\n",
       "      <td>North America</td>\n",
       "      <td>Canada</td>\n",
       "      <td>1674000.0</td>\n",
       "      <td>MULTIPOLYGON (((-122.84000 49.00000, -122.9742...</td>\n",
       "    </tr>\n",
       "    <tr>\n",
       "      <th>USA</th>\n",
       "      <td>326625791</td>\n",
       "      <td>North America</td>\n",
       "      <td>United States of America</td>\n",
       "      <td>18560000.0</td>\n",
       "      <td>MULTIPOLYGON (((-122.84000 49.00000, -120.0000...</td>\n",
       "    </tr>\n",
       "  </tbody>\n",
       "</table>\n",
       "</div>"
      ],
      "text/plain": [
       "          pop_est      continent                      name  gdp_md_est  \\\n",
       "iso_a3                                                                   \n",
       "FJI        920938        Oceania                      Fiji      8374.0   \n",
       "TZA      53950935         Africa                  Tanzania    150600.0   \n",
       "ESH        603253         Africa                 W. Sahara       906.5   \n",
       "CAN      35623680  North America                    Canada   1674000.0   \n",
       "USA     326625791  North America  United States of America  18560000.0   \n",
       "\n",
       "                                                 geometry  \n",
       "iso_a3                                                     \n",
       "FJI     MULTIPOLYGON (((180.00000 -16.06713, 180.00000...  \n",
       "TZA     POLYGON ((33.90371 -0.95000, 34.07262 -1.05982...  \n",
       "ESH     POLYGON ((-8.66559 27.65643, -8.66512 27.58948...  \n",
       "CAN     MULTIPOLYGON (((-122.84000 49.00000, -122.9742...  \n",
       "USA     MULTIPOLYGON (((-122.84000 49.00000, -120.0000...  "
      ]
     },
     "execution_count": 12,
     "metadata": {},
     "output_type": "execute_result"
    }
   ],
   "source": [
    "# Grab low resolution world file\n",
    "world = gpd.read_file(gpd.datasets.get_path(\"naturalearth_lowres\"))\n",
    "world = world.set_index(\"iso_a3\")\n",
    "\n",
    "world.head()"
   ]
  },
  {
   "cell_type": "code",
   "execution_count": 13,
   "id": "1d82a032-c7ec-40a4-a16e-fd94a3e63d5f",
   "metadata": {
    "scrolled": true,
    "tags": []
   },
   "outputs": [
    {
     "data": {
      "text/html": [
       "<div>\n",
       "<style scoped>\n",
       "    .dataframe tbody tr th:only-of-type {\n",
       "        vertical-align: middle;\n",
       "    }\n",
       "\n",
       "    .dataframe tbody tr th {\n",
       "        vertical-align: top;\n",
       "    }\n",
       "\n",
       "    .dataframe thead th {\n",
       "        text-align: right;\n",
       "    }\n",
       "</style>\n",
       "<table border=\"1\" class=\"dataframe\">\n",
       "  <thead>\n",
       "    <tr style=\"text-align: right;\">\n",
       "      <th></th>\n",
       "      <th>title</th>\n",
       "      <th>pages</th>\n",
       "      <th>location</th>\n",
       "      <th>highest_speaker_count</th>\n",
       "      <th>country</th>\n",
       "      <th>state</th>\n",
       "      <th>city</th>\n",
       "      <th>specific_location</th>\n",
       "      <th>date</th>\n",
       "      <th>stanza</th>\n",
       "      <th>...</th>\n",
       "      <th>geo_location</th>\n",
       "      <th>point</th>\n",
       "      <th>latitude</th>\n",
       "      <th>longitude</th>\n",
       "      <th>Coordinates</th>\n",
       "      <th>pop_est</th>\n",
       "      <th>continent</th>\n",
       "      <th>name</th>\n",
       "      <th>gdp_md_est</th>\n",
       "      <th>geometry</th>\n",
       "    </tr>\n",
       "  </thead>\n",
       "  <tbody>\n",
       "    <tr>\n",
       "      <th>0</th>\n",
       "      <td>Prayer_Breakfast_2016</td>\n",
       "      <td>7</td>\n",
       "      <td>Washington Hilton, Washington D.C.</td>\n",
       "      <td>0</td>\n",
       "      <td>United States of America</td>\n",
       "      <td>no_state</td>\n",
       "      <td>Washington D.C.</td>\n",
       "      <td>Washington Hilton</td>\n",
       "      <td>2016-02-04</td>\n",
       "      <td>0.099</td>\n",
       "      <td>...</td>\n",
       "      <td>(Washington Hilton, 1919, Connecticut Avenue N...</td>\n",
       "      <td>(38.9165229, -77.0452084, 0.0)</td>\n",
       "      <td>38.916523</td>\n",
       "      <td>-77.045208</td>\n",
       "      <td>(-77.0452084, 38.9165229)</td>\n",
       "      <td>326625791</td>\n",
       "      <td>North America</td>\n",
       "      <td>United States of America</td>\n",
       "      <td>18560000.0</td>\n",
       "      <td>MULTIPOLYGON (((-122.84000 49.00000, -120.0000...</td>\n",
       "    </tr>\n",
       "    <tr>\n",
       "      <th>1</th>\n",
       "      <td>Security_Team_Announcement</td>\n",
       "      <td>5</td>\n",
       "      <td>Chicago, Illinois</td>\n",
       "      <td>0</td>\n",
       "      <td>United States of America</td>\n",
       "      <td>Illinois</td>\n",
       "      <td>Chicago</td>\n",
       "      <td>no_specific_location</td>\n",
       "      <td>2008-12-01</td>\n",
       "      <td>0.140</td>\n",
       "      <td>...</td>\n",
       "      <td>(Chicago, Cook County, Illinois, United States...</td>\n",
       "      <td>(41.8755616, -87.6244212, 0.0)</td>\n",
       "      <td>41.875562</td>\n",
       "      <td>-87.624421</td>\n",
       "      <td>(-87.6244212, 41.8755616)</td>\n",
       "      <td>326625791</td>\n",
       "      <td>North America</td>\n",
       "      <td>United States of America</td>\n",
       "      <td>18560000.0</td>\n",
       "      <td>MULTIPOLYGON (((-122.84000 49.00000, -120.0000...</td>\n",
       "    </tr>\n",
       "    <tr>\n",
       "      <th>2</th>\n",
       "      <td>Umpqua_Community_College_Shootings</td>\n",
       "      <td>4</td>\n",
       "      <td>Washington D.C.</td>\n",
       "      <td>0</td>\n",
       "      <td>United States of America</td>\n",
       "      <td>no_state</td>\n",
       "      <td>Washington D.C.</td>\n",
       "      <td>no_specific_location</td>\n",
       "      <td>2015-10-01</td>\n",
       "      <td>-0.250</td>\n",
       "      <td>...</td>\n",
       "      <td>(Washington, District of Columbia, United Stat...</td>\n",
       "      <td>(38.8950368, -77.0365427, 0.0)</td>\n",
       "      <td>38.895037</td>\n",
       "      <td>-77.036543</td>\n",
       "      <td>(-77.0365427, 38.8950368)</td>\n",
       "      <td>326625791</td>\n",
       "      <td>North America</td>\n",
       "      <td>United States of America</td>\n",
       "      <td>18560000.0</td>\n",
       "      <td>MULTIPOLYGON (((-122.84000 49.00000, -120.0000...</td>\n",
       "    </tr>\n",
       "    <tr>\n",
       "      <th>3</th>\n",
       "      <td>White_House_Correspondent_Dinner_2013</td>\n",
       "      <td>6</td>\n",
       "      <td>Washington Hilton Hotel, Washington D.C.</td>\n",
       "      <td>0</td>\n",
       "      <td>United States of America</td>\n",
       "      <td>no_state</td>\n",
       "      <td>Washington D.C.</td>\n",
       "      <td>Washington Hilton Hotel</td>\n",
       "      <td>2013-04-27</td>\n",
       "      <td>-0.012</td>\n",
       "      <td>...</td>\n",
       "      <td>(Washington Hilton, 1919, Connecticut Avenue N...</td>\n",
       "      <td>(38.9165229, -77.0452084, 0.0)</td>\n",
       "      <td>38.916523</td>\n",
       "      <td>-77.045208</td>\n",
       "      <td>(-77.0452084, 38.9165229)</td>\n",
       "      <td>326625791</td>\n",
       "      <td>North America</td>\n",
       "      <td>United States of America</td>\n",
       "      <td>18560000.0</td>\n",
       "      <td>MULTIPOLYGON (((-122.84000 49.00000, -120.0000...</td>\n",
       "    </tr>\n",
       "    <tr>\n",
       "      <th>4</th>\n",
       "      <td>Border_Security_and_Immigration_Reform</td>\n",
       "      <td>5</td>\n",
       "      <td>unknown_location</td>\n",
       "      <td>0</td>\n",
       "      <td>United States of America</td>\n",
       "      <td>no_state</td>\n",
       "      <td>Washington D.C.</td>\n",
       "      <td>White House</td>\n",
       "      <td>2014-06-30</td>\n",
       "      <td>-0.177</td>\n",
       "      <td>...</td>\n",
       "      <td>(unknown, Gachoire Kiawambe, Nyanduma Sub  Loc...</td>\n",
       "      <td>(-0.9999454, 36.7416612, 0.0)</td>\n",
       "      <td>-0.999945</td>\n",
       "      <td>36.741661</td>\n",
       "      <td>(36.7416612, -0.9999454)</td>\n",
       "      <td>326625791</td>\n",
       "      <td>North America</td>\n",
       "      <td>United States of America</td>\n",
       "      <td>18560000.0</td>\n",
       "      <td>MULTIPOLYGON (((-122.84000 49.00000, -120.0000...</td>\n",
       "    </tr>\n",
       "  </tbody>\n",
       "</table>\n",
       "<p>5 rows × 23 columns</p>\n",
       "</div>"
      ],
      "text/plain": [
       "                                    title  pages  \\\n",
       "0                   Prayer_Breakfast_2016      7   \n",
       "1              Security_Team_Announcement      5   \n",
       "2      Umpqua_Community_College_Shootings      4   \n",
       "3   White_House_Correspondent_Dinner_2013      6   \n",
       "4  Border_Security_and_Immigration_Reform      5   \n",
       "\n",
       "                                   location  highest_speaker_count  \\\n",
       "0        Washington Hilton, Washington D.C.                      0   \n",
       "1                         Chicago, Illinois                      0   \n",
       "2                           Washington D.C.                      0   \n",
       "3  Washington Hilton Hotel, Washington D.C.                      0   \n",
       "4                          unknown_location                      0   \n",
       "\n",
       "                    country     state             city  \\\n",
       "0  United States of America  no_state  Washington D.C.   \n",
       "1  United States of America  Illinois          Chicago   \n",
       "2  United States of America  no_state  Washington D.C.   \n",
       "3  United States of America  no_state  Washington D.C.   \n",
       "4  United States of America  no_state  Washington D.C.   \n",
       "\n",
       "         specific_location        date  stanza  ...  \\\n",
       "0        Washington Hilton  2016-02-04   0.099  ...   \n",
       "1     no_specific_location  2008-12-01   0.140  ...   \n",
       "2     no_specific_location  2015-10-01  -0.250  ...   \n",
       "3  Washington Hilton Hotel  2013-04-27  -0.012  ...   \n",
       "4              White House  2014-06-30  -0.177  ...   \n",
       "\n",
       "                                        geo_location  \\\n",
       "0  (Washington Hilton, 1919, Connecticut Avenue N...   \n",
       "1  (Chicago, Cook County, Illinois, United States...   \n",
       "2  (Washington, District of Columbia, United Stat...   \n",
       "3  (Washington Hilton, 1919, Connecticut Avenue N...   \n",
       "4  (unknown, Gachoire Kiawambe, Nyanduma Sub  Loc...   \n",
       "\n",
       "                            point   latitude  longitude  \\\n",
       "0  (38.9165229, -77.0452084, 0.0)  38.916523 -77.045208   \n",
       "1  (41.8755616, -87.6244212, 0.0)  41.875562 -87.624421   \n",
       "2  (38.8950368, -77.0365427, 0.0)  38.895037 -77.036543   \n",
       "3  (38.9165229, -77.0452084, 0.0)  38.916523 -77.045208   \n",
       "4   (-0.9999454, 36.7416612, 0.0)  -0.999945  36.741661   \n",
       "\n",
       "                 Coordinates    pop_est      continent  \\\n",
       "0  (-77.0452084, 38.9165229)  326625791  North America   \n",
       "1  (-87.6244212, 41.8755616)  326625791  North America   \n",
       "2  (-77.0365427, 38.8950368)  326625791  North America   \n",
       "3  (-77.0452084, 38.9165229)  326625791  North America   \n",
       "4   (36.7416612, -0.9999454)  326625791  North America   \n",
       "\n",
       "                       name  gdp_md_est  \\\n",
       "0  United States of America  18560000.0   \n",
       "1  United States of America  18560000.0   \n",
       "2  United States of America  18560000.0   \n",
       "3  United States of America  18560000.0   \n",
       "4  United States of America  18560000.0   \n",
       "\n",
       "                                            geometry  \n",
       "0  MULTIPOLYGON (((-122.84000 49.00000, -120.0000...  \n",
       "1  MULTIPOLYGON (((-122.84000 49.00000, -120.0000...  \n",
       "2  MULTIPOLYGON (((-122.84000 49.00000, -120.0000...  \n",
       "3  MULTIPOLYGON (((-122.84000 49.00000, -120.0000...  \n",
       "4  MULTIPOLYGON (((-122.84000 49.00000, -120.0000...  \n",
       "\n",
       "[5 rows x 23 columns]"
      ]
     },
     "execution_count": 13,
     "metadata": {},
     "output_type": "execute_result"
    }
   ],
   "source": [
    "# To see Per Country\n",
    "df_w_wrld = df_cb.merge(world, left_on = 'country', right_on='name', how='inner')\n",
    "df_w_wrld = df_w_wrld.drop(columns = 'geometry_x')\n",
    "df_w_wrld.rename(columns = {'geometry_y' : 'geometry'}, inplace = True)\n",
    "\n",
    "gdf_cntry = gpd.GeoDataFrame(df_w_wrld, crs=\"EPSG:4326\")\n",
    "gdf_cntry.head()"
   ]
  },
  {
   "cell_type": "code",
   "execution_count": 14,
   "id": "d79bd24c-20e1-4818-9892-37ebf5cddbe6",
   "metadata": {
    "scrolled": true,
    "tags": []
   },
   "outputs": [
    {
     "data": {
      "text/html": [
       "<div>\n",
       "<style scoped>\n",
       "    .dataframe tbody tr th:only-of-type {\n",
       "        vertical-align: middle;\n",
       "    }\n",
       "\n",
       "    .dataframe tbody tr th {\n",
       "        vertical-align: top;\n",
       "    }\n",
       "\n",
       "    .dataframe thead th {\n",
       "        text-align: right;\n",
       "    }\n",
       "</style>\n",
       "<table border=\"1\" class=\"dataframe\">\n",
       "  <thead>\n",
       "    <tr style=\"text-align: right;\">\n",
       "      <th></th>\n",
       "      <th>title</th>\n",
       "      <th>pages</th>\n",
       "      <th>location</th>\n",
       "      <th>highest_speaker_count</th>\n",
       "      <th>country</th>\n",
       "      <th>state</th>\n",
       "      <th>city</th>\n",
       "      <th>specific_location</th>\n",
       "      <th>date</th>\n",
       "      <th>stanza</th>\n",
       "      <th>textblob</th>\n",
       "      <th>vader</th>\n",
       "      <th>subjectivity</th>\n",
       "      <th>geo_location</th>\n",
       "      <th>point</th>\n",
       "      <th>latitude</th>\n",
       "      <th>longitude</th>\n",
       "      <th>Coordinates</th>\n",
       "      <th>geometry</th>\n",
       "    </tr>\n",
       "  </thead>\n",
       "  <tbody>\n",
       "    <tr>\n",
       "      <th>0</th>\n",
       "      <td>Prayer_Breakfast_2016</td>\n",
       "      <td>7</td>\n",
       "      <td>Washington Hilton, Washington D.C.</td>\n",
       "      <td>0</td>\n",
       "      <td>United States of America</td>\n",
       "      <td>no_state</td>\n",
       "      <td>Washington D.C.</td>\n",
       "      <td>Washington Hilton</td>\n",
       "      <td>2016-02-04</td>\n",
       "      <td>0.099</td>\n",
       "      <td>0.178</td>\n",
       "      <td>1.000</td>\n",
       "      <td>0.542</td>\n",
       "      <td>(Washington Hilton, 1919, Connecticut Avenue N...</td>\n",
       "      <td>(38.9165229, -77.0452084, 0.0)</td>\n",
       "      <td>38.916523</td>\n",
       "      <td>-77.045208</td>\n",
       "      <td>(-77.0452084, 38.9165229)</td>\n",
       "      <td>POINT (-77.04521 38.91652)</td>\n",
       "    </tr>\n",
       "    <tr>\n",
       "      <th>1</th>\n",
       "      <td>Security_Team_Announcement</td>\n",
       "      <td>5</td>\n",
       "      <td>Chicago, Illinois</td>\n",
       "      <td>0</td>\n",
       "      <td>United States of America</td>\n",
       "      <td>Illinois</td>\n",
       "      <td>Chicago</td>\n",
       "      <td>no_specific_location</td>\n",
       "      <td>2008-12-01</td>\n",
       "      <td>0.140</td>\n",
       "      <td>0.162</td>\n",
       "      <td>0.998</td>\n",
       "      <td>0.403</td>\n",
       "      <td>(Chicago, Cook County, Illinois, United States...</td>\n",
       "      <td>(41.8755616, -87.6244212, 0.0)</td>\n",
       "      <td>41.875562</td>\n",
       "      <td>-87.624421</td>\n",
       "      <td>(-87.6244212, 41.8755616)</td>\n",
       "      <td>POINT (-87.62442 41.87556)</td>\n",
       "    </tr>\n",
       "    <tr>\n",
       "      <th>2</th>\n",
       "      <td>Cairo_University</td>\n",
       "      <td>14</td>\n",
       "      <td>Cairo, Egypt</td>\n",
       "      <td>0</td>\n",
       "      <td>Egypt</td>\n",
       "      <td>no_state</td>\n",
       "      <td>Cairo</td>\n",
       "      <td>no_specific_location</td>\n",
       "      <td>2009-06-04</td>\n",
       "      <td>-0.150</td>\n",
       "      <td>0.110</td>\n",
       "      <td>1.000</td>\n",
       "      <td>0.457</td>\n",
       "      <td>(القاهرة, 11519, مصر, (30.0443879, 31.2357257))</td>\n",
       "      <td>(30.0443879, 31.2357257, 0.0)</td>\n",
       "      <td>30.044388</td>\n",
       "      <td>31.235726</td>\n",
       "      <td>(31.2357257, 30.0443879)</td>\n",
       "      <td>POINT (31.23573 30.04439)</td>\n",
       "    </tr>\n",
       "    <tr>\n",
       "      <th>3</th>\n",
       "      <td>Umpqua_Community_College_Shootings</td>\n",
       "      <td>4</td>\n",
       "      <td>Washington D.C.</td>\n",
       "      <td>0</td>\n",
       "      <td>United States of America</td>\n",
       "      <td>no_state</td>\n",
       "      <td>Washington D.C.</td>\n",
       "      <td>no_specific_location</td>\n",
       "      <td>2015-10-01</td>\n",
       "      <td>-0.250</td>\n",
       "      <td>0.061</td>\n",
       "      <td>-0.998</td>\n",
       "      <td>0.435</td>\n",
       "      <td>(Washington, District of Columbia, United Stat...</td>\n",
       "      <td>(38.8950368, -77.0365427, 0.0)</td>\n",
       "      <td>38.895037</td>\n",
       "      <td>-77.036543</td>\n",
       "      <td>(-77.0365427, 38.8950368)</td>\n",
       "      <td>POINT (-77.03654 38.89504)</td>\n",
       "    </tr>\n",
       "    <tr>\n",
       "      <th>4</th>\n",
       "      <td>White_House_Correspondent_Dinner_2013</td>\n",
       "      <td>6</td>\n",
       "      <td>Washington Hilton Hotel, Washington D.C.</td>\n",
       "      <td>0</td>\n",
       "      <td>United States of America</td>\n",
       "      <td>no_state</td>\n",
       "      <td>Washington D.C.</td>\n",
       "      <td>Washington Hilton Hotel</td>\n",
       "      <td>2013-04-27</td>\n",
       "      <td>-0.012</td>\n",
       "      <td>0.145</td>\n",
       "      <td>1.000</td>\n",
       "      <td>0.501</td>\n",
       "      <td>(Washington Hilton, 1919, Connecticut Avenue N...</td>\n",
       "      <td>(38.9165229, -77.0452084, 0.0)</td>\n",
       "      <td>38.916523</td>\n",
       "      <td>-77.045208</td>\n",
       "      <td>(-77.0452084, 38.9165229)</td>\n",
       "      <td>POINT (-77.04521 38.91652)</td>\n",
       "    </tr>\n",
       "    <tr>\n",
       "      <th>...</th>\n",
       "      <td>...</td>\n",
       "      <td>...</td>\n",
       "      <td>...</td>\n",
       "      <td>...</td>\n",
       "      <td>...</td>\n",
       "      <td>...</td>\n",
       "      <td>...</td>\n",
       "      <td>...</td>\n",
       "      <td>...</td>\n",
       "      <td>...</td>\n",
       "      <td>...</td>\n",
       "      <td>...</td>\n",
       "      <td>...</td>\n",
       "      <td>...</td>\n",
       "      <td>...</td>\n",
       "      <td>...</td>\n",
       "      <td>...</td>\n",
       "      <td>...</td>\n",
       "      <td>...</td>\n",
       "    </tr>\n",
       "    <tr>\n",
       "      <th>341</th>\n",
       "      <td>Shimon_Peres_Memorial</td>\n",
       "      <td>6</td>\n",
       "      <td>Mount Herzl, Jerusalem, Israel</td>\n",
       "      <td>0</td>\n",
       "      <td>Israel</td>\n",
       "      <td>no_state</td>\n",
       "      <td>Jerusalem</td>\n",
       "      <td>Mount Herzl</td>\n",
       "      <td>2016-09-30</td>\n",
       "      <td>-0.083</td>\n",
       "      <td>0.164</td>\n",
       "      <td>1.000</td>\n",
       "      <td>0.436</td>\n",
       "      <td>(הר הרצל, הזיכרון, יפה נוף, ירושלים, נפת ירושל...</td>\n",
       "      <td>(31.772361150000002, 35.181634190650314, 0.0)</td>\n",
       "      <td>31.772361</td>\n",
       "      <td>35.181634</td>\n",
       "      <td>(35.181634190650314, 31.77236115)</td>\n",
       "      <td>POINT (35.18163 31.77236)</td>\n",
       "    </tr>\n",
       "    <tr>\n",
       "      <th>342</th>\n",
       "      <td>ASEAN_Business_2015</td>\n",
       "      <td>9</td>\n",
       "      <td>Shangri-La Hotel, Kuala Lumpur, Malaysia</td>\n",
       "      <td>0</td>\n",
       "      <td>Malaysia</td>\n",
       "      <td>no_state</td>\n",
       "      <td>Kuala Lumpur</td>\n",
       "      <td>Shangri-La Hotel</td>\n",
       "      <td>2015-11-21</td>\n",
       "      <td>-0.050</td>\n",
       "      <td>0.164</td>\n",
       "      <td>1.000</td>\n",
       "      <td>0.399</td>\n",
       "      <td>(Shangri-La Hotel, 11, Jalan Sultan Ismail, Bu...</td>\n",
       "      <td>(3.1541698, 101.7064587, 0.0)</td>\n",
       "      <td>3.154170</td>\n",
       "      <td>101.706459</td>\n",
       "      <td>(101.7064587, 3.1541698)</td>\n",
       "      <td>POINT (101.70646 3.15417)</td>\n",
       "    </tr>\n",
       "    <tr>\n",
       "      <th>343</th>\n",
       "      <td>Finance_Crisis_Fee</td>\n",
       "      <td>3</td>\n",
       "      <td>unknown_location</td>\n",
       "      <td>0</td>\n",
       "      <td>United States of America</td>\n",
       "      <td>no_state</td>\n",
       "      <td>Washington D.C.</td>\n",
       "      <td>White House</td>\n",
       "      <td>2010-01-14</td>\n",
       "      <td>-0.412</td>\n",
       "      <td>0.080</td>\n",
       "      <td>0.987</td>\n",
       "      <td>0.436</td>\n",
       "      <td>(unknown, Gachoire Kiawambe, Nyanduma Sub  Loc...</td>\n",
       "      <td>(-0.9999454, 36.7416612, 0.0)</td>\n",
       "      <td>-0.999945</td>\n",
       "      <td>36.741661</td>\n",
       "      <td>(36.7416612, -0.9999454)</td>\n",
       "      <td>POINT (36.74166 -0.99995)</td>\n",
       "    </tr>\n",
       "    <tr>\n",
       "      <th>344</th>\n",
       "      <td>Oval_Office_Counter_Terrorism_Agenda</td>\n",
       "      <td>5</td>\n",
       "      <td>White House, Washington D.C.</td>\n",
       "      <td>0</td>\n",
       "      <td>United States of America</td>\n",
       "      <td>no_state</td>\n",
       "      <td>Washington D.C.</td>\n",
       "      <td>White House</td>\n",
       "      <td>2015-12-06</td>\n",
       "      <td>-0.134</td>\n",
       "      <td>0.076</td>\n",
       "      <td>-1.000</td>\n",
       "      <td>0.398</td>\n",
       "      <td>(White House, 1600, Pennsylvania Avenue Northw...</td>\n",
       "      <td>(38.897699700000004, -77.03655315, 0.0)</td>\n",
       "      <td>38.897700</td>\n",
       "      <td>-77.036553</td>\n",
       "      <td>(-77.03655315, 38.8976997)</td>\n",
       "      <td>POINT (-77.03655 38.89770)</td>\n",
       "    </tr>\n",
       "    <tr>\n",
       "      <th>345</th>\n",
       "      <td>Michigan_University_Commencement</td>\n",
       "      <td>8</td>\n",
       "      <td>unknown_location</td>\n",
       "      <td>0</td>\n",
       "      <td>United States of America</td>\n",
       "      <td>New York</td>\n",
       "      <td>New York</td>\n",
       "      <td>Clinton Global Initiative on Human Trafficking</td>\n",
       "      <td>2010-05-01</td>\n",
       "      <td>-0.152</td>\n",
       "      <td>0.121</td>\n",
       "      <td>1.000</td>\n",
       "      <td>0.496</td>\n",
       "      <td>(unknown, Gachoire Kiawambe, Nyanduma Sub  Loc...</td>\n",
       "      <td>(-0.9999454, 36.7416612, 0.0)</td>\n",
       "      <td>-0.999945</td>\n",
       "      <td>36.741661</td>\n",
       "      <td>(36.7416612, -0.9999454)</td>\n",
       "      <td>POINT (36.74166 -0.99995)</td>\n",
       "    </tr>\n",
       "  </tbody>\n",
       "</table>\n",
       "<p>346 rows × 19 columns</p>\n",
       "</div>"
      ],
      "text/plain": [
       "                                     title  pages  \\\n",
       "0                    Prayer_Breakfast_2016      7   \n",
       "1               Security_Team_Announcement      5   \n",
       "2                         Cairo_University     14   \n",
       "3       Umpqua_Community_College_Shootings      4   \n",
       "4    White_House_Correspondent_Dinner_2013      6   \n",
       "..                                     ...    ...   \n",
       "341                  Shimon_Peres_Memorial      6   \n",
       "342                    ASEAN_Business_2015      9   \n",
       "343                     Finance_Crisis_Fee      3   \n",
       "344   Oval_Office_Counter_Terrorism_Agenda      5   \n",
       "345       Michigan_University_Commencement      8   \n",
       "\n",
       "                                     location  highest_speaker_count  \\\n",
       "0          Washington Hilton, Washington D.C.                      0   \n",
       "1                           Chicago, Illinois                      0   \n",
       "2                                Cairo, Egypt                      0   \n",
       "3                             Washington D.C.                      0   \n",
       "4    Washington Hilton Hotel, Washington D.C.                      0   \n",
       "..                                        ...                    ...   \n",
       "341            Mount Herzl, Jerusalem, Israel                      0   \n",
       "342  Shangri-La Hotel, Kuala Lumpur, Malaysia                      0   \n",
       "343                          unknown_location                      0   \n",
       "344              White House, Washington D.C.                      0   \n",
       "345                          unknown_location                      0   \n",
       "\n",
       "                      country     state             city  \\\n",
       "0    United States of America  no_state  Washington D.C.   \n",
       "1    United States of America  Illinois          Chicago   \n",
       "2                       Egypt  no_state            Cairo   \n",
       "3    United States of America  no_state  Washington D.C.   \n",
       "4    United States of America  no_state  Washington D.C.   \n",
       "..                        ...       ...              ...   \n",
       "341                    Israel  no_state        Jerusalem   \n",
       "342                  Malaysia  no_state     Kuala Lumpur   \n",
       "343  United States of America  no_state  Washington D.C.   \n",
       "344  United States of America  no_state  Washington D.C.   \n",
       "345  United States of America  New York         New York   \n",
       "\n",
       "                                  specific_location        date  stanza  \\\n",
       "0                                 Washington Hilton  2016-02-04   0.099   \n",
       "1                              no_specific_location  2008-12-01   0.140   \n",
       "2                              no_specific_location  2009-06-04  -0.150   \n",
       "3                              no_specific_location  2015-10-01  -0.250   \n",
       "4                           Washington Hilton Hotel  2013-04-27  -0.012   \n",
       "..                                              ...         ...     ...   \n",
       "341                                     Mount Herzl  2016-09-30  -0.083   \n",
       "342                                Shangri-La Hotel  2015-11-21  -0.050   \n",
       "343                                     White House  2010-01-14  -0.412   \n",
       "344                                     White House  2015-12-06  -0.134   \n",
       "345  Clinton Global Initiative on Human Trafficking  2010-05-01  -0.152   \n",
       "\n",
       "     textblob  vader  subjectivity  \\\n",
       "0       0.178  1.000         0.542   \n",
       "1       0.162  0.998         0.403   \n",
       "2       0.110  1.000         0.457   \n",
       "3       0.061 -0.998         0.435   \n",
       "4       0.145  1.000         0.501   \n",
       "..        ...    ...           ...   \n",
       "341     0.164  1.000         0.436   \n",
       "342     0.164  1.000         0.399   \n",
       "343     0.080  0.987         0.436   \n",
       "344     0.076 -1.000         0.398   \n",
       "345     0.121  1.000         0.496   \n",
       "\n",
       "                                          geo_location  \\\n",
       "0    (Washington Hilton, 1919, Connecticut Avenue N...   \n",
       "1    (Chicago, Cook County, Illinois, United States...   \n",
       "2      (القاهرة, 11519, مصر, (30.0443879, 31.2357257))   \n",
       "3    (Washington, District of Columbia, United Stat...   \n",
       "4    (Washington Hilton, 1919, Connecticut Avenue N...   \n",
       "..                                                 ...   \n",
       "341  (הר הרצל, הזיכרון, יפה נוף, ירושלים, נפת ירושל...   \n",
       "342  (Shangri-La Hotel, 11, Jalan Sultan Ismail, Bu...   \n",
       "343  (unknown, Gachoire Kiawambe, Nyanduma Sub  Loc...   \n",
       "344  (White House, 1600, Pennsylvania Avenue Northw...   \n",
       "345  (unknown, Gachoire Kiawambe, Nyanduma Sub  Loc...   \n",
       "\n",
       "                                             point   latitude   longitude  \\\n",
       "0                   (38.9165229, -77.0452084, 0.0)  38.916523  -77.045208   \n",
       "1                   (41.8755616, -87.6244212, 0.0)  41.875562  -87.624421   \n",
       "2                    (30.0443879, 31.2357257, 0.0)  30.044388   31.235726   \n",
       "3                   (38.8950368, -77.0365427, 0.0)  38.895037  -77.036543   \n",
       "4                   (38.9165229, -77.0452084, 0.0)  38.916523  -77.045208   \n",
       "..                                             ...        ...         ...   \n",
       "341  (31.772361150000002, 35.181634190650314, 0.0)  31.772361   35.181634   \n",
       "342                  (3.1541698, 101.7064587, 0.0)   3.154170  101.706459   \n",
       "343                  (-0.9999454, 36.7416612, 0.0)  -0.999945   36.741661   \n",
       "344        (38.897699700000004, -77.03655315, 0.0)  38.897700  -77.036553   \n",
       "345                  (-0.9999454, 36.7416612, 0.0)  -0.999945   36.741661   \n",
       "\n",
       "                           Coordinates                    geometry  \n",
       "0            (-77.0452084, 38.9165229)  POINT (-77.04521 38.91652)  \n",
       "1            (-87.6244212, 41.8755616)  POINT (-87.62442 41.87556)  \n",
       "2             (31.2357257, 30.0443879)   POINT (31.23573 30.04439)  \n",
       "3            (-77.0365427, 38.8950368)  POINT (-77.03654 38.89504)  \n",
       "4            (-77.0452084, 38.9165229)  POINT (-77.04521 38.91652)  \n",
       "..                                 ...                         ...  \n",
       "341  (35.181634190650314, 31.77236115)   POINT (35.18163 31.77236)  \n",
       "342           (101.7064587, 3.1541698)   POINT (101.70646 3.15417)  \n",
       "343           (36.7416612, -0.9999454)   POINT (36.74166 -0.99995)  \n",
       "344         (-77.03655315, 38.8976997)  POINT (-77.03655 38.89770)  \n",
       "345           (36.7416612, -0.9999454)   POINT (36.74166 -0.99995)  \n",
       "\n",
       "[346 rows x 19 columns]"
      ]
     },
     "execution_count": 14,
     "metadata": {},
     "output_type": "execute_result"
    }
   ],
   "source": [
    "gdf = gpd.GeoDataFrame(df_cb, crs=\"EPSG:4326\")\n",
    "gdf"
   ]
  },
  {
   "cell_type": "markdown",
   "id": "abf3a562-35fb-4793-ac03-0c0b74ac074f",
   "metadata": {},
   "source": [
    "# Where Were the Speeches?"
   ]
  },
  {
   "cell_type": "markdown",
   "id": "ac101280-aa70-49cc-a16a-5c80986554c4",
   "metadata": {},
   "source": [
    "Tried it with plotly! It looks much neater!\n",
    "https://plotly.com/python/scatter-plots-on-maps/"
   ]
  },
  {
   "cell_type": "code",
   "execution_count": 42,
   "id": "dec86fb1-c8db-4e65-837e-288fc8bebdca",
   "metadata": {},
   "outputs": [
    {
     "data": {
      "application/vnd.plotly.v1+json": {
       "config": {
        "plotlyServerURL": "https://plot.ly"
       },
       "data": [
        {
         "customdata": [
          [
           "Washington Hilton, Washington D.C.",
           0.178
          ],
          [
           "Chicago, Illinois",
           0.162
          ],
          [
           "Cairo, Egypt",
           0.11
          ],
          [
           "Washington D.C.",
           0.061
          ],
          [
           "Washington Hilton Hotel, Washington D.C.",
           0.145
          ],
          [
           "unknown_location",
           0.145
          ],
          [
           "Washington D.C.",
           0.086
          ],
          [
           "Washington D.C.",
           0.102
          ],
          [
           "Copenhagen, Denmark",
           0.14
          ],
          [
           "Stavros Niarchos Foundation Cultural Center, Athens, Greece",
           0.187
          ],
          [
           "Siri Fort Auditorium, New Delhi, India",
           0.208
          ],
          [
           "Waterfront, Belfast, Northern Ireland",
           0.148
          ],
          [
           "unknown_location",
           0.095
          ],
          [
           "Fairfax, Virginia",
           0.117
          ],
          [
           "Washington D.C.",
           0.233
          ],
          [
           "Harborside Event Center, Fort Myers, Florida",
           0.131
          ],
          [
           "Fleet Center, Boston",
           0.153
          ],
          [
           "Kaneohe Bay Marine Base, Kaneohe, Hawaii",
           0.109
          ],
          [
           "Beaverton, Oregon",
           0.172
          ],
          [
           "unknown_location",
           0.165
          ],
          [
           "Kailua, Hawaii",
           0.161
          ],
          [
           "Washington D.C.",
           0.134
          ],
          [
           "Springfield, Illinois",
           0.15
          ],
          [
           "unknown_location",
           0.139
          ],
          [
           "Veterans Memorial Auditorium, Des Moines, Iowa",
           0.106
          ],
          [
           "Manila, Philippines",
           0.206
          ],
          [
           "unknown_location",
           0.158
          ],
          [
           "White House, Washington D.C.",
           0.167
          ],
          [
           "White House, Washington D.C.",
           0.06
          ],
          [
           "American University, Washington D.C.",
           0.076
          ],
          [
           "White House, Washington D.C.",
           0.151
          ],
          [
           "White House, Washington D.C.",
           0.194
          ],
          [
           "New York, New York",
           0.062
          ],
          [
           "Vermont Avenue Baptist Church, Washington D.C.",
           0.091
          ],
          [
           "Newport News Shipbuilding, Newport News, Virginia",
           0.122
          ],
          [
           "Adas Israel Congregation, Washington D.C.",
           0.182
          ],
          [
           "McCormick Place, Chicago, Illinois",
           0.185
          ],
          [
           "White House, Washington D.C.",
           0.106
          ],
          [
           "unknown_location",
           0.179
          ],
          [
           "Newtown, Connecticut",
           0.135
          ],
          [
           "Washington D.C.",
           0.152
          ],
          [
           "Washington D.C.",
           0.108
          ],
          [
           "New York, New York",
           0.057
          ],
          [
           "unknown_location",
           0.165
          ],
          [
           "unknown_location",
           0.268
          ],
          [
           "White House, Washington D.C.",
           0.214
          ],
          [
           "Santiago, Chile",
           0.176
          ],
          [
           "unknown_location",
           0.101
          ],
          [
           "Del Sol HS, Las Vegas, Nevada",
           0.14
          ],
          [
           "White House, Washington D.C.",
           0.223
          ],
          [
           "Washington D.C.",
           0.158
          ],
          [
           "Pittsburgh, Pennsylvania",
           0.119
          ],
          [
           "unknown_location",
           0.132
          ],
          [
           "unknown_location",
           0.166
          ],
          [
           "Minneapolis Convention Center, Minnesota",
           0.202
          ],
          [
           "Pellissippi State Community College, Knoxville, Tennessee",
           0.181
          ],
          [
           "Lyndon Baines Johnson Library, Austin, Texas",
           0.117
          ],
          [
           "Washington D.C.",
           0.152
          ],
          [
           "unknown_location",
           -0.008
          ],
          [
           "unknown_location",
           0.067
          ],
          [
           "unknown_location",
           0.079
          ],
          [
           "White House, Washington D.C.",
           0.145
          ],
          [
           "Washington D.C.",
           0.153
          ],
          [
           "The Marine Barracks, Washington D.C.",
           0.128
          ],
          [
           "The Pentagon, Washington D.C.",
           0.121
          ],
          [
           "Lincoln Center, New York, New York",
           0.172
          ],
          [
           "Washington D.C.",
           0.178
          ],
          [
           "Yangon, Myanmar",
           0.146
          ],
          [
           "White House, Washington D.C.",
           0.058
          ],
          [
           "unknown_location",
           0.284
          ],
          [
           "White House, Washington D.C.",
           0.122
          ],
          [
           "Le Bourget, Paris, France",
           0.132
          ],
          [
           "Washington D.C.",
           0.183
          ],
          [
           "Annapolis, Maryland",
           0.158
          ],
          [
           "Joint Base Myer-Henderson, Fort Myer, Virginia",
           0.193
          ],
          [
           "White House, Washington D.C.",
           0.119
          ],
          [
           "Camp Springs, Maryland",
           0.085
          ],
          [
           "unknown_location",
           0.151
          ],
          [
           "Sun Devil Stadium, Tempe, Arizona",
           0.162
          ],
          [
           "Oslo City Hall, Oslo, Norway",
           0.075
          ],
          [
           "Illinois State Capitol, Springfield, Illinois",
           0.128
          ],
          [
           "Memphis, Tennessee",
           0.151
          ],
          [
           "Hyde Park Career Academy, Chicago, Illinois",
           0.206
          ],
          [
           "Washington D.C.",
           0.189
          ],
          [
           "unknown_location",
           0.144
          ],
          [
           "James S. Brady Press Briefing Room",
           0.114
          ],
          [
           "unknown_location",
           0.1
          ],
          [
           "Rose Garden, Washington D.C.",
           0.117
          ],
          [
           "unknown_location",
           0.19
          ],
          [
           "unknown_location",
           0.133
          ],
          [
           "Washington D.C.",
           0.121
          ],
          [
           "Georgetown University, Washington D.C.",
           0.145
          ],
          [
           "unknown_location",
           0.147
          ],
          [
           "Pariser Platz, Berlin, Germany",
           0.183
          ],
          [
           "Israel Embassy, Washington D.C.",
           0.141
          ],
          [
           "White House, Washington D.C.",
           0.268
          ],
          [
           "White House, Washington D.C.",
           0.135
          ],
          [
           "unknown_location",
           0.159
          ],
          [
           "White House, Washington D.C.",
           0.089
          ],
          [
           "Clamshell, Bagram Air Field",
           0.185
          ],
          [
           "National Archives, Washington D.C.",
           0.097
          ],
          [
           "unknown_location",
           0.137
          ],
          [
           "Arlington National Cemetery, Arlington, Virginia",
           0.225
          ],
          [
           "unknown_location",
           0.155
          ],
          [
           "White House, Washington D.C.",
           0.131
          ],
          [
           "unknown_location",
           0.161
          ],
          [
           "White House, Washington D.C.",
           0.218
          ],
          [
           "White House, Washington D.C.",
           0.152
          ],
          [
           "Macomb Community College, Warren, Michigan",
           0.122
          ],
          [
           "Washington D.C.",
           0.079
          ],
          [
           "White House, Washington D.C.",
           0.114
          ],
          [
           "Hyatt Regency, Chicago, Illinois",
           0.135
          ],
          [
           "Washington D.C.",
           0.168
          ],
          [
           "White House, Washington D.C.",
           0.066
          ],
          [
           "New York, New York",
           0.096
          ],
          [
           "unknown_location",
           0.205
          ],
          [
           "Joint Base Myer-Henderson Hall, Virginia",
           0.186
          ],
          [
           "New York, New York",
           0.144
          ],
          [
           "unknown_location",
           0.15
          ],
          [
           "University of Baylor, Waco, Texas",
           0.178
          ],
          [
           "Washington National Cathedral, Washington D.C.",
           0.238
          ],
          [
           "Teatro Municipal, Rio de Janeiro",
           0.209
          ],
          [
           "unknown_location",
           0.088
          ],
          [
           "Parwan Province, Afghanistan",
           0.142
          ],
          [
           "Korean War Memorial, Seoul, South Korea",
           0.126
          ],
          [
           "Victory Column",
           0.112
          ],
          [
           "St. Paul, Minnesota",
           0.167
          ],
          [
           "Walter E. Washington Convention Center, Washington D.C.",
           0.139
          ],
          [
           "unknown_location",
           0.12
          ],
          [
           "unknown_location",
           0.143
          ],
          [
           "Washington Hilton Hotel, D.C.",
           0.192
          ],
          [
           "unknown_location",
           0.115
          ],
          [
           "White House, Washington D.C.",
           0.265
          ],
          [
           "Ebenezer Baptist Church, Atlanta",
           0.088
          ],
          [
           "Grande Isle, Louisiana",
           0.173
          ],
          [
           "Washington D.C.",
           0.152
          ],
          [
           "Capital Hilton, Washington D.C.",
           0.156
          ],
          [
           "New York, New York",
           0.13
          ],
          [
           "White House, Washington D.C.",
           0.196
          ],
          [
           "African Union Headquarters, Addis Ababa, Ethiopia",
           0.199
          ],
          [
           "Arlington, Virginia",
           0.122
          ],
          [
           "unknown_location",
           0.11
          ],
          [
           "Denver Police Academy, Denver. Colorado",
           0.128
          ],
          [
           "Brisbane, Australia",
           0.173
          ],
          [
           "Department of Justice, Washington D.C.",
           0.103
          ],
          [
           "The National Mall, Washington D.C.",
           0.137
          ],
          [
           "The Pentagon, Washington D.C.",
           0.142
          ],
          [
           "unknown_location",
           0.098
          ],
          [
           "James L. Knight International Center",
           0.161
          ],
          [
           "unknown_location",
           0.101
          ],
          [
           "Washington D.C.",
           0.221
          ],
          [
           "McLean, Virginia",
           0.199
          ],
          [
           "Georgetown University, Washington D.C.",
           0.09
          ],
          [
           "unknown_location",
           0.221
          ],
          [
           "White House, Washington D.C.",
           0.182
          ],
          [
           "Westminster Hall, London",
           0.117
          ],
          [
           "unknown_location",
           0.128
          ],
          [
           "New York, New York",
           0.162
          ],
          [
           "unknown_location",
           0.164
          ],
          [
           "White House, Washington D.C.",
           0.155
          ],
          [
           "West Point, New York",
           0.081
          ],
          [
           "Washington D.C.",
           0.146
          ],
          [
           "White House, Washington D.C.",
           0.189
          ],
          [
           "Michie Stadium, West Point, New York",
           0.141
          ],
          [
           "United States Air Force Academy, Colorado Springs, Colorado",
           0.144
          ],
          [
           "White House, Washington D.C.",
           0.192
          ],
          [
           "Department of Interior, Washington D.C.",
           0.151
          ],
          [
           "Shima City, Japan",
           0.099
          ],
          [
           "Rancho Mirage, California",
           0.333
          ],
          [
           "Carnegie Mellon University, Pittsburgh, Pennsylvania",
           0.229
          ],
          [
           "Arlington, Virginia",
           0.153
          ],
          [
           "Hilton San Francisco Union Square, California",
           0.162
          ],
          [
           "Treasury Department, Washington D.C.",
           0.118
          ],
          [
           "National Defense University, Washington D.C.",
           0.107
          ],
          [
           "Washington D.C.",
           0.163
          ],
          [
           "Palais des Beaux Arts, Brussels, Belgium",
           0.13
          ],
          [
           "unknown_location",
           0.112
          ],
          [
           "McCormick Place Chicago, Illinois",
           0.177
          ],
          [
           "Langley, Virginia",
           0.195
          ],
          [
           "Consumer Financial Protection Bureau, Washington D.C.",
           0.176
          ],
          [
           "White House, Washington D.C.",
           0.05
          ],
          [
           "JFK Space Center, Merritt Island, Florida",
           0.114
          ],
          [
           "Phillips Center for the Performing Arts, Orlando, Florida",
           0.178
          ],
          [
           "Des Moines, Iowa",
           0.087
          ],
          [
           "unknown_location",
           0.076
          ],
          [
           "Our Lady of Perpetual Help Basilica, Boston",
           0.22
          ],
          [
           "White House, Washington D.C.",
           0.126
          ],
          [
           "White House, Washington D.C.",
           0.153
          ],
          [
           "Edgartown, Massachusetts",
           0.124
          ],
          [
           "unknown_location",
           0.14
          ],
          [
           "Chicago, Illinois",
           0.144
          ],
          [
           "New York, New York",
           0.082
          ],
          [
           "Jacksonville, Florida",
           0.194
          ],
          [
           "White House, Washington D.C.",
           0.056
          ],
          [
           "Washington D.C.",
           0.125
          ],
          [
           "MacDill Air Force Base, Tampa, Florida",
           0.086
          ],
          [
           "Prince George County, Maryland",
           0.182
          ],
          [
           "Jakarta, Indonesia",
           0.189
          ],
          [
           "National Cathedral, Washington D.C.",
           0.242
          ],
          [
           "unknown_location",
           0.158
          ],
          [
           "Boston, Massachusetts",
           0.184
          ],
          [
           "White House, Washington D.C.",
           0.122
          ],
          [
           "unknown_location",
           0.261
          ],
          [
           "White House, Washington D.C.",
           0.179
          ],
          [
           "unknown_location",
           0.358
          ],
          [
           "New York, New York",
           0.105
          ],
          [
           "White House, Washington D.C.",
           0.365
          ],
          [
           "Czech Republic",
           0.102
          ],
          [
           "Ronald Reagan Building, Washington D.C.",
           0.094
          ],
          [
           "unknown_location",
           0.208
          ],
          [
           "Chicago, Illinois",
           0.169
          ],
          [
           "unknown_location",
           0.147
          ],
          [
           "Washington D.C.",
           0.136
          ],
          [
           "unknown_location",
           0.085
          ],
          [
           "U.S. Capitol, Washington D.C.",
           0.1
          ],
          [
           "unknown_location",
           0.163
          ],
          [
           "unknown_location",
           0.128
          ],
          [
           "National Convention Center, Hanoi, Vietnam",
           0.206
          ],
          [
           "Washington D.C.",
           0.131
          ],
          [
           "Chicago, Illinois",
           0.143
          ],
          [
           "Washington D.C.",
           0.087
          ],
          [
           "Lotte New York Palace Hotel, New York City, New York",
           0.185
          ],
          [
           "Hotel El Panama, Panama City, Panama",
           0.229
          ],
          [
           "Atlanta, Georgia",
           0.147
          ],
          [
           "Dallas, Texas",
           0.12
          ],
          [
           "Washington D.C.",
           0.23
          ],
          [
           "Cape Town, South Africa",
           0.169
          ],
          [
           "unknown_location",
           0.084
          ],
          [
           "unknown_location",
           0.124
          ],
          [
           "White House, Washington D.C.",
           0.178
          ],
          [
           "Washington D.C.",
           0.144
          ],
          [
           "Hannover Messe Building 35, Hanover, Germany",
           0.156
          ],
          [
           "unknown_location",
           0.082
          ],
          [
           "New Delhi, India",
           0.145
          ],
          [
           "unknown_location",
           0.098
          ],
          [
           "Canberra, Australia",
           0.149
          ],
          [
           "White House, Washington D.C.",
           0.054
          ],
          [
           "Gran Teatro de la Habana, Havana, Cuba",
           0.171
          ],
          [
           "White House, Washington D.C.",
           0.174
          ],
          [
           "Atlanta Georgia",
           0.149
          ],
          [
           "UN Headquarters, New York, New York",
           0.137
          ],
          [
           "unknown_location",
           0.137
          ],
          [
           "Andrew Sanchez Community Center, New Orleans, Louisiana",
           0.154
          ],
          [
           "Lao National Cultural Hall, Vientiane, Laos",
           0.18
          ],
          [
           "Washington D.C.",
           0.135
          ],
          [
           "White House, Washington D.C.",
           0.209
          ],
          [
           "Gostinny Dvor, Moscow, Russia",
           0.118
          ],
          [
           "Baltimore, Maryland",
           0.152
          ],
          [
           "White House, Washington D.C.",
           0.112
          ],
          [
           "Missouri Southern University, Joplin Missouri",
           0.145
          ],
          [
           "White House, Washington D.C.",
           0.125
          ],
          [
           "Washington D.C.",
           0.184
          ],
          [
           "Washington D.C.",
           0.129
          ],
          [
           "First National Bank Stadium, Johannesburg, South Africa",
           0.16
          ],
          [
           "Eisenhower Hall, West Point Military Academy, New York",
           0.112
          ],
          [
           "Georgia Institute of Technology, Atlanta, Georgia",
           0.198
          ],
          [
           "Safaricom Indoor Arena, Nairobi, Kenya",
           0.142
          ],
          [
           "Washington D.C.",
           0.128
          ],
          [
           "Southern Methodist University, Dallas, Texas",
           0.194
          ],
          [
           "White House, Washington D.C.",
           0.109
          ],
          [
           "Panama City, Panama",
           0.187
          ],
          [
           "unknown_location",
           0.08
          ],
          [
           "Baton Rouge, Louisiana",
           0.192
          ],
          [
           "White House, Washington D.C.",
           0.111
          ],
          [
           "National Mall, Washington D.C.",
           0.17
          ],
          [
           "Accra International Conference Center, Accra, Ghana",
           0.165
          ],
          [
           "Omaha Beach, Normandy, France",
           0.163
          ],
          [
           "unknown_location",
           0.016
          ],
          [
           "The Convention Center Brasil 21, Brasilia, Brazil",
           0.179
          ],
          [
           "Northwestern High School, Flint, Michigan",
           0.167
          ],
          [
           "Al Faw Palace, Baghdad, Iraq",
           0.243
          ],
          [
           "James S. Brady Press Briefing Room",
           0.146
          ],
          [
           "Bethesda, Maryland",
           0.164
          ],
          [
           "unknown_location",
           0.115
          ],
          [
           "Philadelphia, Pennsylvania",
           0.091
          ],
          [
           "unknown_location",
           0.174
          ],
          [
           "Camp Lejeune, North Carolina",
           0.17
          ],
          [
           "White House, Washington D.C.",
           0.088
          ],
          [
           "Washington D.C.",
           0.018
          ],
          [
           "Jerusalem, Israel",
           0.152
          ],
          [
           "White House, Washington D.C.",
           0.116
          ],
          [
           "White House, Washington D.C.",
           0.221
          ],
          [
           "Walter E. Washington Convention Center, Washington D.C.",
           0.136
          ],
          [
           "Washington Hilton Hotel, Washington D.C.",
           0.143
          ],
          [
           "Lincoln Memorial, Washington D.C.",
           0.113
          ],
          [
           "unknown_location",
           0.146
          ],
          [
           "Boston, Massachusetts",
           0.149
          ],
          [
           "Edmund Pettus Bridge, Selma, Alabama",
           0.159
          ],
          [
           "Cooper Union, New York, New York",
           0.102
          ],
          [
           "Chicago, Illinois",
           0.09
          ],
          [
           "Washington D.C.",
           0.119
          ],
          [
           "Washington D.C.",
           0.174
          ],
          [
           "White House, Washington D.C.",
           0.242
          ],
          [
           "House of Commons Chamber, Ottawa, Canada",
           0.153
          ],
          [
           "unknown_location",
           0.096
          ],
          [
           "McKale Memorial Center, University of Arizona, Tucson",
           0.181
          ],
          [
           "Seoul, Korea",
           0.163
          ],
          [
           "Ankara, Turkey",
           0.157
          ],
          [
           "Osawatomie, Kansas",
           0.192
          ],
          [
           "College of Charleston, Charleston, South Carolina",
           0.152
          ],
          [
           "Stanford University, Stanford, California",
           0.202
          ],
          [
           "West Virginia State Capitol, Charleston, West Virginia",
           0.2
          ],
          [
           "unknown_location",
           0.198
          ],
          [
           "Anthropological Museum, Mexico City",
           0.205
          ],
          [
           "White House, Washington D.C.",
           0.135
          ],
          [
           "Castle Square, Warsaw, Poland",
           0.18
          ],
          [
           "Nordea Concert Hall Tallinn, Estonia",
           0.196
          ],
          [
           "Galesburg, Illinois",
           0.166
          ],
          [
           "Oahu, Hawaii",
           0.162
          ],
          [
           "New York, New York",
           0.126
          ],
          [
           "unknown_location",
           0.139
          ],
          [
           "New York, New York",
           0.079
          ],
          [
           "Beckley, West Virginia",
           0.164
          ],
          [
           "New York, New York",
           0.119
          ],
          [
           "White House, Washington D.C.",
           0.098
          ],
          [
           "St. Anthony of Padua Church Wilmington, Delaware",
           0.182
          ],
          [
           "Washington D.C.",
           0.09
          ],
          [
           "Constitution Center, Washington D.C.",
           0.164
          ],
          [
           "Normandy, France",
           0.079
          ],
          [
           "unknown_location",
           0.041
          ],
          [
           "unknown_location",
           0.226
          ],
          [
           "unknown_location",
           0.123
          ],
          [
           "Lincoln Memorial, Washington D.C.",
           0.158
          ],
          [
           "unknown_location",
           0.101
          ],
          [
           "Northern Michigan University, Marquette, Michigan",
           0.198
          ],
          [
           "White House, Washington D.C.",
           0.131
          ],
          [
           "State Department, Washington D.C.",
           0.114
          ],
          [
           "Eisenhower Building, Washington D.C.",
           0.219
          ],
          [
           "Washington D.C.",
           0.205
          ],
          [
           "U.S. Capitol Western Front, Washington D.C.",
           0.081
          ],
          [
           "Fort Hood, Texas",
           0.146
          ],
          [
           "Arlington, Virginia",
           0.243
          ],
          [
           "Reno, Nevada",
           0.183
          ],
          [
           "unknown_location",
           0.122
          ],
          [
           "Arlington, Virginia",
           0.159
          ],
          [
           "Langley, Virginia",
           0.148
          ],
          [
           "unknown_location",
           0.131
          ],
          [
           "Hiroshima, Japan",
           0.122
          ],
          [
           "unknown_location",
           0.145
          ],
          [
           "unknown_location",
           0.129
          ],
          [
           "Charlotte, North Carolina",
           0.139
          ],
          [
           "Mount Herzl, Jerusalem, Israel",
           0.164
          ],
          [
           "Shangri-La Hotel, Kuala Lumpur, Malaysia",
           0.164
          ],
          [
           "unknown_location",
           0.08
          ],
          [
           "White House, Washington D.C.",
           0.076
          ],
          [
           "unknown_location",
           0.121
          ]
         ],
         "geo": "geo",
         "hovertemplate": "<b>%{hovertext}</b><br><br>latitude=%{lat}<br>longitude=%{lon}<br>location=%{customdata[0]}<br>textblob=%{customdata[1]}<extra></extra>",
         "hovertext": [
          "Prayer_Breakfast_2016",
          "Security_Team_Announcement",
          "Cairo_University",
          "Umpqua_Community_College_Shootings",
          "White_House_Correspondent_Dinner_2013",
          "Border_Security_and_Immigration_Reform",
          "Senate_Floor_Immigration_Reform",
          "Holocaust_Days_of_Remembrance",
          "UN_Copenhagen_Climate_Change",
          "People_of_Greece",
          "India_Speech_at_New_Delhi",
          "Northern_Ireland_Speech",
          "Fixing_Immigration_Policy",
          "George_Mason_21st_Century_Economy",
          "Prayer_Breakfast_2014",
          "Aurora_Tragedy",
          "2004_DNC_Address",
          "NW_Flight_253_Update",
          "Trade_Trans_Pacific_at_Nike",
          "Boston_Marathon_Bombing_First_Statement",
          "Flight_253_Terrorist_Attempt_Press_Statement",
          "Joint_Session_on_Economy_and_Jobs",
          "Announces_Candidacy",
          "Gun_Violence_Exec_Order_23",
          "Barack_Obama_-_Jefferson-Jackson_Dinner",
          "Fort_Bonifacio",
          "State_of_the_Union_2015",
          "USSC_Ruling_Affordable_Care_Act",
          "Senate_Vote_Background_Check",
          "Comprehensive_Immigration_Reform",
          "Muammar_Qaddafi_Death",
          "Iraq_War_Responsibly_Ending",
          "UNGA_2012",
          "MLK_Remembrance",
          "Sequester_Impact_Newport_News",
          "Jewish_American_Heritage_Month",
          "Farewell_Address",
          "Afghanistan_Troop_Reduction",
          "Sandy_Hook_Elementary_School",
          "Newtown_Vigil_Address",
          "White_House_Correspondents_Dinner_2011",
          "Iran_Deal_American_University",
          "UNGA_68th_Session",
          "Weekly_Address_on_Cuba",
          "Elena_Kagan_USSC_Nomination",
          "Joe_Biden_Medal_of_Freedom",
          "Chile_Latin_America",
          "State_of_the_Nation_2009",
          "Comprehensive_Immigration_Reform_Vegas",
          "BRAIN_Initiative",
          "Iraq_War_After_4_Years",
          "Carnegie_Mellon_Economy",
          "First_Presidential_Weekly_Address",
          "Global_Climate_Message",
          "American_Legion_Conference",
          "Community_College_Plan",
          "Civil_Rights_Summit_LBJ",
          "State_of_the_Union_2011",
          "Rosa_Parks_Statue_Dedication",
          "Burundi_People_Message",
          "Buchenwald_Concentration_Camp",
          "South_Carolina_AME_Church_Shooting",
          "State_of_the_Union_2013",
          "Navy_Yard_Shooting_Memorial",
          "ISIL_Pentagon_Update",
          "Walter_Cronkite_Memorial",
          "Chicago_Cubs_WH_Visit",
          "Yangon_University",
          "Benghazi_Attacks_Rose_Garden",
          "On_the_Passing_of_Nelson_Mandela",
          "Iraqi_Freedom_End",
          "COP21",
          "Senate_Speech_on_Ohio_Electoral_Vote",
          "Naval_Academy_Commencement",
          "Armed_Forces_Farewell",
          "US_Govt_Shutdown_Statement",
          "Energy_Security_AAFB",
          "Candidate_Exploratory_Announcement",
          "ASU_Commencement",
          "Nobel_Lecture",
          "Illinois_General_Assembly",
          "Booker_T_Washington",
          "Middle_Class_Economy",
          "Congressional_Black_Caucus",
          "Notre_Dame_Commencement",
          "Benghazi_Remains_Transfer",
          "Auschwitz_and_Birkenau_Liberation_65th",
          "Iran_Nuclear_Agreement",
          "Disabled_Veterans_Conference",
          "GW_Fiscal_Policy",
          "Oval_Office_BP",
          "Energy_Security_Georgetown",
          "Senate_Floor_Speech_on_Voting_Rights_Act_Renewal",
          "Brandenburg_Gate_Speech",
          "Righteous_Among_Nations_Ceremony",
          "IRS_Misconduct",
          "Merrick_Garland_USSC_Nomination",
          "Iran_Nuclear_Accord",
          "Cyber_Infrastructure_US",
          "Afghanistan_US_Troops_Bagram",
          "National_Security_National_Archives",
          "Nurses_Association",
          "Veterans_Day_Address_2013",
          "911_Pentagon_Memorial_2010",
          "Gun_Violence_Reduction_Steps",
          "US_Detainees_Released",
          "Pope_Francis_White_House_Welcome",
          "Hostage_Policy_Review",
          "Graduation_Initiative",
          "State_of_the_Union_2010",
          "Clean_Power_Plan",
          "American_Medical_Association",
          "Hurricane_Sandy_Red_Cross",
          "Hostage_Drone_Death",
          "United_Nations_Security_Council_2014",
          "Boston_Marathon_Bombing_Second_Statement",
          "Martin_Dempsey_Retirement",
          "UN_Ebola_Meeting",
          "Egypt_History_Revolution",
          "West_Fertilizer_Tragedy_Memorial",
          "Dorothy_Height_Eulogy",
          "Rio_de_Janeiro",
          "Dignity_and_Courage_of_Iranians",
          "Bagram_Air_Base_December_2010",
          "Korean_War_Armistice_60",
          "Berlin_Address",
          "Nomination_Victory",
          "American_Israel_Public_Affairs_Committee",
          "Osama_bin_Laden_Death",
          "Knox_College_Commencement",
          "White_House_Correspondents_Dinner_First",
          "Post_Election_Economy",
          "Ebola_Response_Update",
          "Ebenezer_Baptist",
          "Grande_Isle_Briefing",
          "National_Chamber_of_Commerce",
          "White_House_Correspondents_Dinner_2016",
          "United_Nations_GA_2016",
          "Aging_Conference_White_House",
          "African_Union_Address",
          "911_Pentagon_Memorial_2009",
          "Address_on_Libya",
          "Gun_Violence_Denver",
          "Queensland_University",
          "US_Intelligence_Program_Review_Outcome",
          "MLK_Memorial_Dedication",
          "Military_Strategy_Review",
          "Aviation_Security",
          "Miami_Dade_College_Commencement",
          "General_McChrystal_Afghanistan",
          "Senate_Floor_Coretta_King",
          "NCTC_2015",
          "New_Foundation_Georgetown",
          "Kalamazoo_HS_Commencement",
          "Debt_Compromise_Remarks",
          "British_Parliament",
          "SSG_Bryan_Pitts_MOH",
          "Barnard_College_Commencement",
          "State_of_the_Union_2014",
          "Repeal_Oil_and_Gas_Subsidies",
          "US_Military_Academy_Commencement_2014",
          "Prayer_Breakfast_2011",
          "Affordable_Care_Act_Logistical_Challenges",
          "West_Point_Commencement_2010",
          "US_Air_Force_Commencement_Speech",
          "Paris_Climate_Agreement",
          "Tribal_Nations_Conference",
          "Shinzo_Abe_Presser_Japan",
          "Antonin_Scalia_Passing",
          "Carnegie_Robotics_Center",
          "NCCIC",
          "Mayors_Conference_2015",
          "ISIL_Briefing_June_2016",
          "Libya_Nation_Speech",
          "Naturalization_National_Archives",
          "European_Youth",
          "Regina_Benjamin_Nomination",
          "Second_Presidential_Election_Victory_Speech",
          "CIA_Intelligence_Community",
          "Executive_Order_13681_Signing",
          "Orlando_Shootings_Statement",
          "NASA_21st_Century",
          "Orlando_Community",
          "Iowa_Caucus_Victory_Speech",
          "Barack_Obama_-_ISIL_Update_02-25-16",
          "Ted_Kennedy_Eulogy",
          "Guantanamo_Bay_Closing",
          "PM_Netanyahu_Speech",
          "Ferguson_and_Northern_Iraq",
          "Libya_Violence_Must_Stop",
          "Announces_Commerce_Secretary_Designate",
          "United_Nations_General_Assembly_2014",
          "Recovery_and_Reinvestment_Act_2016",
          "Presser_XMas_Terrorist_Attempt",
          "State_of_the_Union_2012",
          "On_Counterterrorism_Approach_2016",
          "Farewell_to_Staff_and_Supporters",
          "Indonesia_University",
          "Daniel_Inouye_Eulogy",
          "Iran_Accord_Statement",
          "Holy_Cross_Interfaith_Prayer_Service",
          "Economic_Crisis_and_Executive_Compensation_Salary_Cap",
          "Iraq_War_Veteran_Gala_Toast",
          "Shimon_Peres_Medal_of_Freedom",
          "Hillary_Clinton_Endorsement",
          "United_Nations_on_Palestinian_Statehood",
          "First_Meeting_with_President_Elect_Donald_Trump",
          "Hradany_Square_Prague",
          "Barack_Obama_-_Dodd-Frank_Signing",
          "Prayer_Breakfast_2015",
          "New_Economic_Team",
          "Immigration_Senate_Call",
          "Health_Care_Law_Signing",
          "Senate_Floor_Speech_on_the_Patriot_Act",
          "Barack_Obama_-_13th_Amendment_150-Year_Anniversary",
          "Democrat_Caucus_Health_Care",
          "AIPAC_2012",
          "Speech_to_the_Vietnam_People",
          "Paris_Terrorist_Attacks",
          "Presidential_Victory_Speech",
          "Brookings_Institute",
          "NY_NJ_Explosions",
          "Civil_Society_Forum_Panama",
          "Morehouse_College_Commencement",
          "Dallas_Police_Memorial_Address",
          "Go_Presidential_Election_Outcome_2016",
          "Capetown_University",
          "2010_Budget_to_Congress",
          "Cuba_Policy_Changes",
          "USSC_Affordable_Care_Act_Ruling",
          "Howard_University_Commencement",
          "Europe_Peoples_Hannover",
          "ISIL_Force_Authorization_Request",
          "Indian_Parliament",
          "Senate_Floor_Speech_on_Wall_Street_Bailout_Bill",
          "Australian_Parliament",
          "Iraq_Airstrikes_and_Humanitarian_Aid_New",
          "Cuba_People_Speech",
          "Defense_Dept_Personnel",
          "Ebola_CDC",
          "United_Nations_GA_2015",
          "Counter_ISIL_Campaign_Update",
          "Katrina_10_Years",
          "Laos_People",
          "National_Holocaust_Memorial_Museum",
          "Weekly_Address_Iraq_War_Service",
          "Moscow_New_Economic_School",
          "Islamic_Society_Baltimore",
          "Debt_Compromise_Agreement",
          "Joplin_Tornado_Victims_Memorial",
          "Dangers_of_Default",
          "Iftar_Dinner_on_Religious_Tolerance",
          "Second_Presidential_Inaugural_Address",
          "Mandela_Public_Memorial_Address",
          "Afghanistan_War_Troop_Surge",
          "Student_Aid_Bill_of_Rights",
          "Kenya_People_Speech",
          "White_House_Correspondent_Dinner_2014",
          "GWB_Library_Dedication",
          "Countering_Violent_Religious_Extremism",
          "Summit_Americas_Plenary",
          "Barack_Obama_-_Weekly_Address_01-01-16",
          "Baton_Rouge_Flooding",
          "Rose_Garden_Economy_and_Deficit",
          "Barack_Obama_-_African-American_History_Museum_Dedication",
          "Ghana_Parliament",
          "DDay_70",
          "Senate_Speech_Iraq_Federalism_Amendment",
          "Odyssey_Dawn",
          "Flint_Michigan_Community",
          "Iraq_Multinational_Troops",
          "Hurricane_Sandy_ERT",
          "Ebola_NIH_Research",
          "Prayer_Breakfast_2010",
          "More_Perfect_Union",
          "Hispanic_Chamber_of_Commerce",
          "Iraq_War_Camp_Lejeune",
          "Chemical_Weapons_Syria",
          "Syria_Speech_to_the_Nation",
          "Jerusalem_Intl_Convention_Center_Speech",
          "Salvatore_Giunta_Medal_of_Honor",
          "Kennedy_Center_Honorees_2016",
          "United_State_of_Women",
          "White_House_Correspondents_Dinner_2010",
          "Lincoln_Bicentennial",
          "Pensacola_Military_Personnel",
          "Ted_Kennedy_Institute_Dedication",
          "Selma_50_March",
          "Reforming_Wall_Street",
          "First_Press_Conference",
          "Final_State_of_the_Union_Address",
          "Lincoln_Memorial",
          "Golden_State_Warriors",
          "Canada_Parliament",
          "Trayvon_Martin",
          "Tucson_Memorial_Address",
          "Hankuk_University",
          "Turkish_Parliament",
          "New_Nationalism_at_Osawatomie_HS",
          "Clementa_Pinckney_Eulogy",
          "Stanford_Cybersecurity_Summit",
          "Robert_Bryd_Eulogy",
          "Fort_Campbell",
          "Mexico_Address",
          "Afghanistan_Statement",
          "Polish_Freedom_Day_25",
          "Estonia_People",
          "Knox_College_Economy",
          "Pearl_Harbor_Address",
          "UN_High_Level_Libya",
          "No_Child_Left_Behind_Blueprint",
          "United_Nations_General_Assembly",
          "Eulogy_West_Virginia_Coal_Miners",
          "UNGA_2010",
          "Emil_Kapaun_Medal_of_Honor",
          "Beau_Biden_Eulogy",
          "Rosa_Parks",
          "FTC_2014",
          "DDay_65",
          "Justice_Stevens_and_West_Virginia_Mining_Tragedy",
          "Fathers_Day_2010",
          "ISIL_",
          "Let_Freedom_Ring_Ceremony",
          "To_Congress_on_Health_Care",
          "National_Wireless_Initiative",
          "Congress_Call_Health_Care_Reform",
          "Middle_East_Diplomacy",
          "Every_Student_Succeeds_Signing",
          "Birth_Certificate_Release",
          "Inaugural_Address",
          "Fort_Hoot_Memorial",
          "911_After_15_Years",
          "VFW_2012",
          "UN_Iran_Sanctions",
          "Wakefield_Back_to_High_School",
          "CIA_First_Speech",
          "Health_Care_Bill_Passage",
          "Hiroshima_Peace_Memorial_Address",
          "Clinton_Global_Initiative_Human_Trafficking",
          "Boston_Marathon_Bombing_Third_Statement",
          "Second_Democratic_Nomination_Acceptance",
          "Shimon_Peres_Memorial",
          "ASEAN_Business_2015",
          "Finance_Crisis_Fee",
          "Oval_Office_Counter_Terrorism_Agenda",
          "Michigan_University_Commencement"
         ],
         "lat": [
          38.9165229,
          41.8755616,
          30.0443879,
          38.8950368,
          38.9165229,
          -0.9999454,
          38.8950368,
          38.8950368,
          55.6867243,
          37.9406226,
          null,
          54.5972712,
          -0.9999454,
          38.8462236,
          38.8950368,
          26.64469215,
          null,
          null,
          45.4871723,
          -0.9999454,
          21.394833,
          38.8950368,
          39.7990175,
          -0.9999454,
          null,
          14.5948914,
          -0.9999454,
          38.8976997,
          38.8976997,
          38.93804505,
          38.8976997,
          38.8976997,
          40.7127281,
          38.912027300000005,
          36.99416165,
          38.93679415,
          41.8515481,
          38.8976997,
          -0.9999454,
          41.412387,
          38.8950368,
          38.8950368,
          40.7127281,
          -0.9999454,
          -0.9999454,
          38.8976997,
          -33.4377756,
          -0.9999454,
          null,
          38.8976997,
          38.8950368,
          40.4416941,
          -0.9999454,
          -0.9999454,
          44.96933115,
          35.95608045,
          30.2858948,
          38.8950368,
          -0.9999454,
          -0.9999454,
          -0.9999454,
          38.8976997,
          38.8950368,
          null,
          null,
          40.7713396,
          38.8950368,
          16.7967129,
          38.8976997,
          -0.9999454,
          38.8976997,
          48.8727056,
          38.8950368,
          38.9786401,
          38.877461,
          38.8976997,
          38.8020807,
          -0.9999454,
          33.42655155,
          null,
          39.79842575,
          35.1335022,
          null,
          38.8950368,
          -0.9999454,
          null,
          -0.9999454,
          38.8974193,
          -0.9999454,
          -0.9999454,
          38.8950368,
          38.90893925,
          -0.9999454,
          52.516338950000005,
          38.9427494,
          38.8976997,
          38.8976997,
          -0.9999454,
          38.8976997,
          null,
          38.8927368,
          -0.9999454,
          38.8785384,
          -0.9999454,
          38.8976997,
          -0.9999454,
          38.8976997,
          38.8976997,
          42.50541065,
          38.8950368,
          38.8976997,
          41.8874488,
          38.8950368,
          38.8976997,
          40.7127281,
          -0.9999454,
          38.877461,
          40.7127281,
          -0.9999454,
          null,
          38.93065095,
          -22.2796324,
          -0.9999454,
          34.9797014,
          null,
          52.51450815,
          44.9497487,
          38.90503335,
          -0.9999454,
          -0.9999454,
          38.9165229,
          -0.9999454,
          38.8976997,
          33.7551362,
          29.2366172,
          38.8950368,
          38.9031219,
          40.7127281,
          38.8976997,
          9.0009975,
          38.8903961,
          -0.9999454,
          39.7493375,
          -27.4689682,
          null,
          null,
          null,
          -0.9999454,
          null,
          -0.9999454,
          38.8950368,
          38.9318369,
          38.90893925,
          -0.9999454,
          38.8976997,
          51.4995549,
          -0.9999454,
          40.7127281,
          -0.9999454,
          38.8976997,
          40.8512481,
          38.8950368,
          38.8976997,
          null,
          38.9912381,
          38.8976997,
          38.89445405,
          34.7246431,
          33.770859,
          40.4441897,
          38.8903961,
          37.78573425,
          38.89760605,
          38.86385125,
          38.8950368,
          50.84371815,
          -0.9999454,
          41.8515481,
          38.9464996,
          38.8981685,
          38.8976997,
          null,
          null,
          41.5910323,
          -0.9999454,
          null,
          38.8976997,
          38.8976997,
          41.3890052,
          -0.9999454,
          41.8755616,
          40.7127281,
          30.3321838,
          38.8976997,
          38.8950368,
          27.84364085,
          38.99203005,
          -6.1753942,
          38.93065095,
          -0.9999454,
          42.3602534,
          38.8976997,
          -0.9999454,
          38.8976997,
          -0.9999454,
          40.7127281,
          38.8976997,
          49.8167003,
          null,
          -0.9999454,
          41.8755616,
          -0.9999454,
          38.8950368,
          -0.9999454,
          38.8906766,
          -0.9999454,
          -0.9999454,
          21.00636225,
          38.8950368,
          41.8755616,
          38.8950368,
          40.75798035,
          null,
          33.7489924,
          32.7762719,
          38.8950368,
          -33.928992,
          -0.9999454,
          -0.9999454,
          38.8976997,
          38.8950368,
          null,
          -0.9999454,
          28.6138954,
          -0.9999454,
          -35.2975906,
          38.8976997,
          23.1369698,
          38.8976997,
          33.7489924,
          null,
          -0.9999454,
          null,
          17.96615525,
          38.8950368,
          38.8976997,
          null,
          39.2908816,
          38.8976997,
          37.09536065,
          38.8976997,
          38.8950368,
          38.8950368,
          null,
          null,
          33.776033,
          -1.2299123,
          38.8950368,
          32.841801149999995,
          38.8976997,
          30.1600827,
          -0.9999454,
          30.4459596,
          38.8976997,
          38.8854281,
          5.5543117,
          49.37781875,
          -0.9999454,
          null,
          43.07770265,
          33.2840084,
          null,
          38.98127255,
          -0.9999454,
          39.9527237,
          -0.9999454,
          34.63941505,
          38.8976997,
          38.8950368,
          31.7788242,
          38.8976997,
          38.8976997,
          38.90503335,
          38.9165229,
          38.889212150000006,
          -0.9999454,
          42.3602534,
          32.4047191,
          40.7295282,
          41.8755616,
          38.8950368,
          38.8950368,
          38.8976997,
          null,
          -0.9999454,
          null,
          37.5666791,
          39.9207886,
          38.4970321,
          32.7844246,
          37.43131385,
          38.3363062,
          -0.9999454,
          null,
          38.8976997,
          52.24793695,
          null,
          40.9475652,
          21.48343645,
          40.7127281,
          -0.9999454,
          40.7127281,
          37.7781702,
          40.7127281,
          38.8976997,
          null,
          38.8950368,
          38.884087050000005,
          49.0677708,
          -0.9999454,
          -0.9999454,
          -0.9999454,
          38.889212150000006,
          -0.9999454,
          46.56132435,
          38.8976997,
          38.8945036,
          38.8975537,
          38.8950368,
          null,
          31.2012636,
          38.8903961,
          39.5261206,
          -0.9999454,
          38.8903961,
          38.9464996,
          -0.9999454,
          34.3916058,
          -0.9999454,
          -0.9999454,
          35.2272086,
          31.77236115,
          3.1541698,
          -0.9999454,
          38.8976997,
          -0.9999454
         ],
         "legendgroup": "",
         "lon": [
          -77.0452084,
          -87.6244212,
          31.2357257,
          -77.0365427,
          -77.0452084,
          36.7416612,
          -77.0365427,
          -77.0365427,
          12.5700724,
          23.6913101,
          null,
          -5.9211082,
          36.7416612,
          -77.3063733,
          -77.0365427,
          -81.871826378728,
          null,
          null,
          -122.80378,
          36.7416612,
          -157.72989134661873,
          -77.0365427,
          -89.6439575,
          36.7416612,
          null,
          120.9782618,
          36.7416612,
          -77.03655315,
          -77.03655315,
          -77.08939223651926,
          -77.03655315,
          -77.03655315,
          -74.0060152,
          -77.0287509853597,
          -76.44414948067441,
          -77.05752080109374,
          -87.6164334,
          -77.03655315,
          36.7416612,
          -73.31153913634024,
          -77.0365427,
          -77.0365427,
          -74.0060152,
          36.7416612,
          36.7416612,
          -77.03655315,
          -70.6504502,
          36.7416612,
          null,
          -77.03655315,
          -77.0365427,
          -79.9900861,
          36.7416612,
          36.7416612,
          -93.2737079434336,
          -83.96456658317715,
          -97.72928516466844,
          -77.0365427,
          36.7416612,
          36.7416612,
          36.7416612,
          -77.03655315,
          -77.0365427,
          null,
          null,
          -73.9835065,
          -77.0365427,
          96.1609916,
          -77.03655315,
          36.7416612,
          -77.03655315,
          2.32675,
          -77.0365427,
          -76.492786,
          -77.08082799848256,
          -77.03655315,
          -76.92419076299771,
          36.7416612,
          -111.93327690688318,
          null,
          -89.65491801985712,
          -89.9668758,
          null,
          -77.0365427,
          36.7416612,
          null,
          36.7416612,
          -77.03711315487126,
          36.7416612,
          36.7416612,
          -77.0365427,
          -77.07457962060826,
          36.7416612,
          13.378687202182196,
          -77.06842872907194,
          -77.03655315,
          -77.03655315,
          36.7416612,
          -77.03655315,
          null,
          -77.02292005112255,
          36.7416612,
          -77.06911170120969,
          36.7416612,
          -77.03655315,
          36.7416612,
          -77.03655315,
          -77.03655315,
          -82.9730483155511,
          -77.0365427,
          -77.03655315,
          -87.6228422065339,
          -77.0365427,
          -77.03655315,
          -74.0060152,
          36.7416612,
          -77.08082799848256,
          -74.0060152,
          36.7416612,
          null,
          -77.07059515120122,
          -42.536578235953726,
          36.7416612,
          68.9146703,
          null,
          13.350110811262352,
          -93.0931028,
          -77.02295618530775,
          36.7416612,
          36.7416612,
          -77.0452084,
          36.7416612,
          -77.03655315,
          -84.3742076,
          -89.9872942,
          -77.0365427,
          -77.0359328,
          -74.0060152,
          -77.03655315,
          38.74212826980348,
          -77.0841585,
          36.7416612,
          -104.88460913352296,
          153.0234991,
          null,
          null,
          null,
          36.7416612,
          null,
          36.7416612,
          -77.0365427,
          -77.1671337963356,
          -77.07457962060826,
          36.7416612,
          -77.03655315,
          -0.1254826,
          36.7416612,
          -74.0060152,
          36.7416612,
          -77.03655315,
          -72.5359869,
          -77.0365427,
          -77.03655315,
          null,
          -104.8588345994012,
          -77.03655315,
          -77.04260729303007,
          135.5542138,
          -116.42687402345577,
          -79.94271918393466,
          -77.0841585,
          -122.41043691372737,
          -77.03435185976429,
          -77.0157337847445,
          -77.0365427,
          4.359790395373073,
          36.7416612,
          -87.6164334,
          -77.1588685,
          -77.0399012,
          -77.03655315,
          null,
          null,
          -93.6046655,
          36.7416612,
          null,
          -77.03655315,
          -77.03655315,
          -70.5133599,
          36.7416612,
          -87.6244212,
          -74.0060152,
          -81.655651,
          -77.03655315,
          -77.0365427,
          -82.50287224965905,
          -76.94610290199051,
          106.827183,
          -77.07059515120122,
          36.7416612,
          -71.0582912,
          -77.03655315,
          36.7416612,
          -77.03655315,
          36.7416612,
          -74.0060152,
          -77.03655315,
          15.4749544,
          null,
          36.7416612,
          -87.6244212,
          36.7416612,
          -77.0365427,
          36.7416612,
          -77.008299,
          36.7416612,
          36.7416612,
          105.78709927095412,
          -77.0365427,
          -87.6244212,
          -77.0365427,
          -73.97476900451042,
          null,
          -84.3902644,
          -96.7968559,
          -77.0365427,
          18.417396,
          36.7416612,
          36.7416612,
          -77.03655315,
          -77.0365427,
          null,
          36.7416612,
          77.2090057,
          36.7416612,
          149.1012676,
          -77.03655315,
          -82.3595917708269,
          -77.03655315,
          -84.3902644,
          null,
          36.7416612,
          null,
          102.60664770784688,
          -77.0365427,
          -77.03655315,
          null,
          -76.610759,
          -77.03655315,
          -94.45764031637654,
          -77.03655315,
          -77.0365427,
          -77.0365427,
          null,
          null,
          -84.39884086001581,
          36.8886162,
          -77.0365427,
          -96.78152810147064,
          -77.03655315,
          -85.6545729,
          36.7416612,
          -91.18738,
          -77.03655315,
          -77.0414734922376,
          -0.1933723992148674,
          -0.8988297590207961,
          36.7416612,
          null,
          -83.7209112504498,
          44.25612450726408,
          null,
          -77.12335871396549,
          36.7416612,
          -75.1635262,
          36.7416612,
          -77.34201604164966,
          -77.03655315,
          -77.0365427,
          35.2257626,
          -77.03655315,
          -77.03655315,
          -77.02295618530775,
          -77.0452084,
          -77.05017197314066,
          36.7416612,
          -71.0582912,
          -87.01813913248446,
          -73.9905606,
          -87.6244212,
          -77.0365427,
          -77.0365427,
          -77.03655315,
          null,
          36.7416612,
          null,
          126.9782914,
          32.8540482,
          -94.9508229,
          -79.93811493945894,
          -122.16936535498309,
          -81.61227444920297,
          36.7416612,
          null,
          -77.03655315,
          21.01378910682335,
          null,
          -90.3712169,
          -158.03648372697478,
          -74.0060152,
          36.7416612,
          -74.0060152,
          -81.1881557,
          -74.0060152,
          -77.03655315,
          null,
          -77.0365427,
          -77.02024483028318,
          0.3138532,
          36.7416612,
          36.7416612,
          36.7416612,
          -77.05017197314066,
          36.7416612,
          -87.41048112721177,
          -77.03655315,
          -77.04847501906156,
          -77.03868249285715,
          -77.0365427,
          null,
          -97.7084250211076,
          -77.0841585,
          -119.8126581,
          36.7416612,
          -77.0841585,
          -77.1588685,
          36.7416612,
          132.4518156,
          36.7416612,
          36.7416612,
          -80.8430827,
          35.181634190650314,
          101.7064587,
          36.7416612,
          -77.03655315,
          36.7416612
         ],
         "marker": {
          "color": "#636efa",
          "symbol": "circle"
         },
         "mode": "markers",
         "name": "",
         "showlegend": false,
         "type": "scattergeo"
        }
       ],
       "layout": {
        "autosize": true,
        "geo": {
         "center": {},
         "domain": {
          "x": [
           0,
           1
          ],
          "y": [
           0,
           1
          ]
         },
         "projection": {
          "type": "natural earth"
         }
        },
        "legend": {
         "tracegroupgap": 0
        },
        "margin": {
         "t": 60
        },
        "template": {
         "data": {
          "bar": [
           {
            "error_x": {
             "color": "#2a3f5f"
            },
            "error_y": {
             "color": "#2a3f5f"
            },
            "marker": {
             "line": {
              "color": "#E5ECF6",
              "width": 0.5
             },
             "pattern": {
              "fillmode": "overlay",
              "size": 10,
              "solidity": 0.2
             }
            },
            "type": "bar"
           }
          ],
          "barpolar": [
           {
            "marker": {
             "line": {
              "color": "#E5ECF6",
              "width": 0.5
             },
             "pattern": {
              "fillmode": "overlay",
              "size": 10,
              "solidity": 0.2
             }
            },
            "type": "barpolar"
           }
          ],
          "carpet": [
           {
            "aaxis": {
             "endlinecolor": "#2a3f5f",
             "gridcolor": "white",
             "linecolor": "white",
             "minorgridcolor": "white",
             "startlinecolor": "#2a3f5f"
            },
            "baxis": {
             "endlinecolor": "#2a3f5f",
             "gridcolor": "white",
             "linecolor": "white",
             "minorgridcolor": "white",
             "startlinecolor": "#2a3f5f"
            },
            "type": "carpet"
           }
          ],
          "choropleth": [
           {
            "colorbar": {
             "outlinewidth": 0,
             "ticks": ""
            },
            "type": "choropleth"
           }
          ],
          "contour": [
           {
            "colorbar": {
             "outlinewidth": 0,
             "ticks": ""
            },
            "colorscale": [
             [
              0,
              "#0d0887"
             ],
             [
              0.1111111111111111,
              "#46039f"
             ],
             [
              0.2222222222222222,
              "#7201a8"
             ],
             [
              0.3333333333333333,
              "#9c179e"
             ],
             [
              0.4444444444444444,
              "#bd3786"
             ],
             [
              0.5555555555555556,
              "#d8576b"
             ],
             [
              0.6666666666666666,
              "#ed7953"
             ],
             [
              0.7777777777777778,
              "#fb9f3a"
             ],
             [
              0.8888888888888888,
              "#fdca26"
             ],
             [
              1,
              "#f0f921"
             ]
            ],
            "type": "contour"
           }
          ],
          "contourcarpet": [
           {
            "colorbar": {
             "outlinewidth": 0,
             "ticks": ""
            },
            "type": "contourcarpet"
           }
          ],
          "heatmap": [
           {
            "colorbar": {
             "outlinewidth": 0,
             "ticks": ""
            },
            "colorscale": [
             [
              0,
              "#0d0887"
             ],
             [
              0.1111111111111111,
              "#46039f"
             ],
             [
              0.2222222222222222,
              "#7201a8"
             ],
             [
              0.3333333333333333,
              "#9c179e"
             ],
             [
              0.4444444444444444,
              "#bd3786"
             ],
             [
              0.5555555555555556,
              "#d8576b"
             ],
             [
              0.6666666666666666,
              "#ed7953"
             ],
             [
              0.7777777777777778,
              "#fb9f3a"
             ],
             [
              0.8888888888888888,
              "#fdca26"
             ],
             [
              1,
              "#f0f921"
             ]
            ],
            "type": "heatmap"
           }
          ],
          "heatmapgl": [
           {
            "colorbar": {
             "outlinewidth": 0,
             "ticks": ""
            },
            "colorscale": [
             [
              0,
              "#0d0887"
             ],
             [
              0.1111111111111111,
              "#46039f"
             ],
             [
              0.2222222222222222,
              "#7201a8"
             ],
             [
              0.3333333333333333,
              "#9c179e"
             ],
             [
              0.4444444444444444,
              "#bd3786"
             ],
             [
              0.5555555555555556,
              "#d8576b"
             ],
             [
              0.6666666666666666,
              "#ed7953"
             ],
             [
              0.7777777777777778,
              "#fb9f3a"
             ],
             [
              0.8888888888888888,
              "#fdca26"
             ],
             [
              1,
              "#f0f921"
             ]
            ],
            "type": "heatmapgl"
           }
          ],
          "histogram": [
           {
            "marker": {
             "pattern": {
              "fillmode": "overlay",
              "size": 10,
              "solidity": 0.2
             }
            },
            "type": "histogram"
           }
          ],
          "histogram2d": [
           {
            "colorbar": {
             "outlinewidth": 0,
             "ticks": ""
            },
            "colorscale": [
             [
              0,
              "#0d0887"
             ],
             [
              0.1111111111111111,
              "#46039f"
             ],
             [
              0.2222222222222222,
              "#7201a8"
             ],
             [
              0.3333333333333333,
              "#9c179e"
             ],
             [
              0.4444444444444444,
              "#bd3786"
             ],
             [
              0.5555555555555556,
              "#d8576b"
             ],
             [
              0.6666666666666666,
              "#ed7953"
             ],
             [
              0.7777777777777778,
              "#fb9f3a"
             ],
             [
              0.8888888888888888,
              "#fdca26"
             ],
             [
              1,
              "#f0f921"
             ]
            ],
            "type": "histogram2d"
           }
          ],
          "histogram2dcontour": [
           {
            "colorbar": {
             "outlinewidth": 0,
             "ticks": ""
            },
            "colorscale": [
             [
              0,
              "#0d0887"
             ],
             [
              0.1111111111111111,
              "#46039f"
             ],
             [
              0.2222222222222222,
              "#7201a8"
             ],
             [
              0.3333333333333333,
              "#9c179e"
             ],
             [
              0.4444444444444444,
              "#bd3786"
             ],
             [
              0.5555555555555556,
              "#d8576b"
             ],
             [
              0.6666666666666666,
              "#ed7953"
             ],
             [
              0.7777777777777778,
              "#fb9f3a"
             ],
             [
              0.8888888888888888,
              "#fdca26"
             ],
             [
              1,
              "#f0f921"
             ]
            ],
            "type": "histogram2dcontour"
           }
          ],
          "mesh3d": [
           {
            "colorbar": {
             "outlinewidth": 0,
             "ticks": ""
            },
            "type": "mesh3d"
           }
          ],
          "parcoords": [
           {
            "line": {
             "colorbar": {
              "outlinewidth": 0,
              "ticks": ""
             }
            },
            "type": "parcoords"
           }
          ],
          "pie": [
           {
            "automargin": true,
            "type": "pie"
           }
          ],
          "scatter": [
           {
            "fillpattern": {
             "fillmode": "overlay",
             "size": 10,
             "solidity": 0.2
            },
            "type": "scatter"
           }
          ],
          "scatter3d": [
           {
            "line": {
             "colorbar": {
              "outlinewidth": 0,
              "ticks": ""
             }
            },
            "marker": {
             "colorbar": {
              "outlinewidth": 0,
              "ticks": ""
             }
            },
            "type": "scatter3d"
           }
          ],
          "scattercarpet": [
           {
            "marker": {
             "colorbar": {
              "outlinewidth": 0,
              "ticks": ""
             }
            },
            "type": "scattercarpet"
           }
          ],
          "scattergeo": [
           {
            "marker": {
             "colorbar": {
              "outlinewidth": 0,
              "ticks": ""
             }
            },
            "type": "scattergeo"
           }
          ],
          "scattergl": [
           {
            "marker": {
             "colorbar": {
              "outlinewidth": 0,
              "ticks": ""
             }
            },
            "type": "scattergl"
           }
          ],
          "scattermapbox": [
           {
            "marker": {
             "colorbar": {
              "outlinewidth": 0,
              "ticks": ""
             }
            },
            "type": "scattermapbox"
           }
          ],
          "scatterpolar": [
           {
            "marker": {
             "colorbar": {
              "outlinewidth": 0,
              "ticks": ""
             }
            },
            "type": "scatterpolar"
           }
          ],
          "scatterpolargl": [
           {
            "marker": {
             "colorbar": {
              "outlinewidth": 0,
              "ticks": ""
             }
            },
            "type": "scatterpolargl"
           }
          ],
          "scatterternary": [
           {
            "marker": {
             "colorbar": {
              "outlinewidth": 0,
              "ticks": ""
             }
            },
            "type": "scatterternary"
           }
          ],
          "surface": [
           {
            "colorbar": {
             "outlinewidth": 0,
             "ticks": ""
            },
            "colorscale": [
             [
              0,
              "#0d0887"
             ],
             [
              0.1111111111111111,
              "#46039f"
             ],
             [
              0.2222222222222222,
              "#7201a8"
             ],
             [
              0.3333333333333333,
              "#9c179e"
             ],
             [
              0.4444444444444444,
              "#bd3786"
             ],
             [
              0.5555555555555556,
              "#d8576b"
             ],
             [
              0.6666666666666666,
              "#ed7953"
             ],
             [
              0.7777777777777778,
              "#fb9f3a"
             ],
             [
              0.8888888888888888,
              "#fdca26"
             ],
             [
              1,
              "#f0f921"
             ]
            ],
            "type": "surface"
           }
          ],
          "table": [
           {
            "cells": {
             "fill": {
              "color": "#EBF0F8"
             },
             "line": {
              "color": "white"
             }
            },
            "header": {
             "fill": {
              "color": "#C8D4E3"
             },
             "line": {
              "color": "white"
             }
            },
            "type": "table"
           }
          ]
         },
         "layout": {
          "annotationdefaults": {
           "arrowcolor": "#2a3f5f",
           "arrowhead": 0,
           "arrowwidth": 1
          },
          "autotypenumbers": "strict",
          "coloraxis": {
           "colorbar": {
            "outlinewidth": 0,
            "ticks": ""
           }
          },
          "colorscale": {
           "diverging": [
            [
             0,
             "#8e0152"
            ],
            [
             0.1,
             "#c51b7d"
            ],
            [
             0.2,
             "#de77ae"
            ],
            [
             0.3,
             "#f1b6da"
            ],
            [
             0.4,
             "#fde0ef"
            ],
            [
             0.5,
             "#f7f7f7"
            ],
            [
             0.6,
             "#e6f5d0"
            ],
            [
             0.7,
             "#b8e186"
            ],
            [
             0.8,
             "#7fbc41"
            ],
            [
             0.9,
             "#4d9221"
            ],
            [
             1,
             "#276419"
            ]
           ],
           "sequential": [
            [
             0,
             "#0d0887"
            ],
            [
             0.1111111111111111,
             "#46039f"
            ],
            [
             0.2222222222222222,
             "#7201a8"
            ],
            [
             0.3333333333333333,
             "#9c179e"
            ],
            [
             0.4444444444444444,
             "#bd3786"
            ],
            [
             0.5555555555555556,
             "#d8576b"
            ],
            [
             0.6666666666666666,
             "#ed7953"
            ],
            [
             0.7777777777777778,
             "#fb9f3a"
            ],
            [
             0.8888888888888888,
             "#fdca26"
            ],
            [
             1,
             "#f0f921"
            ]
           ],
           "sequentialminus": [
            [
             0,
             "#0d0887"
            ],
            [
             0.1111111111111111,
             "#46039f"
            ],
            [
             0.2222222222222222,
             "#7201a8"
            ],
            [
             0.3333333333333333,
             "#9c179e"
            ],
            [
             0.4444444444444444,
             "#bd3786"
            ],
            [
             0.5555555555555556,
             "#d8576b"
            ],
            [
             0.6666666666666666,
             "#ed7953"
            ],
            [
             0.7777777777777778,
             "#fb9f3a"
            ],
            [
             0.8888888888888888,
             "#fdca26"
            ],
            [
             1,
             "#f0f921"
            ]
           ]
          },
          "colorway": [
           "#636efa",
           "#EF553B",
           "#00cc96",
           "#ab63fa",
           "#FFA15A",
           "#19d3f3",
           "#FF6692",
           "#B6E880",
           "#FF97FF",
           "#FECB52"
          ],
          "font": {
           "color": "#2a3f5f"
          },
          "geo": {
           "bgcolor": "white",
           "lakecolor": "white",
           "landcolor": "#E5ECF6",
           "showlakes": true,
           "showland": true,
           "subunitcolor": "white"
          },
          "hoverlabel": {
           "align": "left"
          },
          "hovermode": "closest",
          "mapbox": {
           "style": "light"
          },
          "paper_bgcolor": "white",
          "plot_bgcolor": "#E5ECF6",
          "polar": {
           "angularaxis": {
            "gridcolor": "white",
            "linecolor": "white",
            "ticks": ""
           },
           "bgcolor": "#E5ECF6",
           "radialaxis": {
            "gridcolor": "white",
            "linecolor": "white",
            "ticks": ""
           }
          },
          "scene": {
           "xaxis": {
            "backgroundcolor": "#E5ECF6",
            "gridcolor": "white",
            "gridwidth": 2,
            "linecolor": "white",
            "showbackground": true,
            "ticks": "",
            "zerolinecolor": "white"
           },
           "yaxis": {
            "backgroundcolor": "#E5ECF6",
            "gridcolor": "white",
            "gridwidth": 2,
            "linecolor": "white",
            "showbackground": true,
            "ticks": "",
            "zerolinecolor": "white"
           },
           "zaxis": {
            "backgroundcolor": "#E5ECF6",
            "gridcolor": "white",
            "gridwidth": 2,
            "linecolor": "white",
            "showbackground": true,
            "ticks": "",
            "zerolinecolor": "white"
           }
          },
          "shapedefaults": {
           "line": {
            "color": "#2a3f5f"
           }
          },
          "ternary": {
           "aaxis": {
            "gridcolor": "white",
            "linecolor": "white",
            "ticks": ""
           },
           "baxis": {
            "gridcolor": "white",
            "linecolor": "white",
            "ticks": ""
           },
           "bgcolor": "#E5ECF6",
           "caxis": {
            "gridcolor": "white",
            "linecolor": "white",
            "ticks": ""
           }
          },
          "title": {
           "x": 0.05
          },
          "xaxis": {
           "automargin": true,
           "gridcolor": "white",
           "linecolor": "white",
           "ticks": "",
           "title": {
            "standoff": 15
           },
           "zerolinecolor": "white",
           "zerolinewidth": 2
          },
          "yaxis": {
           "automargin": true,
           "gridcolor": "white",
           "linecolor": "white",
           "ticks": "",
           "title": {
            "standoff": 15
           },
           "zerolinecolor": "white",
           "zerolinewidth": 2
          }
         }
        }
       }
      },
      "image/png": "[encoded data removed]",
      "text/html": [
       "<div>                            <div id=\"61053939-97b6-48b8-875d-a4160b28c4d2\" class=\"plotly-graph-div\" style=\"height:525px; width:100%;\"></div>            <script type=\"text/javascript\">                require([\"plotly\"], function(Plotly) {                    window.PLOTLYENV=window.PLOTLYENV || {};                                    if (document.getElementById(\"61053939-97b6-48b8-875d-a4160b28c4d2\")) {                    Plotly.newPlot(                        \"61053939-97b6-48b8-875d-a4160b28c4d2\",                        [{\"customdata\":[[\"Washington Hilton, Washington D.C.\",0.178],[\"Chicago, Illinois\",0.162],[\"Cairo, Egypt\",0.11],[\"Washington D.C.\",0.061],[\"Washington Hilton Hotel, Washington D.C.\",0.145],[\"unknown_location\",0.145],[\"Washington D.C.\",0.086],[\"Washington D.C.\",0.102],[\"Copenhagen, Denmark\",0.14],[\"Stavros Niarchos Foundation Cultural Center, Athens, Greece\",0.187],[\"Siri Fort Auditorium, New Delhi, India\",0.208],[\"Waterfront, Belfast, Northern Ireland\",0.148],[\"unknown_location\",0.095],[\"Fairfax, Virginia\",0.117],[\"Washington D.C.\",0.233],[\"Harborside Event Center, Fort Myers, Florida\",0.131],[\"Fleet Center, Boston\",0.153],[\"Kaneohe Bay Marine Base, Kaneohe, Hawaii\",0.109],[\"Beaverton, Oregon\",0.172],[\"unknown_location\",0.165],[\"Kailua, Hawaii\",0.161],[\"Washington D.C.\",0.134],[\"Springfield, Illinois\",0.15],[\"unknown_location\",0.139],[\"Veterans Memorial Auditorium, Des Moines, Iowa\",0.106],[\"Manila, Philippines\",0.206],[\"unknown_location\",0.158],[\"White House, Washington D.C.\",0.167],[\"White House, Washington D.C.\",0.06],[\"American University, Washington D.C.\",0.076],[\"White House, Washington D.C.\",0.151],[\"White House, Washington D.C.\",0.194],[\"New York, New York\",0.062],[\"Vermont Avenue Baptist Church, Washington D.C.\",0.091],[\"Newport News Shipbuilding, Newport News, Virginia\",0.122],[\"Adas Israel Congregation, Washington D.C.\",0.182],[\"McCormick Place, Chicago, Illinois\",0.185],[\"White House, Washington D.C.\",0.106],[\"unknown_location\",0.179],[\"Newtown, Connecticut\",0.135],[\"Washington D.C.\",0.152],[\"Washington D.C.\",0.108],[\"New York, New York\",0.057],[\"unknown_location\",0.165],[\"unknown_location\",0.268],[\"White House, Washington D.C.\",0.214],[\"Santiago, Chile\",0.176],[\"unknown_location\",0.101],[\"Del Sol HS, Las Vegas, Nevada\",0.14],[\"White House, Washington D.C.\",0.223],[\"Washington D.C.\",0.158],[\"Pittsburgh, Pennsylvania\",0.119],[\"unknown_location\",0.132],[\"unknown_location\",0.166],[\"Minneapolis Convention Center, Minnesota\",0.202],[\"Pellissippi State Community College, Knoxville, Tennessee\",0.181],[\"Lyndon Baines Johnson Library, Austin, Texas\",0.117],[\"Washington D.C.\",0.152],[\"unknown_location\",-0.008],[\"unknown_location\",0.067],[\"unknown_location\",0.079],[\"White House, Washington D.C.\",0.145],[\"Washington D.C.\",0.153],[\"The Marine Barracks, Washington D.C.\",0.128],[\"The Pentagon, Washington D.C.\",0.121],[\"Lincoln Center, New York, New York\",0.172],[\"Washington D.C.\",0.178],[\"Yangon, Myanmar\",0.146],[\"White House, Washington D.C.\",0.058],[\"unknown_location\",0.284],[\"White House, Washington D.C.\",0.122],[\"Le Bourget, Paris, France\",0.132],[\"Washington D.C.\",0.183],[\"Annapolis, Maryland\",0.158],[\"Joint Base Myer-Henderson, Fort Myer, Virginia\",0.193],[\"White House, Washington D.C.\",0.119],[\"Camp Springs, Maryland\",0.085],[\"unknown_location\",0.151],[\"Sun Devil Stadium, Tempe, Arizona\",0.162],[\"Oslo City Hall, Oslo, Norway\",0.075],[\"Illinois State Capitol, Springfield, Illinois\",0.128],[\"Memphis, Tennessee\",0.151],[\"Hyde Park Career Academy, Chicago, Illinois\",0.206],[\"Washington D.C.\",0.189],[\"unknown_location\",0.144],[\"James S. Brady Press Briefing Room\",0.114],[\"unknown_location\",0.1],[\"Rose Garden, Washington D.C.\",0.117],[\"unknown_location\",0.19],[\"unknown_location\",0.133],[\"Washington D.C.\",0.121],[\"Georgetown University, Washington D.C.\",0.145],[\"unknown_location\",0.147],[\"Pariser Platz, Berlin, Germany\",0.183],[\"Israel Embassy, Washington D.C.\",0.141],[\"White House, Washington D.C.\",0.268],[\"White House, Washington D.C.\",0.135],[\"unknown_location\",0.159],[\"White House, Washington D.C.\",0.089],[\"Clamshell, Bagram Air Field\",0.185],[\"National Archives, Washington D.C.\",0.097],[\"unknown_location\",0.137],[\"Arlington National Cemetery, Arlington, Virginia\",0.225],[\"unknown_location\",0.155],[\"White House, Washington D.C.\",0.131],[\"unknown_location\",0.161],[\"White House, Washington D.C.\",0.218],[\"White House, Washington D.C.\",0.152],[\"Macomb Community College, Warren, Michigan\",0.122],[\"Washington D.C.\",0.079],[\"White House, Washington D.C.\",0.114],[\"Hyatt Regency, Chicago, Illinois\",0.135],[\"Washington D.C.\",0.168],[\"White House, Washington D.C.\",0.066],[\"New York, New York\",0.096],[\"unknown_location\",0.205],[\"Joint Base Myer-Henderson Hall, Virginia\",0.186],[\"New York, New York\",0.144],[\"unknown_location\",0.15],[\"University of Baylor, Waco, Texas\",0.178],[\"Washington National Cathedral, Washington D.C.\",0.238],[\"Teatro Municipal, Rio de Janeiro\",0.209],[\"unknown_location\",0.088],[\"Parwan Province, Afghanistan\",0.142],[\"Korean War Memorial, Seoul, South Korea\",0.126],[\"Victory Column\",0.112],[\"St. Paul, Minnesota\",0.167],[\"Walter E. Washington Convention Center, Washington D.C.\",0.139],[\"unknown_location\",0.12],[\"unknown_location\",0.143],[\"Washington Hilton Hotel, D.C.\",0.192],[\"unknown_location\",0.115],[\"White House, Washington D.C.\",0.265],[\"Ebenezer Baptist Church, Atlanta\",0.088],[\"Grande Isle, Louisiana\",0.173],[\"Washington D.C.\",0.152],[\"Capital Hilton, Washington D.C.\",0.156],[\"New York, New York\",0.13],[\"White House, Washington D.C.\",0.196],[\"African Union Headquarters, Addis Ababa, Ethiopia\",0.199],[\"Arlington, Virginia\",0.122],[\"unknown_location\",0.11],[\"Denver Police Academy, Denver. Colorado\",0.128],[\"Brisbane, Australia\",0.173],[\"Department of Justice, Washington D.C.\",0.103],[\"The National Mall, Washington D.C.\",0.137],[\"The Pentagon, Washington D.C.\",0.142],[\"unknown_location\",0.098],[\"James L. Knight International Center\",0.161],[\"unknown_location\",0.101],[\"Washington D.C.\",0.221],[\"McLean, Virginia\",0.199],[\"Georgetown University, Washington D.C.\",0.09],[\"unknown_location\",0.221],[\"White House, Washington D.C.\",0.182],[\"Westminster Hall, London\",0.117],[\"unknown_location\",0.128],[\"New York, New York\",0.162],[\"unknown_location\",0.164],[\"White House, Washington D.C.\",0.155],[\"West Point, New York\",0.081],[\"Washington D.C.\",0.146],[\"White House, Washington D.C.\",0.189],[\"Michie Stadium, West Point, New York\",0.141],[\"United States Air Force Academy, Colorado Springs, Colorado\",0.144],[\"White House, Washington D.C.\",0.192],[\"Department of Interior, Washington D.C.\",0.151],[\"Shima City, Japan\",0.099],[\"Rancho Mirage, California\",0.333],[\"Carnegie Mellon University, Pittsburgh, Pennsylvania\",0.229],[\"Arlington, Virginia\",0.153],[\"Hilton San Francisco Union Square, California\",0.162],[\"Treasury Department, Washington D.C.\",0.118],[\"National Defense University, Washington D.C.\",0.107],[\"Washington D.C.\",0.163],[\"Palais des Beaux Arts, Brussels, Belgium\",0.13],[\"unknown_location\",0.112],[\"McCormick Place Chicago, Illinois\",0.177],[\"Langley, Virginia\",0.195],[\"Consumer Financial Protection Bureau, Washington D.C.\",0.176],[\"White House, Washington D.C.\",0.05],[\"JFK Space Center, Merritt Island, Florida\",0.114],[\"Phillips Center for the Performing Arts, Orlando, Florida\",0.178],[\"Des Moines, Iowa\",0.087],[\"unknown_location\",0.076],[\"Our Lady of Perpetual Help Basilica, Boston\",0.22],[\"White House, Washington D.C.\",0.126],[\"White House, Washington D.C.\",0.153],[\"Edgartown, Massachusetts\",0.124],[\"unknown_location\",0.14],[\"Chicago, Illinois\",0.144],[\"New York, New York\",0.082],[\"Jacksonville, Florida\",0.194],[\"White House, Washington D.C.\",0.056],[\"Washington D.C.\",0.125],[\"MacDill Air Force Base, Tampa, Florida\",0.086],[\"Prince George County, Maryland\",0.182],[\"Jakarta, Indonesia\",0.189],[\"National Cathedral, Washington D.C.\",0.242],[\"unknown_location\",0.158],[\"Boston, Massachusetts\",0.184],[\"White House, Washington D.C.\",0.122],[\"unknown_location\",0.261],[\"White House, Washington D.C.\",0.179],[\"unknown_location\",0.358],[\"New York, New York\",0.105],[\"White House, Washington D.C.\",0.365],[\"Czech Republic\",0.102],[\"Ronald Reagan Building, Washington D.C.\",0.094],[\"unknown_location\",0.208],[\"Chicago, Illinois\",0.169],[\"unknown_location\",0.147],[\"Washington D.C.\",0.136],[\"unknown_location\",0.085],[\"U.S. Capitol, Washington D.C.\",0.1],[\"unknown_location\",0.163],[\"unknown_location\",0.128],[\"National Convention Center, Hanoi, Vietnam\",0.206],[\"Washington D.C.\",0.131],[\"Chicago, Illinois\",0.143],[\"Washington D.C.\",0.087],[\"Lotte New York Palace Hotel, New York City, New York\",0.185],[\"Hotel El Panama, Panama City, Panama\",0.229],[\"Atlanta, Georgia\",0.147],[\"Dallas, Texas\",0.12],[\"Washington D.C.\",0.23],[\"Cape Town, South Africa\",0.169],[\"unknown_location\",0.084],[\"unknown_location\",0.124],[\"White House, Washington D.C.\",0.178],[\"Washington D.C.\",0.144],[\"Hannover Messe Building 35, Hanover, Germany\",0.156],[\"unknown_location\",0.082],[\"New Delhi, India\",0.145],[\"unknown_location\",0.098],[\"Canberra, Australia\",0.149],[\"White House, Washington D.C.\",0.054],[\"Gran Teatro de la Habana, Havana, Cuba\",0.171],[\"White House, Washington D.C.\",0.174],[\"Atlanta Georgia\",0.149],[\"UN Headquarters, New York, New York\",0.137],[\"unknown_location\",0.137],[\"Andrew Sanchez Community Center, New Orleans, Louisiana\",0.154],[\"Lao National Cultural Hall, Vientiane, Laos\",0.18],[\"Washington D.C.\",0.135],[\"White House, Washington D.C.\",0.209],[\"Gostinny Dvor, Moscow, Russia\",0.118],[\"Baltimore, Maryland\",0.152],[\"White House, Washington D.C.\",0.112],[\"Missouri Southern University, Joplin Missouri\",0.145],[\"White House, Washington D.C.\",0.125],[\"Washington D.C.\",0.184],[\"Washington D.C.\",0.129],[\"First National Bank Stadium, Johannesburg, South Africa\",0.16],[\"Eisenhower Hall, West Point Military Academy, New York\",0.112],[\"Georgia Institute of Technology, Atlanta, Georgia\",0.198],[\"Safaricom Indoor Arena, Nairobi, Kenya\",0.142],[\"Washington D.C.\",0.128],[\"Southern Methodist University, Dallas, Texas\",0.194],[\"White House, Washington D.C.\",0.109],[\"Panama City, Panama\",0.187],[\"unknown_location\",0.08],[\"Baton Rouge, Louisiana\",0.192],[\"White House, Washington D.C.\",0.111],[\"National Mall, Washington D.C.\",0.17],[\"Accra International Conference Center, Accra, Ghana\",0.165],[\"Omaha Beach, Normandy, France\",0.163],[\"unknown_location\",0.016],[\"The Convention Center Brasil 21, Brasilia, Brazil\",0.179],[\"Northwestern High School, Flint, Michigan\",0.167],[\"Al Faw Palace, Baghdad, Iraq\",0.243],[\"James S. Brady Press Briefing Room\",0.146],[\"Bethesda, Maryland\",0.164],[\"unknown_location\",0.115],[\"Philadelphia, Pennsylvania\",0.091],[\"unknown_location\",0.174],[\"Camp Lejeune, North Carolina\",0.17],[\"White House, Washington D.C.\",0.088],[\"Washington D.C.\",0.018],[\"Jerusalem, Israel\",0.152],[\"White House, Washington D.C.\",0.116],[\"White House, Washington D.C.\",0.221],[\"Walter E. Washington Convention Center, Washington D.C.\",0.136],[\"Washington Hilton Hotel, Washington D.C.\",0.143],[\"Lincoln Memorial, Washington D.C.\",0.113],[\"unknown_location\",0.146],[\"Boston, Massachusetts\",0.149],[\"Edmund Pettus Bridge, Selma, Alabama\",0.159],[\"Cooper Union, New York, New York\",0.102],[\"Chicago, Illinois\",0.09],[\"Washington D.C.\",0.119],[\"Washington D.C.\",0.174],[\"White House, Washington D.C.\",0.242],[\"House of Commons Chamber, Ottawa, Canada\",0.153],[\"unknown_location\",0.096],[\"McKale Memorial Center, University of Arizona, Tucson\",0.181],[\"Seoul, Korea\",0.163],[\"Ankara, Turkey\",0.157],[\"Osawatomie, Kansas\",0.192],[\"College of Charleston, Charleston, South Carolina\",0.152],[\"Stanford University, Stanford, California\",0.202],[\"West Virginia State Capitol, Charleston, West Virginia\",0.2],[\"unknown_location\",0.198],[\"Anthropological Museum, Mexico City\",0.205],[\"White House, Washington D.C.\",0.135],[\"Castle Square, Warsaw, Poland\",0.18],[\"Nordea Concert Hall Tallinn, Estonia\",0.196],[\"Galesburg, Illinois\",0.166],[\"Oahu, Hawaii\",0.162],[\"New York, New York\",0.126],[\"unknown_location\",0.139],[\"New York, New York\",0.079],[\"Beckley, West Virginia\",0.164],[\"New York, New York\",0.119],[\"White House, Washington D.C.\",0.098],[\"St. Anthony of Padua Church Wilmington, Delaware\",0.182],[\"Washington D.C.\",0.09],[\"Constitution Center, Washington D.C.\",0.164],[\"Normandy, France\",0.079],[\"unknown_location\",0.041],[\"unknown_location\",0.226],[\"unknown_location\",0.123],[\"Lincoln Memorial, Washington D.C.\",0.158],[\"unknown_location\",0.101],[\"Northern Michigan University, Marquette, Michigan\",0.198],[\"White House, Washington D.C.\",0.131],[\"State Department, Washington D.C.\",0.114],[\"Eisenhower Building, Washington D.C.\",0.219],[\"Washington D.C.\",0.205],[\"U.S. Capitol Western Front, Washington D.C.\",0.081],[\"Fort Hood, Texas\",0.146],[\"Arlington, Virginia\",0.243],[\"Reno, Nevada\",0.183],[\"unknown_location\",0.122],[\"Arlington, Virginia\",0.159],[\"Langley, Virginia\",0.148],[\"unknown_location\",0.131],[\"Hiroshima, Japan\",0.122],[\"unknown_location\",0.145],[\"unknown_location\",0.129],[\"Charlotte, North Carolina\",0.139],[\"Mount Herzl, Jerusalem, Israel\",0.164],[\"Shangri-La Hotel, Kuala Lumpur, Malaysia\",0.164],[\"unknown_location\",0.08],[\"White House, Washington D.C.\",0.076],[\"unknown_location\",0.121]],\"geo\":\"geo\",\"hovertemplate\":\"<b>%{hovertext}</b><br><br>latitude=%{lat}<br>longitude=%{lon}<br>location=%{customdata[0]}<br>textblob=%{customdata[1]}<extra></extra>\",\"hovertext\":[\"Prayer_Breakfast_2016\",\"Security_Team_Announcement\",\"Cairo_University\",\"Umpqua_Community_College_Shootings\",\"White_House_Correspondent_Dinner_2013\",\"Border_Security_and_Immigration_Reform\",\"Senate_Floor_Immigration_Reform\",\"Holocaust_Days_of_Remembrance\",\"UN_Copenhagen_Climate_Change\",\"People_of_Greece\",\"India_Speech_at_New_Delhi\",\"Northern_Ireland_Speech\",\"Fixing_Immigration_Policy\",\"George_Mason_21st_Century_Economy\",\"Prayer_Breakfast_2014\",\"Aurora_Tragedy\",\"2004_DNC_Address\",\"NW_Flight_253_Update\",\"Trade_Trans_Pacific_at_Nike\",\"Boston_Marathon_Bombing_First_Statement\",\"Flight_253_Terrorist_Attempt_Press_Statement\",\"Joint_Session_on_Economy_and_Jobs\",\"Announces_Candidacy\",\"Gun_Violence_Exec_Order_23\",\"Barack_Obama_-_Jefferson-Jackson_Dinner\",\"Fort_Bonifacio\",\"State_of_the_Union_2015\",\"USSC_Ruling_Affordable_Care_Act\",\"Senate_Vote_Background_Check\",\"Comprehensive_Immigration_Reform\",\"Muammar_Qaddafi_Death\",\"Iraq_War_Responsibly_Ending\",\"UNGA_2012\",\"MLK_Remembrance\",\"Sequester_Impact_Newport_News\",\"Jewish_American_Heritage_Month\",\"Farewell_Address\",\"Afghanistan_Troop_Reduction\",\"Sandy_Hook_Elementary_School\",\"Newtown_Vigil_Address\",\"White_House_Correspondents_Dinner_2011\",\"Iran_Deal_American_University\",\"UNGA_68th_Session\",\"Weekly_Address_on_Cuba\",\"Elena_Kagan_USSC_Nomination\",\"Joe_Biden_Medal_of_Freedom\",\"Chile_Latin_America\",\"State_of_the_Nation_2009\",\"Comprehensive_Immigration_Reform_Vegas\",\"BRAIN_Initiative\",\"Iraq_War_After_4_Years\",\"Carnegie_Mellon_Economy\",\"First_Presidential_Weekly_Address\",\"Global_Climate_Message\",\"American_Legion_Conference\",\"Community_College_Plan\",\"Civil_Rights_Summit_LBJ\",\"State_of_the_Union_2011\",\"Rosa_Parks_Statue_Dedication\",\"Burundi_People_Message\",\"Buchenwald_Concentration_Camp\",\"South_Carolina_AME_Church_Shooting\",\"State_of_the_Union_2013\",\"Navy_Yard_Shooting_Memorial\",\"ISIL_Pentagon_Update\",\"Walter_Cronkite_Memorial\",\"Chicago_Cubs_WH_Visit\",\"Yangon_University\",\"Benghazi_Attacks_Rose_Garden\",\"On_the_Passing_of_Nelson_Mandela\",\"Iraqi_Freedom_End\",\"COP21\",\"Senate_Speech_on_Ohio_Electoral_Vote\",\"Naval_Academy_Commencement\",\"Armed_Forces_Farewell\",\"US_Govt_Shutdown_Statement\",\"Energy_Security_AAFB\",\"Candidate_Exploratory_Announcement\",\"ASU_Commencement\",\"Nobel_Lecture\",\"Illinois_General_Assembly\",\"Booker_T_Washington\",\"Middle_Class_Economy\",\"Congressional_Black_Caucus\",\"Notre_Dame_Commencement\",\"Benghazi_Remains_Transfer\",\"Auschwitz_and_Birkenau_Liberation_65th\",\"Iran_Nuclear_Agreement\",\"Disabled_Veterans_Conference\",\"GW_Fiscal_Policy\",\"Oval_Office_BP\",\"Energy_Security_Georgetown\",\"Senate_Floor_Speech_on_Voting_Rights_Act_Renewal\",\"Brandenburg_Gate_Speech\",\"Righteous_Among_Nations_Ceremony\",\"IRS_Misconduct\",\"Merrick_Garland_USSC_Nomination\",\"Iran_Nuclear_Accord\",\"Cyber_Infrastructure_US\",\"Afghanistan_US_Troops_Bagram\",\"National_Security_National_Archives\",\"Nurses_Association\",\"Veterans_Day_Address_2013\",\"911_Pentagon_Memorial_2010\",\"Gun_Violence_Reduction_Steps\",\"US_Detainees_Released\",\"Pope_Francis_White_House_Welcome\",\"Hostage_Policy_Review\",\"Graduation_Initiative\",\"State_of_the_Union_2010\",\"Clean_Power_Plan\",\"American_Medical_Association\",\"Hurricane_Sandy_Red_Cross\",\"Hostage_Drone_Death\",\"United_Nations_Security_Council_2014\",\"Boston_Marathon_Bombing_Second_Statement\",\"Martin_Dempsey_Retirement\",\"UN_Ebola_Meeting\",\"Egypt_History_Revolution\",\"West_Fertilizer_Tragedy_Memorial\",\"Dorothy_Height_Eulogy\",\"Rio_de_Janeiro\",\"Dignity_and_Courage_of_Iranians\",\"Bagram_Air_Base_December_2010\",\"Korean_War_Armistice_60\",\"Berlin_Address\",\"Nomination_Victory\",\"American_Israel_Public_Affairs_Committee\",\"Osama_bin_Laden_Death\",\"Knox_College_Commencement\",\"White_House_Correspondents_Dinner_First\",\"Post_Election_Economy\",\"Ebola_Response_Update\",\"Ebenezer_Baptist\",\"Grande_Isle_Briefing\",\"National_Chamber_of_Commerce\",\"White_House_Correspondents_Dinner_2016\",\"United_Nations_GA_2016\",\"Aging_Conference_White_House\",\"African_Union_Address\",\"911_Pentagon_Memorial_2009\",\"Address_on_Libya\",\"Gun_Violence_Denver\",\"Queensland_University\",\"US_Intelligence_Program_Review_Outcome\",\"MLK_Memorial_Dedication\",\"Military_Strategy_Review\",\"Aviation_Security\",\"Miami_Dade_College_Commencement\",\"General_McChrystal_Afghanistan\",\"Senate_Floor_Coretta_King\",\"NCTC_2015\",\"New_Foundation_Georgetown\",\"Kalamazoo_HS_Commencement\",\"Debt_Compromise_Remarks\",\"British_Parliament\",\"SSG_Bryan_Pitts_MOH\",\"Barnard_College_Commencement\",\"State_of_the_Union_2014\",\"Repeal_Oil_and_Gas_Subsidies\",\"US_Military_Academy_Commencement_2014\",\"Prayer_Breakfast_2011\",\"Affordable_Care_Act_Logistical_Challenges\",\"West_Point_Commencement_2010\",\"US_Air_Force_Commencement_Speech\",\"Paris_Climate_Agreement\",\"Tribal_Nations_Conference\",\"Shinzo_Abe_Presser_Japan\",\"Antonin_Scalia_Passing\",\"Carnegie_Robotics_Center\",\"NCCIC\",\"Mayors_Conference_2015\",\"ISIL_Briefing_June_2016\",\"Libya_Nation_Speech\",\"Naturalization_National_Archives\",\"European_Youth\",\"Regina_Benjamin_Nomination\",\"Second_Presidential_Election_Victory_Speech\",\"CIA_Intelligence_Community\",\"Executive_Order_13681_Signing\",\"Orlando_Shootings_Statement\",\"NASA_21st_Century\",\"Orlando_Community\",\"Iowa_Caucus_Victory_Speech\",\"Barack_Obama_-_ISIL_Update_02-25-16\",\"Ted_Kennedy_Eulogy\",\"Guantanamo_Bay_Closing\",\"PM_Netanyahu_Speech\",\"Ferguson_and_Northern_Iraq\",\"Libya_Violence_Must_Stop\",\"Announces_Commerce_Secretary_Designate\",\"United_Nations_General_Assembly_2014\",\"Recovery_and_Reinvestment_Act_2016\",\"Presser_XMas_Terrorist_Attempt\",\"State_of_the_Union_2012\",\"On_Counterterrorism_Approach_2016\",\"Farewell_to_Staff_and_Supporters\",\"Indonesia_University\",\"Daniel_Inouye_Eulogy\",\"Iran_Accord_Statement\",\"Holy_Cross_Interfaith_Prayer_Service\",\"Economic_Crisis_and_Executive_Compensation_Salary_Cap\",\"Iraq_War_Veteran_Gala_Toast\",\"Shimon_Peres_Medal_of_Freedom\",\"Hillary_Clinton_Endorsement\",\"United_Nations_on_Palestinian_Statehood\",\"First_Meeting_with_President_Elect_Donald_Trump\",\"Hradany_Square_Prague\",\"Barack_Obama_-_Dodd-Frank_Signing\",\"Prayer_Breakfast_2015\",\"New_Economic_Team\",\"Immigration_Senate_Call\",\"Health_Care_Law_Signing\",\"Senate_Floor_Speech_on_the_Patriot_Act\",\"Barack_Obama_-_13th_Amendment_150-Year_Anniversary\",\"Democrat_Caucus_Health_Care\",\"AIPAC_2012\",\"Speech_to_the_Vietnam_People\",\"Paris_Terrorist_Attacks\",\"Presidential_Victory_Speech\",\"Brookings_Institute\",\"NY_NJ_Explosions\",\"Civil_Society_Forum_Panama\",\"Morehouse_College_Commencement\",\"Dallas_Police_Memorial_Address\",\"Go_Presidential_Election_Outcome_2016\",\"Capetown_University\",\"2010_Budget_to_Congress\",\"Cuba_Policy_Changes\",\"USSC_Affordable_Care_Act_Ruling\",\"Howard_University_Commencement\",\"Europe_Peoples_Hannover\",\"ISIL_Force_Authorization_Request\",\"Indian_Parliament\",\"Senate_Floor_Speech_on_Wall_Street_Bailout_Bill\",\"Australian_Parliament\",\"Iraq_Airstrikes_and_Humanitarian_Aid_New\",\"Cuba_People_Speech\",\"Defense_Dept_Personnel\",\"Ebola_CDC\",\"United_Nations_GA_2015\",\"Counter_ISIL_Campaign_Update\",\"Katrina_10_Years\",\"Laos_People\",\"National_Holocaust_Memorial_Museum\",\"Weekly_Address_Iraq_War_Service\",\"Moscow_New_Economic_School\",\"Islamic_Society_Baltimore\",\"Debt_Compromise_Agreement\",\"Joplin_Tornado_Victims_Memorial\",\"Dangers_of_Default\",\"Iftar_Dinner_on_Religious_Tolerance\",\"Second_Presidential_Inaugural_Address\",\"Mandela_Public_Memorial_Address\",\"Afghanistan_War_Troop_Surge\",\"Student_Aid_Bill_of_Rights\",\"Kenya_People_Speech\",\"White_House_Correspondent_Dinner_2014\",\"GWB_Library_Dedication\",\"Countering_Violent_Religious_Extremism\",\"Summit_Americas_Plenary\",\"Barack_Obama_-_Weekly_Address_01-01-16\",\"Baton_Rouge_Flooding\",\"Rose_Garden_Economy_and_Deficit\",\"Barack_Obama_-_African-American_History_Museum_Dedication\",\"Ghana_Parliament\",\"DDay_70\",\"Senate_Speech_Iraq_Federalism_Amendment\",\"Odyssey_Dawn\",\"Flint_Michigan_Community\",\"Iraq_Multinational_Troops\",\"Hurricane_Sandy_ERT\",\"Ebola_NIH_Research\",\"Prayer_Breakfast_2010\",\"More_Perfect_Union\",\"Hispanic_Chamber_of_Commerce\",\"Iraq_War_Camp_Lejeune\",\"Chemical_Weapons_Syria\",\"Syria_Speech_to_the_Nation\",\"Jerusalem_Intl_Convention_Center_Speech\",\"Salvatore_Giunta_Medal_of_Honor\",\"Kennedy_Center_Honorees_2016\",\"United_State_of_Women\",\"White_House_Correspondents_Dinner_2010\",\"Lincoln_Bicentennial\",\"Pensacola_Military_Personnel\",\"Ted_Kennedy_Institute_Dedication\",\"Selma_50_March\",\"Reforming_Wall_Street\",\"First_Press_Conference\",\"Final_State_of_the_Union_Address\",\"Lincoln_Memorial\",\"Golden_State_Warriors\",\"Canada_Parliament\",\"Trayvon_Martin\",\"Tucson_Memorial_Address\",\"Hankuk_University\",\"Turkish_Parliament\",\"New_Nationalism_at_Osawatomie_HS\",\"Clementa_Pinckney_Eulogy\",\"Stanford_Cybersecurity_Summit\",\"Robert_Bryd_Eulogy\",\"Fort_Campbell\",\"Mexico_Address\",\"Afghanistan_Statement\",\"Polish_Freedom_Day_25\",\"Estonia_People\",\"Knox_College_Economy\",\"Pearl_Harbor_Address\",\"UN_High_Level_Libya\",\"No_Child_Left_Behind_Blueprint\",\"United_Nations_General_Assembly\",\"Eulogy_West_Virginia_Coal_Miners\",\"UNGA_2010\",\"Emil_Kapaun_Medal_of_Honor\",\"Beau_Biden_Eulogy\",\"Rosa_Parks\",\"FTC_2014\",\"DDay_65\",\"Justice_Stevens_and_West_Virginia_Mining_Tragedy\",\"Fathers_Day_2010\",\"ISIL_\",\"Let_Freedom_Ring_Ceremony\",\"To_Congress_on_Health_Care\",\"National_Wireless_Initiative\",\"Congress_Call_Health_Care_Reform\",\"Middle_East_Diplomacy\",\"Every_Student_Succeeds_Signing\",\"Birth_Certificate_Release\",\"Inaugural_Address\",\"Fort_Hoot_Memorial\",\"911_After_15_Years\",\"VFW_2012\",\"UN_Iran_Sanctions\",\"Wakefield_Back_to_High_School\",\"CIA_First_Speech\",\"Health_Care_Bill_Passage\",\"Hiroshima_Peace_Memorial_Address\",\"Clinton_Global_Initiative_Human_Trafficking\",\"Boston_Marathon_Bombing_Third_Statement\",\"Second_Democratic_Nomination_Acceptance\",\"Shimon_Peres_Memorial\",\"ASEAN_Business_2015\",\"Finance_Crisis_Fee\",\"Oval_Office_Counter_Terrorism_Agenda\",\"Michigan_University_Commencement\"],\"lat\":[38.9165229,41.8755616,30.0443879,38.8950368,38.9165229,-0.9999454,38.8950368,38.8950368,55.6867243,37.9406226,null,54.5972712,-0.9999454,38.8462236,38.8950368,26.64469215,null,null,45.4871723,-0.9999454,21.394833,38.8950368,39.7990175,-0.9999454,null,14.5948914,-0.9999454,38.8976997,38.8976997,38.93804505,38.8976997,38.8976997,40.7127281,38.912027300000005,36.99416165,38.93679415,41.8515481,38.8976997,-0.9999454,41.412387,38.8950368,38.8950368,40.7127281,-0.9999454,-0.9999454,38.8976997,-33.4377756,-0.9999454,null,38.8976997,38.8950368,40.4416941,-0.9999454,-0.9999454,44.96933115,35.95608045,30.2858948,38.8950368,-0.9999454,-0.9999454,-0.9999454,38.8976997,38.8950368,null,null,40.7713396,38.8950368,16.7967129,38.8976997,-0.9999454,38.8976997,48.8727056,38.8950368,38.9786401,38.877461,38.8976997,38.8020807,-0.9999454,33.42655155,null,39.79842575,35.1335022,null,38.8950368,-0.9999454,null,-0.9999454,38.8974193,-0.9999454,-0.9999454,38.8950368,38.90893925,-0.9999454,52.516338950000005,38.9427494,38.8976997,38.8976997,-0.9999454,38.8976997,null,38.8927368,-0.9999454,38.8785384,-0.9999454,38.8976997,-0.9999454,38.8976997,38.8976997,42.50541065,38.8950368,38.8976997,41.8874488,38.8950368,38.8976997,40.7127281,-0.9999454,38.877461,40.7127281,-0.9999454,null,38.93065095,-22.2796324,-0.9999454,34.9797014,null,52.51450815,44.9497487,38.90503335,-0.9999454,-0.9999454,38.9165229,-0.9999454,38.8976997,33.7551362,29.2366172,38.8950368,38.9031219,40.7127281,38.8976997,9.0009975,38.8903961,-0.9999454,39.7493375,-27.4689682,null,null,null,-0.9999454,null,-0.9999454,38.8950368,38.9318369,38.90893925,-0.9999454,38.8976997,51.4995549,-0.9999454,40.7127281,-0.9999454,38.8976997,40.8512481,38.8950368,38.8976997,null,38.9912381,38.8976997,38.89445405,34.7246431,33.770859,40.4441897,38.8903961,37.78573425,38.89760605,38.86385125,38.8950368,50.84371815,-0.9999454,41.8515481,38.9464996,38.8981685,38.8976997,null,null,41.5910323,-0.9999454,null,38.8976997,38.8976997,41.3890052,-0.9999454,41.8755616,40.7127281,30.3321838,38.8976997,38.8950368,27.84364085,38.99203005,-6.1753942,38.93065095,-0.9999454,42.3602534,38.8976997,-0.9999454,38.8976997,-0.9999454,40.7127281,38.8976997,49.8167003,null,-0.9999454,41.8755616,-0.9999454,38.8950368,-0.9999454,38.8906766,-0.9999454,-0.9999454,21.00636225,38.8950368,41.8755616,38.8950368,40.75798035,null,33.7489924,32.7762719,38.8950368,-33.928992,-0.9999454,-0.9999454,38.8976997,38.8950368,null,-0.9999454,28.6138954,-0.9999454,-35.2975906,38.8976997,23.1369698,38.8976997,33.7489924,null,-0.9999454,null,17.96615525,38.8950368,38.8976997,null,39.2908816,38.8976997,37.09536065,38.8976997,38.8950368,38.8950368,null,null,33.776033,-1.2299123,38.8950368,32.841801149999995,38.8976997,30.1600827,-0.9999454,30.4459596,38.8976997,38.8854281,5.5543117,49.37781875,-0.9999454,null,43.07770265,33.2840084,null,38.98127255,-0.9999454,39.9527237,-0.9999454,34.63941505,38.8976997,38.8950368,31.7788242,38.8976997,38.8976997,38.90503335,38.9165229,38.889212150000006,-0.9999454,42.3602534,32.4047191,40.7295282,41.8755616,38.8950368,38.8950368,38.8976997,null,-0.9999454,null,37.5666791,39.9207886,38.4970321,32.7844246,37.43131385,38.3363062,-0.9999454,null,38.8976997,52.24793695,null,40.9475652,21.48343645,40.7127281,-0.9999454,40.7127281,37.7781702,40.7127281,38.8976997,null,38.8950368,38.884087050000005,49.0677708,-0.9999454,-0.9999454,-0.9999454,38.889212150000006,-0.9999454,46.56132435,38.8976997,38.8945036,38.8975537,38.8950368,null,31.2012636,38.8903961,39.5261206,-0.9999454,38.8903961,38.9464996,-0.9999454,34.3916058,-0.9999454,-0.9999454,35.2272086,31.77236115,3.1541698,-0.9999454,38.8976997,-0.9999454],\"legendgroup\":\"\",\"lon\":[-77.0452084,-87.6244212,31.2357257,-77.0365427,-77.0452084,36.7416612,-77.0365427,-77.0365427,12.5700724,23.6913101,null,-5.9211082,36.7416612,-77.3063733,-77.0365427,-81.871826378728,null,null,-122.80378,36.7416612,-157.72989134661873,-77.0365427,-89.6439575,36.7416612,null,120.9782618,36.7416612,-77.03655315,-77.03655315,-77.08939223651926,-77.03655315,-77.03655315,-74.0060152,-77.0287509853597,-76.44414948067441,-77.05752080109374,-87.6164334,-77.03655315,36.7416612,-73.31153913634024,-77.0365427,-77.0365427,-74.0060152,36.7416612,36.7416612,-77.03655315,-70.6504502,36.7416612,null,-77.03655315,-77.0365427,-79.9900861,36.7416612,36.7416612,-93.2737079434336,-83.96456658317715,-97.72928516466844,-77.0365427,36.7416612,36.7416612,36.7416612,-77.03655315,-77.0365427,null,null,-73.9835065,-77.0365427,96.1609916,-77.03655315,36.7416612,-77.03655315,2.32675,-77.0365427,-76.492786,-77.08082799848256,-77.03655315,-76.92419076299771,36.7416612,-111.93327690688318,null,-89.65491801985712,-89.9668758,null,-77.0365427,36.7416612,null,36.7416612,-77.03711315487126,36.7416612,36.7416612,-77.0365427,-77.07457962060826,36.7416612,13.378687202182196,-77.06842872907194,-77.03655315,-77.03655315,36.7416612,-77.03655315,null,-77.02292005112255,36.7416612,-77.06911170120969,36.7416612,-77.03655315,36.7416612,-77.03655315,-77.03655315,-82.9730483155511,-77.0365427,-77.03655315,-87.6228422065339,-77.0365427,-77.03655315,-74.0060152,36.7416612,-77.08082799848256,-74.0060152,36.7416612,null,-77.07059515120122,-42.536578235953726,36.7416612,68.9146703,null,13.350110811262352,-93.0931028,-77.02295618530775,36.7416612,36.7416612,-77.0452084,36.7416612,-77.03655315,-84.3742076,-89.9872942,-77.0365427,-77.0359328,-74.0060152,-77.03655315,38.74212826980348,-77.0841585,36.7416612,-104.88460913352296,153.0234991,null,null,null,36.7416612,null,36.7416612,-77.0365427,-77.1671337963356,-77.07457962060826,36.7416612,-77.03655315,-0.1254826,36.7416612,-74.0060152,36.7416612,-77.03655315,-72.5359869,-77.0365427,-77.03655315,null,-104.8588345994012,-77.03655315,-77.04260729303007,135.5542138,-116.42687402345577,-79.94271918393466,-77.0841585,-122.41043691372737,-77.03435185976429,-77.0157337847445,-77.0365427,4.359790395373073,36.7416612,-87.6164334,-77.1588685,-77.0399012,-77.03655315,null,null,-93.6046655,36.7416612,null,-77.03655315,-77.03655315,-70.5133599,36.7416612,-87.6244212,-74.0060152,-81.655651,-77.03655315,-77.0365427,-82.50287224965905,-76.94610290199051,106.827183,-77.07059515120122,36.7416612,-71.0582912,-77.03655315,36.7416612,-77.03655315,36.7416612,-74.0060152,-77.03655315,15.4749544,null,36.7416612,-87.6244212,36.7416612,-77.0365427,36.7416612,-77.008299,36.7416612,36.7416612,105.78709927095412,-77.0365427,-87.6244212,-77.0365427,-73.97476900451042,null,-84.3902644,-96.7968559,-77.0365427,18.417396,36.7416612,36.7416612,-77.03655315,-77.0365427,null,36.7416612,77.2090057,36.7416612,149.1012676,-77.03655315,-82.3595917708269,-77.03655315,-84.3902644,null,36.7416612,null,102.60664770784688,-77.0365427,-77.03655315,null,-76.610759,-77.03655315,-94.45764031637654,-77.03655315,-77.0365427,-77.0365427,null,null,-84.39884086001581,36.8886162,-77.0365427,-96.78152810147064,-77.03655315,-85.6545729,36.7416612,-91.18738,-77.03655315,-77.0414734922376,-0.1933723992148674,-0.8988297590207961,36.7416612,null,-83.7209112504498,44.25612450726408,null,-77.12335871396549,36.7416612,-75.1635262,36.7416612,-77.34201604164966,-77.03655315,-77.0365427,35.2257626,-77.03655315,-77.03655315,-77.02295618530775,-77.0452084,-77.05017197314066,36.7416612,-71.0582912,-87.01813913248446,-73.9905606,-87.6244212,-77.0365427,-77.0365427,-77.03655315,null,36.7416612,null,126.9782914,32.8540482,-94.9508229,-79.93811493945894,-122.16936535498309,-81.61227444920297,36.7416612,null,-77.03655315,21.01378910682335,null,-90.3712169,-158.03648372697478,-74.0060152,36.7416612,-74.0060152,-81.1881557,-74.0060152,-77.03655315,null,-77.0365427,-77.02024483028318,0.3138532,36.7416612,36.7416612,36.7416612,-77.05017197314066,36.7416612,-87.41048112721177,-77.03655315,-77.04847501906156,-77.03868249285715,-77.0365427,null,-97.7084250211076,-77.0841585,-119.8126581,36.7416612,-77.0841585,-77.1588685,36.7416612,132.4518156,36.7416612,36.7416612,-80.8430827,35.181634190650314,101.7064587,36.7416612,-77.03655315,36.7416612],\"marker\":{\"color\":\"#636efa\",\"symbol\":\"circle\"},\"mode\":\"markers\",\"name\":\"\",\"showlegend\":false,\"type\":\"scattergeo\"}],                        {\"template\":{\"data\":{\"histogram2dcontour\":[{\"type\":\"histogram2dcontour\",\"colorbar\":{\"outlinewidth\":0,\"ticks\":\"\"},\"colorscale\":[[0.0,\"#0d0887\"],[0.1111111111111111,\"#46039f\"],[0.2222222222222222,\"#7201a8\"],[0.3333333333333333,\"#9c179e\"],[0.4444444444444444,\"#bd3786\"],[0.5555555555555556,\"#d8576b\"],[0.6666666666666666,\"#ed7953\"],[0.7777777777777778,\"#fb9f3a\"],[0.8888888888888888,\"#fdca26\"],[1.0,\"#f0f921\"]]}],\"choropleth\":[{\"type\":\"choropleth\",\"colorbar\":{\"outlinewidth\":0,\"ticks\":\"\"}}],\"histogram2d\":[{\"type\":\"histogram2d\",\"colorbar\":{\"outlinewidth\":0,\"ticks\":\"\"},\"colorscale\":[[0.0,\"#0d0887\"],[0.1111111111111111,\"#46039f\"],[0.2222222222222222,\"#7201a8\"],[0.3333333333333333,\"#9c179e\"],[0.4444444444444444,\"#bd3786\"],[0.5555555555555556,\"#d8576b\"],[0.6666666666666666,\"#ed7953\"],[0.7777777777777778,\"#fb9f3a\"],[0.8888888888888888,\"#fdca26\"],[1.0,\"#f0f921\"]]}],\"heatmap\":[{\"type\":\"heatmap\",\"colorbar\":{\"outlinewidth\":0,\"ticks\":\"\"},\"colorscale\":[[0.0,\"#0d0887\"],[0.1111111111111111,\"#46039f\"],[0.2222222222222222,\"#7201a8\"],[0.3333333333333333,\"#9c179e\"],[0.4444444444444444,\"#bd3786\"],[0.5555555555555556,\"#d8576b\"],[0.6666666666666666,\"#ed7953\"],[0.7777777777777778,\"#fb9f3a\"],[0.8888888888888888,\"#fdca26\"],[1.0,\"#f0f921\"]]}],\"heatmapgl\":[{\"type\":\"heatmapgl\",\"colorbar\":{\"outlinewidth\":0,\"ticks\":\"\"},\"colorscale\":[[0.0,\"#0d0887\"],[0.1111111111111111,\"#46039f\"],[0.2222222222222222,\"#7201a8\"],[0.3333333333333333,\"#9c179e\"],[0.4444444444444444,\"#bd3786\"],[0.5555555555555556,\"#d8576b\"],[0.6666666666666666,\"#ed7953\"],[0.7777777777777778,\"#fb9f3a\"],[0.8888888888888888,\"#fdca26\"],[1.0,\"#f0f921\"]]}],\"contourcarpet\":[{\"type\":\"contourcarpet\",\"colorbar\":{\"outlinewidth\":0,\"ticks\":\"\"}}],\"contour\":[{\"type\":\"contour\",\"colorbar\":{\"outlinewidth\":0,\"ticks\":\"\"},\"colorscale\":[[0.0,\"#0d0887\"],[0.1111111111111111,\"#46039f\"],[0.2222222222222222,\"#7201a8\"],[0.3333333333333333,\"#9c179e\"],[0.4444444444444444,\"#bd3786\"],[0.5555555555555556,\"#d8576b\"],[0.6666666666666666,\"#ed7953\"],[0.7777777777777778,\"#fb9f3a\"],[0.8888888888888888,\"#fdca26\"],[1.0,\"#f0f921\"]]}],\"surface\":[{\"type\":\"surface\",\"colorbar\":{\"outlinewidth\":0,\"ticks\":\"\"},\"colorscale\":[[0.0,\"#0d0887\"],[0.1111111111111111,\"#46039f\"],[0.2222222222222222,\"#7201a8\"],[0.3333333333333333,\"#9c179e\"],[0.4444444444444444,\"#bd3786\"],[0.5555555555555556,\"#d8576b\"],[0.6666666666666666,\"#ed7953\"],[0.7777777777777778,\"#fb9f3a\"],[0.8888888888888888,\"#fdca26\"],[1.0,\"#f0f921\"]]}],\"mesh3d\":[{\"type\":\"mesh3d\",\"colorbar\":{\"outlinewidth\":0,\"ticks\":\"\"}}],\"scatter\":[{\"fillpattern\":{\"fillmode\":\"overlay\",\"size\":10,\"solidity\":0.2},\"type\":\"scatter\"}],\"parcoords\":[{\"type\":\"parcoords\",\"line\":{\"colorbar\":{\"outlinewidth\":0,\"ticks\":\"\"}}}],\"scatterpolargl\":[{\"type\":\"scatterpolargl\",\"marker\":{\"colorbar\":{\"outlinewidth\":0,\"ticks\":\"\"}}}],\"bar\":[{\"error_x\":{\"color\":\"#2a3f5f\"},\"error_y\":{\"color\":\"#2a3f5f\"},\"marker\":{\"line\":{\"color\":\"#E5ECF6\",\"width\":0.5},\"pattern\":{\"fillmode\":\"overlay\",\"size\":10,\"solidity\":0.2}},\"type\":\"bar\"}],\"scattergeo\":[{\"type\":\"scattergeo\",\"marker\":{\"colorbar\":{\"outlinewidth\":0,\"ticks\":\"\"}}}],\"scatterpolar\":[{\"type\":\"scatterpolar\",\"marker\":{\"colorbar\":{\"outlinewidth\":0,\"ticks\":\"\"}}}],\"histogram\":[{\"marker\":{\"pattern\":{\"fillmode\":\"overlay\",\"size\":10,\"solidity\":0.2}},\"type\":\"histogram\"}],\"scattergl\":[{\"type\":\"scattergl\",\"marker\":{\"colorbar\":{\"outlinewidth\":0,\"ticks\":\"\"}}}],\"scatter3d\":[{\"type\":\"scatter3d\",\"line\":{\"colorbar\":{\"outlinewidth\":0,\"ticks\":\"\"}},\"marker\":{\"colorbar\":{\"outlinewidth\":0,\"ticks\":\"\"}}}],\"scattermapbox\":[{\"type\":\"scattermapbox\",\"marker\":{\"colorbar\":{\"outlinewidth\":0,\"ticks\":\"\"}}}],\"scatterternary\":[{\"type\":\"scatterternary\",\"marker\":{\"colorbar\":{\"outlinewidth\":0,\"ticks\":\"\"}}}],\"scattercarpet\":[{\"type\":\"scattercarpet\",\"marker\":{\"colorbar\":{\"outlinewidth\":0,\"ticks\":\"\"}}}],\"carpet\":[{\"aaxis\":{\"endlinecolor\":\"#2a3f5f\",\"gridcolor\":\"white\",\"linecolor\":\"white\",\"minorgridcolor\":\"white\",\"startlinecolor\":\"#2a3f5f\"},\"baxis\":{\"endlinecolor\":\"#2a3f5f\",\"gridcolor\":\"white\",\"linecolor\":\"white\",\"minorgridcolor\":\"white\",\"startlinecolor\":\"#2a3f5f\"},\"type\":\"carpet\"}],\"table\":[{\"cells\":{\"fill\":{\"color\":\"#EBF0F8\"},\"line\":{\"color\":\"white\"}},\"header\":{\"fill\":{\"color\":\"#C8D4E3\"},\"line\":{\"color\":\"white\"}},\"type\":\"table\"}],\"barpolar\":[{\"marker\":{\"line\":{\"color\":\"#E5ECF6\",\"width\":0.5},\"pattern\":{\"fillmode\":\"overlay\",\"size\":10,\"solidity\":0.2}},\"type\":\"barpolar\"}],\"pie\":[{\"automargin\":true,\"type\":\"pie\"}]},\"layout\":{\"autotypenumbers\":\"strict\",\"colorway\":[\"#636efa\",\"#EF553B\",\"#00cc96\",\"#ab63fa\",\"#FFA15A\",\"#19d3f3\",\"#FF6692\",\"#B6E880\",\"#FF97FF\",\"#FECB52\"],\"font\":{\"color\":\"#2a3f5f\"},\"hovermode\":\"closest\",\"hoverlabel\":{\"align\":\"left\"},\"paper_bgcolor\":\"white\",\"plot_bgcolor\":\"#E5ECF6\",\"polar\":{\"bgcolor\":\"#E5ECF6\",\"angularaxis\":{\"gridcolor\":\"white\",\"linecolor\":\"white\",\"ticks\":\"\"},\"radialaxis\":{\"gridcolor\":\"white\",\"linecolor\":\"white\",\"ticks\":\"\"}},\"ternary\":{\"bgcolor\":\"#E5ECF6\",\"aaxis\":{\"gridcolor\":\"white\",\"linecolor\":\"white\",\"ticks\":\"\"},\"baxis\":{\"gridcolor\":\"white\",\"linecolor\":\"white\",\"ticks\":\"\"},\"caxis\":{\"gridcolor\":\"white\",\"linecolor\":\"white\",\"ticks\":\"\"}},\"coloraxis\":{\"colorbar\":{\"outlinewidth\":0,\"ticks\":\"\"}},\"colorscale\":{\"sequential\":[[0.0,\"#0d0887\"],[0.1111111111111111,\"#46039f\"],[0.2222222222222222,\"#7201a8\"],[0.3333333333333333,\"#9c179e\"],[0.4444444444444444,\"#bd3786\"],[0.5555555555555556,\"#d8576b\"],[0.6666666666666666,\"#ed7953\"],[0.7777777777777778,\"#fb9f3a\"],[0.8888888888888888,\"#fdca26\"],[1.0,\"#f0f921\"]],\"sequentialminus\":[[0.0,\"#0d0887\"],[0.1111111111111111,\"#46039f\"],[0.2222222222222222,\"#7201a8\"],[0.3333333333333333,\"#9c179e\"],[0.4444444444444444,\"#bd3786\"],[0.5555555555555556,\"#d8576b\"],[0.6666666666666666,\"#ed7953\"],[0.7777777777777778,\"#fb9f3a\"],[0.8888888888888888,\"#fdca26\"],[1.0,\"#f0f921\"]],\"diverging\":[[0,\"#8e0152\"],[0.1,\"#c51b7d\"],[0.2,\"#de77ae\"],[0.3,\"#f1b6da\"],[0.4,\"#fde0ef\"],[0.5,\"#f7f7f7\"],[0.6,\"#e6f5d0\"],[0.7,\"#b8e186\"],[0.8,\"#7fbc41\"],[0.9,\"#4d9221\"],[1,\"#276419\"]]},\"xaxis\":{\"gridcolor\":\"white\",\"linecolor\":\"white\",\"ticks\":\"\",\"title\":{\"standoff\":15},\"zerolinecolor\":\"white\",\"automargin\":true,\"zerolinewidth\":2},\"yaxis\":{\"gridcolor\":\"white\",\"linecolor\":\"white\",\"ticks\":\"\",\"title\":{\"standoff\":15},\"zerolinecolor\":\"white\",\"automargin\":true,\"zerolinewidth\":2},\"scene\":{\"xaxis\":{\"backgroundcolor\":\"#E5ECF6\",\"gridcolor\":\"white\",\"linecolor\":\"white\",\"showbackground\":true,\"ticks\":\"\",\"zerolinecolor\":\"white\",\"gridwidth\":2},\"yaxis\":{\"backgroundcolor\":\"#E5ECF6\",\"gridcolor\":\"white\",\"linecolor\":\"white\",\"showbackground\":true,\"ticks\":\"\",\"zerolinecolor\":\"white\",\"gridwidth\":2},\"zaxis\":{\"backgroundcolor\":\"#E5ECF6\",\"gridcolor\":\"white\",\"linecolor\":\"white\",\"showbackground\":true,\"ticks\":\"\",\"zerolinecolor\":\"white\",\"gridwidth\":2}},\"shapedefaults\":{\"line\":{\"color\":\"#2a3f5f\"}},\"annotationdefaults\":{\"arrowcolor\":\"#2a3f5f\",\"arrowhead\":0,\"arrowwidth\":1},\"geo\":{\"bgcolor\":\"white\",\"landcolor\":\"#E5ECF6\",\"subunitcolor\":\"white\",\"showland\":true,\"showlakes\":true,\"lakecolor\":\"white\"},\"title\":{\"x\":0.05},\"mapbox\":{\"style\":\"light\"}}},\"geo\":{\"domain\":{\"x\":[0.0,1.0],\"y\":[0.0,1.0]},\"projection\":{\"type\":\"natural earth\"},\"center\":{}},\"legend\":{\"tracegroupgap\":0},\"margin\":{\"t\":60}},                        {\"responsive\": true}                    ).then(function(){\n",
       "                            \n",
       "var gd = document.getElementById('61053939-97b6-48b8-875d-a4160b28c4d2');\n",
       "var x = new MutationObserver(function (mutations, observer) {{\n",
       "        var display = window.getComputedStyle(gd).display;\n",
       "        if (!display || display === 'none') {{\n",
       "            console.log([gd, 'removed!']);\n",
       "            Plotly.purge(gd);\n",
       "            observer.disconnect();\n",
       "        }}\n",
       "}});\n",
       "\n",
       "// Listen for the removal of the full notebook cells\n",
       "var notebookContainer = gd.closest('#notebook-container');\n",
       "if (notebookContainer) {{\n",
       "    x.observe(notebookContainer, {childList: true});\n",
       "}}\n",
       "\n",
       "// Listen for the clearing of the current output cell\n",
       "var outputEl = gd.closest('.output');\n",
       "if (outputEl) {{\n",
       "    x.observe(outputEl, {childList: true});\n",
       "}}\n",
       "\n",
       "                        })                };                });            </script>        </div>"
      ]
     },
     "metadata": {},
     "output_type": "display_data"
    }
   ],
   "source": [
    "\n",
    "import plotly.express as px\n",
    "# df = px.data.gapminder().query(\"year==2007\")\n",
    "fig = px.scatter_geo(gdf, lat=\"latitude\", lon=\"longitude\", \n",
    "                      hover_name=\"title\", \n",
    "                     hover_data= [\"location\",\"textblob\"],\n",
    "                     projection=\"natural earth\")\n",
    "fig.show()"
   ]
  },
  {
   "cell_type": "code",
   "execution_count": 15,
   "id": "3b12a89a-f542-451a-8a05-85eba96ff7f3",
   "metadata": {},
   "outputs": [
    {
     "data": {
      "image/png": "[encoded data removed]",
      "text/plain": [
       "<Figure size 1440x1440 with 1 Axes>"
      ]
     },
     "metadata": {
      "needs_background": "light"
     },
     "output_type": "display_data"
    }
   ],
   "source": [
    "fig, gax = plt.subplots(figsize = (20,20))\n",
    "\n",
    "# Plot the world map\n",
    "world.plot(ax = gax, edgecolor='darkgray',color='white')\n",
    "\n",
    "gdf.plot(\n",
    "    ax=gax, edgecolor='lightgray', legend=True, alpha=0.5 )\n",
    "\n",
    "# I don't want the axis with long and lat\n",
    "plt.axis('off')\n",
    "\n",
    "plt.show()"
   ]
  },
  {
   "cell_type": "markdown",
   "id": "fd2927cd-ce80-4992-8fc5-6d11f604448a",
   "metadata": {},
   "source": [
    "# Sentiments Per Country"
   ]
  },
  {
   "cell_type": "code",
   "execution_count": 16,
   "id": "945e76ca-f523-4fbb-b7e3-3018ab9c1611",
   "metadata": {},
   "outputs": [
    {
     "data": {
      "image/png": "[encoded data removed]",
      "text/plain": [
       "<Figure size 1440x1440 with 2 Axes>"
      ]
     },
     "metadata": {
      "needs_background": "light"
     },
     "output_type": "display_data"
    }
   ],
   "source": [
    "fig, gax = plt.subplots(figsize = (20,20))\n",
    "\n",
    "# Plot the world map\n",
    "world.plot(ax = gax, edgecolor='darkgray',color='white')\n",
    "\n",
    "gdf_cntry.plot(\n",
    "    ax=gax, edgecolor='darkgray', column='vader', legend=True, cmap='viridis' #if not 'vader' there's no color difference.\n",
    ")\n",
    "\n",
    "# I don't want the axis with long and lat\n",
    "plt.axis('off')\n",
    "\n",
    "plt.show()"
   ]
  },
  {
   "cell_type": "code",
   "execution_count": 17,
   "id": "81446610-f19a-4959-989b-3a06b03b6988",
   "metadata": {},
   "outputs": [
    {
     "data": {
      "image/png": "[encoded data removed]",
      "text/plain": [
       "<Figure size 1440x720 with 2 Axes>"
      ]
     },
     "metadata": {
      "needs_background": "light"
     },
     "output_type": "display_data"
    }
   ],
   "source": [
    "usa = world[world['name'] =='United States of America']\n",
    "\n",
    "fig, gax = plt.subplots(figsize = (20,10))\n",
    "\n",
    "# Plot the state\n",
    "usa.plot(ax = gax, edgecolor='darkgray',color='white')\n",
    "\n",
    "# Plot the counties and pass 'rel_trump_share' as the data to color\n",
    "gdf[gdf['country'] == 'United States of America'].plot(\n",
    "    ax=gax, edgecolor='darkgray', column='vader', legend=True, cmap='viridis')\n",
    "# I don't want the axis with long and lat\n",
    "plt.axis('off')\n",
    "\n",
    "plt.show()"
   ]
  },
  {
   "cell_type": "code",
   "execution_count": null,
   "id": "da6016ab-9b9b-40aa-ade9-aed69d2599a9",
   "metadata": {},
   "outputs": [
    {
     "data": {
      "text/html": [
       "<div class=\"bk-root\">\n",
       "        <a href=\"https://bokeh.org\" target=\"_blank\" class=\"bk-logo bk-logo-small bk-logo-notebook\"></a>\n",
       "        <span id=\"1002\">Loading BokehJS ...</span>\n",
       "    </div>\n"
      ]
     },
     "metadata": {},
     "output_type": "display_data"
    },
    {
     "data": {
      "application/javascript": [
       "(function(root) {\n",
       "  function now() {\n",
       "    return new Date();\n",
       "  }\n",
       "\n",
       "  const force = true;\n",
       "\n",
       "  if (typeof root._bokeh_onload_callbacks === \"undefined\" || force === true) {\n",
       "    root._bokeh_onload_callbacks = [];\n",
       "    root._bokeh_is_loading = undefined;\n",
       "  }\n",
       "\n",
       "const JS_MIME_TYPE = 'application/javascript';\n",
       "  const HTML_MIME_TYPE = 'text/html';\n",
       "  const EXEC_MIME_TYPE = 'application/vnd.bokehjs_exec.v0+json';\n",
       "  const CLASS_NAME = 'output_bokeh rendered_html';\n",
       "\n",
       "  /**\n",
       "   * Render data to the DOM node\n",
       "   */\n",
       "  function render(props, node) {\n",
       "    const script = document.createElement(\"script\");\n",
       "    node.appendChild(script);\n",
       "  }\n",
       "\n",
       "  /**\n",
       "   * Handle when an output is cleared or removed\n",
       "   */\n",
       "  function handleClearOutput(event, handle) {\n",
       "    const cell = handle.cell;\n",
       "\n",
       "    const id = cell.output_area._bokeh_element_id;\n",
       "    const server_id = cell.output_area._bokeh_server_id;\n",
       "    // Clean up Bokeh references\n",
       "    if (id != null && id in Bokeh.index) {\n",
       "      Bokeh.index[id].model.document.clear();\n",
       "      delete Bokeh.index[id];\n",
       "    }\n",
       "\n",
       "    if (server_id !== undefined) {\n",
       "      // Clean up Bokeh references\n",
       "      const cmd_clean = \"from bokeh.io.state import curstate; print(curstate().uuid_to_server['\" + server_id + \"'].get_sessions()[0].document.roots[0]._id)\";\n",
       "      cell.notebook.kernel.execute(cmd_clean, {\n",
       "        iopub: {\n",
       "          output: function(msg) {\n",
       "            const id = msg.content.text.trim();\n",
       "            if (id in Bokeh.index) {\n",
       "              Bokeh.index[id].model.document.clear();\n",
       "              delete Bokeh.index[id];\n",
       "            }\n",
       "          }\n",
       "        }\n",
       "      });\n",
       "      // Destroy server and session\n",
       "      const cmd_destroy = \"import bokeh.io.notebook as ion; ion.destroy_server('\" + server_id + \"')\";\n",
       "      cell.notebook.kernel.execute(cmd_destroy);\n",
       "    }\n",
       "  }\n",
       "\n",
       "  /**\n",
       "   * Handle when a new output is added\n",
       "   */\n",
       "  function handleAddOutput(event, handle) {\n",
       "    const output_area = handle.output_area;\n",
       "    const output = handle.output;\n",
       "\n",
       "    // limit handleAddOutput to display_data with EXEC_MIME_TYPE content only\n",
       "    if ((output.output_type != \"display_data\") || (!Object.prototype.hasOwnProperty.call(output.data, EXEC_MIME_TYPE))) {\n",
       "      return\n",
       "    }\n",
       "\n",
       "    const toinsert = output_area.element.find(\".\" + CLASS_NAME.split(' ')[0]);\n",
       "\n",
       "    if (output.metadata[EXEC_MIME_TYPE][\"id\"] !== undefined) {\n",
       "      toinsert[toinsert.length - 1].firstChild.textContent = output.data[JS_MIME_TYPE];\n",
       "      // store reference to embed id on output_area\n",
       "      output_area._bokeh_element_id = output.metadata[EXEC_MIME_TYPE][\"id\"];\n",
       "    }\n",
       "    if (output.metadata[EXEC_MIME_TYPE][\"server_id\"] !== undefined) {\n",
       "      const bk_div = document.createElement(\"div\");\n",
       "      bk_div.innerHTML = output.data[HTML_MIME_TYPE];\n",
       "      const script_attrs = bk_div.children[0].attributes;\n",
       "      for (let i = 0; i < script_attrs.length; i++) {\n",
       "        toinsert[toinsert.length - 1].firstChild.setAttribute(script_attrs[i].name, script_attrs[i].value);\n",
       "        toinsert[toinsert.length - 1].firstChild.textContent = bk_div.children[0].textContent\n",
       "      }\n",
       "      // store reference to server id on output_area\n",
       "      output_area._bokeh_server_id = output.metadata[EXEC_MIME_TYPE][\"server_id\"];\n",
       "    }\n",
       "  }\n",
       "\n",
       "  function register_renderer(events, OutputArea) {\n",
       "\n",
       "    function append_mime(data, metadata, element) {\n",
       "      // create a DOM node to render to\n",
       "      const toinsert = this.create_output_subarea(\n",
       "        metadata,\n",
       "        CLASS_NAME,\n",
       "        EXEC_MIME_TYPE\n",
       "      );\n",
       "      this.keyboard_manager.register_events(toinsert);\n",
       "      // Render to node\n",
       "      const props = {data: data, metadata: metadata[EXEC_MIME_TYPE]};\n",
       "      render(props, toinsert[toinsert.length - 1]);\n",
       "      element.append(toinsert);\n",
       "      return toinsert\n",
       "    }\n",
       "\n",
       "    /* Handle when an output is cleared or removed */\n",
       "    events.on('clear_output.CodeCell', handleClearOutput);\n",
       "    events.on('delete.Cell', handleClearOutput);\n",
       "\n",
       "    /* Handle when a new output is added */\n",
       "    events.on('output_added.OutputArea', handleAddOutput);\n",
       "\n",
       "    /**\n",
       "     * Register the mime type and append_mime function with output_area\n",
       "     */\n",
       "    OutputArea.prototype.register_mime_type(EXEC_MIME_TYPE, append_mime, {\n",
       "      /* Is output safe? */\n",
       "      safe: true,\n",
       "      /* Index of renderer in `output_area.display_order` */\n",
       "      index: 0\n",
       "    });\n",
       "  }\n",
       "\n",
       "  // register the mime type if in Jupyter Notebook environment and previously unregistered\n",
       "  if (root.Jupyter !== undefined) {\n",
       "    const events = require('base/js/events');\n",
       "    const OutputArea = require('notebook/js/outputarea').OutputArea;\n",
       "\n",
       "    if (OutputArea.prototype.mime_types().indexOf(EXEC_MIME_TYPE) == -1) {\n",
       "      register_renderer(events, OutputArea);\n",
       "    }\n",
       "  }\n",
       "  if (typeof (root._bokeh_timeout) === \"undefined\" || force === true) {\n",
       "    root._bokeh_timeout = Date.now() + 5000;\n",
       "    root._bokeh_failed_load = false;\n",
       "  }\n",
       "\n",
       "  const NB_LOAD_WARNING = {'data': {'text/html':\n",
       "     \"<div style='background-color: #fdd'>\\n\"+\n",
       "     \"<p>\\n\"+\n",
       "     \"BokehJS does not appear to have successfully loaded. If loading BokehJS from CDN, this \\n\"+\n",
       "     \"may be due to a slow or bad network connection. Possible fixes:\\n\"+\n",
       "     \"</p>\\n\"+\n",
       "     \"<ul>\\n\"+\n",
       "     \"<li>re-rerun `output_notebook()` to attempt to load from CDN again, or</li>\\n\"+\n",
       "     \"<li>use INLINE resources instead, as so:</li>\\n\"+\n",
       "     \"</ul>\\n\"+\n",
       "     \"<code>\\n\"+\n",
       "     \"from bokeh.resources import INLINE\\n\"+\n",
       "     \"output_notebook(resources=INLINE)\\n\"+\n",
       "     \"</code>\\n\"+\n",
       "     \"</div>\"}};\n",
       "\n",
       "  function display_loaded() {\n",
       "    const el = document.getElementById(\"1002\");\n",
       "    if (el != null) {\n",
       "      el.textContent = \"BokehJS is loading...\";\n",
       "    }\n",
       "    if (root.Bokeh !== undefined) {\n",
       "      if (el != null) {\n",
       "        el.textContent = \"BokehJS \" + root.Bokeh.version + \" successfully loaded.\";\n",
       "      }\n",
       "    } else if (Date.now() < root._bokeh_timeout) {\n",
       "      setTimeout(display_loaded, 100)\n",
       "    }\n",
       "  }\n",
       "\n",
       "  function run_callbacks() {\n",
       "    try {\n",
       "      root._bokeh_onload_callbacks.forEach(function(callback) {\n",
       "        if (callback != null)\n",
       "          callback();\n",
       "      });\n",
       "    } finally {\n",
       "      delete root._bokeh_onload_callbacks\n",
       "    }\n",
       "    console.debug(\"Bokeh: all callbacks have finished\");\n",
       "  }\n",
       "\n",
       "  function load_libs(css_urls, js_urls, callback) {\n",
       "    if (css_urls == null) css_urls = [];\n",
       "    if (js_urls == null) js_urls = [];\n",
       "\n",
       "    root._bokeh_onload_callbacks.push(callback);\n",
       "    if (root._bokeh_is_loading > 0) {\n",
       "      console.debug(\"Bokeh: BokehJS is being loaded, scheduling callback at\", now());\n",
       "      return null;\n",
       "    }\n",
       "    if (js_urls == null || js_urls.length === 0) {\n",
       "      run_callbacks();\n",
       "      return null;\n",
       "    }\n",
       "    console.debug(\"Bokeh: BokehJS not loaded, scheduling load and callback at\", now());\n",
       "    root._bokeh_is_loading = css_urls.length + js_urls.length;\n",
       "\n",
       "    function on_load() {\n",
       "      root._bokeh_is_loading--;\n",
       "      if (root._bokeh_is_loading === 0) {\n",
       "        console.debug(\"Bokeh: all BokehJS libraries/stylesheets loaded\");\n",
       "        run_callbacks()\n",
       "      }\n",
       "    }\n",
       "\n",
       "    function on_error(url) {\n",
       "      console.error(\"failed to load \" + url);\n",
       "    }\n",
       "\n",
       "    for (let i = 0; i < css_urls.length; i++) {\n",
       "      const url = css_urls[i];\n",
       "      const element = document.createElement(\"link\");\n",
       "      element.onload = on_load;\n",
       "      element.onerror = on_error.bind(null, url);\n",
       "      element.rel = \"stylesheet\";\n",
       "      element.type = \"text/css\";\n",
       "      element.href = url;\n",
       "      console.debug(\"Bokeh: injecting link tag for BokehJS stylesheet: \", url);\n",
       "      document.body.appendChild(element);\n",
       "    }\n",
       "\n",
       "    for (let i = 0; i < js_urls.length; i++) {\n",
       "      const url = js_urls[i];\n",
       "      const element = document.createElement('script');\n",
       "      element.onload = on_load;\n",
       "      element.onerror = on_error.bind(null, url);\n",
       "      element.async = false;\n",
       "      element.src = url;\n",
       "      console.debug(\"Bokeh: injecting script tag for BokehJS library: \", url);\n",
       "      document.head.appendChild(element);\n",
       "    }\n",
       "  };\n",
       "\n",
       "  function inject_raw_css(css) {\n",
       "    const element = document.createElement(\"style\");\n",
       "    element.appendChild(document.createTextNode(css));\n",
       "    document.body.appendChild(element);\n",
       "  }\n",
       "\n",
       "  const js_urls = [\"https://cdn.bokeh.org/bokeh/release/bokeh-2.4.3.min.js\", \"https://cdn.bokeh.org/bokeh/release/bokeh-gl-2.4.3.min.js\", \"https://cdn.bokeh.org/bokeh/release/bokeh-widgets-2.4.3.min.js\", \"https://cdn.bokeh.org/bokeh/release/bokeh-tables-2.4.3.min.js\", \"https://cdn.bokeh.org/bokeh/release/bokeh-mathjax-2.4.3.min.js\"];\n",
       "  const css_urls = [];\n",
       "\n",
       "  const inline_js = [    function(Bokeh) {\n",
       "      Bokeh.set_log_level(\"info\");\n",
       "    },\n",
       "function(Bokeh) {\n",
       "    }\n",
       "  ];\n",
       "\n",
       "  function run_inline_js() {\n",
       "    if (root.Bokeh !== undefined || force === true) {\n",
       "          for (let i = 0; i < inline_js.length; i++) {\n",
       "      inline_js[i].call(root, root.Bokeh);\n",
       "    }\n",
       "if (force === true) {\n",
       "        display_loaded();\n",
       "      }} else if (Date.now() < root._bokeh_timeout) {\n",
       "      setTimeout(run_inline_js, 100);\n",
       "    } else if (!root._bokeh_failed_load) {\n",
       "      console.log(\"Bokeh: BokehJS failed to load within specified timeout.\");\n",
       "      root._bokeh_failed_load = true;\n",
       "    } else if (force !== true) {\n",
       "      const cell = $(document.getElementById(\"1002\")).parents('.cell').data().cell;\n",
       "      cell.output_area.append_execute_result(NB_LOAD_WARNING)\n",
       "    }\n",
       "  }\n",
       "\n",
       "  if (root._bokeh_is_loading === 0) {\n",
       "    console.debug(\"Bokeh: BokehJS loaded, going straight to plotting\");\n",
       "    run_inline_js();\n",
       "  } else {\n",
       "    load_libs(css_urls, js_urls, function() {\n",
       "      console.debug(\"Bokeh: BokehJS plotting callback run at\", now());\n",
       "      run_inline_js();\n",
       "    });\n",
       "  }\n",
       "}(window));"
      ],
      "application/vnd.bokehjs_load.v0+json": "(function(root) {\n  function now() {\n    return new Date();\n  }\n\n  const force = true;\n\n  if (typeof root._bokeh_onload_callbacks === \"undefined\" || force === true) {\n    root._bokeh_onload_callbacks = [];\n    root._bokeh_is_loading = undefined;\n  }\n\n\n  if (typeof (root._bokeh_timeout) === \"undefined\" || force === true) {\n    root._bokeh_timeout = Date.now() + 5000;\n    root._bokeh_failed_load = false;\n  }\n\n  const NB_LOAD_WARNING = {'data': {'text/html':\n     \"<div style='background-color: #fdd'>\\n\"+\n     \"<p>\\n\"+\n     \"BokehJS does not appear to have successfully loaded. If loading BokehJS from CDN, this \\n\"+\n     \"may be due to a slow or bad network connection. Possible fixes:\\n\"+\n     \"</p>\\n\"+\n     \"<ul>\\n\"+\n     \"<li>re-rerun `output_notebook()` to attempt to load from CDN again, or</li>\\n\"+\n     \"<li>use INLINE resources instead, as so:</li>\\n\"+\n     \"</ul>\\n\"+\n     \"<code>\\n\"+\n     \"from bokeh.resources import INLINE\\n\"+\n     \"output_notebook(resources=INLINE)\\n\"+\n     \"</code>\\n\"+\n     \"</div>\"}};\n\n  function display_loaded() {\n    const el = document.getElementById(\"1002\");\n    if (el != null) {\n      el.textContent = \"BokehJS is loading...\";\n    }\n    if (root.Bokeh !== undefined) {\n      if (el != null) {\n        el.textContent = \"BokehJS \" + root.Bokeh.version + \" successfully loaded.\";\n      }\n    } else if (Date.now() < root._bokeh_timeout) {\n      setTimeout(display_loaded, 100)\n    }\n  }\n\n  function run_callbacks() {\n    try {\n      root._bokeh_onload_callbacks.forEach(function(callback) {\n        if (callback != null)\n          callback();\n      });\n    } finally {\n      delete root._bokeh_onload_callbacks\n    }\n    console.debug(\"Bokeh: all callbacks have finished\");\n  }\n\n  function load_libs(css_urls, js_urls, callback) {\n    if (css_urls == null) css_urls = [];\n    if (js_urls == null) js_urls = [];\n\n    root._bokeh_onload_callbacks.push(callback);\n    if (root._bokeh_is_loading > 0) {\n      console.debug(\"Bokeh: BokehJS is being loaded, scheduling callback at\", now());\n      return null;\n    }\n    if (js_urls == null || js_urls.length === 0) {\n      run_callbacks();\n      return null;\n    }\n    console.debug(\"Bokeh: BokehJS not loaded, scheduling load and callback at\", now());\n    root._bokeh_is_loading = css_urls.length + js_urls.length;\n\n    function on_load() {\n      root._bokeh_is_loading--;\n      if (root._bokeh_is_loading === 0) {\n        console.debug(\"Bokeh: all BokehJS libraries/stylesheets loaded\");\n        run_callbacks()\n      }\n    }\n\n    function on_error(url) {\n      console.error(\"failed to load \" + url);\n    }\n\n    for (let i = 0; i < css_urls.length; i++) {\n      const url = css_urls[i];\n      const element = document.createElement(\"link\");\n      element.onload = on_load;\n      element.onerror = on_error.bind(null, url);\n      element.rel = \"stylesheet\";\n      element.type = \"text/css\";\n      element.href = url;\n      console.debug(\"Bokeh: injecting link tag for BokehJS stylesheet: \", url);\n      document.body.appendChild(element);\n    }\n\n    for (let i = 0; i < js_urls.length; i++) {\n      const url = js_urls[i];\n      const element = document.createElement('script');\n      element.onload = on_load;\n      element.onerror = on_error.bind(null, url);\n      element.async = false;\n      element.src = url;\n      console.debug(\"Bokeh: injecting script tag for BokehJS library: \", url);\n      document.head.appendChild(element);\n    }\n  };\n\n  function inject_raw_css(css) {\n    const element = document.createElement(\"style\");\n    element.appendChild(document.createTextNode(css));\n    document.body.appendChild(element);\n  }\n\n  const js_urls = [\"https://cdn.bokeh.org/bokeh/release/bokeh-2.4.3.min.js\", \"https://cdn.bokeh.org/bokeh/release/bokeh-gl-2.4.3.min.js\", \"https://cdn.bokeh.org/bokeh/release/bokeh-widgets-2.4.3.min.js\", \"https://cdn.bokeh.org/bokeh/release/bokeh-tables-2.4.3.min.js\", \"https://cdn.bokeh.org/bokeh/release/bokeh-mathjax-2.4.3.min.js\"];\n  const css_urls = [];\n\n  const inline_js = [    function(Bokeh) {\n      Bokeh.set_log_level(\"info\");\n    },\nfunction(Bokeh) {\n    }\n  ];\n\n  function run_inline_js() {\n    if (root.Bokeh !== undefined || force === true) {\n          for (let i = 0; i < inline_js.length; i++) {\n      inline_js[i].call(root, root.Bokeh);\n    }\nif (force === true) {\n        display_loaded();\n      }} else if (Date.now() < root._bokeh_timeout) {\n      setTimeout(run_inline_js, 100);\n    } else if (!root._bokeh_failed_load) {\n      console.log(\"Bokeh: BokehJS failed to load within specified timeout.\");\n      root._bokeh_failed_load = true;\n    } else if (force !== true) {\n      const cell = $(document.getElementById(\"1002\")).parents('.cell').data().cell;\n      cell.output_area.append_execute_result(NB_LOAD_WARNING)\n    }\n  }\n\n  if (root._bokeh_is_loading === 0) {\n    console.debug(\"Bokeh: BokehJS loaded, going straight to plotting\");\n    run_inline_js();\n  } else {\n    load_libs(css_urls, js_urls, function() {\n      console.debug(\"Bokeh: BokehJS plotting callback run at\", now());\n      run_inline_js();\n    });\n  }\n}(window));"
     },
     "metadata": {},
     "output_type": "display_data"
    }
   ],
   "source": [
    "from bokeh.io import output_notebook\n",
    "from bokeh.plotting import figure, ColumnDataSource\n",
    "from bokeh.io import output_notebook, show, output_file\n",
    "from bokeh.plotting import figure\n",
    "from bokeh.models import GeoJSONDataSource, LinearColorMapper, ColorBar, HoverTool\n",
    "from bokeh.palettes import brewer\n",
    "output_notebook()\n",
    "import json"
   ]
  },
  {
   "cell_type": "code",
   "execution_count": null,
   "id": "d2529f76-9369-48b5-8686-1b01c99cfb90",
   "metadata": {},
   "outputs": [
    {
     "data": {
      "text/html": [
       "<div>\n",
       "<style scoped>\n",
       "    .dataframe tbody tr th:only-of-type {\n",
       "        vertical-align: middle;\n",
       "    }\n",
       "\n",
       "    .dataframe tbody tr th {\n",
       "        vertical-align: top;\n",
       "    }\n",
       "\n",
       "    .dataframe thead th {\n",
       "        text-align: right;\n",
       "    }\n",
       "</style>\n",
       "<table border=\"1\" class=\"dataframe\">\n",
       "  <thead>\n",
       "    <tr style=\"text-align: right;\">\n",
       "      <th></th>\n",
       "      <th>title</th>\n",
       "      <th>location</th>\n",
       "      <th>date</th>\n",
       "      <th>stanza</th>\n",
       "      <th>textblob</th>\n",
       "      <th>vader</th>\n",
       "      <th>subjectivity</th>\n",
       "      <th>geometry</th>\n",
       "    </tr>\n",
       "  </thead>\n",
       "  <tbody>\n",
       "    <tr>\n",
       "      <th>0</th>\n",
       "      <td>Prayer_Breakfast_2016</td>\n",
       "      <td>Washington Hilton, Washington D.C.</td>\n",
       "      <td>2016-02-04</td>\n",
       "      <td>0.099</td>\n",
       "      <td>0.178</td>\n",
       "      <td>1.000</td>\n",
       "      <td>0.542</td>\n",
       "      <td>POINT (-77.04521 38.91652)</td>\n",
       "    </tr>\n",
       "    <tr>\n",
       "      <th>1</th>\n",
       "      <td>Security_Team_Announcement</td>\n",
       "      <td>Chicago, Illinois</td>\n",
       "      <td>2008-12-01</td>\n",
       "      <td>0.140</td>\n",
       "      <td>0.162</td>\n",
       "      <td>0.998</td>\n",
       "      <td>0.403</td>\n",
       "      <td>POINT (-87.62442 41.87556)</td>\n",
       "    </tr>\n",
       "    <tr>\n",
       "      <th>2</th>\n",
       "      <td>Cairo_University</td>\n",
       "      <td>Cairo, Egypt</td>\n",
       "      <td>2009-06-04</td>\n",
       "      <td>-0.150</td>\n",
       "      <td>0.110</td>\n",
       "      <td>1.000</td>\n",
       "      <td>0.457</td>\n",
       "      <td>POINT (31.23573 30.04439)</td>\n",
       "    </tr>\n",
       "    <tr>\n",
       "      <th>3</th>\n",
       "      <td>Umpqua_Community_College_Shootings</td>\n",
       "      <td>Washington D.C.</td>\n",
       "      <td>2015-10-01</td>\n",
       "      <td>-0.250</td>\n",
       "      <td>0.061</td>\n",
       "      <td>-0.998</td>\n",
       "      <td>0.435</td>\n",
       "      <td>POINT (-77.03654 38.89504)</td>\n",
       "    </tr>\n",
       "    <tr>\n",
       "      <th>4</th>\n",
       "      <td>White_House_Correspondent_Dinner_2013</td>\n",
       "      <td>Washington Hilton Hotel, Washington D.C.</td>\n",
       "      <td>2013-04-27</td>\n",
       "      <td>-0.012</td>\n",
       "      <td>0.145</td>\n",
       "      <td>1.000</td>\n",
       "      <td>0.501</td>\n",
       "      <td>POINT (-77.04521 38.91652)</td>\n",
       "    </tr>\n",
       "    <tr>\n",
       "      <th>...</th>\n",
       "      <td>...</td>\n",
       "      <td>...</td>\n",
       "      <td>...</td>\n",
       "      <td>...</td>\n",
       "      <td>...</td>\n",
       "      <td>...</td>\n",
       "      <td>...</td>\n",
       "      <td>...</td>\n",
       "    </tr>\n",
       "    <tr>\n",
       "      <th>283</th>\n",
       "      <td>Shimon_Peres_Memorial</td>\n",
       "      <td>Mount Herzl, Jerusalem, Israel</td>\n",
       "      <td>2016-09-30</td>\n",
       "      <td>-0.083</td>\n",
       "      <td>0.164</td>\n",
       "      <td>1.000</td>\n",
       "      <td>0.436</td>\n",
       "      <td>POINT (35.18163 31.77236)</td>\n",
       "    </tr>\n",
       "    <tr>\n",
       "      <th>284</th>\n",
       "      <td>ASEAN_Business_2015</td>\n",
       "      <td>Shangri-La Hotel, Kuala Lumpur, Malaysia</td>\n",
       "      <td>2015-11-21</td>\n",
       "      <td>-0.050</td>\n",
       "      <td>0.164</td>\n",
       "      <td>1.000</td>\n",
       "      <td>0.399</td>\n",
       "      <td>POINT (101.70646 3.15417)</td>\n",
       "    </tr>\n",
       "    <tr>\n",
       "      <th>285</th>\n",
       "      <td>Finance_Crisis_Fee</td>\n",
       "      <td>unknown_location</td>\n",
       "      <td>2010-01-14</td>\n",
       "      <td>-0.412</td>\n",
       "      <td>0.080</td>\n",
       "      <td>0.987</td>\n",
       "      <td>0.436</td>\n",
       "      <td>POINT (36.74166 -0.99995)</td>\n",
       "    </tr>\n",
       "    <tr>\n",
       "      <th>286</th>\n",
       "      <td>Oval_Office_Counter_Terrorism_Agenda</td>\n",
       "      <td>White House, Washington D.C.</td>\n",
       "      <td>2015-12-06</td>\n",
       "      <td>-0.134</td>\n",
       "      <td>0.076</td>\n",
       "      <td>-1.000</td>\n",
       "      <td>0.398</td>\n",
       "      <td>POINT (-77.03655 38.89770)</td>\n",
       "    </tr>\n",
       "    <tr>\n",
       "      <th>287</th>\n",
       "      <td>Michigan_University_Commencement</td>\n",
       "      <td>unknown_location</td>\n",
       "      <td>2010-05-01</td>\n",
       "      <td>-0.152</td>\n",
       "      <td>0.121</td>\n",
       "      <td>1.000</td>\n",
       "      <td>0.496</td>\n",
       "      <td>POINT (36.74166 -0.99995)</td>\n",
       "    </tr>\n",
       "  </tbody>\n",
       "</table>\n",
       "<p>288 rows × 8 columns</p>\n",
       "</div>"
      ],
      "text/plain": [
       "                                     title  \\\n",
       "0                    Prayer_Breakfast_2016   \n",
       "1               Security_Team_Announcement   \n",
       "2                         Cairo_University   \n",
       "3       Umpqua_Community_College_Shootings   \n",
       "4    White_House_Correspondent_Dinner_2013   \n",
       "..                                     ...   \n",
       "283                  Shimon_Peres_Memorial   \n",
       "284                    ASEAN_Business_2015   \n",
       "285                     Finance_Crisis_Fee   \n",
       "286   Oval_Office_Counter_Terrorism_Agenda   \n",
       "287       Michigan_University_Commencement   \n",
       "\n",
       "                                     location        date  stanza  textblob  \\\n",
       "0          Washington Hilton, Washington D.C.  2016-02-04   0.099     0.178   \n",
       "1                           Chicago, Illinois  2008-12-01   0.140     0.162   \n",
       "2                                Cairo, Egypt  2009-06-04  -0.150     0.110   \n",
       "3                             Washington D.C.  2015-10-01  -0.250     0.061   \n",
       "4    Washington Hilton Hotel, Washington D.C.  2013-04-27  -0.012     0.145   \n",
       "..                                        ...         ...     ...       ...   \n",
       "283            Mount Herzl, Jerusalem, Israel  2016-09-30  -0.083     0.164   \n",
       "284  Shangri-La Hotel, Kuala Lumpur, Malaysia  2015-11-21  -0.050     0.164   \n",
       "285                          unknown_location  2010-01-14  -0.412     0.080   \n",
       "286              White House, Washington D.C.  2015-12-06  -0.134     0.076   \n",
       "287                          unknown_location  2010-05-01  -0.152     0.121   \n",
       "\n",
       "     vader  subjectivity                    geometry  \n",
       "0    1.000         0.542  POINT (-77.04521 38.91652)  \n",
       "1    0.998         0.403  POINT (-87.62442 41.87556)  \n",
       "2    1.000         0.457   POINT (31.23573 30.04439)  \n",
       "3   -0.998         0.435  POINT (-77.03654 38.89504)  \n",
       "4    1.000         0.501  POINT (-77.04521 38.91652)  \n",
       "..     ...           ...                         ...  \n",
       "283  1.000         0.436   POINT (35.18163 31.77236)  \n",
       "284  1.000         0.399   POINT (101.70646 3.15417)  \n",
       "285  0.987         0.436   POINT (36.74166 -0.99995)  \n",
       "286 -1.000         0.398  POINT (-77.03655 38.89770)  \n",
       "287  1.000         0.496   POINT (36.74166 -0.99995)  \n",
       "\n",
       "[288 rows x 8 columns]"
      ]
     },
     "execution_count": 19,
     "metadata": {},
     "output_type": "execute_result"
    }
   ],
   "source": [
    "gdf_simple = gdf.drop(columns = ['pages', 'highest_speaker_count', 'country', 'state', 'city', 'specific_location', 'geo_location', 'point', 'Coordinates', 'latitude', 'longitude'])\n",
    "gdf_simple"
   ]
  },
  {
   "cell_type": "code",
   "execution_count": null,
   "id": "a1644ca3-774a-474e-98f9-e6f2b9257a80",
   "metadata": {},
   "outputs": [],
   "source": [
    "#Convert data to geojson for bokeh\n",
    "gdf_geojson=GeoJSONDataSource(geojson=gdf_simple.to_json())"
   ]
  },
  {
   "cell_type": "code",
   "execution_count": null,
   "id": "1130e881-59ba-4f59-8855-04073a491fc7",
   "metadata": {},
   "outputs": [
    {
     "data": {
      "text/plain": [
       "bokeh.models.sources.GeoJSONDataSource"
      ]
     },
     "execution_count": 21,
     "metadata": {},
     "output_type": "execute_result"
    }
   ],
   "source": [
    "type(gdf_geojson)"
   ]
  },
  {
   "cell_type": "code",
   "execution_count": 22,
   "id": "fbdd0969-985b-4c0a-9656-ce6eb1e588c4",
   "metadata": {},
   "outputs": [
    {
     "data": {
      "text/html": [
       "\n",
       "  <div class=\"bk-root\" id=\"0d045720-5cc4-4c29-8a2c-6896e5f4ee7c\" data-root-id=\"1007\"></div>\n"
      ]
     },
     "metadata": {},
     "output_type": "display_data"
    },
    {
     "data": {
      "application/javascript": [
       "(function(root) {\n",
       "  function embed_document(root) {\n",
       "  const docs_json = {\"20e19e65-4855-45bf-bdf1-fbf548fb8195\":{\"defs\":[],\"roots\":{\"references\":[{\"attributes\":{\"below\":[{\"id\":\"1018\"},{\"id\":\"1005\"}],\"center\":[{\"id\":\"1021\"},{\"id\":\"1025\"}],\"left\":[{\"id\":\"1022\"}],\"renderers\":[{\"id\":\"1032\"}],\"title\":{\"id\":\"1008\"},\"toolbar\":{\"id\":\"1026\"},\"x_range\":{\"id\":\"1010\"},\"x_scale\":{\"id\":\"1014\"},\"y_range\":{\"id\":\"1012\"},\"y_scale\":{\"id\":\"1016\"}},\"id\":\"1007\",\"subtype\":\"Figure\",\"type\":\"Plot\"},{\"attributes\":{\"tools\":[{\"id\":\"1006\"}]},\"id\":\"1026\",\"type\":\"Toolbar\"},{\"attributes\":{\"color_mapper\":{\"id\":\"1004\"},\"coordinates\":null,\"group\":null,\"height\":20,\"label_standoff\":8,\"location\":[0,0],\"major_label_policy\":{\"id\":\"1041\"},\"orientation\":\"horizontal\",\"width\":500},\"id\":\"1005\",\"type\":\"ColorBar\"},{\"attributes\":{\"callback\":null,\"tooltips\":[[\"Speech\",\"@title\"],[\"Date\",\"@date\"],[\"Location\",\"@location\"],[\"Stanza\",\"@stanza\"],[\"TextBlob\",\"@textblob\"],[\"Vader\",\"@vader\"],[\"Subjectivity\",\"@subjectivity\"]]},\"id\":\"1006\",\"type\":\"HoverTool\"},{\"attributes\":{},\"id\":\"1023\",\"type\":\"BasicTicker\"},{\"attributes\":{},\"id\":\"1040\",\"type\":\"AllLabels\"},{\"attributes\":{\"axis\":{\"id\":\"1022\"},\"coordinates\":null,\"dimension\":1,\"group\":null,\"ticker\":null},\"id\":\"1025\",\"type\":\"Grid\"},{\"attributes\":{\"high\":1,\"low\":0,\"palette\":[\"#053061\",\"#2166ac\",\"#4393c3\",\"#92c5de\",\"#d1e5f0\",\"#fddbc7\",\"#f4a582\",\"#d6604d\",\"#b2182b\",\"#67001f\"]},\"id\":\"1004\",\"type\":\"LinearColorMapper\"},{\"attributes\":{\"source\":{\"id\":\"1003\"}},\"id\":\"1033\",\"type\":\"CDSView\"},{\"attributes\":{},\"id\":\"1039\",\"type\":\"BasicTickFormatter\"},{\"attributes\":{},\"id\":\"1043\",\"type\":\"Selection\"},{\"attributes\":{\"coordinates\":null,\"formatter\":{\"id\":\"1036\"},\"group\":null,\"major_label_policy\":{\"id\":\"1037\"},\"ticker\":{\"id\":\"1023\"}},\"id\":\"1022\",\"type\":\"LinearAxis\"},{\"attributes\":{},\"id\":\"1010\",\"type\":\"DataRange1d\"},{\"attributes\":{\"coordinates\":null,\"group\":null,\"text\":\"Sentiment Analysis on Obama's Speeches\"},\"id\":\"1008\",\"type\":\"Title\"},{\"attributes\":{\"fill_color\":{\"field\":\"subjectivity\",\"transform\":{\"id\":\"1004\"}},\"line_color\":{\"value\":\"#1f77b4\"},\"xs\":{\"field\":\"xs\"},\"ys\":{\"field\":\"ys\"}},\"id\":\"1029\",\"type\":\"Patches\"},{\"attributes\":{\"coordinates\":null,\"data_source\":{\"id\":\"1003\"},\"glyph\":{\"id\":\"1029\"},\"group\":null,\"hover_glyph\":null,\"muted_glyph\":{\"id\":\"1031\"},\"nonselection_glyph\":{\"id\":\"1030\"},\"view\":{\"id\":\"1033\"}},\"id\":\"1032\",\"type\":\"GlyphRenderer\"},{\"attributes\":{\"fill_alpha\":{\"value\":0.2},\"fill_color\":{\"field\":\"subjectivity\",\"transform\":{\"id\":\"1004\"}},\"hatch_alpha\":{\"value\":0.2},\"line_alpha\":{\"value\":0.2},\"line_color\":{\"value\":\"#1f77b4\"},\"xs\":{\"field\":\"xs\"},\"ys\":{\"field\":\"ys\"}},\"id\":\"1031\",\"type\":\"Patches\"},{\"attributes\":{},\"id\":\"1019\",\"type\":\"BasicTicker\"},{\"attributes\":{},\"id\":\"1041\",\"type\":\"NoOverlap\"},{\"attributes\":{\"coordinates\":null,\"formatter\":{\"id\":\"1039\"},\"group\":null,\"major_label_policy\":{\"id\":\"1040\"},\"ticker\":{\"id\":\"1019\"}},\"id\":\"1018\",\"type\":\"LinearAxis\"},{\"attributes\":{\"axis\":{\"id\":\"1018\"},\"coordinates\":null,\"group\":null,\"ticker\":null},\"id\":\"1021\",\"type\":\"Grid\"},{\"attributes\":{},\"id\":\"1012\",\"type\":\"DataRange1d\"},{\"attributes\":{\"fill_alpha\":{\"value\":0.1},\"fill_color\":{\"field\":\"subjectivity\",\"transform\":{\"id\":\"1004\"}},\"hatch_alpha\":{\"value\":0.1},\"line_alpha\":{\"value\":0.1},\"line_color\":{\"value\":\"#1f77b4\"},\"xs\":{\"field\":\"xs\"},\"ys\":{\"field\":\"ys\"}},\"id\":\"1030\",\"type\":\"Patches\"},{\"attributes\":{},\"id\":\"1016\",\"type\":\"LinearScale\"},{\"attributes\":{},\"id\":\"1036\",\"type\":\"BasicTickFormatter\"},{\"attributes\":{},\"id\":\"1037\",\"type\":\"AllLabels\"},{\"attributes\":{},\"id\":\"1014\",\"type\":\"LinearScale\"},{\"attributes\":{\"geojson\":\"{\\\"type\\\": \\\"FeatureCollection\\\", \\\"features\\\": [{\\\"id\\\": \\\"0\\\", \\\"type\\\": \\\"Feature\\\", \\\"properties\\\": {\\\"date\\\": \\\"2016-02-04\\\", \\\"location\\\": \\\"Washington Hilton, Washington D.C.\\\", \\\"stanza\\\": 0.099, \\\"subjectivity\\\": 0.542, \\\"textblob\\\": 0.178, \\\"title\\\": \\\"Prayer_Breakfast_2016\\\", \\\"vader\\\": 1.0}, \\\"geometry\\\": {\\\"type\\\": \\\"Point\\\", \\\"coordinates\\\": [-77.0452084, 38.9165229]}}, {\\\"id\\\": \\\"1\\\", \\\"type\\\": \\\"Feature\\\", \\\"properties\\\": {\\\"date\\\": \\\"2008-12-01\\\", \\\"location\\\": \\\"Chicago, Illinois\\\", \\\"stanza\\\": 0.14, \\\"subjectivity\\\": 0.403, \\\"textblob\\\": 0.162, \\\"title\\\": \\\"Security_Team_Announcement\\\", \\\"vader\\\": 0.998}, \\\"geometry\\\": {\\\"type\\\": \\\"Point\\\", \\\"coordinates\\\": [-87.6244212, 41.8755616]}}, {\\\"id\\\": \\\"2\\\", \\\"type\\\": \\\"Feature\\\", \\\"properties\\\": {\\\"date\\\": \\\"2009-06-04\\\", \\\"location\\\": \\\"Cairo, Egypt\\\", \\\"stanza\\\": -0.15, \\\"subjectivity\\\": 0.457, \\\"textblob\\\": 0.11, \\\"title\\\": \\\"Cairo_University\\\", \\\"vader\\\": 1.0}, \\\"geometry\\\": {\\\"type\\\": \\\"Point\\\", \\\"coordinates\\\": [31.2357257, 30.0443879]}}, {\\\"id\\\": \\\"3\\\", \\\"type\\\": \\\"Feature\\\", \\\"properties\\\": {\\\"date\\\": \\\"2015-10-01\\\", \\\"location\\\": \\\"Washington D.C.\\\", \\\"stanza\\\": -0.25, \\\"subjectivity\\\": 0.435, \\\"textblob\\\": 0.061, \\\"title\\\": \\\"Umpqua_Community_College_Shootings\\\", \\\"vader\\\": -0.998}, \\\"geometry\\\": {\\\"type\\\": \\\"Point\\\", \\\"coordinates\\\": [-77.0365427, 38.8950368]}}, {\\\"id\\\": \\\"4\\\", \\\"type\\\": \\\"Feature\\\", \\\"properties\\\": {\\\"date\\\": \\\"2013-04-27\\\", \\\"location\\\": \\\"Washington Hilton Hotel, Washington D.C.\\\", \\\"stanza\\\": -0.012, \\\"subjectivity\\\": 0.501, \\\"textblob\\\": 0.145, \\\"title\\\": \\\"White_House_Correspondent_Dinner_2013\\\", \\\"vader\\\": 1.0}, \\\"geometry\\\": {\\\"type\\\": \\\"Point\\\", \\\"coordinates\\\": [-77.0452084, 38.9165229]}}, {\\\"id\\\": \\\"5\\\", \\\"type\\\": \\\"Feature\\\", \\\"properties\\\": {\\\"date\\\": \\\"2014-06-30\\\", \\\"location\\\": \\\"unknown_location\\\", \\\"stanza\\\": -0.177, \\\"subjectivity\\\": 0.436, \\\"textblob\\\": 0.145, \\\"title\\\": \\\"Border_Security_and_Immigration_Reform\\\", \\\"vader\\\": 0.999}, \\\"geometry\\\": {\\\"type\\\": \\\"Point\\\", \\\"coordinates\\\": [36.7416612, -0.9999454]}}, {\\\"id\\\": \\\"6\\\", \\\"type\\\": \\\"Feature\\\", \\\"properties\\\": {\\\"date\\\": \\\"2007-05-23\\\", \\\"location\\\": \\\"Washington D.C.\\\", \\\"stanza\\\": -0.118, \\\"subjectivity\\\": 0.466, \\\"textblob\\\": 0.086, \\\"title\\\": \\\"Senate_Floor_Immigration_Reform\\\", \\\"vader\\\": 0.998}, \\\"geometry\\\": {\\\"type\\\": \\\"Point\\\", \\\"coordinates\\\": [-77.0365427, 38.8950368]}}, {\\\"id\\\": \\\"7\\\", \\\"type\\\": \\\"Feature\\\", \\\"properties\\\": {\\\"date\\\": \\\"2009-04-23\\\", \\\"location\\\": \\\"Washington D.C.\\\", \\\"stanza\\\": -0.075, \\\"subjectivity\\\": 0.525, \\\"textblob\\\": 0.102, \\\"title\\\": \\\"Holocaust_Days_of_Remembrance\\\", \\\"vader\\\": 0.99}, \\\"geometry\\\": {\\\"type\\\": \\\"Point\\\", \\\"coordinates\\\": [-77.0365427, 38.8950368]}}, {\\\"id\\\": \\\"8\\\", \\\"type\\\": \\\"Feature\\\", \\\"properties\\\": {\\\"date\\\": \\\"2009-12-18\\\", \\\"location\\\": \\\"Copenhagen, Denmark\\\", \\\"stanza\\\": -0.09, \\\"subjectivity\\\": 0.411, \\\"textblob\\\": 0.14, \\\"title\\\": \\\"UN_Copenhagen_Climate_Change\\\", \\\"vader\\\": 1.0}, \\\"geometry\\\": {\\\"type\\\": \\\"Point\\\", \\\"coordinates\\\": [12.5700724, 55.6867243]}}, {\\\"id\\\": \\\"9\\\", \\\"type\\\": \\\"Feature\\\", \\\"properties\\\": {\\\"date\\\": \\\"2016-11-16\\\", \\\"location\\\": \\\"Stavros Niarchos Foundation Cultural Center, Athens, Greece\\\", \\\"stanza\\\": -0.055, \\\"subjectivity\\\": 0.476, \\\"textblob\\\": 0.187, \\\"title\\\": \\\"People_of_Greece\\\", \\\"vader\\\": 1.0}, \\\"geometry\\\": {\\\"type\\\": \\\"Point\\\", \\\"coordinates\\\": [23.6913101, 37.9406226]}}, {\\\"id\\\": \\\"10\\\", \\\"type\\\": \\\"Feature\\\", \\\"properties\\\": {\\\"date\\\": \\\"2015-01-27\\\", \\\"location\\\": \\\"Siri Fort Auditorium, New Delhi, India\\\", \\\"stanza\\\": 0.086, \\\"subjectivity\\\": 0.487, \\\"textblob\\\": 0.208, \\\"title\\\": \\\"India_Speech_at_New_Delhi\\\", \\\"vader\\\": 1.0}, \\\"geometry\\\": null}, {\\\"id\\\": \\\"11\\\", \\\"type\\\": \\\"Feature\\\", \\\"properties\\\": {\\\"date\\\": \\\"2014-11-20\\\", \\\"location\\\": \\\"unknown_location\\\", \\\"stanza\\\": -0.13, \\\"subjectivity\\\": 0.429, \\\"textblob\\\": 0.095, \\\"title\\\": \\\"Fixing_Immigration_Policy\\\", \\\"vader\\\": 1.0}, \\\"geometry\\\": {\\\"type\\\": \\\"Point\\\", \\\"coordinates\\\": [36.7416612, -0.9999454]}}, {\\\"id\\\": \\\"12\\\", \\\"type\\\": \\\"Feature\\\", \\\"properties\\\": {\\\"date\\\": \\\"2009-01-08\\\", \\\"location\\\": \\\"Fairfax, Virginia\\\", \\\"stanza\\\": -0.286, \\\"subjectivity\\\": 0.444, \\\"textblob\\\": 0.117, \\\"title\\\": \\\"George_Mason_21st_Century_Economy\\\", \\\"vader\\\": 0.999}, \\\"geometry\\\": {\\\"type\\\": \\\"Point\\\", \\\"coordinates\\\": [-77.3063733, 38.8462236]}}, {\\\"id\\\": \\\"13\\\", \\\"type\\\": \\\"Feature\\\", \\\"properties\\\": {\\\"date\\\": \\\"2012-07-20\\\", \\\"location\\\": \\\"Harborside Event Center, Fort Myers, Florida\\\", \\\"stanza\\\": 0.022, \\\"subjectivity\\\": 0.481, \\\"textblob\\\": 0.131, \\\"title\\\": \\\"Aurora_Tragedy\\\", \\\"vader\\\": 0.998}, \\\"geometry\\\": {\\\"type\\\": \\\"Point\\\", \\\"coordinates\\\": [-81.871826378728, 26.64469215]}}, {\\\"id\\\": \\\"14\\\", \\\"type\\\": \\\"Feature\\\", \\\"properties\\\": {\\\"date\\\": \\\"2004-07-27\\\", \\\"location\\\": \\\"Fleet Center, Boston\\\", \\\"stanza\\\": -0.018, \\\"subjectivity\\\": 0.408, \\\"textblob\\\": 0.153, \\\"title\\\": \\\"2004_DNC_Address\\\", \\\"vader\\\": 1.0}, \\\"geometry\\\": null}, {\\\"id\\\": \\\"15\\\", \\\"type\\\": \\\"Feature\\\", \\\"properties\\\": {\\\"date\\\": \\\"2009-12-29\\\", \\\"location\\\": \\\"Kaneohe Bay Marine Base, Kaneohe, Hawaii\\\", \\\"stanza\\\": -0.054, \\\"subjectivity\\\": 0.461, \\\"textblob\\\": 0.109, \\\"title\\\": \\\"NW_Flight_253_Update\\\", \\\"vader\\\": 0.995}, \\\"geometry\\\": null}, {\\\"id\\\": \\\"16\\\", \\\"type\\\": \\\"Feature\\\", \\\"properties\\\": {\\\"date\\\": \\\"2013-04-15\\\", \\\"location\\\": \\\"unknown_location\\\", \\\"stanza\\\": 0.032, \\\"subjectivity\\\": 0.476, \\\"textblob\\\": 0.165, \\\"title\\\": \\\"Boston_Marathon_Bombing_First_Statement\\\", \\\"vader\\\": 0.998}, \\\"geometry\\\": {\\\"type\\\": \\\"Point\\\", \\\"coordinates\\\": [36.7416612, -0.9999454]}}, {\\\"id\\\": \\\"17\\\", \\\"type\\\": \\\"Feature\\\", \\\"properties\\\": {\\\"date\\\": \\\"2009-12-28\\\", \\\"location\\\": \\\"Kailua, Hawaii\\\", \\\"stanza\\\": -0.113, \\\"subjectivity\\\": 0.46, \\\"textblob\\\": 0.161, \\\"title\\\": \\\"Flight_253_Terrorist_Attempt_Press_Statement\\\", \\\"vader\\\": 0.995}, \\\"geometry\\\": {\\\"type\\\": \\\"Point\\\", \\\"coordinates\\\": [-157.72989134661873, 21.394833]}}, {\\\"id\\\": \\\"18\\\", \\\"type\\\": \\\"Feature\\\", \\\"properties\\\": {\\\"date\\\": \\\"2011-09-08\\\", \\\"location\\\": \\\"Washington D.C.\\\", \\\"stanza\\\": -0.179, \\\"subjectivity\\\": 0.438, \\\"textblob\\\": 0.134, \\\"title\\\": \\\"Joint_Session_on_Economy_and_Jobs\\\", \\\"vader\\\": 1.0}, \\\"geometry\\\": {\\\"type\\\": \\\"Point\\\", \\\"coordinates\\\": [-77.0365427, 38.8950368]}}, {\\\"id\\\": \\\"19\\\", \\\"type\\\": \\\"Feature\\\", \\\"properties\\\": {\\\"date\\\": \\\"2007-02-10\\\", \\\"location\\\": \\\"Springfield, Illinois\\\", \\\"stanza\\\": -0.053, \\\"subjectivity\\\": 0.49, \\\"textblob\\\": 0.15, \\\"title\\\": \\\"Announces_Candidacy\\\", \\\"vader\\\": 1.0}, \\\"geometry\\\": {\\\"type\\\": \\\"Point\\\", \\\"coordinates\\\": [-89.6439575, 39.7990175]}}, {\\\"id\\\": \\\"20\\\", \\\"type\\\": \\\"Feature\\\", \\\"properties\\\": {\\\"date\\\": \\\"2013-01-16\\\", \\\"location\\\": \\\"unknown_location\\\", \\\"stanza\\\": -0.233, \\\"subjectivity\\\": 0.505, \\\"textblob\\\": 0.139, \\\"title\\\": \\\"Gun_Violence_Exec_Order_23\\\", \\\"vader\\\": -0.992}, \\\"geometry\\\": {\\\"type\\\": \\\"Point\\\", \\\"coordinates\\\": [36.7416612, -0.9999454]}}, {\\\"id\\\": \\\"21\\\", \\\"type\\\": \\\"Feature\\\", \\\"properties\\\": {\\\"date\\\": \\\"2007-11-10\\\", \\\"location\\\": \\\"Veterans Memorial Auditorium, Des Moines, Iowa\\\", \\\"stanza\\\": -0.305, \\\"subjectivity\\\": 0.402, \\\"textblob\\\": 0.106, \\\"title\\\": \\\"Barack_Obama_-_Jefferson-Jackson_Dinner\\\", \\\"vader\\\": 0.989}, \\\"geometry\\\": null}, {\\\"id\\\": \\\"22\\\", \\\"type\\\": \\\"Feature\\\", \\\"properties\\\": {\\\"date\\\": \\\"2014-04-29\\\", \\\"location\\\": \\\"Manila, Philippines\\\", \\\"stanza\\\": 0.0, \\\"subjectivity\\\": 0.517, \\\"textblob\\\": 0.206, \\\"title\\\": \\\"Fort_Bonifacio\\\", \\\"vader\\\": 1.0}, \\\"geometry\\\": {\\\"type\\\": \\\"Point\\\", \\\"coordinates\\\": [120.9782618, 14.5948914]}}, {\\\"id\\\": \\\"23\\\", \\\"type\\\": \\\"Feature\\\", \\\"properties\\\": {\\\"date\\\": \\\"2015-01-20\\\", \\\"location\\\": \\\"unknown_location\\\", \\\"stanza\\\": -0.112, \\\"subjectivity\\\": 0.45, \\\"textblob\\\": 0.158, \\\"title\\\": \\\"State_of_the_Union_2015\\\", \\\"vader\\\": 1.0}, \\\"geometry\\\": {\\\"type\\\": \\\"Point\\\", \\\"coordinates\\\": [36.7416612, -0.9999454]}}, {\\\"id\\\": \\\"24\\\", \\\"type\\\": \\\"Feature\\\", \\\"properties\\\": {\\\"date\\\": \\\"2012-06-28\\\", \\\"location\\\": \\\"White House, Washington D.C.\\\", \\\"stanza\\\": -0.125, \\\"subjectivity\\\": 0.499, \\\"textblob\\\": 0.167, \\\"title\\\": \\\"USSC_Ruling_Affordable_Care_Act\\\", \\\"vader\\\": 1.0}, \\\"geometry\\\": {\\\"type\\\": \\\"Point\\\", \\\"coordinates\\\": [-77.03655315, 38.8976997]}}, {\\\"id\\\": \\\"25\\\", \\\"type\\\": \\\"Feature\\\", \\\"properties\\\": {\\\"date\\\": \\\"2013-04-17\\\", \\\"location\\\": \\\"White House, Washington D.C.\\\", \\\"stanza\\\": -0.27, \\\"subjectivity\\\": 0.393, \\\"textblob\\\": 0.06, \\\"title\\\": \\\"Senate_Vote_Background_Check\\\", \\\"vader\\\": -0.998}, \\\"geometry\\\": {\\\"type\\\": \\\"Point\\\", \\\"coordinates\\\": [-77.03655315, 38.8976997]}}, {\\\"id\\\": \\\"26\\\", \\\"type\\\": \\\"Feature\\\", \\\"properties\\\": {\\\"date\\\": \\\"2010-07-01\\\", \\\"location\\\": \\\"American University, Washington D.C.\\\", \\\"stanza\\\": -0.144, \\\"subjectivity\\\": 0.49, \\\"textblob\\\": 0.076, \\\"title\\\": \\\"Comprehensive_Immigration_Reform\\\", \\\"vader\\\": 1.0}, \\\"geometry\\\": {\\\"type\\\": \\\"Point\\\", \\\"coordinates\\\": [-77.08939223651926, 38.93804505]}}, {\\\"id\\\": \\\"27\\\", \\\"type\\\": \\\"Feature\\\", \\\"properties\\\": {\\\"date\\\": \\\"2011-10-21\\\", \\\"location\\\": \\\"White House, Washington D.C.\\\", \\\"stanza\\\": -0.083, \\\"subjectivity\\\": 0.525, \\\"textblob\\\": 0.151, \\\"title\\\": \\\"Muammar_Qaddafi_Death\\\", \\\"vader\\\": 0.998}, \\\"geometry\\\": {\\\"type\\\": \\\"Point\\\", \\\"coordinates\\\": [-77.03655315, 38.8976997]}}, {\\\"id\\\": \\\"28\\\", \\\"type\\\": \\\"Feature\\\", \\\"properties\\\": {\\\"date\\\": \\\"2011-10-21\\\", \\\"location\\\": \\\"White House, Washington D.C.\\\", \\\"stanza\\\": 0.078, \\\"subjectivity\\\": 0.459, \\\"textblob\\\": 0.194, \\\"title\\\": \\\"Iraq_War_Responsibly_Ending\\\", \\\"vader\\\": 0.999}, \\\"geometry\\\": {\\\"type\\\": \\\"Point\\\", \\\"coordinates\\\": [-77.03655315, 38.8976997]}}, {\\\"id\\\": \\\"29\\\", \\\"type\\\": \\\"Feature\\\", \\\"properties\\\": {\\\"date\\\": \\\"2012-09-25\\\", \\\"location\\\": \\\"New York, New York\\\", \\\"stanza\\\": -0.199, \\\"subjectivity\\\": 0.451, \\\"textblob\\\": 0.062, \\\"title\\\": \\\"UNGA_2012\\\", \\\"vader\\\": 1.0}, \\\"geometry\\\": {\\\"type\\\": \\\"Point\\\", \\\"coordinates\\\": [-74.0060152, 40.7127281]}}, {\\\"id\\\": \\\"30\\\", \\\"type\\\": \\\"Feature\\\", \\\"properties\\\": {\\\"date\\\": \\\"2010-01-17\\\", \\\"location\\\": \\\"Vermont Avenue Baptist Church, Washington D.C.\\\", \\\"stanza\\\": -0.133, \\\"subjectivity\\\": 0.46, \\\"textblob\\\": 0.091, \\\"title\\\": \\\"MLK_Remembrance\\\", \\\"vader\\\": 1.0}, \\\"geometry\\\": {\\\"type\\\": \\\"Point\\\", \\\"coordinates\\\": [-77.0287509853597, 38.912027300000005]}}, {\\\"id\\\": \\\"31\\\", \\\"type\\\": \\\"Feature\\\", \\\"properties\\\": {\\\"date\\\": \\\"2013-02-26\\\", \\\"location\\\": \\\"Newport News Shipbuilding, Newport News, Virginia\\\", \\\"stanza\\\": -0.237, \\\"subjectivity\\\": 0.511, \\\"textblob\\\": 0.122, \\\"title\\\": \\\"Sequester_Impact_Newport_News\\\", \\\"vader\\\": 0.997}, \\\"geometry\\\": {\\\"type\\\": \\\"Point\\\", \\\"coordinates\\\": [-76.44414948067441, 36.99416165]}}, {\\\"id\\\": \\\"32\\\", \\\"type\\\": \\\"Feature\\\", \\\"properties\\\": {\\\"date\\\": \\\"2011-06-22\\\", \\\"location\\\": \\\"White House, Washington D.C.\\\", \\\"stanza\\\": -0.101, \\\"subjectivity\\\": 0.428, \\\"textblob\\\": 0.106, \\\"title\\\": \\\"Afghanistan_Troop_Reduction\\\", \\\"vader\\\": 0.998}, \\\"geometry\\\": {\\\"type\\\": \\\"Point\\\", \\\"coordinates\\\": [-77.03655315, 38.8976997]}}, {\\\"id\\\": \\\"33\\\", \\\"type\\\": \\\"Feature\\\", \\\"properties\\\": {\\\"date\\\": \\\"2012-12-14\\\", \\\"location\\\": \\\"unknown_location\\\", \\\"stanza\\\": -0.182, \\\"subjectivity\\\": 0.502, \\\"textblob\\\": 0.179, \\\"title\\\": \\\"Sandy_Hook_Elementary_School\\\", \\\"vader\\\": 0.997}, \\\"geometry\\\": {\\\"type\\\": \\\"Point\\\", \\\"coordinates\\\": [36.7416612, -0.9999454]}}, {\\\"id\\\": \\\"34\\\", \\\"type\\\": \\\"Feature\\\", \\\"properties\\\": {\\\"date\\\": \\\"2011-04-30\\\", \\\"location\\\": \\\"Washington D.C.\\\", \\\"stanza\\\": -0.109, \\\"subjectivity\\\": 0.491, \\\"textblob\\\": 0.152, \\\"title\\\": \\\"White_House_Correspondents_Dinner_2011\\\", \\\"vader\\\": 0.999}, \\\"geometry\\\": {\\\"type\\\": \\\"Point\\\", \\\"coordinates\\\": [-77.0365427, 38.8950368]}}, {\\\"id\\\": \\\"35\\\", \\\"type\\\": \\\"Feature\\\", \\\"properties\\\": {\\\"date\\\": \\\"2015-08-05\\\", \\\"location\\\": \\\"Washington D.C.\\\", \\\"stanza\\\": -0.306, \\\"subjectivity\\\": 0.45, \\\"textblob\\\": 0.108, \\\"title\\\": \\\"Iran_Deal_American_University\\\", \\\"vader\\\": 0.999}, \\\"geometry\\\": {\\\"type\\\": \\\"Point\\\", \\\"coordinates\\\": [-77.0365427, 38.8950368]}}, {\\\"id\\\": \\\"36\\\", \\\"type\\\": \\\"Feature\\\", \\\"properties\\\": {\\\"date\\\": \\\"2013-09-24\\\", \\\"location\\\": \\\"New York, New York\\\", \\\"stanza\\\": -0.179, \\\"subjectivity\\\": 0.425, \\\"textblob\\\": 0.057, \\\"title\\\": \\\"UNGA_68th_Session\\\", \\\"vader\\\": 1.0}, \\\"geometry\\\": {\\\"type\\\": \\\"Point\\\", \\\"coordinates\\\": [-74.0060152, 40.7127281]}}, {\\\"id\\\": \\\"37\\\", \\\"type\\\": \\\"Feature\\\", \\\"properties\\\": {\\\"date\\\": \\\"2016-02-20\\\", \\\"location\\\": \\\"unknown_location\\\", \\\"stanza\\\": 0.107, \\\"subjectivity\\\": 0.378, \\\"textblob\\\": 0.165, \\\"title\\\": \\\"Weekly_Address_on_Cuba\\\", \\\"vader\\\": 0.999}, \\\"geometry\\\": {\\\"type\\\": \\\"Point\\\", \\\"coordinates\\\": [36.7416612, -0.9999454]}}, {\\\"id\\\": \\\"38\\\", \\\"type\\\": \\\"Feature\\\", \\\"properties\\\": {\\\"date\\\": \\\"2010-05-10\\\", \\\"location\\\": \\\"unknown_location\\\", \\\"stanza\\\": 0.277, \\\"subjectivity\\\": 0.499, \\\"textblob\\\": 0.268, \\\"title\\\": \\\"Elena_Kagan_USSC_Nomination\\\", \\\"vader\\\": 1.0}, \\\"geometry\\\": {\\\"type\\\": \\\"Point\\\", \\\"coordinates\\\": [36.7416612, -0.9999454]}}, {\\\"id\\\": \\\"39\\\", \\\"type\\\": \\\"Feature\\\", \\\"properties\\\": {\\\"date\\\": \\\"2017-01-12\\\", \\\"location\\\": \\\"White House, Washington D.C.\\\", \\\"stanza\\\": 0.148, \\\"subjectivity\\\": 0.497, \\\"textblob\\\": 0.214, \\\"title\\\": \\\"Joe_Biden_Medal_of_Freedom\\\", \\\"vader\\\": 1.0}, \\\"geometry\\\": {\\\"type\\\": \\\"Point\\\", \\\"coordinates\\\": [-77.03655315, 38.8976997]}}, {\\\"id\\\": \\\"40\\\", \\\"type\\\": \\\"Feature\\\", \\\"properties\\\": {\\\"date\\\": \\\"2011-03-21\\\", \\\"location\\\": \\\"Santiago, Chile\\\", \\\"stanza\\\": 0.027, \\\"subjectivity\\\": 0.474, \\\"textblob\\\": 0.176, \\\"title\\\": \\\"Chile_Latin_America\\\", \\\"vader\\\": 1.0}, \\\"geometry\\\": {\\\"type\\\": \\\"Point\\\", \\\"coordinates\\\": [-70.6504502, -33.4377756]}}, {\\\"id\\\": \\\"41\\\", \\\"type\\\": \\\"Feature\\\", \\\"properties\\\": {\\\"date\\\": \\\"2009-02-24\\\", \\\"location\\\": \\\"unknown_location\\\", \\\"stanza\\\": -0.246, \\\"subjectivity\\\": 0.433, \\\"textblob\\\": 0.101, \\\"title\\\": \\\"State_of_the_Nation_2009\\\", \\\"vader\\\": 1.0}, \\\"geometry\\\": {\\\"type\\\": \\\"Point\\\", \\\"coordinates\\\": [36.7416612, -0.9999454]}}, {\\\"id\\\": \\\"42\\\", \\\"type\\\": \\\"Feature\\\", \\\"properties\\\": {\\\"date\\\": \\\"2013-04-02\\\", \\\"location\\\": \\\"White House, Washington D.C.\\\", \\\"stanza\\\": -0.011, \\\"subjectivity\\\": 0.497, \\\"textblob\\\": 0.223, \\\"title\\\": \\\"BRAIN_Initiative\\\", \\\"vader\\\": 1.0}, \\\"geometry\\\": {\\\"type\\\": \\\"Point\\\", \\\"coordinates\\\": [-77.03655315, 38.8976997]}}, {\\\"id\\\": \\\"43\\\", \\\"type\\\": \\\"Feature\\\", \\\"properties\\\": {\\\"date\\\": \\\"2007-03-21\\\", \\\"location\\\": \\\"Washington D.C.\\\", \\\"stanza\\\": -0.164, \\\"subjectivity\\\": 0.466, \\\"textblob\\\": 0.158, \\\"title\\\": \\\"Iraq_War_After_4_Years\\\", \\\"vader\\\": -0.152}, \\\"geometry\\\": {\\\"type\\\": \\\"Point\\\", \\\"coordinates\\\": [-77.0365427, 38.8950368]}}, {\\\"id\\\": \\\"44\\\", \\\"type\\\": \\\"Feature\\\", \\\"properties\\\": {\\\"date\\\": \\\"2010-06-02\\\", \\\"location\\\": \\\"Pittsburgh, Pennsylvania\\\", \\\"stanza\\\": -0.274, \\\"subjectivity\\\": 0.413, \\\"textblob\\\": 0.119, \\\"title\\\": \\\"Carnegie_Mellon_Economy\\\", \\\"vader\\\": 1.0}, \\\"geometry\\\": {\\\"type\\\": \\\"Point\\\", \\\"coordinates\\\": [-79.9900861, 40.4416941]}}, {\\\"id\\\": \\\"45\\\", \\\"type\\\": \\\"Feature\\\", \\\"properties\\\": {\\\"date\\\": \\\"2009-01-24\\\", \\\"location\\\": \\\"unknown_location\\\", \\\"stanza\\\": -0.267, \\\"subjectivity\\\": 0.428, \\\"textblob\\\": 0.132, \\\"title\\\": \\\"First_Presidential_Weekly_Address\\\", \\\"vader\\\": 0.995}, \\\"geometry\\\": {\\\"type\\\": \\\"Point\\\", \\\"coordinates\\\": [36.7416612, -0.9999454]}}, {\\\"id\\\": \\\"46\\\", \\\"type\\\": \\\"Feature\\\", \\\"properties\\\": {\\\"date\\\": \\\"2008-11-18\\\", \\\"location\\\": \\\"unknown_location\\\", \\\"stanza\\\": -0.128, \\\"subjectivity\\\": 0.481, \\\"textblob\\\": 0.166, \\\"title\\\": \\\"Global_Climate_Message\\\", \\\"vader\\\": 0.998}, \\\"geometry\\\": {\\\"type\\\": \\\"Point\\\", \\\"coordinates\\\": [36.7416612, -0.9999454]}}, {\\\"id\\\": \\\"47\\\", \\\"type\\\": \\\"Feature\\\", \\\"properties\\\": {\\\"date\\\": \\\"2011-08-30\\\", \\\"location\\\": \\\"Minneapolis Convention Center, Minnesota\\\", \\\"stanza\\\": -0.014, \\\"subjectivity\\\": 0.45, \\\"textblob\\\": 0.202, \\\"title\\\": \\\"American_Legion_Conference\\\", \\\"vader\\\": 1.0}, \\\"geometry\\\": {\\\"type\\\": \\\"Point\\\", \\\"coordinates\\\": [-93.2737079434336, 44.96933115]}}, {\\\"id\\\": \\\"48\\\", \\\"type\\\": \\\"Feature\\\", \\\"properties\\\": {\\\"date\\\": \\\"2015-01-09\\\", \\\"location\\\": \\\"Pellissippi State Community College, Knoxville, Tennessee\\\", \\\"stanza\\\": 0.0, \\\"subjectivity\\\": 0.444, \\\"textblob\\\": 0.181, \\\"title\\\": \\\"Community_College_Plan\\\", \\\"vader\\\": 1.0}, \\\"geometry\\\": {\\\"type\\\": \\\"Point\\\", \\\"coordinates\\\": [-83.96456658317715, 35.95608045]}}, {\\\"id\\\": \\\"49\\\", \\\"type\\\": \\\"Feature\\\", \\\"properties\\\": {\\\"date\\\": \\\"2014-04-10\\\", \\\"location\\\": \\\"Lyndon Baines Johnson Library, Austin, Texas\\\", \\\"stanza\\\": -0.076, \\\"subjectivity\\\": 0.522, \\\"textblob\\\": 0.117, \\\"title\\\": \\\"Civil_Rights_Summit_LBJ\\\", \\\"vader\\\": 1.0}, \\\"geometry\\\": {\\\"type\\\": \\\"Point\\\", \\\"coordinates\\\": [-97.72928516466844, 30.2858948]}}, {\\\"id\\\": \\\"50\\\", \\\"type\\\": \\\"Feature\\\", \\\"properties\\\": {\\\"date\\\": \\\"2011-01-25\\\", \\\"location\\\": \\\"Washington D.C.\\\", \\\"stanza\\\": -0.097, \\\"subjectivity\\\": 0.418, \\\"textblob\\\": 0.152, \\\"title\\\": \\\"State_of_the_Union_2011\\\", \\\"vader\\\": 1.0}, \\\"geometry\\\": {\\\"type\\\": \\\"Point\\\", \\\"coordinates\\\": [-77.0365427, 38.8950368]}}, {\\\"id\\\": \\\"51\\\", \\\"type\\\": \\\"Feature\\\", \\\"properties\\\": {\\\"date\\\": \\\"2013-02-27\\\", \\\"location\\\": \\\"unknown_location\\\", \\\"stanza\\\": -0.17, \\\"subjectivity\\\": 0.487, \\\"textblob\\\": -0.008, \\\"title\\\": \\\"Rosa_Parks_Statue_Dedication\\\", \\\"vader\\\": 0.965}, \\\"geometry\\\": {\\\"type\\\": \\\"Point\\\", \\\"coordinates\\\": [36.7416612, -0.9999454]}}, {\\\"id\\\": \\\"52\\\", \\\"type\\\": \\\"Feature\\\", \\\"properties\\\": {\\\"date\\\": \\\"2015-11-13\\\", \\\"location\\\": \\\"unknown_location\\\", \\\"stanza\\\": 0.034, \\\"subjectivity\\\": 0.477, \\\"textblob\\\": 0.067, \\\"title\\\": \\\"Burundi_People_Message\\\", \\\"vader\\\": 0.971}, \\\"geometry\\\": {\\\"type\\\": \\\"Point\\\", \\\"coordinates\\\": [36.7416612, -0.9999454]}}, {\\\"id\\\": \\\"53\\\", \\\"type\\\": \\\"Feature\\\", \\\"properties\\\": {\\\"date\\\": \\\"2009-06-04\\\", \\\"location\\\": \\\"unknown_location\\\", \\\"stanza\\\": -0.148, \\\"subjectivity\\\": 0.489, \\\"textblob\\\": 0.079, \\\"title\\\": \\\"Buchenwald_Concentration_Camp\\\", \\\"vader\\\": 0.99}, \\\"geometry\\\": {\\\"type\\\": \\\"Point\\\", \\\"coordinates\\\": [36.7416612, -0.9999454]}}, {\\\"id\\\": \\\"54\\\", \\\"type\\\": \\\"Feature\\\", \\\"properties\\\": {\\\"date\\\": \\\"2015-06-18\\\", \\\"location\\\": \\\"White House, Washington D.C.\\\", \\\"stanza\\\": -0.157, \\\"subjectivity\\\": 0.443, \\\"textblob\\\": 0.145, \\\"title\\\": \\\"South_Carolina_AME_Church_Shooting\\\", \\\"vader\\\": -0.872}, \\\"geometry\\\": {\\\"type\\\": \\\"Point\\\", \\\"coordinates\\\": [-77.03655315, 38.8976997]}}, {\\\"id\\\": \\\"55\\\", \\\"type\\\": \\\"Feature\\\", \\\"properties\\\": {\\\"date\\\": \\\"2013-02-12\\\", \\\"location\\\": \\\"Washington D.C.\\\", \\\"stanza\\\": -0.093, \\\"subjectivity\\\": 0.436, \\\"textblob\\\": 0.153, \\\"title\\\": \\\"State_of_the_Union_2013\\\", \\\"vader\\\": 1.0}, \\\"geometry\\\": {\\\"type\\\": \\\"Point\\\", \\\"coordinates\\\": [-77.0365427, 38.8950368]}}, {\\\"id\\\": \\\"56\\\", \\\"type\\\": \\\"Feature\\\", \\\"properties\\\": {\\\"date\\\": \\\"2013-09-22\\\", \\\"location\\\": \\\"The Marine Barracks, Washington D.C.\\\", \\\"stanza\\\": -0.119, \\\"subjectivity\\\": 0.51, \\\"textblob\\\": 0.128, \\\"title\\\": \\\"Navy_Yard_Shooting_Memorial\\\", \\\"vader\\\": 0.999}, \\\"geometry\\\": null}, {\\\"id\\\": \\\"57\\\", \\\"type\\\": \\\"Feature\\\", \\\"properties\\\": {\\\"date\\\": \\\"2012-11-19\\\", \\\"location\\\": \\\"Yangon, Myanmar\\\", \\\"stanza\\\": -0.015, \\\"subjectivity\\\": 0.465, \\\"textblob\\\": 0.146, \\\"title\\\": \\\"Yangon_University\\\", \\\"vader\\\": 1.0}, \\\"geometry\\\": {\\\"type\\\": \\\"Point\\\", \\\"coordinates\\\": [96.1609916, 16.7967129]}}, {\\\"id\\\": \\\"58\\\", \\\"type\\\": \\\"Feature\\\", \\\"properties\\\": {\\\"date\\\": \\\"2012-09-12\\\", \\\"location\\\": \\\"White House, Washington D.C.\\\", \\\"stanza\\\": -0.022, \\\"subjectivity\\\": 0.527, \\\"textblob\\\": 0.058, \\\"title\\\": \\\"Benghazi_Attacks_Rose_Garden\\\", \\\"vader\\\": 0.987}, \\\"geometry\\\": {\\\"type\\\": \\\"Point\\\", \\\"coordinates\\\": [-77.03655315, 38.8976997]}}, {\\\"id\\\": \\\"59\\\", \\\"type\\\": \\\"Feature\\\", \\\"properties\\\": {\\\"date\\\": \\\"2013-12-05\\\", \\\"location\\\": \\\"unknown_location\\\", \\\"stanza\\\": 0.214, \\\"subjectivity\\\": 0.543, \\\"textblob\\\": 0.284, \\\"title\\\": \\\"On_the_Passing_of_Nelson_Mandela\\\", \\\"vader\\\": 1.0}, \\\"geometry\\\": {\\\"type\\\": \\\"Point\\\", \\\"coordinates\\\": [36.7416612, -0.9999454]}}, {\\\"id\\\": \\\"60\\\", \\\"type\\\": \\\"Feature\\\", \\\"properties\\\": {\\\"date\\\": \\\"2010-08-31\\\", \\\"location\\\": \\\"White House, Washington D.C.\\\", \\\"stanza\\\": -0.014, \\\"subjectivity\\\": 0.455, \\\"textblob\\\": 0.122, \\\"title\\\": \\\"Iraqi_Freedom_End\\\", \\\"vader\\\": 0.995}, \\\"geometry\\\": {\\\"type\\\": \\\"Point\\\", \\\"coordinates\\\": [-77.03655315, 38.8976997]}}, {\\\"id\\\": \\\"61\\\", \\\"type\\\": \\\"Feature\\\", \\\"properties\\\": {\\\"date\\\": \\\"2015-11-30\\\", \\\"location\\\": \\\"Le Bourget, Paris, France\\\", \\\"stanza\\\": -0.129, \\\"subjectivity\\\": 0.464, \\\"textblob\\\": 0.132, \\\"title\\\": \\\"COP21\\\", \\\"vader\\\": 1.0}, \\\"geometry\\\": {\\\"type\\\": \\\"Point\\\", \\\"coordinates\\\": [2.32675, 48.8727056]}}, {\\\"id\\\": \\\"62\\\", \\\"type\\\": \\\"Feature\\\", \\\"properties\\\": {\\\"date\\\": \\\"2005-01-06\\\", \\\"location\\\": \\\"Washington D.C.\\\", \\\"stanza\\\": -0.208, \\\"subjectivity\\\": 0.57, \\\"textblob\\\": 0.183, \\\"title\\\": \\\"Senate_Speech_on_Ohio_Electoral_Vote\\\", \\\"vader\\\": 0.994}, \\\"geometry\\\": {\\\"type\\\": \\\"Point\\\", \\\"coordinates\\\": [-77.0365427, 38.8950368]}}, {\\\"id\\\": \\\"63\\\", \\\"type\\\": \\\"Feature\\\", \\\"properties\\\": {\\\"date\\\": \\\"2013-05-24\\\", \\\"location\\\": \\\"Annapolis, Maryland\\\", \\\"stanza\\\": 0.007, \\\"subjectivity\\\": 0.461, \\\"textblob\\\": 0.158, \\\"title\\\": \\\"Naval_Academy_Commencement\\\", \\\"vader\\\": 1.0}, \\\"geometry\\\": {\\\"type\\\": \\\"Point\\\", \\\"coordinates\\\": [-76.492786, 38.9786401]}}, {\\\"id\\\": \\\"64\\\", \\\"type\\\": \\\"Feature\\\", \\\"properties\\\": {\\\"date\\\": \\\"2017-01-04\\\", \\\"location\\\": \\\"Joint Base Myer-Henderson, Fort Myer, Virginia\\\", \\\"stanza\\\": 0.159, \\\"subjectivity\\\": 0.442, \\\"textblob\\\": 0.193, \\\"title\\\": \\\"Armed_Forces_Farewell\\\", \\\"vader\\\": 1.0}, \\\"geometry\\\": {\\\"type\\\": \\\"Point\\\", \\\"coordinates\\\": [-77.08082799848256, 38.877461]}}, {\\\"id\\\": \\\"65\\\", \\\"type\\\": \\\"Feature\\\", \\\"properties\\\": {\\\"date\\\": \\\"2013-10-02\\\", \\\"location\\\": \\\"White House, Washington D.C.\\\", \\\"stanza\\\": -0.349, \\\"subjectivity\\\": 0.401, \\\"textblob\\\": 0.119, \\\"title\\\": \\\"US_Govt_Shutdown_Statement\\\", \\\"vader\\\": 0.999}, \\\"geometry\\\": {\\\"type\\\": \\\"Point\\\", \\\"coordinates\\\": [-77.03655315, 38.8976997]}}, {\\\"id\\\": \\\"66\\\", \\\"type\\\": \\\"Feature\\\", \\\"properties\\\": {\\\"date\\\": \\\"2010-03-31\\\", \\\"location\\\": \\\"Camp Springs, Maryland\\\", \\\"stanza\\\": -0.011, \\\"subjectivity\\\": 0.416, \\\"textblob\\\": 0.085, \\\"title\\\": \\\"Energy_Security_AAFB\\\", \\\"vader\\\": 1.0}, \\\"geometry\\\": {\\\"type\\\": \\\"Point\\\", \\\"coordinates\\\": [-76.92419076299771, 38.8020807]}}, {\\\"id\\\": \\\"67\\\", \\\"type\\\": \\\"Feature\\\", \\\"properties\\\": {\\\"date\\\": \\\"2007-01-16\\\", \\\"location\\\": \\\"unknown_location\\\", \\\"stanza\\\": -0.231, \\\"subjectivity\\\": 0.509, \\\"textblob\\\": 0.151, \\\"title\\\": \\\"Candidate_Exploratory_Announcement\\\", \\\"vader\\\": 0.98}, \\\"geometry\\\": {\\\"type\\\": \\\"Point\\\", \\\"coordinates\\\": [36.7416612, -0.9999454]}}, {\\\"id\\\": \\\"68\\\", \\\"type\\\": \\\"Feature\\\", \\\"properties\\\": {\\\"date\\\": \\\"2009-05-14\\\", \\\"location\\\": \\\"Sun Devil Stadium, Tempe, Arizona\\\", \\\"stanza\\\": -0.104, \\\"subjectivity\\\": 0.49, \\\"textblob\\\": 0.162, \\\"title\\\": \\\"ASU_Commencement\\\", \\\"vader\\\": 1.0}, \\\"geometry\\\": {\\\"type\\\": \\\"Point\\\", \\\"coordinates\\\": [-111.93327690688318, 33.42655155]}}, {\\\"id\\\": \\\"69\\\", \\\"type\\\": \\\"Feature\\\", \\\"properties\\\": {\\\"date\\\": \\\"2009-12-10\\\", \\\"location\\\": \\\"Oslo City Hall, Oslo, Norway\\\", \\\"stanza\\\": -0.152, \\\"subjectivity\\\": 0.463, \\\"textblob\\\": 0.075, \\\"title\\\": \\\"Nobel_Lecture\\\", \\\"vader\\\": 0.992}, \\\"geometry\\\": null}, {\\\"id\\\": \\\"70\\\", \\\"type\\\": \\\"Feature\\\", \\\"properties\\\": {\\\"date\\\": \\\"2016-02-10\\\", \\\"location\\\": \\\"Illinois State Capitol, Springfield, Illinois\\\", \\\"stanza\\\": -0.18, \\\"subjectivity\\\": 0.491, \\\"textblob\\\": 0.128, \\\"title\\\": \\\"Illinois_General_Assembly\\\", \\\"vader\\\": 1.0}, \\\"geometry\\\": {\\\"type\\\": \\\"Point\\\", \\\"coordinates\\\": [-89.65491801985712, 39.79842575]}}, {\\\"id\\\": \\\"71\\\", \\\"type\\\": \\\"Feature\\\", \\\"properties\\\": {\\\"date\\\": \\\"2015-09-19\\\", \\\"location\\\": \\\"Washington D.C.\\\", \\\"stanza\\\": -0.097, \\\"subjectivity\\\": 0.476, \\\"textblob\\\": 0.189, \\\"title\\\": \\\"Congressional_Black_Caucus\\\", \\\"vader\\\": 1.0}, \\\"geometry\\\": {\\\"type\\\": \\\"Point\\\", \\\"coordinates\\\": [-77.0365427, 38.8950368]}}, {\\\"id\\\": \\\"72\\\", \\\"type\\\": \\\"Feature\\\", \\\"properties\\\": {\\\"date\\\": \\\"2012-10-29\\\", \\\"location\\\": \\\"James S. Brady Press Briefing Room\\\", \\\"stanza\\\": -0.02, \\\"subjectivity\\\": 0.483, \\\"textblob\\\": 0.114, \\\"title\\\": \\\"Benghazi_Remains_Transfer\\\", \\\"vader\\\": 0.999}, \\\"geometry\\\": null}, {\\\"id\\\": \\\"73\\\", \\\"type\\\": \\\"Feature\\\", \\\"properties\\\": {\\\"date\\\": \\\"2010-01-27\\\", \\\"location\\\": \\\"unknown_location\\\", \\\"stanza\\\": -0.04, \\\"subjectivity\\\": 0.477, \\\"textblob\\\": 0.1, \\\"title\\\": \\\"Auschwitz_and_Birkenau_Liberation_65th\\\", \\\"vader\\\": 0.99}, \\\"geometry\\\": {\\\"type\\\": \\\"Point\\\", \\\"coordinates\\\": [36.7416612, -0.9999454]}}, {\\\"id\\\": \\\"74\\\", \\\"type\\\": \\\"Feature\\\", \\\"properties\\\": {\\\"date\\\": \\\"2010-08-02\\\", \\\"location\\\": \\\"unknown_location\\\", \\\"stanza\\\": -0.023, \\\"subjectivity\\\": 0.461, \\\"textblob\\\": 0.19, \\\"title\\\": \\\"Disabled_Veterans_Conference\\\", \\\"vader\\\": 1.0}, \\\"geometry\\\": {\\\"type\\\": \\\"Point\\\", \\\"coordinates\\\": [36.7416612, -0.9999454]}}, {\\\"id\\\": \\\"75\\\", \\\"type\\\": \\\"Feature\\\", \\\"properties\\\": {\\\"date\\\": \\\"2011-04-13\\\", \\\"location\\\": \\\"unknown_location\\\", \\\"stanza\\\": -0.252, \\\"subjectivity\\\": 0.436, \\\"textblob\\\": 0.133, \\\"title\\\": \\\"GW_Fiscal_Policy\\\", \\\"vader\\\": 1.0}, \\\"geometry\\\": {\\\"type\\\": \\\"Point\\\", \\\"coordinates\\\": [36.7416612, -0.9999454]}}, {\\\"id\\\": \\\"76\\\", \\\"type\\\": \\\"Feature\\\", \\\"properties\\\": {\\\"date\\\": \\\"2010-06-15\\\", \\\"location\\\": \\\"Washington D.C.\\\", \\\"stanza\\\": -0.255, \\\"subjectivity\\\": 0.485, \\\"textblob\\\": 0.121, \\\"title\\\": \\\"Oval_Office_BP\\\", \\\"vader\\\": 1.0}, \\\"geometry\\\": {\\\"type\\\": \\\"Point\\\", \\\"coordinates\\\": [-77.0365427, 38.8950368]}}, {\\\"id\\\": \\\"77\\\", \\\"type\\\": \\\"Feature\\\", \\\"properties\\\": {\\\"date\\\": \\\"2011-03-30\\\", \\\"location\\\": \\\"Georgetown University, Washington D.C.\\\", \\\"stanza\\\": -0.106, \\\"subjectivity\\\": 0.432, \\\"textblob\\\": 0.145, \\\"title\\\": \\\"Energy_Security_Georgetown\\\", \\\"vader\\\": 1.0}, \\\"geometry\\\": {\\\"type\\\": \\\"Point\\\", \\\"coordinates\\\": [-77.07457962060826, 38.90893925]}}, {\\\"id\\\": \\\"78\\\", \\\"type\\\": \\\"Feature\\\", \\\"properties\\\": {\\\"date\\\": \\\"2006-07-20\\\", \\\"location\\\": \\\"unknown_location\\\", \\\"stanza\\\": -0.02, \\\"subjectivity\\\": 0.469, \\\"textblob\\\": 0.147, \\\"title\\\": \\\"Senate_Floor_Speech_on_Voting_Rights_Act_Renewal\\\", \\\"vader\\\": 0.999}, \\\"geometry\\\": {\\\"type\\\": \\\"Point\\\", \\\"coordinates\\\": [36.7416612, -0.9999454]}}, {\\\"id\\\": \\\"79\\\", \\\"type\\\": \\\"Feature\\\", \\\"properties\\\": {\\\"date\\\": \\\"2016-01-27\\\", \\\"location\\\": \\\"Israel Embassy, Washington D.C.\\\", \\\"stanza\\\": 0.008, \\\"subjectivity\\\": 0.506, \\\"textblob\\\": 0.141, \\\"title\\\": \\\"Righteous_Among_Nations_Ceremony\\\", \\\"vader\\\": 1.0}, \\\"geometry\\\": {\\\"type\\\": \\\"Point\\\", \\\"coordinates\\\": [-77.06842872907194, 38.9427494]}}, {\\\"id\\\": \\\"80\\\", \\\"type\\\": \\\"Feature\\\", \\\"properties\\\": {\\\"date\\\": \\\"2013-05-15\\\", \\\"location\\\": \\\"White House, Washington D.C.\\\", \\\"stanza\\\": -0.16, \\\"subjectivity\\\": 0.562, \\\"textblob\\\": 0.268, \\\"title\\\": \\\"IRS_Misconduct\\\", \\\"vader\\\": 0.999}, \\\"geometry\\\": {\\\"type\\\": \\\"Point\\\", \\\"coordinates\\\": [-77.03655315, 38.8976997]}}, {\\\"id\\\": \\\"81\\\", \\\"type\\\": \\\"Feature\\\", \\\"properties\\\": {\\\"date\\\": \\\"2016-03-16\\\", \\\"location\\\": \\\"White House, Washington D.C.\\\", \\\"stanza\\\": -0.016, \\\"subjectivity\\\": 0.512, \\\"textblob\\\": 0.135, \\\"title\\\": \\\"Merrick_Garland_USSC_Nomination\\\", \\\"vader\\\": 1.0}, \\\"geometry\\\": {\\\"type\\\": \\\"Point\\\", \\\"coordinates\\\": [-77.03655315, 38.8976997]}}, {\\\"id\\\": \\\"82\\\", \\\"type\\\": \\\"Feature\\\", \\\"properties\\\": {\\\"date\\\": \\\"2015-07-14\\\", \\\"location\\\": \\\"unknown_location\\\", \\\"stanza\\\": -0.265, \\\"subjectivity\\\": 0.464, \\\"textblob\\\": 0.159, \\\"title\\\": \\\"Iran_Nuclear_Accord\\\", \\\"vader\\\": 0.999}, \\\"geometry\\\": {\\\"type\\\": \\\"Point\\\", \\\"coordinates\\\": [36.7416612, -0.9999454]}}, {\\\"id\\\": \\\"83\\\", \\\"type\\\": \\\"Feature\\\", \\\"properties\\\": {\\\"date\\\": \\\"2009-05-29\\\", \\\"location\\\": \\\"White House, Washington D.C.\\\", \\\"stanza\\\": -0.109, \\\"subjectivity\\\": 0.368, \\\"textblob\\\": 0.089, \\\"title\\\": \\\"Cyber_Infrastructure_US\\\", \\\"vader\\\": 1.0}, \\\"geometry\\\": {\\\"type\\\": \\\"Point\\\", \\\"coordinates\\\": [-77.03655315, 38.8976997]}}, {\\\"id\\\": \\\"84\\\", \\\"type\\\": \\\"Feature\\\", \\\"properties\\\": {\\\"date\\\": \\\"2009-05-21\\\", \\\"location\\\": \\\"National Archives, Washington D.C.\\\", \\\"stanza\\\": -0.22, \\\"subjectivity\\\": 0.431, \\\"textblob\\\": 0.097, \\\"title\\\": \\\"National_Security_National_Archives\\\", \\\"vader\\\": 0.183}, \\\"geometry\\\": {\\\"type\\\": \\\"Point\\\", \\\"coordinates\\\": [-77.02292005112255, 38.8927368]}}, {\\\"id\\\": \\\"85\\\", \\\"type\\\": \\\"Feature\\\", \\\"properties\\\": {\\\"date\\\": \\\"2010-06-16\\\", \\\"location\\\": \\\"unknown_location\\\", \\\"stanza\\\": -0.096, \\\"subjectivity\\\": 0.513, \\\"textblob\\\": 0.137, \\\"title\\\": \\\"Nurses_Association\\\", \\\"vader\\\": 1.0}, \\\"geometry\\\": {\\\"type\\\": \\\"Point\\\", \\\"coordinates\\\": [36.7416612, -0.9999454]}}, {\\\"id\\\": \\\"86\\\", \\\"type\\\": \\\"Feature\\\", \\\"properties\\\": {\\\"date\\\": \\\"2013-11-11\\\", \\\"location\\\": \\\"Arlington National Cemetery, Arlington, Virginia\\\", \\\"stanza\\\": 0.086, \\\"subjectivity\\\": 0.486, \\\"textblob\\\": 0.225, \\\"title\\\": \\\"Veterans_Day_Address_2013\\\", \\\"vader\\\": 1.0}, \\\"geometry\\\": {\\\"type\\\": \\\"Point\\\", \\\"coordinates\\\": [-77.06911170120969, 38.8785384]}}, {\\\"id\\\": \\\"87\\\", \\\"type\\\": \\\"Feature\\\", \\\"properties\\\": {\\\"date\\\": \\\"2010-09-11\\\", \\\"location\\\": \\\"unknown_location\\\", \\\"stanza\\\": -0.059, \\\"subjectivity\\\": 0.522, \\\"textblob\\\": 0.155, \\\"title\\\": \\\"911_Pentagon_Memorial_2010\\\", \\\"vader\\\": 0.998}, \\\"geometry\\\": {\\\"type\\\": \\\"Point\\\", \\\"coordinates\\\": [36.7416612, -0.9999454]}}, {\\\"id\\\": \\\"88\\\", \\\"type\\\": \\\"Feature\\\", \\\"properties\\\": {\\\"date\\\": \\\"2016-01-17\\\", \\\"location\\\": \\\"unknown_location\\\", \\\"stanza\\\": -0.047, \\\"subjectivity\\\": 0.491, \\\"textblob\\\": 0.161, \\\"title\\\": \\\"US_Detainees_Released\\\", \\\"vader\\\": 1.0}, \\\"geometry\\\": {\\\"type\\\": \\\"Point\\\", \\\"coordinates\\\": [36.7416612, -0.9999454]}}, {\\\"id\\\": \\\"89\\\", \\\"type\\\": \\\"Feature\\\", \\\"properties\\\": {\\\"date\\\": \\\"2015-09-23\\\", \\\"location\\\": \\\"White House, Washington D.C.\\\", \\\"stanza\\\": 0.143, \\\"subjectivity\\\": 0.514, \\\"textblob\\\": 0.218, \\\"title\\\": \\\"Pope_Francis_White_House_Welcome\\\", \\\"vader\\\": 1.0}, \\\"geometry\\\": {\\\"type\\\": \\\"Point\\\", \\\"coordinates\\\": [-77.03655315, 38.8976997]}}, {\\\"id\\\": \\\"90\\\", \\\"type\\\": \\\"Feature\\\", \\\"properties\\\": {\\\"date\\\": \\\"2015-06-24\\\", \\\"location\\\": \\\"White House, Washington D.C.\\\", \\\"stanza\\\": -0.096, \\\"subjectivity\\\": 0.452, \\\"textblob\\\": 0.152, \\\"title\\\": \\\"Hostage_Policy_Review\\\", \\\"vader\\\": 1.0}, \\\"geometry\\\": {\\\"type\\\": \\\"Point\\\", \\\"coordinates\\\": [-77.03655315, 38.8976997]}}, {\\\"id\\\": \\\"91\\\", \\\"type\\\": \\\"Feature\\\", \\\"properties\\\": {\\\"date\\\": \\\"2009-07-14\\\", \\\"location\\\": \\\"Macomb Community College, Warren, Michigan\\\", \\\"stanza\\\": -0.123, \\\"subjectivity\\\": 0.474, \\\"textblob\\\": 0.122, \\\"title\\\": \\\"Graduation_Initiative\\\", \\\"vader\\\": 1.0}, \\\"geometry\\\": {\\\"type\\\": \\\"Point\\\", \\\"coordinates\\\": [-82.9730483155511, 42.50541065]}}, {\\\"id\\\": \\\"92\\\", \\\"type\\\": \\\"Feature\\\", \\\"properties\\\": {\\\"date\\\": \\\"2015-08-03\\\", \\\"location\\\": \\\"White House, Washington D.C.\\\", \\\"stanza\\\": -0.189, \\\"subjectivity\\\": 0.453, \\\"textblob\\\": 0.114, \\\"title\\\": \\\"Clean_Power_Plan\\\", \\\"vader\\\": 0.999}, \\\"geometry\\\": {\\\"type\\\": \\\"Point\\\", \\\"coordinates\\\": [-77.03655315, 38.8976997]}}, {\\\"id\\\": \\\"93\\\", \\\"type\\\": \\\"Feature\\\", \\\"properties\\\": {\\\"date\\\": \\\"2009-06-15\\\", \\\"location\\\": \\\"Hyatt Regency, Chicago, Illinois\\\", \\\"stanza\\\": -0.293, \\\"subjectivity\\\": 0.426, \\\"textblob\\\": 0.135, \\\"title\\\": \\\"American_Medical_Association\\\", \\\"vader\\\": 1.0}, \\\"geometry\\\": {\\\"type\\\": \\\"Point\\\", \\\"coordinates\\\": [-87.6228422065339, 41.8874488]}}, {\\\"id\\\": \\\"94\\\", \\\"type\\\": \\\"Feature\\\", \\\"properties\\\": {\\\"date\\\": \\\"2012-10-30\\\", \\\"location\\\": \\\"Washington D.C.\\\", \\\"stanza\\\": -0.051, \\\"subjectivity\\\": 0.501, \\\"textblob\\\": 0.168, \\\"title\\\": \\\"Hurricane_Sandy_Red_Cross\\\", \\\"vader\\\": 0.999}, \\\"geometry\\\": {\\\"type\\\": \\\"Point\\\", \\\"coordinates\\\": [-77.0365427, 38.8950368]}}, {\\\"id\\\": \\\"95\\\", \\\"type\\\": \\\"Feature\\\", \\\"properties\\\": {\\\"date\\\": \\\"2015-04-23\\\", \\\"location\\\": \\\"White House, Washington D.C.\\\", \\\"stanza\\\": -0.04, \\\"subjectivity\\\": 0.505, \\\"textblob\\\": 0.066, \\\"title\\\": \\\"Hostage_Drone_Death\\\", \\\"vader\\\": 0.998}, \\\"geometry\\\": {\\\"type\\\": \\\"Point\\\", \\\"coordinates\\\": [-77.03655315, 38.8976997]}}, {\\\"id\\\": \\\"96\\\", \\\"type\\\": \\\"Feature\\\", \\\"properties\\\": {\\\"date\\\": \\\"2014-09-24\\\", \\\"location\\\": \\\"New York, New York\\\", \\\"stanza\\\": -0.055, \\\"subjectivity\\\": 0.423, \\\"textblob\\\": 0.096, \\\"title\\\": \\\"United_Nations_Security_Council_2014\\\", \\\"vader\\\": -0.999}, \\\"geometry\\\": {\\\"type\\\": \\\"Point\\\", \\\"coordinates\\\": [-74.0060152, 40.7127281]}}, {\\\"id\\\": \\\"97\\\", \\\"type\\\": \\\"Feature\\\", \\\"properties\\\": {\\\"date\\\": \\\"2013-04-16\\\", \\\"location\\\": \\\"unknown_location\\\", \\\"stanza\\\": -0.093, \\\"subjectivity\\\": 0.514, \\\"textblob\\\": 0.205, \\\"title\\\": \\\"Boston_Marathon_Bombing_Second_Statement\\\", \\\"vader\\\": 0.991}, \\\"geometry\\\": {\\\"type\\\": \\\"Point\\\", \\\"coordinates\\\": [36.7416612, -0.9999454]}}, {\\\"id\\\": \\\"98\\\", \\\"type\\\": \\\"Feature\\\", \\\"properties\\\": {\\\"date\\\": \\\"2015-09-25\\\", \\\"location\\\": \\\"Joint Base Myer-Henderson Hall, Virginia\\\", \\\"stanza\\\": 0.049, \\\"subjectivity\\\": 0.447, \\\"textblob\\\": 0.186, \\\"title\\\": \\\"Martin_Dempsey_Retirement\\\", \\\"vader\\\": 1.0}, \\\"geometry\\\": {\\\"type\\\": \\\"Point\\\", \\\"coordinates\\\": [-77.08082799848256, 38.877461]}}, {\\\"id\\\": \\\"99\\\", \\\"type\\\": \\\"Feature\\\", \\\"properties\\\": {\\\"date\\\": \\\"2014-09-25\\\", \\\"location\\\": \\\"New York, New York\\\", \\\"stanza\\\": -0.101, \\\"subjectivity\\\": 0.474, \\\"textblob\\\": 0.144, \\\"title\\\": \\\"UN_Ebola_Meeting\\\", \\\"vader\\\": 0.989}, \\\"geometry\\\": {\\\"type\\\": \\\"Point\\\", \\\"coordinates\\\": [-74.0060152, 40.7127281]}}, {\\\"id\\\": \\\"100\\\", \\\"type\\\": \\\"Feature\\\", \\\"properties\\\": {\\\"date\\\": \\\"2011-02-11\\\", \\\"location\\\": \\\"unknown_location\\\", \\\"stanza\\\": -0.07, \\\"subjectivity\\\": 0.461, \\\"textblob\\\": 0.15, \\\"title\\\": \\\"Egypt_History_Revolution\\\", \\\"vader\\\": 1.0}, \\\"geometry\\\": {\\\"type\\\": \\\"Point\\\", \\\"coordinates\\\": [36.7416612, -0.9999454]}}, {\\\"id\\\": \\\"101\\\", \\\"type\\\": \\\"Feature\\\", \\\"properties\\\": {\\\"date\\\": \\\"2013-04-25\\\", \\\"location\\\": \\\"University of Baylor, Waco, Texas\\\", \\\"stanza\\\": -0.052, \\\"subjectivity\\\": 0.462, \\\"textblob\\\": 0.178, \\\"title\\\": \\\"West_Fertilizer_Tragedy_Memorial\\\", \\\"vader\\\": 1.0}, \\\"geometry\\\": null}, {\\\"id\\\": \\\"102\\\", \\\"type\\\": \\\"Feature\\\", \\\"properties\\\": {\\\"date\\\": \\\"2010-04-29\\\", \\\"location\\\": \\\"Washington National Cathedral, Washington D.C.\\\", \\\"stanza\\\": 0.035, \\\"subjectivity\\\": 0.538, \\\"textblob\\\": 0.238, \\\"title\\\": \\\"Dorothy_Height_Eulogy\\\", \\\"vader\\\": 1.0}, \\\"geometry\\\": {\\\"type\\\": \\\"Point\\\", \\\"coordinates\\\": [-77.07059515120122, 38.93065095]}}, {\\\"id\\\": \\\"103\\\", \\\"type\\\": \\\"Feature\\\", \\\"properties\\\": {\\\"date\\\": \\\"2009-06-23\\\", \\\"location\\\": \\\"unknown_location\\\", \\\"stanza\\\": -0.31, \\\"subjectivity\\\": 0.51, \\\"textblob\\\": 0.088, \\\"title\\\": \\\"Dignity_and_Courage_of_Iranians\\\", \\\"vader\\\": 0.241}, \\\"geometry\\\": {\\\"type\\\": \\\"Point\\\", \\\"coordinates\\\": [36.7416612, -0.9999454]}}, {\\\"id\\\": \\\"104\\\", \\\"type\\\": \\\"Feature\\\", \\\"properties\\\": {\\\"date\\\": \\\"2010-12-03\\\", \\\"location\\\": \\\"Parwan Province, Afghanistan\\\", \\\"stanza\\\": 0.0, \\\"subjectivity\\\": 0.464, \\\"textblob\\\": 0.142, \\\"title\\\": \\\"Bagram_Air_Base_December_2010\\\", \\\"vader\\\": 1.0}, \\\"geometry\\\": {\\\"type\\\": \\\"Point\\\", \\\"coordinates\\\": [68.9146703, 34.9797014]}}, {\\\"id\\\": \\\"105\\\", \\\"type\\\": \\\"Feature\\\", \\\"properties\\\": {\\\"date\\\": \\\"2013-07-27\\\", \\\"location\\\": \\\"Korean War Memorial, Seoul, South Korea\\\", \\\"stanza\\\": -0.046, \\\"subjectivity\\\": 0.468, \\\"textblob\\\": 0.126, \\\"title\\\": \\\"Korean_War_Armistice_60\\\", \\\"vader\\\": 0.999}, \\\"geometry\\\": null}, {\\\"id\\\": \\\"106\\\", \\\"type\\\": \\\"Feature\\\", \\\"properties\\\": {\\\"date\\\": \\\"2008-07-24\\\", \\\"location\\\": \\\"Victory Column\\\", \\\"stanza\\\": -0.089, \\\"subjectivity\\\": 0.457, \\\"textblob\\\": 0.112, \\\"title\\\": \\\"Berlin_Address\\\", \\\"vader\\\": 1.0}, \\\"geometry\\\": {\\\"type\\\": \\\"Point\\\", \\\"coordinates\\\": [13.350110811262352, 52.51450815]}}, {\\\"id\\\": \\\"107\\\", \\\"type\\\": \\\"Feature\\\", \\\"properties\\\": {\\\"date\\\": \\\"2008-06-03\\\", \\\"location\\\": \\\"St. Paul, Minnesota\\\", \\\"stanza\\\": 0.009, \\\"subjectivity\\\": 0.445, \\\"textblob\\\": 0.167, \\\"title\\\": \\\"Nomination_Victory\\\", \\\"vader\\\": 1.0}, \\\"geometry\\\": {\\\"type\\\": \\\"Point\\\", \\\"coordinates\\\": [-93.0931028, 44.9497487]}}, {\\\"id\\\": \\\"108\\\", \\\"type\\\": \\\"Feature\\\", \\\"properties\\\": {\\\"date\\\": \\\"2011-05-22\\\", \\\"location\\\": \\\"Walter E. Washington Convention Center, Washington D.C.\\\", \\\"stanza\\\": -0.049, \\\"subjectivity\\\": 0.445, \\\"textblob\\\": 0.139, \\\"title\\\": \\\"American_Israel_Public_Affairs_Committee\\\", \\\"vader\\\": 1.0}, \\\"geometry\\\": {\\\"type\\\": \\\"Point\\\", \\\"coordinates\\\": [-77.02295618530775, 38.90503335]}}, {\\\"id\\\": \\\"109\\\", \\\"type\\\": \\\"Feature\\\", \\\"properties\\\": {\\\"date\\\": \\\"2011-05-01\\\", \\\"location\\\": \\\"unknown_location\\\", \\\"stanza\\\": -0.162, \\\"subjectivity\\\": 0.437, \\\"textblob\\\": 0.12, \\\"title\\\": \\\"Osama_bin_Laden_Death\\\", \\\"vader\\\": 0.994}, \\\"geometry\\\": {\\\"type\\\": \\\"Point\\\", \\\"coordinates\\\": [36.7416612, -0.9999454]}}, {\\\"id\\\": \\\"110\\\", \\\"type\\\": \\\"Feature\\\", \\\"properties\\\": {\\\"date\\\": \\\"2005-06-04\\\", \\\"location\\\": \\\"unknown_location\\\", \\\"stanza\\\": -0.204, \\\"subjectivity\\\": 0.455, \\\"textblob\\\": 0.143, \\\"title\\\": \\\"Knox_College_Commencement\\\", \\\"vader\\\": 1.0}, \\\"geometry\\\": {\\\"type\\\": \\\"Point\\\", \\\"coordinates\\\": [36.7416612, -0.9999454]}}, {\\\"id\\\": \\\"111\\\", \\\"type\\\": \\\"Feature\\\", \\\"properties\\\": {\\\"date\\\": \\\"2009-05-09\\\", \\\"location\\\": \\\"Washington Hilton Hotel, D.C.\\\", \\\"stanza\\\": -0.008, \\\"subjectivity\\\": 0.439, \\\"textblob\\\": 0.192, \\\"title\\\": \\\"White_House_Correspondents_Dinner_First\\\", \\\"vader\\\": 1.0}, \\\"geometry\\\": {\\\"type\\\": \\\"Point\\\", \\\"coordinates\\\": [-77.0452084, 38.9165229]}}, {\\\"id\\\": \\\"112\\\", \\\"type\\\": \\\"Feature\\\", \\\"properties\\\": {\\\"date\\\": \\\"2012-11-09\\\", \\\"location\\\": \\\"unknown_location\\\", \\\"stanza\\\": -0.214, \\\"subjectivity\\\": 0.409, \\\"textblob\\\": 0.115, \\\"title\\\": \\\"Post_Election_Economy\\\", \\\"vader\\\": 0.995}, \\\"geometry\\\": {\\\"type\\\": \\\"Point\\\", \\\"coordinates\\\": [36.7416612, -0.9999454]}}, {\\\"id\\\": \\\"113\\\", \\\"type\\\": \\\"Feature\\\", \\\"properties\\\": {\\\"date\\\": \\\"2008-01-20\\\", \\\"location\\\": \\\"Ebenezer Baptist Church, Atlanta\\\", \\\"stanza\\\": -0.258, \\\"subjectivity\\\": 0.517, \\\"textblob\\\": 0.088, \\\"title\\\": \\\"Ebenezer_Baptist\\\", \\\"vader\\\": 1.0}, \\\"geometry\\\": {\\\"type\\\": \\\"Point\\\", \\\"coordinates\\\": [-84.3742076, 33.7551362]}}, {\\\"id\\\": \\\"114\\\", \\\"type\\\": \\\"Feature\\\", \\\"properties\\\": {\\\"date\\\": \\\"2010-05-28\\\", \\\"location\\\": \\\"Grande Isle, Louisiana\\\", \\\"stanza\\\": -0.175, \\\"subjectivity\\\": 0.477, \\\"textblob\\\": 0.173, \\\"title\\\": \\\"Grande_Isle_Briefing\\\", \\\"vader\\\": 0.994}, \\\"geometry\\\": {\\\"type\\\": \\\"Point\\\", \\\"coordinates\\\": [-89.9872942, 29.2366172]}}, {\\\"id\\\": \\\"115\\\", \\\"type\\\": \\\"Feature\\\", \\\"properties\\\": {\\\"date\\\": \\\"2011-02-07\\\", \\\"location\\\": \\\"Washington D.C.\\\", \\\"stanza\\\": -0.115, \\\"subjectivity\\\": 0.444, \\\"textblob\\\": 0.152, \\\"title\\\": \\\"National_Chamber_of_Commerce\\\", \\\"vader\\\": 1.0}, \\\"geometry\\\": {\\\"type\\\": \\\"Point\\\", \\\"coordinates\\\": [-77.0365427, 38.8950368]}}, {\\\"id\\\": \\\"116\\\", \\\"type\\\": \\\"Feature\\\", \\\"properties\\\": {\\\"date\\\": \\\"2016-09-20\\\", \\\"location\\\": \\\"New York, New York\\\", \\\"stanza\\\": -0.191, \\\"subjectivity\\\": 0.45, \\\"textblob\\\": 0.13, \\\"title\\\": \\\"United_Nations_GA_2016\\\", \\\"vader\\\": 1.0}, \\\"geometry\\\": {\\\"type\\\": \\\"Point\\\", \\\"coordinates\\\": [-74.0060152, 40.7127281]}}, {\\\"id\\\": \\\"117\\\", \\\"type\\\": \\\"Feature\\\", \\\"properties\\\": {\\\"date\\\": \\\"2015-07-13\\\", \\\"location\\\": \\\"White House, Washington D.C.\\\", \\\"stanza\\\": -0.115, \\\"subjectivity\\\": 0.491, \\\"textblob\\\": 0.196, \\\"title\\\": \\\"Aging_Conference_White_House\\\", \\\"vader\\\": 1.0}, \\\"geometry\\\": {\\\"type\\\": \\\"Point\\\", \\\"coordinates\\\": [-77.03655315, 38.8976997]}}, {\\\"id\\\": \\\"118\\\", \\\"type\\\": \\\"Feature\\\", \\\"properties\\\": {\\\"date\\\": \\\"2015-07-28\\\", \\\"location\\\": \\\"African Union Headquarters, Addis Ababa, Ethiopia\\\", \\\"stanza\\\": 0.02, \\\"subjectivity\\\": 0.433, \\\"textblob\\\": 0.199, \\\"title\\\": \\\"African_Union_Address\\\", \\\"vader\\\": 1.0}, \\\"geometry\\\": {\\\"type\\\": \\\"Point\\\", \\\"coordinates\\\": [38.74212826980348, 9.0009975]}}, {\\\"id\\\": \\\"119\\\", \\\"type\\\": \\\"Feature\\\", \\\"properties\\\": {\\\"date\\\": \\\"2009-09-11\\\", \\\"location\\\": \\\"Arlington, Virginia\\\", \\\"stanza\\\": 0.024, \\\"subjectivity\\\": 0.496, \\\"textblob\\\": 0.122, \\\"title\\\": \\\"911_Pentagon_Memorial_2009\\\", \\\"vader\\\": 0.998}, \\\"geometry\\\": {\\\"type\\\": \\\"Point\\\", \\\"coordinates\\\": [-77.0841585, 38.8903961]}}, {\\\"id\\\": \\\"120\\\", \\\"type\\\": \\\"Feature\\\", \\\"properties\\\": {\\\"date\\\": \\\"2011-03-18\\\", \\\"location\\\": \\\"unknown_location\\\", \\\"stanza\\\": -0.356, \\\"subjectivity\\\": 0.374, \\\"textblob\\\": 0.11, \\\"title\\\": \\\"Address_on_Libya\\\", \\\"vader\\\": 0.995}, \\\"geometry\\\": {\\\"type\\\": \\\"Point\\\", \\\"coordinates\\\": [36.7416612, -0.9999454]}}, {\\\"id\\\": \\\"121\\\", \\\"type\\\": \\\"Feature\\\", \\\"properties\\\": {\\\"date\\\": \\\"2013-04-03\\\", \\\"location\\\": \\\"Denver Police Academy, Denver. Colorado\\\", \\\"stanza\\\": -0.203, \\\"subjectivity\\\": 0.493, \\\"textblob\\\": 0.128, \\\"title\\\": \\\"Gun_Violence_Denver\\\", \\\"vader\\\": -0.998}, \\\"geometry\\\": {\\\"type\\\": \\\"Point\\\", \\\"coordinates\\\": [-104.88460913352296, 39.7493375]}}, {\\\"id\\\": \\\"122\\\", \\\"type\\\": \\\"Feature\\\", \\\"properties\\\": {\\\"date\\\": \\\"2014-11-15\\\", \\\"location\\\": \\\"Brisbane, Australia\\\", \\\"stanza\\\": 0.063, \\\"subjectivity\\\": 0.441, \\\"textblob\\\": 0.173, \\\"title\\\": \\\"Queensland_University\\\", \\\"vader\\\": 1.0}, \\\"geometry\\\": {\\\"type\\\": \\\"Point\\\", \\\"coordinates\\\": [153.0234991, -27.4689682]}}, {\\\"id\\\": \\\"123\\\", \\\"type\\\": \\\"Feature\\\", \\\"properties\\\": {\\\"date\\\": \\\"2014-01-17\\\", \\\"location\\\": \\\"Department of Justice, Washington D.C.\\\", \\\"stanza\\\": -0.158, \\\"subjectivity\\\": 0.441, \\\"textblob\\\": 0.103, \\\"title\\\": \\\"US_Intelligence_Program_Review_Outcome\\\", \\\"vader\\\": 1.0}, \\\"geometry\\\": null}, {\\\"id\\\": \\\"124\\\", \\\"type\\\": \\\"Feature\\\", \\\"properties\\\": {\\\"date\\\": \\\"2011-10-16\\\", \\\"location\\\": \\\"The National Mall, Washington D.C.\\\", \\\"stanza\\\": -0.178, \\\"subjectivity\\\": 0.505, \\\"textblob\\\": 0.137, \\\"title\\\": \\\"MLK_Memorial_Dedication\\\", \\\"vader\\\": 1.0}, \\\"geometry\\\": null}, {\\\"id\\\": \\\"125\\\", \\\"type\\\": \\\"Feature\\\", \\\"properties\\\": {\\\"date\\\": \\\"2012-01-05\\\", \\\"location\\\": \\\"The Pentagon, Washington D.C.\\\", \\\"stanza\\\": 0.08, \\\"subjectivity\\\": 0.454, \\\"textblob\\\": 0.142, \\\"title\\\": \\\"Military_Strategy_Review\\\", \\\"vader\\\": 0.999}, \\\"geometry\\\": null}, {\\\"id\\\": \\\"126\\\", \\\"type\\\": \\\"Feature\\\", \\\"properties\\\": {\\\"date\\\": \\\"2010-01-07\\\", \\\"location\\\": \\\"unknown_location\\\", \\\"stanza\\\": -0.163, \\\"subjectivity\\\": 0.439, \\\"textblob\\\": 0.098, \\\"title\\\": \\\"Aviation_Security\\\", \\\"vader\\\": 0.999}, \\\"geometry\\\": {\\\"type\\\": \\\"Point\\\", \\\"coordinates\\\": [36.7416612, -0.9999454]}}, {\\\"id\\\": \\\"127\\\", \\\"type\\\": \\\"Feature\\\", \\\"properties\\\": {\\\"date\\\": \\\"2010-06-23\\\", \\\"location\\\": \\\"unknown_location\\\", \\\"stanza\\\": 0.057, \\\"subjectivity\\\": 0.503, \\\"textblob\\\": 0.101, \\\"title\\\": \\\"General_McChrystal_Afghanistan\\\", \\\"vader\\\": 0.999}, \\\"geometry\\\": {\\\"type\\\": \\\"Point\\\", \\\"coordinates\\\": [36.7416612, -0.9999454]}}, {\\\"id\\\": \\\"128\\\", \\\"type\\\": \\\"Feature\\\", \\\"properties\\\": {\\\"date\\\": \\\"2006-01-31\\\", \\\"location\\\": \\\"Washington D.C.\\\", \\\"stanza\\\": 0.038, \\\"subjectivity\\\": 0.451, \\\"textblob\\\": 0.221, \\\"title\\\": \\\"Senate_Floor_Coretta_King\\\", \\\"vader\\\": 0.997}, \\\"geometry\\\": {\\\"type\\\": \\\"Point\\\", \\\"coordinates\\\": [-77.0365427, 38.8950368]}}, {\\\"id\\\": \\\"129\\\", \\\"type\\\": \\\"Feature\\\", \\\"properties\\\": {\\\"date\\\": \\\"2015-12-17\\\", \\\"location\\\": \\\"McLean, Virginia\\\", \\\"stanza\\\": 0.011, \\\"subjectivity\\\": 0.43, \\\"textblob\\\": 0.199, \\\"title\\\": \\\"NCTC_2015\\\", \\\"vader\\\": 0.999}, \\\"geometry\\\": {\\\"type\\\": \\\"Point\\\", \\\"coordinates\\\": [-77.1671337963356, 38.9318369]}}, {\\\"id\\\": \\\"130\\\", \\\"type\\\": \\\"Feature\\\", \\\"properties\\\": {\\\"date\\\": \\\"2009-04-14\\\", \\\"location\\\": \\\"Georgetown University, Washington D.C.\\\", \\\"stanza\\\": -0.298, \\\"subjectivity\\\": 0.43, \\\"textblob\\\": 0.09, \\\"title\\\": \\\"New_Foundation_Georgetown\\\", \\\"vader\\\": 1.0}, \\\"geometry\\\": {\\\"type\\\": \\\"Point\\\", \\\"coordinates\\\": [-77.07457962060826, 38.90893925]}}, {\\\"id\\\": \\\"131\\\", \\\"type\\\": \\\"Feature\\\", \\\"properties\\\": {\\\"date\\\": \\\"2011-08-02\\\", \\\"location\\\": \\\"White House, Washington D.C.\\\", \\\"stanza\\\": -0.292, \\\"subjectivity\\\": 0.457, \\\"textblob\\\": 0.182, \\\"title\\\": \\\"Debt_Compromise_Remarks\\\", \\\"vader\\\": 0.991}, \\\"geometry\\\": {\\\"type\\\": \\\"Point\\\", \\\"coordinates\\\": [-77.03655315, 38.8976997]}}, {\\\"id\\\": \\\"132\\\", \\\"type\\\": \\\"Feature\\\", \\\"properties\\\": {\\\"date\\\": \\\"2011-05-25\\\", \\\"location\\\": \\\"Westminster Hall, London\\\", \\\"stanza\\\": -0.143, \\\"subjectivity\\\": 0.476, \\\"textblob\\\": 0.117, \\\"title\\\": \\\"British_Parliament\\\", \\\"vader\\\": 1.0}, \\\"geometry\\\": {\\\"type\\\": \\\"Point\\\", \\\"coordinates\\\": [-0.1254826, 51.4995549]}}, {\\\"id\\\": \\\"133\\\", \\\"type\\\": \\\"Feature\\\", \\\"properties\\\": {\\\"date\\\": \\\"2014-07-21\\\", \\\"location\\\": \\\"unknown_location\\\", \\\"stanza\\\": -0.053, \\\"subjectivity\\\": 0.467, \\\"textblob\\\": 0.128, \\\"title\\\": \\\"SSG_Bryan_Pitts_MOH\\\", \\\"vader\\\": 1.0}, \\\"geometry\\\": {\\\"type\\\": \\\"Point\\\", \\\"coordinates\\\": [36.7416612, -0.9999454]}}, {\\\"id\\\": \\\"134\\\", \\\"type\\\": \\\"Feature\\\", \\\"properties\\\": {\\\"date\\\": \\\"2014-01-28\\\", \\\"location\\\": \\\"unknown_location\\\", \\\"stanza\\\": -0.17, \\\"subjectivity\\\": 0.431, \\\"textblob\\\": 0.164, \\\"title\\\": \\\"State_of_the_Union_2014\\\", \\\"vader\\\": 1.0}, \\\"geometry\\\": {\\\"type\\\": \\\"Point\\\", \\\"coordinates\\\": [36.7416612, -0.9999454]}}, {\\\"id\\\": \\\"135\\\", \\\"type\\\": \\\"Feature\\\", \\\"properties\\\": {\\\"date\\\": \\\"2012-03-29\\\", \\\"location\\\": \\\"White House, Washington D.C.\\\", \\\"stanza\\\": -0.068, \\\"subjectivity\\\": 0.452, \\\"textblob\\\": 0.155, \\\"title\\\": \\\"Repeal_Oil_and_Gas_Subsidies\\\", \\\"vader\\\": 0.999}, \\\"geometry\\\": {\\\"type\\\": \\\"Point\\\", \\\"coordinates\\\": [-77.03655315, 38.8976997]}}, {\\\"id\\\": \\\"136\\\", \\\"type\\\": \\\"Feature\\\", \\\"properties\\\": {\\\"date\\\": \\\"2014-05-28\\\", \\\"location\\\": \\\"West Point, New York\\\", \\\"stanza\\\": -0.164, \\\"subjectivity\\\": 0.409, \\\"textblob\\\": 0.081, \\\"title\\\": \\\"US_Military_Academy_Commencement_2014\\\", \\\"vader\\\": 0.999}, \\\"geometry\\\": {\\\"type\\\": \\\"Point\\\", \\\"coordinates\\\": [-72.5359869, 40.8512481]}}, {\\\"id\\\": \\\"137\\\", \\\"type\\\": \\\"Feature\\\", \\\"properties\\\": {\\\"date\\\": \\\"2011-02-03\\\", \\\"location\\\": \\\"Washington D.C.\\\", \\\"stanza\\\": -0.042, \\\"subjectivity\\\": 0.472, \\\"textblob\\\": 0.146, \\\"title\\\": \\\"Prayer_Breakfast_2011\\\", \\\"vader\\\": 1.0}, \\\"geometry\\\": {\\\"type\\\": \\\"Point\\\", \\\"coordinates\\\": [-77.0365427, 38.8950368]}}, {\\\"id\\\": \\\"138\\\", \\\"type\\\": \\\"Feature\\\", \\\"properties\\\": {\\\"date\\\": \\\"2013-10-21\\\", \\\"location\\\": \\\"White House, Washington D.C.\\\", \\\"stanza\\\": -0.117, \\\"subjectivity\\\": 0.472, \\\"textblob\\\": 0.189, \\\"title\\\": \\\"Affordable_Care_Act_Logistical_Challenges\\\", \\\"vader\\\": 1.0}, \\\"geometry\\\": {\\\"type\\\": \\\"Point\\\", \\\"coordinates\\\": [-77.03655315, 38.8976997]}}, {\\\"id\\\": \\\"139\\\", \\\"type\\\": \\\"Feature\\\", \\\"properties\\\": {\\\"date\\\": \\\"2010-05-22\\\", \\\"location\\\": \\\"Michie Stadium, West Point, New York\\\", \\\"stanza\\\": 0.005, \\\"subjectivity\\\": 0.443, \\\"textblob\\\": 0.141, \\\"title\\\": \\\"West_Point_Commencement_2010\\\", \\\"vader\\\": 1.0}, \\\"geometry\\\": null}, {\\\"id\\\": \\\"140\\\", \\\"type\\\": \\\"Feature\\\", \\\"properties\\\": {\\\"date\\\": \\\"2016-06-02\\\", \\\"location\\\": \\\"United States Air Force Academy, Colorado Springs, Colorado\\\", \\\"stanza\\\": 0.011, \\\"subjectivity\\\": 0.443, \\\"textblob\\\": 0.144, \\\"title\\\": \\\"US_Air_Force_Commencement_Speech\\\", \\\"vader\\\": 1.0}, \\\"geometry\\\": {\\\"type\\\": \\\"Point\\\", \\\"coordinates\\\": [-104.8588345994012, 38.9912381]}}, {\\\"id\\\": \\\"141\\\", \\\"type\\\": \\\"Feature\\\", \\\"properties\\\": {\\\"date\\\": \\\"2015-12-12\\\", \\\"location\\\": \\\"White House, Washington D.C.\\\", \\\"stanza\\\": 0.018, \\\"subjectivity\\\": 0.466, \\\"textblob\\\": 0.192, \\\"title\\\": \\\"Paris_Climate_Agreement\\\", \\\"vader\\\": 1.0}, \\\"geometry\\\": {\\\"type\\\": \\\"Point\\\", \\\"coordinates\\\": [-77.03655315, 38.8976997]}}, {\\\"id\\\": \\\"142\\\", \\\"type\\\": \\\"Feature\\\", \\\"properties\\\": {\\\"date\\\": \\\"2011-12-02\\\", \\\"location\\\": \\\"Department of Interior, Washington D.C.\\\", \\\"stanza\\\": 0.052, \\\"subjectivity\\\": 0.467, \\\"textblob\\\": 0.151, \\\"title\\\": \\\"Tribal_Nations_Conference\\\", \\\"vader\\\": 1.0}, \\\"geometry\\\": {\\\"type\\\": \\\"Point\\\", \\\"coordinates\\\": [-77.04260729303007, 38.89445405]}}, {\\\"id\\\": \\\"143\\\", \\\"type\\\": \\\"Feature\\\", \\\"properties\\\": {\\\"date\\\": \\\"2016-02-13\\\", \\\"location\\\": \\\"Rancho Mirage, California\\\", \\\"stanza\\\": 0.087, \\\"subjectivity\\\": 0.576, \\\"textblob\\\": 0.333, \\\"title\\\": \\\"Antonin_Scalia_Passing\\\", \\\"vader\\\": 0.998}, \\\"geometry\\\": {\\\"type\\\": \\\"Point\\\", \\\"coordinates\\\": [-116.42687402345577, 33.770859]}}, {\\\"id\\\": \\\"144\\\", \\\"type\\\": \\\"Feature\\\", \\\"properties\\\": {\\\"date\\\": \\\"2011-06-24\\\", \\\"location\\\": \\\"Carnegie Mellon University, Pittsburgh, Pennsylvania\\\", \\\"stanza\\\": 0.123, \\\"subjectivity\\\": 0.458, \\\"textblob\\\": 0.229, \\\"title\\\": \\\"Carnegie_Robotics_Center\\\", \\\"vader\\\": 1.0}, \\\"geometry\\\": {\\\"type\\\": \\\"Point\\\", \\\"coordinates\\\": [-79.94271918393466, 40.4441897]}}, {\\\"id\\\": \\\"145\\\", \\\"type\\\": \\\"Feature\\\", \\\"properties\\\": {\\\"date\\\": \\\"2015-01-13\\\", \\\"location\\\": \\\"Arlington, Virginia\\\", \\\"stanza\\\": -0.128, \\\"subjectivity\\\": 0.407, \\\"textblob\\\": 0.153, \\\"title\\\": \\\"NCCIC\\\", \\\"vader\\\": 1.0}, \\\"geometry\\\": {\\\"type\\\": \\\"Point\\\", \\\"coordinates\\\": [-77.0841585, 38.8903961]}}, {\\\"id\\\": \\\"146\\\", \\\"type\\\": \\\"Feature\\\", \\\"properties\\\": {\\\"date\\\": \\\"2016-06-14\\\", \\\"location\\\": \\\"Treasury Department, Washington D.C.\\\", \\\"stanza\\\": -0.203, \\\"subjectivity\\\": 0.466, \\\"textblob\\\": 0.118, \\\"title\\\": \\\"ISIL_Briefing_June_2016\\\", \\\"vader\\\": -1.0}, \\\"geometry\\\": {\\\"type\\\": \\\"Point\\\", \\\"coordinates\\\": [-77.03435185976429, 38.89760605]}}, {\\\"id\\\": \\\"147\\\", \\\"type\\\": \\\"Feature\\\", \\\"properties\\\": {\\\"date\\\": \\\"2011-03-28\\\", \\\"location\\\": \\\"National Defense University, Washington D.C.\\\", \\\"stanza\\\": -0.209, \\\"subjectivity\\\": 0.436, \\\"textblob\\\": 0.107, \\\"title\\\": \\\"Libya_Nation_Speech\\\", \\\"vader\\\": 1.0}, \\\"geometry\\\": {\\\"type\\\": \\\"Point\\\", \\\"coordinates\\\": [-77.0157337847445, 38.86385125]}}, {\\\"id\\\": \\\"148\\\", \\\"type\\\": \\\"Feature\\\", \\\"properties\\\": {\\\"date\\\": \\\"2015-12-15\\\", \\\"location\\\": \\\"Washington D.C.\\\", \\\"stanza\\\": -0.042, \\\"subjectivity\\\": 0.49, \\\"textblob\\\": 0.163, \\\"title\\\": \\\"Naturalization_National_Archives\\\", \\\"vader\\\": 1.0}, \\\"geometry\\\": {\\\"type\\\": \\\"Point\\\", \\\"coordinates\\\": [-77.0365427, 38.8950368]}}, {\\\"id\\\": \\\"149\\\", \\\"type\\\": \\\"Feature\\\", \\\"properties\\\": {\\\"date\\\": \\\"2014-03-26\\\", \\\"location\\\": \\\"Palais des Beaux Arts, Brussels, Belgium\\\", \\\"stanza\\\": -0.114, \\\"subjectivity\\\": 0.471, \\\"textblob\\\": 0.13, \\\"title\\\": \\\"European_Youth\\\", \\\"vader\\\": 1.0}, \\\"geometry\\\": {\\\"type\\\": \\\"Point\\\", \\\"coordinates\\\": [4.359790395373073, 50.84371815]}}, {\\\"id\\\": \\\"150\\\", \\\"type\\\": \\\"Feature\\\", \\\"properties\\\": {\\\"date\\\": \\\"2012-11-07\\\", \\\"location\\\": \\\"McCormick Place Chicago, Illinois\\\", \\\"stanza\\\": -0.074, \\\"subjectivity\\\": 0.473, \\\"textblob\\\": 0.177, \\\"title\\\": \\\"Second_Presidential_Election_Victory_Speech\\\", \\\"vader\\\": 1.0}, \\\"geometry\\\": {\\\"type\\\": \\\"Point\\\", \\\"coordinates\\\": [-87.6164334, 41.8515481]}}, {\\\"id\\\": \\\"151\\\", \\\"type\\\": \\\"Feature\\\", \\\"properties\\\": {\\\"date\\\": \\\"2011-05-20\\\", \\\"location\\\": \\\"Langley, Virginia\\\", \\\"stanza\\\": 0.068, \\\"subjectivity\\\": 0.465, \\\"textblob\\\": 0.195, \\\"title\\\": \\\"CIA_Intelligence_Community\\\", \\\"vader\\\": 1.0}, \\\"geometry\\\": {\\\"type\\\": \\\"Point\\\", \\\"coordinates\\\": [-77.1588685, 38.9464996]}}, {\\\"id\\\": \\\"152\\\", \\\"type\\\": \\\"Feature\\\", \\\"properties\\\": {\\\"date\\\": \\\"2016-06-12\\\", \\\"location\\\": \\\"White House, Washington D.C.\\\", \\\"stanza\\\": -0.06, \\\"subjectivity\\\": 0.57, \\\"textblob\\\": 0.05, \\\"title\\\": \\\"Orlando_Shootings_Statement\\\", \\\"vader\\\": 0.312}, \\\"geometry\\\": {\\\"type\\\": \\\"Point\\\", \\\"coordinates\\\": [-77.03655315, 38.8976997]}}, {\\\"id\\\": \\\"153\\\", \\\"type\\\": \\\"Feature\\\", \\\"properties\\\": {\\\"date\\\": \\\"2010-04-15\\\", \\\"location\\\": \\\"JFK Space Center, Merritt Island, Florida\\\", \\\"stanza\\\": 0.023, \\\"subjectivity\\\": 0.441, \\\"textblob\\\": 0.114, \\\"title\\\": \\\"NASA_21st_Century\\\", \\\"vader\\\": 1.0}, \\\"geometry\\\": null}, {\\\"id\\\": \\\"154\\\", \\\"type\\\": \\\"Feature\\\", \\\"properties\\\": {\\\"date\\\": \\\"2016-07-16\\\", \\\"location\\\": \\\"Phillips Center for the Performing Arts, Orlando, Florida\\\", \\\"stanza\\\": -0.03, \\\"subjectivity\\\": 0.538, \\\"textblob\\\": 0.178, \\\"title\\\": \\\"Orlando_Community\\\", \\\"vader\\\": -0.919}, \\\"geometry\\\": null}, {\\\"id\\\": \\\"155\\\", \\\"type\\\": \\\"Feature\\\", \\\"properties\\\": {\\\"date\\\": \\\"2008-01-03\\\", \\\"location\\\": \\\"Des Moines, Iowa\\\", \\\"stanza\\\": -0.189, \\\"subjectivity\\\": 0.481, \\\"textblob\\\": 0.087, \\\"title\\\": \\\"Iowa_Caucus_Victory_Speech\\\", \\\"vader\\\": 0.998}, \\\"geometry\\\": {\\\"type\\\": \\\"Point\\\", \\\"coordinates\\\": [-93.6046655, 41.5910323]}}, {\\\"id\\\": \\\"156\\\", \\\"type\\\": \\\"Feature\\\", \\\"properties\\\": {\\\"date\\\": \\\"2016-02-25\\\", \\\"location\\\": \\\"unknown_location\\\", \\\"stanza\\\": -0.188, \\\"subjectivity\\\": 0.429, \\\"textblob\\\": 0.076, \\\"title\\\": \\\"Barack_Obama_-_ISIL_Update_02-25-16\\\", \\\"vader\\\": -0.999}, \\\"geometry\\\": {\\\"type\\\": \\\"Point\\\", \\\"coordinates\\\": [36.7416612, -0.9999454]}}, {\\\"id\\\": \\\"157\\\", \\\"type\\\": \\\"Feature\\\", \\\"properties\\\": {\\\"date\\\": \\\"2009-08-29\\\", \\\"location\\\": \\\"Our Lady of Perpetual Help Basilica, Boston\\\", \\\"stanza\\\": 0.065, \\\"subjectivity\\\": 0.491, \\\"textblob\\\": 0.22, \\\"title\\\": \\\"Ted_Kennedy_Eulogy\\\", \\\"vader\\\": 1.0}, \\\"geometry\\\": null}, {\\\"id\\\": \\\"158\\\", \\\"type\\\": \\\"Feature\\\", \\\"properties\\\": {\\\"date\\\": \\\"2016-02-23\\\", \\\"location\\\": \\\"White House, Washington D.C.\\\", \\\"stanza\\\": -0.174, \\\"subjectivity\\\": 0.432, \\\"textblob\\\": 0.126, \\\"title\\\": \\\"Guantanamo_Bay_Closing\\\", \\\"vader\\\": 0.999}, \\\"geometry\\\": {\\\"type\\\": \\\"Point\\\", \\\"coordinates\\\": [-77.03655315, 38.8976997]}}, {\\\"id\\\": \\\"159\\\", \\\"type\\\": \\\"Feature\\\", \\\"properties\\\": {\\\"date\\\": \\\"2014-08-14\\\", \\\"location\\\": \\\"Edgartown, Massachusetts\\\", \\\"stanza\\\": 0.0, \\\"subjectivity\\\": 0.422, \\\"textblob\\\": 0.124, \\\"title\\\": \\\"Ferguson_and_Northern_Iraq\\\", \\\"vader\\\": 0.999}, \\\"geometry\\\": {\\\"type\\\": \\\"Point\\\", \\\"coordinates\\\": [-70.5133599, 41.3890052]}}, {\\\"id\\\": \\\"160\\\", \\\"type\\\": \\\"Feature\\\", \\\"properties\\\": {\\\"date\\\": \\\"2011-02-23\\\", \\\"location\\\": \\\"unknown_location\\\", \\\"stanza\\\": -0.111, \\\"subjectivity\\\": 0.327, \\\"textblob\\\": 0.14, \\\"title\\\": \\\"Libya_Violence_Must_Stop\\\", \\\"vader\\\": 0.994}, \\\"geometry\\\": {\\\"type\\\": \\\"Point\\\", \\\"coordinates\\\": [36.7416612, -0.9999454]}}, {\\\"id\\\": \\\"161\\\", \\\"type\\\": \\\"Feature\\\", \\\"properties\\\": {\\\"date\\\": \\\"2008-12-03\\\", \\\"location\\\": \\\"Chicago, Illinois\\\", \\\"stanza\\\": 0.061, \\\"subjectivity\\\": 0.406, \\\"textblob\\\": 0.144, \\\"title\\\": \\\"Announces_Commerce_Secretary_Designate\\\", \\\"vader\\\": 0.998}, \\\"geometry\\\": {\\\"type\\\": \\\"Point\\\", \\\"coordinates\\\": [-87.6244212, 41.8755616]}}, {\\\"id\\\": \\\"162\\\", \\\"type\\\": \\\"Feature\\\", \\\"properties\\\": {\\\"date\\\": \\\"2014-09-24\\\", \\\"location\\\": \\\"New York, New York\\\", \\\"stanza\\\": -0.216, \\\"subjectivity\\\": 0.469, \\\"textblob\\\": 0.082, \\\"title\\\": \\\"United_Nations_General_Assembly_2014\\\", \\\"vader\\\": -0.992}, \\\"geometry\\\": {\\\"type\\\": \\\"Point\\\", \\\"coordinates\\\": [-74.0060152, 40.7127281]}}, {\\\"id\\\": \\\"163\\\", \\\"type\\\": \\\"Feature\\\", \\\"properties\\\": {\\\"date\\\": \\\"2016-02-26\\\", \\\"location\\\": \\\"Jacksonville, Florida\\\", \\\"stanza\\\": -0.075, \\\"subjectivity\\\": 0.474, \\\"textblob\\\": 0.194, \\\"title\\\": \\\"Recovery_and_Reinvestment_Act_2016\\\", \\\"vader\\\": 1.0}, \\\"geometry\\\": {\\\"type\\\": \\\"Point\\\", \\\"coordinates\\\": [-81.655651, 30.3321838]}}, {\\\"id\\\": \\\"164\\\", \\\"type\\\": \\\"Feature\\\", \\\"properties\\\": {\\\"date\\\": \\\"2010-01-05\\\", \\\"location\\\": \\\"White House, Washington D.C.\\\", \\\"stanza\\\": -0.164, \\\"subjectivity\\\": 0.417, \\\"textblob\\\": 0.056, \\\"title\\\": \\\"Presser_XMas_Terrorist_Attempt\\\", \\\"vader\\\": 0.992}, \\\"geometry\\\": {\\\"type\\\": \\\"Point\\\", \\\"coordinates\\\": [-77.03655315, 38.8976997]}}, {\\\"id\\\": \\\"165\\\", \\\"type\\\": \\\"Feature\\\", \\\"properties\\\": {\\\"date\\\": \\\"2012-01-24\\\", \\\"location\\\": \\\"Washington D.C.\\\", \\\"stanza\\\": -0.234, \\\"subjectivity\\\": 0.409, \\\"textblob\\\": 0.125, \\\"title\\\": \\\"State_of_the_Union_2012\\\", \\\"vader\\\": 1.0}, \\\"geometry\\\": {\\\"type\\\": \\\"Point\\\", \\\"coordinates\\\": [-77.0365427, 38.8950368]}}, {\\\"id\\\": \\\"166\\\", \\\"type\\\": \\\"Feature\\\", \\\"properties\\\": {\\\"date\\\": \\\"2016-12-06\\\", \\\"location\\\": \\\"MacDill Air Force Base, Tampa, Florida\\\", \\\"stanza\\\": -0.232, \\\"subjectivity\\\": 0.43, \\\"textblob\\\": 0.086, \\\"title\\\": \\\"On_Counterterrorism_Approach_2016\\\", \\\"vader\\\": -1.0}, \\\"geometry\\\": {\\\"type\\\": \\\"Point\\\", \\\"coordinates\\\": [-82.50287224965905, 27.84364085]}}, {\\\"id\\\": \\\"167\\\", \\\"type\\\": \\\"Feature\\\", \\\"properties\\\": {\\\"date\\\": \\\"2010-11-10\\\", \\\"location\\\": \\\"Jakarta, Indonesia\\\", \\\"stanza\\\": 0.053, \\\"subjectivity\\\": 0.448, \\\"textblob\\\": 0.189, \\\"title\\\": \\\"Indonesia_University\\\", \\\"vader\\\": 1.0}, \\\"geometry\\\": {\\\"type\\\": \\\"Point\\\", \\\"coordinates\\\": [106.827183, -6.1753942]}}, {\\\"id\\\": \\\"168\\\", \\\"type\\\": \\\"Feature\\\", \\\"properties\\\": {\\\"date\\\": \\\"2012-12-21\\\", \\\"location\\\": \\\"National Cathedral, Washington D.C.\\\", \\\"stanza\\\": 0.125, \\\"subjectivity\\\": 0.498, \\\"textblob\\\": 0.242, \\\"title\\\": \\\"Daniel_Inouye_Eulogy\\\", \\\"vader\\\": 1.0}, \\\"geometry\\\": {\\\"type\\\": \\\"Point\\\", \\\"coordinates\\\": [-77.07059515120122, 38.93065095]}}, {\\\"id\\\": \\\"169\\\", \\\"type\\\": \\\"Feature\\\", \\\"properties\\\": {\\\"date\\\": \\\"2013-11-23\\\", \\\"location\\\": \\\"unknown_location\\\", \\\"stanza\\\": -0.122, \\\"subjectivity\\\": 0.475, \\\"textblob\\\": 0.158, \\\"title\\\": \\\"Iran_Accord_Statement\\\", \\\"vader\\\": 0.999}, \\\"geometry\\\": {\\\"type\\\": \\\"Point\\\", \\\"coordinates\\\": [36.7416612, -0.9999454]}}, {\\\"id\\\": \\\"170\\\", \\\"type\\\": \\\"Feature\\\", \\\"properties\\\": {\\\"date\\\": \\\"2013-04-18\\\", \\\"location\\\": \\\"Boston, Massachusetts\\\", \\\"stanza\\\": 0.067, \\\"subjectivity\\\": 0.494, \\\"textblob\\\": 0.184, \\\"title\\\": \\\"Holy_Cross_Interfaith_Prayer_Service\\\", \\\"vader\\\": 1.0}, \\\"geometry\\\": {\\\"type\\\": \\\"Point\\\", \\\"coordinates\\\": [-71.0582912, 42.3602534]}}, {\\\"id\\\": \\\"171\\\", \\\"type\\\": \\\"Feature\\\", \\\"properties\\\": {\\\"date\\\": \\\"2009-02-04\\\", \\\"location\\\": \\\"White House, Washington D.C.\\\", \\\"stanza\\\": -0.226, \\\"subjectivity\\\": 0.409, \\\"textblob\\\": 0.122, \\\"title\\\": \\\"Economic_Crisis_and_Executive_Compensation_Salary_Cap\\\", \\\"vader\\\": 0.95}, \\\"geometry\\\": {\\\"type\\\": \\\"Point\\\", \\\"coordinates\\\": [-77.03655315, 38.8976997]}}, {\\\"id\\\": \\\"172\\\", \\\"type\\\": \\\"Feature\\\", \\\"properties\\\": {\\\"date\\\": \\\"2012-02-29\\\", \\\"location\\\": \\\"unknown_location\\\", \\\"stanza\\\": 0.129, \\\"subjectivity\\\": 0.531, \\\"textblob\\\": 0.261, \\\"title\\\": \\\"Iraq_War_Veteran_Gala_Toast\\\", \\\"vader\\\": 1.0}, \\\"geometry\\\": {\\\"type\\\": \\\"Point\\\", \\\"coordinates\\\": [36.7416612, -0.9999454]}}, {\\\"id\\\": \\\"173\\\", \\\"type\\\": \\\"Feature\\\", \\\"properties\\\": {\\\"date\\\": \\\"2016-06-09\\\", \\\"location\\\": \\\"unknown_location\\\", \\\"stanza\\\": 0.129, \\\"subjectivity\\\": 0.506, \\\"textblob\\\": 0.358, \\\"title\\\": \\\"Hillary_Clinton_Endorsement\\\", \\\"vader\\\": 0.999}, \\\"geometry\\\": {\\\"type\\\": \\\"Point\\\", \\\"coordinates\\\": [36.7416612, -0.9999454]}}, {\\\"id\\\": \\\"174\\\", \\\"type\\\": \\\"Feature\\\", \\\"properties\\\": {\\\"date\\\": \\\"2011-09-21\\\", \\\"location\\\": \\\"New York, New York\\\", \\\"stanza\\\": -0.102, \\\"subjectivity\\\": 0.422, \\\"textblob\\\": 0.105, \\\"title\\\": \\\"United_Nations_on_Palestinian_Statehood\\\", \\\"vader\\\": 1.0}, \\\"geometry\\\": {\\\"type\\\": \\\"Point\\\", \\\"coordinates\\\": [-74.0060152, 40.7127281]}}, {\\\"id\\\": \\\"175\\\", \\\"type\\\": \\\"Feature\\\", \\\"properties\\\": {\\\"date\\\": \\\"2009-04-05\\\", \\\"location\\\": \\\"Czech Republic\\\", \\\"stanza\\\": -0.109, \\\"subjectivity\\\": 0.447, \\\"textblob\\\": 0.102, \\\"title\\\": \\\"Hradany_Square_Prague\\\", \\\"vader\\\": 0.999}, \\\"geometry\\\": {\\\"type\\\": \\\"Point\\\", \\\"coordinates\\\": [15.4749544, 49.8167003]}}, {\\\"id\\\": \\\"176\\\", \\\"type\\\": \\\"Feature\\\", \\\"properties\\\": {\\\"date\\\": \\\"2010-07-21\\\", \\\"location\\\": \\\"Ronald Reagan Building, Washington D.C.\\\", \\\"stanza\\\": -0.356, \\\"subjectivity\\\": 0.44, \\\"textblob\\\": 0.094, \\\"title\\\": \\\"Barack_Obama_-_Dodd-Frank_Signing\\\", \\\"vader\\\": 0.995}, \\\"geometry\\\": null}, {\\\"id\\\": \\\"177\\\", \\\"type\\\": \\\"Feature\\\", \\\"properties\\\": {\\\"date\\\": \\\"2015-02-05\\\", \\\"location\\\": \\\"unknown_location\\\", \\\"stanza\\\": 0.036, \\\"subjectivity\\\": 0.54, \\\"textblob\\\": 0.208, \\\"title\\\": \\\"Prayer_Breakfast_2015\\\", \\\"vader\\\": 1.0}, \\\"geometry\\\": {\\\"type\\\": \\\"Point\\\", \\\"coordinates\\\": [36.7416612, -0.9999454]}}, {\\\"id\\\": \\\"178\\\", \\\"type\\\": \\\"Feature\\\", \\\"properties\\\": {\\\"date\\\": \\\"2008-11-24\\\", \\\"location\\\": \\\"Chicago, Illinois\\\", \\\"stanza\\\": 0.074, \\\"subjectivity\\\": 0.354, \\\"textblob\\\": 0.169, \\\"title\\\": \\\"New_Economic_Team\\\", \\\"vader\\\": 0.999}, \\\"geometry\\\": {\\\"type\\\": \\\"Point\\\", \\\"coordinates\\\": [-87.6244212, 41.8755616]}}, {\\\"id\\\": \\\"179\\\", \\\"type\\\": \\\"Feature\\\", \\\"properties\\\": {\\\"date\\\": \\\"2013-06-11\\\", \\\"location\\\": \\\"unknown_location\\\", \\\"stanza\\\": -0.118, \\\"subjectivity\\\": 0.489, \\\"textblob\\\": 0.147, \\\"title\\\": \\\"Immigration_Senate_Call\\\", \\\"vader\\\": 1.0}, \\\"geometry\\\": {\\\"type\\\": \\\"Point\\\", \\\"coordinates\\\": [36.7416612, -0.9999454]}}, {\\\"id\\\": \\\"180\\\", \\\"type\\\": \\\"Feature\\\", \\\"properties\\\": {\\\"date\\\": \\\"2005-12-15\\\", \\\"location\\\": \\\"unknown_location\\\", \\\"stanza\\\": -0.28, \\\"subjectivity\\\": 0.474, \\\"textblob\\\": 0.085, \\\"title\\\": \\\"Senate_Floor_Speech_on_the_Patriot_Act\\\", \\\"vader\\\": 0.938}, \\\"geometry\\\": {\\\"type\\\": \\\"Point\\\", \\\"coordinates\\\": [36.7416612, -0.9999454]}}, {\\\"id\\\": \\\"181\\\", \\\"type\\\": \\\"Feature\\\", \\\"properties\\\": {\\\"date\\\": \\\"2015-12-09\\\", \\\"location\\\": \\\"U.S. Capitol, Washington D.C.\\\", \\\"stanza\\\": -0.213, \\\"subjectivity\\\": 0.451, \\\"textblob\\\": 0.1, \\\"title\\\": \\\"Barack_Obama_-_13th_Amendment_150-Year_Anniversary\\\", \\\"vader\\\": 0.999}, \\\"geometry\\\": {\\\"type\\\": \\\"Point\\\", \\\"coordinates\\\": [-77.008299, 38.8906766]}}, {\\\"id\\\": \\\"182\\\", \\\"type\\\": \\\"Feature\\\", \\\"properties\\\": {\\\"date\\\": \\\"2010-03-20\\\", \\\"location\\\": \\\"unknown_location\\\", \\\"stanza\\\": -0.193, \\\"subjectivity\\\": 0.528, \\\"textblob\\\": 0.163, \\\"title\\\": \\\"Democrat_Caucus_Health_Care\\\", \\\"vader\\\": 1.0}, \\\"geometry\\\": {\\\"type\\\": \\\"Point\\\", \\\"coordinates\\\": [36.7416612, -0.9999454]}}, {\\\"id\\\": \\\"183\\\", \\\"type\\\": \\\"Feature\\\", \\\"properties\\\": {\\\"date\\\": \\\"2012-03-04\\\", \\\"location\\\": \\\"unknown_location\\\", \\\"stanza\\\": -0.16, \\\"subjectivity\\\": 0.451, \\\"textblob\\\": 0.128, \\\"title\\\": \\\"AIPAC_2012\\\", \\\"vader\\\": 1.0}, \\\"geometry\\\": {\\\"type\\\": \\\"Point\\\", \\\"coordinates\\\": [36.7416612, -0.9999454]}}, {\\\"id\\\": \\\"184\\\", \\\"type\\\": \\\"Feature\\\", \\\"properties\\\": {\\\"date\\\": \\\"2016-05-24\\\", \\\"location\\\": \\\"National Convention Center, Hanoi, Vietnam\\\", \\\"stanza\\\": 0.032, \\\"subjectivity\\\": 0.42, \\\"textblob\\\": 0.206, \\\"title\\\": \\\"Speech_to_the_Vietnam_People\\\", \\\"vader\\\": 1.0}, \\\"geometry\\\": {\\\"type\\\": \\\"Point\\\", \\\"coordinates\\\": [105.78709927095412, 21.00636225]}}, {\\\"id\\\": \\\"185\\\", \\\"type\\\": \\\"Feature\\\", \\\"properties\\\": {\\\"date\\\": \\\"2015-11-13\\\", \\\"location\\\": \\\"Washington D.C.\\\", \\\"stanza\\\": 0.031, \\\"subjectivity\\\": 0.398, \\\"textblob\\\": 0.131, \\\"title\\\": \\\"Paris_Terrorist_Attacks\\\", \\\"vader\\\": 0.923}, \\\"geometry\\\": {\\\"type\\\": \\\"Point\\\", \\\"coordinates\\\": [-77.0365427, 38.8950368]}}, {\\\"id\\\": \\\"186\\\", \\\"type\\\": \\\"Feature\\\", \\\"properties\\\": {\\\"date\\\": \\\"2008-11-04\\\", \\\"location\\\": \\\"Chicago, Illinois\\\", \\\"stanza\\\": -0.063, \\\"subjectivity\\\": 0.432, \\\"textblob\\\": 0.143, \\\"title\\\": \\\"Presidential_Victory_Speech\\\", \\\"vader\\\": 1.0}, \\\"geometry\\\": {\\\"type\\\": \\\"Point\\\", \\\"coordinates\\\": [-87.6244212, 41.8755616]}}, {\\\"id\\\": \\\"187\\\", \\\"type\\\": \\\"Feature\\\", \\\"properties\\\": {\\\"date\\\": \\\"2009-12-08\\\", \\\"location\\\": \\\"Washington D.C.\\\", \\\"stanza\\\": -0.232, \\\"subjectivity\\\": 0.45, \\\"textblob\\\": 0.087, \\\"title\\\": \\\"Brookings_Institute\\\", \\\"vader\\\": 1.0}, \\\"geometry\\\": {\\\"type\\\": \\\"Point\\\", \\\"coordinates\\\": [-77.0365427, 38.8950368]}}, {\\\"id\\\": \\\"188\\\", \\\"type\\\": \\\"Feature\\\", \\\"properties\\\": {\\\"date\\\": \\\"2016-09-19\\\", \\\"location\\\": \\\"Lotte New York Palace Hotel, New York City, New York\\\", \\\"stanza\\\": -0.119, \\\"subjectivity\\\": 0.516, \\\"textblob\\\": 0.185, \\\"title\\\": \\\"NY_NJ_Explosions\\\", \\\"vader\\\": 0.337}, \\\"geometry\\\": {\\\"type\\\": \\\"Point\\\", \\\"coordinates\\\": [-73.97476900451042, 40.75798035]}}, {\\\"id\\\": \\\"189\\\", \\\"type\\\": \\\"Feature\\\", \\\"properties\\\": {\\\"date\\\": \\\"2015-04-10\\\", \\\"location\\\": \\\"Hotel El Panama, Panama City, Panama\\\", \\\"stanza\\\": -0.056, \\\"subjectivity\\\": 0.6, \\\"textblob\\\": 0.229, \\\"title\\\": \\\"Civil_Society_Forum_Panama\\\", \\\"vader\\\": 1.0}, \\\"geometry\\\": null}, {\\\"id\\\": \\\"190\\\", \\\"type\\\": \\\"Feature\\\", \\\"properties\\\": {\\\"date\\\": \\\"2016-07-12\\\", \\\"location\\\": \\\"Dallas, Texas\\\", \\\"stanza\\\": -0.215, \\\"subjectivity\\\": 0.52, \\\"textblob\\\": 0.12, \\\"title\\\": \\\"Dallas_Police_Memorial_Address\\\", \\\"vader\\\": 0.998}, \\\"geometry\\\": {\\\"type\\\": \\\"Point\\\", \\\"coordinates\\\": [-96.7968559, 32.7762719]}}, {\\\"id\\\": \\\"191\\\", \\\"type\\\": \\\"Feature\\\", \\\"properties\\\": {\\\"date\\\": \\\"2010-02-01\\\", \\\"location\\\": \\\"unknown_location\\\", \\\"stanza\\\": -0.402, \\\"subjectivity\\\": 0.434, \\\"textblob\\\": 0.084, \\\"title\\\": \\\"2010_Budget_to_Congress\\\", \\\"vader\\\": 0.999}, \\\"geometry\\\": {\\\"type\\\": \\\"Point\\\", \\\"coordinates\\\": [36.7416612, -0.9999454]}}, {\\\"id\\\": \\\"192\\\", \\\"type\\\": \\\"Feature\\\", \\\"properties\\\": {\\\"date\\\": \\\"2014-12-17\\\", \\\"location\\\": \\\"unknown_location\\\", \\\"stanza\\\": -0.064, \\\"subjectivity\\\": 0.424, \\\"textblob\\\": 0.124, \\\"title\\\": \\\"Cuba_Policy_Changes\\\", \\\"vader\\\": 1.0}, \\\"geometry\\\": {\\\"type\\\": \\\"Point\\\", \\\"coordinates\\\": [36.7416612, -0.9999454]}}, {\\\"id\\\": \\\"193\\\", \\\"type\\\": \\\"Feature\\\", \\\"properties\\\": {\\\"date\\\": \\\"2015-06-25\\\", \\\"location\\\": \\\"White House, Washington D.C.\\\", \\\"stanza\\\": -0.111, \\\"subjectivity\\\": 0.458, \\\"textblob\\\": 0.178, \\\"title\\\": \\\"USSC_Affordable_Care_Act_Ruling\\\", \\\"vader\\\": 1.0}, \\\"geometry\\\": {\\\"type\\\": \\\"Point\\\", \\\"coordinates\\\": [-77.03655315, 38.8976997]}}, {\\\"id\\\": \\\"194\\\", \\\"type\\\": \\\"Feature\\\", \\\"properties\\\": {\\\"date\\\": \\\"2016-05-07\\\", \\\"location\\\": \\\"Washington D.C.\\\", \\\"stanza\\\": -0.155, \\\"subjectivity\\\": 0.48, \\\"textblob\\\": 0.144, \\\"title\\\": \\\"Howard_University_Commencement\\\", \\\"vader\\\": 1.0}, \\\"geometry\\\": {\\\"type\\\": \\\"Point\\\", \\\"coordinates\\\": [-77.0365427, 38.8950368]}}, {\\\"id\\\": \\\"195\\\", \\\"type\\\": \\\"Feature\\\", \\\"properties\\\": {\\\"date\\\": \\\"2016-04-25\\\", \\\"location\\\": \\\"Hannover Messe Building 35, Hanover, Germany\\\", \\\"stanza\\\": -0.085, \\\"subjectivity\\\": 0.456, \\\"textblob\\\": 0.156, \\\"title\\\": \\\"Europe_Peoples_Hannover\\\", \\\"vader\\\": 1.0}, \\\"geometry\\\": null}, {\\\"id\\\": \\\"196\\\", \\\"type\\\": \\\"Feature\\\", \\\"properties\\\": {\\\"date\\\": \\\"2015-02-11\\\", \\\"location\\\": \\\"unknown_location\\\", \\\"stanza\\\": -0.141, \\\"subjectivity\\\": 0.484, \\\"textblob\\\": 0.082, \\\"title\\\": \\\"ISIL_Force_Authorization_Request\\\", \\\"vader\\\": 0.981}, \\\"geometry\\\": {\\\"type\\\": \\\"Point\\\", \\\"coordinates\\\": [36.7416612, -0.9999454]}}, {\\\"id\\\": \\\"197\\\", \\\"type\\\": \\\"Feature\\\", \\\"properties\\\": {\\\"date\\\": \\\"2010-11-08\\\", \\\"location\\\": \\\"New Delhi, India\\\", \\\"stanza\\\": 0.015, \\\"subjectivity\\\": 0.433, \\\"textblob\\\": 0.145, \\\"title\\\": \\\"Indian_Parliament\\\", \\\"vader\\\": 1.0}, \\\"geometry\\\": {\\\"type\\\": \\\"Point\\\", \\\"coordinates\\\": [77.2090057, 28.6138954]}}, {\\\"id\\\": \\\"198\\\", \\\"type\\\": \\\"Feature\\\", \\\"properties\\\": {\\\"date\\\": \\\"2011-11-16\\\", \\\"location\\\": \\\"Canberra, Australia\\\", \\\"stanza\\\": 0.0, \\\"subjectivity\\\": 0.442, \\\"textblob\\\": 0.149, \\\"title\\\": \\\"Australian_Parliament\\\", \\\"vader\\\": 1.0}, \\\"geometry\\\": {\\\"type\\\": \\\"Point\\\", \\\"coordinates\\\": [149.1012676, -35.2975906]}}, {\\\"id\\\": \\\"199\\\", \\\"type\\\": \\\"Feature\\\", \\\"properties\\\": {\\\"date\\\": \\\"2014-08-07\\\", \\\"location\\\": \\\"White House, Washington D.C.\\\", \\\"stanza\\\": -0.113, \\\"subjectivity\\\": 0.434, \\\"textblob\\\": 0.054, \\\"title\\\": \\\"Iraq_Airstrikes_and_Humanitarian_Aid_New\\\", \\\"vader\\\": 0.987}, \\\"geometry\\\": {\\\"type\\\": \\\"Point\\\", \\\"coordinates\\\": [-77.03655315, 38.8976997]}}, {\\\"id\\\": \\\"200\\\", \\\"type\\\": \\\"Feature\\\", \\\"properties\\\": {\\\"date\\\": \\\"2016-03-22\\\", \\\"location\\\": \\\"Gran Teatro de la Habana, Havana, Cuba\\\", \\\"stanza\\\": -0.059, \\\"subjectivity\\\": 0.481, \\\"textblob\\\": 0.171, \\\"title\\\": \\\"Cuba_People_Speech\\\", \\\"vader\\\": 1.0}, \\\"geometry\\\": {\\\"type\\\": \\\"Point\\\", \\\"coordinates\\\": [-82.3595917708269, 23.1369698]}}, {\\\"id\\\": \\\"201\\\", \\\"type\\\": \\\"Feature\\\", \\\"properties\\\": {\\\"date\\\": \\\"2011-05-30\\\", \\\"location\\\": \\\"White House, Washington D.C.\\\", \\\"stanza\\\": 0.243, \\\"subjectivity\\\": 0.483, \\\"textblob\\\": 0.174, \\\"title\\\": \\\"Defense_Dept_Personnel\\\", \\\"vader\\\": 1.0}, \\\"geometry\\\": {\\\"type\\\": \\\"Point\\\", \\\"coordinates\\\": [-77.03655315, 38.8976997]}}, {\\\"id\\\": \\\"202\\\", \\\"type\\\": \\\"Feature\\\", \\\"properties\\\": {\\\"date\\\": \\\"2014-09-16\\\", \\\"location\\\": \\\"Atlanta Georgia\\\", \\\"stanza\\\": -0.08, \\\"subjectivity\\\": 0.466, \\\"textblob\\\": 0.149, \\\"title\\\": \\\"Ebola_CDC\\\", \\\"vader\\\": 1.0}, \\\"geometry\\\": {\\\"type\\\": \\\"Point\\\", \\\"coordinates\\\": [-84.3902644, 33.7489924]}}, {\\\"id\\\": \\\"203\\\", \\\"type\\\": \\\"Feature\\\", \\\"properties\\\": {\\\"date\\\": \\\"2015-09-28\\\", \\\"location\\\": \\\"UN Headquarters, New York, New York\\\", \\\"stanza\\\": -0.219, \\\"subjectivity\\\": 0.454, \\\"textblob\\\": 0.137, \\\"title\\\": \\\"United_Nations_GA_2015\\\", \\\"vader\\\": 1.0}, \\\"geometry\\\": null}, {\\\"id\\\": \\\"204\\\", \\\"type\\\": \\\"Feature\\\", \\\"properties\\\": {\\\"date\\\": \\\"2015-12-14\\\", \\\"location\\\": \\\"unknown_location\\\", \\\"stanza\\\": -0.032, \\\"subjectivity\\\": 0.399, \\\"textblob\\\": 0.137, \\\"title\\\": \\\"Counter_ISIL_Campaign_Update\\\", \\\"vader\\\": -0.988}, \\\"geometry\\\": {\\\"type\\\": \\\"Point\\\", \\\"coordinates\\\": [36.7416612, -0.9999454]}}, {\\\"id\\\": \\\"205\\\", \\\"type\\\": \\\"Feature\\\", \\\"properties\\\": {\\\"date\\\": \\\"2012-04-23\\\", \\\"location\\\": \\\"Washington D.C.\\\", \\\"stanza\\\": -0.128, \\\"subjectivity\\\": 0.418, \\\"textblob\\\": 0.135, \\\"title\\\": \\\"National_Holocaust_Memorial_Museum\\\", \\\"vader\\\": 0.956}, \\\"geometry\\\": {\\\"type\\\": \\\"Point\\\", \\\"coordinates\\\": [-77.0365427, 38.8950368]}}, {\\\"id\\\": \\\"206\\\", \\\"type\\\": \\\"Feature\\\", \\\"properties\\\": {\\\"date\\\": \\\"2011-12-17\\\", \\\"location\\\": \\\"White House, Washington D.C.\\\", \\\"stanza\\\": 0.0, \\\"subjectivity\\\": 0.52, \\\"textblob\\\": 0.209, \\\"title\\\": \\\"Weekly_Address_Iraq_War_Service\\\", \\\"vader\\\": 0.983}, \\\"geometry\\\": {\\\"type\\\": \\\"Point\\\", \\\"coordinates\\\": [-77.03655315, 38.8976997]}}, {\\\"id\\\": \\\"207\\\", \\\"type\\\": \\\"Feature\\\", \\\"properties\\\": {\\\"date\\\": \\\"2016-02-03\\\", \\\"location\\\": \\\"Baltimore, Maryland\\\", \\\"stanza\\\": -0.038, \\\"subjectivity\\\": 0.448, \\\"textblob\\\": 0.152, \\\"title\\\": \\\"Islamic_Society_Baltimore\\\", \\\"vader\\\": 1.0}, \\\"geometry\\\": {\\\"type\\\": \\\"Point\\\", \\\"coordinates\\\": [-76.610759, 39.2908816]}}, {\\\"id\\\": \\\"208\\\", \\\"type\\\": \\\"Feature\\\", \\\"properties\\\": {\\\"date\\\": \\\"2011-07-31\\\", \\\"location\\\": \\\"White House, Washington D.C.\\\", \\\"stanza\\\": -0.143, \\\"subjectivity\\\": 0.529, \\\"textblob\\\": 0.112, \\\"title\\\": \\\"Debt_Compromise_Agreement\\\", \\\"vader\\\": 0.997}, \\\"geometry\\\": {\\\"type\\\": \\\"Point\\\", \\\"coordinates\\\": [-77.03655315, 38.8976997]}}, {\\\"id\\\": \\\"209\\\", \\\"type\\\": \\\"Feature\\\", \\\"properties\\\": {\\\"date\\\": \\\"2011-05-29\\\", \\\"location\\\": \\\"Missouri Southern University, Joplin Missouri\\\", \\\"stanza\\\": -0.06, \\\"subjectivity\\\": 0.498, \\\"textblob\\\": 0.145, \\\"title\\\": \\\"Joplin_Tornado_Victims_Memorial\\\", \\\"vader\\\": 0.999}, \\\"geometry\\\": {\\\"type\\\": \\\"Point\\\", \\\"coordinates\\\": [-94.45764031637654, 37.09536065]}}, {\\\"id\\\": \\\"210\\\", \\\"type\\\": \\\"Feature\\\", \\\"properties\\\": {\\\"date\\\": \\\"2011-07-25\\\", \\\"location\\\": \\\"White House, Washington D.C.\\\", \\\"stanza\\\": -0.347, \\\"subjectivity\\\": 0.472, \\\"textblob\\\": 0.125, \\\"title\\\": \\\"Dangers_of_Default\\\", \\\"vader\\\": 0.924}, \\\"geometry\\\": {\\\"type\\\": \\\"Point\\\", \\\"coordinates\\\": [-77.03655315, 38.8976997]}}, {\\\"id\\\": \\\"211\\\", \\\"type\\\": \\\"Feature\\\", \\\"properties\\\": {\\\"date\\\": \\\"2010-08-13\\\", \\\"location\\\": \\\"Washington D.C.\\\", \\\"stanza\\\": 0.041, \\\"subjectivity\\\": 0.397, \\\"textblob\\\": 0.184, \\\"title\\\": \\\"Iftar_Dinner_on_Religious_Tolerance\\\", \\\"vader\\\": 0.999}, \\\"geometry\\\": {\\\"type\\\": \\\"Point\\\", \\\"coordinates\\\": [-77.0365427, 38.8950368]}}, {\\\"id\\\": \\\"212\\\", \\\"type\\\": \\\"Feature\\\", \\\"properties\\\": {\\\"date\\\": \\\"2013-01-21\\\", \\\"location\\\": \\\"Washington D.C.\\\", \\\"stanza\\\": -0.095, \\\"subjectivity\\\": 0.455, \\\"textblob\\\": 0.129, \\\"title\\\": \\\"Second_Presidential_Inaugural_Address\\\", \\\"vader\\\": 1.0}, \\\"geometry\\\": {\\\"type\\\": \\\"Point\\\", \\\"coordinates\\\": [-77.0365427, 38.8950368]}}, {\\\"id\\\": \\\"213\\\", \\\"type\\\": \\\"Feature\\\", \\\"properties\\\": {\\\"date\\\": \\\"2013-12-10\\\", \\\"location\\\": \\\"First National Bank Stadium, Johannesburg, South Africa\\\", \\\"stanza\\\": 0.077, \\\"subjectivity\\\": 0.564, \\\"textblob\\\": 0.16, \\\"title\\\": \\\"Mandela_Public_Memorial_Address\\\", \\\"vader\\\": 1.0}, \\\"geometry\\\": null}, {\\\"id\\\": \\\"214\\\", \\\"type\\\": \\\"Feature\\\", \\\"properties\\\": {\\\"date\\\": \\\"2009-12-01\\\", \\\"location\\\": \\\"Eisenhower Hall, West Point Military Academy, New York\\\", \\\"stanza\\\": -0.141, \\\"subjectivity\\\": 0.455, \\\"textblob\\\": 0.112, \\\"title\\\": \\\"Afghanistan_War_Troop_Surge\\\", \\\"vader\\\": 0.999}, \\\"geometry\\\": null}, {\\\"id\\\": \\\"215\\\", \\\"type\\\": \\\"Feature\\\", \\\"properties\\\": {\\\"date\\\": \\\"2015-03-10\\\", \\\"location\\\": \\\"Georgia Institute of Technology, Atlanta, Georgia\\\", \\\"stanza\\\": -0.107, \\\"subjectivity\\\": 0.512, \\\"textblob\\\": 0.198, \\\"title\\\": \\\"Student_Aid_Bill_of_Rights\\\", \\\"vader\\\": 1.0}, \\\"geometry\\\": {\\\"type\\\": \\\"Point\\\", \\\"coordinates\\\": [-84.39884086001581, 33.776033]}}, {\\\"id\\\": \\\"216\\\", \\\"type\\\": \\\"Feature\\\", \\\"properties\\\": {\\\"date\\\": \\\"2013-04-25\\\", \\\"location\\\": \\\"Southern Methodist University, Dallas, Texas\\\", \\\"stanza\\\": 0.094, \\\"subjectivity\\\": 0.556, \\\"textblob\\\": 0.194, \\\"title\\\": \\\"GWB_Library_Dedication\\\", \\\"vader\\\": 1.0}, \\\"geometry\\\": {\\\"type\\\": \\\"Point\\\", \\\"coordinates\\\": [-96.78152810147064, 32.841801149999995]}}, {\\\"id\\\": \\\"217\\\", \\\"type\\\": \\\"Feature\\\", \\\"properties\\\": {\\\"date\\\": \\\"2015-02-18\\\", \\\"location\\\": \\\"White House, Washington D.C.\\\", \\\"stanza\\\": -0.125, \\\"subjectivity\\\": 0.483, \\\"textblob\\\": 0.109, \\\"title\\\": \\\"Countering_Violent_Religious_Extremism\\\", \\\"vader\\\": 0.992}, \\\"geometry\\\": {\\\"type\\\": \\\"Point\\\", \\\"coordinates\\\": [-77.03655315, 38.8976997]}}, {\\\"id\\\": \\\"218\\\", \\\"type\\\": \\\"Feature\\\", \\\"properties\\\": {\\\"date\\\": \\\"2015-04-11\\\", \\\"location\\\": \\\"Panama City, Panama\\\", \\\"stanza\\\": -0.058, \\\"subjectivity\\\": 0.458, \\\"textblob\\\": 0.187, \\\"title\\\": \\\"Summit_Americas_Plenary\\\", \\\"vader\\\": 1.0}, \\\"geometry\\\": {\\\"type\\\": \\\"Point\\\", \\\"coordinates\\\": [-85.6545729, 30.1600827]}}, {\\\"id\\\": \\\"219\\\", \\\"type\\\": \\\"Feature\\\", \\\"properties\\\": {\\\"date\\\": \\\"2016-01-01\\\", \\\"location\\\": \\\"unknown_location\\\", \\\"stanza\\\": -0.068, \\\"subjectivity\\\": 0.425, \\\"textblob\\\": 0.08, \\\"title\\\": \\\"Barack_Obama_-_Weekly_Address_01-01-16\\\", \\\"vader\\\": -0.971}, \\\"geometry\\\": {\\\"type\\\": \\\"Point\\\", \\\"coordinates\\\": [36.7416612, -0.9999454]}}, {\\\"id\\\": \\\"220\\\", \\\"type\\\": \\\"Feature\\\", \\\"properties\\\": {\\\"date\\\": \\\"2011-09-19\\\", \\\"location\\\": \\\"White House, Washington D.C.\\\", \\\"stanza\\\": -0.344, \\\"subjectivity\\\": 0.437, \\\"textblob\\\": 0.111, \\\"title\\\": \\\"Rose_Garden_Economy_and_Deficit\\\", \\\"vader\\\": 0.999}, \\\"geometry\\\": {\\\"type\\\": \\\"Point\\\", \\\"coordinates\\\": [-77.03655315, 38.8976997]}}, {\\\"id\\\": \\\"221\\\", \\\"type\\\": \\\"Feature\\\", \\\"properties\\\": {\\\"date\\\": \\\"2016-09-24\\\", \\\"location\\\": \\\"National Mall, Washington D.C.\\\", \\\"stanza\\\": 0.022, \\\"subjectivity\\\": 0.472, \\\"textblob\\\": 0.17, \\\"title\\\": \\\"Barack_Obama_-_African-American_History_Museum_Dedication\\\", \\\"vader\\\": 1.0}, \\\"geometry\\\": {\\\"type\\\": \\\"Point\\\", \\\"coordinates\\\": [-77.0414734922376, 38.8854281]}}, {\\\"id\\\": \\\"222\\\", \\\"type\\\": \\\"Feature\\\", \\\"properties\\\": {\\\"date\\\": \\\"2009-07-11\\\", \\\"location\\\": \\\"Accra International Conference Center, Accra, Ghana\\\", \\\"stanza\\\": -0.035, \\\"subjectivity\\\": 0.473, \\\"textblob\\\": 0.165, \\\"title\\\": \\\"Ghana_Parliament\\\", \\\"vader\\\": 1.0}, \\\"geometry\\\": {\\\"type\\\": \\\"Point\\\", \\\"coordinates\\\": [-0.1933723992148674, 5.5543117]}}, {\\\"id\\\": \\\"223\\\", \\\"type\\\": \\\"Feature\\\", \\\"properties\\\": {\\\"date\\\": \\\"2014-06-06\\\", \\\"location\\\": \\\"Omaha Beach, Normandy, France\\\", \\\"stanza\\\": -0.093, \\\"subjectivity\\\": 0.453, \\\"textblob\\\": 0.163, \\\"title\\\": \\\"DDay_70\\\", \\\"vader\\\": 1.0}, \\\"geometry\\\": {\\\"type\\\": \\\"Point\\\", \\\"coordinates\\\": [-0.8988297590207961, 49.37781875]}}, {\\\"id\\\": \\\"224\\\", \\\"type\\\": \\\"Feature\\\", \\\"properties\\\": {\\\"date\\\": \\\"2007-03-13\\\", \\\"location\\\": \\\"unknown_location\\\", \\\"stanza\\\": -0.354, \\\"subjectivity\\\": 0.409, \\\"textblob\\\": 0.016, \\\"title\\\": \\\"Senate_Speech_Iraq_Federalism_Amendment\\\", \\\"vader\\\": -0.992}, \\\"geometry\\\": {\\\"type\\\": \\\"Point\\\", \\\"coordinates\\\": [36.7416612, -0.9999454]}}, {\\\"id\\\": \\\"225\\\", \\\"type\\\": \\\"Feature\\\", \\\"properties\\\": {\\\"date\\\": \\\"2011-03-19\\\", \\\"location\\\": \\\"The Convention Center Brasil 21, Brasilia, Brazil\\\", \\\"stanza\\\": -0.074, \\\"subjectivity\\\": 0.291, \\\"textblob\\\": 0.179, \\\"title\\\": \\\"Odyssey_Dawn\\\", \\\"vader\\\": 0.988}, \\\"geometry\\\": null}, {\\\"id\\\": \\\"226\\\", \\\"type\\\": \\\"Feature\\\", \\\"properties\\\": {\\\"date\\\": \\\"2016-05-04\\\", \\\"location\\\": \\\"Northwestern High School, Flint, Michigan\\\", \\\"stanza\\\": -0.187, \\\"subjectivity\\\": 0.519, \\\"textblob\\\": 0.167, \\\"title\\\": \\\"Flint_Michigan_Community\\\", \\\"vader\\\": 1.0}, \\\"geometry\\\": {\\\"type\\\": \\\"Point\\\", \\\"coordinates\\\": [-83.7209112504498, 43.07770265]}}, {\\\"id\\\": \\\"227\\\", \\\"type\\\": \\\"Feature\\\", \\\"properties\\\": {\\\"date\\\": \\\"2014-12-02\\\", \\\"location\\\": \\\"Bethesda, Maryland\\\", \\\"stanza\\\": 0.006, \\\"subjectivity\\\": 0.437, \\\"textblob\\\": 0.164, \\\"title\\\": \\\"Ebola_NIH_Research\\\", \\\"vader\\\": 1.0}, \\\"geometry\\\": {\\\"type\\\": \\\"Point\\\", \\\"coordinates\\\": [-77.12335871396549, 38.98127255]}}, {\\\"id\\\": \\\"228\\\", \\\"type\\\": \\\"Feature\\\", \\\"properties\\\": {\\\"date\\\": \\\"2010-02-04\\\", \\\"location\\\": \\\"unknown_location\\\", \\\"stanza\\\": -0.117, \\\"subjectivity\\\": 0.493, \\\"textblob\\\": 0.115, \\\"title\\\": \\\"Prayer_Breakfast_2010\\\", \\\"vader\\\": 1.0}, \\\"geometry\\\": {\\\"type\\\": \\\"Point\\\", \\\"coordinates\\\": [36.7416612, -0.9999454]}}, {\\\"id\\\": \\\"229\\\", \\\"type\\\": \\\"Feature\\\", \\\"properties\\\": {\\\"date\\\": \\\"2008-03-18\\\", \\\"location\\\": \\\"Philadelphia, Pennsylvania\\\", \\\"stanza\\\": -0.275, \\\"subjectivity\\\": 0.433, \\\"textblob\\\": 0.091, \\\"title\\\": \\\"More_Perfect_Union\\\", \\\"vader\\\": -0.993}, \\\"geometry\\\": {\\\"type\\\": \\\"Point\\\", \\\"coordinates\\\": [-75.1635262, 39.9527237]}}, {\\\"id\\\": \\\"230\\\", \\\"type\\\": \\\"Feature\\\", \\\"properties\\\": {\\\"date\\\": \\\"2009-03-10\\\", \\\"location\\\": \\\"unknown_location\\\", \\\"stanza\\\": -0.132, \\\"subjectivity\\\": 0.464, \\\"textblob\\\": 0.174, \\\"title\\\": \\\"Hispanic_Chamber_of_Commerce\\\", \\\"vader\\\": 1.0}, \\\"geometry\\\": {\\\"type\\\": \\\"Point\\\", \\\"coordinates\\\": [36.7416612, -0.9999454]}}, {\\\"id\\\": \\\"231\\\", \\\"type\\\": \\\"Feature\\\", \\\"properties\\\": {\\\"date\\\": \\\"2009-02-27\\\", \\\"location\\\": \\\"Camp Lejeune, North Carolina\\\", \\\"stanza\\\": -0.028, \\\"subjectivity\\\": 0.438, \\\"textblob\\\": 0.17, \\\"title\\\": \\\"Iraq_War_Camp_Lejeune\\\", \\\"vader\\\": 1.0}, \\\"geometry\\\": {\\\"type\\\": \\\"Point\\\", \\\"coordinates\\\": [-77.34201604164966, 34.63941505]}}, {\\\"id\\\": \\\"232\\\", \\\"type\\\": \\\"Feature\\\", \\\"properties\\\": {\\\"date\\\": \\\"2013-08-31\\\", \\\"location\\\": \\\"White House, Washington D.C.\\\", \\\"stanza\\\": -0.231, \\\"subjectivity\\\": 0.418, \\\"textblob\\\": 0.088, \\\"title\\\": \\\"Chemical_Weapons_Syria\\\", \\\"vader\\\": 0.993}, \\\"geometry\\\": {\\\"type\\\": \\\"Point\\\", \\\"coordinates\\\": [-77.03655315, 38.8976997]}}, {\\\"id\\\": \\\"233\\\", \\\"type\\\": \\\"Feature\\\", \\\"properties\\\": {\\\"date\\\": \\\"2013-03-21\\\", \\\"location\\\": \\\"Jerusalem, Israel\\\", \\\"stanza\\\": -0.042, \\\"subjectivity\\\": 0.481, \\\"textblob\\\": 0.152, \\\"title\\\": \\\"Jerusalem_Intl_Convention_Center_Speech\\\", \\\"vader\\\": 1.0}, \\\"geometry\\\": {\\\"type\\\": \\\"Point\\\", \\\"coordinates\\\": [35.2257626, 31.7788242]}}, {\\\"id\\\": \\\"234\\\", \\\"type\\\": \\\"Feature\\\", \\\"properties\\\": {\\\"date\\\": \\\"2010-11-16\\\", \\\"location\\\": \\\"White House, Washington D.C.\\\", \\\"stanza\\\": -0.061, \\\"subjectivity\\\": 0.435, \\\"textblob\\\": 0.116, \\\"title\\\": \\\"Salvatore_Giunta_Medal_of_Honor\\\", \\\"vader\\\": 0.998}, \\\"geometry\\\": {\\\"type\\\": \\\"Point\\\", \\\"coordinates\\\": [-77.03655315, 38.8976997]}}, {\\\"id\\\": \\\"235\\\", \\\"type\\\": \\\"Feature\\\", \\\"properties\\\": {\\\"date\\\": \\\"2016-12-04\\\", \\\"location\\\": \\\"White House, Washington D.C.\\\", \\\"stanza\\\": 0.273, \\\"subjectivity\\\": 0.496, \\\"textblob\\\": 0.221, \\\"title\\\": \\\"Kennedy_Center_Honorees_2016\\\", \\\"vader\\\": 1.0}, \\\"geometry\\\": {\\\"type\\\": \\\"Point\\\", \\\"coordinates\\\": [-77.03655315, 38.8976997]}}, {\\\"id\\\": \\\"236\\\", \\\"type\\\": \\\"Feature\\\", \\\"properties\\\": {\\\"date\\\": \\\"2016-06-14\\\", \\\"location\\\": \\\"Walter E. Washington Convention Center, Washington D.C.\\\", \\\"stanza\\\": -0.063, \\\"subjectivity\\\": 0.486, \\\"textblob\\\": 0.136, \\\"title\\\": \\\"United_State_of_Women\\\", \\\"vader\\\": 1.0}, \\\"geometry\\\": {\\\"type\\\": \\\"Point\\\", \\\"coordinates\\\": [-77.02295618530775, 38.90503335]}}, {\\\"id\\\": \\\"237\\\", \\\"type\\\": \\\"Feature\\\", \\\"properties\\\": {\\\"date\\\": \\\"2009-02-12\\\", \\\"location\\\": \\\"Lincoln Memorial, Washington D.C.\\\", \\\"stanza\\\": -0.207, \\\"subjectivity\\\": 0.466, \\\"textblob\\\": 0.113, \\\"title\\\": \\\"Lincoln_Bicentennial\\\", \\\"vader\\\": 0.592}, \\\"geometry\\\": {\\\"type\\\": \\\"Point\\\", \\\"coordinates\\\": [-77.05017197314066, 38.889212150000006]}}, {\\\"id\\\": \\\"238\\\", \\\"type\\\": \\\"Feature\\\", \\\"properties\\\": {\\\"date\\\": \\\"2010-06-15\\\", \\\"location\\\": \\\"unknown_location\\\", \\\"stanza\\\": -0.05, \\\"subjectivity\\\": 0.488, \\\"textblob\\\": 0.146, \\\"title\\\": \\\"Pensacola_Military_Personnel\\\", \\\"vader\\\": 1.0}, \\\"geometry\\\": {\\\"type\\\": \\\"Point\\\", \\\"coordinates\\\": [36.7416612, -0.9999454]}}, {\\\"id\\\": \\\"239\\\", \\\"type\\\": \\\"Feature\\\", \\\"properties\\\": {\\\"date\\\": \\\"2015-03-30\\\", \\\"location\\\": \\\"Boston, Massachusetts\\\", \\\"stanza\\\": -0.06, \\\"subjectivity\\\": 0.489, \\\"textblob\\\": 0.149, \\\"title\\\": \\\"Ted_Kennedy_Institute_Dedication\\\", \\\"vader\\\": 1.0}, \\\"geometry\\\": {\\\"type\\\": \\\"Point\\\", \\\"coordinates\\\": [-71.0582912, 42.3602534]}}, {\\\"id\\\": \\\"240\\\", \\\"type\\\": \\\"Feature\\\", \\\"properties\\\": {\\\"date\\\": \\\"2015-03-07\\\", \\\"location\\\": \\\"Edmund Pettus Bridge, Selma, Alabama\\\", \\\"stanza\\\": -0.071, \\\"subjectivity\\\": 0.468, \\\"textblob\\\": 0.159, \\\"title\\\": \\\"Selma_50_March\\\", \\\"vader\\\": 1.0}, \\\"geometry\\\": {\\\"type\\\": \\\"Point\\\", \\\"coordinates\\\": [-87.01813913248446, 32.4047191]}}, {\\\"id\\\": \\\"241\\\", \\\"type\\\": \\\"Feature\\\", \\\"properties\\\": {\\\"date\\\": \\\"2010-04-22\\\", \\\"location\\\": \\\"Cooper Union, New York, New York\\\", \\\"stanza\\\": -0.281, \\\"subjectivity\\\": 0.407, \\\"textblob\\\": 0.102, \\\"title\\\": \\\"Reforming_Wall_Street\\\", \\\"vader\\\": 0.999}, \\\"geometry\\\": {\\\"type\\\": \\\"Point\\\", \\\"coordinates\\\": [-73.9905606, 40.7295282]}}, {\\\"id\\\": \\\"242\\\", \\\"type\\\": \\\"Feature\\\", \\\"properties\\\": {\\\"date\\\": \\\"2008-11-07\\\", \\\"location\\\": \\\"Chicago, Illinois\\\", \\\"stanza\\\": -0.132, \\\"subjectivity\\\": 0.41, \\\"textblob\\\": 0.09, \\\"title\\\": \\\"First_Press_Conference\\\", \\\"vader\\\": 0.984}, \\\"geometry\\\": {\\\"type\\\": \\\"Point\\\", \\\"coordinates\\\": [-87.6244212, 41.8755616]}}, {\\\"id\\\": \\\"243\\\", \\\"type\\\": \\\"Feature\\\", \\\"properties\\\": {\\\"date\\\": \\\"2016-01-12\\\", \\\"location\\\": \\\"Washington D.C.\\\", \\\"stanza\\\": -0.181, \\\"subjectivity\\\": 0.428, \\\"textblob\\\": 0.119, \\\"title\\\": \\\"Final_State_of_the_Union_Address\\\", \\\"vader\\\": 1.0}, \\\"geometry\\\": {\\\"type\\\": \\\"Point\\\", \\\"coordinates\\\": [-77.0365427, 38.8950368]}}, {\\\"id\\\": \\\"244\\\", \\\"type\\\": \\\"Feature\\\", \\\"properties\\\": {\\\"date\\\": \\\"2008-01-18\\\", \\\"location\\\": \\\"Washington D.C.\\\", \\\"stanza\\\": -0.029, \\\"subjectivity\\\": 0.58, \\\"textblob\\\": 0.174, \\\"title\\\": \\\"Lincoln_Memorial\\\", \\\"vader\\\": 0.999}, \\\"geometry\\\": {\\\"type\\\": \\\"Point\\\", \\\"coordinates\\\": [-77.0365427, 38.8950368]}}, {\\\"id\\\": \\\"245\\\", \\\"type\\\": \\\"Feature\\\", \\\"properties\\\": {\\\"date\\\": \\\"2013-07-19\\\", \\\"location\\\": \\\"unknown_location\\\", \\\"stanza\\\": -0.209, \\\"subjectivity\\\": 0.429, \\\"textblob\\\": 0.096, \\\"title\\\": \\\"Trayvon_Martin\\\", \\\"vader\\\": 0.997}, \\\"geometry\\\": {\\\"type\\\": \\\"Point\\\", \\\"coordinates\\\": [36.7416612, -0.9999454]}}, {\\\"id\\\": \\\"246\\\", \\\"type\\\": \\\"Feature\\\", \\\"properties\\\": {\\\"date\\\": \\\"2011-01-12\\\", \\\"location\\\": \\\"McKale Memorial Center, University of Arizona, Tucson\\\", \\\"stanza\\\": 0.02, \\\"subjectivity\\\": 0.528, \\\"textblob\\\": 0.181, \\\"title\\\": \\\"Tucson_Memorial_Address\\\", \\\"vader\\\": 1.0}, \\\"geometry\\\": null}, {\\\"id\\\": \\\"247\\\", \\\"type\\\": \\\"Feature\\\", \\\"properties\\\": {\\\"date\\\": \\\"2009-04-06\\\", \\\"location\\\": \\\"Ankara, Turkey\\\", \\\"stanza\\\": 0.024, \\\"subjectivity\\\": 0.489, \\\"textblob\\\": 0.157, \\\"title\\\": \\\"Turkish_Parliament\\\", \\\"vader\\\": 1.0}, \\\"geometry\\\": {\\\"type\\\": \\\"Point\\\", \\\"coordinates\\\": [32.8540482, 39.9207886]}}, {\\\"id\\\": \\\"248\\\", \\\"type\\\": \\\"Feature\\\", \\\"properties\\\": {\\\"date\\\": \\\"2011-12-06\\\", \\\"location\\\": \\\"Osawatomie, Kansas\\\", \\\"stanza\\\": -0.213, \\\"subjectivity\\\": 0.436, \\\"textblob\\\": 0.192, \\\"title\\\": \\\"New_Nationalism_at_Osawatomie_HS\\\", \\\"vader\\\": 1.0}, \\\"geometry\\\": {\\\"type\\\": \\\"Point\\\", \\\"coordinates\\\": [-94.9508229, 38.4970321]}}, {\\\"id\\\": \\\"249\\\", \\\"type\\\": \\\"Feature\\\", \\\"properties\\\": {\\\"date\\\": \\\"2015-02-13\\\", \\\"location\\\": \\\"Stanford University, Stanford, California\\\", \\\"stanza\\\": 0.026, \\\"subjectivity\\\": 0.459, \\\"textblob\\\": 0.202, \\\"title\\\": \\\"Stanford_Cybersecurity_Summit\\\", \\\"vader\\\": 1.0}, \\\"geometry\\\": {\\\"type\\\": \\\"Point\\\", \\\"coordinates\\\": [-122.16936535498309, 37.43131385]}}, {\\\"id\\\": \\\"250\\\", \\\"type\\\": \\\"Feature\\\", \\\"properties\\\": {\\\"date\\\": \\\"2010-07-02\\\", \\\"location\\\": \\\"West Virginia State Capitol, Charleston, West Virginia\\\", \\\"stanza\\\": 0.18, \\\"subjectivity\\\": 0.505, \\\"textblob\\\": 0.2, \\\"title\\\": \\\"Robert_Bryd_Eulogy\\\", \\\"vader\\\": 0.999}, \\\"geometry\\\": {\\\"type\\\": \\\"Point\\\", \\\"coordinates\\\": [-81.61227444920297, 38.3363062]}}, {\\\"id\\\": \\\"251\\\", \\\"type\\\": \\\"Feature\\\", \\\"properties\\\": {\\\"date\\\": \\\"2011-05-06\\\", \\\"location\\\": \\\"unknown_location\\\", \\\"stanza\\\": 0.077, \\\"subjectivity\\\": 0.54, \\\"textblob\\\": 0.198, \\\"title\\\": \\\"Fort_Campbell\\\", \\\"vader\\\": 0.999}, \\\"geometry\\\": {\\\"type\\\": \\\"Point\\\", \\\"coordinates\\\": [36.7416612, -0.9999454]}}, {\\\"id\\\": \\\"252\\\", \\\"type\\\": \\\"Feature\\\", \\\"properties\\\": {\\\"date\\\": \\\"2013-05-02\\\", \\\"location\\\": \\\"Anthropological Museum, Mexico City\\\", \\\"stanza\\\": 0.06, \\\"subjectivity\\\": 0.425, \\\"textblob\\\": 0.205, \\\"title\\\": \\\"Mexico_Address\\\", \\\"vader\\\": 1.0}, \\\"geometry\\\": null}, {\\\"id\\\": \\\"253\\\", \\\"type\\\": \\\"Feature\\\", \\\"properties\\\": {\\\"date\\\": \\\"2014-06-04\\\", \\\"location\\\": \\\"Castle Square, Warsaw, Poland\\\", \\\"stanza\\\": 0.046, \\\"subjectivity\\\": 0.56, \\\"textblob\\\": 0.18, \\\"title\\\": \\\"Polish_Freedom_Day_25\\\", \\\"vader\\\": 1.0}, \\\"geometry\\\": {\\\"type\\\": \\\"Point\\\", \\\"coordinates\\\": [21.01378910682335, 52.24793695]}}, {\\\"id\\\": \\\"254\\\", \\\"type\\\": \\\"Feature\\\", \\\"properties\\\": {\\\"date\\\": \\\"2014-09-03\\\", \\\"location\\\": \\\"Nordea Concert Hall Tallinn, Estonia\\\", \\\"stanza\\\": 0.0, \\\"subjectivity\\\": 0.47, \\\"textblob\\\": 0.196, \\\"title\\\": \\\"Estonia_People\\\", \\\"vader\\\": 1.0}, \\\"geometry\\\": null}, {\\\"id\\\": \\\"255\\\", \\\"type\\\": \\\"Feature\\\", \\\"properties\\\": {\\\"date\\\": \\\"2011-09-20\\\", \\\"location\\\": \\\"New York, New York\\\", \\\"stanza\\\": -0.011, \\\"subjectivity\\\": 0.419, \\\"textblob\\\": 0.126, \\\"title\\\": \\\"UN_High_Level_Libya\\\", \\\"vader\\\": 1.0}, \\\"geometry\\\": {\\\"type\\\": \\\"Point\\\", \\\"coordinates\\\": [-74.0060152, 40.7127281]}}, {\\\"id\\\": \\\"256\\\", \\\"type\\\": \\\"Feature\\\", \\\"properties\\\": {\\\"date\\\": \\\"2010-03-13\\\", \\\"location\\\": \\\"unknown_location\\\", \\\"stanza\\\": 0.093, \\\"subjectivity\\\": 0.377, \\\"textblob\\\": 0.139, \\\"title\\\": \\\"No_Child_Left_Behind_Blueprint\\\", \\\"vader\\\": 1.0}, \\\"geometry\\\": {\\\"type\\\": \\\"Point\\\", \\\"coordinates\\\": [36.7416612, -0.9999454]}}, {\\\"id\\\": \\\"257\\\", \\\"type\\\": \\\"Feature\\\", \\\"properties\\\": {\\\"date\\\": \\\"2009-09-23\\\", \\\"location\\\": \\\"New York, New York\\\", \\\"stanza\\\": -0.178, \\\"subjectivity\\\": 0.419, \\\"textblob\\\": 0.079, \\\"title\\\": \\\"United_Nations_General_Assembly\\\", \\\"vader\\\": 1.0}, \\\"geometry\\\": {\\\"type\\\": \\\"Point\\\", \\\"coordinates\\\": [-74.0060152, 40.7127281]}}, {\\\"id\\\": \\\"258\\\", \\\"type\\\": \\\"Feature\\\", \\\"properties\\\": {\\\"date\\\": \\\"2010-04-25\\\", \\\"location\\\": \\\"Beckley, West Virginia\\\", \\\"stanza\\\": -0.042, \\\"subjectivity\\\": 0.496, \\\"textblob\\\": 0.164, \\\"title\\\": \\\"Eulogy_West_Virginia_Coal_Miners\\\", \\\"vader\\\": 0.999}, \\\"geometry\\\": {\\\"type\\\": \\\"Point\\\", \\\"coordinates\\\": [-81.1881557, 37.7781702]}}, {\\\"id\\\": \\\"259\\\", \\\"type\\\": \\\"Feature\\\", \\\"properties\\\": {\\\"date\\\": \\\"2010-09-23\\\", \\\"location\\\": \\\"New York, New York\\\", \\\"stanza\\\": -0.147, \\\"subjectivity\\\": 0.432, \\\"textblob\\\": 0.119, \\\"title\\\": \\\"UNGA_2010\\\", \\\"vader\\\": 1.0}, \\\"geometry\\\": {\\\"type\\\": \\\"Point\\\", \\\"coordinates\\\": [-74.0060152, 40.7127281]}}, {\\\"id\\\": \\\"260\\\", \\\"type\\\": \\\"Feature\\\", \\\"properties\\\": {\\\"date\\\": \\\"2015-06-06\\\", \\\"location\\\": \\\"St. Anthony of Padua Church Wilmington, Delaware\\\", \\\"stanza\\\": -0.043, \\\"subjectivity\\\": 0.505, \\\"textblob\\\": 0.182, \\\"title\\\": \\\"Beau_Biden_Eulogy\\\", \\\"vader\\\": 1.0}, \\\"geometry\\\": null}, {\\\"id\\\": \\\"261\\\", \\\"type\\\": \\\"Feature\\\", \\\"properties\\\": {\\\"date\\\": \\\"2005-10-25\\\", \\\"location\\\": \\\"Washington D.C.\\\", \\\"stanza\\\": -0.125, \\\"subjectivity\\\": 0.437, \\\"textblob\\\": 0.09, \\\"title\\\": \\\"Rosa_Parks\\\", \\\"vader\\\": 0.994}, \\\"geometry\\\": {\\\"type\\\": \\\"Point\\\", \\\"coordinates\\\": [-77.0365427, 38.8950368]}}, {\\\"id\\\": \\\"262\\\", \\\"type\\\": \\\"Feature\\\", \\\"properties\\\": {\\\"date\\\": \\\"2015-01-12\\\", \\\"location\\\": \\\"Constitution Center, Washington D.C.\\\", \\\"stanza\\\": -0.05, \\\"subjectivity\\\": 0.424, \\\"textblob\\\": 0.164, \\\"title\\\": \\\"FTC_2014\\\", \\\"vader\\\": 1.0}, \\\"geometry\\\": {\\\"type\\\": \\\"Point\\\", \\\"coordinates\\\": [-77.02024483028318, 38.884087050000005]}}, {\\\"id\\\": \\\"263\\\", \\\"type\\\": \\\"Feature\\\", \\\"properties\\\": {\\\"date\\\": \\\"2009-06-05\\\", \\\"location\\\": \\\"Normandy, France\\\", \\\"stanza\\\": -0.103, \\\"subjectivity\\\": 0.438, \\\"textblob\\\": 0.079, \\\"title\\\": \\\"DDay_65\\\", \\\"vader\\\": -0.892}, \\\"geometry\\\": {\\\"type\\\": \\\"Point\\\", \\\"coordinates\\\": [0.3138532, 49.0677708]}}, {\\\"id\\\": \\\"264\\\", \\\"type\\\": \\\"Feature\\\", \\\"properties\\\": {\\\"date\\\": \\\"2010-04-09\\\", \\\"location\\\": \\\"unknown_location\\\", \\\"stanza\\\": -0.038, \\\"subjectivity\\\": 0.458, \\\"textblob\\\": 0.041, \\\"title\\\": \\\"Justice_Stevens_and_West_Virginia_Mining_Tragedy\\\", \\\"vader\\\": 1.0}, \\\"geometry\\\": {\\\"type\\\": \\\"Point\\\", \\\"coordinates\\\": [36.7416612, -0.9999454]}}, {\\\"id\\\": \\\"265\\\", \\\"type\\\": \\\"Feature\\\", \\\"properties\\\": {\\\"date\\\": \\\"2014-09-10\\\", \\\"location\\\": \\\"unknown_location\\\", \\\"stanza\\\": -0.055, \\\"subjectivity\\\": 0.371, \\\"textblob\\\": 0.123, \\\"title\\\": \\\"ISIL_\\\", \\\"vader\\\": 0.991}, \\\"geometry\\\": {\\\"type\\\": \\\"Point\\\", \\\"coordinates\\\": [36.7416612, -0.9999454]}}, {\\\"id\\\": \\\"266\\\", \\\"type\\\": \\\"Feature\\\", \\\"properties\\\": {\\\"date\\\": \\\"2013-08-28\\\", \\\"location\\\": \\\"Lincoln Memorial, Washington D.C.\\\", \\\"stanza\\\": -0.165, \\\"subjectivity\\\": 0.452, \\\"textblob\\\": 0.158, \\\"title\\\": \\\"Let_Freedom_Ring_Ceremony\\\", \\\"vader\\\": 1.0}, \\\"geometry\\\": {\\\"type\\\": \\\"Point\\\", \\\"coordinates\\\": [-77.05017197314066, 38.889212150000006]}}, {\\\"id\\\": \\\"267\\\", \\\"type\\\": \\\"Feature\\\", \\\"properties\\\": {\\\"date\\\": \\\"2011-02-10\\\", \\\"location\\\": \\\"Northern Michigan University, Marquette, Michigan\\\", \\\"stanza\\\": -0.004, \\\"subjectivity\\\": 0.428, \\\"textblob\\\": 0.198, \\\"title\\\": \\\"National_Wireless_Initiative\\\", \\\"vader\\\": 1.0}, \\\"geometry\\\": {\\\"type\\\": \\\"Point\\\", \\\"coordinates\\\": [-87.41048112721177, 46.56132435]}}, {\\\"id\\\": \\\"268\\\", \\\"type\\\": \\\"Feature\\\", \\\"properties\\\": {\\\"date\\\": \\\"2010-03-03\\\", \\\"location\\\": \\\"White House, Washington D.C.\\\", \\\"stanza\\\": -0.194, \\\"subjectivity\\\": 0.445, \\\"textblob\\\": 0.131, \\\"title\\\": \\\"Congress_Call_Health_Care_Reform\\\", \\\"vader\\\": 0.999}, \\\"geometry\\\": {\\\"type\\\": \\\"Point\\\", \\\"coordinates\\\": [-77.03655315, 38.8976997]}}, {\\\"id\\\": \\\"269\\\", \\\"type\\\": \\\"Feature\\\", \\\"properties\\\": {\\\"date\\\": \\\"2011-05-19\\\", \\\"location\\\": \\\"State Department, Washington D.C.\\\", \\\"stanza\\\": -0.18, \\\"subjectivity\\\": 0.451, \\\"textblob\\\": 0.114, \\\"title\\\": \\\"Middle_East_Diplomacy\\\", \\\"vader\\\": 1.0}, \\\"geometry\\\": {\\\"type\\\": \\\"Point\\\", \\\"coordinates\\\": [-77.048475023766, 38.89450485]}}, {\\\"id\\\": \\\"270\\\", \\\"type\\\": \\\"Feature\\\", \\\"properties\\\": {\\\"date\\\": \\\"2015-12-10\\\", \\\"location\\\": \\\"Eisenhower Building, Washington D.C.\\\", \\\"stanza\\\": 0.078, \\\"subjectivity\\\": 0.533, \\\"textblob\\\": 0.219, \\\"title\\\": \\\"Every_Student_Succeeds_Signing\\\", \\\"vader\\\": 1.0}, \\\"geometry\\\": {\\\"type\\\": \\\"Point\\\", \\\"coordinates\\\": [-77.03868249285715, 38.8975537]}}, {\\\"id\\\": \\\"271\\\", \\\"type\\\": \\\"Feature\\\", \\\"properties\\\": {\\\"date\\\": \\\"2011-04-27\\\", \\\"location\\\": \\\"Washington D.C.\\\", \\\"stanza\\\": -0.179, \\\"subjectivity\\\": 0.55, \\\"textblob\\\": 0.205, \\\"title\\\": \\\"Birth_Certificate_Release\\\", \\\"vader\\\": 0.99}, \\\"geometry\\\": {\\\"type\\\": \\\"Point\\\", \\\"coordinates\\\": [-77.0365427, 38.8950368]}}, {\\\"id\\\": \\\"272\\\", \\\"type\\\": \\\"Feature\\\", \\\"properties\\\": {\\\"date\\\": \\\"2009-01-20\\\", \\\"location\\\": \\\"U.S. Capitol Western Front, Washington D.C.\\\", \\\"stanza\\\": -0.133, \\\"subjectivity\\\": 0.478, \\\"textblob\\\": 0.081, \\\"title\\\": \\\"Inaugural_Address\\\", \\\"vader\\\": 1.0}, \\\"geometry\\\": null}, {\\\"id\\\": \\\"273\\\", \\\"type\\\": \\\"Feature\\\", \\\"properties\\\": {\\\"date\\\": \\\"2009-11-10\\\", \\\"location\\\": \\\"Fort Hood, Texas\\\", \\\"stanza\\\": -0.009, \\\"subjectivity\\\": 0.457, \\\"textblob\\\": 0.146, \\\"title\\\": \\\"Fort_Hoot_Memorial\\\", \\\"vader\\\": 1.0}, \\\"geometry\\\": {\\\"type\\\": \\\"Point\\\", \\\"coordinates\\\": [-97.7084250211076, 31.2012636]}}, {\\\"id\\\": \\\"274\\\", \\\"type\\\": \\\"Feature\\\", \\\"properties\\\": {\\\"date\\\": \\\"2016-09-11\\\", \\\"location\\\": \\\"Arlington, Virginia\\\", \\\"stanza\\\": 0.083, \\\"subjectivity\\\": 0.574, \\\"textblob\\\": 0.243, \\\"title\\\": \\\"911_After_15_Years\\\", \\\"vader\\\": 1.0}, \\\"geometry\\\": {\\\"type\\\": \\\"Point\\\", \\\"coordinates\\\": [-77.0841585, 38.8903961]}}, {\\\"id\\\": \\\"275\\\", \\\"type\\\": \\\"Feature\\\", \\\"properties\\\": {\\\"date\\\": \\\"2012-07-23\\\", \\\"location\\\": \\\"Reno, Nevada\\\", \\\"stanza\\\": -0.008, \\\"subjectivity\\\": 0.418, \\\"textblob\\\": 0.183, \\\"title\\\": \\\"VFW_2012\\\", \\\"vader\\\": 1.0}, \\\"geometry\\\": {\\\"type\\\": \\\"Point\\\", \\\"coordinates\\\": [-119.8126581, 39.5261206]}}, {\\\"id\\\": \\\"276\\\", \\\"type\\\": \\\"Feature\\\", \\\"properties\\\": {\\\"date\\\": \\\"2010-06-09\\\", \\\"location\\\": \\\"unknown_location\\\", \\\"stanza\\\": -0.309, \\\"subjectivity\\\": 0.444, \\\"textblob\\\": 0.122, \\\"title\\\": \\\"UN_Iran_Sanctions\\\", \\\"vader\\\": 0.998}, \\\"geometry\\\": {\\\"type\\\": \\\"Point\\\", \\\"coordinates\\\": [36.7416612, -0.9999454]}}, {\\\"id\\\": \\\"277\\\", \\\"type\\\": \\\"Feature\\\", \\\"properties\\\": {\\\"date\\\": \\\"2009-09-08\\\", \\\"location\\\": \\\"Arlington, Virginia\\\", \\\"stanza\\\": -0.159, \\\"subjectivity\\\": 0.472, \\\"textblob\\\": 0.159, \\\"title\\\": \\\"Wakefield_Back_to_High_School\\\", \\\"vader\\\": 1.0}, \\\"geometry\\\": {\\\"type\\\": \\\"Point\\\", \\\"coordinates\\\": [-77.0841585, 38.8903961]}}, {\\\"id\\\": \\\"278\\\", \\\"type\\\": \\\"Feature\\\", \\\"properties\\\": {\\\"date\\\": \\\"2010-03-21\\\", \\\"location\\\": \\\"unknown_location\\\", \\\"stanza\\\": -0.186, \\\"subjectivity\\\": 0.456, \\\"textblob\\\": 0.131, \\\"title\\\": \\\"Health_Care_Bill_Passage\\\", \\\"vader\\\": 0.998}, \\\"geometry\\\": {\\\"type\\\": \\\"Point\\\", \\\"coordinates\\\": [36.7416612, -0.9999454]}}, {\\\"id\\\": \\\"279\\\", \\\"type\\\": \\\"Feature\\\", \\\"properties\\\": {\\\"date\\\": \\\"2016-05-27\\\", \\\"location\\\": \\\"Hiroshima, Japan\\\", \\\"stanza\\\": -0.146, \\\"subjectivity\\\": 0.522, \\\"textblob\\\": 0.122, \\\"title\\\": \\\"Hiroshima_Peace_Memorial_Address\\\", \\\"vader\\\": -0.998}, \\\"geometry\\\": {\\\"type\\\": \\\"Point\\\", \\\"coordinates\\\": [132.4518156, 34.3916058]}}, {\\\"id\\\": \\\"280\\\", \\\"type\\\": \\\"Feature\\\", \\\"properties\\\": {\\\"date\\\": \\\"2012-09-25\\\", \\\"location\\\": \\\"unknown_location\\\", \\\"stanza\\\": -0.052, \\\"subjectivity\\\": 0.46, \\\"textblob\\\": 0.145, \\\"title\\\": \\\"Clinton_Global_Initiative_Human_Trafficking\\\", \\\"vader\\\": 1.0}, \\\"geometry\\\": {\\\"type\\\": \\\"Point\\\", \\\"coordinates\\\": [36.7416612, -0.9999454]}}, {\\\"id\\\": \\\"281\\\", \\\"type\\\": \\\"Feature\\\", \\\"properties\\\": {\\\"date\\\": \\\"2013-04-19\\\", \\\"location\\\": \\\"unknown_location\\\", \\\"stanza\\\": -0.088, \\\"subjectivity\\\": 0.535, \\\"textblob\\\": 0.129, \\\"title\\\": \\\"Boston_Marathon_Bombing_Third_Statement\\\", \\\"vader\\\": 0.994}, \\\"geometry\\\": {\\\"type\\\": \\\"Point\\\", \\\"coordinates\\\": [36.7416612, -0.9999454]}}, {\\\"id\\\": \\\"282\\\", \\\"type\\\": \\\"Feature\\\", \\\"properties\\\": {\\\"date\\\": \\\"2012-09-06\\\", \\\"location\\\": \\\"Charlotte, North Carolina\\\", \\\"stanza\\\": -0.169, \\\"subjectivity\\\": 0.435, \\\"textblob\\\": 0.139, \\\"title\\\": \\\"Second_Democratic_Nomination_Acceptance\\\", \\\"vader\\\": 1.0}, \\\"geometry\\\": {\\\"type\\\": \\\"Point\\\", \\\"coordinates\\\": [-80.8430827, 35.2272086]}}, {\\\"id\\\": \\\"283\\\", \\\"type\\\": \\\"Feature\\\", \\\"properties\\\": {\\\"date\\\": \\\"2016-09-30\\\", \\\"location\\\": \\\"Mount Herzl, Jerusalem, Israel\\\", \\\"stanza\\\": -0.083, \\\"subjectivity\\\": 0.436, \\\"textblob\\\": 0.164, \\\"title\\\": \\\"Shimon_Peres_Memorial\\\", \\\"vader\\\": 1.0}, \\\"geometry\\\": {\\\"type\\\": \\\"Point\\\", \\\"coordinates\\\": [35.181634190650314, 31.77236115]}}, {\\\"id\\\": \\\"284\\\", \\\"type\\\": \\\"Feature\\\", \\\"properties\\\": {\\\"date\\\": \\\"2015-11-21\\\", \\\"location\\\": \\\"Shangri-La Hotel, Kuala Lumpur, Malaysia\\\", \\\"stanza\\\": -0.05, \\\"subjectivity\\\": 0.399, \\\"textblob\\\": 0.164, \\\"title\\\": \\\"ASEAN_Business_2015\\\", \\\"vader\\\": 1.0}, \\\"geometry\\\": {\\\"type\\\": \\\"Point\\\", \\\"coordinates\\\": [101.7064587, 3.1541698]}}, {\\\"id\\\": \\\"285\\\", \\\"type\\\": \\\"Feature\\\", \\\"properties\\\": {\\\"date\\\": \\\"2010-01-14\\\", \\\"location\\\": \\\"unknown_location\\\", \\\"stanza\\\": -0.412, \\\"subjectivity\\\": 0.436, \\\"textblob\\\": 0.08, \\\"title\\\": \\\"Finance_Crisis_Fee\\\", \\\"vader\\\": 0.987}, \\\"geometry\\\": {\\\"type\\\": \\\"Point\\\", \\\"coordinates\\\": [36.7416612, -0.9999454]}}, {\\\"id\\\": \\\"286\\\", \\\"type\\\": \\\"Feature\\\", \\\"properties\\\": {\\\"date\\\": \\\"2015-12-06\\\", \\\"location\\\": \\\"White House, Washington D.C.\\\", \\\"stanza\\\": -0.134, \\\"subjectivity\\\": 0.398, \\\"textblob\\\": 0.076, \\\"title\\\": \\\"Oval_Office_Counter_Terrorism_Agenda\\\", \\\"vader\\\": -1.0}, \\\"geometry\\\": {\\\"type\\\": \\\"Point\\\", \\\"coordinates\\\": [-77.03655315, 38.8976997]}}, {\\\"id\\\": \\\"287\\\", \\\"type\\\": \\\"Feature\\\", \\\"properties\\\": {\\\"date\\\": \\\"2010-05-01\\\", \\\"location\\\": \\\"unknown_location\\\", \\\"stanza\\\": -0.152, \\\"subjectivity\\\": 0.496, \\\"textblob\\\": 0.121, \\\"title\\\": \\\"Michigan_University_Commencement\\\", \\\"vader\\\": 1.0}, \\\"geometry\\\": {\\\"type\\\": \\\"Point\\\", \\\"coordinates\\\": [36.7416612, -0.9999454]}}]}\",\"selected\":{\"id\":\"1043\"},\"selection_policy\":{\"id\":\"1042\"}},\"id\":\"1003\",\"type\":\"GeoJSONDataSource\"},{\"attributes\":{},\"id\":\"1042\",\"type\":\"UnionRenderers\"}],\"root_ids\":[\"1007\"]},\"title\":\"Bokeh Application\",\"version\":\"2.4.3\"}};\n",
       "  const render_items = [{\"docid\":\"20e19e65-4855-45bf-bdf1-fbf548fb8195\",\"root_ids\":[\"1007\"],\"roots\":{\"1007\":\"0d045720-5cc4-4c29-8a2c-6896e5f4ee7c\"}}];\n",
       "  root.Bokeh.embed.embed_items_notebook(docs_json, render_items);\n",
       "  }\n",
       "  if (root.Bokeh !== undefined) {\n",
       "    embed_document(root);\n",
       "  } else {\n",
       "    let attempts = 0;\n",
       "    const timer = setInterval(function(root) {\n",
       "      if (root.Bokeh !== undefined) {\n",
       "        clearInterval(timer);\n",
       "        embed_document(root);\n",
       "      } else {\n",
       "        attempts++;\n",
       "        if (attempts > 100) {\n",
       "          clearInterval(timer);\n",
       "          console.log(\"Bokeh: ERROR: Unable to run BokehJS code because BokehJS library is missing\");\n",
       "        }\n",
       "      }\n",
       "    }, 10, root)\n",
       "  }\n",
       "})(window);"
      ],
      "application/vnd.bokehjs_exec.v0+json": ""
     },
     "metadata": {
      "application/vnd.bokehjs_exec.v0+json": {
       "id": "1007"
      }
     },
     "output_type": "display_data"
    }
   ],
   "source": [
    "color_mapper = LinearColorMapper(palette = brewer['RdBu'][10], low = 0, high = 1)\n",
    "color_bar = ColorBar(color_mapper=color_mapper, label_standoff=8,width = 500, height = 20,\n",
    "                     border_line_color=None,location = (0,0), orientation = 'horizontal')\n",
    "hover = HoverTool(tooltips = [ ('Speech', '@title'), ('Date','@date'),\n",
    "                               ('Location','@location'),\n",
    "                               ('Stanza','@stanza'),\n",
    "                              ('TextBlob', '@textblob'),\n",
    "                              ('Vader', '@vader'),\n",
    "                              ('Subjectivity', '@subjectivity')\n",
    "                             ])\n",
    "p = figure(title=\"Sentiment Analysis on Obama's Speeches\", tools=[hover])\n",
    "p.patches(\"xs\",\"ys\",source=gdf_geojson,\n",
    "          fill_color = {'field' :'subjectivity', 'transform' : color_mapper})\n",
    "p.add_layout(color_bar, 'below')\n",
    "show(p)"
   ]
  },
  {
   "cell_type": "code",
   "execution_count": null,
   "id": "f88aab5d-7597-4bcc-a01f-1f2ed78e1215",
   "metadata": {},
   "outputs": [],
   "source": []
  }
 ],
 "metadata": {
  "kernelspec": {
   "display_name": "Python 3 (ipykernel)",
   "language": "python",
   "name": "python3"
  },
  "language_info": {
   "codemirror_mode": {
    "name": "ipython",
    "version": 3
   },
   "file_extension": ".py",
   "mimetype": "text/x-python",
   "name": "python",
   "nbconvert_exporter": "python",
   "pygments_lexer": "ipython3",
   "version": "3.9.7"
  }
 },
 "nbformat": 4,
 "nbformat_minor": 5
}
