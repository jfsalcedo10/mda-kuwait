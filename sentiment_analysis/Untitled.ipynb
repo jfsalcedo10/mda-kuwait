{
 "cells": [
  {
   "cell_type": "code",
   "execution_count": 1,
   "id": "f61e8542-c77b-4d0c-a39c-c8c48618f129",
   "metadata": {},
   "outputs": [],
   "source": [
    "from pathlib import Path\n",
    "from vaderSentiment.vaderSentiment import SentimentIntensityAnalyzer\n",
    "from textblob import TextBlob\n",
    "from datetime import datetime\n",
    "import os\n",
    "import sys\n",
    "import csv\n",
    "import re\n",
    "import stanza\n",
    "import pandas as pd\n",
    "import numpy as np\n",
    "import plotly\n",
    "\n",
    "# Basic paths\n",
    "src_path = str(Path.cwd().parent / \"pdfs\")\n",
    "sys.path.append(src_path)\n",
    "src_path = str(Path.cwd().parent / \"src\")\n",
    "sys.path.append(src_path)\n",
    "\n",
    "project_path = Path().resolve().parent\n",
    "csv_path = project_path / \"speeches_csv\"\n",
    "sa_path = project_path / \"sentiment_analysis\" #changed name"
   ]
  },
  {
   "cell_type": "code",
   "execution_count": null,
   "id": "f6b8ca50-0a6a-401f-84ad-5b881f3341b9",
   "metadata": {},
   "outputs": [],
   "source": []
  }
 ],
 "metadata": {
  "kernelspec": {
   "display_name": "Python 3 (ipykernel)",
   "language": "python",
   "name": "python3"
  },
  "language_info": {
   "codemirror_mode": {
    "name": "ipython",
    "version": 3
   },
   "file_extension": ".py",
   "mimetype": "text/x-python",
   "name": "python",
   "nbconvert_exporter": "python",
   "pygments_lexer": "ipython3",
   "version": "3.9.7"
  }
 },
 "nbformat": 4,
 "nbformat_minor": 5
}
